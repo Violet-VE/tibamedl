{
  "nbformat": 4,
  "nbformat_minor": 0,
  "metadata": {
    "colab": {
      "name": "Demo20200321.ipynb",
      "provenance": [],
      "collapsed_sections": []
    },
    "kernelspec": {
      "name": "python3",
      "display_name": "Python 3"
    }
  },
  "cells": [
    {
      "cell_type": "code",
      "metadata": {
        "id": "5Wqmayixw-0u",
        "colab_type": "code",
        "colab": {}
      },
      "source": [
        ""
      ],
      "execution_count": 0,
      "outputs": []
    },
    {
      "cell_type": "markdown",
      "metadata": {
        "id": "97xQZaMvxXHV",
        "colab_type": "text"
      },
      "source": [
        "## 0314 作業\n",
        "- 有一糖尿病資料集 (X: 'Pregnancies', 'Glucose', 'BloodPressure', 'SkinThickness', 'Insulin', 'BMI', 'DiabetesPedigreeFunction', 'Age' ;目標y: outcome),請使用以下方法建立模型,並且比較個模型的準確度\n",
        "\n",
        "- 使用sklearn 的決策樹建立分類模型\n",
        "- 使用sklearn 的邏輯式回歸建立分類模型\n",
        "- 使用ANN 的類神經網路建立分類模型\n",
        "- 比較各模型的準確度"
      ]
    },
    {
      "cell_type": "code",
      "metadata": {
        "id": "eOZVEK8wxoRD",
        "colab_type": "code",
        "colab": {}
      },
      "source": [
        "names= ['David', 'John', 'Marry']\n",
        "height = [180,175, 165]\n",
        "weight = [80,75, 50]\n",
        "\n",
        "\n",
        "import numpy \n",
        "nh = numpy.array(height)\n",
        "nw = numpy.array(weight)\n"
      ],
      "execution_count": 0,
      "outputs": []
    },
    {
      "cell_type": "code",
      "metadata": {
        "id": "R4_U8NEuyDNC",
        "colab_type": "code",
        "colab": {
          "base_uri": "https://localhost:8080/",
          "height": 35
        },
        "outputId": "6d45c82d-2333-4eb5-a3db-22466eb8638c"
      },
      "source": [
        "bmi = nw / (nh / 100) ** 2\n",
        "bmi"
      ],
      "execution_count": 4,
      "outputs": [
        {
          "output_type": "execute_result",
          "data": {
            "text/plain": [
              "array([24.69135802, 24.48979592, 18.36547291])"
            ]
          },
          "metadata": {
            "tags": []
          },
          "execution_count": 4
        }
      ]
    },
    {
      "cell_type": "code",
      "metadata": {
        "id": "mNG4QogpyTMw",
        "colab_type": "code",
        "colab": {
          "base_uri": "https://localhost:8080/",
          "height": 35
        },
        "outputId": "9151c50d-235f-4724-a44b-21727a6df20c"
      },
      "source": [
        "nn = numpy.array(names)\n",
        "nn"
      ],
      "execution_count": 5,
      "outputs": [
        {
          "output_type": "execute_result",
          "data": {
            "text/plain": [
              "array(['David', 'John', 'Marry'], dtype='<U5')"
            ]
          },
          "metadata": {
            "tags": []
          },
          "execution_count": 5
        }
      ]
    },
    {
      "cell_type": "code",
      "metadata": {
        "id": "Xc1yji-AybtK",
        "colab_type": "code",
        "colab": {
          "base_uri": "https://localhost:8080/",
          "height": 69
        },
        "outputId": "3632a336-8e7d-462a-d068-be0936cbaa70"
      },
      "source": [
        "numpy.column_stack((nn, bmi))"
      ],
      "execution_count": 12,
      "outputs": [
        {
          "output_type": "execute_result",
          "data": {
            "text/plain": [
              "array([['David', '24.691358024691358'],\n",
              "       ['John', '24.489795918367346'],\n",
              "       ['Marry', '18.36547291092746']], dtype='<U32')"
            ]
          },
          "metadata": {
            "tags": []
          },
          "execution_count": 12
        }
      ]
    },
    {
      "cell_type": "code",
      "metadata": {
        "id": "1cPLEB9_zJLM",
        "colab_type": "code",
        "colab": {
          "base_uri": "https://localhost:8080/",
          "height": 87
        },
        "outputId": "c76ce072-22f6-4e47-ede3-adea8eef0ffb"
      },
      "source": [
        "import pandas\n",
        "pandas.Series(bmi, index = nn)"
      ],
      "execution_count": 13,
      "outputs": [
        {
          "output_type": "execute_result",
          "data": {
            "text/plain": [
              "David    24.691358\n",
              "John     24.489796\n",
              "Marry    18.365473\n",
              "dtype: float64"
            ]
          },
          "metadata": {
            "tags": []
          },
          "execution_count": 13
        }
      ]
    },
    {
      "cell_type": "code",
      "metadata": {
        "id": "N-jfxbG2xiM3",
        "colab_type": "code",
        "colab": {}
      },
      "source": [
        "import pandas\n",
        "diabetes = pandas.read_csv('https://raw.githubusercontent.com/ywchiu/cdc_course/master/data/diabetes.csv')"
      ],
      "execution_count": 0,
      "outputs": []
    },
    {
      "cell_type": "code",
      "metadata": {
        "id": "agE_Xf8l0VRK",
        "colab_type": "code",
        "colab": {
          "base_uri": "https://localhost:8080/",
          "height": 222
        },
        "outputId": "f3e609a8-c4d9-4fca-bd72-646bd3e3423e"
      },
      "source": [
        "diabetes.head()"
      ],
      "execution_count": 15,
      "outputs": [
        {
          "output_type": "execute_result",
          "data": {
            "text/html": [
              "<div>\n",
              "<style scoped>\n",
              "    .dataframe tbody tr th:only-of-type {\n",
              "        vertical-align: middle;\n",
              "    }\n",
              "\n",
              "    .dataframe tbody tr th {\n",
              "        vertical-align: top;\n",
              "    }\n",
              "\n",
              "    .dataframe thead th {\n",
              "        text-align: right;\n",
              "    }\n",
              "</style>\n",
              "<table border=\"1\" class=\"dataframe\">\n",
              "  <thead>\n",
              "    <tr style=\"text-align: right;\">\n",
              "      <th></th>\n",
              "      <th>Pregnancies</th>\n",
              "      <th>Glucose</th>\n",
              "      <th>BloodPressure</th>\n",
              "      <th>SkinThickness</th>\n",
              "      <th>Insulin</th>\n",
              "      <th>BMI</th>\n",
              "      <th>DiabetesPedigreeFunction</th>\n",
              "      <th>Age</th>\n",
              "      <th>Outcome</th>\n",
              "    </tr>\n",
              "  </thead>\n",
              "  <tbody>\n",
              "    <tr>\n",
              "      <th>0</th>\n",
              "      <td>6</td>\n",
              "      <td>148</td>\n",
              "      <td>72</td>\n",
              "      <td>35</td>\n",
              "      <td>0</td>\n",
              "      <td>33.6</td>\n",
              "      <td>0.627</td>\n",
              "      <td>50</td>\n",
              "      <td>1</td>\n",
              "    </tr>\n",
              "    <tr>\n",
              "      <th>1</th>\n",
              "      <td>1</td>\n",
              "      <td>85</td>\n",
              "      <td>66</td>\n",
              "      <td>29</td>\n",
              "      <td>0</td>\n",
              "      <td>26.6</td>\n",
              "      <td>0.351</td>\n",
              "      <td>31</td>\n",
              "      <td>0</td>\n",
              "    </tr>\n",
              "    <tr>\n",
              "      <th>2</th>\n",
              "      <td>8</td>\n",
              "      <td>183</td>\n",
              "      <td>64</td>\n",
              "      <td>0</td>\n",
              "      <td>0</td>\n",
              "      <td>23.3</td>\n",
              "      <td>0.672</td>\n",
              "      <td>32</td>\n",
              "      <td>1</td>\n",
              "    </tr>\n",
              "    <tr>\n",
              "      <th>3</th>\n",
              "      <td>1</td>\n",
              "      <td>89</td>\n",
              "      <td>66</td>\n",
              "      <td>23</td>\n",
              "      <td>94</td>\n",
              "      <td>28.1</td>\n",
              "      <td>0.167</td>\n",
              "      <td>21</td>\n",
              "      <td>0</td>\n",
              "    </tr>\n",
              "    <tr>\n",
              "      <th>4</th>\n",
              "      <td>0</td>\n",
              "      <td>137</td>\n",
              "      <td>40</td>\n",
              "      <td>35</td>\n",
              "      <td>168</td>\n",
              "      <td>43.1</td>\n",
              "      <td>2.288</td>\n",
              "      <td>33</td>\n",
              "      <td>1</td>\n",
              "    </tr>\n",
              "  </tbody>\n",
              "</table>\n",
              "</div>"
            ],
            "text/plain": [
              "   Pregnancies  Glucose  BloodPressure  ...  DiabetesPedigreeFunction  Age  Outcome\n",
              "0            6      148             72  ...                     0.627   50        1\n",
              "1            1       85             66  ...                     0.351   31        0\n",
              "2            8      183             64  ...                     0.672   32        1\n",
              "3            1       89             66  ...                     0.167   21        0\n",
              "4            0      137             40  ...                     2.288   33        1\n",
              "\n",
              "[5 rows x 9 columns]"
            ]
          },
          "metadata": {
            "tags": []
          },
          "execution_count": 15
        }
      ]
    },
    {
      "cell_type": "code",
      "metadata": {
        "id": "M23Rjx580X4l",
        "colab_type": "code",
        "colab": {}
      },
      "source": [
        "X = diabetes.iloc[:,:-1]"
      ],
      "execution_count": 0,
      "outputs": []
    },
    {
      "cell_type": "code",
      "metadata": {
        "id": "BZY8wLg51XXm",
        "colab_type": "code",
        "colab": {}
      },
      "source": [
        "y = diabetes.iloc[:,-1]"
      ],
      "execution_count": 0,
      "outputs": []
    },
    {
      "cell_type": "markdown",
      "metadata": {
        "id": "EzVu8Q4y1kAX",
        "colab_type": "text"
      },
      "source": [
        "### 使用sklearn 的決策樹建立分類模型"
      ]
    },
    {
      "cell_type": "code",
      "metadata": {
        "id": "uba_-wQ_1Y6O",
        "colab_type": "code",
        "colab": {
          "base_uri": "https://localhost:8080/",
          "height": 121
        },
        "outputId": "7c75c516-4c13-4be8-f10f-db1682d82c78"
      },
      "source": [
        "from sklearn import tree\n",
        "clf = tree.DecisionTreeClassifier()\n",
        "clf.fit(X,y)"
      ],
      "execution_count": 20,
      "outputs": [
        {
          "output_type": "execute_result",
          "data": {
            "text/plain": [
              "DecisionTreeClassifier(ccp_alpha=0.0, class_weight=None, criterion='gini',\n",
              "                       max_depth=None, max_features=None, max_leaf_nodes=None,\n",
              "                       min_impurity_decrease=0.0, min_impurity_split=None,\n",
              "                       min_samples_leaf=1, min_samples_split=2,\n",
              "                       min_weight_fraction_leaf=0.0, presort='deprecated',\n",
              "                       random_state=None, splitter='best')"
            ]
          },
          "metadata": {
            "tags": []
          },
          "execution_count": 20
        }
      ]
    },
    {
      "cell_type": "markdown",
      "metadata": {
        "id": "PRmkTWg12Bcg",
        "colab_type": "text"
      },
      "source": [
        "### 使用sklearn 的邏輯式回歸建立分類模型"
      ]
    },
    {
      "cell_type": "code",
      "metadata": {
        "id": "_lJmarCz1aUd",
        "colab_type": "code",
        "colab": {
          "base_uri": "https://localhost:8080/",
          "height": 263
        },
        "outputId": "69d71456-d57a-4d03-b09c-8d3e6e94c9ed"
      },
      "source": [
        "from sklearn import linear_model\n",
        "clf2 = linear_model.LogisticRegression()\n",
        "clf2.fit(X,y)"
      ],
      "execution_count": 21,
      "outputs": [
        {
          "output_type": "stream",
          "text": [
            "/usr/local/lib/python3.6/dist-packages/sklearn/linear_model/_logistic.py:940: ConvergenceWarning: lbfgs failed to converge (status=1):\n",
            "STOP: TOTAL NO. of ITERATIONS REACHED LIMIT.\n",
            "\n",
            "Increase the number of iterations (max_iter) or scale the data as shown in:\n",
            "    https://scikit-learn.org/stable/modules/preprocessing.html\n",
            "Please also refer to the documentation for alternative solver options:\n",
            "    https://scikit-learn.org/stable/modules/linear_model.html#logistic-regression\n",
            "  extra_warning_msg=_LOGISTIC_SOLVER_CONVERGENCE_MSG)\n"
          ],
          "name": "stderr"
        },
        {
          "output_type": "execute_result",
          "data": {
            "text/plain": [
              "LogisticRegression(C=1.0, class_weight=None, dual=False, fit_intercept=True,\n",
              "                   intercept_scaling=1, l1_ratio=None, max_iter=100,\n",
              "                   multi_class='auto', n_jobs=None, penalty='l2',\n",
              "                   random_state=None, solver='lbfgs', tol=0.0001, verbose=0,\n",
              "                   warm_start=False)"
            ]
          },
          "metadata": {
            "tags": []
          },
          "execution_count": 21
        }
      ]
    },
    {
      "cell_type": "markdown",
      "metadata": {
        "id": "V1kg4-Wi2S8A",
        "colab_type": "text"
      },
      "source": [
        "### 使用ANN 的類神經網路建立分類模型"
      ]
    },
    {
      "cell_type": "code",
      "metadata": {
        "id": "CPZlEcAe2Akq",
        "colab_type": "code",
        "colab": {}
      },
      "source": [
        "from sklearn.preprocessing import StandardScaler\n",
        "sc = StandardScaler()\n",
        "X2 = sc.fit_transform(X)"
      ],
      "execution_count": 0,
      "outputs": []
    },
    {
      "cell_type": "code",
      "metadata": {
        "id": "73CFFMF221Nf",
        "colab_type": "code",
        "colab": {
          "base_uri": "https://localhost:8080/",
          "height": 243
        },
        "outputId": "7f53b4d6-62f7-4310-d4d7-bdbc1e30a814"
      },
      "source": [
        "X2"
      ],
      "execution_count": 23,
      "outputs": [
        {
          "output_type": "execute_result",
          "data": {
            "text/plain": [
              "array([[ 0.63994726,  0.84832379,  0.14964075, ...,  0.20401277,\n",
              "         0.46849198,  1.4259954 ],\n",
              "       [-0.84488505, -1.12339636, -0.16054575, ..., -0.68442195,\n",
              "        -0.36506078, -0.19067191],\n",
              "       [ 1.23388019,  1.94372388, -0.26394125, ..., -1.10325546,\n",
              "         0.60439732, -0.10558415],\n",
              "       ...,\n",
              "       [ 0.3429808 ,  0.00330087,  0.14964075, ..., -0.73518964,\n",
              "        -0.68519336, -0.27575966],\n",
              "       [-0.84488505,  0.1597866 , -0.47073225, ..., -0.24020459,\n",
              "        -0.37110101,  1.17073215],\n",
              "       [-0.84488505, -0.8730192 ,  0.04624525, ..., -0.20212881,\n",
              "        -0.47378505, -0.87137393]])"
            ]
          },
          "metadata": {
            "tags": []
          },
          "execution_count": 23
        }
      ]
    },
    {
      "cell_type": "code",
      "metadata": {
        "id": "Ztne4Pep22Cc",
        "colab_type": "code",
        "colab": {}
      },
      "source": [
        "# input 8\n",
        "# hidden 8 / 2 = 4\n",
        "# activation: sigmoid\n",
        "# output: Softmax => 2, sigmoid => 1 "
      ],
      "execution_count": 0,
      "outputs": []
    },
    {
      "cell_type": "code",
      "metadata": {
        "id": "AgM00c1E4nSm",
        "colab_type": "code",
        "colab": {}
      },
      "source": [
        "import numpy as np"
      ],
      "execution_count": 0,
      "outputs": []
    },
    {
      "cell_type": "code",
      "metadata": {
        "id": "4C8jBbey4n8m",
        "colab_type": "code",
        "colab": {}
      },
      "source": [
        "def softmax_function(x):\n",
        "    return np.exp(x) / np.sum(np.exp(x))\n",
        "\n",
        "def sigmoid_function(x):\n",
        "    return 1/ (1 + np.exp(-x))\n",
        "\n",
        "def dfunc(f, x):\n",
        "    h = 1e-4 \n",
        "    grad = np.zeros_like(x)\n",
        "    it = np.nditer(x, flags=['multi_index'])\n",
        "    while not it.finished:     \n",
        "        idx = it.multi_index\n",
        "        tmp_val = x[idx]\n",
        "        x[idx] = float(tmp_val) + h\n",
        "        fxh1 = f(x) # f(x+h)\n",
        "        x[idx] = tmp_val - h \n",
        "        fxh2 = f(x) # f(x-h)\n",
        "        grad[idx] = (fxh1 - fxh2) / (2*h)\n",
        "        x[idx] = tmp_val\n",
        "        it.iternext()   \n",
        "    return grad\n",
        "\n",
        "def cross_entropy_err(y_hat, y):\n",
        "    delta = 1e-8\n",
        "    return -np.sum(y*np.log(y_hat + delta))"
      ],
      "execution_count": 0,
      "outputs": []
    },
    {
      "cell_type": "code",
      "metadata": {
        "id": "xqEh9BIE4wLZ",
        "colab_type": "code",
        "colab": {}
      },
      "source": [
        "class ANN(object):\n",
        "    def __init__(self, input_size, hidden_size, output_size, weight_init_std=0.01):\n",
        "        self.params = {}\n",
        "        self.params['W1'] = weight_init_std * np.random.randn(input_size, hidden_size)\n",
        "        self.params['b1'] = np.zeros(hidden_size)\n",
        "        self.params['W2'] = weight_init_std * np.random.randn(hidden_size, output_size)\n",
        "        self.params['b2'] = np.zeros(output_size)\n",
        " \n",
        "    def predict(self, x):\n",
        "        W1, W2 = self.params['W1'], self.params['W2']\n",
        "        b1, b2 = self.params['b1'], self.params['b2']\n",
        "        a1 = np.dot(x, W1) + b1\n",
        "        z1 = sigmoid_function(a1)\n",
        "        a2 = np.dot(z1, W2) + b2\n",
        "        y = softmax_function(a2)\n",
        "        return y\n",
        "        \n",
        "    def loss(self, x, y):\n",
        "        y_hat = self.predict(x)\n",
        "        return cross_entropy_err(y_hat, y)\n",
        "        \n",
        "    def numerical_gradient(self, x, y):\n",
        "        loss_W = lambda W: self.loss(x, y)\n",
        "        grads = {}\n",
        "        grads['W1'] = dfunc(loss_W, self.params['W1'])\n",
        "        grads['b1'] = dfunc(loss_W, self.params['b1'])\n",
        "        grads['W2'] = dfunc(loss_W, self.params['W2'])\n",
        "        grads['b2'] = dfunc(loss_W, self.params['b2'])\n",
        "        return grads"
      ],
      "execution_count": 0,
      "outputs": []
    },
    {
      "cell_type": "code",
      "metadata": {
        "id": "Ps63ZAN94wwJ",
        "colab_type": "code",
        "colab": {}
      },
      "source": [
        "net = ANN(input_size=8, hidden_size=4, output_size=2)"
      ],
      "execution_count": 0,
      "outputs": []
    },
    {
      "cell_type": "code",
      "metadata": {
        "id": "jSLWLw-Z5HE6",
        "colab_type": "code",
        "colab": {
          "base_uri": "https://localhost:8080/",
          "height": 35
        },
        "outputId": "6258f346-daaf-4eb8-9311-3fc7428fc27d"
      },
      "source": [
        "X2.shape"
      ],
      "execution_count": 32,
      "outputs": [
        {
          "output_type": "execute_result",
          "data": {
            "text/plain": [
              "(768, 8)"
            ]
          },
          "metadata": {
            "tags": []
          },
          "execution_count": 32
        }
      ]
    },
    {
      "cell_type": "code",
      "metadata": {
        "id": "3FMgB5Wx5Lwo",
        "colab_type": "code",
        "colab": {}
      },
      "source": [
        "y2 = np.zeros((len(y), 2))\n",
        "for idx, val in enumerate(y):\n",
        "    y2[idx, val] = 1"
      ],
      "execution_count": 0,
      "outputs": []
    },
    {
      "cell_type": "code",
      "metadata": {
        "id": "NYadNv5f5WS_",
        "colab_type": "code",
        "colab": {
          "base_uri": "https://localhost:8080/",
          "height": 139
        },
        "outputId": "4c7d75be-b9ca-4dda-b4e2-c2f60c54bd91"
      },
      "source": [
        "y2"
      ],
      "execution_count": 35,
      "outputs": [
        {
          "output_type": "execute_result",
          "data": {
            "text/plain": [
              "array([[0., 1.],\n",
              "       [1., 0.],\n",
              "       [0., 1.],\n",
              "       ...,\n",
              "       [1., 0.],\n",
              "       [0., 1.],\n",
              "       [1., 0.]])"
            ]
          },
          "metadata": {
            "tags": []
          },
          "execution_count": 35
        }
      ]
    },
    {
      "cell_type": "code",
      "metadata": {
        "id": "caCrbXD344Q5",
        "colab_type": "code",
        "colab": {
          "base_uri": "https://localhost:8080/",
          "height": 35
        },
        "outputId": "3649e719-ba80-470b-b3b8-8d4c156edd63"
      },
      "source": [
        "import time\n",
        "epochs = 3000\n",
        "lr     = 0.01\n",
        "a = time.clock()\n",
        "train_loss = []\n",
        "for i in range(epochs):         \n",
        "    grad = net.numerical_gradient(X2,y2)\n",
        "    for key in ('W1', 'b1', 'W2', 'b2'):\n",
        "        net.params[key] = net.params[key] - lr * grad[key]\n",
        "    loss = net.loss(X2, y2)\n",
        "    train_loss.append(loss)\n",
        "time.clock() - a"
      ],
      "execution_count": 36,
      "outputs": [
        {
          "output_type": "execute_result",
          "data": {
            "text/plain": [
              "66.632683"
            ]
          },
          "metadata": {
            "tags": []
          },
          "execution_count": 36
        }
      ]
    },
    {
      "cell_type": "code",
      "metadata": {
        "id": "Zb9-Rblj49pN",
        "colab_type": "code",
        "colab": {
          "base_uri": "https://localhost:8080/",
          "height": 295
        },
        "outputId": "354cdf29-4f06-43ca-ee69-a0fdd113e551"
      },
      "source": [
        "import matplotlib.pyplot as plt\n",
        "plt.scatter(range(0,3000),train_loss)\n",
        "plt.xlabel('Iteration')\n",
        "plt.ylabel('Loss')\n",
        "plt.title('Training Loss')\n",
        "plt.show()\n"
      ],
      "execution_count": 37,
      "outputs": [
        {
          "output_type": "display_data",
          "data": {
            "image/png": "[encoded data removed]",
            "text/plain": [
              "<Figure size 432x288 with 1 Axes>"
            ]
          },
          "metadata": {
            "tags": []
          }
        }
      ]
    },
    {
      "cell_type": "code",
      "metadata": {
        "id": "eoycFJvA5wAD",
        "colab_type": "code",
        "colab": {}
      },
      "source": [
        "def mean_squared_err(y_hat, y):\n",
        "        return 0.5 * np.sum((y_hat - y) ** 2) \n",
        "\n",
        "class ANN2(object):\n",
        "    def __init__(self, input_size, hidden_size, output_size, weight_init_std=0.01):\n",
        "        self.params = {}\n",
        "        self.params['W1'] = weight_init_std * np.random.randn(input_size, hidden_size)\n",
        "        self.params['b1'] = np.zeros(hidden_size)\n",
        "        self.params['W2'] = weight_init_std * np.random.randn(hidden_size, output_size)\n",
        "        self.params['b2'] = np.zeros(output_size)\n",
        " \n",
        "    def predict(self, x):\n",
        "        W1, W2 = self.params['W1'], self.params['W2']\n",
        "        b1, b2 = self.params['b1'], self.params['b2']\n",
        "        a1 = np.dot(x, W1) + b1\n",
        "        z1 = sigmoid_function(a1)\n",
        "        a2 = np.dot(z1, W2) + b2\n",
        "        y = sigmoid_function(a2)\n",
        "        return y\n",
        "       \n",
        "    def loss(self, x, y):\n",
        "        y_hat = self.predict(x)\n",
        "        return mean_squared_err(y_hat, y)\n",
        "        \n",
        "    def numerical_gradient(self, x, y):\n",
        "        loss_W = lambda W: self.loss(x, y)\n",
        "        grads = {}\n",
        "        grads['W1'] = dfunc(loss_W, self.params['W1'])\n",
        "        grads['b1'] = dfunc(loss_W, self.params['b1'])\n",
        "        grads['W2'] = dfunc(loss_W, self.params['W2'])\n",
        "        grads['b2'] = dfunc(loss_W, self.params['b2'])\n",
        "        return grads"
      ],
      "execution_count": 0,
      "outputs": []
    },
    {
      "cell_type": "code",
      "metadata": {
        "id": "NpnRIFxf6d_e",
        "colab_type": "code",
        "colab": {}
      },
      "source": [
        "net2 = ANN2(input_size=8, hidden_size=4, output_size=1)"
      ],
      "execution_count": 0,
      "outputs": []
    },
    {
      "cell_type": "code",
      "metadata": {
        "id": "673Rf1Zv7QDO",
        "colab_type": "code",
        "colab": {
          "base_uri": "https://localhost:8080/",
          "height": 35
        },
        "outputId": "57e72d5b-0d8a-461b-d428-4aeff46870de"
      },
      "source": [
        "X2.shape"
      ],
      "execution_count": 47,
      "outputs": [
        {
          "output_type": "execute_result",
          "data": {
            "text/plain": [
              "(768, 8)"
            ]
          },
          "metadata": {
            "tags": []
          },
          "execution_count": 47
        }
      ]
    },
    {
      "cell_type": "code",
      "metadata": {
        "id": "cQCWS2qw6q3v",
        "colab_type": "code",
        "colab": {}
      },
      "source": [
        "y3 = y.values.reshape(-1,1)"
      ],
      "execution_count": 0,
      "outputs": []
    },
    {
      "cell_type": "code",
      "metadata": {
        "id": "YvqKtRK27XNi",
        "colab_type": "code",
        "colab": {
          "base_uri": "https://localhost:8080/",
          "height": 121
        },
        "outputId": "29aa8d5d-44d8-4736-a3db-249b147c5537"
      },
      "source": [
        "y.head()"
      ],
      "execution_count": 50,
      "outputs": [
        {
          "output_type": "execute_result",
          "data": {
            "text/plain": [
              "0    1\n",
              "1    0\n",
              "2    1\n",
              "3    0\n",
              "4    1\n",
              "Name: Outcome, dtype: int64"
            ]
          },
          "metadata": {
            "tags": []
          },
          "execution_count": 50
        }
      ]
    },
    {
      "cell_type": "code",
      "metadata": {
        "id": "kqy4McVC7cEq",
        "colab_type": "code",
        "colab": {
          "base_uri": "https://localhost:8080/",
          "height": 104
        },
        "outputId": "e29d371a-bf34-40cc-ff4c-e1c93eb72e48"
      },
      "source": [
        "y3[0:5,:]"
      ],
      "execution_count": 53,
      "outputs": [
        {
          "output_type": "execute_result",
          "data": {
            "text/plain": [
              "array([[1],\n",
              "       [0],\n",
              "       [1],\n",
              "       [0],\n",
              "       [1]])"
            ]
          },
          "metadata": {
            "tags": []
          },
          "execution_count": 53
        }
      ]
    },
    {
      "cell_type": "code",
      "metadata": {
        "id": "GVmVXjq47SqW",
        "colab_type": "code",
        "colab": {
          "base_uri": "https://localhost:8080/",
          "height": 35
        },
        "outputId": "46c3f28f-7b91-4086-a6d7-ef0eb7146913"
      },
      "source": [
        "y3.shape"
      ],
      "execution_count": 48,
      "outputs": [
        {
          "output_type": "execute_result",
          "data": {
            "text/plain": [
              "(768, 1)"
            ]
          },
          "metadata": {
            "tags": []
          },
          "execution_count": 48
        }
      ]
    },
    {
      "cell_type": "code",
      "metadata": {
        "id": "8j8iIvWD6iJ_",
        "colab_type": "code",
        "colab": {
          "base_uri": "https://localhost:8080/",
          "height": 35
        },
        "outputId": "17538bc5-34cf-4f40-fbaf-5f4263768764"
      },
      "source": [
        "import time\n",
        "epochs = 3000\n",
        "lr     = 0.01\n",
        "a = time.clock()\n",
        "train_loss = []\n",
        "for i in range(epochs):         \n",
        "    grad = net2.numerical_gradient(X2,y3)\n",
        "    for key in ('W1', 'b1', 'W2', 'b2'):\n",
        "        net2.params[key] = net2.params[key] - lr * grad[key]\n",
        "    loss = net2.loss(X2, y3)\n",
        "    train_loss.append(loss)\n",
        "time.clock() - a"
      ],
      "execution_count": 45,
      "outputs": [
        {
          "output_type": "execute_result",
          "data": {
            "text/plain": [
              "34.510215"
            ]
          },
          "metadata": {
            "tags": []
          },
          "execution_count": 45
        }
      ]
    },
    {
      "cell_type": "code",
      "metadata": {
        "id": "2WAnwQEC6oLY",
        "colab_type": "code",
        "colab": {
          "base_uri": "https://localhost:8080/",
          "height": 295
        },
        "outputId": "96149c7d-daa2-47dc-8adf-db8b3eac9750"
      },
      "source": [
        "import matplotlib.pyplot as plt\n",
        "plt.scatter(range(0,3000),train_loss)\n",
        "plt.xlabel('Iteration')\n",
        "plt.ylabel('Loss')\n",
        "plt.title('Training Loss')\n",
        "plt.show()\n"
      ],
      "execution_count": 46,
      "outputs": [
        {
          "output_type": "display_data",
          "data": {
            "image/png": "[encoded data removed]",
            "text/plain": [
              "<Figure size 432x288 with 1 Axes>"
            ]
          },
          "metadata": {
            "tags": []
          }
        }
      ]
    },
    {
      "cell_type": "markdown",
      "metadata": {
        "id": "hbozGwbZ7y7-",
        "colab_type": "text"
      },
      "source": [
        "### 比較各模型的準確度"
      ]
    },
    {
      "cell_type": "code",
      "metadata": {
        "id": "Fo-yaJCO7BDx",
        "colab_type": "code",
        "colab": {
          "base_uri": "https://localhost:8080/",
          "height": 121
        },
        "outputId": "c1f0830e-996c-4d72-97cb-3b01c7a1b4ed"
      },
      "source": [
        "clf"
      ],
      "execution_count": 54,
      "outputs": [
        {
          "output_type": "execute_result",
          "data": {
            "text/plain": [
              "DecisionTreeClassifier(ccp_alpha=0.0, class_weight=None, criterion='gini',\n",
              "                       max_depth=None, max_features=None, max_leaf_nodes=None,\n",
              "                       min_impurity_decrease=0.0, min_impurity_split=None,\n",
              "                       min_samples_leaf=1, min_samples_split=2,\n",
              "                       min_weight_fraction_leaf=0.0, presort='deprecated',\n",
              "                       random_state=None, splitter='best')"
            ]
          },
          "metadata": {
            "tags": []
          },
          "execution_count": 54
        }
      ]
    },
    {
      "cell_type": "code",
      "metadata": {
        "id": "9QwaRk4y72Kj",
        "colab_type": "code",
        "colab": {
          "base_uri": "https://localhost:8080/",
          "height": 35
        },
        "outputId": "e744b2c5-fd77-468b-f0b9-30f07a790029"
      },
      "source": [
        "from sklearn.metrics import accuracy_score\n",
        "predicted1 = clf.predict(X)\n",
        "(predicted1 == y).sum() / len(y)\n",
        "accuracy_score(y, predicted1)"
      ],
      "execution_count": 59,
      "outputs": [
        {
          "output_type": "execute_result",
          "data": {
            "text/plain": [
              "1.0"
            ]
          },
          "metadata": {
            "tags": []
          },
          "execution_count": 59
        }
      ]
    },
    {
      "cell_type": "code",
      "metadata": {
        "id": "eRTWnT2W74Fs",
        "colab_type": "code",
        "colab": {
          "base_uri": "https://localhost:8080/",
          "height": 104
        },
        "outputId": "1313dc4f-491d-4121-e7f4-b34f0d5203d0"
      },
      "source": [
        "clf2"
      ],
      "execution_count": 60,
      "outputs": [
        {
          "output_type": "execute_result",
          "data": {
            "text/plain": [
              "LogisticRegression(C=1.0, class_weight=None, dual=False, fit_intercept=True,\n",
              "                   intercept_scaling=1, l1_ratio=None, max_iter=100,\n",
              "                   multi_class='auto', n_jobs=None, penalty='l2',\n",
              "                   random_state=None, solver='lbfgs', tol=0.0001, verbose=0,\n",
              "                   warm_start=False)"
            ]
          },
          "metadata": {
            "tags": []
          },
          "execution_count": 60
        }
      ]
    },
    {
      "cell_type": "code",
      "metadata": {
        "id": "DY6wDQrr8NX9",
        "colab_type": "code",
        "colab": {
          "base_uri": "https://localhost:8080/",
          "height": 35
        },
        "outputId": "18dbd61e-bc3b-4993-a4f3-65ee6323c42d"
      },
      "source": [
        "from sklearn.metrics import accuracy_score\n",
        "predicted2 = clf2.predict(X)\n",
        "accuracy_score(y, predicted2)"
      ],
      "execution_count": 62,
      "outputs": [
        {
          "output_type": "execute_result",
          "data": {
            "text/plain": [
              "0.7825520833333334"
            ]
          },
          "metadata": {
            "tags": []
          },
          "execution_count": 62
        }
      ]
    },
    {
      "cell_type": "code",
      "metadata": {
        "id": "opno1eE_8RCs",
        "colab_type": "code",
        "colab": {
          "base_uri": "https://localhost:8080/",
          "height": 35
        },
        "outputId": "50eb25bc-f721-4a6a-b418-b007f5a82353"
      },
      "source": [
        "net2"
      ],
      "execution_count": 64,
      "outputs": [
        {
          "output_type": "execute_result",
          "data": {
            "text/plain": [
              "<__main__.ANN2 at 0x7f455ebef550>"
            ]
          },
          "metadata": {
            "tags": []
          },
          "execution_count": 64
        }
      ]
    },
    {
      "cell_type": "code",
      "metadata": {
        "id": "0skaNXOD8Whq",
        "colab_type": "code",
        "colab": {}
      },
      "source": [
        "predicted3 = ((net2.predict(X2) > 0.5)).astype(int)"
      ],
      "execution_count": 0,
      "outputs": []
    },
    {
      "cell_type": "code",
      "metadata": {
        "id": "v7uu0EPe8aee",
        "colab_type": "code",
        "colab": {
          "base_uri": "https://localhost:8080/",
          "height": 35
        },
        "outputId": "e2e90f1d-67db-4886-8a22-df53330310c0"
      },
      "source": [
        "accuracy_score(y3, predicted3)"
      ],
      "execution_count": 71,
      "outputs": [
        {
          "output_type": "execute_result",
          "data": {
            "text/plain": [
              "0.8177083333333334"
            ]
          },
          "metadata": {
            "tags": []
          },
          "execution_count": 71
        }
      ]
    },
    {
      "cell_type": "code",
      "metadata": {
        "id": "6OjyDiNs8wgO",
        "colab_type": "code",
        "colab": {
          "base_uri": "https://localhost:8080/",
          "height": 211
        },
        "outputId": "d40720f1-9369-47e6-d0dc-f2302e8077cb"
      },
      "source": [
        "from sklearn import neural_network\n",
        "clf3 = neural_network.MLPClassifier((4,))\n",
        "clf3.fit(X,y)"
      ],
      "execution_count": 73,
      "outputs": [
        {
          "output_type": "stream",
          "text": [
            "/usr/local/lib/python3.6/dist-packages/sklearn/neural_network/_multilayer_perceptron.py:571: ConvergenceWarning: Stochastic Optimizer: Maximum iterations (200) reached and the optimization hasn't converged yet.\n",
            "  % self.max_iter, ConvergenceWarning)\n"
          ],
          "name": "stderr"
        },
        {
          "output_type": "execute_result",
          "data": {
            "text/plain": [
              "MLPClassifier(activation='relu', alpha=0.0001, batch_size='auto', beta_1=0.9,\n",
              "              beta_2=0.999, early_stopping=False, epsilon=1e-08,\n",
              "              hidden_layer_sizes=(4,), learning_rate='constant',\n",
              "              learning_rate_init=0.001, max_fun=15000, max_iter=200,\n",
              "              momentum=0.9, n_iter_no_change=10, nesterovs_momentum=True,\n",
              "              power_t=0.5, random_state=None, shuffle=True, solver='adam',\n",
              "              tol=0.0001, validation_fraction=0.1, verbose=False,\n",
              "              warm_start=False)"
            ]
          },
          "metadata": {
            "tags": []
          },
          "execution_count": 73
        }
      ]
    },
    {
      "cell_type": "code",
      "metadata": {
        "id": "etPeqmje-D8W",
        "colab_type": "code",
        "colab": {
          "base_uri": "https://localhost:8080/",
          "height": 69
        },
        "outputId": "222a3bed-a799-419b-9223-aaf068659ff7"
      },
      "source": [
        "from sklearn.preprocessing import StandardScaler\n",
        "a = numpy.array([50,60,70,])\n",
        "sc = StandardScaler()\n",
        "sc.fit_transform(a.reshape(-1,1))"
      ],
      "execution_count": 75,
      "outputs": [
        {
          "output_type": "execute_result",
          "data": {
            "text/plain": [
              "array([[-1.22474487],\n",
              "       [ 0.        ],\n",
              "       [ 1.22474487]])"
            ]
          },
          "metadata": {
            "tags": []
          },
          "execution_count": 75
        }
      ]
    },
    {
      "cell_type": "code",
      "metadata": {
        "id": "S0hAVtekBmzS",
        "colab_type": "code",
        "colab": {
          "base_uri": "https://localhost:8080/",
          "height": 35
        },
        "outputId": "470d93d7-45e1-4222-ccc8-79964b2eb0a2"
      },
      "source": [
        "sc.mean_"
      ],
      "execution_count": 78,
      "outputs": [
        {
          "output_type": "execute_result",
          "data": {
            "text/plain": [
              "array([60.])"
            ]
          },
          "metadata": {
            "tags": []
          },
          "execution_count": 78
        }
      ]
    },
    {
      "cell_type": "code",
      "metadata": {
        "id": "3HmBjA2iBpBN",
        "colab_type": "code",
        "colab": {
          "base_uri": "https://localhost:8080/",
          "height": 35
        },
        "outputId": "694f8373-280e-4dcf-9caf-efe90acd9b8b"
      },
      "source": [
        "sc.var_"
      ],
      "execution_count": 79,
      "outputs": [
        {
          "output_type": "execute_result",
          "data": {
            "text/plain": [
              "array([66.66666667])"
            ]
          },
          "metadata": {
            "tags": []
          },
          "execution_count": 79
        }
      ]
    },
    {
      "cell_type": "code",
      "metadata": {
        "id": "pzSGGQDKBvn1",
        "colab_type": "code",
        "colab": {
          "base_uri": "https://localhost:8080/",
          "height": 35
        },
        "outputId": "a0a7ce97-d51f-4e14-b3ff-75997648ebfc"
      },
      "source": [
        "(a - sc.mean_ ) / (sc.var_ ** 0.5 )"
      ],
      "execution_count": 82,
      "outputs": [
        {
          "output_type": "execute_result",
          "data": {
            "text/plain": [
              "array([-1.22474487,  0.        ,  1.22474487])"
            ]
          },
          "metadata": {
            "tags": []
          },
          "execution_count": 82
        }
      ]
    },
    {
      "cell_type": "code",
      "metadata": {
        "id": "QWIFQ-uj9Ght",
        "colab_type": "code",
        "colab": {}
      },
      "source": [
        "b = numpy.array([[80]])"
      ],
      "execution_count": 0,
      "outputs": []
    },
    {
      "cell_type": "code",
      "metadata": {
        "id": "LrtDRUDz-UMQ",
        "colab_type": "code",
        "colab": {
          "base_uri": "https://localhost:8080/",
          "height": 35
        },
        "outputId": "d4ae3ef8-b7b6-42e2-85d0-939d63eba69c"
      },
      "source": [
        "sc.transform(b)"
      ],
      "execution_count": 77,
      "outputs": [
        {
          "output_type": "execute_result",
          "data": {
            "text/plain": [
              "array([[2.44948974]])"
            ]
          },
          "metadata": {
            "tags": []
          },
          "execution_count": 77
        }
      ]
    },
    {
      "cell_type": "code",
      "metadata": {
        "id": "kWPGxwXd-Xii",
        "colab_type": "code",
        "colab": {}
      },
      "source": [
        "10, 90 \n",
        "90%"
      ],
      "execution_count": 0,
      "outputs": []
    },
    {
      "cell_type": "markdown",
      "metadata": {
        "id": "UnCCAl3gGkPD",
        "colab_type": "text"
      },
      "source": [
        "## 反向傳播算法\n",
        "- https://www.wolframalpha.com/input/?i=derivative+1%2Fx"
      ]
    },
    {
      "cell_type": "code",
      "metadata": {
        "id": "W5gpGiQZBkmI",
        "colab_type": "code",
        "colab": {}
      },
      "source": [
        "class Relu(object):\n",
        "    def __init__(self):\n",
        "        self.cache = None\n",
        "    \n",
        "    def forward(self, x):\n",
        "        self.cache = (x <=0)\n",
        "        out = np.maximum(0,x)\n",
        "        return out\n",
        "\n",
        "    def backward(self, dout):\n",
        "        dout[self.cache] = 0\n",
        "        dx = dout\n",
        "        return dx"
      ],
      "execution_count": 0,
      "outputs": []
    },
    {
      "cell_type": "code",
      "metadata": {
        "id": "wNoTkrSbHSP0",
        "colab_type": "code",
        "colab": {
          "base_uri": "https://localhost:8080/",
          "height": 35
        },
        "outputId": "a828227a-121e-4cf0-a9b9-ae36f66427f0"
      },
      "source": [
        "a = Relu()\n",
        "print(a.cache)"
      ],
      "execution_count": 84,
      "outputs": [
        {
          "output_type": "stream",
          "text": [
            "None\n"
          ],
          "name": "stdout"
        }
      ]
    },
    {
      "cell_type": "code",
      "metadata": {
        "id": "54QmVS7UHTVU",
        "colab_type": "code",
        "colab": {
          "base_uri": "https://localhost:8080/",
          "height": 35
        },
        "outputId": "4ae8e404-cdd1-47d1-fd9c-16a45748d291"
      },
      "source": [
        "ary = numpy.array([-1,1,2])\n",
        "a.forward(ary)"
      ],
      "execution_count": 85,
      "outputs": [
        {
          "output_type": "execute_result",
          "data": {
            "text/plain": [
              "array([0, 1, 2])"
            ]
          },
          "metadata": {
            "tags": []
          },
          "execution_count": 85
        }
      ]
    },
    {
      "cell_type": "code",
      "metadata": {
        "id": "gPSb0OHsHWuA",
        "colab_type": "code",
        "colab": {
          "base_uri": "https://localhost:8080/",
          "height": 35
        },
        "outputId": "49283014-b271-4a0c-e276-ba533f6bbf4f"
      },
      "source": [
        "print(a.cache)"
      ],
      "execution_count": 86,
      "outputs": [
        {
          "output_type": "stream",
          "text": [
            "[ True False False]\n"
          ],
          "name": "stdout"
        }
      ]
    },
    {
      "cell_type": "code",
      "metadata": {
        "id": "UvLYb304Hbp5",
        "colab_type": "code",
        "colab": {
          "base_uri": "https://localhost:8080/",
          "height": 35
        },
        "outputId": "364f6126-8ead-40bb-e020-23343e08fc27"
      },
      "source": [
        "out = numpy.array([2,2,2])\n",
        "a.backward(out)"
      ],
      "execution_count": 87,
      "outputs": [
        {
          "output_type": "execute_result",
          "data": {
            "text/plain": [
              "array([0, 2, 2])"
            ]
          },
          "metadata": {
            "tags": []
          },
          "execution_count": 87
        }
      ]
    },
    {
      "cell_type": "code",
      "metadata": {
        "id": "9aPRoXLOHj2y",
        "colab_type": "code",
        "colab": {}
      },
      "source": [
        "class Sigmoid:\n",
        "    def __init__(self):\n",
        "        self.out = None\n",
        "\n",
        "    def forward(self, x):\n",
        "        out = 1/ (1 + np.exp(-x))\n",
        "        self.out = out\n",
        "        return out\n",
        "\n",
        "    def backward(self, dout):\n",
        "        y  = self.out\n",
        "        dx = dout * y * (1-y)\n",
        "        return dx"
      ],
      "execution_count": 0,
      "outputs": []
    },
    {
      "cell_type": "code",
      "metadata": {
        "id": "s3BOEzoRIrZx",
        "colab_type": "code",
        "colab": {
          "base_uri": "https://localhost:8080/",
          "height": 35
        },
        "outputId": "f73f3f29-6df7-46e6-fb76-de1d50723098"
      },
      "source": [
        "s = Sigmoid()\n",
        "print(s.out)"
      ],
      "execution_count": 89,
      "outputs": [
        {
          "output_type": "stream",
          "text": [
            "None\n"
          ],
          "name": "stdout"
        }
      ]
    },
    {
      "cell_type": "code",
      "metadata": {
        "id": "a-FfF6nFIs78",
        "colab_type": "code",
        "colab": {
          "base_uri": "https://localhost:8080/",
          "height": 35
        },
        "outputId": "fae080d7-266c-4e2d-dac9-eb580f763b20"
      },
      "source": [
        "ary = numpy.array([-1,1,2])\n",
        "s.forward(ary)"
      ],
      "execution_count": 90,
      "outputs": [
        {
          "output_type": "execute_result",
          "data": {
            "text/plain": [
              "array([0.26894142, 0.73105858, 0.88079708])"
            ]
          },
          "metadata": {
            "tags": []
          },
          "execution_count": 90
        }
      ]
    },
    {
      "cell_type": "code",
      "metadata": {
        "id": "_sUmmIRkIurE",
        "colab_type": "code",
        "colab": {
          "base_uri": "https://localhost:8080/",
          "height": 35
        },
        "outputId": "10cdf312-701e-4200-ad4b-ff128c82281b"
      },
      "source": [
        "print(s.out)"
      ],
      "execution_count": 91,
      "outputs": [
        {
          "output_type": "stream",
          "text": [
            "[0.26894142 0.73105858 0.88079708]\n"
          ],
          "name": "stdout"
        }
      ]
    },
    {
      "cell_type": "code",
      "metadata": {
        "id": "M3N-iNExIzO2",
        "colab_type": "code",
        "colab": {
          "base_uri": "https://localhost:8080/",
          "height": 35
        },
        "outputId": "7463c7cb-6a3e-45d1-808f-c8ad174a3c19"
      },
      "source": [
        "out = numpy.array([2,2,2])\n",
        "s.backward(out)"
      ],
      "execution_count": 92,
      "outputs": [
        {
          "output_type": "execute_result",
          "data": {
            "text/plain": [
              "array([0.39322387, 0.39322387, 0.20998717])"
            ]
          },
          "metadata": {
            "tags": []
          },
          "execution_count": 92
        }
      ]
    },
    {
      "cell_type": "code",
      "metadata": {
        "id": "f0z5I6vmI7Gv",
        "colab_type": "code",
        "colab": {
          "base_uri": "https://localhost:8080/",
          "height": 35
        },
        "outputId": "9d3466b5-eac7-48a0-a5a9-08ab31a8d4f8"
      },
      "source": [
        "y = s.out\n",
        "y * (1 - y) * out"
      ],
      "execution_count": 95,
      "outputs": [
        {
          "output_type": "execute_result",
          "data": {
            "text/plain": [
              "array([0.39322387, 0.39322387, 0.20998717])"
            ]
          },
          "metadata": {
            "tags": []
          },
          "execution_count": 95
        }
      ]
    },
    {
      "cell_type": "code",
      "metadata": {
        "id": "nyd1-g6CJFYE",
        "colab_type": "code",
        "colab": {}
      },
      "source": [
        "class Affine:\n",
        "    def __init__(self, W, b):\n",
        "        self.W = W\n",
        "        self.b = b\n",
        "        self.x = None\n",
        "        self.dW = None\n",
        "        self.db = None\n",
        "\n",
        "    def forward(self, x):\n",
        "        self.x = x\n",
        "        out = np.dot(self.x, self.W) + self.b\n",
        "        return out\n",
        "\n",
        "    def backward(self, dout):\n",
        "        dx = np.dot(dout, self.W.T)\n",
        "        self.dW = np.dot(self.x.T, dout)\n",
        "        self.db = np.sum(dout)\n",
        "        return dx"
      ],
      "execution_count": 0,
      "outputs": []
    },
    {
      "cell_type": "code",
      "metadata": {
        "id": "4CYjOPXDJwTx",
        "colab_type": "code",
        "colab": {}
      },
      "source": [
        "class SoftmaxWithLoss:\n",
        "    def __init__(self):\n",
        "        self.loss = None\n",
        "        self.y_hat = None \n",
        "        self.y = None \n",
        "\n",
        "    def forward(self, x, y):\n",
        "        self.y = y\n",
        "        self.y_hat = softmax_function(x)\n",
        "        self.loss = cross_entropy_err(self.y_hat, self.y)\n",
        "        return self.loss\n",
        "\n",
        "    def backward(self, dout=1):\n",
        "        batch_size = self.y.shape[0]\n",
        "        dx = (self.y_hat - self.y) / batch_size\n",
        "        return dx"
      ],
      "execution_count": 0,
      "outputs": []
    },
    {
      "cell_type": "code",
      "metadata": {
        "id": "_24b7GxmJ_K0",
        "colab_type": "code",
        "colab": {}
      },
      "source": [
        "def softmax_function(x):\n",
        "    if x.ndim == 2:\n",
        "        x = x.T\n",
        "        x = x - np.max(x, axis=0)\n",
        "        y = np.exp(x) / np.sum(np.exp(x), axis=0)\n",
        "        return y.T \n",
        "\n",
        "    x = x - np.max(x)\n",
        "    return np.exp(x) / np.sum(np.exp(x))"
      ],
      "execution_count": 0,
      "outputs": []
    },
    {
      "cell_type": "code",
      "metadata": {
        "id": "wZBCHFHIKVSy",
        "colab_type": "code",
        "colab": {}
      },
      "source": [
        "import numpy as np\n",
        "from collections import OrderedDict\n",
        "\n",
        "class ANN:\n",
        "\n",
        "    def __init__(self, input_size, hidden_size, output_size, weight_init_std = 0.01):\n",
        "        self.params = {}\n",
        "        self.params['W1'] = weight_init_std * np.random.randn(input_size, hidden_size)\n",
        "        self.params['b1'] = np.zeros(hidden_size)\n",
        "        self.params['W2'] = weight_init_std * np.random.randn(hidden_size, output_size) \n",
        "        self.params['b2'] = np.zeros(output_size)\n",
        "\n",
        "        self.layers = OrderedDict()\n",
        "        self.layers['Affine1'] = Affine(self.params['W1'], self.params['b1'])\n",
        "        self.layers['Sigmoid1'] = Sigmoid()\n",
        "        self.layers['Affine2'] = Affine(self.params['W2'], self.params['b2'])\n",
        "\n",
        "        self.lastLayer = SoftmaxWithLoss()\n",
        "        \n",
        "    def predict(self, x):\n",
        "        for layer in self.layers.values():\n",
        "            x = layer.forward(x)\n",
        "        return x\n",
        "        \n",
        "    def loss(self, x, y):\n",
        "        y_hat = self.predict(x)\n",
        "        return self.lastLayer.forward(y_hat, y)\n",
        "  \n",
        "    def gradient(self, x, y):\n",
        "        # forward\n",
        "        self.loss(x, y)\n",
        "\n",
        "        # backward\n",
        "        dout = 1\n",
        "        dout = self.lastLayer.backward(dout)\n",
        "        \n",
        "        layers = list(self.layers.values())\n",
        "        layers.reverse()\n",
        "        for layer in layers:\n",
        "            dout = layer.backward(dout)\n",
        "\n",
        "        grads = {}\n",
        "        grads['W1'], grads['b1'] = self.layers['Affine1'].dW, self.layers['Affine1'].db\n",
        "        grads['W2'], grads['b2'] = self.layers['Affine2'].dW, self.layers['Affine2'].db\n",
        "\n",
        "        return grads"
      ],
      "execution_count": 0,
      "outputs": []
    },
    {
      "cell_type": "code",
      "metadata": {
        "id": "2PMQhxV6LUPx",
        "colab_type": "code",
        "colab": {}
      },
      "source": [
        "from sklearn.datasets import load_iris\n",
        "iris = load_iris()\n",
        "x = iris.data\n",
        "y = np.zeros((len(iris.target), 3))\n",
        "for idx, val in enumerate(iris.target):\n",
        "    y[idx, val] = 1"
      ],
      "execution_count": 0,
      "outputs": []
    },
    {
      "cell_type": "code",
      "metadata": {
        "id": "0PyA8zFULd8N",
        "colab_type": "code",
        "colab": {
          "base_uri": "https://localhost:8080/",
          "height": 35
        },
        "outputId": "acfd6245-be2b-4e2a-a7b2-fc87c8a526c5"
      },
      "source": [
        "import random\n",
        "import time\n",
        "\n",
        "epochs     = 3000\n",
        "lr         = 0.01\n",
        "batch_size = 30\n",
        "\n",
        "net = ANN(input_size=4, hidden_size=5, output_size=3)\n",
        "\n",
        "t0 = time.perf_counter()\n",
        "train_loss = []\n",
        "for i in range(epochs): \n",
        "    idx = np.random.choice(iris.data.shape[0], batch_size)\n",
        "    x_batch   = iris.data[idx]\n",
        "    y_batch   = y[idx]\n",
        "    grad = net.gradient(x_batch,y_batch)\n",
        "    for key in ('W1', 'b1', 'W2', 'b2'):\n",
        "        net.params[key] -= lr * grad[key]\n",
        "    loss = net.loss(x_batch, y_batch)\n",
        "    train_loss.append(loss)\n",
        "    \n",
        "time.perf_counter() - t0"
      ],
      "execution_count": 107,
      "outputs": [
        {
          "output_type": "execute_result",
          "data": {
            "text/plain": [
              "0.7749787889997606"
            ]
          },
          "metadata": {
            "tags": []
          },
          "execution_count": 107
        }
      ]
    },
    {
      "cell_type": "code",
      "metadata": {
        "id": "OoXVOEqHL1pZ",
        "colab_type": "code",
        "colab": {
          "base_uri": "https://localhost:8080/",
          "height": 313
        },
        "outputId": "4f88ff36-136a-472a-ab72-79763ebfb814"
      },
      "source": [
        "plt.scatter(range(0,3000),train_loss)\n",
        "plt.xlabel('Iteration')\n",
        "plt.ylabel('Loss')\n",
        "plt.title('Training Loss')"
      ],
      "execution_count": 108,
      "outputs": [
        {
          "output_type": "execute_result",
          "data": {
            "text/plain": [
              "Text(0.5, 1.0, 'Training Loss')"
            ]
          },
          "metadata": {
            "tags": []
          },
          "execution_count": 108
        },
        {
          "output_type": "display_data",
          "data": {
            "image/png": "[encoded data removed]",
            "text/plain": [
              "<Figure size 432x288 with 1 Axes>"
            ]
          },
          "metadata": {
            "tags": []
          }
        }
      ]
    },
    {
      "cell_type": "code",
      "metadata": {
        "id": "vOzAaLwfMXjP",
        "colab_type": "code",
        "colab": {
          "base_uri": "https://localhost:8080/",
          "height": 35
        },
        "outputId": "b5cd3e33-5439-4063-8b78-ba557f77475f"
      },
      "source": [
        "import random\n",
        "import time\n",
        "\n",
        "epochs     = 10000\n",
        "lr         = 0.01\n",
        "batch_size = 30\n",
        "\n",
        "net = ANN(input_size=4, hidden_size=5, output_size=3)\n",
        "\n",
        "t0 = time.perf_counter()\n",
        "train_loss = []\n",
        "for i in range(epochs): \n",
        "    idx = np.random.choice(iris.data.shape[0], batch_size)\n",
        "    x_batch   = iris.data[idx]\n",
        "    y_batch   = y[idx]\n",
        "    grad = net.gradient(x_batch,y_batch)\n",
        "    for key in ('W1', 'b1', 'W2', 'b2'):\n",
        "        net.params[key] -= lr * grad[key]\n",
        "    loss = net.loss(x_batch, y_batch)\n",
        "    train_loss.append(loss)\n",
        "    \n",
        "time.perf_counter() - t0"
      ],
      "execution_count": 109,
      "outputs": [
        {
          "output_type": "execute_result",
          "data": {
            "text/plain": [
              "2.581124841000019"
            ]
          },
          "metadata": {
            "tags": []
          },
          "execution_count": 109
        }
      ]
    },
    {
      "cell_type": "code",
      "metadata": {
        "id": "qUqhdG-SMd6_",
        "colab_type": "code",
        "colab": {
          "base_uri": "https://localhost:8080/",
          "height": 313
        },
        "outputId": "0498d6b2-d03d-4b82-a63d-3256565004e7"
      },
      "source": [
        "plt.scatter(range(0,10000),train_loss)\n",
        "plt.xlabel('Iteration')\n",
        "plt.ylabel('Loss')\n",
        "plt.title('Training Loss')"
      ],
      "execution_count": 110,
      "outputs": [
        {
          "output_type": "execute_result",
          "data": {
            "text/plain": [
              "Text(0.5, 1.0, 'Training Loss')"
            ]
          },
          "metadata": {
            "tags": []
          },
          "execution_count": 110
        },
        {
          "output_type": "display_data",
          "data": {
            "image/png": "[encoded data removed]",
            "text/plain": [
              "<Figure size 432x288 with 1 Axes>"
            ]
          },
          "metadata": {
            "tags": []
          }
        }
      ]
    },
    {
      "cell_type": "code",
      "metadata": {
        "id": "1BZQo0VdMhWQ",
        "colab_type": "code",
        "colab": {}
      },
      "source": [
        "predicted = np.argmax(net.predict(x), axis = 1)"
      ],
      "execution_count": 0,
      "outputs": []
    },
    {
      "cell_type": "code",
      "metadata": {
        "id": "La6KvSVeMnCZ",
        "colab_type": "code",
        "colab": {
          "base_uri": "https://localhost:8080/",
          "height": 35
        },
        "outputId": "bcc7030f-10fe-4eca-821d-cdc8520f0814"
      },
      "source": [
        "from sklearn.metrics import accuracy_score\n",
        "accuracy_score(iris.target, predicted)"
      ],
      "execution_count": 116,
      "outputs": [
        {
          "output_type": "execute_result",
          "data": {
            "text/plain": [
              "0.98"
            ]
          },
          "metadata": {
            "tags": []
          },
          "execution_count": 116
        }
      ]
    },
    {
      "cell_type": "code",
      "metadata": {
        "id": "8jfIKSkWM0yu",
        "colab_type": "code",
        "colab": {}
      },
      "source": [
        ""
      ],
      "execution_count": 0,
      "outputs": []
    },
    {
      "cell_type": "markdown",
      "metadata": {
        "id": "uaRAQIZyRasa",
        "colab_type": "text"
      },
      "source": [
        "## 使用sklearn 建立 ANN"
      ]
    },
    {
      "cell_type": "code",
      "metadata": {
        "id": "2TgveG_oRgOP",
        "colab_type": "code",
        "colab": {
          "base_uri": "https://localhost:8080/",
          "height": 228
        },
        "outputId": "291bb03a-e4f9-45df-f508-fafb08cc1ecc"
      },
      "source": [
        "! wget https://res.cloudinary.com/enjoymovie/image/upload/w_256,h_256,c_fill,g_auto:faces/dc5r41ei2dcgwkyyoza3.jpg"
      ],
      "execution_count": 117,
      "outputs": [
        {
          "output_type": "stream",
          "text": [
            "--2020-03-21 04:07:23--  https://res.cloudinary.com/enjoymovie/image/upload/w_256,h_256,c_fill,g_auto:faces/dc5r41ei2dcgwkyyoza3.jpg\n",
            "Resolving res.cloudinary.com (res.cloudinary.com)... 151.101.1.137, 151.101.65.137, 151.101.129.137, ...\n",
            "Connecting to res.cloudinary.com (res.cloudinary.com)|151.101.1.137|:443... connected.\n",
            "HTTP request sent, awaiting response... 200 OK\n",
            "Length: 13040 (13K) [image/jpeg]\n",
            "Saving to: ‘dc5r41ei2dcgwkyyoza3.jpg’\n",
            "\n",
            "\rdc5r41ei2dcgwkyyoza   0%[                    ]       0  --.-KB/s               \rdc5r41ei2dcgwkyyoza 100%[===================>]  12.73K  --.-KB/s    in 0.007s  \n",
            "\n",
            "2020-03-21 04:07:23 (1.87 MB/s) - ‘dc5r41ei2dcgwkyyoza3.jpg’ saved [13040/13040]\n",
            "\n"
          ],
          "name": "stdout"
        }
      ]
    },
    {
      "cell_type": "code",
      "metadata": {
        "id": "9zgbv09wRmnU",
        "colab_type": "code",
        "colab": {
          "base_uri": "https://localhost:8080/",
          "height": 273
        },
        "outputId": "5282fd8e-9a52-4086-d061-f0871893240c"
      },
      "source": [
        "from PIL import Image\n",
        "img = Image.open('dc5r41ei2dcgwkyyoza3.jpg')\n",
        "img"
      ],
      "execution_count": 120,
      "outputs": [
        {
          "output_type": "execute_result",
          "data": {
            "image/png": "[encoded data removed]",
            "text/plain": [
              "<PIL.JpegImagePlugin.JpegImageFile image mode=RGB size=256x256 at 0x7F455ABEFEB8>"
            ]
          },
          "metadata": {
            "tags": []
          },
          "execution_count": 120
        }
      ]
    },
    {
      "cell_type": "code",
      "metadata": {
        "id": "JTh4_LZ_RspZ",
        "colab_type": "code",
        "colab": {}
      },
      "source": [
        "import numpy as np\n",
        "im = np.array(img)"
      ],
      "execution_count": 0,
      "outputs": []
    },
    {
      "cell_type": "code",
      "metadata": {
        "id": "15gx86XKRxe7",
        "colab_type": "code",
        "colab": {
          "base_uri": "https://localhost:8080/",
          "height": 35
        },
        "outputId": "13165e9d-b34f-4510-c4bd-3087d3e9e74e"
      },
      "source": [
        "im.shape"
      ],
      "execution_count": 123,
      "outputs": [
        {
          "output_type": "execute_result",
          "data": {
            "text/plain": [
              "(256, 256, 3)"
            ]
          },
          "metadata": {
            "tags": []
          },
          "execution_count": 123
        }
      ]
    },
    {
      "cell_type": "code",
      "metadata": {
        "id": "B3JzF-XJRyTz",
        "colab_type": "code",
        "colab": {}
      },
      "source": [
        "from sklearn.datasets import load_digits\n",
        "digits = load_digits()"
      ],
      "execution_count": 0,
      "outputs": []
    },
    {
      "cell_type": "code",
      "metadata": {
        "id": "Xxm5Z9B1SAwr",
        "colab_type": "code",
        "colab": {
          "base_uri": "https://localhost:8080/",
          "height": 139
        },
        "outputId": "87c6164f-27cb-4ce0-d965-4e7c91aa2021"
      },
      "source": [
        "digits.data"
      ],
      "execution_count": 125,
      "outputs": [
        {
          "output_type": "execute_result",
          "data": {
            "text/plain": [
              "array([[ 0.,  0.,  5., ...,  0.,  0.,  0.],\n",
              "       [ 0.,  0.,  0., ..., 10.,  0.,  0.],\n",
              "       [ 0.,  0.,  0., ..., 16.,  9.,  0.],\n",
              "       ...,\n",
              "       [ 0.,  0.,  1., ...,  6.,  0.,  0.],\n",
              "       [ 0.,  0.,  2., ..., 12.,  0.,  0.],\n",
              "       [ 0.,  0., 10., ..., 12.,  1.,  0.]])"
            ]
          },
          "metadata": {
            "tags": []
          },
          "execution_count": 125
        }
      ]
    },
    {
      "cell_type": "code",
      "metadata": {
        "id": "A0PjqPH5SCLn",
        "colab_type": "code",
        "colab": {
          "base_uri": "https://localhost:8080/",
          "height": 35
        },
        "outputId": "a5be0409-69c7-4ef2-d42f-23aefd4df82a"
      },
      "source": [
        "digits.data.shape"
      ],
      "execution_count": 126,
      "outputs": [
        {
          "output_type": "execute_result",
          "data": {
            "text/plain": [
              "(1797, 64)"
            ]
          },
          "metadata": {
            "tags": []
          },
          "execution_count": 126
        }
      ]
    },
    {
      "cell_type": "code",
      "metadata": {
        "id": "M9qXHllaSEK8",
        "colab_type": "code",
        "colab": {
          "base_uri": "https://localhost:8080/",
          "height": 104
        },
        "outputId": "4f58a44b-a5b0-479c-f362-74a40ea1221f"
      },
      "source": [
        "digits.data[0]"
      ],
      "execution_count": 127,
      "outputs": [
        {
          "output_type": "execute_result",
          "data": {
            "text/plain": [
              "array([ 0.,  0.,  5., 13.,  9.,  1.,  0.,  0.,  0.,  0., 13., 15., 10.,\n",
              "       15.,  5.,  0.,  0.,  3., 15.,  2.,  0., 11.,  8.,  0.,  0.,  4.,\n",
              "       12.,  0.,  0.,  8.,  8.,  0.,  0.,  5.,  8.,  0.,  0.,  9.,  8.,\n",
              "        0.,  0.,  4., 11.,  0.,  1., 12.,  7.,  0.,  0.,  2., 14.,  5.,\n",
              "       10., 12.,  0.,  0.,  0.,  0.,  6., 13., 10.,  0.,  0.,  0.])"
            ]
          },
          "metadata": {
            "tags": []
          },
          "execution_count": 127
        }
      ]
    },
    {
      "cell_type": "code",
      "metadata": {
        "id": "r1pFb9lhSQsW",
        "colab_type": "code",
        "colab": {}
      },
      "source": [
        "a = digits.data[0].reshape((8,8))"
      ],
      "execution_count": 0,
      "outputs": []
    },
    {
      "cell_type": "code",
      "metadata": {
        "id": "4_ziE1VnSTwe",
        "colab_type": "code",
        "colab": {
          "base_uri": "https://localhost:8080/",
          "height": 156
        },
        "outputId": "cee619e5-ddfd-433c-bbb2-7dc801c28bb8"
      },
      "source": [
        "a"
      ],
      "execution_count": 130,
      "outputs": [
        {
          "output_type": "execute_result",
          "data": {
            "text/plain": [
              "array([[ 0.,  0.,  5., 13.,  9.,  1.,  0.,  0.],\n",
              "       [ 0.,  0., 13., 15., 10., 15.,  5.,  0.],\n",
              "       [ 0.,  3., 15.,  2.,  0., 11.,  8.,  0.],\n",
              "       [ 0.,  4., 12.,  0.,  0.,  8.,  8.,  0.],\n",
              "       [ 0.,  5.,  8.,  0.,  0.,  9.,  8.,  0.],\n",
              "       [ 0.,  4., 11.,  0.,  1., 12.,  7.,  0.],\n",
              "       [ 0.,  2., 14.,  5., 10., 12.,  0.,  0.],\n",
              "       [ 0.,  0.,  6., 13., 10.,  0.,  0.,  0.]])"
            ]
          },
          "metadata": {
            "tags": []
          },
          "execution_count": 130
        }
      ]
    },
    {
      "cell_type": "code",
      "metadata": {
        "id": "FGhe6mjASWdz",
        "colab_type": "code",
        "colab": {
          "base_uri": "https://localhost:8080/",
          "height": 283
        },
        "outputId": "15ac17a9-cdba-40e9-ab93-b309784b3edf"
      },
      "source": [
        "from matplotlib import pyplot as plt\n",
        "plt.imshow(a)"
      ],
      "execution_count": 131,
      "outputs": [
        {
          "output_type": "execute_result",
          "data": {
            "text/plain": [
              "<matplotlib.image.AxesImage at 0x7f4559bba8d0>"
            ]
          },
          "metadata": {
            "tags": []
          },
          "execution_count": 131
        },
        {
          "output_type": "display_data",
          "data": {
            "image/png": "[encoded data removed]",
            "text/plain": [
              "<Figure size 432x288 with 1 Axes>"
            ]
          },
          "metadata": {
            "tags": []
          }
        }
      ]
    },
    {
      "cell_type": "code",
      "metadata": {
        "id": "4C8Hq5kzSgVi",
        "colab_type": "code",
        "colab": {
          "base_uri": "https://localhost:8080/",
          "height": 35
        },
        "outputId": "a86f5d89-ce3b-47c1-b4dc-6108b769ce64"
      },
      "source": [
        "digits.target"
      ],
      "execution_count": 132,
      "outputs": [
        {
          "output_type": "execute_result",
          "data": {
            "text/plain": [
              "array([0, 1, 2, ..., 8, 9, 8])"
            ]
          },
          "metadata": {
            "tags": []
          },
          "execution_count": 132
        }
      ]
    },
    {
      "cell_type": "code",
      "metadata": {
        "id": "mv7hxrXwSqyv",
        "colab_type": "code",
        "colab": {
          "base_uri": "https://localhost:8080/",
          "height": 610
        },
        "outputId": "c498f507-0d72-41da-ec82-caa668dc2bb0"
      },
      "source": [
        "# 畫布大小 8 * 8\n",
        "fig = plt.figure(figsize = (8,8))\n",
        "\n",
        "# 圖與圖的間距\n",
        "fig.subplots_adjust(left=0, right=1, bottom=0, top=1, hspace=0.05, wspace=0.05)\n",
        "\n",
        "# 取樣36 張圖\n",
        "for i in range(36):\n",
        "    # 每張 6 * 6 的大小\n",
        "    ax = fig.add_subplot(6, 6, i+1, xticks=[], yticks=[])\n",
        "    # 繪製灰階圖\n",
        "    ax.imshow(digits.images[i],cmap=plt.cm.binary,interpolation='nearest')\n",
        "    # 於左下標示紅色大小為20數字\n",
        "    ax.text(0, 7, str(digits.target[i]), color=\"red\", fontsize = 20)"
      ],
      "execution_count": 133,
      "outputs": [
        {
          "output_type": "display_data",
          "data": {
            "image/png": "[encoded data removed]",
            "text/plain": [
              "<Figure size 576x576 with 36 Axes>"
            ]
          },
          "metadata": {
            "tags": []
          }
        }
      ]
    },
    {
      "cell_type": "code",
      "metadata": {
        "id": "4tTcAhusSviT",
        "colab_type": "code",
        "colab": {}
      },
      "source": [
        "from sklearn.preprocessing import StandardScaler\n",
        "sc = StandardScaler()\n",
        "X_scaled = sc.fit_transform(digits.data)"
      ],
      "execution_count": 0,
      "outputs": []
    },
    {
      "cell_type": "code",
      "metadata": {
        "id": "nOE30oqHTr_E",
        "colab_type": "code",
        "colab": {
          "base_uri": "https://localhost:8080/",
          "height": 243
        },
        "outputId": "5f0cbb08-370b-4632-9f61-13656527a4f7"
      },
      "source": [
        "X_scaled"
      ],
      "execution_count": 135,
      "outputs": [
        {
          "output_type": "execute_result",
          "data": {
            "text/plain": [
              "array([[ 0.        , -0.33501649, -0.04308102, ..., -1.14664746,\n",
              "        -0.5056698 , -0.19600752],\n",
              "       [ 0.        , -0.33501649, -1.09493684, ...,  0.54856067,\n",
              "        -0.5056698 , -0.19600752],\n",
              "       [ 0.        , -0.33501649, -1.09493684, ...,  1.56568555,\n",
              "         1.6951369 , -0.19600752],\n",
              "       ...,\n",
              "       [ 0.        , -0.33501649, -0.88456568, ..., -0.12952258,\n",
              "        -0.5056698 , -0.19600752],\n",
              "       [ 0.        , -0.33501649, -0.67419451, ...,  0.8876023 ,\n",
              "        -0.5056698 , -0.19600752],\n",
              "       [ 0.        , -0.33501649,  1.00877481, ...,  0.8876023 ,\n",
              "        -0.26113572, -0.19600752]])"
            ]
          },
          "metadata": {
            "tags": []
          },
          "execution_count": 135
        }
      ]
    },
    {
      "cell_type": "code",
      "metadata": {
        "id": "3UfigaUfTtep",
        "colab_type": "code",
        "colab": {
          "base_uri": "https://localhost:8080/",
          "height": 35
        },
        "outputId": "5a36527f-41b4-4151-ee56-2f6da7f2f508"
      },
      "source": [
        "X_scaled.shape"
      ],
      "execution_count": 136,
      "outputs": [
        {
          "output_type": "execute_result",
          "data": {
            "text/plain": [
              "(1797, 64)"
            ]
          },
          "metadata": {
            "tags": []
          },
          "execution_count": 136
        }
      ]
    },
    {
      "cell_type": "code",
      "metadata": {
        "id": "8I3pcaIRTx7P",
        "colab_type": "code",
        "colab": {}
      },
      "source": [
        "from sklearn.neural_network import MLPClassifier\n",
        "?MLPClassifier"
      ],
      "execution_count": 0,
      "outputs": []
    },
    {
      "cell_type": "code",
      "metadata": {
        "id": "M6Q-JjQdT3BI",
        "colab_type": "code",
        "colab": {
          "base_uri": "https://localhost:8080/",
          "height": 156
        },
        "outputId": "950bdefe-5283-47aa-8fbc-874f8fc03476"
      },
      "source": [
        "#epoch: 1000\n",
        "#solver: stochastic gradient descent\n",
        "#input: 64 => hidden1(relu): 30 => hidden2(relu): 30 => hidden3(relu): 30 => output(softmax): 10\n",
        "\n",
        "mlp = MLPClassifier(hidden_layer_sizes=(30,30,30), \n",
        "                    activation='relu', \n",
        "                    max_iter = 1000,\n",
        "                    solver='sgd',\n",
        "                    learning_rate='constant',\n",
        "                    learning_rate_init=0.001)\n",
        "\n",
        "mlp.fit(X_scaled,digits.target)"
      ],
      "execution_count": 146,
      "outputs": [
        {
          "output_type": "execute_result",
          "data": {
            "text/plain": [
              "MLPClassifier(activation='relu', alpha=0.0001, batch_size='auto', beta_1=0.9,\n",
              "              beta_2=0.999, early_stopping=False, epsilon=1e-08,\n",
              "              hidden_layer_sizes=(30, 30, 30), learning_rate='constant',\n",
              "              learning_rate_init=0.001, max_fun=15000, max_iter=1000,\n",
              "              momentum=0.9, n_iter_no_change=10, nesterovs_momentum=True,\n",
              "              power_t=0.5, random_state=None, shuffle=True, solver='sgd',\n",
              "              tol=0.0001, validation_fraction=0.1, verbose=False,\n",
              "              warm_start=False)"
            ]
          },
          "metadata": {
            "tags": []
          },
          "execution_count": 146
        }
      ]
    },
    {
      "cell_type": "code",
      "metadata": {
        "id": "LN7aQvJeUtfz",
        "colab_type": "code",
        "colab": {
          "base_uri": "https://localhost:8080/",
          "height": 35
        },
        "outputId": "b609f067-c79f-41be-b8d4-a8dc0faae207"
      },
      "source": [
        "predicted = mlp.predict(X_scaled)\n",
        "predicted"
      ],
      "execution_count": 147,
      "outputs": [
        {
          "output_type": "execute_result",
          "data": {
            "text/plain": [
              "array([0, 1, 2, ..., 8, 9, 8])"
            ]
          },
          "metadata": {
            "tags": []
          },
          "execution_count": 147
        }
      ]
    },
    {
      "cell_type": "code",
      "metadata": {
        "id": "wXVUtUWGUz6W",
        "colab_type": "code",
        "colab": {
          "base_uri": "https://localhost:8080/",
          "height": 35
        },
        "outputId": "18230b83-ed20-4326-e64a-647887aaf401"
      },
      "source": [
        "from sklearn.metrics import accuracy_score\n",
        "accuracy_score(digits.target, predicted)"
      ],
      "execution_count": 148,
      "outputs": [
        {
          "output_type": "execute_result",
          "data": {
            "text/plain": [
              "0.9977740678909294"
            ]
          },
          "metadata": {
            "tags": []
          },
          "execution_count": 148
        }
      ]
    },
    {
      "cell_type": "code",
      "metadata": {
        "id": "EvVohuewU7PC",
        "colab_type": "code",
        "colab": {
          "base_uri": "https://localhost:8080/",
          "height": 610
        },
        "outputId": "aae070c9-47db-4975-94a4-bdd4dbc462db"
      },
      "source": [
        "fig = plt.figure(figsize = (8,8))\n",
        "fig.subplots_adjust(left=0, right=1, bottom=0, top=1, hspace=0.05, wspace=0.05)\n",
        "for i in range(36):\n",
        "    ax = fig.add_subplot(6, 6, i+1, xticks=[], yticks=[])\n",
        "    ax.imshow(digits.images[i],cmap=plt.cm.binary,interpolation='nearest')\n",
        "    ax.text(0, 7, str('{}-{}'.format(digits.target[i],predicted[i])), color=\"red\", fontsize = 20)"
      ],
      "execution_count": 149,
      "outputs": [
        {
          "output_type": "display_data",
          "data": {
            "image/png": "[encoded data removed]",
            "text/plain": [
              "<Figure size 576x576 with 36 Axes>"
            ]
          },
          "metadata": {
            "tags": []
          }
        }
      ]
    },
    {
      "cell_type": "code",
      "metadata": {
        "id": "S-9LdCAJU-Si",
        "colab_type": "code",
        "colab": {
          "base_uri": "https://localhost:8080/",
          "height": 228
        },
        "outputId": "825ecec0-d49a-49c4-bd54-7a273b501aed"
      },
      "source": [
        "! wget https://raw.githubusercontent.com/ywchiu/tibamedl/master/Data/unknown_digits.bmp"
      ],
      "execution_count": 150,
      "outputs": [
        {
          "output_type": "stream",
          "text": [
            "--2020-03-21 04:26:19--  https://raw.githubusercontent.com/ywchiu/tibamedl/master/Data/unknown_digits.bmp\n",
            "Resolving raw.githubusercontent.com (raw.githubusercontent.com)... 151.101.0.133, 151.101.64.133, 151.101.128.133, ...\n",
            "Connecting to raw.githubusercontent.com (raw.githubusercontent.com)|151.101.0.133|:443... connected.\n",
            "HTTP request sent, awaiting response... 200 OK\n",
            "Length: 150 [image/bmp]\n",
            "Saving to: ‘unknown_digits.bmp’\n",
            "\n",
            "\runknown_digits.bmp    0%[                    ]       0  --.-KB/s               \runknown_digits.bmp  100%[===================>]     150  --.-KB/s    in 0s      \n",
            "\n",
            "2020-03-21 04:26:20 (31.7 MB/s) - ‘unknown_digits.bmp’ saved [150/150]\n",
            "\n"
          ],
          "name": "stdout"
        }
      ]
    },
    {
      "cell_type": "code",
      "metadata": {
        "id": "8xjd12l-V3q0",
        "colab_type": "code",
        "colab": {}
      },
      "source": [
        "im = numpy.array(Image.open('unknown_digits.bmp'))"
      ],
      "execution_count": 0,
      "outputs": []
    },
    {
      "cell_type": "code",
      "metadata": {
        "id": "kHg-injbV_iB",
        "colab_type": "code",
        "colab": {
          "base_uri": "https://localhost:8080/",
          "height": 87
        },
        "outputId": "2f03771d-a421-4fa7-cf43-18386c9f8813"
      },
      "source": [
        "im2 = (15 - im).reshape(64,)\n",
        "im2"
      ],
      "execution_count": 156,
      "outputs": [
        {
          "output_type": "execute_result",
          "data": {
            "text/plain": [
              "array([ 0,  0,  0,  0,  0,  0,  0,  0,  0,  0, 15,  0, 15,  0,  0,  0,  0,\n",
              "        0, 15,  0, 15,  0,  0,  0,  0, 15, 15,  0, 15,  0,  0,  0,  0, 15,\n",
              "        0,  0, 15,  0,  0,  0, 15, 15, 15, 15, 15, 15, 15,  0,  0,  0,  0,\n",
              "        0, 15,  0,  0,  0,  0,  0,  0,  0, 15,  0,  0,  0], dtype=uint8)"
            ]
          },
          "metadata": {
            "tags": []
          },
          "execution_count": 156
        }
      ]
    },
    {
      "cell_type": "code",
      "metadata": {
        "id": "0HGmmexFV__u",
        "colab_type": "code",
        "colab": {}
      },
      "source": [
        "src = sc.transform([im2])"
      ],
      "execution_count": 0,
      "outputs": []
    },
    {
      "cell_type": "code",
      "metadata": {
        "id": "RqK1bSE8X27k",
        "colab_type": "code",
        "colab": {
          "base_uri": "https://localhost:8080/",
          "height": 399
        },
        "outputId": "d7118851-a0e9-4f6e-f4ef-9689fb682790"
      },
      "source": [
        "src"
      ],
      "execution_count": 167,
      "outputs": [
        {
          "output_type": "execute_result",
          "data": {
            "text/plain": [
              "array([[ 0.00000000e+00, -3.35016487e-01, -1.09493684e+00,\n",
              "        -2.78643746e+00, -2.76424203e+00, -1.02065685e+00,\n",
              "        -4.09723921e-01, -1.25022923e-01, -5.90775571e-02,\n",
              "        -6.24009262e-01,  8.51981802e-01, -3.01259995e+00,\n",
              "         9.87303977e-01, -1.35109507e+00, -5.14991458e-01,\n",
              "        -1.30433381e-01, -4.46250733e-02, -7.27646281e-01,\n",
              "         8.95880438e-01, -1.20543167e+00,  1.27989088e+00,\n",
              "        -1.25998248e+00, -5.48805463e-01, -1.14221844e-01,\n",
              "        -3.33797263e-02,  3.98337420e+00,  9.54513151e-01,\n",
              "        -1.49990136e+00,  8.24810596e-01, -1.28625035e+00,\n",
              "        -6.28895882e-01, -4.72323823e-02,  0.00000000e+00,\n",
              "         3.63871114e+00, -1.21260656e+00, -1.44763006e+00,\n",
              "         7.92062324e-01, -1.48986148e+00, -8.22694515e-01,\n",
              "         0.00000000e+00,  1.03283569e+02,  4.50060728e+00,\n",
              "         1.24209958e+00,  1.20688552e+00,  1.17098727e+00,\n",
              "         1.18784054e+00,  2.66613420e+00, -8.87416172e-02,\n",
              "        -3.54332626e-02, -4.03574986e-01, -1.33033057e+00,\n",
              "        -1.82551805e+00,  1.05342397e+00, -1.45261152e+00,\n",
              "        -7.57435810e-01, -2.09785127e-01, -2.35964589e-02,\n",
              "        -2.99081347e-01, -1.08938309e+00, -2.76417101e+00,\n",
              "         6.46898245e-01, -1.14664746e+00, -5.05669803e-01,\n",
              "        -1.96007519e-01]])"
            ]
          },
          "metadata": {
            "tags": []
          },
          "execution_count": 167
        }
      ]
    },
    {
      "cell_type": "code",
      "metadata": {
        "id": "LWgWdw7AWMuh",
        "colab_type": "code",
        "colab": {
          "base_uri": "https://localhost:8080/",
          "height": 35
        },
        "outputId": "f7b97020-f1d4-4295-a20b-5d18f1a8bae8"
      },
      "source": [
        "mlp.predict(src)"
      ],
      "execution_count": 162,
      "outputs": [
        {
          "output_type": "execute_result",
          "data": {
            "text/plain": [
              "array([4])"
            ]
          },
          "metadata": {
            "tags": []
          },
          "execution_count": 162
        }
      ]
    },
    {
      "cell_type": "code",
      "metadata": {
        "id": "nnL0rMitWa4a",
        "colab_type": "code",
        "colab": {
          "base_uri": "https://localhost:8080/",
          "height": 416
        },
        "outputId": "e0458e02-7a3d-4837-8989-6fe6183d006e"
      },
      "source": [
        "mlp.get_params()"
      ],
      "execution_count": 163,
      "outputs": [
        {
          "output_type": "execute_result",
          "data": {
            "text/plain": [
              "{'activation': 'relu',\n",
              " 'alpha': 0.0001,\n",
              " 'batch_size': 'auto',\n",
              " 'beta_1': 0.9,\n",
              " 'beta_2': 0.999,\n",
              " 'early_stopping': False,\n",
              " 'epsilon': 1e-08,\n",
              " 'hidden_layer_sizes': (30, 30, 30),\n",
              " 'learning_rate': 'constant',\n",
              " 'learning_rate_init': 0.001,\n",
              " 'max_fun': 15000,\n",
              " 'max_iter': 1000,\n",
              " 'momentum': 0.9,\n",
              " 'n_iter_no_change': 10,\n",
              " 'nesterovs_momentum': True,\n",
              " 'power_t': 0.5,\n",
              " 'random_state': None,\n",
              " 'shuffle': True,\n",
              " 'solver': 'sgd',\n",
              " 'tol': 0.0001,\n",
              " 'validation_fraction': 0.1,\n",
              " 'verbose': False,\n",
              " 'warm_start': False}"
            ]
          },
          "metadata": {
            "tags": []
          },
          "execution_count": 163
        }
      ]
    },
    {
      "cell_type": "code",
      "metadata": {
        "id": "Nu11IBYqWgEc",
        "colab_type": "code",
        "colab": {
          "base_uri": "https://localhost:8080/",
          "height": 35
        },
        "outputId": "dd558665-eb7b-4b24-9653-ac0e6225c52f"
      },
      "source": [
        "mlp.coefs_[0].shape"
      ],
      "execution_count": 166,
      "outputs": [
        {
          "output_type": "execute_result",
          "data": {
            "text/plain": [
              "(64, 30)"
            ]
          },
          "metadata": {
            "tags": []
          },
          "execution_count": 166
        }
      ]
    },
    {
      "cell_type": "code",
      "metadata": {
        "id": "5aOKqNcmYDdc",
        "colab_type": "code",
        "colab": {
          "base_uri": "https://localhost:8080/",
          "height": 35
        },
        "outputId": "b97b8bfa-a5e2-4c77-e6d0-e8645a0617cd"
      },
      "source": [
        "from joblib import dump, load\n",
        "dump(mlp, 'mlp.joblib') "
      ],
      "execution_count": 168,
      "outputs": [
        {
          "output_type": "execute_result",
          "data": {
            "text/plain": [
              "['mlp.joblib']"
            ]
          },
          "metadata": {
            "tags": []
          },
          "execution_count": 168
        }
      ]
    },
    {
      "cell_type": "code",
      "metadata": {
        "id": "V7zYAuu5YNTb",
        "colab_type": "code",
        "colab": {}
      },
      "source": [
        "clf2 = load('mlp.joblib') "
      ],
      "execution_count": 0,
      "outputs": []
    },
    {
      "cell_type": "markdown",
      "metadata": {
        "id": "wV8pHsMKXYdX",
        "colab_type": "text"
      },
      "source": [
        "## 請使用 MLPClassfier 建立 iris 預測模型"
      ]
    },
    {
      "cell_type": "code",
      "metadata": {
        "id": "mlzjAY6XWohH",
        "colab_type": "code",
        "colab": {}
      },
      "source": [
        ""
      ],
      "execution_count": 0,
      "outputs": []
    }
  ]
}