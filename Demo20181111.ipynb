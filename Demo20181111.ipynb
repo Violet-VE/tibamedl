{
 "cells": [
  {
   "cell_type": "code",
   "execution_count": 10,
   "metadata": {},
   "outputs": [],
   "source": [
    "from  PIL import Image\n",
    "img = Image.open('bw.jpg').convert('L')   "
   ]
  },
  {
   "cell_type": "code",
   "execution_count": 14,
   "metadata": {},
   "outputs": [],
   "source": [
    "#img"
   ]
  },
  {
   "cell_type": "code",
   "execution_count": 12,
   "metadata": {},
   "outputs": [
    {
     "name": "stdout",
     "output_type": "stream",
     "text": [
      "<class 'PIL.Image.Image'> 0 255\n"
     ]
    }
   ],
   "source": [
    "import numpy as np\n",
    "print(type(img), np.min(img), np.max(img))"
   ]
  },
  {
   "cell_type": "code",
   "execution_count": 13,
   "metadata": {},
   "outputs": [
    {
     "data": {
      "text/plain": [
       "(397, 600)"
      ]
     },
     "execution_count": 13,
     "metadata": {},
     "output_type": "execute_result"
    }
   ],
   "source": [
    "img = np.array(img) \n",
    "img.shape"
   ]
  },
  {
   "cell_type": "code",
   "execution_count": 9,
   "metadata": {},
   "outputs": [
    {
     "data": {
      "text/plain": [
       "array([[29, 31, 33, ..., 20, 20, 20],\n",
       "       [30, 31, 33, ..., 20, 20, 20],\n",
       "       [32, 32, 34, ..., 20, 20, 20],\n",
       "       ...,\n",
       "       [34, 33, 33, ..., 81, 80, 78],\n",
       "       [29, 29, 28, ..., 77, 74, 71],\n",
       "       [27, 27, 27, ..., 73, 69, 66]], dtype=uint8)"
      ]
     },
     "execution_count": 9,
     "metadata": {},
     "output_type": "execute_result"
    }
   ],
   "source": [
    "img"
   ]
  },
  {
   "cell_type": "code",
   "execution_count": 15,
   "metadata": {},
   "outputs": [],
   "source": [
    "from  PIL import Image\n",
    "img = Image.open('color.jpg')"
   ]
  },
  {
   "cell_type": "code",
   "execution_count": 17,
   "metadata": {},
   "outputs": [],
   "source": [
    "#img"
   ]
  },
  {
   "cell_type": "code",
   "execution_count": 18,
   "metadata": {},
   "outputs": [
    {
     "name": "stdout",
     "output_type": "stream",
     "text": [
      "<class 'PIL.JpegImagePlugin.JpegImageFile'> 0 255\n"
     ]
    }
   ],
   "source": [
    "import numpy as np\n",
    "print(type(img), np.min(img), np.max(img))"
   ]
  },
  {
   "cell_type": "code",
   "execution_count": 19,
   "metadata": {},
   "outputs": [
    {
     "data": {
      "text/plain": [
       "(822, 600, 3)"
      ]
     },
     "execution_count": 19,
     "metadata": {},
     "output_type": "execute_result"
    }
   ],
   "source": [
    "img = np.array(img) \n",
    "img.shape"
   ]
  },
  {
   "cell_type": "markdown",
   "metadata": {},
   "source": [
    "## IM2COL"
   ]
  },
  {
   "cell_type": "code",
   "execution_count": 23,
   "metadata": {},
   "outputs": [],
   "source": [
    "def im2col(input_data, filter_h, filter_w, stride=1, pad=0):\n",
    "    N, C, H, W = input_data.shape\n",
    "    out_h = (H + 2*pad - filter_h)//stride + 1\n",
    "    out_w = (W + 2*pad - filter_w)//stride + 1\n",
    "\n",
    "    img = np.pad(input_data, [(0,0), (0,0), (pad, pad), (pad, pad)], 'constant')\n",
    "    col = np.zeros((N, C, filter_h, filter_w, out_h, out_w))\n",
    "\n",
    "    for y in range(filter_h):\n",
    "        y_max = y + stride*out_h\n",
    "        for x in range(filter_w):\n",
    "            x_max = x + stride*out_w\n",
    "            col[:, :, y, x, :, :] = img[:, :, y:y_max:stride, x:x_max:stride]\n",
    "\n",
    "    col = col.transpose(0, 4, 5, 1, 2, 3).reshape(N*out_h*out_w, -1)\n",
    "    return col\n",
    "    \n"
   ]
  },
  {
   "cell_type": "code",
   "execution_count": 24,
   "metadata": {},
   "outputs": [
    {
     "data": {
      "text/plain": [
       "(1, 3, 7, 7)"
      ]
     },
     "execution_count": 24,
     "metadata": {},
     "output_type": "execute_result"
    }
   ],
   "source": [
    "import numpy as np\n",
    "x1 = np.random.rand(1,3,7,7)\n",
    "x1.shape"
   ]
  },
  {
   "cell_type": "code",
   "execution_count": 25,
   "metadata": {},
   "outputs": [
    {
     "data": {
      "text/plain": [
       "(9, 75)"
      ]
     },
     "execution_count": 25,
     "metadata": {},
     "output_type": "execute_result"
    }
   ],
   "source": [
    "col1 = im2col(x1, 5, 5,stride=1, pad = 0)\n",
    "col1.shape"
   ]
  },
  {
   "cell_type": "markdown",
   "metadata": {},
   "source": [
    "## 使用ANN 辨識手寫數字"
   ]
  },
  {
   "cell_type": "code",
   "execution_count": 26,
   "metadata": {},
   "outputs": [
    {
     "name": "stderr",
     "output_type": "stream",
     "text": [
      "C:\\ProgramData\\Anaconda3_2\\lib\\site-packages\\h5py\\__init__.py:36: FutureWarning: Conversion of the second argument of issubdtype from `float` to `np.floating` is deprecated. In future, it will be treated as `np.float64 == np.dtype(float).type`.\n",
      "  from ._conv import register_converters as _register_converters\n",
      "Using TensorFlow backend.\n"
     ]
    }
   ],
   "source": [
    "import keras"
   ]
  },
  {
   "cell_type": "code",
   "execution_count": 27,
   "metadata": {},
   "outputs": [],
   "source": [
    "from keras.datasets import mnist\n",
    "from keras.models import Sequential\n",
    "from keras.optimizers import SGD\n",
    "from keras.layers import Activation, Dense"
   ]
  },
  {
   "cell_type": "code",
   "execution_count": 33,
   "metadata": {},
   "outputs": [],
   "source": [
    "(x_train, y_train), (x_test, y_test) = mnist.load_data()"
   ]
  },
  {
   "cell_type": "code",
   "execution_count": 34,
   "metadata": {},
   "outputs": [
    {
     "data": {
      "text/plain": [
       "(60000, 28, 28)"
      ]
     },
     "execution_count": 34,
     "metadata": {},
     "output_type": "execute_result"
    }
   ],
   "source": [
    "x_train.shape"
   ]
  },
  {
   "cell_type": "code",
   "execution_count": 35,
   "metadata": {},
   "outputs": [
    {
     "data": {
      "text/plain": [
       "(10000, 28, 28)"
      ]
     },
     "execution_count": 35,
     "metadata": {},
     "output_type": "execute_result"
    }
   ],
   "source": [
    "x_test.shape"
   ]
  },
  {
   "cell_type": "code",
   "execution_count": 36,
   "metadata": {},
   "outputs": [],
   "source": [
    "x_train = x_train.reshape(60000, 784)\n",
    "x_test  = x_test.reshape(10000, 784)"
   ]
  },
  {
   "cell_type": "code",
   "execution_count": 37,
   "metadata": {},
   "outputs": [
    {
     "data": {
      "text/plain": [
       "(60000, 784)"
      ]
     },
     "execution_count": 37,
     "metadata": {},
     "output_type": "execute_result"
    }
   ],
   "source": [
    "x_train.shape"
   ]
  },
  {
   "cell_type": "code",
   "execution_count": 38,
   "metadata": {},
   "outputs": [
    {
     "data": {
      "text/plain": [
       "(10000, 784)"
      ]
     },
     "execution_count": 38,
     "metadata": {},
     "output_type": "execute_result"
    }
   ],
   "source": [
    "x_test.shape"
   ]
  },
  {
   "cell_type": "code",
   "execution_count": 39,
   "metadata": {},
   "outputs": [],
   "source": [
    "x_train = x_train.astype('float32')\n",
    "x_test  = x_test.astype('float32')\n",
    "x_train /= 255\n",
    "x_test  /= 255"
   ]
  },
  {
   "cell_type": "code",
   "execution_count": 40,
   "metadata": {},
   "outputs": [],
   "source": [
    "n_classes  = 10 \n",
    "y_train = keras.utils.to_categorical(y_train, n_classes)\n",
    "y_test  = keras.utils.to_categorical(y_test, n_classes)"
   ]
  },
  {
   "cell_type": "code",
   "execution_count": 41,
   "metadata": {},
   "outputs": [],
   "source": [
    "n_hidden_1 = 256 \n",
    "n_hidden_2 = 256 \n",
    "n_input    = 784 \n",
    "n_classes  = 10 \n",
    "\n",
    "training_epochs = 15\n",
    "batch_size = 100"
   ]
  },
  {
   "cell_type": "code",
   "execution_count": 42,
   "metadata": {},
   "outputs": [],
   "source": [
    "model = keras.Sequential()\n",
    "model.add(Dense(n_hidden_1, activation='relu', input_shape=(n_input,)))\n",
    "model.add(Dense(n_hidden_2, activation='relu'))\n",
    "model.add(Dense(n_classes, activation='softmax'))"
   ]
  },
  {
   "cell_type": "code",
   "execution_count": 43,
   "metadata": {},
   "outputs": [],
   "source": [
    "model.compile(loss='categorical_crossentropy',\n",
    "              optimizer='adam',\n",
    "              metrics=['accuracy'])"
   ]
  },
  {
   "cell_type": "code",
   "execution_count": 44,
   "metadata": {},
   "outputs": [
    {
     "name": "stdout",
     "output_type": "stream",
     "text": [
      "Train on 60000 samples, validate on 10000 samples\n",
      "Epoch 1/15\n",
      "60000/60000 [==============================] - 3s 53us/step - loss: 0.2395 - acc: 0.9291 - val_loss: 0.1064 - val_acc: 0.9690\n",
      "Epoch 2/15\n",
      "60000/60000 [==============================] - 3s 47us/step - loss: 0.0920 - acc: 0.9722 - val_loss: 0.0890 - val_acc: 0.9720\n",
      "Epoch 3/15\n",
      "60000/60000 [==============================] - 3s 46us/step - loss: 0.0602 - acc: 0.9815 - val_loss: 0.0708 - val_acc: 0.9764\n",
      "Epoch 4/15\n",
      "60000/60000 [==============================] - 3s 45us/step - loss: 0.0441 - acc: 0.9860 - val_loss: 0.0709 - val_acc: 0.9790\n",
      "Epoch 5/15\n",
      "60000/60000 [==============================] - 3s 44us/step - loss: 0.0327 - acc: 0.9893 - val_loss: 0.0778 - val_acc: 0.9774\n",
      "Epoch 6/15\n",
      "60000/60000 [==============================] - 3s 46us/step - loss: 0.0243 - acc: 0.9920 - val_loss: 0.0618 - val_acc: 0.9809\n",
      "Epoch 7/15\n",
      "60000/60000 [==============================] - 3s 48us/step - loss: 0.0217 - acc: 0.9927 - val_loss: 0.0802 - val_acc: 0.9767\n",
      "Epoch 8/15\n",
      "60000/60000 [==============================] - 3s 48us/step - loss: 0.0163 - acc: 0.9945 - val_loss: 0.0847 - val_acc: 0.9783\n",
      "Epoch 9/15\n",
      "60000/60000 [==============================] - 3s 48us/step - loss: 0.0184 - acc: 0.9937 - val_loss: 0.0720 - val_acc: 0.9811\n",
      "Epoch 10/15\n",
      "60000/60000 [==============================] - 3s 46us/step - loss: 0.0121 - acc: 0.9961 - val_loss: 0.0922 - val_acc: 0.9760\n",
      "Epoch 11/15\n",
      "60000/60000 [==============================] - 3s 45us/step - loss: 0.0121 - acc: 0.9958 - val_loss: 0.0842 - val_acc: 0.9796\n",
      "Epoch 12/15\n",
      "60000/60000 [==============================] - 3s 47us/step - loss: 0.0115 - acc: 0.9963 - val_loss: 0.0888 - val_acc: 0.9776\n",
      "Epoch 13/15\n",
      "60000/60000 [==============================] - 3s 46us/step - loss: 0.0129 - acc: 0.9960 - val_loss: 0.0866 - val_acc: 0.9796\n",
      "Epoch 14/15\n",
      "60000/60000 [==============================] - 3s 46us/step - loss: 0.0114 - acc: 0.9963 - val_loss: 0.0829 - val_acc: 0.9812\n",
      "Epoch 15/15\n",
      "60000/60000 [==============================] - 3s 48us/step - loss: 0.0091 - acc: 0.9972 - val_loss: 0.0885 - val_acc: 0.9814\n"
     ]
    }
   ],
   "source": [
    "history = model.fit(x_train, y_train,\n",
    "                    batch_size=batch_size,\n",
    "                    epochs=training_epochs,\n",
    "                    verbose=1,\n",
    "                    validation_data=(x_test, y_test))"
   ]
  },
  {
   "cell_type": "markdown",
   "metadata": {},
   "source": [
    "## 使用CNN 辨識手寫數字"
   ]
  },
  {
   "cell_type": "code",
   "execution_count": 45,
   "metadata": {},
   "outputs": [],
   "source": [
    "from keras.layers import Activation, Dense, Flatten, Conv2D, MaxPooling2D"
   ]
  },
  {
   "cell_type": "markdown",
   "metadata": {},
   "source": [
    "### 資料前處理"
   ]
  },
  {
   "cell_type": "code",
   "execution_count": 46,
   "metadata": {},
   "outputs": [],
   "source": [
    "(x_train, y_train), (x_test, y_test) = mnist.load_data()"
   ]
  },
  {
   "cell_type": "code",
   "execution_count": 47,
   "metadata": {},
   "outputs": [],
   "source": [
    "x_train = x_train.reshape(60000, 28,28,1)\n",
    "x_test = x_test.reshape(10000, 28,28,1)\n",
    "x_train = x_train.astype('float32')\n",
    "x_test  = x_test.astype('float32')\n",
    "x_train /= 255\n",
    "x_test  /= 255"
   ]
  },
  {
   "cell_type": "code",
   "execution_count": 48,
   "metadata": {},
   "outputs": [],
   "source": [
    "n_classes = 10\n",
    "y_train = keras.utils.to_categorical(y_train, n_classes)\n",
    "y_test  = keras.utils.to_categorical(y_test, n_classes)"
   ]
  },
  {
   "cell_type": "markdown",
   "metadata": {},
   "source": [
    "### 設定網路參數"
   ]
  },
  {
   "cell_type": "code",
   "execution_count": 49,
   "metadata": {},
   "outputs": [],
   "source": [
    "n_hidden_1 = 256 \n",
    "n_classes  = 10 \n",
    "\n",
    "training_epochs = 15\n",
    "batch_size = 100"
   ]
  },
  {
   "cell_type": "markdown",
   "metadata": {},
   "source": [
    "### 建立卷積神經網路"
   ]
  },
  {
   "cell_type": "code",
   "execution_count": 50,
   "metadata": {},
   "outputs": [],
   "source": [
    "model = keras.Sequential()\n",
    "model.add(Conv2D(\n",
    "            filters=16,\n",
    "            kernel_size = (3,3),\n",
    "            padding = 'same',\n",
    "            input_shape = (28,28,1), \n",
    "            activation = 'relu'))\n",
    "\n",
    "model.add(MaxPooling2D(pool_size=(2,2)))\n",
    "model.add(Flatten())\n",
    "\n",
    "model.add(Dense(n_hidden_1, activation='relu'))\n",
    "model.add(Dense(n_classes, activation='softmax'))"
   ]
  },
  {
   "cell_type": "code",
   "execution_count": 51,
   "metadata": {},
   "outputs": [],
   "source": [
    "model.compile(loss='categorical_crossentropy',\n",
    "              optimizer='adam',\n",
    "              metrics=['accuracy'])"
   ]
  },
  {
   "cell_type": "markdown",
   "metadata": {},
   "source": [
    "### 訓練神經網路"
   ]
  },
  {
   "cell_type": "code",
   "execution_count": 52,
   "metadata": {},
   "outputs": [
    {
     "name": "stdout",
     "output_type": "stream",
     "text": [
      "Train on 60000 samples, validate on 10000 samples\n",
      "Epoch 1/15\n",
      "60000/60000 [==============================] - 22s 366us/step - loss: 0.2094 - acc: 0.9400 - val_loss: 0.0830 - val_acc: 0.9740\n",
      "Epoch 2/15\n",
      "60000/60000 [==============================] - 22s 362us/step - loss: 0.0676 - acc: 0.9797 - val_loss: 0.0604 - val_acc: 0.9820\n",
      "Epoch 3/15\n",
      "60000/60000 [==============================] - 22s 369us/step - loss: 0.0430 - acc: 0.9869 - val_loss: 0.0446 - val_acc: 0.9855\n",
      "Epoch 4/15\n",
      "60000/60000 [==============================] - 22s 362us/step - loss: 0.0310 - acc: 0.9910 - val_loss: 0.0529 - val_acc: 0.9823\n",
      "Epoch 5/15\n",
      "60000/60000 [==============================] - 22s 364us/step - loss: 0.0227 - acc: 0.9932 - val_loss: 0.0462 - val_acc: 0.9847\n",
      "Epoch 6/15\n",
      "60000/60000 [==============================] - 22s 362us/step - loss: 0.0165 - acc: 0.9950 - val_loss: 0.0463 - val_acc: 0.9866\n",
      "Epoch 7/15\n",
      "60000/60000 [==============================] - 22s 363us/step - loss: 0.0128 - acc: 0.9961 - val_loss: 0.0407 - val_acc: 0.9874\n",
      "Epoch 8/15\n",
      "60000/60000 [==============================] - 22s 361us/step - loss: 0.0099 - acc: 0.9969 - val_loss: 0.0422 - val_acc: 0.9863\n",
      "Epoch 9/15\n",
      "60000/60000 [==============================] - 21s 349us/step - loss: 0.0074 - acc: 0.9977 - val_loss: 0.0516 - val_acc: 0.9847\n",
      "Epoch 10/15\n",
      "60000/60000 [==============================] - 21s 356us/step - loss: 0.0062 - acc: 0.9982 - val_loss: 0.0530 - val_acc: 0.9858\n",
      "Epoch 11/15\n",
      "60000/60000 [==============================] - 22s 366us/step - loss: 0.0067 - acc: 0.9979 - val_loss: 0.0441 - val_acc: 0.9882\n",
      "Epoch 12/15\n",
      "60000/60000 [==============================] - 22s 364us/step - loss: 0.0046 - acc: 0.9986 - val_loss: 0.0512 - val_acc: 0.9870\n",
      "Epoch 13/15\n",
      "60000/60000 [==============================] - 22s 364us/step - loss: 0.0023 - acc: 0.9993 - val_loss: 0.0599 - val_acc: 0.9848\n",
      "Epoch 14/15\n",
      "60000/60000 [==============================] - 22s 366us/step - loss: 0.0064 - acc: 0.9979 - val_loss: 0.0536 - val_acc: 0.9875\n",
      "Epoch 15/15\n",
      "60000/60000 [==============================] - 22s 371us/step - loss: 0.0028 - acc: 0.9992 - val_loss: 0.0513 - val_acc: 0.9885\n"
     ]
    }
   ],
   "source": [
    "history = model.fit(x_train, y_train,\n",
    "                    batch_size=batch_size,\n",
    "                    epochs=15,\n",
    "                    verbose=1,\n",
    "                    validation_data=(x_test, y_test))"
   ]
  },
  {
   "cell_type": "code",
   "execution_count": 53,
   "metadata": {},
   "outputs": [],
   "source": [
    "model.save('OCR.hd5')"
   ]
  },
  {
   "cell_type": "code",
   "execution_count": 56,
   "metadata": {},
   "outputs": [
    {
     "name": "stdout",
     "output_type": "stream",
     "text": [
      "(3, 3, 1, 16)\n",
      "(16,)\n",
      "(3136, 256)\n",
      "(256,)\n",
      "(256, 10)\n",
      "(10,)\n"
     ]
    }
   ],
   "source": [
    "for ele in model.get_weights():\n",
    "    print(ele.shape)"
   ]
  },
  {
   "cell_type": "code",
   "execution_count": 58,
   "metadata": {},
   "outputs": [
    {
     "data": {
      "text/plain": [
       "3136"
      ]
     },
     "execution_count": 58,
     "metadata": {},
     "output_type": "execute_result"
    }
   ],
   "source": [
    "14 * 14 * 16"
   ]
  },
  {
   "cell_type": "code",
   "execution_count": 57,
   "metadata": {},
   "outputs": [
    {
     "name": "stdout",
     "output_type": "stream",
     "text": [
      "_________________________________________________________________\n",
      "Layer (type)                 Output Shape              Param #   \n",
      "=================================================================\n",
      "conv2d_1 (Conv2D)            (None, 28, 28, 16)        160       \n",
      "_________________________________________________________________\n",
      "max_pooling2d_1 (MaxPooling2 (None, 14, 14, 16)        0         \n",
      "_________________________________________________________________\n",
      "flatten_1 (Flatten)          (None, 3136)              0         \n",
      "_________________________________________________________________\n",
      "dense_4 (Dense)              (None, 256)               803072    \n",
      "_________________________________________________________________\n",
      "dense_5 (Dense)              (None, 10)                2570      \n",
      "=================================================================\n",
      "Total params: 805,802\n",
      "Trainable params: 805,802\n",
      "Non-trainable params: 0\n",
      "_________________________________________________________________\n"
     ]
    }
   ],
   "source": [
    "model.summary()"
   ]
  },
  {
   "cell_type": "code",
   "execution_count": 59,
   "metadata": {},
   "outputs": [],
   "source": [
    "from keras.models import load_model\n",
    "model2 = load_model('OCR.hd5')\n"
   ]
  },
  {
   "cell_type": "code",
   "execution_count": 61,
   "metadata": {},
   "outputs": [],
   "source": [
    "#model2.predict(x_test)"
   ]
  },
  {
   "cell_type": "code",
   "execution_count": 63,
   "metadata": {},
   "outputs": [],
   "source": [
    "from PIL import Image\n",
    "import numpy\n",
    "img  = Image.open('4.png').convert('L')\n",
    "img  = numpy.asarray(img)"
   ]
  },
  {
   "cell_type": "code",
   "execution_count": 67,
   "metadata": {},
   "outputs": [],
   "source": [
    "img2 = (255 - img) / 255"
   ]
  },
  {
   "cell_type": "markdown",
   "metadata": {},
   "source": [
    "## 明星圖像辨識"
   ]
  },
  {
   "cell_type": "code",
   "execution_count": 10,
   "metadata": {},
   "outputs": [],
   "source": [
    "#data:image/jpeg;base64,"
   ]
  },
  {
   "cell_type": "code",
   "execution_count": 8,
   "metadata": {},
   "outputs": [],
   "source": [
    "import requests\n",
    "import base64\n",
    "imgdata = b'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'\n",
    "with open(\"1.jpg\", \"wb\") as fh:\n",
    "    fh.write(base64.decodebytes(imgdata))"
   ]
  },
  {
   "cell_type": "code",
   "execution_count": 9,
   "metadata": {},
   "outputs": [
    {
     "data": {
      "image/png": "[encoded data removed]",
      "text/plain": [
       "<PIL.JpegImagePlugin.JpegImageFile image mode=RGB size=275x183 at 0x7FD8390>"
      ]
     },
     "execution_count": 9,
     "metadata": {},
     "output_type": "execute_result"
    }
   ],
   "source": [
    "from PIL import Image\n",
    "Image.open('1.jpg')"
   ]
  },
  {
   "cell_type": "code",
   "execution_count": 19,
   "metadata": {},
   "outputs": [
    {
     "data": {
      "text/plain": [
       "<Response [200]>"
      ]
     },
     "execution_count": 19,
     "metadata": {},
     "output_type": "execute_result"
    }
   ],
   "source": [
    "import requests\n",
    "res = requests.get('https://www.google.com.tw/search?ei=lqfnW4axMZLI8wX1o7T4Cw&yv=3&q={}&tbm=isch&vet=10ahUKEwiG1NOnuMveAhUS5LwKHfURDb8QuT0IgQEoAQ.lqfnW4axMZLI8wX1o7T4Cw.i&ved=0ahUKEwiG1NOnuMveAhUS5LwKHfURDb8QuT0IgQEoAQ&ijn=2&start={}&asearch=ichunk&async=_id:rg_s,_pms:s,_fmt:pc'.format('周子瑜', 200))\n",
    "res"
   ]
  },
  {
   "cell_type": "code",
   "execution_count": 20,
   "metadata": {},
   "outputs": [],
   "source": [
    "from bs4 import BeautifulSoup\n",
    "soup = BeautifulSoup(res.text, 'lxml')"
   ]
  },
  {
   "cell_type": "code",
   "execution_count": 26,
   "metadata": {},
   "outputs": [],
   "source": [
    "path = 'idol1/'\n",
    "for link in soup.select('img'):\n",
    "    res = requests.get(link.get('src'))\n",
    "    fname = path + link.get('src').split('tbn:')[1] +'.jpg'\n",
    "    with open(fname, 'wb') as f:\n",
    "        f.write(res.content)"
   ]
  },
  {
   "cell_type": "code",
   "execution_count": 27,
   "metadata": {},
   "outputs": [],
   "source": [
    "import requests\n",
    "from bs4 import BeautifulSoup\n",
    "for n in range(0,3):\n",
    "    res = requests.get('https://www.google.com.tw/search?ei=lqfnW4axMZLI8wX1o7T4Cw&yv=3&q={}&tbm=isch&vet=10ahUKEwiG1NOnuMveAhUS5LwKHfURDb8QuT0IgQEoAQ.lqfnW4axMZLI8wX1o7T4Cw.i&ved=0ahUKEwiG1NOnuMveAhUS5LwKHfURDb8QuT0IgQEoAQ&ijn=2&start={}&asearch=ichunk&async=_id:rg_s,_pms:s,_fmt:pc'.format('周子瑜', n * 100))\n",
    "    soup = BeautifulSoup(res.text, 'lxml')\n",
    "    path = 'idol1/'\n",
    "    for link in soup.select('img'):\n",
    "        res = requests.get(link.get('src'))\n",
    "        fname = path + link.get('src').split('tbn:')[1] +'.jpg'\n",
    "        with open(fname, 'wb') as f:\n",
    "            f.write(res.content)"
   ]
  },
  {
   "cell_type": "code",
   "execution_count": 29,
   "metadata": {},
   "outputs": [],
   "source": [
    "import requests\n",
    "from bs4 import BeautifulSoup\n",
    "def getIdolPicture(path, idol):\n",
    "    for n in range(0,3):\n",
    "        res = requests.get('https://www.google.com.tw/search?ei=lqfnW4axMZLI8wX1o7T4Cw&yv=3&q={}&tbm=isch&vet=10ahUKEwiG1NOnuMveAhUS5LwKHfURDb8QuT0IgQEoAQ.lqfnW4axMZLI8wX1o7T4Cw.i&ved=0ahUKEwiG1NOnuMveAhUS5LwKHfURDb8QuT0IgQEoAQ&ijn=2&start={}&asearch=ichunk&async=_id:rg_s,_pms:s,_fmt:pc'.format(idol, n * 100))\n",
    "        soup = BeautifulSoup(res.text, 'lxml')\n",
    "        #path = 'idol1/'\n",
    "        for link in soup.select('img'):\n",
    "            res = requests.get(link.get('src'))\n",
    "            fname = path + link.get('src').split('tbn:')[1] +'.jpg'\n",
    "            with open(fname, 'wb') as f:\n",
    "                f.write(res.content)"
   ]
  },
  {
   "cell_type": "code",
   "execution_count": 30,
   "metadata": {},
   "outputs": [],
   "source": [
    "getIdolPicture('idol2/', '郭雪芙')"
   ]
  },
  {
   "cell_type": "code",
   "execution_count": 31,
   "metadata": {},
   "outputs": [],
   "source": [
    "getIdolPicture('idol3/', '蔡依林')"
   ]
  },
  {
   "cell_type": "code",
   "execution_count": null,
   "metadata": {},
   "outputs": [],
   "source": []
  }
 ],
 "metadata": {
  "kernelspec": {
   "display_name": "Python 3",
   "language": "python",
   "name": "python3"
  },
  "language_info": {
   "codemirror_mode": {
    "name": "ipython",
    "version": 3
   },
   "file_extension": ".py",
   "mimetype": "text/x-python",
   "name": "python",
   "nbconvert_exporter": "python",
   "pygments_lexer": "ipython3",
   "version": "3.6.5"
  }
 },
 "nbformat": 4,
 "nbformat_minor": 2
}
