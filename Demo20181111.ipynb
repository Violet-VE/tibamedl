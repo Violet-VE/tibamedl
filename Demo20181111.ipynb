{
 "cells": [
  {
   "cell_type": "code",
   "execution_count": 10,
   "metadata": {},
   "outputs": [],
   "source": [
    "from  PIL import Image\n",
    "img = Image.open('bw.jpg').convert('L')   "
   ]
  },
  {
   "cell_type": "code",
   "execution_count": 14,
   "metadata": {},
   "outputs": [],
   "source": [
    "#img"
   ]
  },
  {
   "cell_type": "code",
   "execution_count": 12,
   "metadata": {},
   "outputs": [
    {
     "name": "stdout",
     "output_type": "stream",
     "text": [
      "<class 'PIL.Image.Image'> 0 255\n"
     ]
    }
   ],
   "source": [
    "import numpy as np\n",
    "print(type(img), np.min(img), np.max(img))"
   ]
  },
  {
   "cell_type": "code",
   "execution_count": 13,
   "metadata": {},
   "outputs": [
    {
     "data": {
      "text/plain": [
       "(397, 600)"
      ]
     },
     "execution_count": 13,
     "metadata": {},
     "output_type": "execute_result"
    }
   ],
   "source": [
    "img = np.array(img) \n",
    "img.shape"
   ]
  },
  {
   "cell_type": "code",
   "execution_count": 9,
   "metadata": {},
   "outputs": [
    {
     "data": {
      "text/plain": [
       "array([[29, 31, 33, ..., 20, 20, 20],\n",
       "       [30, 31, 33, ..., 20, 20, 20],\n",
       "       [32, 32, 34, ..., 20, 20, 20],\n",
       "       ...,\n",
       "       [34, 33, 33, ..., 81, 80, 78],\n",
       "       [29, 29, 28, ..., 77, 74, 71],\n",
       "       [27, 27, 27, ..., 73, 69, 66]], dtype=uint8)"
      ]
     },
     "execution_count": 9,
     "metadata": {},
     "output_type": "execute_result"
    }
   ],
   "source": [
    "img"
   ]
  },
  {
   "cell_type": "code",
   "execution_count": 15,
   "metadata": {},
   "outputs": [],
   "source": [
    "from  PIL import Image\n",
    "img = Image.open('color.jpg')"
   ]
  },
  {
   "cell_type": "code",
   "execution_count": 17,
   "metadata": {},
   "outputs": [],
   "source": [
    "#img"
   ]
  },
  {
   "cell_type": "code",
   "execution_count": 18,
   "metadata": {},
   "outputs": [
    {
     "name": "stdout",
     "output_type": "stream",
     "text": [
      "<class 'PIL.JpegImagePlugin.JpegImageFile'> 0 255\n"
     ]
    }
   ],
   "source": [
    "import numpy as np\n",
    "print(type(img), np.min(img), np.max(img))"
   ]
  },
  {
   "cell_type": "code",
   "execution_count": 19,
   "metadata": {},
   "outputs": [
    {
     "data": {
      "text/plain": [
       "(822, 600, 3)"
      ]
     },
     "execution_count": 19,
     "metadata": {},
     "output_type": "execute_result"
    }
   ],
   "source": [
    "img = np.array(img) \n",
    "img.shape"
   ]
  },
  {
   "cell_type": "markdown",
   "metadata": {},
   "source": [
    "## IM2COL"
   ]
  },
  {
   "cell_type": "code",
   "execution_count": 23,
   "metadata": {},
   "outputs": [],
   "source": [
    "def im2col(input_data, filter_h, filter_w, stride=1, pad=0):\n",
    "    N, C, H, W = input_data.shape\n",
    "    out_h = (H + 2*pad - filter_h)//stride + 1\n",
    "    out_w = (W + 2*pad - filter_w)//stride + 1\n",
    "\n",
    "    img = np.pad(input_data, [(0,0), (0,0), (pad, pad), (pad, pad)], 'constant')\n",
    "    col = np.zeros((N, C, filter_h, filter_w, out_h, out_w))\n",
    "\n",
    "    for y in range(filter_h):\n",
    "        y_max = y + stride*out_h\n",
    "        for x in range(filter_w):\n",
    "            x_max = x + stride*out_w\n",
    "            col[:, :, y, x, :, :] = img[:, :, y:y_max:stride, x:x_max:stride]\n",
    "\n",
    "    col = col.transpose(0, 4, 5, 1, 2, 3).reshape(N*out_h*out_w, -1)\n",
    "    return col\n",
    "    \n"
   ]
  },
  {
   "cell_type": "code",
   "execution_count": 24,
   "metadata": {},
   "outputs": [
    {
     "data": {
      "text/plain": [
       "(1, 3, 7, 7)"
      ]
     },
     "execution_count": 24,
     "metadata": {},
     "output_type": "execute_result"
    }
   ],
   "source": [
    "import numpy as np\n",
    "x1 = np.random.rand(1,3,7,7)\n",
    "x1.shape"
   ]
  },
  {
   "cell_type": "code",
   "execution_count": 25,
   "metadata": {},
   "outputs": [
    {
     "data": {
      "text/plain": [
       "(9, 75)"
      ]
     },
     "execution_count": 25,
     "metadata": {},
     "output_type": "execute_result"
    }
   ],
   "source": [
    "col1 = im2col(x1, 5, 5,stride=1, pad = 0)\n",
    "col1.shape"
   ]
  },
  {
   "cell_type": "markdown",
   "metadata": {},
   "source": [
    "## 使用ANN 辨識手寫數字"
   ]
  },
  {
   "cell_type": "code",
   "execution_count": 26,
   "metadata": {},
   "outputs": [
    {
     "name": "stderr",
     "output_type": "stream",
     "text": [
      "C:\\ProgramData\\Anaconda3_2\\lib\\site-packages\\h5py\\__init__.py:36: FutureWarning: Conversion of the second argument of issubdtype from `float` to `np.floating` is deprecated. In future, it will be treated as `np.float64 == np.dtype(float).type`.\n",
      "  from ._conv import register_converters as _register_converters\n",
      "Using TensorFlow backend.\n"
     ]
    }
   ],
   "source": [
    "import keras"
   ]
  },
  {
   "cell_type": "code",
   "execution_count": 27,
   "metadata": {},
   "outputs": [],
   "source": [
    "from keras.datasets import mnist\n",
    "from keras.models import Sequential\n",
    "from keras.optimizers import SGD\n",
    "from keras.layers import Activation, Dense"
   ]
  },
  {
   "cell_type": "code",
   "execution_count": 33,
   "metadata": {},
   "outputs": [],
   "source": [
    "(x_train, y_train), (x_test, y_test) = mnist.load_data()"
   ]
  },
  {
   "cell_type": "code",
   "execution_count": 34,
   "metadata": {},
   "outputs": [
    {
     "data": {
      "text/plain": [
       "(60000, 28, 28)"
      ]
     },
     "execution_count": 34,
     "metadata": {},
     "output_type": "execute_result"
    }
   ],
   "source": [
    "x_train.shape"
   ]
  },
  {
   "cell_type": "code",
   "execution_count": 35,
   "metadata": {},
   "outputs": [
    {
     "data": {
      "text/plain": [
       "(10000, 28, 28)"
      ]
     },
     "execution_count": 35,
     "metadata": {},
     "output_type": "execute_result"
    }
   ],
   "source": [
    "x_test.shape"
   ]
  },
  {
   "cell_type": "code",
   "execution_count": 36,
   "metadata": {},
   "outputs": [],
   "source": [
    "x_train = x_train.reshape(60000, 784)\n",
    "x_test  = x_test.reshape(10000, 784)"
   ]
  },
  {
   "cell_type": "code",
   "execution_count": 37,
   "metadata": {},
   "outputs": [
    {
     "data": {
      "text/plain": [
       "(60000, 784)"
      ]
     },
     "execution_count": 37,
     "metadata": {},
     "output_type": "execute_result"
    }
   ],
   "source": [
    "x_train.shape"
   ]
  },
  {
   "cell_type": "code",
   "execution_count": 38,
   "metadata": {},
   "outputs": [
    {
     "data": {
      "text/plain": [
       "(10000, 784)"
      ]
     },
     "execution_count": 38,
     "metadata": {},
     "output_type": "execute_result"
    }
   ],
   "source": [
    "x_test.shape"
   ]
  },
  {
   "cell_type": "code",
   "execution_count": 39,
   "metadata": {},
   "outputs": [],
   "source": [
    "x_train = x_train.astype('float32')\n",
    "x_test  = x_test.astype('float32')\n",
    "x_train /= 255\n",
    "x_test  /= 255"
   ]
  },
  {
   "cell_type": "code",
   "execution_count": 40,
   "metadata": {},
   "outputs": [],
   "source": [
    "n_classes  = 10 \n",
    "y_train = keras.utils.to_categorical(y_train, n_classes)\n",
    "y_test  = keras.utils.to_categorical(y_test, n_classes)"
   ]
  },
  {
   "cell_type": "code",
   "execution_count": 41,
   "metadata": {},
   "outputs": [],
   "source": [
    "n_hidden_1 = 256 \n",
    "n_hidden_2 = 256 \n",
    "n_input    = 784 \n",
    "n_classes  = 10 \n",
    "\n",
    "training_epochs = 15\n",
    "batch_size = 100"
   ]
  },
  {
   "cell_type": "code",
   "execution_count": 42,
   "metadata": {},
   "outputs": [],
   "source": [
    "model = keras.Sequential()\n",
    "model.add(Dense(n_hidden_1, activation='relu', input_shape=(n_input,)))\n",
    "model.add(Dense(n_hidden_2, activation='relu'))\n",
    "model.add(Dense(n_classes, activation='softmax'))"
   ]
  },
  {
   "cell_type": "code",
   "execution_count": 43,
   "metadata": {},
   "outputs": [],
   "source": [
    "model.compile(loss='categorical_crossentropy',\n",
    "              optimizer='adam',\n",
    "              metrics=['accuracy'])"
   ]
  },
  {
   "cell_type": "code",
   "execution_count": 44,
   "metadata": {},
   "outputs": [
    {
     "name": "stdout",
     "output_type": "stream",
     "text": [
      "Train on 60000 samples, validate on 10000 samples\n",
      "Epoch 1/15\n",
      "60000/60000 [==============================] - 3s 53us/step - loss: 0.2395 - acc: 0.9291 - val_loss: 0.1064 - val_acc: 0.9690\n",
      "Epoch 2/15\n",
      "60000/60000 [==============================] - 3s 47us/step - loss: 0.0920 - acc: 0.9722 - val_loss: 0.0890 - val_acc: 0.9720\n",
      "Epoch 3/15\n",
      "60000/60000 [==============================] - 3s 46us/step - loss: 0.0602 - acc: 0.9815 - val_loss: 0.0708 - val_acc: 0.9764\n",
      "Epoch 4/15\n",
      "60000/60000 [==============================] - 3s 45us/step - loss: 0.0441 - acc: 0.9860 - val_loss: 0.0709 - val_acc: 0.9790\n",
      "Epoch 5/15\n",
      "60000/60000 [==============================] - 3s 44us/step - loss: 0.0327 - acc: 0.9893 - val_loss: 0.0778 - val_acc: 0.9774\n",
      "Epoch 6/15\n",
      "60000/60000 [==============================] - 3s 46us/step - loss: 0.0243 - acc: 0.9920 - val_loss: 0.0618 - val_acc: 0.9809\n",
      "Epoch 7/15\n",
      "60000/60000 [==============================] - 3s 48us/step - loss: 0.0217 - acc: 0.9927 - val_loss: 0.0802 - val_acc: 0.9767\n",
      "Epoch 8/15\n",
      "60000/60000 [==============================] - 3s 48us/step - loss: 0.0163 - acc: 0.9945 - val_loss: 0.0847 - val_acc: 0.9783\n",
      "Epoch 9/15\n",
      "60000/60000 [==============================] - 3s 48us/step - loss: 0.0184 - acc: 0.9937 - val_loss: 0.0720 - val_acc: 0.9811\n",
      "Epoch 10/15\n",
      "60000/60000 [==============================] - 3s 46us/step - loss: 0.0121 - acc: 0.9961 - val_loss: 0.0922 - val_acc: 0.9760\n",
      "Epoch 11/15\n",
      "60000/60000 [==============================] - 3s 45us/step - loss: 0.0121 - acc: 0.9958 - val_loss: 0.0842 - val_acc: 0.9796\n",
      "Epoch 12/15\n",
      "60000/60000 [==============================] - 3s 47us/step - loss: 0.0115 - acc: 0.9963 - val_loss: 0.0888 - val_acc: 0.9776\n",
      "Epoch 13/15\n",
      "60000/60000 [==============================] - 3s 46us/step - loss: 0.0129 - acc: 0.9960 - val_loss: 0.0866 - val_acc: 0.9796\n",
      "Epoch 14/15\n",
      "60000/60000 [==============================] - 3s 46us/step - loss: 0.0114 - acc: 0.9963 - val_loss: 0.0829 - val_acc: 0.9812\n",
      "Epoch 15/15\n",
      "60000/60000 [==============================] - 3s 48us/step - loss: 0.0091 - acc: 0.9972 - val_loss: 0.0885 - val_acc: 0.9814\n"
     ]
    }
   ],
   "source": [
    "history = model.fit(x_train, y_train,\n",
    "                    batch_size=batch_size,\n",
    "                    epochs=training_epochs,\n",
    "                    verbose=1,\n",
    "                    validation_data=(x_test, y_test))"
   ]
  },
  {
   "cell_type": "markdown",
   "metadata": {},
   "source": [
    "## 使用CNN 辨識手寫數字"
   ]
  },
  {
   "cell_type": "code",
   "execution_count": 45,
   "metadata": {},
   "outputs": [],
   "source": [
    "from keras.layers import Activation, Dense, Flatten, Conv2D, MaxPooling2D"
   ]
  },
  {
   "cell_type": "markdown",
   "metadata": {},
   "source": [
    "### 資料前處理"
   ]
  },
  {
   "cell_type": "code",
   "execution_count": 46,
   "metadata": {},
   "outputs": [],
   "source": [
    "(x_train, y_train), (x_test, y_test) = mnist.load_data()"
   ]
  },
  {
   "cell_type": "code",
   "execution_count": 47,
   "metadata": {},
   "outputs": [],
   "source": [
    "x_train = x_train.reshape(60000, 28,28,1)\n",
    "x_test = x_test.reshape(10000, 28,28,1)\n",
    "x_train = x_train.astype('float32')\n",
    "x_test  = x_test.astype('float32')\n",
    "x_train /= 255\n",
    "x_test  /= 255"
   ]
  },
  {
   "cell_type": "code",
   "execution_count": 48,
   "metadata": {},
   "outputs": [],
   "source": [
    "n_classes = 10\n",
    "y_train = keras.utils.to_categorical(y_train, n_classes)\n",
    "y_test  = keras.utils.to_categorical(y_test, n_classes)"
   ]
  },
  {
   "cell_type": "markdown",
   "metadata": {},
   "source": [
    "### 設定網路參數"
   ]
  },
  {
   "cell_type": "code",
   "execution_count": 49,
   "metadata": {},
   "outputs": [],
   "source": [
    "n_hidden_1 = 256 \n",
    "n_classes  = 10 \n",
    "\n",
    "training_epochs = 15\n",
    "batch_size = 100"
   ]
  },
  {
   "cell_type": "markdown",
   "metadata": {},
   "source": [
    "### 建立卷積神經網路"
   ]
  },
  {
   "cell_type": "code",
   "execution_count": 50,
   "metadata": {},
   "outputs": [],
   "source": [
    "model = keras.Sequential()\n",
    "model.add(Conv2D(\n",
    "            filters=16,\n",
    "            kernel_size = (3,3),\n",
    "            padding = 'same',\n",
    "            input_shape = (28,28,1), \n",
    "            activation = 'relu'))\n",
    "\n",
    "model.add(MaxPooling2D(pool_size=(2,2)))\n",
    "model.add(Flatten())\n",
    "\n",
    "model.add(Dense(n_hidden_1, activation='relu'))\n",
    "model.add(Dense(n_classes, activation='softmax'))"
   ]
  },
  {
   "cell_type": "code",
   "execution_count": 51,
   "metadata": {},
   "outputs": [],
   "source": [
    "model.compile(loss='categorical_crossentropy',\n",
    "              optimizer='adam',\n",
    "              metrics=['accuracy'])"
   ]
  },
  {
   "cell_type": "markdown",
   "metadata": {},
   "source": [
    "### 訓練神經網路"
   ]
  },
  {
   "cell_type": "code",
   "execution_count": 52,
   "metadata": {},
   "outputs": [
    {
     "name": "stdout",
     "output_type": "stream",
     "text": [
      "Train on 60000 samples, validate on 10000 samples\n",
      "Epoch 1/15\n",
      "60000/60000 [==============================] - 22s 366us/step - loss: 0.2094 - acc: 0.9400 - val_loss: 0.0830 - val_acc: 0.9740\n",
      "Epoch 2/15\n",
      "60000/60000 [==============================] - 22s 362us/step - loss: 0.0676 - acc: 0.9797 - val_loss: 0.0604 - val_acc: 0.9820\n",
      "Epoch 3/15\n",
      "60000/60000 [==============================] - 22s 369us/step - loss: 0.0430 - acc: 0.9869 - val_loss: 0.0446 - val_acc: 0.9855\n",
      "Epoch 4/15\n",
      "60000/60000 [==============================] - 22s 362us/step - loss: 0.0310 - acc: 0.9910 - val_loss: 0.0529 - val_acc: 0.9823\n",
      "Epoch 5/15\n",
      "60000/60000 [==============================] - 22s 364us/step - loss: 0.0227 - acc: 0.9932 - val_loss: 0.0462 - val_acc: 0.9847\n",
      "Epoch 6/15\n",
      "60000/60000 [==============================] - 22s 362us/step - loss: 0.0165 - acc: 0.9950 - val_loss: 0.0463 - val_acc: 0.9866\n",
      "Epoch 7/15\n",
      "60000/60000 [==============================] - 22s 363us/step - loss: 0.0128 - acc: 0.9961 - val_loss: 0.0407 - val_acc: 0.9874\n",
      "Epoch 8/15\n",
      "60000/60000 [==============================] - 22s 361us/step - loss: 0.0099 - acc: 0.9969 - val_loss: 0.0422 - val_acc: 0.9863\n",
      "Epoch 9/15\n",
      "60000/60000 [==============================] - 21s 349us/step - loss: 0.0074 - acc: 0.9977 - val_loss: 0.0516 - val_acc: 0.9847\n",
      "Epoch 10/15\n",
      "60000/60000 [==============================] - 21s 356us/step - loss: 0.0062 - acc: 0.9982 - val_loss: 0.0530 - val_acc: 0.9858\n",
      "Epoch 11/15\n",
      "60000/60000 [==============================] - 22s 366us/step - loss: 0.0067 - acc: 0.9979 - val_loss: 0.0441 - val_acc: 0.9882\n",
      "Epoch 12/15\n",
      "60000/60000 [==============================] - 22s 364us/step - loss: 0.0046 - acc: 0.9986 - val_loss: 0.0512 - val_acc: 0.9870\n",
      "Epoch 13/15\n",
      "60000/60000 [==============================] - 22s 364us/step - loss: 0.0023 - acc: 0.9993 - val_loss: 0.0599 - val_acc: 0.9848\n",
      "Epoch 14/15\n",
      "60000/60000 [==============================] - 22s 366us/step - loss: 0.0064 - acc: 0.9979 - val_loss: 0.0536 - val_acc: 0.9875\n",
      "Epoch 15/15\n",
      "60000/60000 [==============================] - 22s 371us/step - loss: 0.0028 - acc: 0.9992 - val_loss: 0.0513 - val_acc: 0.9885\n"
     ]
    }
   ],
   "source": [
    "history = model.fit(x_train, y_train,\n",
    "                    batch_size=batch_size,\n",
    "                    epochs=15,\n",
    "                    verbose=1,\n",
    "                    validation_data=(x_test, y_test))"
   ]
  },
  {
   "cell_type": "code",
   "execution_count": 53,
   "metadata": {},
   "outputs": [],
   "source": [
    "model.save('OCR.hd5')"
   ]
  },
  {
   "cell_type": "code",
   "execution_count": 56,
   "metadata": {},
   "outputs": [
    {
     "name": "stdout",
     "output_type": "stream",
     "text": [
      "(3, 3, 1, 16)\n",
      "(16,)\n",
      "(3136, 256)\n",
      "(256,)\n",
      "(256, 10)\n",
      "(10,)\n"
     ]
    }
   ],
   "source": [
    "for ele in model.get_weights():\n",
    "    print(ele.shape)"
   ]
  },
  {
   "cell_type": "code",
   "execution_count": 58,
   "metadata": {},
   "outputs": [
    {
     "data": {
      "text/plain": [
       "3136"
      ]
     },
     "execution_count": 58,
     "metadata": {},
     "output_type": "execute_result"
    }
   ],
   "source": [
    "14 * 14 * 16"
   ]
  },
  {
   "cell_type": "code",
   "execution_count": 57,
   "metadata": {},
   "outputs": [
    {
     "name": "stdout",
     "output_type": "stream",
     "text": [
      "_________________________________________________________________\n",
      "Layer (type)                 Output Shape              Param #   \n",
      "=================================================================\n",
      "conv2d_1 (Conv2D)            (None, 28, 28, 16)        160       \n",
      "_________________________________________________________________\n",
      "max_pooling2d_1 (MaxPooling2 (None, 14, 14, 16)        0         \n",
      "_________________________________________________________________\n",
      "flatten_1 (Flatten)          (None, 3136)              0         \n",
      "_________________________________________________________________\n",
      "dense_4 (Dense)              (None, 256)               803072    \n",
      "_________________________________________________________________\n",
      "dense_5 (Dense)              (None, 10)                2570      \n",
      "=================================================================\n",
      "Total params: 805,802\n",
      "Trainable params: 805,802\n",
      "Non-trainable params: 0\n",
      "_________________________________________________________________\n"
     ]
    }
   ],
   "source": [
    "model.summary()"
   ]
  },
  {
   "cell_type": "code",
   "execution_count": 93,
   "metadata": {},
   "outputs": [],
   "source": [
    "from keras.models import load_model\n",
    "model2 = load_model('OCR.hd5')\n"
   ]
  },
  {
   "cell_type": "code",
   "execution_count": 94,
   "metadata": {},
   "outputs": [],
   "source": [
    "#model2.predict(x_test)"
   ]
  },
  {
   "cell_type": "code",
   "execution_count": 98,
   "metadata": {},
   "outputs": [],
   "source": [
    "from PIL import Image\n",
    "import numpy\n",
    "img  = Image.open('4.jpg').convert('L')\n",
    "img  = numpy.asarray(img)"
   ]
  },
  {
   "cell_type": "code",
   "execution_count": 99,
   "metadata": {},
   "outputs": [],
   "source": [
    "img2 = (255 - img) / 255"
   ]
  },
  {
   "cell_type": "code",
   "execution_count": 100,
   "metadata": {},
   "outputs": [],
   "source": [
    "img3 = img2.reshape(28,28,1)"
   ]
  },
  {
   "cell_type": "code",
   "execution_count": 101,
   "metadata": {},
   "outputs": [],
   "source": [
    "y = numpy.array([img3])"
   ]
  },
  {
   "cell_type": "code",
   "execution_count": 103,
   "metadata": {},
   "outputs": [
    {
     "data": {
      "text/plain": [
       "4"
      ]
     },
     "execution_count": 103,
     "metadata": {},
     "output_type": "execute_result"
    }
   ],
   "source": [
    "numpy.argmax(model2.predict(y))"
   ]
  },
  {
   "cell_type": "markdown",
   "metadata": {},
   "source": [
    "## 明星圖像辨識"
   ]
  },
  {
   "cell_type": "code",
   "execution_count": 10,
   "metadata": {},
   "outputs": [],
   "source": [
    "#data:image/jpeg;base64,"
   ]
  },
  {
   "cell_type": "code",
   "execution_count": 8,
   "metadata": {},
   "outputs": [],
   "source": [
    "import requests\n",
    "import base64\n",
    "imgdata = b'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'\n",
    "with open(\"1.jpg\", \"wb\") as fh:\n",
    "    fh.write(base64.decodebytes(imgdata))"
   ]
  },
  {
   "cell_type": "code",
   "execution_count": 9,
   "metadata": {},
   "outputs": [
    {
     "data": {
      "image/png": "[encoded data removed]",
      "text/plain": [
       "<PIL.JpegImagePlugin.JpegImageFile image mode=RGB size=275x183 at 0x7FD8390>"
      ]
     },
     "execution_count": 9,
     "metadata": {},
     "output_type": "execute_result"
    }
   ],
   "source": [
    "from PIL import Image\n",
    "Image.open('1.jpg')"
   ]
  },
  {
   "cell_type": "code",
   "execution_count": 19,
   "metadata": {},
   "outputs": [
    {
     "data": {
      "text/plain": [
       "<Response [200]>"
      ]
     },
     "execution_count": 19,
     "metadata": {},
     "output_type": "execute_result"
    }
   ],
   "source": [
    "import requests\n",
    "res = requests.get('https://www.google.com.tw/search?ei=lqfnW4axMZLI8wX1o7T4Cw&yv=3&q={}&tbm=isch&vet=10ahUKEwiG1NOnuMveAhUS5LwKHfURDb8QuT0IgQEoAQ.lqfnW4axMZLI8wX1o7T4Cw.i&ved=0ahUKEwiG1NOnuMveAhUS5LwKHfURDb8QuT0IgQEoAQ&ijn=2&start={}&asearch=ichunk&async=_id:rg_s,_pms:s,_fmt:pc'.format('周子瑜', 200))\n",
    "res"
   ]
  },
  {
   "cell_type": "code",
   "execution_count": 20,
   "metadata": {},
   "outputs": [],
   "source": [
    "from bs4 import BeautifulSoup\n",
    "soup = BeautifulSoup(res.text, 'lxml')"
   ]
  },
  {
   "cell_type": "code",
   "execution_count": 26,
   "metadata": {},
   "outputs": [],
   "source": [
    "path = 'idol1/'\n",
    "for link in soup.select('img'):\n",
    "    res = requests.get(link.get('src'))\n",
    "    fname = path + link.get('src').split('tbn:')[1] +'.jpg'\n",
    "    with open(fname, 'wb') as f:\n",
    "        f.write(res.content)"
   ]
  },
  {
   "cell_type": "code",
   "execution_count": 27,
   "metadata": {},
   "outputs": [],
   "source": [
    "import requests\n",
    "from bs4 import BeautifulSoup\n",
    "for n in range(0,3):\n",
    "    res = requests.get('https://www.google.com.tw/search?ei=lqfnW4axMZLI8wX1o7T4Cw&yv=3&q={}&tbm=isch&vet=10ahUKEwiG1NOnuMveAhUS5LwKHfURDb8QuT0IgQEoAQ.lqfnW4axMZLI8wX1o7T4Cw.i&ved=0ahUKEwiG1NOnuMveAhUS5LwKHfURDb8QuT0IgQEoAQ&ijn=2&start={}&asearch=ichunk&async=_id:rg_s,_pms:s,_fmt:pc'.format('周子瑜', n * 100))\n",
    "    soup = BeautifulSoup(res.text, 'lxml')\n",
    "    path = 'idol1/'\n",
    "    for link in soup.select('img'):\n",
    "        res = requests.get(link.get('src'))\n",
    "        fname = path + link.get('src').split('tbn:')[1] +'.jpg'\n",
    "        with open(fname, 'wb') as f:\n",
    "            f.write(res.content)"
   ]
  },
  {
   "cell_type": "code",
   "execution_count": 29,
   "metadata": {},
   "outputs": [],
   "source": [
    "import requests\n",
    "from bs4 import BeautifulSoup\n",
    "def getIdolPicture(path, idol):\n",
    "    for n in range(0,3):\n",
    "        res = requests.get('https://www.google.com.tw/search?ei=lqfnW4axMZLI8wX1o7T4Cw&yv=3&q={}&tbm=isch&vet=10ahUKEwiG1NOnuMveAhUS5LwKHfURDb8QuT0IgQEoAQ.lqfnW4axMZLI8wX1o7T4Cw.i&ved=0ahUKEwiG1NOnuMveAhUS5LwKHfURDb8QuT0IgQEoAQ&ijn=2&start={}&asearch=ichunk&async=_id:rg_s,_pms:s,_fmt:pc'.format(idol, n * 100))\n",
    "        soup = BeautifulSoup(res.text, 'lxml')\n",
    "        #path = 'idol1/'\n",
    "        for link in soup.select('img'):\n",
    "            res = requests.get(link.get('src'))\n",
    "            fname = path + link.get('src').split('tbn:')[1] +'.jpg'\n",
    "            with open(fname, 'wb') as f:\n",
    "                f.write(res.content)"
   ]
  },
  {
   "cell_type": "code",
   "execution_count": 30,
   "metadata": {},
   "outputs": [],
   "source": [
    "getIdolPicture('idol2/', '郭雪芙')"
   ]
  },
  {
   "cell_type": "code",
   "execution_count": 31,
   "metadata": {},
   "outputs": [],
   "source": [
    "getIdolPicture('idol3/', '蔡依林')"
   ]
  },
  {
   "cell_type": "markdown",
   "metadata": {},
   "source": [
    "## 臉部偵測"
   ]
  },
  {
   "cell_type": "code",
   "execution_count": 35,
   "metadata": {
    "scrolled": true
   },
   "outputs": [
    {
     "name": "stdout",
     "output_type": "stream",
     "text": [
      "Processing c:\\users\\user\\opencv_python-3.4.3-cp36-cp36m-win_amd64.whl\n",
      "Installing collected packages: opencv-python\n",
      "Successfully installed opencv-python-3.4.3\n"
     ]
    },
    {
     "name": "stderr",
     "output_type": "stream",
     "text": [
      "distributed 1.21.8 requires msgpack, which is not installed.\n",
      "You are using pip version 10.0.1, however version 18.1 is available.\n",
      "You should consider upgrading via the 'python -m pip install --upgrade pip' command.\n"
     ]
    }
   ],
   "source": [
    "! pip install opencv_python-3.4.3-cp36-cp36m-win_amd64.whl"
   ]
  },
  {
   "cell_type": "code",
   "execution_count": 36,
   "metadata": {},
   "outputs": [],
   "source": [
    "import cv2"
   ]
  },
  {
   "cell_type": "code",
   "execution_count": 38,
   "metadata": {},
   "outputs": [],
   "source": [
    "#ls idol1"
   ]
  },
  {
   "cell_type": "code",
   "execution_count": 44,
   "metadata": {},
   "outputs": [
    {
     "data": {
      "image/png": "[encoded data removed]",
      "text/plain": [
       "<PIL.JpegImagePlugin.JpegImageFile image mode=RGB size=275x183 at 0x4FA3780>"
      ]
     },
     "execution_count": 44,
     "metadata": {},
     "output_type": "execute_result"
    }
   ],
   "source": [
    "from PIL import Image\n",
    "img = Image.open('idol1/ANd9GcS2VrzjcNpJ_Ar1PTHTTv88C2jxWBMeI2StTviVuEt3mdnAdCSl.jpg')\n",
    "img"
   ]
  },
  {
   "cell_type": "code",
   "execution_count": 45,
   "metadata": {},
   "outputs": [],
   "source": [
    "import cv2 as cv\n",
    "imgary = cv.imread('idol1/ANd9GcS2VrzjcNpJ_Ar1PTHTTv88C2jxWBMeI2StTviVuEt3mdnAdCSl.jpg')"
   ]
  },
  {
   "cell_type": "code",
   "execution_count": 46,
   "metadata": {},
   "outputs": [
    {
     "data": {
      "text/plain": [
       "(183, 275, 3)"
      ]
     },
     "execution_count": 46,
     "metadata": {},
     "output_type": "execute_result"
    }
   ],
   "source": [
    "imgary.shape"
   ]
  },
  {
   "cell_type": "code",
   "execution_count": 47,
   "metadata": {},
   "outputs": [],
   "source": [
    "# https://raw.githubusercontent.com/opencv/opencv/master/data/haarcascades/haarcascade_frontalface_default.xml"
   ]
  },
  {
   "cell_type": "code",
   "execution_count": 50,
   "metadata": {},
   "outputs": [],
   "source": [
    "?face_cascade.detectMultiScale"
   ]
  },
  {
   "cell_type": "code",
   "execution_count": 49,
   "metadata": {},
   "outputs": [],
   "source": [
    "face_cascade = cv.CascadeClassifier('haarcascade_frontalface_default.xml')\n",
    "faces = face_cascade.detectMultiScale(imgary, 1.3, 5)"
   ]
  },
  {
   "cell_type": "code",
   "execution_count": 52,
   "metadata": {},
   "outputs": [],
   "source": [
    "x,y,w,h = faces[0]"
   ]
  },
  {
   "cell_type": "code",
   "execution_count": 54,
   "metadata": {},
   "outputs": [],
   "source": [
    "crpim = img.crop((x,y, x + w, y + h)).resize((64,64))"
   ]
  },
  {
   "cell_type": "code",
   "execution_count": 55,
   "metadata": {},
   "outputs": [
    {
     "data": {
      "image/png": "[encoded data removed]",
      "text/plain": [
       "<PIL.Image.Image image mode=RGB size=64x64 at 0x4F78550>"
      ]
     },
     "execution_count": 55,
     "metadata": {},
     "output_type": "execute_result"
    }
   ],
   "source": [
    "crpim"
   ]
  },
  {
   "cell_type": "code",
   "execution_count": 56,
   "metadata": {},
   "outputs": [],
   "source": [
    "import os\n",
    "os.mkdir('idol1_face/')"
   ]
  },
  {
   "cell_type": "code",
   "execution_count": 60,
   "metadata": {},
   "outputs": [],
   "source": [
    "src_dir  = 'idol1/'\n",
    "dest_dir = 'idol1_face/'\n",
    "for f in os.listdir(src_dir):\n",
    "    filename = src_dir + f\n",
    "    img = Image.open(filename)\n",
    "    imgary = cv.imread(filename)\n",
    "    faces = face_cascade.detectMultiScale(imgary, 1.3, 5)\n",
    "    if len(faces) == 1:\n",
    "        x,y,w,h = faces[0]\n",
    "        crpim = img.crop((x,y, x + w, y + h)).resize((64,64))\n",
    "        crpim.save(dest_dir + f)"
   ]
  },
  {
   "cell_type": "code",
   "execution_count": 62,
   "metadata": {},
   "outputs": [
    {
     "data": {
      "text/plain": [
       "True"
      ]
     },
     "execution_count": 62,
     "metadata": {},
     "output_type": "execute_result"
    }
   ],
   "source": [
    "import os\n",
    "os.path.exists('idol1_face/')"
   ]
  },
  {
   "cell_type": "code",
   "execution_count": 63,
   "metadata": {},
   "outputs": [],
   "source": [
    "def extractFace(src_dir, dest_dir):\n",
    "    if not os.path.exists(dest_dir):\n",
    "        os.mkdir(dest_dir)\n",
    "        \n",
    "    for f in os.listdir(src_dir):\n",
    "        filename = src_dir + f\n",
    "        img = Image.open(filename)\n",
    "        imgary = cv.imread(filename)\n",
    "        faces = face_cascade.detectMultiScale(imgary, 1.3, 5)\n",
    "        if len(faces) == 1:\n",
    "            x,y,w,h = faces[0]\n",
    "            crpim = img.crop((x,y, x + w, y + h)).resize((64,64))\n",
    "            crpim.save(dest_dir + f)"
   ]
  },
  {
   "cell_type": "code",
   "execution_count": 65,
   "metadata": {},
   "outputs": [],
   "source": [
    "extractFace('idol3/', 'idol3_face/')"
   ]
  },
  {
   "cell_type": "markdown",
   "metadata": {},
   "source": [
    "## SIFT"
   ]
  },
  {
   "cell_type": "code",
   "execution_count": 69,
   "metadata": {},
   "outputs": [
    {
     "name": "stdout",
     "output_type": "stream",
     "text": [
      "Collecting opencv-contrib-python\n",
      "  Downloading https://files.pythonhosted.org/packages/c8/94/1e4d01518a87c7de4591892d48ac403e721e13504a819cc358f93409d94a/opencv_contrib_python-3.4.3.18-cp36-cp36m-win_amd64.whl (39.6MB)\n",
      "Requirement already satisfied: numpy>=1.11.3 in c:\\programdata\\anaconda3_2\\lib\\site-packages (from opencv-contrib-python) (1.14.3)\n",
      "Installing collected packages: opencv-contrib-python\n",
      "Successfully installed opencv-contrib-python-3.4.3.18\n"
     ]
    },
    {
     "name": "stderr",
     "output_type": "stream",
     "text": [
      "distributed 1.21.8 requires msgpack, which is not installed.\n",
      "You are using pip version 10.0.1, however version 18.1 is available.\n",
      "You should consider upgrading via the 'python -m pip install --upgrade pip' command.\n"
     ]
    }
   ],
   "source": [
    "! pip install opencv-contrib-python"
   ]
  },
  {
   "cell_type": "code",
   "execution_count": 2,
   "metadata": {},
   "outputs": [
    {
     "ename": "error",
     "evalue": "OpenCV(3.4.3) C:\\projects\\opencv-python\\opencv_contrib\\modules\\xfeatures2d\\src\\surf.cpp:1016: error: (-213:The function/feature is not implemented) This algorithm is patented and is excluded in this configuration; Set OPENCV_ENABLE_NONFREE CMake option and rebuild the library in function 'cv::xfeatures2d::SURF::create'\n",
     "output_type": "error",
     "traceback": [
      "\u001b[1;31m---------------------------------------------------------------------------\u001b[0m",
      "\u001b[1;31merror\u001b[0m                                     Traceback (most recent call last)",
      "\u001b[1;32m<ipython-input-2-93252f941f14>\u001b[0m in \u001b[0;36m<module>\u001b[1;34m()\u001b[0m\n\u001b[0;32m      3\u001b[0m \u001b[0mimg\u001b[0m \u001b[1;33m=\u001b[0m \u001b[0mcv2\u001b[0m\u001b[1;33m.\u001b[0m\u001b[0mimread\u001b[0m\u001b[1;33m(\u001b[0m\u001b[1;34m'idol1/ANd9GcS2VrzjcNpJ_Ar1PTHTTv88C2jxWBMeI2StTviVuEt3mdnAdCSl.jpg'\u001b[0m\u001b[1;33m)\u001b[0m\u001b[1;33m\u001b[0m\u001b[0m\n\u001b[0;32m      4\u001b[0m \u001b[0mgray\u001b[0m\u001b[1;33m=\u001b[0m \u001b[0mcv2\u001b[0m\u001b[1;33m.\u001b[0m\u001b[0mcvtColor\u001b[0m\u001b[1;33m(\u001b[0m\u001b[0mimg\u001b[0m\u001b[1;33m,\u001b[0m\u001b[0mcv2\u001b[0m\u001b[1;33m.\u001b[0m\u001b[0mCOLOR_BGR2GRAY\u001b[0m\u001b[1;33m)\u001b[0m\u001b[1;33m\u001b[0m\u001b[0m\n\u001b[1;32m----> 5\u001b[1;33m \u001b[0msift\u001b[0m \u001b[1;33m=\u001b[0m \u001b[0mcv2\u001b[0m\u001b[1;33m.\u001b[0m\u001b[0mxfeatures2d\u001b[0m\u001b[1;33m.\u001b[0m\u001b[0mSURF_create\u001b[0m\u001b[1;33m(\u001b[0m\u001b[1;33m)\u001b[0m\u001b[1;33m\u001b[0m\u001b[0m\n\u001b[0m\u001b[0;32m      6\u001b[0m \u001b[0mkp\u001b[0m \u001b[1;33m=\u001b[0m \u001b[0msift\u001b[0m\u001b[1;33m.\u001b[0m\u001b[0mdetect\u001b[0m\u001b[1;33m(\u001b[0m\u001b[0mgray\u001b[0m\u001b[1;33m,\u001b[0m\u001b[1;32mNone\u001b[0m\u001b[1;33m)\u001b[0m\u001b[1;33m\u001b[0m\u001b[0m\n\u001b[0;32m      7\u001b[0m \u001b[0mimg\u001b[0m\u001b[1;33m=\u001b[0m\u001b[0mcv2\u001b[0m\u001b[1;33m.\u001b[0m\u001b[0mdrawKeypoints\u001b[0m\u001b[1;33m(\u001b[0m\u001b[0mgray\u001b[0m\u001b[1;33m,\u001b[0m\u001b[0mkp\u001b[0m\u001b[1;33m,\u001b[0m\u001b[0mimg\u001b[0m\u001b[1;33m)\u001b[0m\u001b[1;33m\u001b[0m\u001b[0m\n",
      "\u001b[1;31merror\u001b[0m: OpenCV(3.4.3) C:\\projects\\opencv-python\\opencv_contrib\\modules\\xfeatures2d\\src\\surf.cpp:1016: error: (-213:The function/feature is not implemented) This algorithm is patented and is excluded in this configuration; Set OPENCV_ENABLE_NONFREE CMake option and rebuild the library in function 'cv::xfeatures2d::SURF::create'\n"
     ]
    }
   ],
   "source": [
    "import cv2\n",
    "\n",
    "img = cv2.imread('idol1/ANd9GcS2VrzjcNpJ_Ar1PTHTTv88C2jxWBMeI2StTviVuEt3mdnAdCSl.jpg')\n",
    "gray= cv2.cvtColor(img,cv2.COLOR_BGR2GRAY)\n",
    "sift = cv2.xfeatures2d.SURF_create()\n",
    "kp = sift.detect(gray,None)\n",
    "img=cv2.drawKeypoints(gray,kp,img)\n",
    "cv2.imwrite('sift_keypoints.jpg',img)"
   ]
  },
  {
   "cell_type": "markdown",
   "metadata": {},
   "source": [
    "## 使用CNN識別明星"
   ]
  },
  {
   "cell_type": "markdown",
   "metadata": {},
   "source": [
    "### 建構卷積神經網路"
   ]
  },
  {
   "cell_type": "code",
   "execution_count": 62,
   "metadata": {},
   "outputs": [],
   "source": [
    "from keras.models import Sequential \n",
    "from keras.layers import Conv2D\n",
    "from keras.layers import MaxPooling2D \n",
    "from keras.layers import Flatten\n",
    "from keras.layers import Dense\n",
    "\n",
    "# Initialising the CNN\n",
    "classifier = Sequential()\n",
    "\n",
    "# Convolution\n",
    "classifier.add(Conv2D(32, (3, 3), input_shape = (64, 64,\n",
    "3), activation = 'relu'))\n",
    "\n",
    "# Max Pooling\n",
    "classifier.add(MaxPooling2D(pool_size = (2, 2)))\n",
    "\n",
    "# Convolution\n",
    "classifier.add(Conv2D(32, (3, 3), activation = 'relu'))\n",
    "\n",
    "# Max Pooling\n",
    "classifier.add(MaxPooling2D(pool_size = (2, 2)))\n",
    "\n",
    "# Flattening\n",
    "classifier.add(Flatten())\n",
    "\n",
    "# Fully Connected\n",
    "classifier.add(Dense(units = 128, activation = 'relu')) \n",
    "classifier.add(Dense(units = 128, activation = 'relu'))\n",
    "classifier.add(Dense(units = 3, activation = 'softmax'))\n",
    "\n",
    "classifier.compile(optimizer = 'adam', \n",
    "                        loss ='categorical_crossentropy', \n",
    "                     metrics = ['accuracy'])"
   ]
  },
  {
   "cell_type": "code",
   "execution_count": 63,
   "metadata": {},
   "outputs": [],
   "source": [
    "from keras.preprocessing.image import ImageDataGenerator\n",
    "\n",
    "train_datagen = ImageDataGenerator(rescale = 1./255,\n",
    "                                   shear_range = 0.2,     #x坐标保持不变，而对应的y坐标按比例发生平移\n",
    "                                   zoom_range = 0.2,      #可以让图片在长或宽的方向进行放大\n",
    "                                   horizontal_flip = True #水平翻转操作\n",
    "                                  )"
   ]
  },
  {
   "cell_type": "code",
   "execution_count": 64,
   "metadata": {},
   "outputs": [],
   "source": [
    "test_datagen = ImageDataGenerator(rescale = 1./255)"
   ]
  },
  {
   "cell_type": "code",
   "execution_count": 24,
   "metadata": {},
   "outputs": [],
   "source": [
    "import os\n",
    "idol1 = os.listdir('idol1_face/')\n",
    "idol2 = os.listdir('idol2_face/')\n",
    "idol3 = os.listdir('idol3_face/')"
   ]
  },
  {
   "cell_type": "code",
   "execution_count": 26,
   "metadata": {},
   "outputs": [],
   "source": [
    "from sklearn.model_selection import train_test_split\n",
    "idol1_train ,idol1_test  = \\\n",
    "    train_test_split(idol1, test_size = 0.2, random_state = 42)\n",
    "idol2_train ,idol2_test  = \\\n",
    "    train_test_split(idol2, test_size = 0.2, random_state = 42)\n",
    "idol3_train ,idol3_test  = \\\n",
    "    train_test_split(idol3, test_size = 0.2, random_state = 42)"
   ]
  },
  {
   "cell_type": "code",
   "execution_count": 27,
   "metadata": {},
   "outputs": [
    {
     "data": {
      "text/plain": [
       "168"
      ]
     },
     "execution_count": 27,
     "metadata": {},
     "output_type": "execute_result"
    }
   ],
   "source": [
    "len(idol1_train)"
   ]
  },
  {
   "cell_type": "code",
   "execution_count": 28,
   "metadata": {},
   "outputs": [
    {
     "data": {
      "text/plain": [
       "43"
      ]
     },
     "execution_count": 28,
     "metadata": {},
     "output_type": "execute_result"
    }
   ],
   "source": [
    "len(idol1_test)"
   ]
  },
  {
   "cell_type": "code",
   "execution_count": 15,
   "metadata": {},
   "outputs": [],
   "source": [
    "os.mkdir('trainset')"
   ]
  },
  {
   "cell_type": "code",
   "execution_count": 17,
   "metadata": {},
   "outputs": [],
   "source": [
    "os.mkdir('trainset/idol1_face')\n",
    "os.mkdir('trainset/idol2_face')\n",
    "os.mkdir('trainset/idol3_face')"
   ]
  },
  {
   "cell_type": "code",
   "execution_count": 16,
   "metadata": {},
   "outputs": [],
   "source": [
    "os.mkdir('testset')"
   ]
  },
  {
   "cell_type": "code",
   "execution_count": 18,
   "metadata": {},
   "outputs": [],
   "source": [
    "os.mkdir('testset/idol1_face')\n",
    "os.mkdir('testset/idol2_face')\n",
    "os.mkdir('testset/idol3_face')"
   ]
  },
  {
   "cell_type": "code",
   "execution_count": 19,
   "metadata": {},
   "outputs": [],
   "source": [
    "from shutil import copyfile\n",
    "\n",
    "for f in idol1_train:\n",
    "    src = 'idol1_face/'+ f\n",
    "    dst = 'trainset/'+'idol1_face/'+f\n",
    "    copyfile(src, dst)"
   ]
  },
  {
   "cell_type": "code",
   "execution_count": 29,
   "metadata": {},
   "outputs": [],
   "source": [
    "def copyFileToDst(dataset, datafolder, srcfolder):\n",
    "    for f in dataset:\n",
    "        src = srcfolder+ f\n",
    "        dst = datafolder+srcfolder+f\n",
    "        copyfile(src, dst)"
   ]
  },
  {
   "cell_type": "code",
   "execution_count": 30,
   "metadata": {},
   "outputs": [],
   "source": [
    "copyFileToDst(idol2_train, 'trainset/', 'idol2_face/')"
   ]
  },
  {
   "cell_type": "code",
   "execution_count": 31,
   "metadata": {},
   "outputs": [],
   "source": [
    "copyFileToDst(idol3_train, 'trainset/', 'idol3_face/')"
   ]
  },
  {
   "cell_type": "code",
   "execution_count": 32,
   "metadata": {},
   "outputs": [],
   "source": [
    "copyFileToDst(idol1_test, 'testset/', 'idol1_face/')"
   ]
  },
  {
   "cell_type": "code",
   "execution_count": 33,
   "metadata": {},
   "outputs": [],
   "source": [
    "copyFileToDst(idol2_test, 'testset/', 'idol2_face/')"
   ]
  },
  {
   "cell_type": "code",
   "execution_count": 34,
   "metadata": {},
   "outputs": [],
   "source": [
    "copyFileToDst(idol3_test, 'testset/', 'idol3_face/')"
   ]
  },
  {
   "cell_type": "code",
   "execution_count": 65,
   "metadata": {},
   "outputs": [
    {
     "name": "stdout",
     "output_type": "stream",
     "text": [
      "Found 377 images belonging to 3 classes.\n"
     ]
    }
   ],
   "source": [
    "training_set = train_datagen.flow_from_directory(\n",
    "    'trainset/', target_size = (64, 64),\n",
    "     batch_size = 10,\n",
    "     class_mode = 'categorical')"
   ]
  },
  {
   "cell_type": "code",
   "execution_count": 66,
   "metadata": {},
   "outputs": [
    {
     "name": "stdout",
     "output_type": "stream",
     "text": [
      "Found 96 images belonging to 3 classes.\n"
     ]
    }
   ],
   "source": [
    "test_set = test_datagen.flow_from_directory(\n",
    "    'testset/', target_size = (64, 64),\n",
    "    batch_size = 10, \n",
    "    class_mode = 'categorical')"
   ]
  },
  {
   "cell_type": "code",
   "execution_count": 70,
   "metadata": {},
   "outputs": [
    {
     "name": "stdout",
     "output_type": "stream",
     "text": [
      "Epoch 1/10\n",
      " 2/30 [=>............................] - ETA: 2s - loss: 0.0017 - acc: 1.0000"
     ]
    },
    {
     "name": "stderr",
     "output_type": "stream",
     "text": [
      "C:\\ProgramData\\Anaconda3_2\\lib\\site-packages\\ipykernel_launcher.py:6: UserWarning: The semantics of the Keras 2 argument `steps_per_epoch` is not the same as the Keras 1 argument `samples_per_epoch`. `steps_per_epoch` is the number of batches to draw from the generator at each epoch. Basically steps_per_epoch = samples_per_epoch/batch_size. Similarly `nb_val_samples`->`validation_steps` and `val_samples`->`steps` arguments have changed. Update your method calls accordingly.\n",
      "  \n",
      "C:\\ProgramData\\Anaconda3_2\\lib\\site-packages\\ipykernel_launcher.py:6: UserWarning: Update your `fit_generator` call to the Keras 2 API: `fit_generator(<keras_pre..., steps_per_epoch=30, verbose=1, validation_data=<keras_pre..., epochs=10, validation_steps=30)`\n",
      "  \n"
     ]
    },
    {
     "name": "stdout",
     "output_type": "stream",
     "text": [
      "30/30 [==============================] - 2s 71ms/step - loss: 0.0305 - acc: 0.9933 - val_loss: 1.2695 - val_acc: 0.8021\n",
      "Epoch 2/10\n",
      "30/30 [==============================] - 2s 69ms/step - loss: 0.0814 - acc: 0.9633 - val_loss: 0.8932 - val_acc: 0.7951\n",
      "Epoch 3/10\n",
      "30/30 [==============================] - 2s 71ms/step - loss: 0.0468 - acc: 0.9833 - val_loss: 0.8382 - val_acc: 0.8472\n",
      "Epoch 4/10\n",
      "30/30 [==============================] - 2s 71ms/step - loss: 0.0335 - acc: 0.9900 - val_loss: 1.2465 - val_acc: 0.7326\n",
      "Epoch 5/10\n",
      "30/30 [==============================] - 2s 75ms/step - loss: 0.0211 - acc: 0.9967 - val_loss: 0.9655 - val_acc: 0.8403\n",
      "Epoch 6/10\n",
      "30/30 [==============================] - 2s 72ms/step - loss: 0.0283 - acc: 0.9833 - val_loss: 0.9811 - val_acc: 0.7986\n",
      "Epoch 7/10\n",
      "30/30 [==============================] - 2s 69ms/step - loss: 0.0178 - acc: 0.9933 - val_loss: 1.3693 - val_acc: 0.7917\n",
      "Epoch 8/10\n",
      "30/30 [==============================] - 2s 71ms/step - loss: 0.0180 - acc: 0.9967 - val_loss: 1.3945 - val_acc: 0.7778\n",
      "Epoch 9/10\n",
      "30/30 [==============================] - 2s 70ms/step - loss: 0.0083 - acc: 1.0000 - val_loss: 1.2901 - val_acc: 0.8333\n",
      "Epoch 10/10\n",
      "30/30 [==============================] - 2s 72ms/step - loss: 0.0060 - acc: 1.0000 - val_loss: 1.4110 - val_acc: 0.8299\n"
     ]
    }
   ],
   "source": [
    "history = classifier.fit_generator(training_set,\n",
    "                         nb_epoch=10,\n",
    "                         nb_val_samples=30,\n",
    "                         steps_per_epoch = 30,\n",
    "                         verbose = 1,\n",
    "                         validation_data = test_set)"
   ]
  },
  {
   "cell_type": "markdown",
   "metadata": {},
   "source": [
    "## 利用模型分類圖片"
   ]
  },
  {
   "cell_type": "code",
   "execution_count": 71,
   "metadata": {},
   "outputs": [],
   "source": [
    "url = 'https://www.elle.com.hk/var/ellehk/storage/images/celebrity/feature/chou-tsz-yu/25904963-1-chi-HK/13_img_885_590.png'"
   ]
  },
  {
   "cell_type": "code",
   "execution_count": 73,
   "metadata": {},
   "outputs": [],
   "source": [
    "import requests\n",
    "res = requests.get(url)\n",
    "with open('zhiyu.png', 'wb') as f:\n",
    "    f.write(res.content)"
   ]
  },
  {
   "cell_type": "code",
   "execution_count": 75,
   "metadata": {},
   "outputs": [],
   "source": [
    "from PIL import Image\n",
    "img = Image.open('zhiyu.png')"
   ]
  },
  {
   "cell_type": "code",
   "execution_count": 80,
   "metadata": {},
   "outputs": [
    {
     "data": {
      "text/plain": [
       "array([398, 142, 245, 245], dtype=int32)"
      ]
     },
     "execution_count": 80,
     "metadata": {},
     "output_type": "execute_result"
    }
   ],
   "source": [
    "from PIL import Image\n",
    "import cv2 as cv\n",
    "face_cascade = cv.CascadeClassifier('haarcascade_frontalface_default.xml')\n",
    "\n",
    "img = cv.imread('zhiyu.png')\n",
    "faces = face_cascade.detectMultiScale(img, 1.3, 5)\n",
    "faces[0]"
   ]
  },
  {
   "cell_type": "code",
   "execution_count": 81,
   "metadata": {},
   "outputs": [],
   "source": [
    "x,y,w,h = faces[0]\n",
    "box = (x, y, x+w, y+h)\n",
    "\n",
    "im = Image.open('zhiyu.png')\n",
    "crpim = im.crop(box).resize((64,64))\n",
    "crpim.save('zhiyu_face.png')"
   ]
  },
  {
   "cell_type": "code",
   "execution_count": 82,
   "metadata": {},
   "outputs": [
    {
     "data": {
      "image/png": "[encoded data removed]",
      "text/plain": [
       "<PIL.PngImagePlugin.PngImageFile image mode=RGBA size=64x64 at 0x10219DD8>"
      ]
     },
     "execution_count": 82,
     "metadata": {},
     "output_type": "execute_result"
    }
   ],
   "source": [
    "Image.open('zhiyu_face.png')"
   ]
  },
  {
   "cell_type": "code",
   "execution_count": 83,
   "metadata": {},
   "outputs": [
    {
     "data": {
      "text/plain": [
       "(64, 64, 3)"
      ]
     },
     "execution_count": 83,
     "metadata": {},
     "output_type": "execute_result"
    }
   ],
   "source": [
    "import numpy as np\n",
    "from keras.preprocessing import image\n",
    "test_image = image.load_img('zhiyu_face.png', target_size= (64,64))\n",
    "test_image = image.img_to_array(test_image)\n",
    "test_image.shape"
   ]
  },
  {
   "cell_type": "code",
   "execution_count": 84,
   "metadata": {},
   "outputs": [
    {
     "data": {
      "text/plain": [
       "(1, 64, 64, 3)"
      ]
     },
     "execution_count": 84,
     "metadata": {},
     "output_type": "execute_result"
    }
   ],
   "source": [
    "test_image = np.expand_dims(test_image, axis = 0)\n",
    "type(test_image)\n",
    "test_image.shape\n"
   ]
  },
  {
   "cell_type": "code",
   "execution_count": 85,
   "metadata": {},
   "outputs": [
    {
     "data": {
      "text/plain": [
       "array([0], dtype=int64)"
      ]
     },
     "execution_count": 85,
     "metadata": {},
     "output_type": "execute_result"
    }
   ],
   "source": [
    "classifier.predict_classes(test_image)"
   ]
  },
  {
   "cell_type": "code",
   "execution_count": 87,
   "metadata": {},
   "outputs": [
    {
     "data": {
      "text/plain": [
       "array([112, 125, 280, 280], dtype=int32)"
      ]
     },
     "execution_count": 87,
     "metadata": {},
     "output_type": "execute_result"
    }
   ],
   "source": [
    "from PIL import Image\n",
    "import cv2 as cv\n",
    "face_cascade = cv.CascadeClassifier('haarcascade_frontalface_default.xml')\n",
    "\n",
    "img = cv.imread('puff.png')\n",
    "faces = face_cascade.detectMultiScale(img, 1.3, 5)\n",
    "faces[0]"
   ]
  },
  {
   "cell_type": "code",
   "execution_count": 88,
   "metadata": {},
   "outputs": [],
   "source": [
    "x,y,w,h = faces[0]\n",
    "box = (x, y, x+w, y+h)\n",
    "\n",
    "im = Image.open('puff.png')\n",
    "crpim = im.crop(box).resize((64,64))\n",
    "crpim.save('puff_face.png')"
   ]
  },
  {
   "cell_type": "code",
   "execution_count": 89,
   "metadata": {},
   "outputs": [
    {
     "data": {
      "image/png": "[encoded data removed]",
      "text/plain": [
       "<PIL.PngImagePlugin.PngImageFile image mode=RGB size=64x64 at 0x102DA860>"
      ]
     },
     "execution_count": 89,
     "metadata": {},
     "output_type": "execute_result"
    }
   ],
   "source": [
    "Image.open('puff_face.png')"
   ]
  },
  {
   "cell_type": "code",
   "execution_count": 90,
   "metadata": {},
   "outputs": [
    {
     "data": {
      "text/plain": [
       "(64, 64, 3)"
      ]
     },
     "execution_count": 90,
     "metadata": {},
     "output_type": "execute_result"
    }
   ],
   "source": [
    "import numpy as np\n",
    "from keras.preprocessing import image\n",
    "test_image = image.load_img('puff_face.png', target_size= (64,64))\n",
    "test_image = image.img_to_array(test_image)\n",
    "test_image.shape"
   ]
  },
  {
   "cell_type": "code",
   "execution_count": 91,
   "metadata": {},
   "outputs": [
    {
     "data": {
      "text/plain": [
       "(1, 64, 64, 3)"
      ]
     },
     "execution_count": 91,
     "metadata": {},
     "output_type": "execute_result"
    }
   ],
   "source": [
    "test_image = np.expand_dims(test_image, axis = 0)\n",
    "type(test_image)\n",
    "test_image.shape\n"
   ]
  },
  {
   "cell_type": "code",
   "execution_count": 92,
   "metadata": {},
   "outputs": [
    {
     "data": {
      "text/plain": [
       "array([1], dtype=int64)"
      ]
     },
     "execution_count": 92,
     "metadata": {},
     "output_type": "execute_result"
    }
   ],
   "source": [
    "classifier.predict_classes(test_image)"
   ]
  },
  {
   "cell_type": "markdown",
   "metadata": {},
   "source": [
    "## 驗證碼識別"
   ]
  },
  {
   "cell_type": "code",
   "execution_count": 143,
   "metadata": {},
   "outputs": [],
   "source": [
    "import requests\n",
    "res = requests.get('https://serv.gcis.nat.gov.tw/pub/kaptcha.jpg')\n",
    "with open('kaptcha.jpg', 'wb') as f:\n",
    "    f.write(res.content)"
   ]
  },
  {
   "cell_type": "code",
   "execution_count": 144,
   "metadata": {},
   "outputs": [
    {
     "data": {
      "image/png": "[encoded data removed]",
      "text/plain": [
       "<PIL.JpegImagePlugin.JpegImageFile image mode=RGB size=120x40 at 0x11408358>"
      ]
     },
     "execution_count": 144,
     "metadata": {},
     "output_type": "execute_result"
    }
   ],
   "source": [
    "from PIL import Image\n",
    "Image.open('kaptcha.jpg')"
   ]
  },
  {
   "cell_type": "code",
   "execution_count": 145,
   "metadata": {},
   "outputs": [],
   "source": [
    "pil_image = Image.open('kaptcha.jpg').convert('L') "
   ]
  },
  {
   "cell_type": "code",
   "execution_count": 146,
   "metadata": {},
   "outputs": [
    {
     "data": {
      "text/plain": [
       "(40, 120)"
      ]
     },
     "execution_count": 146,
     "metadata": {},
     "output_type": "execute_result"
    }
   ],
   "source": [
    "open_cv_image = numpy.array(pil_image) \n",
    "open_cv_image.shape"
   ]
  },
  {
   "cell_type": "code",
   "execution_count": 147,
   "metadata": {},
   "outputs": [],
   "source": [
    "ret, thresh = cv2.threshold(open_cv_image, 127, 255, 0)"
   ]
  },
  {
   "cell_type": "code",
   "execution_count": 148,
   "metadata": {},
   "outputs": [],
   "source": [
    "image, contours, hierarchy = cv2.findContours(thresh, cv2.RETR_TREE, cv2.CHAIN_APPROX_SIMPLE)"
   ]
  },
  {
   "cell_type": "code",
   "execution_count": 149,
   "metadata": {},
   "outputs": [],
   "source": [
    "cnts = sorted([(c, cv2.boundingRect(c)[0]) for c in contours], key=lambda x:x[1])\n",
    "#cnts"
   ]
  },
  {
   "cell_type": "code",
   "execution_count": 150,
   "metadata": {},
   "outputs": [],
   "source": [
    "ary = []\n",
    "for (c,_) in cnts:\n",
    "    (x,y,w,h) = cv2.boundingRect(c)\n",
    "    if w >= 15 and w <= 20 and h == 24:\n",
    "        ary.append((x,y,w,h) )"
   ]
  },
  {
   "cell_type": "code",
   "execution_count": 151,
   "metadata": {},
   "outputs": [
    {
     "data": {
      "text/plain": [
       "[(14, 9, 16, 24), (30, 9, 16, 24), (47, 9, 15, 24), (95, 9, 17, 24)]"
      ]
     },
     "execution_count": 151,
     "metadata": {},
     "output_type": "execute_result"
    }
   ],
   "source": [
    "ary"
   ]
  },
  {
   "cell_type": "code",
   "execution_count": 180,
   "metadata": {},
   "outputs": [
    {
     "ename": "FileExistsError",
     "evalue": "[WinError 183] 當檔案已存在時，無法建立該檔案。: 'digits/'",
     "output_type": "error",
     "traceback": [
      "\u001b[1;31m---------------------------------------------------------------------------\u001b[0m",
      "\u001b[1;31mFileExistsError\u001b[0m                           Traceback (most recent call last)",
      "\u001b[1;32m<ipython-input-180-63dc85992174>\u001b[0m in \u001b[0;36m<module>\u001b[1;34m()\u001b[0m\n\u001b[0;32m      1\u001b[0m \u001b[0mdest\u001b[0m \u001b[1;33m=\u001b[0m \u001b[1;34m'digits/'\u001b[0m\u001b[1;33m\u001b[0m\u001b[0m\n\u001b[1;32m----> 2\u001b[1;33m \u001b[0mos\u001b[0m\u001b[1;33m.\u001b[0m\u001b[0mmkdir\u001b[0m\u001b[1;33m(\u001b[0m\u001b[0mdest\u001b[0m\u001b[1;33m)\u001b[0m\u001b[1;33m\u001b[0m\u001b[0m\n\u001b[0m",
      "\u001b[1;31mFileExistsError\u001b[0m: [WinError 183] 當檔案已存在時，無法建立該檔案。: 'digits/'"
     ]
    }
   ],
   "source": [
    "dest = 'digits/'\n",
    "os.mkdir(dest)"
   ]
  },
  {
   "cell_type": "code",
   "execution_count": 181,
   "metadata": {},
   "outputs": [],
   "source": [
    "for i in range(0,10):\n",
    "    os.mkdir(dest+str(i))"
   ]
  },
  {
   "cell_type": "code",
   "execution_count": 152,
   "metadata": {
    "scrolled": false
   },
   "outputs": [
    {
     "data": {
      "image/png": "[encoded data removed]",
      "text/plain": [
       "<Figure size 432x288 with 1 Axes>"
      ]
     },
     "metadata": {},
     "output_type": "display_data"
    },
    {
     "data": {
      "image/png": "[encoded data removed]",
      "text/plain": [
       "<Figure size 432x288 with 1 Axes>"
      ]
     },
     "metadata": {},
     "output_type": "display_data"
    },
    {
     "data": {
      "image/png": "[encoded data removed]",
      "text/plain": [
       "<Figure size 432x288 with 1 Axes>"
      ]
     },
     "metadata": {},
     "output_type": "display_data"
    },
    {
     "data": {
      "image/png": "[encoded data removed]",
      "text/plain": [
       "<Figure size 432x288 with 1 Axes>"
      ]
     },
     "metadata": {},
     "output_type": "display_data"
    }
   ],
   "source": [
    "from matplotlib import pyplot as plt\n",
    "data = []\n",
    "for idx, (x,y,w,h) in enumerate(ary):\n",
    "    fig = plt.figure()\n",
    "    roi = open_cv_image[y:y+h, x:x+w]\n",
    "    thresh = roi.copy()\n",
    "    plt.imshow(thresh)\n",
    "    plt.savefig(os.path.join(dest, '{}.jpg'.format(idx)), dpi=100)"
   ]
  },
  {
   "cell_type": "code",
   "execution_count": 182,
   "metadata": {},
   "outputs": [],
   "source": [
    "basewidth = 50\n",
    "def saveKaptcha(dest):\n",
    "    res = requests.get('https://serv.gcis.nat.gov.tw/pub/kaptcha.jpg')\n",
    "    with open('kaptcha.jpg', 'wb') as f:\n",
    "        f.write(res.content)\n",
    "    pil_image = Image.open('kaptcha.jpg').convert('L') \n",
    "    open_cv_image = numpy.array(pil_image) \n",
    "    ret, thresh = cv2.threshold(open_cv_image, 127, 255, 0)\n",
    "    image, contours, hierarchy = cv2.findContours(thresh, cv2.RETR_TREE, cv2.CHAIN_APPROX_SIMPLE)\n",
    "    cnts = sorted([(c, cv2.boundingRect(c)[0]) for c in contours], key=lambda x:x[1])\n",
    "    ary = []\n",
    "    for (c,_) in cnts:\n",
    "        (x,y,w,h) = cv2.boundingRect(c)\n",
    "        if w >= 15 and h == 24:\n",
    "            ary.append((x,y,w,h) )\n",
    "    data = []\n",
    "    for idx, (x,y,w,h) in enumerate(ary):\n",
    "        fig = plt.figure()\n",
    "        box = (x, y, x+w, y+h)\n",
    "        crpim = pil_image.crop(box).resize((60,40))\n",
    "        crpim.save(os.path.join(dest, '{}.jpg'.format(idx)))\n"
   ]
  },
  {
   "cell_type": "code",
   "execution_count": 192,
   "metadata": {
    "scrolled": true
   },
   "outputs": [
    {
     "data": {
      "text/plain": [
       "<Figure size 432x288 with 0 Axes>"
      ]
     },
     "metadata": {},
     "output_type": "display_data"
    },
    {
     "data": {
      "text/plain": [
       "<Figure size 432x288 with 0 Axes>"
      ]
     },
     "metadata": {},
     "output_type": "display_data"
    },
    {
     "data": {
      "text/plain": [
       "<Figure size 432x288 with 0 Axes>"
      ]
     },
     "metadata": {},
     "output_type": "display_data"
    },
    {
     "data": {
      "text/plain": [
       "<Figure size 432x288 with 0 Axes>"
      ]
     },
     "metadata": {},
     "output_type": "display_data"
    },
    {
     "data": {
      "text/plain": [
       "<Figure size 432x288 with 0 Axes>"
      ]
     },
     "metadata": {},
     "output_type": "display_data"
    }
   ],
   "source": [
    "saveKaptcha('digits/')"
   ]
  },
  {
   "cell_type": "code",
   "execution_count": 193,
   "metadata": {},
   "outputs": [],
   "source": [
    "from keras.models import Sequential \n",
    "from keras.layers import Conv2D\n",
    "from keras.layers import MaxPooling2D \n",
    "from keras.layers import Flatten\n",
    "from keras.layers import Dense\n",
    "\n",
    "# Initialising the CNN\n",
    "classifier = Sequential()\n",
    "\n",
    "# Convolution\n",
    "classifier.add(Conv2D(32, (3, 3), input_shape = (60, 40,\n",
    "3), activation = 'relu'))\n",
    "\n",
    "# Max Pooling\n",
    "classifier.add(MaxPooling2D(pool_size = (2, 2)))\n",
    "\n",
    "# Convolution\n",
    "classifier.add(Conv2D(32, (3, 3), activation = 'relu'))\n",
    "\n",
    "# Max Pooling\n",
    "classifier.add(MaxPooling2D(pool_size = (2, 2)))\n",
    "\n",
    "# Flattening\n",
    "classifier.add(Flatten())\n",
    "\n",
    "# Fully Connected\n",
    "classifier.add(Dense(units = 128, activation = 'relu')) \n",
    "classifier.add(Dense(units = 128, activation = 'relu'))\n",
    "classifier.add(Dense(units = 10, activation = 'softmax'))\n",
    "\n",
    "classifier.compile(optimizer = 'adam', \n",
    "                        loss ='categorical_crossentropy', \n",
    "                     metrics = ['accuracy'])"
   ]
  },
  {
   "cell_type": "code",
   "execution_count": 194,
   "metadata": {},
   "outputs": [
    {
     "name": "stdout",
     "output_type": "stream",
     "text": [
      "Found 44 images belonging to 10 classes.\n"
     ]
    }
   ],
   "source": [
    "training_set = train_datagen.flow_from_directory(\n",
    "    'digits/', target_size = (60, 40),\n",
    "     batch_size = 10,\n",
    "     class_mode = 'categorical')"
   ]
  },
  {
   "cell_type": "code",
   "execution_count": 197,
   "metadata": {},
   "outputs": [
    {
     "name": "stdout",
     "output_type": "stream",
     "text": [
      "Epoch 1/10\n",
      " 6/10 [=================>............] - ETA: 0s - loss: 2.4435e-05 - acc: 1.0000"
     ]
    },
    {
     "name": "stderr",
     "output_type": "stream",
     "text": [
      "C:\\ProgramData\\Anaconda3_2\\lib\\site-packages\\ipykernel_launcher.py:5: UserWarning: The semantics of the Keras 2 argument `steps_per_epoch` is not the same as the Keras 1 argument `samples_per_epoch`. `steps_per_epoch` is the number of batches to draw from the generator at each epoch. Basically steps_per_epoch = samples_per_epoch/batch_size. Similarly `nb_val_samples`->`validation_steps` and `val_samples`->`steps` arguments have changed. Update your method calls accordingly.\n",
      "  \"\"\"\n",
      "C:\\ProgramData\\Anaconda3_2\\lib\\site-packages\\ipykernel_launcher.py:5: UserWarning: Update your `fit_generator` call to the Keras 2 API: `fit_generator(<keras_pre..., steps_per_epoch=10, verbose=1, epochs=10, validation_steps=10)`\n",
      "  \"\"\"\n"
     ]
    },
    {
     "name": "stdout",
     "output_type": "stream",
     "text": [
      "10/10 [==============================] - 0s 29ms/step - loss: 4.0670e-05 - acc: 1.0000\n",
      "Epoch 2/10\n",
      "10/10 [==============================] - 0s 28ms/step - loss: 4.3371e-05 - acc: 1.0000\n",
      "Epoch 3/10\n",
      "10/10 [==============================] - 0s 27ms/step - loss: 4.5360e-05 - acc: 1.0000\n",
      "Epoch 4/10\n",
      "10/10 [==============================] - 0s 27ms/step - loss: 4.0787e-05 - acc: 1.0000\n",
      "Epoch 5/10\n",
      "10/10 [==============================] - 0s 29ms/step - loss: 3.8631e-05 - acc: 1.0000\n",
      "Epoch 6/10\n",
      "10/10 [==============================] - 0s 28ms/step - loss: 2.5825e-05 - acc: 1.0000\n",
      "Epoch 7/10\n",
      "10/10 [==============================] - 0s 28ms/step - loss: 3.8060e-05 - acc: 1.0000\n",
      "Epoch 8/10\n",
      "10/10 [==============================] - 0s 28ms/step - loss: 2.8640e-05 - acc: 1.0000\n",
      "Epoch 9/10\n",
      "10/10 [==============================] - 0s 29ms/step - loss: 2.7328e-05 - acc: 1.0000\n",
      "Epoch 10/10\n",
      "10/10 [==============================] - 0s 28ms/step - loss: 2.9497e-05 - acc: 1.0000\n"
     ]
    }
   ],
   "source": [
    "history = classifier.fit_generator(training_set,\n",
    "                         nb_epoch=10,\n",
    "                         nb_val_samples=10,\n",
    "                         steps_per_epoch = 10,\n",
    "                         verbose = 1)"
   ]
  },
  {
   "cell_type": "code",
   "execution_count": 198,
   "metadata": {},
   "outputs": [
    {
     "data": {
      "text/plain": [
       "<Figure size 432x288 with 0 Axes>"
      ]
     },
     "metadata": {},
     "output_type": "display_data"
    },
    {
     "data": {
      "text/plain": [
       "<Figure size 432x288 with 0 Axes>"
      ]
     },
     "metadata": {},
     "output_type": "display_data"
    },
    {
     "data": {
      "text/plain": [
       "<Figure size 432x288 with 0 Axes>"
      ]
     },
     "metadata": {},
     "output_type": "display_data"
    },
    {
     "data": {
      "text/plain": [
       "<Figure size 432x288 with 0 Axes>"
      ]
     },
     "metadata": {},
     "output_type": "display_data"
    },
    {
     "data": {
      "text/plain": [
       "<Figure size 432x288 with 0 Axes>"
      ]
     },
     "metadata": {},
     "output_type": "display_data"
    },
    {
     "data": {
      "text/plain": [
       "<Figure size 432x288 with 0 Axes>"
      ]
     },
     "metadata": {},
     "output_type": "display_data"
    }
   ],
   "source": [
    "saveKaptcha('digits/')"
   ]
  },
  {
   "cell_type": "code",
   "execution_count": 205,
   "metadata": {
    "scrolled": true
   },
   "outputs": [
    {
     "name": "stdout",
     "output_type": "stream",
     "text": [
      "[2]\n",
      "[9]\n",
      "[7]\n",
      "[4]\n",
      "[4]\n",
      "[8]\n"
     ]
    },
    {
     "data": {
      "text/plain": [
       "<Figure size 432x288 with 0 Axes>"
      ]
     },
     "metadata": {},
     "output_type": "display_data"
    },
    {
     "data": {
      "text/plain": [
       "<Figure size 432x288 with 0 Axes>"
      ]
     },
     "metadata": {},
     "output_type": "display_data"
    },
    {
     "data": {
      "text/plain": [
       "<Figure size 432x288 with 0 Axes>"
      ]
     },
     "metadata": {},
     "output_type": "display_data"
    },
    {
     "data": {
      "text/plain": [
       "<Figure size 432x288 with 0 Axes>"
      ]
     },
     "metadata": {},
     "output_type": "display_data"
    },
    {
     "data": {
      "text/plain": [
       "<Figure size 432x288 with 0 Axes>"
      ]
     },
     "metadata": {},
     "output_type": "display_data"
    },
    {
     "data": {
      "text/plain": [
       "<Figure size 432x288 with 0 Axes>"
      ]
     },
     "metadata": {},
     "output_type": "display_data"
    }
   ],
   "source": [
    "from keras.preprocessing import image\n",
    "for f in os.listdir('digits/predict/'):\n",
    "    fig = plt.figure()\n",
    "    test_image = image.load_img('digits/predict/'+f, target_size= (60,40))\n",
    "    test_image = image.img_to_array(test_image)\n",
    "    test_image = np.expand_dims(test_image, axis = 0)\n",
    "    print(classifier.predict_classes(test_image))\n",
    "    #plt.imshow(img)"
   ]
  },
  {
   "cell_type": "code",
   "execution_count": 233,
   "metadata": {
    "scrolled": true
   },
   "outputs": [
    {
     "data": {
      "image/png": "[encoded data removed]",
      "text/plain": [
       "<PIL.JpegImagePlugin.JpegImageFile image mode=RGB size=120x40 at 0x201545C0>"
      ]
     },
     "execution_count": 233,
     "metadata": {},
     "output_type": "execute_result"
    },
    {
     "data": {
      "text/plain": [
       "<Figure size 432x288 with 0 Axes>"
      ]
     },
     "metadata": {},
     "output_type": "display_data"
    },
    {
     "data": {
      "text/plain": [
       "<Figure size 432x288 with 0 Axes>"
      ]
     },
     "metadata": {},
     "output_type": "display_data"
    },
    {
     "data": {
      "text/plain": [
       "<Figure size 432x288 with 0 Axes>"
      ]
     },
     "metadata": {},
     "output_type": "display_data"
    },
    {
     "data": {
      "text/plain": [
       "<Figure size 432x288 with 0 Axes>"
      ]
     },
     "metadata": {},
     "output_type": "display_data"
    },
    {
     "data": {
      "text/plain": [
       "<Figure size 432x288 with 0 Axes>"
      ]
     },
     "metadata": {},
     "output_type": "display_data"
    },
    {
     "data": {
      "text/plain": [
       "<Figure size 432x288 with 0 Axes>"
      ]
     },
     "metadata": {},
     "output_type": "display_data"
    }
   ],
   "source": [
    "import requests\n",
    "rs  = requests.session()\n",
    "res = rs.get('http://gcis.nat.gov.tw/pub/cmpy/cmpyInfoListAction.do')\n",
    "with open('kaptcha.jpg', 'wb') as f:\n",
    "    res2 = rs.get('http://gcis.nat.gov.tw/pub/kaptcha.jpg')\n",
    "    f.write(res2.content)\n",
    "    \n",
    "saveKaptcha('digits/predict2/')\n",
    "Image.open('kaptcha.jpg')"
   ]
  },
  {
   "cell_type": "code",
   "execution_count": 234,
   "metadata": {},
   "outputs": [
    {
     "data": {
      "text/plain": [
       "<Figure size 432x288 with 0 Axes>"
      ]
     },
     "metadata": {},
     "output_type": "display_data"
    },
    {
     "data": {
      "text/plain": [
       "<Figure size 432x288 with 0 Axes>"
      ]
     },
     "metadata": {},
     "output_type": "display_data"
    },
    {
     "data": {
      "text/plain": [
       "<Figure size 432x288 with 0 Axes>"
      ]
     },
     "metadata": {},
     "output_type": "display_data"
    },
    {
     "data": {
      "text/plain": [
       "<Figure size 432x288 with 0 Axes>"
      ]
     },
     "metadata": {},
     "output_type": "display_data"
    },
    {
     "data": {
      "text/plain": [
       "<Figure size 432x288 with 0 Axes>"
      ]
     },
     "metadata": {},
     "output_type": "display_data"
    },
    {
     "data": {
      "text/plain": [
       "<Figure size 432x288 with 0 Axes>"
      ]
     },
     "metadata": {},
     "output_type": "display_data"
    }
   ],
   "source": [
    "from keras.preprocessing import image\n",
    "ppath = 'digits/predict2/'\n",
    "captcha = []\n",
    "for f in os.listdir(ppath):\n",
    "    fig = plt.figure()\n",
    "    test_image = image.load_img(ppath+f, target_size= (60,40))\n",
    "    test_image = image.img_to_array(test_image)\n",
    "    test_image = np.expand_dims(test_image, axis = 0)\n",
    "    captcha.append(str(classifier.predict_classes(test_image)[0]))"
   ]
  },
  {
   "cell_type": "code",
   "execution_count": 235,
   "metadata": {},
   "outputs": [
    {
     "data": {
      "text/plain": [
       "'763416'"
      ]
     },
     "execution_count": 235,
     "metadata": {},
     "output_type": "execute_result"
    }
   ],
   "source": [
    "''.join(captcha)"
   ]
  },
  {
   "cell_type": "code",
   "execution_count": null,
   "metadata": {},
   "outputs": [],
   "source": [
    "method: query\n",
    "otherEnterFlag: false\n",
    "useEUC: N\n",
    "isShowEUC: N\n",
    "queryKey: \n",
    "selCmpyType: 1\n",
    "selQueryType: 2\n",
    "queryStr: 24567645\n",
    "brBanNo: \n",
    "imageCode: 434102"
   ]
  },
  {
   "cell_type": "code",
   "execution_count": 240,
   "metadata": {},
   "outputs": [],
   "source": [
    "payload = {\n",
    "'method':'query',\n",
    "'otherEnterFlag':'false',\n",
    "'useEUC':'N',\n",
    "'isShowEUC':'N',\n",
    "'selCmpyType':'1',\n",
    "'selQueryType':'2',\n",
    "'queryStr':'24567645',\n",
    "'imageCode':''.join(captcha) \n",
    "}\n",
    "\n",
    "headers ={\n",
    "'Referer':'https://serv.gcis.nat.gov.tw/pub/cmpy/cmpyInfoListAction.do',\n",
    "'User-Agent':'Mozilla/5.0 (Windows NT 6.1; Win64; x64) AppleWebKit/537.36 (KHTML, like Gecko) Chrome/60.0.3112.90 Safari/537.36'   \n",
    "} \n",
    "res3 = rs.post('https://serv.gcis.nat.gov.tw/pub/cmpy/cmpyInfoListAction.do', data = payload, headers = headers)\n",
    "res3.encoding = 'cp950'\n",
    "\n",
    "#print(res3.text)"
   ]
  },
  {
   "cell_type": "code",
   "execution_count": null,
   "metadata": {},
   "outputs": [],
   "source": []
  },
  {
   "cell_type": "code",
   "execution_count": null,
   "metadata": {},
   "outputs": [],
   "source": []
  }
 ],
 "metadata": {
  "kernelspec": {
   "display_name": "Python 3",
   "language": "python",
   "name": "python3"
  },
  "language_info": {
   "codemirror_mode": {
    "name": "ipython",
    "version": 3
   },
   "file_extension": ".py",
   "mimetype": "text/x-python",
   "name": "python",
   "nbconvert_exporter": "python",
   "pygments_lexer": "ipython3",
   "version": "3.6.5"
  }
 },
 "nbformat": 4,
 "nbformat_minor": 2
}
