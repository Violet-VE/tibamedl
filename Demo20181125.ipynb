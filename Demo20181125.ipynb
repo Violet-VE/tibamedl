{
 "cells": [
  {
   "cell_type": "markdown",
   "metadata": {},
   "source": [
    "## 安裝 Pandas DataReader"
   ]
  },
  {
   "cell_type": "code",
   "execution_count": 1,
   "metadata": {},
   "outputs": [
    {
     "name": "stdout",
     "output_type": "stream",
     "text": [
      "Collecting pandas-datareader\n",
      "  Downloading https://files.pythonhosted.org/packages/cc/5c/ea5b6dcfd0f55c5fb1e37fb45335ec01cceca199b8a79339137f5ed269e0/pandas_datareader-0.7.0-py2.py3-none-any.whl (111kB)\n",
      "Requirement already satisfied: requests>=2.3.0 in c:\\programdata\\anaconda3_2\\lib\\site-packages (from pandas-datareader) (2.18.4)\n",
      "Requirement already satisfied: lxml in c:\\programdata\\anaconda3_2\\lib\\site-packages (from pandas-datareader) (4.2.1)\n",
      "Requirement already satisfied: wrapt in c:\\programdata\\anaconda3_2\\lib\\site-packages (from pandas-datareader) (1.10.11)\n",
      "Requirement already satisfied: pandas>=0.19.2 in c:\\programdata\\anaconda3_2\\lib\\site-packages (from pandas-datareader) (0.23.0)\n",
      "Requirement already satisfied: chardet<3.1.0,>=3.0.2 in c:\\programdata\\anaconda3_2\\lib\\site-packages (from requests>=2.3.0->pandas-datareader) (3.0.4)\n",
      "Requirement already satisfied: idna<2.7,>=2.5 in c:\\programdata\\anaconda3_2\\lib\\site-packages (from requests>=2.3.0->pandas-datareader) (2.6)\n",
      "Requirement already satisfied: urllib3<1.23,>=1.21.1 in c:\\programdata\\anaconda3_2\\lib\\site-packages (from requests>=2.3.0->pandas-datareader) (1.22)\n",
      "Requirement already satisfied: certifi>=2017.4.17 in c:\\programdata\\anaconda3_2\\lib\\site-packages (from requests>=2.3.0->pandas-datareader) (2018.4.16)\n",
      "Requirement already satisfied: python-dateutil>=2.5.0 in c:\\programdata\\anaconda3_2\\lib\\site-packages (from pandas>=0.19.2->pandas-datareader) (2.7.3)\n",
      "Requirement already satisfied: pytz>=2011k in c:\\programdata\\anaconda3_2\\lib\\site-packages (from pandas>=0.19.2->pandas-datareader) (2018.4)\n",
      "Requirement already satisfied: numpy>=1.9.0 in c:\\programdata\\anaconda3_2\\lib\\site-packages (from pandas>=0.19.2->pandas-datareader) (1.14.3)\n",
      "Requirement already satisfied: six>=1.5 in c:\\programdata\\anaconda3_2\\lib\\site-packages (from python-dateutil>=2.5.0->pandas>=0.19.2->pandas-datareader) (1.11.0)\n",
      "Installing collected packages: pandas-datareader\n",
      "Successfully installed pandas-datareader-0.7.0\n"
     ]
    },
    {
     "name": "stderr",
     "output_type": "stream",
     "text": [
      "distributed 1.21.8 requires msgpack, which is not installed.\n",
      "You are using pip version 10.0.1, however version 18.1 is available.\n",
      "You should consider upgrading via the 'python -m pip install --upgrade pip' command.\n"
     ]
    }
   ],
   "source": [
    "! pip install pandas-datareader"
   ]
  },
  {
   "cell_type": "markdown",
   "metadata": {},
   "source": [
    "## 讀取 Google 股價"
   ]
  },
  {
   "cell_type": "code",
   "execution_count": 3,
   "metadata": {},
   "outputs": [],
   "source": [
    "import pandas_datareader\n",
    "df = pandas_datareader.get_data_yahoo('goog')"
   ]
  },
  {
   "cell_type": "code",
   "execution_count": 6,
   "metadata": {},
   "outputs": [
    {
     "name": "stdout",
     "output_type": "stream",
     "text": [
      "Populating the interactive namespace from numpy and matplotlib\n"
     ]
    },
    {
     "data": {
      "text/plain": [
       "<matplotlib.axes._subplots.AxesSubplot at 0x9f999e8>"
      ]
     },
     "execution_count": 6,
     "metadata": {},
     "output_type": "execute_result"
    },
    {
     "data": {
      "image/png": "[encoded data removed]",
      "text/plain": [
       "<Figure size 432x288 with 1 Axes>"
      ]
     },
     "metadata": {},
     "output_type": "display_data"
    }
   ],
   "source": [
    "% pylab inline\n",
    "df['Close'].plot(kind = 'line')"
   ]
  },
  {
   "cell_type": "code",
   "execution_count": 8,
   "metadata": {},
   "outputs": [
    {
     "data": {
      "text/plain": [
       "High         2241\n",
       "Low          2241\n",
       "Open         2241\n",
       "Close        2241\n",
       "Volume       2241\n",
       "Adj Close    2241\n",
       "dtype: int64"
      ]
     },
     "execution_count": 8,
     "metadata": {},
     "output_type": "execute_result"
    }
   ],
   "source": [
    "df.count()"
   ]
  },
  {
   "cell_type": "code",
   "execution_count": 10,
   "metadata": {},
   "outputs": [
    {
     "data": {
      "text/plain": [
       "1568.6999999999998"
      ]
     },
     "execution_count": 10,
     "metadata": {},
     "output_type": "execute_result"
    }
   ],
   "source": [
    "2241 * 0.7"
   ]
  },
  {
   "cell_type": "code",
   "execution_count": 11,
   "metadata": {},
   "outputs": [],
   "source": [
    "trainset = df.iloc[0:1570,:]\n",
    "testset  = df.iloc[1570: ,:]"
   ]
  },
  {
   "cell_type": "code",
   "execution_count": 15,
   "metadata": {},
   "outputs": [],
   "source": [
    "training_set = trainset.iloc[:,3:4].values"
   ]
  },
  {
   "cell_type": "code",
   "execution_count": 20,
   "metadata": {},
   "outputs": [],
   "source": [
    "#training_set"
   ]
  },
  {
   "cell_type": "code",
   "execution_count": 17,
   "metadata": {},
   "outputs": [],
   "source": [
    "test_set = testset.iloc[:,3:4].values"
   ]
  },
  {
   "cell_type": "code",
   "execution_count": 19,
   "metadata": {},
   "outputs": [],
   "source": [
    "#test_set"
   ]
  },
  {
   "cell_type": "markdown",
   "metadata": {},
   "source": [
    "## 資料標準化"
   ]
  },
  {
   "cell_type": "code",
   "execution_count": 21,
   "metadata": {},
   "outputs": [],
   "source": [
    "from sklearn.preprocessing import MinMaxScaler\n",
    "sc = MinMaxScaler(feature_range = (0, 1))\n",
    "training_set_scaled = sc.fit_transform(training_set)"
   ]
  },
  {
   "cell_type": "code",
   "execution_count": 23,
   "metadata": {},
   "outputs": [
    {
     "data": {
      "text/plain": [
       "array([[307.98684692],\n",
       "       [311.34997559],\n",
       "       [309.97888184],\n",
       "       ...,\n",
       "       [735.29998779],\n",
       "       [733.5300293 ],\n",
       "       [744.77001953]])"
      ]
     },
     "execution_count": 23,
     "metadata": {},
     "output_type": "execute_result"
    }
   ],
   "source": [
    "training_set"
   ]
  },
  {
   "cell_type": "code",
   "execution_count": 24,
   "metadata": {},
   "outputs": [
    {
     "data": {
      "text/plain": [
       "array([[0.16315187],\n",
       "       [0.16915774],\n",
       "       [0.16670924],\n",
       "       ...,\n",
       "       [0.92624659],\n",
       "       [0.9230858 ],\n",
       "       [0.94315815]])"
      ]
     },
     "execution_count": 24,
     "metadata": {},
     "output_type": "execute_result"
    }
   ],
   "source": [
    "training_set_scaled"
   ]
  },
  {
   "cell_type": "code",
   "execution_count": 25,
   "metadata": {},
   "outputs": [
    {
     "data": {
      "text/plain": [
       "1570"
      ]
     },
     "execution_count": 25,
     "metadata": {},
     "output_type": "execute_result"
    }
   ],
   "source": [
    "len(training_set_scaled)"
   ]
  },
  {
   "cell_type": "markdown",
   "metadata": {},
   "source": [
    "## 建立特徵X與目標y"
   ]
  },
  {
   "cell_type": "code",
   "execution_count": 26,
   "metadata": {},
   "outputs": [],
   "source": [
    "import numpy as np\n",
    "\n",
    "X_train = []\n",
    "y_train = []\n",
    "\n",
    "for i in range(60, 1570):\n",
    "    X_train.append(training_set_scaled[i-60:i, 0])\n",
    "    y_train.append(training_set_scaled[i,0])\n"
   ]
  },
  {
   "cell_type": "code",
   "execution_count": 28,
   "metadata": {},
   "outputs": [
    {
     "data": {
      "text/plain": [
       "array([0.16315187, 0.16915774, 0.16670924, 0.1527547 , 0.14019297,\n",
       "       0.14721905, 0.14641177, 0.13698156, 0.13397418, 0.13642268,\n",
       "       0.12768444, 0.13444439, 0.12804816, 0.13032809, 0.10107944,\n",
       "       0.09219929, 0.09434613, 0.09406225, 0.08713379, 0.08327477,\n",
       "       0.08600715, 0.08432162, 0.09292673, 0.08047143, 0.08447242,\n",
       "       0.08640634, 0.08904112, 0.08727575, 0.08900564, 0.08609587,\n",
       "       0.09335258, 0.09061132, 0.09505586, 0.09287354, 0.09468326,\n",
       "       0.08782575, 0.0846321 , 0.08016096, 0.0804892 , 0.08571438,\n",
       "       0.09313965, 0.09691883, 0.1051425 , 0.11367671, 0.11214198,\n",
       "       0.11011045, 0.12453515, 0.12869576, 0.12727635, 0.11276293,\n",
       "       0.11455494, 0.1148743 , 0.11561951, 0.10994189, 0.10772408,\n",
       "       0.10018344, 0.10757323, 0.11249682, 0.11232826, 0.11211533])"
      ]
     },
     "execution_count": 28,
     "metadata": {},
     "output_type": "execute_result"
    }
   ],
   "source": [
    "X_train[0]"
   ]
  },
  {
   "cell_type": "code",
   "execution_count": 29,
   "metadata": {},
   "outputs": [
    {
     "data": {
      "text/plain": [
       "0.11589451009798751"
      ]
     },
     "execution_count": 29,
     "metadata": {},
     "output_type": "execute_result"
    }
   ],
   "source": [
    "y_train[0]"
   ]
  },
  {
   "cell_type": "code",
   "execution_count": 30,
   "metadata": {},
   "outputs": [],
   "source": [
    "X_train, y_train = np.array(X_train), np.array(y_train)"
   ]
  },
  {
   "cell_type": "code",
   "execution_count": 31,
   "metadata": {},
   "outputs": [
    {
     "data": {
      "text/plain": [
       "(1510, 60)"
      ]
     },
     "execution_count": 31,
     "metadata": {},
     "output_type": "execute_result"
    }
   ],
   "source": [
    "X_train.shape"
   ]
  },
  {
   "cell_type": "code",
   "execution_count": 32,
   "metadata": {},
   "outputs": [
    {
     "data": {
      "text/plain": [
       "(1510,)"
      ]
     },
     "execution_count": 32,
     "metadata": {},
     "output_type": "execute_result"
    }
   ],
   "source": [
    "y_train.shape"
   ]
  },
  {
   "cell_type": "code",
   "execution_count": 33,
   "metadata": {},
   "outputs": [],
   "source": [
    "X_train = np.reshape(X_train, (X_train.shape[0], X_train.shape[1], 1))"
   ]
  },
  {
   "cell_type": "code",
   "execution_count": 35,
   "metadata": {},
   "outputs": [
    {
     "data": {
      "text/plain": [
       "(1510, 60, 1)"
      ]
     },
     "execution_count": 35,
     "metadata": {},
     "output_type": "execute_result"
    }
   ],
   "source": [
    "X_train.shape"
   ]
  },
  {
   "cell_type": "code",
   "execution_count": 36,
   "metadata": {},
   "outputs": [
    {
     "data": {
      "text/plain": [
       "(60, 1)"
      ]
     },
     "execution_count": 36,
     "metadata": {},
     "output_type": "execute_result"
    }
   ],
   "source": [
    "X_train.shape[1], 1"
   ]
  },
  {
   "cell_type": "markdown",
   "metadata": {},
   "source": [
    "## 建構LSTM模型"
   ]
  },
  {
   "cell_type": "code",
   "execution_count": 37,
   "metadata": {},
   "outputs": [
    {
     "name": "stderr",
     "output_type": "stream",
     "text": [
      "C:\\ProgramData\\Anaconda3_2\\lib\\site-packages\\h5py\\__init__.py:36: FutureWarning: Conversion of the second argument of issubdtype from `float` to `np.floating` is deprecated. In future, it will be treated as `np.float64 == np.dtype(float).type`.\n",
      "  from ._conv import register_converters as _register_converters\n",
      "Using TensorFlow backend.\n"
     ]
    }
   ],
   "source": [
    "from keras.models import Sequential \n",
    "from keras.layers import Dense\n",
    "from keras.layers import LSTM\n",
    "from keras.layers import Dropout\n",
    "\n",
    "\n",
    "regressor = Sequential()\n",
    "regressor.add(LSTM(units = 50, return_sequences = True, input_shape = (X_train.shape[1], 1)))\n",
    "regressor.add(Dropout(0.2))\n",
    "\n",
    "regressor.add(LSTM(units = 50, return_sequences = True)) \n",
    "regressor.add(Dropout(0.2))\n",
    "\n",
    "regressor.add(LSTM(units = 50, return_sequences = True)) \n",
    "regressor.add(Dropout(0.2))\n",
    "\n",
    "regressor.add(LSTM(units = 50))\n",
    "regressor.add(Dropout(0.2))\n",
    "\n",
    "regressor.add(Dense(units = 1))"
   ]
  },
  {
   "cell_type": "markdown",
   "metadata": {},
   "source": [
    "## 訓練模型"
   ]
  },
  {
   "cell_type": "code",
   "execution_count": 38,
   "metadata": {},
   "outputs": [
    {
     "name": "stdout",
     "output_type": "stream",
     "text": [
      "Epoch 1/100\n",
      "1510/1510 [==============================] - 6s 4ms/step - loss: 0.0299\n",
      "Epoch 2/100\n",
      "1510/1510 [==============================] - 4s 2ms/step - loss: 0.0040\n",
      "Epoch 3/100\n",
      "1510/1510 [==============================] - 4s 2ms/step - loss: 0.0037\n",
      "Epoch 4/100\n",
      "1510/1510 [==============================] - 4s 2ms/step - loss: 0.0035\n",
      "Epoch 5/100\n",
      "1510/1510 [==============================] - 4s 2ms/step - loss: 0.0028\n",
      "Epoch 6/100\n",
      "1510/1510 [==============================] - 4s 3ms/step - loss: 0.0030\n",
      "Epoch 7/100\n",
      "1510/1510 [==============================] - 4s 2ms/step - loss: 0.0034\n",
      "Epoch 8/100\n",
      "1510/1510 [==============================] - 4s 2ms/step - loss: 0.0033\n",
      "Epoch 9/100\n",
      "1510/1510 [==============================] - 4s 2ms/step - loss: 0.0028\n",
      "Epoch 10/100\n",
      "1510/1510 [==============================] - 4s 2ms/step - loss: 0.0028\n",
      "Epoch 11/100\n",
      "1510/1510 [==============================] - 4s 2ms/step - loss: 0.0028\n",
      "Epoch 12/100\n",
      "1510/1510 [==============================] - 4s 3ms/step - loss: 0.0025\n",
      "Epoch 13/100\n",
      "1510/1510 [==============================] - 4s 2ms/step - loss: 0.0024\n",
      "Epoch 14/100\n",
      "1510/1510 [==============================] - 4s 2ms/step - loss: 0.0030\n",
      "Epoch 15/100\n",
      "1510/1510 [==============================] - 4s 2ms/step - loss: 0.0024\n",
      "Epoch 16/100\n",
      "1510/1510 [==============================] - 4s 2ms/step - loss: 0.0023\n",
      "Epoch 17/100\n",
      "1510/1510 [==============================] - 4s 2ms/step - loss: 0.0024\n",
      "Epoch 18/100\n",
      "1510/1510 [==============================] - 4s 2ms/step - loss: 0.0023\n",
      "Epoch 19/100\n",
      "1510/1510 [==============================] - 4s 2ms/step - loss: 0.0026\n",
      "Epoch 20/100\n",
      "1510/1510 [==============================] - 4s 2ms/step - loss: 0.0023\n",
      "Epoch 21/100\n",
      "1510/1510 [==============================] - 4s 2ms/step - loss: 0.0023\n",
      "Epoch 22/100\n",
      "1510/1510 [==============================] - 4s 3ms/step - loss: 0.0022\n",
      "Epoch 23/100\n",
      "1510/1510 [==============================] - 4s 3ms/step - loss: 0.0021\n",
      "Epoch 24/100\n",
      "1510/1510 [==============================] - 4s 2ms/step - loss: 0.0022\n",
      "Epoch 25/100\n",
      "1510/1510 [==============================] - 4s 2ms/step - loss: 0.0022\n",
      "Epoch 26/100\n",
      "1510/1510 [==============================] - 4s 2ms/step - loss: 0.0018\n",
      "Epoch 27/100\n",
      "1510/1510 [==============================] - 5s 3ms/step - loss: 0.0020\n",
      "Epoch 28/100\n",
      "1510/1510 [==============================] - 4s 2ms/step - loss: 0.0022\n",
      "Epoch 29/100\n",
      "1510/1510 [==============================] - 4s 3ms/step - loss: 0.0019\n",
      "Epoch 30/100\n",
      "1510/1510 [==============================] - 4s 2ms/step - loss: 0.0020\n",
      "Epoch 31/100\n",
      "1510/1510 [==============================] - 4s 2ms/step - loss: 0.0019\n",
      "Epoch 32/100\n",
      "1510/1510 [==============================] - 4s 2ms/step - loss: 0.0018\n",
      "Epoch 33/100\n",
      "1510/1510 [==============================] - 4s 2ms/step - loss: 0.0017\n",
      "Epoch 34/100\n",
      "1510/1510 [==============================] - 4s 3ms/step - loss: 0.0017\n",
      "Epoch 35/100\n",
      "1510/1510 [==============================] - 4s 3ms/step - loss: 0.0017\n",
      "Epoch 36/100\n",
      "1510/1510 [==============================] - 4s 3ms/step - loss: 0.0019\n",
      "Epoch 37/100\n",
      "1510/1510 [==============================] - 4s 3ms/step - loss: 0.0017\n",
      "Epoch 38/100\n",
      "1510/1510 [==============================] - 4s 2ms/step - loss: 0.0016\n",
      "Epoch 39/100\n",
      "1510/1510 [==============================] - 4s 2ms/step - loss: 0.0018\n",
      "Epoch 40/100\n",
      "1510/1510 [==============================] - 4s 2ms/step - loss: 0.0019\n",
      "Epoch 41/100\n",
      "1510/1510 [==============================] - 4s 2ms/step - loss: 0.0017\n",
      "Epoch 42/100\n",
      "1510/1510 [==============================] - 4s 2ms/step - loss: 0.0017\n",
      "Epoch 43/100\n",
      "1510/1510 [==============================] - 4s 2ms/step - loss: 0.0015\n",
      "Epoch 44/100\n",
      "1510/1510 [==============================] - 4s 2ms/step - loss: 0.0016\n",
      "Epoch 45/100\n",
      "1510/1510 [==============================] - 4s 3ms/step - loss: 0.0016\n",
      "Epoch 46/100\n",
      "1510/1510 [==============================] - 4s 3ms/step - loss: 0.0018\n",
      "Epoch 47/100\n",
      "1510/1510 [==============================] - 4s 2ms/step - loss: 0.0016\n",
      "Epoch 48/100\n",
      "1510/1510 [==============================] - 4s 3ms/step - loss: 0.0015\n",
      "Epoch 49/100\n",
      "1510/1510 [==============================] - 4s 3ms/step - loss: 0.0015\n",
      "Epoch 50/100\n",
      "1510/1510 [==============================] - 4s 2ms/step - loss: 0.0015\n",
      "Epoch 51/100\n",
      "1510/1510 [==============================] - 4s 3ms/step - loss: 0.0016\n",
      "Epoch 52/100\n",
      "1510/1510 [==============================] - 4s 2ms/step - loss: 0.0016\n",
      "Epoch 53/100\n",
      "1510/1510 [==============================] - 4s 2ms/step - loss: 0.0015\n",
      "Epoch 54/100\n",
      "1510/1510 [==============================] - 4s 2ms/step - loss: 0.0015\n",
      "Epoch 55/100\n",
      "1510/1510 [==============================] - 4s 2ms/step - loss: 0.0015\n",
      "Epoch 56/100\n",
      "1510/1510 [==============================] - 4s 2ms/step - loss: 0.0014\n",
      "Epoch 57/100\n",
      "1510/1510 [==============================] - 4s 2ms/step - loss: 0.0015\n",
      "Epoch 58/100\n",
      "1510/1510 [==============================] - 4s 2ms/step - loss: 0.0014\n",
      "Epoch 59/100\n",
      "1510/1510 [==============================] - 4s 2ms/step - loss: 0.0013\n",
      "Epoch 60/100\n",
      "1510/1510 [==============================] - 4s 2ms/step - loss: 0.0015\n",
      "Epoch 61/100\n",
      "1510/1510 [==============================] - 4s 3ms/step - loss: 0.0012\n",
      "Epoch 62/100\n",
      "1510/1510 [==============================] - 4s 3ms/step - loss: 0.0013\n",
      "Epoch 63/100\n",
      "1510/1510 [==============================] - 4s 3ms/step - loss: 0.0015\n",
      "Epoch 64/100\n",
      "1510/1510 [==============================] - 4s 3ms/step - loss: 0.0012\n",
      "Epoch 65/100\n",
      "1510/1510 [==============================] - 4s 3ms/step - loss: 0.0014\n",
      "Epoch 66/100\n",
      "1510/1510 [==============================] - 4s 3ms/step - loss: 0.0018\n",
      "Epoch 67/100\n",
      "1510/1510 [==============================] - 4s 2ms/step - loss: 0.0013A: 0s - loss: \n",
      "Epoch 68/100\n",
      "1510/1510 [==============================] - 4s 3ms/step - loss: 0.0012\n",
      "Epoch 69/100\n",
      "1510/1510 [==============================] - 4s 3ms/step - loss: 0.0011\n",
      "Epoch 70/100\n",
      "1510/1510 [==============================] - 4s 2ms/step - loss: 0.0011\n",
      "Epoch 71/100\n",
      "1510/1510 [==============================] - 4s 2ms/step - loss: 0.0011\n",
      "Epoch 72/100\n",
      "1510/1510 [==============================] - 4s 2ms/step - loss: 0.0012\n",
      "Epoch 73/100\n",
      "1510/1510 [==============================] - 4s 2ms/step - loss: 0.0012\n",
      "Epoch 74/100\n",
      "1510/1510 [==============================] - 4s 2ms/step - loss: 0.0014\n",
      "Epoch 75/100\n",
      "1510/1510 [==============================] - 4s 2ms/step - loss: 0.0013\n",
      "Epoch 76/100\n",
      "1510/1510 [==============================] - 4s 2ms/step - loss: 0.0012\n",
      "Epoch 77/100\n",
      "1510/1510 [==============================] - 4s 2ms/step - loss: 0.0013\n",
      "Epoch 78/100\n",
      "1510/1510 [==============================] - 4s 2ms/step - loss: 0.0015\n",
      "Epoch 79/100\n",
      "1510/1510 [==============================] - 4s 2ms/step - loss: 0.0011\n",
      "Epoch 80/100\n",
      "1510/1510 [==============================] - 4s 2ms/step - loss: 0.0011\n",
      "Epoch 81/100\n",
      "1510/1510 [==============================] - 4s 2ms/step - loss: 0.0013\n",
      "Epoch 82/100\n",
      "1510/1510 [==============================] - 4s 2ms/step - loss: 0.0012\n",
      "Epoch 83/100\n",
      "1510/1510 [==============================] - 4s 3ms/step - loss: 0.0011\n",
      "Epoch 84/100\n",
      "1510/1510 [==============================] - 4s 2ms/step - loss: 0.0012\n",
      "Epoch 85/100\n",
      "1510/1510 [==============================] - 4s 2ms/step - loss: 0.0012\n",
      "Epoch 86/100\n",
      "1510/1510 [==============================] - 4s 2ms/step - loss: 0.0011\n",
      "Epoch 87/100\n",
      "1510/1510 [==============================] - 4s 3ms/step - loss: 0.0012\n",
      "Epoch 88/100\n",
      "1510/1510 [==============================] - 4s 2ms/step - loss: 0.0011\n",
      "Epoch 89/100\n",
      "1510/1510 [==============================] - 4s 2ms/step - loss: 0.0011\n",
      "Epoch 90/100\n",
      "1510/1510 [==============================] - 4s 2ms/step - loss: 0.0012\n",
      "Epoch 91/100\n",
      "1510/1510 [==============================] - 4s 2ms/step - loss: 0.0012\n",
      "Epoch 92/100\n",
      "1510/1510 [==============================] - 4s 3ms/step - loss: 0.0013\n",
      "Epoch 93/100\n",
      "1510/1510 [==============================] - 4s 3ms/step - loss: 0.0011\n",
      "Epoch 94/100\n",
      "1510/1510 [==============================] - 4s 3ms/step - loss: 0.0015\n",
      "Epoch 95/100\n",
      "1510/1510 [==============================] - 4s 3ms/step - loss: 0.0012\n",
      "Epoch 96/100\n",
      "1510/1510 [==============================] - 4s 3ms/step - loss: 0.0010\n",
      "Epoch 97/100\n"
     ]
    },
    {
     "name": "stdout",
     "output_type": "stream",
     "text": [
      "1510/1510 [==============================] - 4s 2ms/step - loss: 0.0011\n",
      "Epoch 98/100\n",
      "1510/1510 [==============================] - 4s 2ms/step - loss: 9.9985e-04\n",
      "Epoch 99/100\n",
      "1510/1510 [==============================] - 4s 2ms/step - loss: 0.0011\n",
      "Epoch 100/100\n",
      "1510/1510 [==============================] - 4s 2ms/step - loss: 9.7379e-04\n"
     ]
    },
    {
     "data": {
      "text/plain": [
       "<keras.callbacks.History at 0x1625ea58>"
      ]
     },
     "execution_count": 38,
     "metadata": {},
     "output_type": "execute_result"
    }
   ],
   "source": [
    "regressor.compile(optimizer = 'adam', loss = 'mean_squared_error')\n",
    "\n",
    "regressor.fit(X_train, y_train, epochs = 100, batch_size = 32)"
   ]
  },
  {
   "cell_type": "code",
   "execution_count": 41,
   "metadata": {},
   "outputs": [],
   "source": [
    "#X_train"
   ]
  },
  {
   "cell_type": "code",
   "execution_count": 42,
   "metadata": {},
   "outputs": [],
   "source": [
    "predicted = regressor.predict(X_train)"
   ]
  },
  {
   "cell_type": "code",
   "execution_count": 43,
   "metadata": {},
   "outputs": [
    {
     "data": {
      "text/plain": [
       "array([[0.11475463],\n",
       "       [0.116954  ],\n",
       "       [0.1187714 ],\n",
       "       ...,\n",
       "       [0.90822864],\n",
       "       [0.906258  ],\n",
       "       [0.90378845]], dtype=float32)"
      ]
     },
     "execution_count": 43,
     "metadata": {},
     "output_type": "execute_result"
    }
   ],
   "source": [
    "predicted"
   ]
  },
  {
   "cell_type": "markdown",
   "metadata": {},
   "source": [
    "## 反標準化預測結果"
   ]
  },
  {
   "cell_type": "code",
   "execution_count": 45,
   "metadata": {},
   "outputs": [],
   "source": [
    "predicted_stock_price = sc.inverse_transform(predicted)"
   ]
  },
  {
   "cell_type": "code",
   "execution_count": 48,
   "metadata": {},
   "outputs": [
    {
     "data": {
      "text/plain": [
       "((1570, 1), (1510, 1))"
      ]
     },
     "execution_count": 48,
     "metadata": {},
     "output_type": "execute_result"
    }
   ],
   "source": [
    "training_set.shape, predicted_stock_price.shape"
   ]
  },
  {
   "cell_type": "code",
   "execution_count": 50,
   "metadata": {},
   "outputs": [
    {
     "data": {
      "text/plain": [
       "(1510, 1)"
      ]
     },
     "execution_count": 50,
     "metadata": {},
     "output_type": "execute_result"
    }
   ],
   "source": [
    "training_set[60:].shape"
   ]
  },
  {
   "cell_type": "markdown",
   "metadata": {},
   "source": [
    "## 對照預測結果與實際結果"
   ]
  },
  {
   "cell_type": "code",
   "execution_count": 51,
   "metadata": {},
   "outputs": [
    {
     "data": {
      "image/png": "[encoded data removed]",
      "text/plain": [
       "<Figure size 432x288 with 1 Axes>"
      ]
     },
     "metadata": {},
     "output_type": "display_data"
    }
   ],
   "source": [
    "import matplotlib.pyplot as plt\n",
    "plt.plot(training_set[60:], color = 'red', label = 'Real Google Stock Price')\n",
    "plt.plot(predicted_stock_price, color = 'blue', label = 'Predicted Google Stock Price')\n",
    "plt.title('Google Stock Price Prediction')\n",
    "plt.xlabel('Time')\n",
    "plt.ylabel('Google Stock Price')\n",
    "plt.legend()\n",
    "plt.show()"
   ]
  },
  {
   "cell_type": "code",
   "execution_count": 53,
   "metadata": {},
   "outputs": [
    {
     "data": {
      "text/plain": [
       "(array([281.5239563]), array([280.88565], dtype=float32))"
      ]
     },
     "execution_count": 53,
     "metadata": {},
     "output_type": "execute_result"
    }
   ],
   "source": [
    "training_set[60:][0],predicted_stock_price[0]"
   ]
  },
  {
   "cell_type": "code",
   "execution_count": 55,
   "metadata": {},
   "outputs": [],
   "source": [
    "real_data      = training_set[60:].flatten()\n",
    "predicted_data = predicted_stock_price.flatten()"
   ]
  },
  {
   "cell_type": "code",
   "execution_count": 60,
   "metadata": {},
   "outputs": [
    {
     "data": {
      "text/plain": [
       "0.017293337609240282"
      ]
     },
     "execution_count": 60,
     "metadata": {},
     "output_type": "execute_result"
    }
   ],
   "source": [
    "import numpy as np\n",
    "(np.abs((real_data - predicted_data) / predicted_data)).mean()"
   ]
  },
  {
   "cell_type": "markdown",
   "metadata": {},
   "source": [
    "## 評估測試資料集"
   ]
  },
  {
   "cell_type": "code",
   "execution_count": 62,
   "metadata": {},
   "outputs": [
    {
     "data": {
      "text/plain": [
       "(671, 1)"
      ]
     },
     "execution_count": 62,
     "metadata": {},
     "output_type": "execute_result"
    }
   ],
   "source": [
    "test_set.shape"
   ]
  },
  {
   "cell_type": "code",
   "execution_count": 63,
   "metadata": {},
   "outputs": [],
   "source": [
    "inputs = sc.transform(test_set)"
   ]
  },
  {
   "cell_type": "code",
   "execution_count": 65,
   "metadata": {},
   "outputs": [
    {
     "data": {
      "text/plain": [
       "671"
      ]
     },
     "execution_count": 65,
     "metadata": {},
     "output_type": "execute_result"
    }
   ],
   "source": [
    "len(inputs)"
   ]
  },
  {
   "cell_type": "code",
   "execution_count": 66,
   "metadata": {},
   "outputs": [],
   "source": [
    "X_test = []\n",
    "for i in range(60, 671):\n",
    "    X_test.append(inputs[i-60:i, 0])"
   ]
  },
  {
   "cell_type": "code",
   "execution_count": 68,
   "metadata": {},
   "outputs": [
    {
     "data": {
      "text/plain": [
       "(611, 60)"
      ]
     },
     "execution_count": 68,
     "metadata": {},
     "output_type": "execute_result"
    }
   ],
   "source": [
    "X_test = np.array(X_test)\n",
    "X_test.shape"
   ]
  },
  {
   "cell_type": "code",
   "execution_count": 69,
   "metadata": {},
   "outputs": [
    {
     "data": {
      "text/plain": [
       "(611, 60, 1)"
      ]
     },
     "execution_count": 69,
     "metadata": {},
     "output_type": "execute_result"
    }
   ],
   "source": [
    "X_test = np.reshape(X_test, (X_test.shape[0], X_test.shape[1], 1))\n",
    "X_test.shape"
   ]
  },
  {
   "cell_type": "code",
   "execution_count": 70,
   "metadata": {},
   "outputs": [],
   "source": [
    "test_predicted = regressor.predict(X_test)"
   ]
  },
  {
   "cell_type": "code",
   "execution_count": 72,
   "metadata": {},
   "outputs": [],
   "source": [
    "test_predicted_stock_price = sc.inverse_transform(test_predicted)"
   ]
  },
  {
   "cell_type": "code",
   "execution_count": 74,
   "metadata": {},
   "outputs": [],
   "source": [
    "#test_predicted_stock_price"
   ]
  },
  {
   "cell_type": "code",
   "execution_count": 75,
   "metadata": {},
   "outputs": [
    {
     "data": {
      "image/png": "[encoded data removed]",
      "text/plain": [
       "<Figure size 432x288 with 1 Axes>"
      ]
     },
     "metadata": {},
     "output_type": "display_data"
    }
   ],
   "source": [
    "import matplotlib.pyplot as plt\n",
    "plt.plot(test_set[60:], color = 'red', label = 'Real Google Stock Price')\n",
    "plt.plot(test_predicted_stock_price, color = 'blue', label = 'Predicted Google Stock Price')\n",
    "plt.title('Google Stock Price Prediction')\n",
    "plt.xlabel('Time')\n",
    "plt.ylabel('Google Stock Price')\n",
    "plt.legend()\n",
    "plt.show()"
   ]
  },
  {
   "cell_type": "code",
   "execution_count": null,
   "metadata": {},
   "outputs": [],
   "source": []
  }
 ],
 "metadata": {
  "kernelspec": {
   "display_name": "Python 3",
   "language": "python",
   "name": "python3"
  },
  "language_info": {
   "codemirror_mode": {
    "name": "ipython",
    "version": 3
   },
   "file_extension": ".py",
   "mimetype": "text/x-python",
   "name": "python",
   "nbconvert_exporter": "python",
   "pygments_lexer": "ipython3",
   "version": "3.6.5"
  }
 },
 "nbformat": 4,
 "nbformat_minor": 2
}
