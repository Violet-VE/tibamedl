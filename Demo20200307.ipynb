{
  "nbformat": 4,
  "nbformat_minor": 0,
  "metadata": {
    "colab": {
      "name": "Demo20200307.ipynb",
      "provenance": [],
      "collapsed_sections": []
    },
    "kernelspec": {
      "name": "python3",
      "display_name": "Python 3"
    },
    "accelerator": "GPU"
  },
  "cells": [
    {
      "cell_type": "markdown",
      "metadata": {
        "id": "EfHBgIiLzu1-",
        "colab_type": "text"
      },
      "source": [
        "## Python Basic"
      ]
    },
    {
      "cell_type": "code",
      "metadata": {
        "id": "wVlE92ajy_Hy",
        "colab_type": "code",
        "outputId": "cb3a8f71-43cf-4e2b-9e2b-fbfc0058770f",
        "colab": {
          "base_uri": "https://localhost:8080/",
          "height": 34
        }
      },
      "source": [
        "a = 3\n",
        "b = 2\n",
        "a + b"
      ],
      "execution_count": 0,
      "outputs": [
        {
          "output_type": "execute_result",
          "data": {
            "text/plain": [
              "5"
            ]
          },
          "metadata": {
            "tags": []
          },
          "execution_count": 2
        }
      ]
    },
    {
      "cell_type": "code",
      "metadata": {
        "id": "xfLeTSi00qkt",
        "colab_type": "code",
        "outputId": "e2cde34b-6e71-4433-8f06-42b013b182c2",
        "colab": {
          "base_uri": "https://localhost:8080/",
          "height": 306
        }
      },
      "source": [
        "! nvidia-smi"
      ],
      "execution_count": 0,
      "outputs": [
        {
          "output_type": "stream",
          "text": [
            "Sat Mar  7 02:28:53 2020       \n",
            "+-----------------------------------------------------------------------------+\n",
            "| NVIDIA-SMI 440.59       Driver Version: 418.67       CUDA Version: 10.1     |\n",
            "|-------------------------------+----------------------+----------------------+\n",
            "| GPU  Name        Persistence-M| Bus-Id        Disp.A | Volatile Uncorr. ECC |\n",
            "| Fan  Temp  Perf  Pwr:Usage/Cap|         Memory-Usage | GPU-Util  Compute M. |\n",
            "|===============================+======================+======================|\n",
            "|   0  Tesla K80           Off  | 00000000:00:04.0 Off |                    0 |\n",
            "| N/A   70C    P8    32W / 149W |      0MiB / 11441MiB |      0%      Default |\n",
            "+-------------------------------+----------------------+----------------------+\n",
            "                                                                               \n",
            "+-----------------------------------------------------------------------------+\n",
            "| Processes:                                                       GPU Memory |\n",
            "|  GPU       PID   Type   Process name                             Usage      |\n",
            "|=============================================================================|\n",
            "|  No running processes found                                                 |\n",
            "+-----------------------------------------------------------------------------+\n"
          ],
          "name": "stdout"
        }
      ]
    },
    {
      "cell_type": "markdown",
      "metadata": {
        "id": "Guwkf4HN88y9",
        "colab_type": "text"
      },
      "source": [
        "## Number"
      ]
    },
    {
      "cell_type": "code",
      "metadata": {
        "id": "BJ5lhGH50uT6",
        "colab_type": "code",
        "outputId": "f549f7c8-7b1d-4010-a56e-25179a91a579",
        "colab": {
          "base_uri": "https://localhost:8080/",
          "height": 35
        }
      },
      "source": [
        "3 + 2 * 8"
      ],
      "execution_count": 0,
      "outputs": [
        {
          "output_type": "execute_result",
          "data": {
            "text/plain": [
              "19"
            ]
          },
          "metadata": {
            "tags": []
          },
          "execution_count": 1
        }
      ]
    },
    {
      "cell_type": "code",
      "metadata": {
        "id": "9kfrH4To9Fjc",
        "colab_type": "code",
        "outputId": "8d275074-6403-412f-d118-0b851208ea84",
        "colab": {
          "base_uri": "https://localhost:8080/",
          "height": 35
        }
      },
      "source": [
        "2 + 1"
      ],
      "execution_count": 0,
      "outputs": [
        {
          "output_type": "execute_result",
          "data": {
            "text/plain": [
              "3"
            ]
          },
          "metadata": {
            "tags": []
          },
          "execution_count": 3
        }
      ]
    },
    {
      "cell_type": "code",
      "metadata": {
        "id": "ONEi6a4C9LEl",
        "colab_type": "code",
        "outputId": "b9528de6-c51d-495e-9927-c5bbfbb90105",
        "colab": {
          "base_uri": "https://localhost:8080/",
          "height": 35
        }
      },
      "source": [
        "2 - 1"
      ],
      "execution_count": 0,
      "outputs": [
        {
          "output_type": "execute_result",
          "data": {
            "text/plain": [
              "1"
            ]
          },
          "metadata": {
            "tags": []
          },
          "execution_count": 4
        }
      ]
    },
    {
      "cell_type": "code",
      "metadata": {
        "id": "n5INZlxv9M8o",
        "colab_type": "code",
        "outputId": "7f7d42bb-ce6d-48d4-9061-13aa89af5426",
        "colab": {
          "base_uri": "https://localhost:8080/",
          "height": 35
        }
      },
      "source": [
        "2 * 3"
      ],
      "execution_count": 0,
      "outputs": [
        {
          "output_type": "execute_result",
          "data": {
            "text/plain": [
              "6"
            ]
          },
          "metadata": {
            "tags": []
          },
          "execution_count": 5
        }
      ]
    },
    {
      "cell_type": "code",
      "metadata": {
        "id": "FsWBJAQF9Nk0",
        "colab_type": "code",
        "outputId": "b7f4b3b4-c9bf-4fdd-8b65-397d4858a989",
        "colab": {
          "base_uri": "https://localhost:8080/",
          "height": 35
        }
      },
      "source": [
        "3 / 2"
      ],
      "execution_count": 0,
      "outputs": [
        {
          "output_type": "execute_result",
          "data": {
            "text/plain": [
              "1.5"
            ]
          },
          "metadata": {
            "tags": []
          },
          "execution_count": 6
        }
      ]
    },
    {
      "cell_type": "code",
      "metadata": {
        "id": "bNQhRv4l9OOc",
        "colab_type": "code",
        "outputId": "aa33d5ae-74dc-4e86-f1e4-23403c7c639d",
        "colab": {
          "base_uri": "https://localhost:8080/",
          "height": 35
        }
      },
      "source": [
        "2 ** 3"
      ],
      "execution_count": 0,
      "outputs": [
        {
          "output_type": "execute_result",
          "data": {
            "text/plain": [
              "8"
            ]
          },
          "metadata": {
            "tags": []
          },
          "execution_count": 7
        }
      ]
    },
    {
      "cell_type": "code",
      "metadata": {
        "id": "igqFmLzH9YQO",
        "colab_type": "code",
        "outputId": "b1baa942-8ec4-473b-c9bf-32f13bca5507",
        "colab": {
          "base_uri": "https://localhost:8080/",
          "height": 35
        }
      },
      "source": [
        "4 ** 0.5"
      ],
      "execution_count": 0,
      "outputs": [
        {
          "output_type": "execute_result",
          "data": {
            "text/plain": [
              "2.0"
            ]
          },
          "metadata": {
            "tags": []
          },
          "execution_count": 8
        }
      ]
    },
    {
      "cell_type": "code",
      "metadata": {
        "id": "3nOtVpys9aln",
        "colab_type": "code",
        "outputId": "185676e8-5ec8-4f9c-f20d-0b58caa1a7ed",
        "colab": {
          "base_uri": "https://localhost:8080/",
          "height": 35
        }
      },
      "source": [
        "2 + 10 * 10 + 3"
      ],
      "execution_count": 0,
      "outputs": [
        {
          "output_type": "execute_result",
          "data": {
            "text/plain": [
              "105"
            ]
          },
          "metadata": {
            "tags": []
          },
          "execution_count": 9
        }
      ]
    },
    {
      "cell_type": "code",
      "metadata": {
        "id": "aaHWovSC9d57",
        "colab_type": "code",
        "outputId": "b421bb57-b367-4cee-e751-4637ff08fc32",
        "colab": {
          "base_uri": "https://localhost:8080/",
          "height": 35
        }
      },
      "source": [
        "(2 + 10) * (10 + 3)"
      ],
      "execution_count": 0,
      "outputs": [
        {
          "output_type": "execute_result",
          "data": {
            "text/plain": [
              "156"
            ]
          },
          "metadata": {
            "tags": []
          },
          "execution_count": 10
        }
      ]
    },
    {
      "cell_type": "code",
      "metadata": {
        "id": "O7vQvYmJ9jsp",
        "colab_type": "code",
        "colab": {}
      },
      "source": [
        "a = 5"
      ],
      "execution_count": 0,
      "outputs": []
    },
    {
      "cell_type": "code",
      "metadata": {
        "id": "4mzV9WJP9pM6",
        "colab_type": "code",
        "outputId": "d0dab7c6-298b-49e3-a6d5-617d18ad90c8",
        "colab": {
          "base_uri": "https://localhost:8080/",
          "height": 35
        }
      },
      "source": [
        "a + a"
      ],
      "execution_count": 0,
      "outputs": [
        {
          "output_type": "execute_result",
          "data": {
            "text/plain": [
              "10"
            ]
          },
          "metadata": {
            "tags": []
          },
          "execution_count": 12
        }
      ]
    },
    {
      "cell_type": "code",
      "metadata": {
        "id": "ee0OjpmV9t47",
        "colab_type": "code",
        "colab": {}
      },
      "source": [
        "a = 10"
      ],
      "execution_count": 0,
      "outputs": []
    },
    {
      "cell_type": "code",
      "metadata": {
        "id": "qB6O2xBa9wVx",
        "colab_type": "code",
        "colab": {}
      },
      "source": [
        "a = a + a"
      ],
      "execution_count": 0,
      "outputs": []
    },
    {
      "cell_type": "code",
      "metadata": {
        "id": "uIy1pkEU91Ey",
        "colab_type": "code",
        "outputId": "3ac9759f-379a-499f-e530-4d708a9d0197",
        "colab": {
          "base_uri": "https://localhost:8080/",
          "height": 35
        }
      },
      "source": [
        "a"
      ],
      "execution_count": 0,
      "outputs": [
        {
          "output_type": "execute_result",
          "data": {
            "text/plain": [
              "20"
            ]
          },
          "metadata": {
            "tags": []
          },
          "execution_count": 15
        }
      ]
    },
    {
      "cell_type": "code",
      "metadata": {
        "id": "cQI0dDAp91lk",
        "colab_type": "code",
        "colab": {}
      },
      "source": [
        "price = 49.99\n",
        "exchange_rate = 32.33"
      ],
      "execution_count": 0,
      "outputs": []
    },
    {
      "cell_type": "code",
      "metadata": {
        "id": "otFXOp-D-Ddz",
        "colab_type": "code",
        "outputId": "768fd05c-7034-43f4-cbe4-f4aa883b2b6e",
        "colab": {
          "base_uri": "https://localhost:8080/",
          "height": 35
        }
      },
      "source": [
        "price * exchange_rate"
      ],
      "execution_count": 0,
      "outputs": [
        {
          "output_type": "execute_result",
          "data": {
            "text/plain": [
              "1616.1767"
            ]
          },
          "metadata": {
            "tags": []
          },
          "execution_count": 17
        }
      ]
    },
    {
      "cell_type": "code",
      "metadata": {
        "id": "SRYkJ-Ui-zkp",
        "colab_type": "code",
        "outputId": "b5c2b8aa-60db-4c36-e319-b0c71aebb62f",
        "colab": {
          "base_uri": "https://localhost:8080/",
          "height": 166
        }
      },
      "source": [
        "PRICE"
      ],
      "execution_count": 0,
      "outputs": [
        {
          "output_type": "error",
          "ename": "NameError",
          "evalue": "ignored",
          "traceback": [
            "\u001b[0;31m---------------------------------------------------------------------------\u001b[0m",
            "\u001b[0;31mNameError\u001b[0m                                 Traceback (most recent call last)",
            "\u001b[0;32m<ipython-input-18-d3b79827e3c0>\u001b[0m in \u001b[0;36m<module>\u001b[0;34m()\u001b[0m\n\u001b[0;32m----> 1\u001b[0;31m \u001b[0mPRICE\u001b[0m\u001b[0;34m\u001b[0m\u001b[0;34m\u001b[0m\u001b[0m\n\u001b[0m",
            "\u001b[0;31mNameError\u001b[0m: name 'PRICE' is not defined"
          ]
        }
      ]
    },
    {
      "cell_type": "markdown",
      "metadata": {
        "id": "-42JQtjM-P9a",
        "colab_type": "text"
      },
      "source": [
        "**執行當下的cell**\n",
        "\n",
        "> ctrl + enter\n",
        "\n",
        "\n",
        "\n",
        "**執行當下的cell, 新增一個cell**\n",
        "\n",
        "\n",
        "> shift + enter\n",
        "\n",
        "\n"
      ]
    },
    {
      "cell_type": "markdown",
      "metadata": {
        "id": "kJ5imdHa_dT-",
        "colab_type": "text"
      },
      "source": [
        "## String"
      ]
    },
    {
      "cell_type": "code",
      "metadata": {
        "id": "zpNXsYnF-Lob",
        "colab_type": "code",
        "outputId": "45a9e9bf-8ee7-46be-c76d-f546f4989d9c",
        "colab": {
          "base_uri": "https://localhost:8080/",
          "height": 35
        }
      },
      "source": [
        "'this is a string'"
      ],
      "execution_count": 0,
      "outputs": [
        {
          "output_type": "execute_result",
          "data": {
            "text/plain": [
              "'this is a string'"
            ]
          },
          "metadata": {
            "tags": []
          },
          "execution_count": 19
        }
      ]
    },
    {
      "cell_type": "code",
      "metadata": {
        "id": "wvS-bmEF_iwd",
        "colab_type": "code",
        "outputId": "7de4d02c-7aed-4f80-9df1-2182a88f3c3d",
        "colab": {
          "base_uri": "https://localhost:8080/",
          "height": 35
        }
      },
      "source": [
        "\"this is a string\""
      ],
      "execution_count": 0,
      "outputs": [
        {
          "output_type": "execute_result",
          "data": {
            "text/plain": [
              "'this is a string'"
            ]
          },
          "metadata": {
            "tags": []
          },
          "execution_count": 20
        }
      ]
    },
    {
      "cell_type": "code",
      "metadata": {
        "id": "NqGInrO8_kze",
        "colab_type": "code",
        "outputId": "7d81be5b-aa90-46f6-b585-16b6e1284e55",
        "colab": {
          "base_uri": "https://localhost:8080/",
          "height": 35
        }
      },
      "source": [
        "'hello world'"
      ],
      "execution_count": 0,
      "outputs": [
        {
          "output_type": "execute_result",
          "data": {
            "text/plain": [
              "'hello world'"
            ]
          },
          "metadata": {
            "tags": []
          },
          "execution_count": 21
        }
      ]
    },
    {
      "cell_type": "code",
      "metadata": {
        "id": "rA0zY3A_AFrb",
        "colab_type": "code",
        "outputId": "29dff372-8b30-4e9d-aa41-953080434572",
        "colab": {
          "base_uri": "https://localhost:8080/",
          "height": 35
        }
      },
      "source": [
        "'hello'\n",
        "'world'"
      ],
      "execution_count": 0,
      "outputs": [
        {
          "output_type": "execute_result",
          "data": {
            "text/plain": [
              "'world'"
            ]
          },
          "metadata": {
            "tags": []
          },
          "execution_count": 22
        }
      ]
    },
    {
      "cell_type": "code",
      "metadata": {
        "id": "1tV3gkMWAIBy",
        "colab_type": "code",
        "outputId": "98ae28e5-9722-4105-9b87-f79e9b2b383a",
        "colab": {
          "base_uri": "https://localhost:8080/",
          "height": 52
        }
      },
      "source": [
        "print('hello')\n",
        "print('world')"
      ],
      "execution_count": 0,
      "outputs": [
        {
          "output_type": "stream",
          "text": [
            "hello\n",
            "world\n"
          ],
          "name": "stdout"
        }
      ]
    },
    {
      "cell_type": "code",
      "metadata": {
        "id": "wiABBipcATbF",
        "colab_type": "code",
        "outputId": "7495fcfd-8e04-4446-aa91-12efde80cc5c",
        "colab": {
          "base_uri": "https://localhost:8080/",
          "height": 35
        }
      },
      "source": [
        "'大家好'"
      ],
      "execution_count": 0,
      "outputs": [
        {
          "output_type": "execute_result",
          "data": {
            "text/plain": [
              "'大家好'"
            ]
          },
          "metadata": {
            "tags": []
          },
          "execution_count": 24
        }
      ]
    },
    {
      "cell_type": "code",
      "metadata": {
        "id": "vMLYpI3BAYRQ",
        "colab_type": "code",
        "outputId": "83db630c-bca9-4aa0-f1d1-fa80448b75b0",
        "colab": {
          "base_uri": "https://localhost:8080/",
          "height": 139
        }
      },
      "source": [
        "print('Hello world 1')\n",
        "print('Hello world 2')\n",
        "print('Use \\n to print a new line')\n",
        "print('\\n')\n",
        "print('See what i mean?')"
      ],
      "execution_count": 0,
      "outputs": [
        {
          "output_type": "stream",
          "text": [
            "Hello world 1\n",
            "Hello world 2\n",
            "Use \n",
            " to print a new line\n",
            "\n",
            "\n",
            "See what i mean?\n"
          ],
          "name": "stdout"
        }
      ]
    },
    {
      "cell_type": "code",
      "metadata": {
        "id": "0BGudXNmAfqY",
        "colab_type": "code",
        "outputId": "302ee52c-039e-4aa0-de73-2f79e8dc18eb",
        "colab": {
          "base_uri": "https://localhost:8080/",
          "height": 52
        }
      },
      "source": [
        "print('this is a line\\nthis is the second line')"
      ],
      "execution_count": 0,
      "outputs": [
        {
          "output_type": "stream",
          "text": [
            "this is a line\n",
            "this is the second line\n"
          ],
          "name": "stdout"
        }
      ]
    },
    {
      "cell_type": "code",
      "metadata": {
        "id": "GIp0RX8nAxBT",
        "colab_type": "code",
        "outputId": "181d6e3f-8799-4879-bd1e-ff6a78033c67",
        "colab": {
          "base_uri": "https://localhost:8080/",
          "height": 52
        }
      },
      "source": [
        "print('1 2 3\\n100 200 300')"
      ],
      "execution_count": 0,
      "outputs": [
        {
          "output_type": "stream",
          "text": [
            "1 2 3\n",
            "100 200 300\n"
          ],
          "name": "stdout"
        }
      ]
    },
    {
      "cell_type": "code",
      "metadata": {
        "id": "szWkbNIEA2_X",
        "colab_type": "code",
        "outputId": "97a49592-8fe5-477c-9382-040d0e162f67",
        "colab": {
          "base_uri": "https://localhost:8080/",
          "height": 52
        }
      },
      "source": [
        "print('1\\t2\\t3\\n100\\t200\\t300')"
      ],
      "execution_count": 0,
      "outputs": [
        {
          "output_type": "stream",
          "text": [
            "1\t2\t3\n",
            "100\t200\t300\n"
          ],
          "name": "stdout"
        }
      ]
    },
    {
      "cell_type": "code",
      "metadata": {
        "id": "2AgVWTLGA9ia",
        "colab_type": "code",
        "outputId": "5e8e5534-e3da-47ed-cc8b-a19cc0eae68d",
        "colab": {
          "base_uri": "https://localhost:8080/",
          "height": 55
        }
      },
      "source": [
        "a = 'this is a loooooooooooooooooooooooooooooooooooooooooooooo\\\n",
        "oooooooooooooooooooooooooooooooooooooooooooooooooooooooooong text'\n",
        "print(a)"
      ],
      "execution_count": 0,
      "outputs": [
        {
          "output_type": "stream",
          "text": [
            "this is a loooooooooooooooooooooooooooooooooooooooooooooooooooooooooooooooooooooooooooooooooooooooooooooooooooooooong text\n"
          ],
          "name": "stdout"
        }
      ]
    },
    {
      "cell_type": "code",
      "metadata": {
        "id": "nPGroEhbBPJQ",
        "colab_type": "code",
        "outputId": "2e188e2b-a99e-434f-a75d-709a64daa196",
        "colab": {
          "base_uri": "https://localhost:8080/",
          "height": 104
        }
      },
      "source": [
        "a = '''\n",
        "this is a line\n",
        "this is the second line\n",
        "this is the third line\n",
        "'''\n",
        "print(a)"
      ],
      "execution_count": 0,
      "outputs": [
        {
          "output_type": "stream",
          "text": [
            "\n",
            "this is a line\n",
            "this is the second line\n",
            "this is the third line\n",
            "\n"
          ],
          "name": "stdout"
        }
      ]
    },
    {
      "cell_type": "code",
      "metadata": {
        "id": "ikixv-hwBX3r",
        "colab_type": "code",
        "colab": {}
      },
      "source": [
        "s = 'Hello'"
      ],
      "execution_count": 0,
      "outputs": []
    },
    {
      "cell_type": "code",
      "metadata": {
        "id": "YQfPfdpiBw4d",
        "colab_type": "code",
        "outputId": "792faf5b-bb89-440a-f11b-7dc2f4d390ee",
        "colab": {
          "base_uri": "https://localhost:8080/",
          "height": 35
        }
      },
      "source": [
        "s[len(s)-1]"
      ],
      "execution_count": 0,
      "outputs": [
        {
          "output_type": "execute_result",
          "data": {
            "text/plain": [
              "'o'"
            ]
          },
          "metadata": {
            "tags": []
          },
          "execution_count": 37
        }
      ]
    },
    {
      "cell_type": "code",
      "metadata": {
        "id": "XBXvepHQB0Vs",
        "colab_type": "code",
        "outputId": "3a383213-92dd-43cf-e24a-61ea13ea92d7",
        "colab": {
          "base_uri": "https://localhost:8080/",
          "height": 35
        }
      },
      "source": [
        "s[0]"
      ],
      "execution_count": 0,
      "outputs": [
        {
          "output_type": "execute_result",
          "data": {
            "text/plain": [
              "'H'"
            ]
          },
          "metadata": {
            "tags": []
          },
          "execution_count": 38
        }
      ]
    },
    {
      "cell_type": "code",
      "metadata": {
        "id": "Yw_zyFw_B_nE",
        "colab_type": "code",
        "outputId": "2df3e1aa-5c2c-44ad-d1d4-b768de0d52c6",
        "colab": {
          "base_uri": "https://localhost:8080/",
          "height": 35
        }
      },
      "source": [
        "s[1]"
      ],
      "execution_count": 0,
      "outputs": [
        {
          "output_type": "execute_result",
          "data": {
            "text/plain": [
              "'e'"
            ]
          },
          "metadata": {
            "tags": []
          },
          "execution_count": 39
        }
      ]
    },
    {
      "cell_type": "code",
      "metadata": {
        "id": "p7TvvjfHCBwR",
        "colab_type": "code",
        "outputId": "494db57c-7ac1-4085-b83b-40245f275761",
        "colab": {
          "base_uri": "https://localhost:8080/",
          "height": 35
        }
      },
      "source": [
        "s[-1]"
      ],
      "execution_count": 0,
      "outputs": [
        {
          "output_type": "execute_result",
          "data": {
            "text/plain": [
              "'o'"
            ]
          },
          "metadata": {
            "tags": []
          },
          "execution_count": 40
        }
      ]
    },
    {
      "cell_type": "code",
      "metadata": {
        "id": "2QmBQ7HSCGl-",
        "colab_type": "code",
        "outputId": "d4998128-5864-4629-ad63-bb591dd0dd98",
        "colab": {
          "base_uri": "https://localhost:8080/",
          "height": 35
        }
      },
      "source": [
        "s[-2]"
      ],
      "execution_count": 0,
      "outputs": [
        {
          "output_type": "execute_result",
          "data": {
            "text/plain": [
              "'l'"
            ]
          },
          "metadata": {
            "tags": []
          },
          "execution_count": 41
        }
      ]
    },
    {
      "cell_type": "code",
      "metadata": {
        "id": "H8-JlKGdCIkj",
        "colab_type": "code",
        "outputId": "e41d1263-b6de-4a45-c6c4-f4340f3fa26e",
        "colab": {
          "base_uri": "https://localhost:8080/",
          "height": 35
        }
      },
      "source": [
        "s"
      ],
      "execution_count": 0,
      "outputs": [
        {
          "output_type": "execute_result",
          "data": {
            "text/plain": [
              "'Hello'"
            ]
          },
          "metadata": {
            "tags": []
          },
          "execution_count": 42
        }
      ]
    },
    {
      "cell_type": "code",
      "metadata": {
        "id": "6z81LuKjCT7N",
        "colab_type": "code",
        "outputId": "6fb4d8fa-952b-4d59-9273-ce65b3f79722",
        "colab": {
          "base_uri": "https://localhost:8080/",
          "height": 35
        }
      },
      "source": [
        "# s[開頭:結尾]\n",
        "s[:]"
      ],
      "execution_count": 0,
      "outputs": [
        {
          "output_type": "execute_result",
          "data": {
            "text/plain": [
              "'Hello'"
            ]
          },
          "metadata": {
            "tags": []
          },
          "execution_count": 43
        }
      ]
    },
    {
      "cell_type": "code",
      "metadata": {
        "id": "qKeHq5duCahl",
        "colab_type": "code",
        "outputId": "37b268d0-29b3-4d01-cb3d-d063cc42a455",
        "colab": {
          "base_uri": "https://localhost:8080/",
          "height": 35
        }
      },
      "source": [
        "s[1:3]"
      ],
      "execution_count": 0,
      "outputs": [
        {
          "output_type": "execute_result",
          "data": {
            "text/plain": [
              "'el'"
            ]
          },
          "metadata": {
            "tags": []
          },
          "execution_count": 44
        }
      ]
    },
    {
      "cell_type": "code",
      "metadata": {
        "id": "zSfAs2yBCdXa",
        "colab_type": "code",
        "outputId": "9365095b-927e-4b0e-e0aa-56cbe68822d9",
        "colab": {
          "base_uri": "https://localhost:8080/",
          "height": 35
        }
      },
      "source": [
        "# for(i=0; i < 3; i++)\n",
        "s[:3]"
      ],
      "execution_count": 0,
      "outputs": [
        {
          "output_type": "execute_result",
          "data": {
            "text/plain": [
              "'Hel'"
            ]
          },
          "metadata": {
            "tags": []
          },
          "execution_count": 46
        }
      ]
    },
    {
      "cell_type": "code",
      "metadata": {
        "id": "MqB6Upn2CtkB",
        "colab_type": "code",
        "outputId": "7cb92e6b-a388-46d3-9c13-61aa2dac3aa1",
        "colab": {
          "base_uri": "https://localhost:8080/",
          "height": 35
        }
      },
      "source": [
        "#s[開頭:結尾:每次移動幾步]\n",
        "s[::]"
      ],
      "execution_count": 0,
      "outputs": [
        {
          "output_type": "execute_result",
          "data": {
            "text/plain": [
              "'Hello'"
            ]
          },
          "metadata": {
            "tags": []
          },
          "execution_count": 48
        }
      ]
    },
    {
      "cell_type": "code",
      "metadata": {
        "id": "r72bTKRJC8oh",
        "colab_type": "code",
        "outputId": "1320238e-28a4-4a9c-e17f-8671794861e5",
        "colab": {
          "base_uri": "https://localhost:8080/",
          "height": 35
        }
      },
      "source": [
        "s[::1]"
      ],
      "execution_count": 0,
      "outputs": [
        {
          "output_type": "execute_result",
          "data": {
            "text/plain": [
              "'Hello'"
            ]
          },
          "metadata": {
            "tags": []
          },
          "execution_count": 49
        }
      ]
    },
    {
      "cell_type": "code",
      "metadata": {
        "id": "4d0YNUuBDE-w",
        "colab_type": "code",
        "outputId": "c9b8f809-c468-42de-d80a-d254908800af",
        "colab": {
          "base_uri": "https://localhost:8080/",
          "height": 35
        }
      },
      "source": [
        "s[::2]"
      ],
      "execution_count": 0,
      "outputs": [
        {
          "output_type": "execute_result",
          "data": {
            "text/plain": [
              "'Hlo'"
            ]
          },
          "metadata": {
            "tags": []
          },
          "execution_count": 50
        }
      ]
    },
    {
      "cell_type": "code",
      "metadata": {
        "id": "zOxGOPa7DGyi",
        "colab_type": "code",
        "outputId": "dd7003f6-4412-4f70-db9e-dd02c9a5372a",
        "colab": {
          "base_uri": "https://localhost:8080/",
          "height": 35
        }
      },
      "source": [
        "s[0:3:2]"
      ],
      "execution_count": 0,
      "outputs": [
        {
          "output_type": "execute_result",
          "data": {
            "text/plain": [
              "'Hl'"
            ]
          },
          "metadata": {
            "tags": []
          },
          "execution_count": 51
        }
      ]
    },
    {
      "cell_type": "code",
      "metadata": {
        "id": "OoAu37TvDL8Q",
        "colab_type": "code",
        "outputId": "a9049423-3206-4d51-e4be-d29014628084",
        "colab": {
          "base_uri": "https://localhost:8080/",
          "height": 35
        }
      },
      "source": [
        "s[::-1]"
      ],
      "execution_count": 0,
      "outputs": [
        {
          "output_type": "execute_result",
          "data": {
            "text/plain": [
              "'olleH'"
            ]
          },
          "metadata": {
            "tags": []
          },
          "execution_count": 52
        }
      ]
    },
    {
      "cell_type": "code",
      "metadata": {
        "id": "rbi9o8GmDSdj",
        "colab_type": "code",
        "outputId": "3ed3d60f-0604-4c80-f4d1-c5c1a9136046",
        "colab": {
          "base_uri": "https://localhost:8080/",
          "height": 35
        }
      },
      "source": [
        "a = '上海自來水來自海上'\n",
        "a[::-1]"
      ],
      "execution_count": 0,
      "outputs": [
        {
          "output_type": "execute_result",
          "data": {
            "text/plain": [
              "'上海自來水來自海上'"
            ]
          },
          "metadata": {
            "tags": []
          },
          "execution_count": 53
        }
      ]
    },
    {
      "cell_type": "code",
      "metadata": {
        "id": "tXvQJE78Dc3b",
        "colab_type": "code",
        "outputId": "ed9dea35-20df-4904-8635-cb790ff5a989",
        "colab": {
          "base_uri": "https://localhost:8080/",
          "height": 35
        }
      },
      "source": [
        "a[::-1] == a"
      ],
      "execution_count": 0,
      "outputs": [
        {
          "output_type": "execute_result",
          "data": {
            "text/plain": [
              "True"
            ]
          },
          "metadata": {
            "tags": []
          },
          "execution_count": 54
        }
      ]
    },
    {
      "cell_type": "code",
      "metadata": {
        "id": "HtaD-GnRDhoq",
        "colab_type": "code",
        "outputId": "c15ee0fc-3547-4554-e900-d7aa988058a8",
        "colab": {
          "base_uri": "https://localhost:8080/",
          "height": 166
        }
      },
      "source": [
        "s[0] = 'X'"
      ],
      "execution_count": 0,
      "outputs": [
        {
          "output_type": "error",
          "ename": "TypeError",
          "evalue": "ignored",
          "traceback": [
            "\u001b[0;31m---------------------------------------------------------------------------\u001b[0m",
            "\u001b[0;31mTypeError\u001b[0m                                 Traceback (most recent call last)",
            "\u001b[0;32m<ipython-input-56-68d9ab99b09c>\u001b[0m in \u001b[0;36m<module>\u001b[0;34m()\u001b[0m\n\u001b[0;32m----> 1\u001b[0;31m \u001b[0ms\u001b[0m\u001b[0;34m[\u001b[0m\u001b[0;36m0\u001b[0m\u001b[0;34m]\u001b[0m \u001b[0;34m=\u001b[0m \u001b[0;34m'X'\u001b[0m\u001b[0;34m\u001b[0m\u001b[0;34m\u001b[0m\u001b[0m\n\u001b[0m",
            "\u001b[0;31mTypeError\u001b[0m: 'str' object does not support item assignment"
          ]
        }
      ]
    },
    {
      "cell_type": "code",
      "metadata": {
        "id": "n-18CpvUDocO",
        "colab_type": "code",
        "outputId": "bdba71f1-e99f-43ff-9312-4c00da87a6d1",
        "colab": {
          "base_uri": "https://localhost:8080/",
          "height": 35
        }
      },
      "source": [
        "s = 'Hello'\n",
        "s = s + 'World'\n",
        "s"
      ],
      "execution_count": 0,
      "outputs": [
        {
          "output_type": "execute_result",
          "data": {
            "text/plain": [
              "'HelloWorld'"
            ]
          },
          "metadata": {
            "tags": []
          },
          "execution_count": 57
        }
      ]
    },
    {
      "cell_type": "code",
      "metadata": {
        "id": "g9j6z_ExDzAj",
        "colab_type": "code",
        "outputId": "ec4c053a-1dd7-4643-c56d-35518d4177f0",
        "colab": {
          "base_uri": "https://localhost:8080/",
          "height": 35
        }
      },
      "source": [
        "letter = '?'\n",
        "letter * 10"
      ],
      "execution_count": 0,
      "outputs": [
        {
          "output_type": "execute_result",
          "data": {
            "text/plain": [
              "'??????????'"
            ]
          },
          "metadata": {
            "tags": []
          },
          "execution_count": 58
        }
      ]
    },
    {
      "cell_type": "code",
      "metadata": {
        "id": "uUPKbvFJD5Tm",
        "colab_type": "code",
        "outputId": "1a775c8d-8ece-4c0d-9557-3ddea6a7f0b4",
        "colab": {
          "base_uri": "https://localhost:8080/",
          "height": 55
        }
      },
      "source": [
        "s = '對不起'\n",
        "s * 100"
      ],
      "execution_count": 0,
      "outputs": [
        {
          "output_type": "execute_result",
          "data": {
            "text/plain": [
              "'對不起對不起對不起對不起對不起對不起對不起對不起對不起對不起對不起對不起對不起對不起對不起對不起對不起對不起對不起對不起對不起對不起對不起對不起對不起對不起對不起對不起對不起對不起對不起對不起對不起對不起對不起對不起對不起對不起對不起對不起對不起對不起對不起對不起對不起對不起對不起對不起對不起對不起對不起對不起對不起對不起對不起對不起對不起對不起對不起對不起對不起對不起對不起對不起對不起對不起對不起對不起對不起對不起對不起對不起對不起對不起對不起對不起對不起對不起對不起對不起對不起對不起對不起對不起對不起對不起對不起對不起對不起對不起對不起對不起對不起對不起對不起對不起對不起對不起對不起對不起'"
            ]
          },
          "metadata": {
            "tags": []
          },
          "execution_count": 59
        }
      ]
    },
    {
      "cell_type": "code",
      "metadata": {
        "id": "m8MCNkgzD_3G",
        "colab_type": "code",
        "outputId": "9ab9d973-8cd1-4520-8907-e73e469d5e15",
        "colab": {
          "base_uri": "https://localhost:8080/",
          "height": 55
        }
      },
      "source": [
        "print(dir(s))"
      ],
      "execution_count": 0,
      "outputs": [
        {
          "output_type": "stream",
          "text": [
            "['__add__', '__class__', '__contains__', '__delattr__', '__dir__', '__doc__', '__eq__', '__format__', '__ge__', '__getattribute__', '__getitem__', '__getnewargs__', '__gt__', '__hash__', '__init__', '__init_subclass__', '__iter__', '__le__', '__len__', '__lt__', '__mod__', '__mul__', '__ne__', '__new__', '__reduce__', '__reduce_ex__', '__repr__', '__rmod__', '__rmul__', '__setattr__', '__sizeof__', '__str__', '__subclasshook__', 'capitalize', 'casefold', 'center', 'count', 'encode', 'endswith', 'expandtabs', 'find', 'format', 'format_map', 'index', 'isalnum', 'isalpha', 'isdecimal', 'isdigit', 'isidentifier', 'islower', 'isnumeric', 'isprintable', 'isspace', 'istitle', 'isupper', 'join', 'ljust', 'lower', 'lstrip', 'maketrans', 'partition', 'replace', 'rfind', 'rindex', 'rjust', 'rpartition', 'rsplit', 'rstrip', 'split', 'splitlines', 'startswith', 'strip', 'swapcase', 'title', 'translate', 'upper', 'zfill']\n"
          ],
          "name": "stdout"
        }
      ]
    },
    {
      "cell_type": "code",
      "metadata": {
        "id": "ytv261KoEGDC",
        "colab_type": "code",
        "colab": {}
      },
      "source": [
        "s = 'hello'"
      ],
      "execution_count": 0,
      "outputs": []
    },
    {
      "cell_type": "code",
      "metadata": {
        "id": "UZ_NKy2oEM9y",
        "colab_type": "code",
        "outputId": "1a17473f-cefd-4c6b-c98a-abf62867c785",
        "colab": {
          "base_uri": "https://localhost:8080/",
          "height": 35
        }
      },
      "source": [
        "s.upper()"
      ],
      "execution_count": 0,
      "outputs": [
        {
          "output_type": "execute_result",
          "data": {
            "text/plain": [
              "'HELLO'"
            ]
          },
          "metadata": {
            "tags": []
          },
          "execution_count": 63
        }
      ]
    },
    {
      "cell_type": "code",
      "metadata": {
        "id": "mjsjB66DERp5",
        "colab_type": "code",
        "outputId": "46a02e7b-cc7d-41e5-efb0-a95bb9f2c50f",
        "colab": {
          "base_uri": "https://localhost:8080/",
          "height": 35
        }
      },
      "source": [
        "s.lower()"
      ],
      "execution_count": 0,
      "outputs": [
        {
          "output_type": "execute_result",
          "data": {
            "text/plain": [
              "'hello'"
            ]
          },
          "metadata": {
            "tags": []
          },
          "execution_count": 64
        }
      ]
    },
    {
      "cell_type": "code",
      "metadata": {
        "id": "31lALIY_EXO2",
        "colab_type": "code",
        "colab": {}
      },
      "source": [
        "?s.upper"
      ],
      "execution_count": 0,
      "outputs": []
    },
    {
      "cell_type": "code",
      "metadata": {
        "id": "6kGmR7beEjeR",
        "colab_type": "code",
        "colab": {}
      },
      "source": [
        "s = 'hello world'\n"
      ],
      "execution_count": 0,
      "outputs": []
    },
    {
      "cell_type": "code",
      "metadata": {
        "id": "eqs3fi0nEpKu",
        "colab_type": "code",
        "outputId": "e09c80f3-e8db-4894-ceb3-dde58091fd24",
        "colab": {
          "base_uri": "https://localhost:8080/",
          "height": 35
        }
      },
      "source": [
        "s.split()"
      ],
      "execution_count": 0,
      "outputs": [
        {
          "output_type": "execute_result",
          "data": {
            "text/plain": [
              "['hello', 'world']"
            ]
          },
          "metadata": {
            "tags": []
          },
          "execution_count": 67
        }
      ]
    },
    {
      "cell_type": "code",
      "metadata": {
        "id": "6XpIs8xLEq6S",
        "colab_type": "code",
        "outputId": "b2cb2e7b-dc2f-4893-f18b-e154cab073c0",
        "colab": {
          "base_uri": "https://localhost:8080/",
          "height": 35
        }
      },
      "source": [
        "len(s)"
      ],
      "execution_count": 0,
      "outputs": [
        {
          "output_type": "execute_result",
          "data": {
            "text/plain": [
              "11"
            ]
          },
          "metadata": {
            "tags": []
          },
          "execution_count": 68
        }
      ]
    },
    {
      "cell_type": "code",
      "metadata": {
        "id": "zfKEjuMyEtL3",
        "colab_type": "code",
        "colab": {}
      },
      "source": [
        "speech = '''\n",
        "大會主席蘇嘉全院長、現場各位貴賓、電視機前和網路上的全體國人同胞，大家早安，大家好。\n",
        "\n",
        "今天，是中華民國一百零八年的國慶日，謝謝來自世界各地的好朋友，跟我們共度這個值得紀念的日子。\n",
        "\n",
        "去年，也是在國慶日，我和大家說，台灣正處在變局當中。世界貿易局勢的變動、國際政治情勢的變化，都讓未來充滿挑戰。我們必須「求穩、應變、進步」，厚植實力、壯大台灣。\n",
        "\n",
        "轉眼又過了一年，世界依然快速變化，甚至更加劇烈。美中貿易戰的持續進行；距離我們不遠的香港，因為「一國兩制」的失敗，正處於失序邊緣。\n",
        "\n",
        "儘管如此，中國依然以「一國兩制台灣方案」，不斷威脅我們，並採取各種文攻武嚇，強烈挑戰了區域的穩定及和平。\n",
        "\n",
        "各位國人同胞，當自由民主受到挑戰，當中華民國的生存發展受到脅迫，我們就必須站出來捍衛。拒絕「一國兩制」，是兩千三百萬台灣人民不分黨派、不分立場，彼此間最大的共識。\n",
        "\n",
        "中華民國已經在台灣屹立超過七十年，一旦接受「一國兩制」，中華民國就沒有生存的空間。身為總統，站出來守護國家主權，不是挑釁，而是我最基本的責任。\n",
        "\n",
        "七十年來，我們共同經歷過種種嚴峻的挑戰。每一次挑戰，不但沒有擊倒我們，反而讓我們更強壯、更堅定。\n",
        "\n",
        "我們一起走過八二三砲戰，一起度過九六年台海危機。一次又一次文攻武嚇，從來就沒有讓台灣人民屈服。我們共同捍衛住腳下這塊土地，也捍衛住國家的主權。\n",
        "\n",
        "我們經歷過退出聯合國的恐慌，也承受過一次又一次的斷交壓力。但台灣人民想要走向世界的決心，不曾有任何改變。\n",
        "\n",
        "一九七零年代的石油危機，一九九七年的亞洲金融風暴，千禧年的網路泡沫，還有十年前的金融海嘯。經濟總是充滿挑戰，但一卡皮箱走遍天下的台商，加上勤奮又有創意的台灣人民，讓我們一次又一次，把危機化做轉機，讓台灣的經濟持續往前走。\n",
        "\n",
        "我們也經歷過八七水災、九二一地震、SARS風暴、八八風災。天災病變的磨難，沒有擊敗過台灣人民奮鬥生存的意志。家園毀壞了，我們重建；土地受傷了，我們復原。擦乾眼淚，重新站起，明天又是充滿希望的一天。\n",
        "\n",
        "這些共同的記憶，彰顯了台灣人民的韌性。因為有這樣的韌性，我們成為亞洲四小龍的一員。因為這樣的韌性，我們走過了民主化的艱鉅歷程，成為世界上重要的民主典範。\n",
        "\n",
        "我們共同走過這一段路，無論是哪個黨派，只要是生活在這塊土地上的人民，都不能分割彼此。中華民國不是誰的專利，台灣也不是誰能夠獨佔。「中華民國台灣」六個字，既不是藍色、也不是綠色，這就是整個社會最大的共識。\n",
        "\n",
        "展望未來，前方的挑戰還有很多，等著我們一一克服。\n",
        "\n",
        "我們看見中國崛起跟擴張，以威權體制，結合民族主義和經濟力量，挑戰自由民主的價值和世界秩序。也因此，處於印太地區戰略前緣的台灣，成為了守護民主價值的第一道防線。\n",
        "\n",
        "中國利用「銳實力」步步進逼，但我們很清楚，作為區域的重要成員，台灣要善盡國際責任。我們不挑釁、不冒進，結合理念相近的國家，確保台海和平穩定的現狀，不會被片面改變。\n",
        "\n",
        "要做到這些，我們必須要團結。儘管台灣社會曾經因為族群、世代、信仰、黨派的差異，而出現爭執，但透過對話，我們一定可以找到彼此可以接受的最大公約數。經驗證明，衝突、對話、團結進步，會引導國家往正確的方向前進。\n",
        "\n",
        "我們也必須堅守自由民主的價值。台灣人民曾經一起走過民主化的艱辛道路，民主偶有紛擾，但只有民主制度，能夠保障得來不易的自由，也才能讓下一代保有決定未來的權利。\n",
        "\n",
        "我們也必須持續壯大台灣。三年多來，我們努力調整經濟結構，引導產業升級轉型、推動國際多元布局。我們迎來投資大爆發，在全球經濟的變動中，站穩了腳步，方向是對的，我們就要繼續走。\n",
        "\n",
        "三年多來，我們努力維護社會公平，加薪減稅、全面照顧，讓全民分享經濟成長的果實。未來，推動長照2.0升級，推動幼托補助擴大，減輕民眾負擔，使人人可以享有優質的照顧，是政府要繼續努力的方向。\n",
        "\n",
        "三年多來，我們推動國防自主、採購先進武器，提升國軍士氣，強化充足戰力。國造高教機的原型機剛剛出廠，國造艦艇也將陸續加入建軍行列。捍衛國土、堅守自由民主，國軍責無旁貸。\n",
        "\n",
        "三年多來，我們積極參與國際，負責任、肯貢獻，成為維護區域和平穩定，不可或缺的良善力量。我們會持續和理念相近的國家攜手，爭取更多實質合作的機會。\n",
        "\n",
        "未來的路線很清楚，目標也很明確。\n",
        "\n",
        "第一，讓國人繼續團結在自由民主的旗幟下，捍衛國家主權。\n",
        "\n",
        "第二，持續壯大台灣，強化經濟實力，讓民富而國強。\n",
        "\n",
        "第三，積極走向世界，克服挑戰，讓中華民國台灣在國際舞台上抬頭挺胸，勇敢自信。\n",
        "\n",
        "上一季，我們的經濟成長率，已經重返亞洲四小龍之首。世界經濟論壇評比我們是四大「超級創新國」之一。我們的高科技和創新產業，也走在世界的最前端。\n",
        "\n",
        "我們的體育選手、我們的技能國手，無數充滿創意的設計師、藝術家，在國際舞台發光發熱，帶給台灣榮耀和驕傲。\n",
        "\n",
        "我們自製的福衛五號，以及福衛七號接連升空，展現太空科技實力。就連人類歷史上第一次觀測到的黑洞影像，也有台灣科學團隊的參與。\n",
        "\n",
        "當我們可以上太空，可以看見五千五百萬光年外的黑洞，那麼，眼前還有什麼挑戰，是我們沒有勇氣面對的？\n",
        "\n",
        "歷史的磨難，會因為我們的韌性，而被轉化為成長力量。天災的挑戰，會因為我們的努力，而成為再生的契機。這塊土地上每一個人的努力，都讓我們的國家，一天一天變得更好、更進步。\n",
        "\n",
        "在國慶日這一天，這塊土地上的所有人民，都團結在自由民主的旗幟下，樂觀面對未來、堅定克服挑戰。天佑台灣，台灣加油，中華民國加油。謝謝大家。\n",
        "\n",
        "'''"
      ],
      "execution_count": 0,
      "outputs": []
    },
    {
      "cell_type": "markdown",
      "metadata": {
        "id": "W8GzCk6_E6_J",
        "colab_type": "text"
      },
      "source": [
        "請幫我從蔡英文的國慶演說文分析兩件事:\n",
        "1. 請用len 幫我找出文章的長度?\n",
        "2. 請用count 幫我計算\"台灣\" 出現的次數?"
      ]
    },
    {
      "cell_type": "code",
      "metadata": {
        "id": "O9h7IQTfE40q",
        "colab_type": "code",
        "colab": {}
      },
      "source": [
        ""
      ],
      "execution_count": 0,
      "outputs": []
    }
  ]
}