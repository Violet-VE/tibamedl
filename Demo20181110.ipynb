{
 "cells": [
  {
   "cell_type": "markdown",
   "metadata": {},
   "source": [
    "### 使用TensorFlow 辨識手寫數字"
   ]
  },
  {
   "cell_type": "code",
   "execution_count": 1,
   "metadata": {},
   "outputs": [
    {
     "name": "stdout",
     "output_type": "stream",
     "text": [
      "Collecting tensorflow\n",
      "  Downloading https://files.pythonhosted.org/packages/05/cd/c171d2e33c0192b04560ce864c26eba83fed888fe5cd9ded661b2702f2ae/tensorflow-1.12.0-cp36-cp36m-win_amd64.whl (45.9MB)\n",
      "Requirement already satisfied: six>=1.10.0 in c:\\programdata\\anaconda3_2\\lib\\site-packages (from tensorflow) (1.11.0)\n",
      "Collecting protobuf>=3.6.1 (from tensorflow)\n",
      "  Using cached https://files.pythonhosted.org/packages/e8/df/d606d07cff0fc8d22abcc54006c0247002d11a7f2d218eb008d48e76851d/protobuf-3.6.1-cp36-cp36m-win_amd64.whl\n",
      "Requirement already satisfied: wheel>=0.26 in c:\\programdata\\anaconda3_2\\lib\\site-packages (from tensorflow) (0.31.1)\n",
      "Collecting gast>=0.2.0 (from tensorflow)\n",
      "Requirement already satisfied: numpy>=1.13.3 in c:\\programdata\\anaconda3_2\\lib\\site-packages (from tensorflow) (1.14.3)\n",
      "Collecting termcolor>=1.1.0 (from tensorflow)\n",
      "Collecting astor>=0.6.0 (from tensorflow)\n",
      "  Using cached https://files.pythonhosted.org/packages/35/6b/11530768cac581a12952a2aad00e1526b89d242d0b9f59534ef6e6a1752f/astor-0.7.1-py2.py3-none-any.whl\n",
      "Collecting absl-py>=0.1.6 (from tensorflow)\n",
      "Collecting grpcio>=1.8.6 (from tensorflow)\n",
      "  Using cached https://files.pythonhosted.org/packages/f0/90/520757ccafb14f03e8e46a54bacd45f5f9cca6b96b58b83b66a272f059df/grpcio-1.16.0-cp36-cp36m-win_amd64.whl\n",
      "Collecting keras-preprocessing>=1.0.5 (from tensorflow)\n",
      "  Using cached https://files.pythonhosted.org/packages/fc/94/74e0fa783d3fc07e41715973435dd051ca89c550881b3454233c39c73e69/Keras_Preprocessing-1.0.5-py2.py3-none-any.whl\n",
      "Collecting keras-applications>=1.0.6 (from tensorflow)\n",
      "  Using cached https://files.pythonhosted.org/packages/3f/c4/2ff40221029f7098d58f8d7fb99b97e8100f3293f9856f0fb5834bef100b/Keras_Applications-1.0.6-py2.py3-none-any.whl\n",
      "Collecting tensorboard<1.13.0,>=1.12.0 (from tensorflow)\n",
      "  Downloading https://files.pythonhosted.org/packages/e0/d0/65fe48383146199f16dbd5999ef226b87bce63ad5cd73c840cf722637969/tensorboard-1.12.0-py3-none-any.whl (3.0MB)\n",
      "Requirement already satisfied: setuptools in c:\\programdata\\anaconda3_2\\lib\\site-packages (from protobuf>=3.6.1->tensorflow) (39.1.0)\n",
      "Requirement already satisfied: h5py in c:\\programdata\\anaconda3_2\\lib\\site-packages (from keras-applications>=1.0.6->tensorflow) (2.7.1)\n",
      "Requirement already satisfied: werkzeug>=0.11.10 in c:\\programdata\\anaconda3_2\\lib\\site-packages (from tensorboard<1.13.0,>=1.12.0->tensorflow) (0.14.1)\n",
      "Collecting markdown>=2.6.8 (from tensorboard<1.13.0,>=1.12.0->tensorflow)\n",
      "  Using cached https://files.pythonhosted.org/packages/7a/6b/5600647404ba15545ec37d2f7f58844d690baf2f81f3a60b862e48f29287/Markdown-3.0.1-py2.py3-none-any.whl\n",
      "Installing collected packages: protobuf, gast, termcolor, astor, absl-py, grpcio, keras-preprocessing, keras-applications, markdown, tensorboard, tensorflow\n",
      "Successfully installed absl-py-0.6.1 astor-0.7.1 gast-0.2.0 grpcio-1.16.0 keras-applications-1.0.6 keras-preprocessing-1.0.5 markdown-3.0.1 protobuf-3.6.1 tensorboard-1.12.0 tensorflow-1.12.0 termcolor-1.1.0\n"
     ]
    },
    {
     "name": "stderr",
     "output_type": "stream",
     "text": [
      "distributed 1.21.8 requires msgpack, which is not installed.\n",
      "You are using pip version 10.0.1, however version 18.1 is available.\n",
      "You should consider upgrading via the 'python -m pip install --upgrade pip' command.\n"
     ]
    }
   ],
   "source": [
    "! pip install tensorflow"
   ]
  },
  {
   "cell_type": "code",
   "execution_count": 2,
   "metadata": {},
   "outputs": [
    {
     "name": "stderr",
     "output_type": "stream",
     "text": [
      "C:\\ProgramData\\Anaconda3_2\\lib\\site-packages\\h5py\\__init__.py:36: FutureWarning: Conversion of the second argument of issubdtype from `float` to `np.floating` is deprecated. In future, it will be treated as `np.float64 == np.dtype(float).type`.\n",
      "  from ._conv import register_converters as _register_converters\n"
     ]
    },
    {
     "name": "stdout",
     "output_type": "stream",
     "text": [
      "WARNING:tensorflow:From <ipython-input-2-a52087e6ef24>:3: read_data_sets (from tensorflow.contrib.learn.python.learn.datasets.mnist) is deprecated and will be removed in a future version.\n",
      "Instructions for updating:\n",
      "Please use alternatives such as official/mnist/dataset.py from tensorflow/models.\n",
      "WARNING:tensorflow:From C:\\ProgramData\\Anaconda3_2\\lib\\site-packages\\tensorflow\\contrib\\learn\\python\\learn\\datasets\\mnist.py:260: maybe_download (from tensorflow.contrib.learn.python.learn.datasets.base) is deprecated and will be removed in a future version.\n",
      "Instructions for updating:\n",
      "Please write your own downloading logic.\n",
      "WARNING:tensorflow:From C:\\ProgramData\\Anaconda3_2\\lib\\site-packages\\tensorflow\\contrib\\learn\\python\\learn\\datasets\\mnist.py:262: extract_images (from tensorflow.contrib.learn.python.learn.datasets.mnist) is deprecated and will be removed in a future version.\n",
      "Instructions for updating:\n",
      "Please use tf.data to implement this functionality.\n",
      "Extracting C:\\Users\\USER\\train-images-idx3-ubyte.gz\n",
      "WARNING:tensorflow:From C:\\ProgramData\\Anaconda3_2\\lib\\site-packages\\tensorflow\\contrib\\learn\\python\\learn\\datasets\\mnist.py:267: extract_labels (from tensorflow.contrib.learn.python.learn.datasets.mnist) is deprecated and will be removed in a future version.\n",
      "Instructions for updating:\n",
      "Please use tf.data to implement this functionality.\n",
      "Extracting C:\\Users\\USER\\train-labels-idx1-ubyte.gz\n",
      "WARNING:tensorflow:From C:\\ProgramData\\Anaconda3_2\\lib\\site-packages\\tensorflow\\contrib\\learn\\python\\learn\\datasets\\mnist.py:110: dense_to_one_hot (from tensorflow.contrib.learn.python.learn.datasets.mnist) is deprecated and will be removed in a future version.\n",
      "Instructions for updating:\n",
      "Please use tf.one_hot on tensors.\n",
      "Extracting C:\\Users\\USER\\t10k-images-idx3-ubyte.gz\n",
      "Extracting C:\\Users\\USER\\t10k-labels-idx1-ubyte.gz\n",
      "WARNING:tensorflow:From C:\\ProgramData\\Anaconda3_2\\lib\\site-packages\\tensorflow\\contrib\\learn\\python\\learn\\datasets\\mnist.py:290: DataSet.__init__ (from tensorflow.contrib.learn.python.learn.datasets.mnist) is deprecated and will be removed in a future version.\n",
      "Instructions for updating:\n",
      "Please use alternatives such as official/mnist/dataset.py from tensorflow/models.\n"
     ]
    }
   ],
   "source": [
    "import tensorflow as tf\n",
    "from tensorflow.examples.tutorials.mnist import input_data\n",
    "mnist = input_data.read_data_sets(\"C:\\\\Users\\\\USER\", one_hot=True)"
   ]
  },
  {
   "cell_type": "code",
   "execution_count": 3,
   "metadata": {},
   "outputs": [
    {
     "data": {
      "text/plain": [
       "Datasets(train=<tensorflow.contrib.learn.python.learn.datasets.mnist.DataSet object at 0x000000000DB7A358>, validation=<tensorflow.contrib.learn.python.learn.datasets.mnist.DataSet object at 0x00000000100BF3C8>, test=<tensorflow.contrib.learn.python.learn.datasets.mnist.DataSet object at 0x000000000F573400>)"
      ]
     },
     "execution_count": 3,
     "metadata": {},
     "output_type": "execute_result"
    }
   ],
   "source": [
    "mnist"
   ]
  },
  {
   "cell_type": "code",
   "execution_count": 4,
   "metadata": {},
   "outputs": [
    {
     "name": "stdout",
     "output_type": "stream",
     "text": [
      "['__add__', '__class__', '__contains__', '__delattr__', '__dir__', '__doc__', '__eq__', '__format__', '__ge__', '__getattribute__', '__getitem__', '__getnewargs__', '__gt__', '__hash__', '__init__', '__init_subclass__', '__iter__', '__le__', '__len__', '__lt__', '__module__', '__mul__', '__ne__', '__new__', '__reduce__', '__reduce_ex__', '__repr__', '__rmul__', '__setattr__', '__sizeof__', '__slots__', '__str__', '__subclasshook__', '_asdict', '_fields', '_make', '_replace', '_source', 'count', 'index', 'test', 'train', 'validation']\n"
     ]
    }
   ],
   "source": [
    "print(dir(mnist))"
   ]
  },
  {
   "cell_type": "code",
   "execution_count": 5,
   "metadata": {},
   "outputs": [
    {
     "name": "stdout",
     "output_type": "stream",
     "text": [
      "['__class__', '__delattr__', '__dict__', '__dir__', '__doc__', '__eq__', '__format__', '__ge__', '__getattribute__', '__gt__', '__hash__', '__init__', '__init_subclass__', '__le__', '__lt__', '__module__', '__ne__', '__new__', '__reduce__', '__reduce_ex__', '__repr__', '__setattr__', '__sizeof__', '__str__', '__subclasshook__', '__weakref__', '_epochs_completed', '_images', '_index_in_epoch', '_labels', '_num_examples', 'epochs_completed', 'images', 'labels', 'next_batch', 'num_examples']\n"
     ]
    }
   ],
   "source": [
    "print(dir(mnist.train))"
   ]
  },
  {
   "cell_type": "code",
   "execution_count": 6,
   "metadata": {},
   "outputs": [
    {
     "data": {
      "text/plain": [
       "(55000, 784)"
      ]
     },
     "execution_count": 6,
     "metadata": {},
     "output_type": "execute_result"
    }
   ],
   "source": [
    "mnist.train.images.shape"
   ]
  },
  {
   "cell_type": "code",
   "execution_count": 7,
   "metadata": {},
   "outputs": [],
   "source": [
    "sample_image = mnist.train.images[0].reshape((28,28))"
   ]
  },
  {
   "cell_type": "code",
   "execution_count": 9,
   "metadata": {},
   "outputs": [
    {
     "name": "stdout",
     "output_type": "stream",
     "text": [
      "Populating the interactive namespace from numpy and matplotlib\n"
     ]
    },
    {
     "data": {
      "text/plain": [
       "<matplotlib.image.AxesImage at 0x11a3ccc0>"
      ]
     },
     "execution_count": 9,
     "metadata": {},
     "output_type": "execute_result"
    },
    {
     "data": {
      "image/png": "[encoded data removed]",
      "text/plain": [
       "<Figure size 432x288 with 1 Axes>"
      ]
     },
     "metadata": {},
     "output_type": "display_data"
    }
   ],
   "source": [
    "%pylab inline\n",
    "from matplotlib import pyplot as plt\n",
    "plt.imshow(sample_image)"
   ]
  },
  {
   "cell_type": "code",
   "execution_count": 10,
   "metadata": {},
   "outputs": [
    {
     "data": {
      "text/plain": [
       "array([0., 0., 0., 0., 0., 0., 0., 1., 0., 0.])"
      ]
     },
     "execution_count": 10,
     "metadata": {},
     "output_type": "execute_result"
    }
   ],
   "source": [
    "mnist.train.labels[0]"
   ]
  },
  {
   "cell_type": "markdown",
   "metadata": {},
   "source": [
    "### 設定網路參數"
   ]
  },
  {
   "cell_type": "code",
   "execution_count": 11,
   "metadata": {},
   "outputs": [],
   "source": [
    "learning_rate   = 0.001\n",
    "training_epochs = 15\n",
    "batch_size      = 100"
   ]
  },
  {
   "cell_type": "code",
   "execution_count": 12,
   "metadata": {},
   "outputs": [],
   "source": [
    "n_hidden_1 = 256 \n",
    "n_hidden_2 = 256 \n",
    "n_input    = 784 \n",
    "n_classes  = 10 \n",
    "n_samples  = mnist.train.num_examples"
   ]
  },
  {
   "cell_type": "markdown",
   "metadata": {},
   "source": [
    "### Placeholders"
   ]
  },
  {
   "cell_type": "code",
   "execution_count": 13,
   "metadata": {},
   "outputs": [],
   "source": [
    "x = tf.placeholder(\"float\", [None, n_input])\n",
    "y = tf.placeholder(\"float\", [None, n_classes])"
   ]
  },
  {
   "cell_type": "markdown",
   "metadata": {},
   "source": [
    "### 建構多層神經網路"
   ]
  },
  {
   "cell_type": "code",
   "execution_count": 14,
   "metadata": {},
   "outputs": [],
   "source": [
    "def multilayer_perceptron(x, weights, biases):  \n",
    "    # First Hidden layer with RELU activation\n",
    "    layer_1 = tf.add(tf.matmul(x, weights['h1']), biases['b1'])\n",
    "    layer_1 = tf.nn.relu(layer_1)\n",
    "    \n",
    "    # Second Hidden layer with RELU activation\n",
    "    layer_2 = tf.add(tf.matmul(layer_1, weights['h2']), biases['b2'])\n",
    "    layer_2 = tf.nn.relu(layer_2)\n",
    "    \n",
    "    # Last Output layer\n",
    "    out_layer = tf.matmul(layer_2, weights['out']) + biases['out']\n",
    "    return out_layer"
   ]
  },
  {
   "cell_type": "code",
   "execution_count": 15,
   "metadata": {},
   "outputs": [],
   "source": [
    "weights = {\n",
    "    'h1': tf.Variable(tf.random_normal([n_input, n_hidden_1])),\n",
    "    'h2': tf.Variable(tf.random_normal([n_hidden_1, n_hidden_2])),\n",
    "    'out': tf.Variable(tf.random_normal([n_hidden_2, n_classes]))\n",
    "}"
   ]
  },
  {
   "cell_type": "code",
   "execution_count": 16,
   "metadata": {},
   "outputs": [],
   "source": [
    "biases = {\n",
    "    'b1': tf.Variable(tf.random_normal([n_hidden_1])),\n",
    "    'b2': tf.Variable(tf.random_normal([n_hidden_2])),\n",
    "    'out': tf.Variable(tf.random_normal([n_classes]))\n",
    "}"
   ]
  },
  {
   "cell_type": "markdown",
   "metadata": {},
   "source": [
    "### 建立模型"
   ]
  },
  {
   "cell_type": "code",
   "execution_count": 17,
   "metadata": {},
   "outputs": [],
   "source": [
    "pred = multilayer_perceptron(x, weights, biases)"
   ]
  },
  {
   "cell_type": "markdown",
   "metadata": {},
   "source": [
    "### 設定代價函數"
   ]
  },
  {
   "cell_type": "code",
   "execution_count": 18,
   "metadata": {},
   "outputs": [],
   "source": [
    "cost = tf.reduce_mean(tf.nn.softmax_cross_entropy_with_logits_v2(logits=pred, labels=y))\n",
    "optimizer = tf.train.GradientDescentOptimizer(learning_rate=learning_rate).minimize(cost)"
   ]
  },
  {
   "cell_type": "markdown",
   "metadata": {},
   "source": [
    "### 初始化變量"
   ]
  },
  {
   "cell_type": "code",
   "execution_count": 19,
   "metadata": {},
   "outputs": [],
   "source": [
    "init = tf.global_variables_initializer()"
   ]
  },
  {
   "cell_type": "markdown",
   "metadata": {},
   "source": [
    "### 訓練模型"
   ]
  },
  {
   "cell_type": "code",
   "execution_count": 20,
   "metadata": {},
   "outputs": [],
   "source": [
    "Xsamp,ysamp = mnist.train.next_batch(100)"
   ]
  },
  {
   "cell_type": "code",
   "execution_count": 21,
   "metadata": {},
   "outputs": [
    {
     "data": {
      "text/plain": [
       "(100, 784)"
      ]
     },
     "execution_count": 21,
     "metadata": {},
     "output_type": "execute_result"
    }
   ],
   "source": [
    "Xsamp.shape"
   ]
  },
  {
   "cell_type": "code",
   "execution_count": 22,
   "metadata": {},
   "outputs": [
    {
     "data": {
      "text/plain": [
       "(100, 10)"
      ]
     },
     "execution_count": 22,
     "metadata": {},
     "output_type": "execute_result"
    }
   ],
   "source": [
    "ysamp.shape"
   ]
  },
  {
   "cell_type": "code",
   "execution_count": 23,
   "metadata": {},
   "outputs": [],
   "source": [
    "Xsamp,ysamp = mnist.train.next_batch(1)"
   ]
  },
  {
   "cell_type": "code",
   "execution_count": 24,
   "metadata": {},
   "outputs": [
    {
     "data": {
      "text/plain": [
       "<matplotlib.image.AxesImage at 0x11a98710>"
      ]
     },
     "execution_count": 24,
     "metadata": {},
     "output_type": "execute_result"
    },
    {
     "data": {
      "image/png": "[encoded data removed]",
      "text/plain": [
       "<Figure size 432x288 with 1 Axes>"
      ]
     },
     "metadata": {},
     "output_type": "display_data"
    }
   ],
   "source": [
    "\n",
    "sample_image = Xsamp.reshape((28,28))\n",
    "plt.imshow(sample_image)"
   ]
  },
  {
   "cell_type": "code",
   "execution_count": 25,
   "metadata": {},
   "outputs": [
    {
     "data": {
      "text/plain": [
       "array([[0., 0., 0., 0., 0., 0., 0., 1., 0., 0.]])"
      ]
     },
     "execution_count": 25,
     "metadata": {},
     "output_type": "execute_result"
    }
   ],
   "source": [
    "ysamp"
   ]
  },
  {
   "cell_type": "markdown",
   "metadata": {},
   "source": [
    "### 評估模型"
   ]
  },
  {
   "cell_type": "code",
   "execution_count": 26,
   "metadata": {},
   "outputs": [
    {
     "data": {
      "text/plain": [
       "<tf.Tensor 'Placeholder_1:0' shape=(?, 10) dtype=float32>"
      ]
     },
     "execution_count": 26,
     "metadata": {},
     "output_type": "execute_result"
    }
   ],
   "source": [
    "y"
   ]
  },
  {
   "cell_type": "code",
   "execution_count": 27,
   "metadata": {},
   "outputs": [
    {
     "data": {
      "text/plain": [
       "<tf.Tensor 'add_2:0' shape=(?, 10) dtype=float32>"
      ]
     },
     "execution_count": 27,
     "metadata": {},
     "output_type": "execute_result"
    }
   ],
   "source": [
    "pred"
   ]
  },
  {
   "cell_type": "code",
   "execution_count": 28,
   "metadata": {},
   "outputs": [],
   "source": [
    "correct_predictions = tf.equal(tf.argmax(pred, 1), tf.argmax(y, 1))"
   ]
  },
  {
   "cell_type": "code",
   "execution_count": 29,
   "metadata": {},
   "outputs": [
    {
     "data": {
      "text/plain": [
       "<tf.Tensor 'Equal:0' shape=(?,) dtype=bool>"
      ]
     },
     "execution_count": 29,
     "metadata": {},
     "output_type": "execute_result"
    }
   ],
   "source": [
    "correct_predictions"
   ]
  },
  {
   "cell_type": "code",
   "execution_count": 30,
   "metadata": {},
   "outputs": [],
   "source": [
    "correct_predictions = tf.cast(correct_predictions, \"float\")"
   ]
  },
  {
   "cell_type": "code",
   "execution_count": 31,
   "metadata": {},
   "outputs": [],
   "source": [
    "accuracy = tf.reduce_mean(correct_predictions)"
   ]
  },
  {
   "cell_type": "code",
   "execution_count": 32,
   "metadata": {},
   "outputs": [
    {
     "data": {
      "text/plain": [
       "tensorflow.python.framework.ops.Tensor"
      ]
     },
     "execution_count": 32,
     "metadata": {},
     "output_type": "execute_result"
    }
   ],
   "source": [
    "type(accuracy)"
   ]
  },
  {
   "cell_type": "code",
   "execution_count": 33,
   "metadata": {},
   "outputs": [
    {
     "name": "stdout",
     "output_type": "stream",
     "text": [
      "Epoch: 1 cost=162.7127539617364\n",
      "Epoch: 2 cost=60.175241857008494\n",
      "Epoch: 3 cost=43.90214457815342\n",
      "Epoch: 4 cost=35.39966048847546\n",
      "Epoch: 5 cost=29.56505994363263\n",
      "Epoch: 6 cost=25.65166115305641\n",
      "Epoch: 7 cost=22.703955215974272\n",
      "Epoch: 8 cost=20.195572472919114\n",
      "Epoch: 9 cost=18.367894876870228\n",
      "Epoch: 10 cost=16.83057081796907\n",
      "Epoch: 11 cost=15.625885284163736\n",
      "Epoch: 12 cost=14.391746202978243\n",
      "Epoch: 13 cost=13.504779600988734\n",
      "Epoch: 14 cost=12.501692919216358\n",
      "Epoch: 15 cost=11.818564327512256\n",
      "0.9095\n",
      "Training Completed in 15 Epochs\n"
     ]
    }
   ],
   "source": [
    "# Start the session\n",
    "with tf.Session() as sess:\n",
    "    \n",
    "    # Intialize all the variables\n",
    "    sess.run(init)\n",
    "\n",
    "    for epoch in range(training_epochs):\n",
    "\n",
    "        # Initial the cost = 0.0\n",
    "        avg_cost = 0.0\n",
    "\n",
    "        total_batch = int(n_samples/batch_size)\n",
    "\n",
    "        for i in range(total_batch):\n",
    "\n",
    "            batch_x, batch_y = mnist.train.next_batch(batch_size)\n",
    "            _, c = sess.run([optimizer, cost], feed_dict={x: batch_x, y: batch_y})\n",
    "\n",
    "            # Compute average loss\n",
    "            avg_cost += c / total_batch\n",
    "\n",
    "        print(\"Epoch: {} cost={}\".format(epoch+1,avg_cost))\n",
    "    print(accuracy.eval({x: mnist.test.images, y: mnist.test.labels}))\n",
    "\n",
    "print(\"Training Completed in {} Epochs\".format(training_epochs))"
   ]
  },
  {
   "cell_type": "markdown",
   "metadata": {},
   "source": [
    "## TensorBoard"
   ]
  },
  {
   "cell_type": "code",
   "execution_count": 6,
   "metadata": {},
   "outputs": [
    {
     "name": "stdout",
     "output_type": "stream",
     "text": [
      "WARNING:tensorflow:From <ipython-input-6-e2c76ffd417d>:4: read_data_sets (from tensorflow.contrib.learn.python.learn.datasets.mnist) is deprecated and will be removed in a future version.\n",
      "Instructions for updating:\n",
      "Please use alternatives such as official/mnist/dataset.py from tensorflow/models.\n",
      "WARNING:tensorflow:From C:\\ProgramData\\Anaconda3\\lib\\site-packages\\tensorflow\\contrib\\learn\\python\\learn\\datasets\\mnist.py:260: maybe_download (from tensorflow.contrib.learn.python.learn.datasets.base) is deprecated and will be removed in a future version.\n",
      "Instructions for updating:\n",
      "Please write your own downloading logic.\n",
      "WARNING:tensorflow:From C:\\ProgramData\\Anaconda3\\lib\\site-packages\\tensorflow\\contrib\\learn\\python\\learn\\datasets\\mnist.py:262: extract_images (from tensorflow.contrib.learn.python.learn.datasets.mnist) is deprecated and will be removed in a future version.\n",
      "Instructions for updating:\n",
      "Please use tf.data to implement this functionality.\n",
      "Extracting C:\\Users\\USER\\train-images-idx3-ubyte.gz\n",
      "WARNING:tensorflow:From C:\\ProgramData\\Anaconda3\\lib\\site-packages\\tensorflow\\contrib\\learn\\python\\learn\\datasets\\mnist.py:267: extract_labels (from tensorflow.contrib.learn.python.learn.datasets.mnist) is deprecated and will be removed in a future version.\n",
      "Instructions for updating:\n",
      "Please use tf.data to implement this functionality.\n",
      "Extracting C:\\Users\\USER\\train-labels-idx1-ubyte.gz\n",
      "WARNING:tensorflow:From C:\\ProgramData\\Anaconda3\\lib\\site-packages\\tensorflow\\contrib\\learn\\python\\learn\\datasets\\mnist.py:110: dense_to_one_hot (from tensorflow.contrib.learn.python.learn.datasets.mnist) is deprecated and will be removed in a future version.\n",
      "Instructions for updating:\n",
      "Please use tf.one_hot on tensors.\n",
      "Extracting C:\\Users\\USER\\t10k-images-idx3-ubyte.gz\n",
      "Extracting C:\\Users\\USER\\t10k-labels-idx1-ubyte.gz\n",
      "WARNING:tensorflow:From C:\\ProgramData\\Anaconda3\\lib\\site-packages\\tensorflow\\contrib\\learn\\python\\learn\\datasets\\mnist.py:290: DataSet.__init__ (from tensorflow.contrib.learn.python.learn.datasets.mnist) is deprecated and will be removed in a future version.\n",
      "Instructions for updating:\n",
      "Please use alternatives such as official/mnist/dataset.py from tensorflow/models.\n"
     ]
    }
   ],
   "source": [
    "import tensorflow as tf\n",
    "\n",
    "from tensorflow.examples.tutorials.mnist import input_data\n",
    "mnist = input_data.read_data_sets(\"C:\\\\Users\\\\USER\", one_hot=True)"
   ]
  },
  {
   "cell_type": "code",
   "execution_count": 34,
   "metadata": {},
   "outputs": [],
   "source": [
    "learning_rate   = 0.001\n",
    "training_epochs = 15\n",
    "batch_size      = 100\n",
    "\n",
    "n_hidden_1 = 256 \n",
    "n_hidden_2 = 256 \n",
    "n_input    = 784 \n",
    "n_classes  = 10 \n",
    "n_samples  = mnist.train.num_examples"
   ]
  },
  {
   "cell_type": "code",
   "execution_count": 35,
   "metadata": {},
   "outputs": [],
   "source": [
    "with tf.name_scope('inputs'):\n",
    "    x = tf.placeholder(\"float\", [None, n_input],   name= 'input_x')\n",
    "    y = tf.placeholder(\"float\", [None, n_classes], name= 'input_y')"
   ]
  },
  {
   "cell_type": "code",
   "execution_count": 36,
   "metadata": {},
   "outputs": [],
   "source": [
    "with tf.name_scope('input_reshape'):\n",
    "    image_input = tf.reshape(x,[-1,28,28,1])\n",
    "    tf.summary.image('input', image_input, 10)"
   ]
  },
  {
   "cell_type": "code",
   "execution_count": 37,
   "metadata": {},
   "outputs": [],
   "source": [
    "def add_layer(x, input_tensors, output_tensors, layer_name, activation_function = None):  \n",
    "    with tf.name_scope('Layer'):\n",
    "        with tf.name_scope('Weights'):\n",
    "            weight = tf.Variable(tf.random_normal([input_tensors, output_tensors]), name = 'w')\n",
    "            tf.summary.histogram(name = layer_name + '/Weights', values = weight)\n",
    "        with tf.name_scope('Bias'):\n",
    "            bias = tf.Variable(tf.random_normal([output_tensors]), name= 'b')\n",
    "            tf.summary.histogram(name = layer_name + '/Bias', values = bias)\n",
    "        with tf.name_scope('Wx_plus_b'):\n",
    "            formula = tf.add(tf.matmul(x, weight), bias)\n",
    "        if activation_function is None:\n",
    "            outputs = formula\n",
    "        else:\n",
    "            outputs = activation_function(formula)\n",
    "        tf.summary.histogram(name = layer_name + '/Outputs', values = outputs)\n",
    "        return outputs"
   ]
  },
  {
   "cell_type": "code",
   "execution_count": 38,
   "metadata": {},
   "outputs": [],
   "source": [
    "layer1 = add_layer(x, input_tensors = n_input, output_tensors = n_hidden_1, layer_name='layer1',activation_function = tf.nn.relu)\n",
    "layer2 = add_layer(layer1, input_tensors = n_hidden_1, output_tensors = n_hidden_2, layer_name='layer2',activation_function = tf.nn.relu)\n",
    "out_layer = add_layer(layer2, input_tensors = n_hidden_2, output_tensors = n_classes, layer_name='out_layer',activation_function = None)"
   ]
  },
  {
   "cell_type": "code",
   "execution_count": 39,
   "metadata": {},
   "outputs": [
    {
     "name": "stdout",
     "output_type": "stream",
     "text": [
      "WARNING:tensorflow:From <ipython-input-39-85aab1677ab7>:2: softmax_cross_entropy_with_logits (from tensorflow.python.ops.nn_ops) is deprecated and will be removed in a future version.\n",
      "Instructions for updating:\n",
      "\n",
      "Future major versions of TensorFlow will allow gradients to flow\n",
      "into the labels input on backprop by default.\n",
      "\n",
      "See `tf.nn.softmax_cross_entropy_with_logits_v2`.\n",
      "\n"
     ]
    }
   ],
   "source": [
    "with tf.name_scope('cost'):\n",
    "    cost = tf.reduce_mean(tf.nn.softmax_cross_entropy_with_logits(logits=out_layer, labels=y))\n",
    "    tf.summary.scalar('loss', cost)\n",
    "    \n",
    "with tf.name_scope('optimizer'):\n",
    "    optimizer = tf.train.GradientDescentOptimizer(learning_rate=learning_rate).minimize(cost)\n",
    "    \n",
    "with tf.name_scope('Accuracy'):\n",
    "    acc = tf.equal(tf.argmax(out_layer, 1), tf.argmax(y, 1))\n",
    "    acc = tf.reduce_mean(tf.cast(acc, tf.float32))\n",
    "    tf.summary.scalar(\"accuracy\", acc)"
   ]
  },
  {
   "cell_type": "code",
   "execution_count": 40,
   "metadata": {},
   "outputs": [],
   "source": [
    "init = tf.global_variables_initializer()"
   ]
  },
  {
   "cell_type": "code",
   "execution_count": 41,
   "metadata": {
    "scrolled": false
   },
   "outputs": [
    {
     "name": "stdout",
     "output_type": "stream",
     "text": [
      "Epoch: 1 cost=166.012001093084\n",
      "Epoch: 2 cost=60.311729944402494\n",
      "Epoch: 3 cost=43.98361761613327\n",
      "Epoch: 4 cost=35.427545705275094\n",
      "Epoch: 5 cost=29.88471435243432\n",
      "Epoch: 6 cost=26.094324928196983\n",
      "Epoch: 7 cost=23.083716003244568\n",
      "Epoch: 8 cost=20.779412655613665\n",
      "Epoch: 9 cost=18.91421560352501\n",
      "Epoch: 10 cost=17.25629793123767\n",
      "Epoch: 11 cost=15.885236131277953\n",
      "Epoch: 12 cost=14.752916832620437\n",
      "Epoch: 13 cost=13.687327390909202\n",
      "Epoch: 14 cost=12.788714196085936\n",
      "Epoch: 15 cost=12.0156517796083\n",
      "Training Completed in 15 Epochs\n"
     ]
    }
   ],
   "source": [
    "merged = tf.summary.merge_all()\n",
    "\n",
    "with tf.Session() as sess:\n",
    "    sess.run(init)\n",
    "\n",
    "    ## Merge Summary\n",
    "    \n",
    "    writer = tf.summary.FileWriter(\"tensorboard2/\", graph = sess.graph)\n",
    "\n",
    "    for epoch in range(training_epochs):\n",
    "        avg_cost = 0.0\n",
    "        total_batch = int(n_samples/batch_size)\n",
    "        for i in range(total_batch):\n",
    "            batch_x, batch_y = mnist.train.next_batch(batch_size)\n",
    "            _, c, result = sess.run([optimizer, cost, merged], feed_dict={x: batch_x, y: batch_y})\n",
    "            avg_cost += c / total_batch\n",
    "            ## Adding summary of each step\n",
    "            writer.add_summary(result,  epoch * total_batch + i)\n",
    "\n",
    "        print(\"Epoch: {} cost={}\".format(epoch+1,avg_cost))\n",
    "\n",
    "    print(\"Training Completed in {} Epochs\".format(training_epochs))"
   ]
  },
  {
   "cell_type": "markdown",
   "metadata": {},
   "source": [
    "## Tensorboard\n",
    "- tensorboard --logdir tensorboard/ --host 127.0.0.1\n",
    "- http://127.0.0.1:6006/"
   ]
  },
  {
   "cell_type": "markdown",
   "metadata": {},
   "source": [
    "## Keras"
   ]
  },
  {
   "cell_type": "code",
   "execution_count": 42,
   "metadata": {},
   "outputs": [
    {
     "name": "stdout",
     "output_type": "stream",
     "text": [
      "Collecting keras\n",
      "  Downloading https://files.pythonhosted.org/packages/5e/10/aa32dad071ce52b5502266b5c659451cfd6ffcbf14e6c8c4f16c0ff5aaab/Keras-2.2.4-py2.py3-none-any.whl (312kB)\n",
      "Requirement already satisfied: six>=1.9.0 in c:\\programdata\\anaconda3_2\\lib\\site-packages (from keras) (1.11.0)\n",
      "Requirement already satisfied: numpy>=1.9.1 in c:\\programdata\\anaconda3_2\\lib\\site-packages (from keras) (1.14.3)\n",
      "Requirement already satisfied: pyyaml in c:\\programdata\\anaconda3_2\\lib\\site-packages (from keras) (3.12)\n",
      "Requirement already satisfied: keras-applications>=1.0.6 in c:\\programdata\\anaconda3_2\\lib\\site-packages (from keras) (1.0.6)\n",
      "Requirement already satisfied: keras-preprocessing>=1.0.5 in c:\\programdata\\anaconda3_2\\lib\\site-packages (from keras) (1.0.5)\n",
      "Requirement already satisfied: h5py in c:\\programdata\\anaconda3_2\\lib\\site-packages (from keras) (2.7.1)\n",
      "Requirement already satisfied: scipy>=0.14 in c:\\programdata\\anaconda3_2\\lib\\site-packages (from keras) (1.1.0)\n",
      "Installing collected packages: keras\n",
      "Successfully installed keras-2.2.4\n"
     ]
    },
    {
     "name": "stderr",
     "output_type": "stream",
     "text": [
      "distributed 1.21.8 requires msgpack, which is not installed.\n",
      "You are using pip version 10.0.1, however version 18.1 is available.\n",
      "You should consider upgrading via the 'python -m pip install --upgrade pip' command.\n"
     ]
    }
   ],
   "source": [
    "! pip install keras"
   ]
  },
  {
   "cell_type": "code",
   "execution_count": 43,
   "metadata": {},
   "outputs": [
    {
     "name": "stderr",
     "output_type": "stream",
     "text": [
      "Using TensorFlow backend.\n"
     ]
    }
   ],
   "source": [
    "import keras"
   ]
  },
  {
   "cell_type": "code",
   "execution_count": 44,
   "metadata": {},
   "outputs": [],
   "source": [
    "from keras.datasets import mnist\n",
    "from keras.models import Sequential\n",
    "from keras.optimizers import SGD\n",
    "from keras.layers import Activation, Dense"
   ]
  },
  {
   "cell_type": "code",
   "execution_count": 60,
   "metadata": {},
   "outputs": [],
   "source": [
    "(x_train, y_train), (x_test, y_test) = mnist.load_data()"
   ]
  },
  {
   "cell_type": "code",
   "execution_count": 61,
   "metadata": {},
   "outputs": [
    {
     "data": {
      "text/plain": [
       "(60000, 28, 28)"
      ]
     },
     "execution_count": 61,
     "metadata": {},
     "output_type": "execute_result"
    }
   ],
   "source": [
    "x_train.shape"
   ]
  },
  {
   "cell_type": "code",
   "execution_count": 62,
   "metadata": {},
   "outputs": [
    {
     "data": {
      "text/plain": [
       "(60000,)"
      ]
     },
     "execution_count": 62,
     "metadata": {},
     "output_type": "execute_result"
    }
   ],
   "source": [
    "y_train.shape"
   ]
  },
  {
   "cell_type": "code",
   "execution_count": 63,
   "metadata": {},
   "outputs": [
    {
     "data": {
      "text/plain": [
       "5"
      ]
     },
     "execution_count": 63,
     "metadata": {},
     "output_type": "execute_result"
    }
   ],
   "source": [
    "y_train[0]"
   ]
  },
  {
   "cell_type": "code",
   "execution_count": 64,
   "metadata": {},
   "outputs": [
    {
     "data": {
      "text/plain": [
       "(10000, 28, 28)"
      ]
     },
     "execution_count": 64,
     "metadata": {},
     "output_type": "execute_result"
    }
   ],
   "source": [
    "x_test.shape"
   ]
  },
  {
   "cell_type": "code",
   "execution_count": 65,
   "metadata": {},
   "outputs": [],
   "source": [
    "#x_train[0]"
   ]
  },
  {
   "cell_type": "code",
   "execution_count": 66,
   "metadata": {},
   "outputs": [
    {
     "data": {
      "text/plain": [
       "<matplotlib.image.AxesImage at 0x12b9a5c0>"
      ]
     },
     "execution_count": 66,
     "metadata": {},
     "output_type": "execute_result"
    },
    {
     "data": {
      "image/png": "[encoded data removed]",
      "text/plain": [
       "<Figure size 432x288 with 1 Axes>"
      ]
     },
     "metadata": {},
     "output_type": "display_data"
    }
   ],
   "source": [
    "plt.imshow(x_train[0])"
   ]
  },
  {
   "cell_type": "code",
   "execution_count": 67,
   "metadata": {},
   "outputs": [],
   "source": [
    "x_train = x_train.reshape(60000, 784)\n",
    "x_test  = x_test.reshape(10000, 784)"
   ]
  },
  {
   "cell_type": "code",
   "execution_count": 68,
   "metadata": {},
   "outputs": [],
   "source": [
    "x_train = x_train.astype('float32')\n",
    "x_test  = x_test.astype('float32')\n",
    "x_train /= 255\n",
    "x_test  /= 255"
   ]
  },
  {
   "cell_type": "code",
   "execution_count": 70,
   "metadata": {},
   "outputs": [
    {
     "data": {
      "text/plain": [
       "array([5, 0, 4, ..., 5, 6, 8], dtype=uint8)"
      ]
     },
     "execution_count": 70,
     "metadata": {},
     "output_type": "execute_result"
    }
   ],
   "source": [
    "y_train"
   ]
  },
  {
   "cell_type": "code",
   "execution_count": 71,
   "metadata": {},
   "outputs": [],
   "source": [
    "n_classes  = 10 \n",
    "y_train = keras.utils.to_categorical(y_train, n_classes)\n",
    "y_test  = keras.utils.to_categorical(y_test, n_classes)"
   ]
  },
  {
   "cell_type": "code",
   "execution_count": 73,
   "metadata": {},
   "outputs": [
    {
     "data": {
      "text/plain": [
       "array([0., 0., 0., 0., 0., 1., 0., 0., 0., 0.], dtype=float32)"
      ]
     },
     "execution_count": 73,
     "metadata": {},
     "output_type": "execute_result"
    }
   ],
   "source": [
    "y_train[0]"
   ]
  },
  {
   "cell_type": "markdown",
   "metadata": {},
   "source": [
    "### 設定網路參數"
   ]
  },
  {
   "cell_type": "code",
   "execution_count": null,
   "metadata": {},
   "outputs": [],
   "source": [
    "n_hidden_1 = 256 \n",
    "n_hidden_2 = 256 \n",
    "n_input    = 784 \n",
    "n_classes  = 10 \n",
    "\n",
    "training_epochs = 15\n",
    "batch_size = 100"
   ]
  },
  {
   "cell_type": "markdown",
   "metadata": {},
   "source": [
    "### 建構神經網路"
   ]
  },
  {
   "cell_type": "code",
   "execution_count": 74,
   "metadata": {},
   "outputs": [],
   "source": [
    "model = keras.Sequential()\n",
    "model.add(Dense(n_hidden_1, activation='relu', input_shape=(n_input,)))\n",
    "model.add(Dense(n_hidden_2, activation='relu'))\n",
    "model.add(Dense(n_classes, activation='softmax'))"
   ]
  },
  {
   "cell_type": "code",
   "execution_count": 75,
   "metadata": {},
   "outputs": [],
   "source": [
    "model.compile(loss='categorical_crossentropy',\n",
    "              optimizer='sgd',\n",
    "              metrics=['accuracy'])"
   ]
  },
  {
   "cell_type": "code",
   "execution_count": 76,
   "metadata": {},
   "outputs": [],
   "source": [
    "## Dense = activation_function(X * Weight + Bias)"
   ]
  },
  {
   "cell_type": "markdown",
   "metadata": {},
   "source": [
    "### 訓練神經網路"
   ]
  },
  {
   "cell_type": "code",
   "execution_count": 77,
   "metadata": {},
   "outputs": [
    {
     "name": "stdout",
     "output_type": "stream",
     "text": [
      "Train on 60000 samples, validate on 10000 samples\n",
      "Epoch 1/15\n",
      "60000/60000 [==============================] - 2s 34us/step - loss: 1.0372 - acc: 0.7613 - val_loss: 0.4770 - val_acc: 0.8814\n",
      "Epoch 2/15\n",
      "60000/60000 [==============================] - 2s 33us/step - loss: 0.4166 - acc: 0.8891 - val_loss: 0.3480 - val_acc: 0.9003\n",
      "Epoch 3/15\n",
      "60000/60000 [==============================] - 2s 34us/step - loss: 0.3397 - acc: 0.9055 - val_loss: 0.3041 - val_acc: 0.9123\n",
      "Epoch 4/15\n",
      "60000/60000 [==============================] - 2s 33us/step - loss: 0.3033 - acc: 0.9141 - val_loss: 0.2776 - val_acc: 0.9201\n",
      "Epoch 5/15\n",
      "60000/60000 [==============================] - 2s 31us/step - loss: 0.2788 - acc: 0.9208 - val_loss: 0.2588 - val_acc: 0.9247\n",
      "Epoch 6/15\n",
      "60000/60000 [==============================] - 2s 31us/step - loss: 0.2598 - acc: 0.9258 - val_loss: 0.2429 - val_acc: 0.9307\n",
      "Epoch 7/15\n",
      "60000/60000 [==============================] - 2s 31us/step - loss: 0.2437 - acc: 0.9307 - val_loss: 0.2337 - val_acc: 0.9325\n",
      "Epoch 8/15\n",
      "60000/60000 [==============================] - 2s 31us/step - loss: 0.2298 - acc: 0.9349 - val_loss: 0.2227 - val_acc: 0.9355\n",
      "Epoch 9/15\n",
      "60000/60000 [==============================] - 2s 31us/step - loss: 0.2176 - acc: 0.9386 - val_loss: 0.2092 - val_acc: 0.9384\n",
      "Epoch 10/15\n",
      "60000/60000 [==============================] - 2s 31us/step - loss: 0.2064 - acc: 0.9416 - val_loss: 0.2015 - val_acc: 0.9400\n",
      "Epoch 11/15\n",
      "60000/60000 [==============================] - 2s 30us/step - loss: 0.1964 - acc: 0.9447 - val_loss: 0.1919 - val_acc: 0.9441\n",
      "Epoch 12/15\n",
      "60000/60000 [==============================] - 2s 31us/step - loss: 0.1872 - acc: 0.9469 - val_loss: 0.1827 - val_acc: 0.9448\n",
      "Epoch 13/15\n",
      "60000/60000 [==============================] - 2s 31us/step - loss: 0.1789 - acc: 0.9492 - val_loss: 0.1764 - val_acc: 0.9471\n",
      "Epoch 14/15\n",
      "60000/60000 [==============================] - 2s 31us/step - loss: 0.1713 - acc: 0.9519 - val_loss: 0.1702 - val_acc: 0.9493\n",
      "Epoch 15/15\n",
      "60000/60000 [==============================] - 2s 31us/step - loss: 0.1643 - acc: 0.9537 - val_loss: 0.1645 - val_acc: 0.9506\n"
     ]
    }
   ],
   "source": [
    "history = model.fit(x_train, y_train,\n",
    "                    batch_size=batch_size,\n",
    "                    epochs=training_epochs,\n",
    "                    verbose=1,\n",
    "                    validation_data=(x_test, y_test))"
   ]
  },
  {
   "cell_type": "code",
   "execution_count": 80,
   "metadata": {},
   "outputs": [],
   "source": [
    "predicted = np.argmax(model.predict(x_test), 1)"
   ]
  },
  {
   "cell_type": "code",
   "execution_count": 82,
   "metadata": {},
   "outputs": [],
   "source": [
    "y = np.argmax(y_test, 1)"
   ]
  },
  {
   "cell_type": "code",
   "execution_count": 83,
   "metadata": {},
   "outputs": [
    {
     "data": {
      "text/plain": [
       "array([ True,  True,  True, ...,  True,  True,  True])"
      ]
     },
     "execution_count": 83,
     "metadata": {},
     "output_type": "execute_result"
    }
   ],
   "source": [
    "predicted == y"
   ]
  },
  {
   "cell_type": "code",
   "execution_count": 85,
   "metadata": {},
   "outputs": [
    {
     "data": {
      "text/plain": [
       "0.9506"
      ]
     },
     "execution_count": 85,
     "metadata": {},
     "output_type": "execute_result"
    }
   ],
   "source": [
    "sum(predicted == y)  / len(y)"
   ]
  },
  {
   "cell_type": "code",
   "execution_count": 87,
   "metadata": {},
   "outputs": [
    {
     "data": {
      "text/plain": [
       "0.9506"
      ]
     },
     "execution_count": 87,
     "metadata": {},
     "output_type": "execute_result"
    }
   ],
   "source": [
    "from sklearn.metrics import accuracy_score, confusion_matrix\n",
    "accuracy_score(y, predicted)"
   ]
  },
  {
   "cell_type": "code",
   "execution_count": 88,
   "metadata": {},
   "outputs": [
    {
     "data": {
      "text/plain": [
       "array([[ 965,    0,    0,    1,    0,    5,    5,    1,    2,    1],\n",
       "       [   0, 1115,    2,    2,    1,    1,    3,    2,    9,    0],\n",
       "       [   8,    3,  966,   10,    4,    4,    9,   10,   15,    3],\n",
       "       [   1,    1,    9,  960,    0,   16,    1,   10,    9,    3],\n",
       "       [   1,    1,    4,    1,  936,    0,    8,    3,    5,   23],\n",
       "       [  10,    2,    0,   14,    4,  836,   10,    1,   10,    5],\n",
       "       [   8,    3,    4,    1,   11,   12,  917,    0,    2,    0],\n",
       "       [   2,   10,   21,    7,    3,    1,    0,  960,    3,   21],\n",
       "       [   3,    3,    4,   16,    8,    8,   10,    7,  910,    5],\n",
       "       [   6,    8,    1,    9,   24,    5,    1,    8,    6,  941]],\n",
       "      dtype=int64)"
      ]
     },
     "execution_count": 88,
     "metadata": {},
     "output_type": "execute_result"
    }
   ],
   "source": [
    "confusion_matrix(y, predicted)"
   ]
  },
  {
   "cell_type": "markdown",
   "metadata": {},
   "source": [
    "## 客戶流失分析"
   ]
  },
  {
   "cell_type": "code",
   "execution_count": 92,
   "metadata": {},
   "outputs": [],
   "source": [
    "import pandas as pd\n",
    "dataset = pd.read_csv('https://raw.githubusercontent.com/ywchiu/tibamedl/master/Data/customer_churn.csv', index_col=0)"
   ]
  },
  {
   "cell_type": "code",
   "execution_count": 94,
   "metadata": {},
   "outputs": [
    {
     "data": {
      "text/html": [
       "<div>\n",
       "<style scoped>\n",
       "    .dataframe tbody tr th:only-of-type {\n",
       "        vertical-align: middle;\n",
       "    }\n",
       "\n",
       "    .dataframe tbody tr th {\n",
       "        vertical-align: top;\n",
       "    }\n",
       "\n",
       "    .dataframe thead th {\n",
       "        text-align: right;\n",
       "    }\n",
       "</style>\n",
       "<table border=\"1\" class=\"dataframe\">\n",
       "  <thead>\n",
       "    <tr style=\"text-align: right;\">\n",
       "      <th></th>\n",
       "      <th>state</th>\n",
       "      <th>account_length</th>\n",
       "      <th>area_code</th>\n",
       "      <th>international_plan</th>\n",
       "      <th>voice_mail_plan</th>\n",
       "      <th>number_vmail_messages</th>\n",
       "      <th>total_day_minutes</th>\n",
       "      <th>total_day_calls</th>\n",
       "      <th>total_day_charge</th>\n",
       "      <th>total_eve_minutes</th>\n",
       "      <th>total_eve_calls</th>\n",
       "      <th>total_eve_charge</th>\n",
       "      <th>total_night_minutes</th>\n",
       "      <th>total_night_calls</th>\n",
       "      <th>total_night_charge</th>\n",
       "      <th>total_intl_minutes</th>\n",
       "      <th>total_intl_calls</th>\n",
       "      <th>total_intl_charge</th>\n",
       "      <th>number_customer_service_calls</th>\n",
       "      <th>churn</th>\n",
       "    </tr>\n",
       "  </thead>\n",
       "  <tbody>\n",
       "    <tr>\n",
       "      <th>1</th>\n",
       "      <td>KS</td>\n",
       "      <td>128</td>\n",
       "      <td>area_code_415</td>\n",
       "      <td>no</td>\n",
       "      <td>yes</td>\n",
       "      <td>25</td>\n",
       "      <td>265.1</td>\n",
       "      <td>110</td>\n",
       "      <td>45.07</td>\n",
       "      <td>197.4</td>\n",
       "      <td>99</td>\n",
       "      <td>16.78</td>\n",
       "      <td>244.7</td>\n",
       "      <td>91</td>\n",
       "      <td>11.01</td>\n",
       "      <td>10.0</td>\n",
       "      <td>3</td>\n",
       "      <td>2.70</td>\n",
       "      <td>1</td>\n",
       "      <td>no</td>\n",
       "    </tr>\n",
       "    <tr>\n",
       "      <th>2</th>\n",
       "      <td>OH</td>\n",
       "      <td>107</td>\n",
       "      <td>area_code_415</td>\n",
       "      <td>no</td>\n",
       "      <td>yes</td>\n",
       "      <td>26</td>\n",
       "      <td>161.6</td>\n",
       "      <td>123</td>\n",
       "      <td>27.47</td>\n",
       "      <td>195.5</td>\n",
       "      <td>103</td>\n",
       "      <td>16.62</td>\n",
       "      <td>254.4</td>\n",
       "      <td>103</td>\n",
       "      <td>11.45</td>\n",
       "      <td>13.7</td>\n",
       "      <td>3</td>\n",
       "      <td>3.70</td>\n",
       "      <td>1</td>\n",
       "      <td>no</td>\n",
       "    </tr>\n",
       "    <tr>\n",
       "      <th>3</th>\n",
       "      <td>NJ</td>\n",
       "      <td>137</td>\n",
       "      <td>area_code_415</td>\n",
       "      <td>no</td>\n",
       "      <td>no</td>\n",
       "      <td>0</td>\n",
       "      <td>243.4</td>\n",
       "      <td>114</td>\n",
       "      <td>41.38</td>\n",
       "      <td>121.2</td>\n",
       "      <td>110</td>\n",
       "      <td>10.30</td>\n",
       "      <td>162.6</td>\n",
       "      <td>104</td>\n",
       "      <td>7.32</td>\n",
       "      <td>12.2</td>\n",
       "      <td>5</td>\n",
       "      <td>3.29</td>\n",
       "      <td>0</td>\n",
       "      <td>no</td>\n",
       "    </tr>\n",
       "    <tr>\n",
       "      <th>4</th>\n",
       "      <td>OH</td>\n",
       "      <td>84</td>\n",
       "      <td>area_code_408</td>\n",
       "      <td>yes</td>\n",
       "      <td>no</td>\n",
       "      <td>0</td>\n",
       "      <td>299.4</td>\n",
       "      <td>71</td>\n",
       "      <td>50.90</td>\n",
       "      <td>61.9</td>\n",
       "      <td>88</td>\n",
       "      <td>5.26</td>\n",
       "      <td>196.9</td>\n",
       "      <td>89</td>\n",
       "      <td>8.86</td>\n",
       "      <td>6.6</td>\n",
       "      <td>7</td>\n",
       "      <td>1.78</td>\n",
       "      <td>2</td>\n",
       "      <td>no</td>\n",
       "    </tr>\n",
       "    <tr>\n",
       "      <th>5</th>\n",
       "      <td>OK</td>\n",
       "      <td>75</td>\n",
       "      <td>area_code_415</td>\n",
       "      <td>yes</td>\n",
       "      <td>no</td>\n",
       "      <td>0</td>\n",
       "      <td>166.7</td>\n",
       "      <td>113</td>\n",
       "      <td>28.34</td>\n",
       "      <td>148.3</td>\n",
       "      <td>122</td>\n",
       "      <td>12.61</td>\n",
       "      <td>186.9</td>\n",
       "      <td>121</td>\n",
       "      <td>8.41</td>\n",
       "      <td>10.1</td>\n",
       "      <td>3</td>\n",
       "      <td>2.73</td>\n",
       "      <td>3</td>\n",
       "      <td>no</td>\n",
       "    </tr>\n",
       "  </tbody>\n",
       "</table>\n",
       "</div>"
      ],
      "text/plain": [
       "  state  account_length      area_code international_plan voice_mail_plan  \\\n",
       "1    KS             128  area_code_415                 no             yes   \n",
       "2    OH             107  area_code_415                 no             yes   \n",
       "3    NJ             137  area_code_415                 no              no   \n",
       "4    OH              84  area_code_408                yes              no   \n",
       "5    OK              75  area_code_415                yes              no   \n",
       "\n",
       "   number_vmail_messages  total_day_minutes  total_day_calls  \\\n",
       "1                     25              265.1              110   \n",
       "2                     26              161.6              123   \n",
       "3                      0              243.4              114   \n",
       "4                      0              299.4               71   \n",
       "5                      0              166.7              113   \n",
       "\n",
       "   total_day_charge  total_eve_minutes  total_eve_calls  total_eve_charge  \\\n",
       "1             45.07              197.4               99             16.78   \n",
       "2             27.47              195.5              103             16.62   \n",
       "3             41.38              121.2              110             10.30   \n",
       "4             50.90               61.9               88              5.26   \n",
       "5             28.34              148.3              122             12.61   \n",
       "\n",
       "   total_night_minutes  total_night_calls  total_night_charge  \\\n",
       "1                244.7                 91               11.01   \n",
       "2                254.4                103               11.45   \n",
       "3                162.6                104                7.32   \n",
       "4                196.9                 89                8.86   \n",
       "5                186.9                121                8.41   \n",
       "\n",
       "   total_intl_minutes  total_intl_calls  total_intl_charge  \\\n",
       "1                10.0                 3               2.70   \n",
       "2                13.7                 3               3.70   \n",
       "3                12.2                 5               3.29   \n",
       "4                 6.6                 7               1.78   \n",
       "5                10.1                 3               2.73   \n",
       "\n",
       "   number_customer_service_calls churn  \n",
       "1                              1    no  \n",
       "2                              1    no  \n",
       "3                              0    no  \n",
       "4                              2    no  \n",
       "5                              3    no  "
      ]
     },
     "execution_count": 94,
     "metadata": {},
     "output_type": "execute_result"
    }
   ],
   "source": [
    "dataset.head()"
   ]
  },
  {
   "cell_type": "code",
   "execution_count": 96,
   "metadata": {},
   "outputs": [],
   "source": [
    "# df[ row , col  ]\n",
    "X = dataset.iloc[:,3:]"
   ]
  },
  {
   "cell_type": "code",
   "execution_count": 98,
   "metadata": {},
   "outputs": [
    {
     "name": "stdout",
     "output_type": "stream",
     "text": [
      "<class 'pandas.core.frame.DataFrame'>\n",
      "Int64Index: 3333 entries, 1 to 3333\n",
      "Data columns (total 17 columns):\n",
      "international_plan               3333 non-null object\n",
      "voice_mail_plan                  3333 non-null object\n",
      "number_vmail_messages            3333 non-null int64\n",
      "total_day_minutes                3333 non-null float64\n",
      "total_day_calls                  3333 non-null int64\n",
      "total_day_charge                 3333 non-null float64\n",
      "total_eve_minutes                3333 non-null float64\n",
      "total_eve_calls                  3333 non-null int64\n",
      "total_eve_charge                 3333 non-null float64\n",
      "total_night_minutes              3333 non-null float64\n",
      "total_night_calls                3333 non-null int64\n",
      "total_night_charge               3333 non-null float64\n",
      "total_intl_minutes               3333 non-null float64\n",
      "total_intl_calls                 3333 non-null int64\n",
      "total_intl_charge                3333 non-null float64\n",
      "number_customer_service_calls    3333 non-null int64\n",
      "churn                            3333 non-null object\n",
      "dtypes: float64(8), int64(6), object(3)\n",
      "memory usage: 468.7+ KB\n"
     ]
    }
   ],
   "source": [
    "X.info()"
   ]
  },
  {
   "cell_type": "code",
   "execution_count": 100,
   "metadata": {},
   "outputs": [],
   "source": [
    "X['international_plan'] = X['international_plan'].map(lambda e : 1 if e == 'yes' else 0) "
   ]
  },
  {
   "cell_type": "code",
   "execution_count": 102,
   "metadata": {},
   "outputs": [],
   "source": [
    "X['voice_mail_plan'] = X['voice_mail_plan'].map(lambda e : 1 if e == 'yes' else 0) "
   ]
  },
  {
   "cell_type": "code",
   "execution_count": 103,
   "metadata": {},
   "outputs": [],
   "source": [
    "X['churn'] = X['churn'].map(lambda e : 1 if e == 'yes' else 0) "
   ]
  },
  {
   "cell_type": "code",
   "execution_count": 105,
   "metadata": {},
   "outputs": [
    {
     "name": "stdout",
     "output_type": "stream",
     "text": [
      "<class 'pandas.core.frame.DataFrame'>\n",
      "Int64Index: 3333 entries, 1 to 3333\n",
      "Data columns (total 17 columns):\n",
      "international_plan               3333 non-null int64\n",
      "voice_mail_plan                  3333 non-null int64\n",
      "number_vmail_messages            3333 non-null int64\n",
      "total_day_minutes                3333 non-null float64\n",
      "total_day_calls                  3333 non-null int64\n",
      "total_day_charge                 3333 non-null float64\n",
      "total_eve_minutes                3333 non-null float64\n",
      "total_eve_calls                  3333 non-null int64\n",
      "total_eve_charge                 3333 non-null float64\n",
      "total_night_minutes              3333 non-null float64\n",
      "total_night_calls                3333 non-null int64\n",
      "total_night_charge               3333 non-null float64\n",
      "total_intl_minutes               3333 non-null float64\n",
      "total_intl_calls                 3333 non-null int64\n",
      "total_intl_charge                3333 non-null float64\n",
      "number_customer_service_calls    3333 non-null int64\n",
      "churn                            3333 non-null int64\n",
      "dtypes: float64(8), int64(9)\n",
      "memory usage: 468.7 KB\n"
     ]
    }
   ],
   "source": [
    "X.info()"
   ]
  },
  {
   "cell_type": "code",
   "execution_count": 106,
   "metadata": {},
   "outputs": [],
   "source": [
    "y = X['churn']"
   ]
  },
  {
   "cell_type": "code",
   "execution_count": 107,
   "metadata": {},
   "outputs": [],
   "source": [
    "del X['churn']"
   ]
  },
  {
   "cell_type": "code",
   "execution_count": 108,
   "metadata": {},
   "outputs": [],
   "source": [
    "from sklearn.model_selection import train_test_split\n",
    "X_train, X_test, y_train, y_test = train_test_split(X, y, test_size = 0.2, random_state = 0)"
   ]
  },
  {
   "cell_type": "code",
   "execution_count": 110,
   "metadata": {},
   "outputs": [
    {
     "data": {
      "text/plain": [
       "(2666, 16)"
      ]
     },
     "execution_count": 110,
     "metadata": {},
     "output_type": "execute_result"
    }
   ],
   "source": [
    "X_train.shape"
   ]
  },
  {
   "cell_type": "code",
   "execution_count": 112,
   "metadata": {},
   "outputs": [
    {
     "data": {
      "text/plain": [
       "(667, 16)"
      ]
     },
     "execution_count": 112,
     "metadata": {},
     "output_type": "execute_result"
    }
   ],
   "source": [
    "X_test.shape"
   ]
  },
  {
   "cell_type": "code",
   "execution_count": 113,
   "metadata": {},
   "outputs": [],
   "source": [
    "from sklearn.preprocessing import StandardScaler\n",
    "sc = StandardScaler()\n",
    "X_train = sc.fit_transform(X_train)\n",
    "X_test  = sc.transform(X_test)"
   ]
  },
  {
   "cell_type": "code",
   "execution_count": 115,
   "metadata": {},
   "outputs": [
    {
     "data": {
      "text/plain": [
       "array([[ 3.11557817, -0.61579486, -0.58944097, ...,  0.21418988,\n",
       "        -0.33633574, -1.17967998],\n",
       "       [-0.32096771,  1.62391742,  2.06354095, ..., -0.60566687,\n",
       "        -0.08616319,  0.33819011],\n",
       "       [-0.32096771, -0.61579486, -0.58944097, ..., -0.19573849,\n",
       "         0.8091912 ,  1.09712515],\n",
       "       ...,\n",
       "       [-0.32096771, -0.61579486, -0.58944097, ..., -0.60566687,\n",
       "         0.55901865, -0.42074493],\n",
       "       [ 3.11557817, -0.61579486, -0.58944097, ..., -1.42552363,\n",
       "        -0.83668084, -0.42074493],\n",
       "       [-0.32096771, -0.61579486, -0.58944097, ..., -0.19573849,\n",
       "        -0.29683481,  1.09712515]])"
      ]
     },
     "execution_count": 115,
     "metadata": {},
     "output_type": "execute_result"
    }
   ],
   "source": [
    "X_test"
   ]
  },
  {
   "cell_type": "markdown",
   "metadata": {},
   "source": [
    "### 設定網路參數"
   ]
  },
  {
   "cell_type": "code",
   "execution_count": 122,
   "metadata": {},
   "outputs": [],
   "source": [
    "n_hidden_1 = 8 \n",
    "n_hidden_2 = 8 \n",
    "n_input    = 16 \n",
    "n_classes  = 1 \n",
    "\n",
    "training_epochs = 100\n",
    "batch_size = 100"
   ]
  },
  {
   "cell_type": "markdown",
   "metadata": {},
   "source": [
    "### 建構神經網路"
   ]
  },
  {
   "cell_type": "code",
   "execution_count": 123,
   "metadata": {},
   "outputs": [
    {
     "name": "stdout",
     "output_type": "stream",
     "text": [
      "Train on 2666 samples, validate on 667 samples\n",
      "Epoch 1/100\n",
      "2666/2666 [==============================] - 0s 79us/step - loss: 0.8837 - acc: 0.3286 - val_loss: 0.7360 - val_acc: 0.5337\n",
      "Epoch 2/100\n",
      "2666/2666 [==============================] - 0s 9us/step - loss: 0.6401 - acc: 0.6887 - val_loss: 0.5800 - val_acc: 0.7751\n",
      "Epoch 3/100\n",
      "2666/2666 [==============================] - 0s 9us/step - loss: 0.5387 - acc: 0.8256 - val_loss: 0.5078 - val_acc: 0.8411\n",
      "Epoch 4/100\n",
      "2666/2666 [==============================] - 0s 8us/step - loss: 0.4897 - acc: 0.8500 - val_loss: 0.4692 - val_acc: 0.8561\n",
      "Epoch 5/100\n",
      "2666/2666 [==============================] - 0s 8us/step - loss: 0.4630 - acc: 0.8548 - val_loss: 0.4472 - val_acc: 0.8681\n",
      "Epoch 6/100\n",
      "2666/2666 [==============================] - 0s 8us/step - loss: 0.4473 - acc: 0.8545 - val_loss: 0.4329 - val_acc: 0.8681\n",
      "Epoch 7/100\n",
      "2666/2666 [==============================] - 0s 9us/step - loss: 0.4369 - acc: 0.8530 - val_loss: 0.4230 - val_acc: 0.8696\n",
      "Epoch 8/100\n",
      "2666/2666 [==============================] - 0s 8us/step - loss: 0.4296 - acc: 0.8522 - val_loss: 0.4156 - val_acc: 0.8681\n",
      "Epoch 9/100\n",
      "2666/2666 [==============================] - 0s 8us/step - loss: 0.4240 - acc: 0.8515 - val_loss: 0.4098 - val_acc: 0.8681\n",
      "Epoch 10/100\n",
      "2666/2666 [==============================] - 0s 8us/step - loss: 0.4195 - acc: 0.8515 - val_loss: 0.4049 - val_acc: 0.8681\n",
      "Epoch 11/100\n",
      "2666/2666 [==============================] - 0s 8us/step - loss: 0.4157 - acc: 0.8526 - val_loss: 0.4010 - val_acc: 0.8681\n",
      "Epoch 12/100\n",
      "2666/2666 [==============================] - 0s 8us/step - loss: 0.4124 - acc: 0.8522 - val_loss: 0.3974 - val_acc: 0.8681\n",
      "Epoch 13/100\n",
      "2666/2666 [==============================] - 0s 8us/step - loss: 0.4094 - acc: 0.8526 - val_loss: 0.3941 - val_acc: 0.8681\n",
      "Epoch 14/100\n",
      "2666/2666 [==============================] - 0s 9us/step - loss: 0.4065 - acc: 0.8522 - val_loss: 0.3911 - val_acc: 0.8681\n",
      "Epoch 15/100\n",
      "2666/2666 [==============================] - 0s 8us/step - loss: 0.4038 - acc: 0.8526 - val_loss: 0.3883 - val_acc: 0.8681\n",
      "Epoch 16/100\n",
      "2666/2666 [==============================] - 0s 8us/step - loss: 0.4012 - acc: 0.8526 - val_loss: 0.3856 - val_acc: 0.8681\n",
      "Epoch 17/100\n",
      "2666/2666 [==============================] - 0s 8us/step - loss: 0.3987 - acc: 0.8526 - val_loss: 0.3831 - val_acc: 0.8681\n",
      "Epoch 18/100\n",
      "2666/2666 [==============================] - 0s 8us/step - loss: 0.3963 - acc: 0.8533 - val_loss: 0.3807 - val_acc: 0.8681\n",
      "Epoch 19/100\n",
      "2666/2666 [==============================] - 0s 8us/step - loss: 0.3940 - acc: 0.8533 - val_loss: 0.3783 - val_acc: 0.8681\n",
      "Epoch 20/100\n",
      "2666/2666 [==============================] - 0s 8us/step - loss: 0.3916 - acc: 0.8537 - val_loss: 0.3760 - val_acc: 0.8681\n",
      "Epoch 21/100\n",
      "2666/2666 [==============================] - 0s 9us/step - loss: 0.3894 - acc: 0.8537 - val_loss: 0.3738 - val_acc: 0.8696\n",
      "Epoch 22/100\n",
      "2666/2666 [==============================] - 0s 8us/step - loss: 0.3872 - acc: 0.8533 - val_loss: 0.3715 - val_acc: 0.8696\n",
      "Epoch 23/100\n",
      "2666/2666 [==============================] - 0s 9us/step - loss: 0.3850 - acc: 0.8545 - val_loss: 0.3694 - val_acc: 0.8696\n",
      "Epoch 24/100\n",
      "2666/2666 [==============================] - 0s 9us/step - loss: 0.3829 - acc: 0.8541 - val_loss: 0.3672 - val_acc: 0.8696\n",
      "Epoch 25/100\n",
      "2666/2666 [==============================] - 0s 8us/step - loss: 0.3807 - acc: 0.8541 - val_loss: 0.3652 - val_acc: 0.8681\n",
      "Epoch 26/100\n",
      "2666/2666 [==============================] - 0s 9us/step - loss: 0.3786 - acc: 0.8548 - val_loss: 0.3631 - val_acc: 0.8681\n",
      "Epoch 27/100\n",
      "2666/2666 [==============================] - 0s 9us/step - loss: 0.3766 - acc: 0.8552 - val_loss: 0.3611 - val_acc: 0.8681\n",
      "Epoch 28/100\n",
      "2666/2666 [==============================] - 0s 8us/step - loss: 0.3745 - acc: 0.8560 - val_loss: 0.3590 - val_acc: 0.8681\n",
      "Epoch 29/100\n",
      "2666/2666 [==============================] - 0s 8us/step - loss: 0.3724 - acc: 0.8567 - val_loss: 0.3570 - val_acc: 0.8681\n",
      "Epoch 30/100\n",
      "2666/2666 [==============================] - 0s 11us/step - loss: 0.3704 - acc: 0.8571 - val_loss: 0.3551 - val_acc: 0.8681\n",
      "Epoch 31/100\n",
      "2666/2666 [==============================] - 0s 9us/step - loss: 0.3684 - acc: 0.8582 - val_loss: 0.3532 - val_acc: 0.8681\n",
      "Epoch 32/100\n",
      "2666/2666 [==============================] - 0s 9us/step - loss: 0.3664 - acc: 0.8597 - val_loss: 0.3513 - val_acc: 0.8696\n",
      "Epoch 33/100\n",
      "2666/2666 [==============================] - 0s 8us/step - loss: 0.3645 - acc: 0.8616 - val_loss: 0.3493 - val_acc: 0.8711\n",
      "Epoch 34/100\n",
      "2666/2666 [==============================] - 0s 17us/step - loss: 0.3626 - acc: 0.8627 - val_loss: 0.3474 - val_acc: 0.8726\n",
      "Epoch 35/100\n",
      "2666/2666 [==============================] - 0s 8us/step - loss: 0.3607 - acc: 0.8631 - val_loss: 0.3457 - val_acc: 0.8726\n",
      "Epoch 36/100\n",
      "2666/2666 [==============================] - 0s 8us/step - loss: 0.3587 - acc: 0.8631 - val_loss: 0.3438 - val_acc: 0.8741\n",
      "Epoch 37/100\n",
      "2666/2666 [==============================] - 0s 9us/step - loss: 0.3568 - acc: 0.8635 - val_loss: 0.3420 - val_acc: 0.8741\n",
      "Epoch 38/100\n",
      "2666/2666 [==============================] - 0s 11us/step - loss: 0.3549 - acc: 0.8642 - val_loss: 0.3402 - val_acc: 0.8771\n",
      "Epoch 39/100\n",
      "2666/2666 [==============================] - 0s 10us/step - loss: 0.3530 - acc: 0.8653 - val_loss: 0.3384 - val_acc: 0.8771\n",
      "Epoch 40/100\n",
      "2666/2666 [==============================] - 0s 8us/step - loss: 0.3511 - acc: 0.8661 - val_loss: 0.3366 - val_acc: 0.8771\n",
      "Epoch 41/100\n",
      "2666/2666 [==============================] - 0s 12us/step - loss: 0.3492 - acc: 0.8668 - val_loss: 0.3348 - val_acc: 0.8771\n",
      "Epoch 42/100\n",
      "2666/2666 [==============================] - 0s 8us/step - loss: 0.3474 - acc: 0.8676 - val_loss: 0.3332 - val_acc: 0.8786\n",
      "Epoch 43/100\n",
      "2666/2666 [==============================] - 0s 11us/step - loss: 0.3455 - acc: 0.8687 - val_loss: 0.3314 - val_acc: 0.8786\n",
      "Epoch 44/100\n",
      "2666/2666 [==============================] - 0s 8us/step - loss: 0.3437 - acc: 0.8695 - val_loss: 0.3297 - val_acc: 0.8786\n",
      "Epoch 45/100\n",
      "2666/2666 [==============================] - 0s 8us/step - loss: 0.3419 - acc: 0.8698 - val_loss: 0.3281 - val_acc: 0.8786\n",
      "Epoch 46/100\n",
      "2666/2666 [==============================] - 0s 8us/step - loss: 0.3401 - acc: 0.8706 - val_loss: 0.3265 - val_acc: 0.8786\n",
      "Epoch 47/100\n",
      "2666/2666 [==============================] - 0s 11us/step - loss: 0.3384 - acc: 0.8736 - val_loss: 0.3250 - val_acc: 0.8786\n",
      "Epoch 48/100\n",
      "2666/2666 [==============================] - 0s 8us/step - loss: 0.3367 - acc: 0.8751 - val_loss: 0.3234 - val_acc: 0.8771\n",
      "Epoch 49/100\n",
      "2666/2666 [==============================] - 0s 10us/step - loss: 0.3350 - acc: 0.8755 - val_loss: 0.3219 - val_acc: 0.8756\n",
      "Epoch 50/100\n",
      "2666/2666 [==============================] - 0s 9us/step - loss: 0.3333 - acc: 0.8755 - val_loss: 0.3205 - val_acc: 0.8771\n",
      "Epoch 51/100\n",
      "2666/2666 [==============================] - 0s 10us/step - loss: 0.3315 - acc: 0.8751 - val_loss: 0.3190 - val_acc: 0.8786\n",
      "Epoch 52/100\n",
      "2666/2666 [==============================] - 0s 8us/step - loss: 0.3298 - acc: 0.8758 - val_loss: 0.3175 - val_acc: 0.8801\n",
      "Epoch 53/100\n",
      "2666/2666 [==============================] - 0s 10us/step - loss: 0.3282 - acc: 0.8766 - val_loss: 0.3160 - val_acc: 0.8801\n",
      "Epoch 54/100\n",
      "2666/2666 [==============================] - 0s 8us/step - loss: 0.3265 - acc: 0.8758 - val_loss: 0.3145 - val_acc: 0.8801\n",
      "Epoch 55/100\n",
      "2666/2666 [==============================] - 0s 10us/step - loss: 0.3249 - acc: 0.8770 - val_loss: 0.3132 - val_acc: 0.8786\n",
      "Epoch 56/100\n",
      "2666/2666 [==============================] - 0s 7us/step - loss: 0.3233 - acc: 0.8773 - val_loss: 0.3118 - val_acc: 0.8831\n",
      "Epoch 57/100\n",
      "2666/2666 [==============================] - 0s 8us/step - loss: 0.3217 - acc: 0.8773 - val_loss: 0.3106 - val_acc: 0.8816\n",
      "Epoch 58/100\n",
      "2666/2666 [==============================] - 0s 8us/step - loss: 0.3201 - acc: 0.8792 - val_loss: 0.3093 - val_acc: 0.8861\n",
      "Epoch 59/100\n",
      "2666/2666 [==============================] - 0s 8us/step - loss: 0.3186 - acc: 0.8803 - val_loss: 0.3079 - val_acc: 0.8846\n",
      "Epoch 60/100\n",
      "2666/2666 [==============================] - 0s 9us/step - loss: 0.3170 - acc: 0.8800 - val_loss: 0.3067 - val_acc: 0.8831\n"
     ]
    },
    {
     "name": "stdout",
     "output_type": "stream",
     "text": [
      "Epoch 61/100\n",
      "2666/2666 [==============================] - 0s 9us/step - loss: 0.3156 - acc: 0.8811 - val_loss: 0.3055 - val_acc: 0.8846\n",
      "Epoch 62/100\n",
      "2666/2666 [==============================] - 0s 8us/step - loss: 0.3141 - acc: 0.8826 - val_loss: 0.3041 - val_acc: 0.8846\n",
      "Epoch 63/100\n",
      "2666/2666 [==============================] - 0s 8us/step - loss: 0.3126 - acc: 0.8837 - val_loss: 0.3028 - val_acc: 0.8861\n",
      "Epoch 64/100\n",
      "2666/2666 [==============================] - 0s 8us/step - loss: 0.3111 - acc: 0.8841 - val_loss: 0.3016 - val_acc: 0.8861\n",
      "Epoch 65/100\n",
      "2666/2666 [==============================] - 0s 7us/step - loss: 0.3096 - acc: 0.8848 - val_loss: 0.3004 - val_acc: 0.8846\n",
      "Epoch 66/100\n",
      "2666/2666 [==============================] - 0s 7us/step - loss: 0.3081 - acc: 0.8848 - val_loss: 0.2993 - val_acc: 0.8861\n",
      "Epoch 67/100\n",
      "2666/2666 [==============================] - 0s 8us/step - loss: 0.3066 - acc: 0.8852 - val_loss: 0.2982 - val_acc: 0.8876\n",
      "Epoch 68/100\n",
      "2666/2666 [==============================] - 0s 7us/step - loss: 0.3051 - acc: 0.8867 - val_loss: 0.2973 - val_acc: 0.8906\n",
      "Epoch 69/100\n",
      "2666/2666 [==============================] - 0s 9us/step - loss: 0.3036 - acc: 0.8897 - val_loss: 0.2961 - val_acc: 0.8891\n",
      "Epoch 70/100\n",
      "2666/2666 [==============================] - 0s 8us/step - loss: 0.3022 - acc: 0.8890 - val_loss: 0.2948 - val_acc: 0.8891\n",
      "Epoch 71/100\n",
      "2666/2666 [==============================] - 0s 8us/step - loss: 0.3007 - acc: 0.8897 - val_loss: 0.2937 - val_acc: 0.8906\n",
      "Epoch 72/100\n",
      "2666/2666 [==============================] - 0s 8us/step - loss: 0.2992 - acc: 0.8893 - val_loss: 0.2926 - val_acc: 0.8921\n",
      "Epoch 73/100\n",
      "2666/2666 [==============================] - 0s 8us/step - loss: 0.2978 - acc: 0.8901 - val_loss: 0.2913 - val_acc: 0.8936\n",
      "Epoch 74/100\n",
      "2666/2666 [==============================] - 0s 8us/step - loss: 0.2963 - acc: 0.8908 - val_loss: 0.2901 - val_acc: 0.8966\n",
      "Epoch 75/100\n",
      "2666/2666 [==============================] - 0s 8us/step - loss: 0.2949 - acc: 0.8901 - val_loss: 0.2890 - val_acc: 0.8966\n",
      "Epoch 76/100\n",
      "2666/2666 [==============================] - 0s 7us/step - loss: 0.2934 - acc: 0.8931 - val_loss: 0.2879 - val_acc: 0.8966\n",
      "Epoch 77/100\n",
      "2666/2666 [==============================] - 0s 7us/step - loss: 0.2921 - acc: 0.8923 - val_loss: 0.2869 - val_acc: 0.8966\n",
      "Epoch 78/100\n",
      "2666/2666 [==============================] - 0s 8us/step - loss: 0.2907 - acc: 0.8942 - val_loss: 0.2858 - val_acc: 0.8966\n",
      "Epoch 79/100\n",
      "2666/2666 [==============================] - 0s 7us/step - loss: 0.2893 - acc: 0.8946 - val_loss: 0.2847 - val_acc: 0.8981\n",
      "Epoch 80/100\n",
      "2666/2666 [==============================] - 0s 9us/step - loss: 0.2881 - acc: 0.8950 - val_loss: 0.2837 - val_acc: 0.8996\n",
      "Epoch 81/100\n",
      "2666/2666 [==============================] - 0s 7us/step - loss: 0.2867 - acc: 0.8942 - val_loss: 0.2828 - val_acc: 0.8996\n",
      "Epoch 82/100\n",
      "2666/2666 [==============================] - 0s 9us/step - loss: 0.2854 - acc: 0.8942 - val_loss: 0.2819 - val_acc: 0.8981\n",
      "Epoch 83/100\n",
      "2666/2666 [==============================] - 0s 8us/step - loss: 0.2841 - acc: 0.8950 - val_loss: 0.2809 - val_acc: 0.8981\n",
      "Epoch 84/100\n",
      "2666/2666 [==============================] - 0s 8us/step - loss: 0.2827 - acc: 0.8946 - val_loss: 0.2801 - val_acc: 0.9010\n",
      "Epoch 85/100\n",
      "2666/2666 [==============================] - 0s 8us/step - loss: 0.2814 - acc: 0.8953 - val_loss: 0.2792 - val_acc: 0.8996\n",
      "Epoch 86/100\n",
      "2666/2666 [==============================] - 0s 9us/step - loss: 0.2801 - acc: 0.8983 - val_loss: 0.2781 - val_acc: 0.8996\n",
      "Epoch 87/100\n",
      "2666/2666 [==============================] - 0s 7us/step - loss: 0.2788 - acc: 0.8976 - val_loss: 0.2772 - val_acc: 0.8996\n",
      "Epoch 88/100\n",
      "2666/2666 [==============================] - 0s 8us/step - loss: 0.2775 - acc: 0.8995 - val_loss: 0.2761 - val_acc: 0.9010\n",
      "Epoch 89/100\n",
      "2666/2666 [==============================] - 0s 8us/step - loss: 0.2762 - acc: 0.9002 - val_loss: 0.2750 - val_acc: 0.9040\n",
      "Epoch 90/100\n",
      "2666/2666 [==============================] - 0s 7us/step - loss: 0.2750 - acc: 0.9014 - val_loss: 0.2742 - val_acc: 0.9055\n",
      "Epoch 91/100\n",
      "2666/2666 [==============================] - 0s 8us/step - loss: 0.2737 - acc: 0.9021 - val_loss: 0.2731 - val_acc: 0.9055\n",
      "Epoch 92/100\n",
      "2666/2666 [==============================] - 0s 8us/step - loss: 0.2726 - acc: 0.9032 - val_loss: 0.2720 - val_acc: 0.9055\n",
      "Epoch 93/100\n",
      "2666/2666 [==============================] - 0s 8us/step - loss: 0.2713 - acc: 0.9040 - val_loss: 0.2710 - val_acc: 0.9055\n",
      "Epoch 94/100\n",
      "2666/2666 [==============================] - 0s 8us/step - loss: 0.2701 - acc: 0.9047 - val_loss: 0.2701 - val_acc: 0.9055\n",
      "Epoch 95/100\n",
      "2666/2666 [==============================] - 0s 7us/step - loss: 0.2689 - acc: 0.9036 - val_loss: 0.2693 - val_acc: 0.9070\n",
      "Epoch 96/100\n",
      "2666/2666 [==============================] - 0s 9us/step - loss: 0.2679 - acc: 0.9047 - val_loss: 0.2684 - val_acc: 0.9070\n",
      "Epoch 97/100\n",
      "2666/2666 [==============================] - 0s 7us/step - loss: 0.2666 - acc: 0.9059 - val_loss: 0.2675 - val_acc: 0.9085\n",
      "Epoch 98/100\n",
      "2666/2666 [==============================] - 0s 9us/step - loss: 0.2655 - acc: 0.9070 - val_loss: 0.2667 - val_acc: 0.9100\n",
      "Epoch 99/100\n",
      "2666/2666 [==============================] - 0s 7us/step - loss: 0.2644 - acc: 0.9074 - val_loss: 0.2659 - val_acc: 0.9085\n",
      "Epoch 100/100\n",
      "2666/2666 [==============================] - 0s 8us/step - loss: 0.2633 - acc: 0.9081 - val_loss: 0.2648 - val_acc: 0.9085\n"
     ]
    },
    {
     "data": {
      "text/plain": [
       "<keras.callbacks.History at 0x158cbfd0>"
      ]
     },
     "execution_count": 123,
     "metadata": {},
     "output_type": "execute_result"
    }
   ],
   "source": [
    "model = keras.Sequential()\n",
    "model.add(Dense(n_hidden_1, activation='relu', input_shape=(n_input,)))\n",
    "model.add(Dense(n_hidden_2, activation='relu'))\n",
    "model.add(Dense(n_classes, activation='sigmoid'))\n",
    "\n",
    "model.compile(optimizer = 'sgd', loss = 'binary_crossentropy', metrics = ['accuracy'])\n",
    "model.fit(X_train, y_train, batch_size = batch_size, epochs = training_epochs,validation_data=(X_test, y_test))"
   ]
  },
  {
   "cell_type": "code",
   "execution_count": 127,
   "metadata": {},
   "outputs": [],
   "source": [
    "predicted = (model.predict(X_test) > 0.5).flatten()"
   ]
  },
  {
   "cell_type": "code",
   "execution_count": 129,
   "metadata": {},
   "outputs": [
    {
     "data": {
      "text/plain": [
       "0.9085457271364318"
      ]
     },
     "execution_count": 129,
     "metadata": {},
     "output_type": "execute_result"
    }
   ],
   "source": [
    "from sklearn.metrics import confusion_matrix, accuracy_score\n",
    "accuracy_score(y_test, predicted)"
   ]
  },
  {
   "cell_type": "code",
   "execution_count": 130,
   "metadata": {},
   "outputs": [
    {
     "data": {
      "text/plain": [
       "array([[563,  16],\n",
       "       [ 45,  43]], dtype=int64)"
      ]
     },
     "execution_count": 130,
     "metadata": {},
     "output_type": "execute_result"
    }
   ],
   "source": [
    "confusion_matrix(y_test, predicted)"
   ]
  },
  {
   "cell_type": "code",
   "execution_count": 131,
   "metadata": {},
   "outputs": [],
   "source": [
    "# TP: True Positive\n",
    "# FP: False Positive\n",
    "# FN: False Negative\n",
    "# TN: True Negative\n",
    "#[TP:563,  FP:16],\n",
    "#[FN:45,  TN:43]\n",
    "#https://image.slidesharecdn.com/qmethodsday14-2014-141013122633-conversion-gate02/95/quantitative-methods-for-lawyers-class-14-power-laws-hypothesis-testing-statistical-significance-professor-daniel-martin-katz-22-638.jpg?cb=1448049863"
   ]
  },
  {
   "cell_type": "code",
   "execution_count": null,
   "metadata": {},
   "outputs": [],
   "source": [
    "#-20000 * (16 + 43 )\n",
    "#-2000 * (45 + 43)"
   ]
  },
  {
   "cell_type": "markdown",
   "metadata": {},
   "source": [
    "## 客戶流失數據分析二"
   ]
  },
  {
   "cell_type": "code",
   "execution_count": 132,
   "metadata": {},
   "outputs": [],
   "source": [
    "import pandas\n",
    "dataset = pandas.read_csv('https://raw.githubusercontent.com/ywchiu/tibamedl/master/Data/Churn_Modelling.csv')"
   ]
  },
  {
   "cell_type": "code",
   "execution_count": 135,
   "metadata": {},
   "outputs": [
    {
     "data": {
      "text/html": [
       "<div>\n",
       "<style scoped>\n",
       "    .dataframe tbody tr th:only-of-type {\n",
       "        vertical-align: middle;\n",
       "    }\n",
       "\n",
       "    .dataframe tbody tr th {\n",
       "        vertical-align: top;\n",
       "    }\n",
       "\n",
       "    .dataframe thead th {\n",
       "        text-align: right;\n",
       "    }\n",
       "</style>\n",
       "<table border=\"1\" class=\"dataframe\">\n",
       "  <thead>\n",
       "    <tr style=\"text-align: right;\">\n",
       "      <th></th>\n",
       "      <th>RowNumber</th>\n",
       "      <th>CustomerId</th>\n",
       "      <th>Surname</th>\n",
       "      <th>CreditScore</th>\n",
       "      <th>Geography</th>\n",
       "      <th>Gender</th>\n",
       "      <th>Age</th>\n",
       "      <th>Tenure</th>\n",
       "      <th>Balance</th>\n",
       "      <th>NumOfProducts</th>\n",
       "      <th>HasCrCard</th>\n",
       "      <th>IsActiveMember</th>\n",
       "      <th>EstimatedSalary</th>\n",
       "      <th>Exited</th>\n",
       "    </tr>\n",
       "  </thead>\n",
       "  <tbody>\n",
       "    <tr>\n",
       "      <th>0</th>\n",
       "      <td>1</td>\n",
       "      <td>15634602</td>\n",
       "      <td>Hargrave</td>\n",
       "      <td>619</td>\n",
       "      <td>France</td>\n",
       "      <td>Female</td>\n",
       "      <td>42</td>\n",
       "      <td>2</td>\n",
       "      <td>0.00</td>\n",
       "      <td>1</td>\n",
       "      <td>1</td>\n",
       "      <td>1</td>\n",
       "      <td>101348.88</td>\n",
       "      <td>1</td>\n",
       "    </tr>\n",
       "    <tr>\n",
       "      <th>1</th>\n",
       "      <td>2</td>\n",
       "      <td>15647311</td>\n",
       "      <td>Hill</td>\n",
       "      <td>608</td>\n",
       "      <td>Spain</td>\n",
       "      <td>Female</td>\n",
       "      <td>41</td>\n",
       "      <td>1</td>\n",
       "      <td>83807.86</td>\n",
       "      <td>1</td>\n",
       "      <td>0</td>\n",
       "      <td>1</td>\n",
       "      <td>112542.58</td>\n",
       "      <td>0</td>\n",
       "    </tr>\n",
       "    <tr>\n",
       "      <th>2</th>\n",
       "      <td>3</td>\n",
       "      <td>15619304</td>\n",
       "      <td>Onio</td>\n",
       "      <td>502</td>\n",
       "      <td>France</td>\n",
       "      <td>Female</td>\n",
       "      <td>42</td>\n",
       "      <td>8</td>\n",
       "      <td>159660.80</td>\n",
       "      <td>3</td>\n",
       "      <td>1</td>\n",
       "      <td>0</td>\n",
       "      <td>113931.57</td>\n",
       "      <td>1</td>\n",
       "    </tr>\n",
       "    <tr>\n",
       "      <th>3</th>\n",
       "      <td>4</td>\n",
       "      <td>15701354</td>\n",
       "      <td>Boni</td>\n",
       "      <td>699</td>\n",
       "      <td>France</td>\n",
       "      <td>Female</td>\n",
       "      <td>39</td>\n",
       "      <td>1</td>\n",
       "      <td>0.00</td>\n",
       "      <td>2</td>\n",
       "      <td>0</td>\n",
       "      <td>0</td>\n",
       "      <td>93826.63</td>\n",
       "      <td>0</td>\n",
       "    </tr>\n",
       "    <tr>\n",
       "      <th>4</th>\n",
       "      <td>5</td>\n",
       "      <td>15737888</td>\n",
       "      <td>Mitchell</td>\n",
       "      <td>850</td>\n",
       "      <td>Spain</td>\n",
       "      <td>Female</td>\n",
       "      <td>43</td>\n",
       "      <td>2</td>\n",
       "      <td>125510.82</td>\n",
       "      <td>1</td>\n",
       "      <td>1</td>\n",
       "      <td>1</td>\n",
       "      <td>79084.10</td>\n",
       "      <td>0</td>\n",
       "    </tr>\n",
       "  </tbody>\n",
       "</table>\n",
       "</div>"
      ],
      "text/plain": [
       "   RowNumber  CustomerId   Surname  CreditScore Geography  Gender  Age  \\\n",
       "0          1    15634602  Hargrave          619    France  Female   42   \n",
       "1          2    15647311      Hill          608     Spain  Female   41   \n",
       "2          3    15619304      Onio          502    France  Female   42   \n",
       "3          4    15701354      Boni          699    France  Female   39   \n",
       "4          5    15737888  Mitchell          850     Spain  Female   43   \n",
       "\n",
       "   Tenure    Balance  NumOfProducts  HasCrCard  IsActiveMember  \\\n",
       "0       2       0.00              1          1               1   \n",
       "1       1   83807.86              1          0               1   \n",
       "2       8  159660.80              3          1               0   \n",
       "3       1       0.00              2          0               0   \n",
       "4       2  125510.82              1          1               1   \n",
       "\n",
       "   EstimatedSalary  Exited  \n",
       "0        101348.88       1  \n",
       "1        112542.58       0  \n",
       "2        113931.57       1  \n",
       "3         93826.63       0  \n",
       "4         79084.10       0  "
      ]
     },
     "execution_count": 135,
     "metadata": {},
     "output_type": "execute_result"
    }
   ],
   "source": [
    "dataset.head()"
   ]
  },
  {
   "cell_type": "code",
   "execution_count": 138,
   "metadata": {},
   "outputs": [],
   "source": [
    "X = dataset.iloc[:,3:-1]"
   ]
  },
  {
   "cell_type": "code",
   "execution_count": 140,
   "metadata": {},
   "outputs": [
    {
     "data": {
      "text/html": [
       "<div>\n",
       "<style scoped>\n",
       "    .dataframe tbody tr th:only-of-type {\n",
       "        vertical-align: middle;\n",
       "    }\n",
       "\n",
       "    .dataframe tbody tr th {\n",
       "        vertical-align: top;\n",
       "    }\n",
       "\n",
       "    .dataframe thead th {\n",
       "        text-align: right;\n",
       "    }\n",
       "</style>\n",
       "<table border=\"1\" class=\"dataframe\">\n",
       "  <thead>\n",
       "    <tr style=\"text-align: right;\">\n",
       "      <th></th>\n",
       "      <th>CreditScore</th>\n",
       "      <th>Geography</th>\n",
       "      <th>Gender</th>\n",
       "      <th>Age</th>\n",
       "      <th>Tenure</th>\n",
       "      <th>Balance</th>\n",
       "      <th>NumOfProducts</th>\n",
       "      <th>HasCrCard</th>\n",
       "      <th>IsActiveMember</th>\n",
       "      <th>EstimatedSalary</th>\n",
       "    </tr>\n",
       "  </thead>\n",
       "  <tbody>\n",
       "    <tr>\n",
       "      <th>0</th>\n",
       "      <td>619</td>\n",
       "      <td>France</td>\n",
       "      <td>Female</td>\n",
       "      <td>42</td>\n",
       "      <td>2</td>\n",
       "      <td>0.00</td>\n",
       "      <td>1</td>\n",
       "      <td>1</td>\n",
       "      <td>1</td>\n",
       "      <td>101348.88</td>\n",
       "    </tr>\n",
       "    <tr>\n",
       "      <th>1</th>\n",
       "      <td>608</td>\n",
       "      <td>Spain</td>\n",
       "      <td>Female</td>\n",
       "      <td>41</td>\n",
       "      <td>1</td>\n",
       "      <td>83807.86</td>\n",
       "      <td>1</td>\n",
       "      <td>0</td>\n",
       "      <td>1</td>\n",
       "      <td>112542.58</td>\n",
       "    </tr>\n",
       "    <tr>\n",
       "      <th>2</th>\n",
       "      <td>502</td>\n",
       "      <td>France</td>\n",
       "      <td>Female</td>\n",
       "      <td>42</td>\n",
       "      <td>8</td>\n",
       "      <td>159660.80</td>\n",
       "      <td>3</td>\n",
       "      <td>1</td>\n",
       "      <td>0</td>\n",
       "      <td>113931.57</td>\n",
       "    </tr>\n",
       "    <tr>\n",
       "      <th>3</th>\n",
       "      <td>699</td>\n",
       "      <td>France</td>\n",
       "      <td>Female</td>\n",
       "      <td>39</td>\n",
       "      <td>1</td>\n",
       "      <td>0.00</td>\n",
       "      <td>2</td>\n",
       "      <td>0</td>\n",
       "      <td>0</td>\n",
       "      <td>93826.63</td>\n",
       "    </tr>\n",
       "    <tr>\n",
       "      <th>4</th>\n",
       "      <td>850</td>\n",
       "      <td>Spain</td>\n",
       "      <td>Female</td>\n",
       "      <td>43</td>\n",
       "      <td>2</td>\n",
       "      <td>125510.82</td>\n",
       "      <td>1</td>\n",
       "      <td>1</td>\n",
       "      <td>1</td>\n",
       "      <td>79084.10</td>\n",
       "    </tr>\n",
       "  </tbody>\n",
       "</table>\n",
       "</div>"
      ],
      "text/plain": [
       "   CreditScore Geography  Gender  Age  Tenure    Balance  NumOfProducts  \\\n",
       "0          619    France  Female   42       2       0.00              1   \n",
       "1          608     Spain  Female   41       1   83807.86              1   \n",
       "2          502    France  Female   42       8  159660.80              3   \n",
       "3          699    France  Female   39       1       0.00              2   \n",
       "4          850     Spain  Female   43       2  125510.82              1   \n",
       "\n",
       "   HasCrCard  IsActiveMember  EstimatedSalary  \n",
       "0          1               1        101348.88  \n",
       "1          0               1        112542.58  \n",
       "2          1               0        113931.57  \n",
       "3          0               0         93826.63  \n",
       "4          1               1         79084.10  "
      ]
     },
     "execution_count": 140,
     "metadata": {},
     "output_type": "execute_result"
    }
   ],
   "source": [
    "X.head()"
   ]
  },
  {
   "cell_type": "code",
   "execution_count": 141,
   "metadata": {},
   "outputs": [],
   "source": [
    "y = dataset['Exited']"
   ]
  },
  {
   "cell_type": "code",
   "execution_count": 142,
   "metadata": {},
   "outputs": [
    {
     "data": {
      "text/plain": [
       "0    1\n",
       "1    0\n",
       "2    1\n",
       "3    0\n",
       "4    0\n",
       "Name: Exited, dtype: int64"
      ]
     },
     "execution_count": 142,
     "metadata": {},
     "output_type": "execute_result"
    }
   ],
   "source": [
    "y.head()"
   ]
  },
  {
   "cell_type": "code",
   "execution_count": 145,
   "metadata": {},
   "outputs": [
    {
     "name": "stdout",
     "output_type": "stream",
     "text": [
      "<class 'pandas.core.frame.DataFrame'>\n",
      "RangeIndex: 10000 entries, 0 to 9999\n",
      "Data columns (total 10 columns):\n",
      "CreditScore        10000 non-null int64\n",
      "Geography          10000 non-null object\n",
      "Gender             10000 non-null object\n",
      "Age                10000 non-null int64\n",
      "Tenure             10000 non-null int64\n",
      "Balance            10000 non-null float64\n",
      "NumOfProducts      10000 non-null int64\n",
      "HasCrCard          10000 non-null int64\n",
      "IsActiveMember     10000 non-null int64\n",
      "EstimatedSalary    10000 non-null float64\n",
      "dtypes: float64(2), int64(6), object(2)\n",
      "memory usage: 781.3+ KB\n"
     ]
    }
   ],
   "source": [
    "X.info()"
   ]
  },
  {
   "cell_type": "code",
   "execution_count": 147,
   "metadata": {},
   "outputs": [
    {
     "data": {
      "text/plain": [
       "array(['France', 'Spain', 'Germany'], dtype=object)"
      ]
     },
     "execution_count": 147,
     "metadata": {},
     "output_type": "execute_result"
    }
   ],
   "source": [
    "X['Geography'].unique()"
   ]
  },
  {
   "cell_type": "code",
   "execution_count": 149,
   "metadata": {},
   "outputs": [],
   "source": [
    "geo = pd.get_dummies(X['Geography'])"
   ]
  },
  {
   "cell_type": "code",
   "execution_count": 152,
   "metadata": {},
   "outputs": [],
   "source": [
    "X = pd.concat([X,geo], axis = 1)\n",
    "del X['Spain']\n",
    "del X['Geography']"
   ]
  },
  {
   "cell_type": "code",
   "execution_count": 154,
   "metadata": {},
   "outputs": [
    {
     "name": "stdout",
     "output_type": "stream",
     "text": [
      "<class 'pandas.core.frame.DataFrame'>\n",
      "RangeIndex: 10000 entries, 0 to 9999\n",
      "Data columns (total 11 columns):\n",
      "CreditScore        10000 non-null int64\n",
      "Gender             10000 non-null object\n",
      "Age                10000 non-null int64\n",
      "Tenure             10000 non-null int64\n",
      "Balance            10000 non-null float64\n",
      "NumOfProducts      10000 non-null int64\n",
      "HasCrCard          10000 non-null int64\n",
      "IsActiveMember     10000 non-null int64\n",
      "EstimatedSalary    10000 non-null float64\n",
      "France             10000 non-null uint8\n",
      "Germany            10000 non-null uint8\n",
      "dtypes: float64(2), int64(6), object(1), uint8(2)\n",
      "memory usage: 722.7+ KB\n"
     ]
    }
   ],
   "source": [
    "X.info()"
   ]
  },
  {
   "cell_type": "code",
   "execution_count": 153,
   "metadata": {},
   "outputs": [
    {
     "data": {
      "text/plain": [
       "array(['Female', 'Male'], dtype=object)"
      ]
     },
     "execution_count": 153,
     "metadata": {},
     "output_type": "execute_result"
    }
   ],
   "source": [
    "X['Gender'].unique()"
   ]
  },
  {
   "cell_type": "code",
   "execution_count": 155,
   "metadata": {},
   "outputs": [],
   "source": [
    "X['Gender'] = X['Gender'].map(lambda e: 1 if e =='Male' else 0 )"
   ]
  },
  {
   "cell_type": "code",
   "execution_count": 156,
   "metadata": {},
   "outputs": [
    {
     "data": {
      "text/html": [
       "<div>\n",
       "<style scoped>\n",
       "    .dataframe tbody tr th:only-of-type {\n",
       "        vertical-align: middle;\n",
       "    }\n",
       "\n",
       "    .dataframe tbody tr th {\n",
       "        vertical-align: top;\n",
       "    }\n",
       "\n",
       "    .dataframe thead th {\n",
       "        text-align: right;\n",
       "    }\n",
       "</style>\n",
       "<table border=\"1\" class=\"dataframe\">\n",
       "  <thead>\n",
       "    <tr style=\"text-align: right;\">\n",
       "      <th></th>\n",
       "      <th>CreditScore</th>\n",
       "      <th>Gender</th>\n",
       "      <th>Age</th>\n",
       "      <th>Tenure</th>\n",
       "      <th>Balance</th>\n",
       "      <th>NumOfProducts</th>\n",
       "      <th>HasCrCard</th>\n",
       "      <th>IsActiveMember</th>\n",
       "      <th>EstimatedSalary</th>\n",
       "      <th>France</th>\n",
       "      <th>Germany</th>\n",
       "    </tr>\n",
       "  </thead>\n",
       "  <tbody>\n",
       "    <tr>\n",
       "      <th>0</th>\n",
       "      <td>619</td>\n",
       "      <td>0</td>\n",
       "      <td>42</td>\n",
       "      <td>2</td>\n",
       "      <td>0.00</td>\n",
       "      <td>1</td>\n",
       "      <td>1</td>\n",
       "      <td>1</td>\n",
       "      <td>101348.88</td>\n",
       "      <td>1</td>\n",
       "      <td>0</td>\n",
       "    </tr>\n",
       "    <tr>\n",
       "      <th>1</th>\n",
       "      <td>608</td>\n",
       "      <td>0</td>\n",
       "      <td>41</td>\n",
       "      <td>1</td>\n",
       "      <td>83807.86</td>\n",
       "      <td>1</td>\n",
       "      <td>0</td>\n",
       "      <td>1</td>\n",
       "      <td>112542.58</td>\n",
       "      <td>0</td>\n",
       "      <td>0</td>\n",
       "    </tr>\n",
       "    <tr>\n",
       "      <th>2</th>\n",
       "      <td>502</td>\n",
       "      <td>0</td>\n",
       "      <td>42</td>\n",
       "      <td>8</td>\n",
       "      <td>159660.80</td>\n",
       "      <td>3</td>\n",
       "      <td>1</td>\n",
       "      <td>0</td>\n",
       "      <td>113931.57</td>\n",
       "      <td>1</td>\n",
       "      <td>0</td>\n",
       "    </tr>\n",
       "    <tr>\n",
       "      <th>3</th>\n",
       "      <td>699</td>\n",
       "      <td>0</td>\n",
       "      <td>39</td>\n",
       "      <td>1</td>\n",
       "      <td>0.00</td>\n",
       "      <td>2</td>\n",
       "      <td>0</td>\n",
       "      <td>0</td>\n",
       "      <td>93826.63</td>\n",
       "      <td>1</td>\n",
       "      <td>0</td>\n",
       "    </tr>\n",
       "    <tr>\n",
       "      <th>4</th>\n",
       "      <td>850</td>\n",
       "      <td>0</td>\n",
       "      <td>43</td>\n",
       "      <td>2</td>\n",
       "      <td>125510.82</td>\n",
       "      <td>1</td>\n",
       "      <td>1</td>\n",
       "      <td>1</td>\n",
       "      <td>79084.10</td>\n",
       "      <td>0</td>\n",
       "      <td>0</td>\n",
       "    </tr>\n",
       "  </tbody>\n",
       "</table>\n",
       "</div>"
      ],
      "text/plain": [
       "   CreditScore  Gender  Age  Tenure    Balance  NumOfProducts  HasCrCard  \\\n",
       "0          619       0   42       2       0.00              1          1   \n",
       "1          608       0   41       1   83807.86              1          0   \n",
       "2          502       0   42       8  159660.80              3          1   \n",
       "3          699       0   39       1       0.00              2          0   \n",
       "4          850       0   43       2  125510.82              1          1   \n",
       "\n",
       "   IsActiveMember  EstimatedSalary  France  Germany  \n",
       "0               1        101348.88       1        0  \n",
       "1               1        112542.58       0        0  \n",
       "2               0        113931.57       1        0  \n",
       "3               0         93826.63       1        0  \n",
       "4               1         79084.10       0        0  "
      ]
     },
     "execution_count": 156,
     "metadata": {},
     "output_type": "execute_result"
    }
   ],
   "source": [
    "X.head()"
   ]
  },
  {
   "cell_type": "markdown",
   "metadata": {},
   "source": [
    "### 將資料區分為訓練與測試資料集 "
   ]
  },
  {
   "cell_type": "code",
   "execution_count": 160,
   "metadata": {},
   "outputs": [],
   "source": [
    "from sklearn.model_selection import train_test_split\n",
    "X_train, X_test, y_train, y_test = train_test_split(X,y, test_size = 0.2, random_state = 42)"
   ]
  },
  {
   "cell_type": "code",
   "execution_count": 161,
   "metadata": {},
   "outputs": [
    {
     "data": {
      "text/plain": [
       "(8000, 11)"
      ]
     },
     "execution_count": 161,
     "metadata": {},
     "output_type": "execute_result"
    }
   ],
   "source": [
    "X_train.shape"
   ]
  },
  {
   "cell_type": "code",
   "execution_count": 162,
   "metadata": {},
   "outputs": [
    {
     "data": {
      "text/plain": [
       "(2000, 11)"
      ]
     },
     "execution_count": 162,
     "metadata": {},
     "output_type": "execute_result"
    }
   ],
   "source": [
    "X_test.shape"
   ]
  },
  {
   "cell_type": "markdown",
   "metadata": {},
   "source": [
    "### 將資料標準化"
   ]
  },
  {
   "cell_type": "code",
   "execution_count": 163,
   "metadata": {},
   "outputs": [],
   "source": [
    "from sklearn.preprocessing import StandardScaler\n",
    "sc = StandardScaler()\n",
    "X_train = sc.fit_transform(X_train)"
   ]
  },
  {
   "cell_type": "code",
   "execution_count": 164,
   "metadata": {},
   "outputs": [],
   "source": [
    "X_test = sc.transform(X_test)"
   ]
  },
  {
   "cell_type": "markdown",
   "metadata": {},
   "source": [
    "### 設定網路參數"
   ]
  },
  {
   "cell_type": "code",
   "execution_count": 167,
   "metadata": {},
   "outputs": [],
   "source": [
    "n_hidden_1 = 6 \n",
    "n_hidden_2 = 6 \n",
    "n_input    = 11\n",
    "n_classes  = 1 \n",
    "\n",
    "training_epochs = 100\n",
    "batch_size = 100"
   ]
  },
  {
   "cell_type": "markdown",
   "metadata": {},
   "source": [
    "### 建構神經網路"
   ]
  },
  {
   "cell_type": "code",
   "execution_count": 168,
   "metadata": {
    "collapsed": true
   },
   "outputs": [
    {
     "name": "stdout",
     "output_type": "stream",
     "text": [
      "Train on 8000 samples, validate on 2000 samples\n",
      "Epoch 1/100\n",
      "8000/8000 [==============================] - 0s 34us/step - loss: 0.7124 - acc: 0.5808 - val_loss: 0.6428 - val_acc: 0.7120\n",
      "Epoch 2/100\n",
      "8000/8000 [==============================] - 0s 7us/step - loss: 0.6055 - acc: 0.7586 - val_loss: 0.5759 - val_acc: 0.7875\n",
      "Epoch 3/100\n",
      "8000/8000 [==============================] - 0s 7us/step - loss: 0.5606 - acc: 0.7882 - val_loss: 0.5426 - val_acc: 0.8055\n",
      "Epoch 4/100\n",
      "8000/8000 [==============================] - 0s 7us/step - loss: 0.5372 - acc: 0.7939 - val_loss: 0.5237 - val_acc: 0.8055\n",
      "Epoch 5/100\n",
      "8000/8000 [==============================] - 0s 7us/step - loss: 0.5235 - acc: 0.7946 - val_loss: 0.5117 - val_acc: 0.8045\n",
      "Epoch 6/100\n",
      "8000/8000 [==============================] - 0s 7us/step - loss: 0.5144 - acc: 0.7949 - val_loss: 0.5032 - val_acc: 0.8035\n",
      "Epoch 7/100\n",
      "8000/8000 [==============================] - 0s 7us/step - loss: 0.5078 - acc: 0.7947 - val_loss: 0.4967 - val_acc: 0.8035\n",
      "Epoch 8/100\n",
      "8000/8000 [==============================] - 0s 7us/step - loss: 0.5027 - acc: 0.7947 - val_loss: 0.4915 - val_acc: 0.8035\n",
      "Epoch 9/100\n",
      "8000/8000 [==============================] - 0s 7us/step - loss: 0.4984 - acc: 0.7947 - val_loss: 0.4870 - val_acc: 0.8035\n",
      "Epoch 10/100\n",
      "8000/8000 [==============================] - 0s 7us/step - loss: 0.4946 - acc: 0.7947 - val_loss: 0.4830 - val_acc: 0.8035\n",
      "Epoch 11/100\n",
      "8000/8000 [==============================] - 0s 7us/step - loss: 0.4912 - acc: 0.7947 - val_loss: 0.4794 - val_acc: 0.8035\n",
      "Epoch 12/100\n",
      "8000/8000 [==============================] - 0s 8us/step - loss: 0.4881 - acc: 0.7946 - val_loss: 0.4760 - val_acc: 0.8040\n",
      "Epoch 13/100\n",
      "8000/8000 [==============================] - 0s 7us/step - loss: 0.4852 - acc: 0.7946 - val_loss: 0.4728 - val_acc: 0.8045\n",
      "Epoch 14/100\n",
      "8000/8000 [==============================] - 0s 7us/step - loss: 0.4823 - acc: 0.7950 - val_loss: 0.4698 - val_acc: 0.8045\n",
      "Epoch 15/100\n",
      "8000/8000 [==============================] - 0s 7us/step - loss: 0.4795 - acc: 0.7953 - val_loss: 0.4669 - val_acc: 0.8045\n",
      "Epoch 16/100\n",
      "8000/8000 [==============================] - 0s 7us/step - loss: 0.4769 - acc: 0.7956 - val_loss: 0.4640 - val_acc: 0.8045\n",
      "Epoch 17/100\n",
      "8000/8000 [==============================] - 0s 7us/step - loss: 0.4742 - acc: 0.7961 - val_loss: 0.4611 - val_acc: 0.8055\n",
      "Epoch 18/100\n",
      "8000/8000 [==============================] - 0s 7us/step - loss: 0.4715 - acc: 0.7965 - val_loss: 0.4584 - val_acc: 0.8050\n",
      "Epoch 19/100\n",
      "8000/8000 [==============================] - 0s 7us/step - loss: 0.4688 - acc: 0.7975 - val_loss: 0.4556 - val_acc: 0.8065\n",
      "Epoch 20/100\n",
      "8000/8000 [==============================] - 0s 7us/step - loss: 0.4661 - acc: 0.7985 - val_loss: 0.4529 - val_acc: 0.8070\n",
      "Epoch 21/100\n",
      "8000/8000 [==============================] - 0s 8us/step - loss: 0.4633 - acc: 0.7989 - val_loss: 0.4502 - val_acc: 0.8060\n",
      "Epoch 22/100\n",
      "8000/8000 [==============================] - 0s 7us/step - loss: 0.4606 - acc: 0.8000 - val_loss: 0.4475 - val_acc: 0.8055\n",
      "Epoch 23/100\n",
      "8000/8000 [==============================] - 0s 8us/step - loss: 0.4578 - acc: 0.8002 - val_loss: 0.4448 - val_acc: 0.8040\n",
      "Epoch 24/100\n",
      "8000/8000 [==============================] - 0s 7us/step - loss: 0.4550 - acc: 0.8009 - val_loss: 0.4421 - val_acc: 0.8080\n",
      "Epoch 25/100\n",
      "8000/8000 [==============================] - 0s 7us/step - loss: 0.4522 - acc: 0.8029 - val_loss: 0.4394 - val_acc: 0.8090\n",
      "Epoch 26/100\n",
      "8000/8000 [==============================] - 0s 7us/step - loss: 0.4494 - acc: 0.8025 - val_loss: 0.4368 - val_acc: 0.8110\n",
      "Epoch 27/100\n",
      "8000/8000 [==============================] - 0s 8us/step - loss: 0.4467 - acc: 0.8039 - val_loss: 0.4342 - val_acc: 0.8130\n",
      "Epoch 28/100\n",
      "8000/8000 [==============================] - 0s 8us/step - loss: 0.4440 - acc: 0.8047 - val_loss: 0.4318 - val_acc: 0.8135\n",
      "Epoch 29/100\n",
      "8000/8000 [==============================] - 0s 7us/step - loss: 0.4414 - acc: 0.8060 - val_loss: 0.4294 - val_acc: 0.8140\n",
      "Epoch 30/100\n",
      "8000/8000 [==============================] - 0s 8us/step - loss: 0.4389 - acc: 0.8071 - val_loss: 0.4271 - val_acc: 0.8150\n",
      "Epoch 31/100\n",
      "8000/8000 [==============================] - 0s 7us/step - loss: 0.4364 - acc: 0.8077 - val_loss: 0.4249 - val_acc: 0.8160\n",
      "Epoch 32/100\n",
      "8000/8000 [==============================] - 0s 7us/step - loss: 0.4341 - acc: 0.8081 - val_loss: 0.4227 - val_acc: 0.8165\n",
      "Epoch 33/100\n",
      "8000/8000 [==============================] - 0s 7us/step - loss: 0.4318 - acc: 0.8100 - val_loss: 0.4206 - val_acc: 0.8170\n",
      "Epoch 34/100\n",
      "8000/8000 [==============================] - 0s 7us/step - loss: 0.4296 - acc: 0.8102 - val_loss: 0.4186 - val_acc: 0.8175\n",
      "Epoch 35/100\n",
      "8000/8000 [==============================] - 0s 7us/step - loss: 0.4274 - acc: 0.8119 - val_loss: 0.4167 - val_acc: 0.8200\n",
      "Epoch 36/100\n",
      "8000/8000 [==============================] - 0s 7us/step - loss: 0.4253 - acc: 0.8121 - val_loss: 0.4149 - val_acc: 0.8215\n",
      "Epoch 37/100\n",
      "8000/8000 [==============================] - 0s 7us/step - loss: 0.4232 - acc: 0.8145 - val_loss: 0.4130 - val_acc: 0.8215\n",
      "Epoch 38/100\n",
      "8000/8000 [==============================] - 0s 8us/step - loss: 0.4212 - acc: 0.8154 - val_loss: 0.4111 - val_acc: 0.8225\n",
      "Epoch 39/100\n",
      "8000/8000 [==============================] - 0s 8us/step - loss: 0.4191 - acc: 0.8156 - val_loss: 0.4093 - val_acc: 0.8245\n",
      "Epoch 40/100\n",
      "8000/8000 [==============================] - 0s 8us/step - loss: 0.4171 - acc: 0.8165 - val_loss: 0.4074 - val_acc: 0.8255\n",
      "Epoch 41/100\n",
      "8000/8000 [==============================] - 0s 8us/step - loss: 0.4152 - acc: 0.8175 - val_loss: 0.4055 - val_acc: 0.8265\n",
      "Epoch 42/100\n",
      "8000/8000 [==============================] - 0s 8us/step - loss: 0.4132 - acc: 0.8193 - val_loss: 0.4037 - val_acc: 0.8265\n",
      "Epoch 43/100\n",
      "8000/8000 [==============================] - 0s 8us/step - loss: 0.4113 - acc: 0.8211 - val_loss: 0.4021 - val_acc: 0.8270\n",
      "Epoch 44/100\n",
      "8000/8000 [==============================] - 0s 8us/step - loss: 0.4094 - acc: 0.8215 - val_loss: 0.4005 - val_acc: 0.8270\n",
      "Epoch 45/100\n",
      "8000/8000 [==============================] - 0s 8us/step - loss: 0.4076 - acc: 0.8223 - val_loss: 0.3988 - val_acc: 0.8270\n",
      "Epoch 46/100\n",
      "8000/8000 [==============================] - 0s 8us/step - loss: 0.4058 - acc: 0.8237 - val_loss: 0.3971 - val_acc: 0.8285\n",
      "Epoch 47/100\n",
      "8000/8000 [==============================] - 0s 8us/step - loss: 0.4040 - acc: 0.8250 - val_loss: 0.3955 - val_acc: 0.8270\n",
      "Epoch 48/100\n",
      "8000/8000 [==============================] - 0s 8us/step - loss: 0.4022 - acc: 0.8256 - val_loss: 0.3940 - val_acc: 0.8280\n",
      "Epoch 49/100\n",
      "8000/8000 [==============================] - 0s 8us/step - loss: 0.4005 - acc: 0.8272 - val_loss: 0.3923 - val_acc: 0.8300\n",
      "Epoch 50/100\n",
      "8000/8000 [==============================] - 0s 7us/step - loss: 0.3987 - acc: 0.8283 - val_loss: 0.3908 - val_acc: 0.8305\n",
      "Epoch 51/100\n",
      "8000/8000 [==============================] - 0s 8us/step - loss: 0.3971 - acc: 0.8294 - val_loss: 0.3894 - val_acc: 0.8315\n",
      "Epoch 52/100\n",
      "8000/8000 [==============================] - 0s 8us/step - loss: 0.3954 - acc: 0.8294 - val_loss: 0.3880 - val_acc: 0.8330\n",
      "Epoch 53/100\n",
      "8000/8000 [==============================] - 0s 8us/step - loss: 0.3937 - acc: 0.8313 - val_loss: 0.3866 - val_acc: 0.8325\n",
      "Epoch 54/100\n",
      "8000/8000 [==============================] - 0s 8us/step - loss: 0.3921 - acc: 0.8319 - val_loss: 0.3852 - val_acc: 0.8330\n",
      "Epoch 55/100\n",
      "8000/8000 [==============================] - 0s 7us/step - loss: 0.3905 - acc: 0.8319 - val_loss: 0.3838 - val_acc: 0.8345\n",
      "Epoch 56/100\n",
      "8000/8000 [==============================] - 0s 8us/step - loss: 0.3890 - acc: 0.8332 - val_loss: 0.3825 - val_acc: 0.8355\n",
      "Epoch 57/100\n",
      "8000/8000 [==============================] - 0s 7us/step - loss: 0.3874 - acc: 0.8342 - val_loss: 0.3812 - val_acc: 0.8365\n",
      "Epoch 58/100\n",
      "8000/8000 [==============================] - 0s 7us/step - loss: 0.3860 - acc: 0.8349 - val_loss: 0.3799 - val_acc: 0.8375\n",
      "Epoch 59/100\n",
      "8000/8000 [==============================] - 0s 8us/step - loss: 0.3846 - acc: 0.8364 - val_loss: 0.3788 - val_acc: 0.8390\n",
      "Epoch 60/100\n",
      "8000/8000 [==============================] - 0s 8us/step - loss: 0.3833 - acc: 0.8350 - val_loss: 0.3776 - val_acc: 0.8390\n"
     ]
    },
    {
     "name": "stdout",
     "output_type": "stream",
     "text": [
      "Epoch 61/100\n",
      "8000/8000 [==============================] - 0s 8us/step - loss: 0.3820 - acc: 0.8354 - val_loss: 0.3764 - val_acc: 0.8385\n",
      "Epoch 62/100\n",
      "8000/8000 [==============================] - 0s 8us/step - loss: 0.3807 - acc: 0.8366 - val_loss: 0.3755 - val_acc: 0.8395\n",
      "Epoch 63/100\n",
      "8000/8000 [==============================] - 0s 8us/step - loss: 0.3796 - acc: 0.8380 - val_loss: 0.3744 - val_acc: 0.8395\n",
      "Epoch 64/100\n",
      "8000/8000 [==============================] - 0s 9us/step - loss: 0.3785 - acc: 0.8374 - val_loss: 0.3735 - val_acc: 0.8395\n",
      "Epoch 65/100\n",
      "8000/8000 [==============================] - 0s 8us/step - loss: 0.3774 - acc: 0.8376 - val_loss: 0.3726 - val_acc: 0.8410\n",
      "Epoch 66/100\n",
      "8000/8000 [==============================] - 0s 8us/step - loss: 0.3764 - acc: 0.8377 - val_loss: 0.3716 - val_acc: 0.8410\n",
      "Epoch 67/100\n",
      "8000/8000 [==============================] - 0s 7us/step - loss: 0.3755 - acc: 0.8391 - val_loss: 0.3710 - val_acc: 0.8430\n",
      "Epoch 68/100\n",
      "8000/8000 [==============================] - 0s 7us/step - loss: 0.3746 - acc: 0.8394 - val_loss: 0.3701 - val_acc: 0.8430\n",
      "Epoch 69/100\n",
      "8000/8000 [==============================] - 0s 7us/step - loss: 0.3738 - acc: 0.8401 - val_loss: 0.3696 - val_acc: 0.8445\n",
      "Epoch 70/100\n",
      "8000/8000 [==============================] - 0s 7us/step - loss: 0.3730 - acc: 0.8405 - val_loss: 0.3689 - val_acc: 0.8440\n",
      "Epoch 71/100\n",
      "8000/8000 [==============================] - 0s 7us/step - loss: 0.3722 - acc: 0.8414 - val_loss: 0.3681 - val_acc: 0.8425\n",
      "Epoch 72/100\n",
      "8000/8000 [==============================] - 0s 7us/step - loss: 0.3714 - acc: 0.8414 - val_loss: 0.3676 - val_acc: 0.8415\n",
      "Epoch 73/100\n",
      "8000/8000 [==============================] - 0s 7us/step - loss: 0.3708 - acc: 0.8432 - val_loss: 0.3671 - val_acc: 0.8420\n",
      "Epoch 74/100\n",
      "8000/8000 [==============================] - 0s 7us/step - loss: 0.3701 - acc: 0.8422 - val_loss: 0.3667 - val_acc: 0.8430\n",
      "Epoch 75/100\n",
      "8000/8000 [==============================] - 0s 7us/step - loss: 0.3694 - acc: 0.8438 - val_loss: 0.3659 - val_acc: 0.8425\n",
      "Epoch 76/100\n",
      "8000/8000 [==============================] - 0s 7us/step - loss: 0.3689 - acc: 0.8441 - val_loss: 0.3655 - val_acc: 0.8430\n",
      "Epoch 77/100\n",
      "8000/8000 [==============================] - 0s 7us/step - loss: 0.3683 - acc: 0.8447 - val_loss: 0.3652 - val_acc: 0.8420\n",
      "Epoch 78/100\n",
      "8000/8000 [==============================] - 0s 7us/step - loss: 0.3678 - acc: 0.8450 - val_loss: 0.3648 - val_acc: 0.8430\n",
      "Epoch 79/100\n",
      "8000/8000 [==============================] - 0s 7us/step - loss: 0.3674 - acc: 0.8446 - val_loss: 0.3645 - val_acc: 0.8445\n",
      "Epoch 80/100\n",
      "8000/8000 [==============================] - 0s 7us/step - loss: 0.3669 - acc: 0.8454 - val_loss: 0.3642 - val_acc: 0.8455\n",
      "Epoch 81/100\n",
      "8000/8000 [==============================] - 0s 7us/step - loss: 0.3665 - acc: 0.8454 - val_loss: 0.3638 - val_acc: 0.8455\n",
      "Epoch 82/100\n",
      "8000/8000 [==============================] - 0s 7us/step - loss: 0.3661 - acc: 0.8459 - val_loss: 0.3638 - val_acc: 0.8435\n",
      "Epoch 83/100\n",
      "8000/8000 [==============================] - 0s 7us/step - loss: 0.3657 - acc: 0.8449 - val_loss: 0.3634 - val_acc: 0.8445\n",
      "Epoch 84/100\n",
      "8000/8000 [==============================] - 0s 7us/step - loss: 0.3654 - acc: 0.8451 - val_loss: 0.3631 - val_acc: 0.8445\n",
      "Epoch 85/100\n",
      "8000/8000 [==============================] - 0s 7us/step - loss: 0.3651 - acc: 0.8457 - val_loss: 0.3630 - val_acc: 0.8450\n",
      "Epoch 86/100\n",
      "8000/8000 [==============================] - 0s 7us/step - loss: 0.3647 - acc: 0.8454 - val_loss: 0.3627 - val_acc: 0.8450\n",
      "Epoch 87/100\n",
      "8000/8000 [==============================] - 0s 7us/step - loss: 0.3644 - acc: 0.8455 - val_loss: 0.3625 - val_acc: 0.8450\n",
      "Epoch 88/100\n",
      "8000/8000 [==============================] - 0s 7us/step - loss: 0.3642 - acc: 0.8459 - val_loss: 0.3624 - val_acc: 0.8435\n",
      "Epoch 89/100\n",
      "8000/8000 [==============================] - 0s 7us/step - loss: 0.3639 - acc: 0.8450 - val_loss: 0.3622 - val_acc: 0.8455\n",
      "Epoch 90/100\n",
      "8000/8000 [==============================] - 0s 7us/step - loss: 0.3636 - acc: 0.8451 - val_loss: 0.3621 - val_acc: 0.8445\n",
      "Epoch 91/100\n",
      "8000/8000 [==============================] - 0s 7us/step - loss: 0.3634 - acc: 0.8450 - val_loss: 0.3621 - val_acc: 0.8435\n",
      "Epoch 92/100\n",
      "8000/8000 [==============================] - 0s 7us/step - loss: 0.3632 - acc: 0.8451 - val_loss: 0.3619 - val_acc: 0.8445\n",
      "Epoch 93/100\n",
      "8000/8000 [==============================] - 0s 7us/step - loss: 0.3630 - acc: 0.8445 - val_loss: 0.3617 - val_acc: 0.8445\n",
      "Epoch 94/100\n",
      "8000/8000 [==============================] - 0s 7us/step - loss: 0.3627 - acc: 0.8461 - val_loss: 0.3619 - val_acc: 0.8460\n",
      "Epoch 95/100\n",
      "8000/8000 [==============================] - 0s 7us/step - loss: 0.3626 - acc: 0.8439 - val_loss: 0.3616 - val_acc: 0.8460\n",
      "Epoch 96/100\n",
      "8000/8000 [==============================] - 0s 7us/step - loss: 0.3624 - acc: 0.8447 - val_loss: 0.3614 - val_acc: 0.8460\n",
      "Epoch 97/100\n",
      "8000/8000 [==============================] - 0s 8us/step - loss: 0.3622 - acc: 0.8445 - val_loss: 0.3613 - val_acc: 0.8465\n",
      "Epoch 98/100\n",
      "8000/8000 [==============================] - 0s 7us/step - loss: 0.3620 - acc: 0.8445 - val_loss: 0.3612 - val_acc: 0.8475\n",
      "Epoch 99/100\n",
      "8000/8000 [==============================] - 0s 7us/step - loss: 0.3619 - acc: 0.8451 - val_loss: 0.3612 - val_acc: 0.8475\n",
      "Epoch 100/100\n",
      "8000/8000 [==============================] - 0s 8us/step - loss: 0.3618 - acc: 0.8445 - val_loss: 0.3611 - val_acc: 0.8470\n"
     ]
    },
    {
     "data": {
      "text/plain": [
       "<keras.callbacks.History at 0x15fee128>"
      ]
     },
     "execution_count": 168,
     "metadata": {},
     "output_type": "execute_result"
    }
   ],
   "source": [
    "model = keras.Sequential()\n",
    "model.add(Dense(n_hidden_1, activation='relu', input_shape = (n_input,)))\n",
    "model.add(Dense(n_hidden_2, activation='relu'))\n",
    "model.add(Dense(n_classes, activation='sigmoid'))\n",
    "model.compile(optimizer = 'sgd', loss = 'binary_crossentropy', metrics = ['accuracy'])\n",
    "model.fit(X_train, y_train, batch_size = batch_size, epochs = training_epochs,validation_data=(X_test, y_test))"
   ]
  },
  {
   "cell_type": "code",
   "execution_count": 173,
   "metadata": {},
   "outputs": [],
   "source": [
    "predicted = (model.predict(X_test) > 0.5).flatten().astype(int)"
   ]
  },
  {
   "cell_type": "code",
   "execution_count": 176,
   "metadata": {},
   "outputs": [
    {
     "data": {
      "text/plain": [
       "0.847"
      ]
     },
     "execution_count": 176,
     "metadata": {},
     "output_type": "execute_result"
    }
   ],
   "source": [
    "from sklearn.metrics import accuracy_score\n",
    "accuracy_score(y_test, predicted)"
   ]
  },
  {
   "cell_type": "code",
   "execution_count": 177,
   "metadata": {},
   "outputs": [
    {
     "data": {
      "text/plain": [
       "array([[1527,   80],\n",
       "       [ 226,  167]], dtype=int64)"
      ]
     },
     "execution_count": 177,
     "metadata": {},
     "output_type": "execute_result"
    }
   ],
   "source": [
    "from sklearn.metrics import confusion_matrix\n",
    "confusion_matrix(y_test, predicted)"
   ]
  },
  {
   "cell_type": "markdown",
   "metadata": {},
   "source": [
    "### 更改優化器"
   ]
  },
  {
   "cell_type": "code",
   "execution_count": 178,
   "metadata": {
    "collapsed": true
   },
   "outputs": [
    {
     "name": "stdout",
     "output_type": "stream",
     "text": [
      "Train on 8000 samples, validate on 2000 samples\n",
      "Epoch 1/100\n",
      "8000/8000 [==============================] - 0s 45us/step - loss: 0.5562 - acc: 0.7944 - val_loss: 0.5143 - val_acc: 0.8035\n",
      "Epoch 2/100\n",
      "8000/8000 [==============================] - 0s 8us/step - loss: 0.5028 - acc: 0.7945 - val_loss: 0.4759 - val_acc: 0.8035\n",
      "Epoch 3/100\n",
      "8000/8000 [==============================] - 0s 8us/step - loss: 0.4779 - acc: 0.7945 - val_loss: 0.4558 - val_acc: 0.8035\n",
      "Epoch 4/100\n",
      "8000/8000 [==============================] - 0s 8us/step - loss: 0.4632 - acc: 0.7945 - val_loss: 0.4438 - val_acc: 0.8035\n",
      "Epoch 5/100\n",
      "8000/8000 [==============================] - 0s 8us/step - loss: 0.4532 - acc: 0.7945 - val_loss: 0.4360 - val_acc: 0.8035\n",
      "Epoch 6/100\n",
      "8000/8000 [==============================] - 0s 8us/step - loss: 0.4462 - acc: 0.7945 - val_loss: 0.4298 - val_acc: 0.8035\n",
      "Epoch 7/100\n",
      "8000/8000 [==============================] - 0s 8us/step - loss: 0.4407 - acc: 0.7945 - val_loss: 0.4253 - val_acc: 0.8035\n",
      "Epoch 8/100\n",
      "8000/8000 [==============================] - 0s 8us/step - loss: 0.4362 - acc: 0.7945 - val_loss: 0.4220 - val_acc: 0.8035\n",
      "Epoch 9/100\n",
      "8000/8000 [==============================] - 0s 8us/step - loss: 0.4325 - acc: 0.7945 - val_loss: 0.4193 - val_acc: 0.8035\n",
      "Epoch 10/100\n",
      "8000/8000 [==============================] - 0s 8us/step - loss: 0.4295 - acc: 0.7945 - val_loss: 0.4169 - val_acc: 0.8035\n",
      "Epoch 11/100\n",
      "8000/8000 [==============================] - 0s 8us/step - loss: 0.4273 - acc: 0.7945 - val_loss: 0.4154 - val_acc: 0.8035\n",
      "Epoch 12/100\n",
      "8000/8000 [==============================] - 0s 8us/step - loss: 0.4251 - acc: 0.7945 - val_loss: 0.4136 - val_acc: 0.8035\n",
      "Epoch 13/100\n",
      "8000/8000 [==============================] - 0s 8us/step - loss: 0.4233 - acc: 0.7945 - val_loss: 0.4117 - val_acc: 0.8035\n",
      "Epoch 14/100\n",
      "8000/8000 [==============================] - 0s 8us/step - loss: 0.4214 - acc: 0.8001 - val_loss: 0.4102 - val_acc: 0.8160\n",
      "Epoch 15/100\n",
      "8000/8000 [==============================] - 0s 8us/step - loss: 0.4197 - acc: 0.8130 - val_loss: 0.4088 - val_acc: 0.8185\n",
      "Epoch 16/100\n",
      "8000/8000 [==============================] - 0s 8us/step - loss: 0.4177 - acc: 0.8131 - val_loss: 0.4071 - val_acc: 0.8200\n",
      "Epoch 17/100\n",
      "8000/8000 [==============================] - 0s 9us/step - loss: 0.4159 - acc: 0.8142 - val_loss: 0.4057 - val_acc: 0.8180\n",
      "Epoch 18/100\n",
      "8000/8000 [==============================] - 0s 8us/step - loss: 0.4142 - acc: 0.8161 - val_loss: 0.4041 - val_acc: 0.8220\n",
      "Epoch 19/100\n",
      "8000/8000 [==============================] - 0s 8us/step - loss: 0.4125 - acc: 0.8165 - val_loss: 0.4026 - val_acc: 0.8205\n",
      "Epoch 20/100\n",
      "8000/8000 [==============================] - 0s 8us/step - loss: 0.4110 - acc: 0.8185 - val_loss: 0.4014 - val_acc: 0.8215\n",
      "Epoch 21/100\n",
      "8000/8000 [==============================] - 0s 9us/step - loss: 0.4097 - acc: 0.8186 - val_loss: 0.4008 - val_acc: 0.8215\n",
      "Epoch 22/100\n",
      "8000/8000 [==============================] - 0s 8us/step - loss: 0.4084 - acc: 0.8194 - val_loss: 0.3995 - val_acc: 0.8230\n",
      "Epoch 23/100\n",
      "8000/8000 [==============================] - 0s 9us/step - loss: 0.4069 - acc: 0.8191 - val_loss: 0.3983 - val_acc: 0.8210\n",
      "Epoch 24/100\n",
      "8000/8000 [==============================] - 0s 8us/step - loss: 0.4058 - acc: 0.8184 - val_loss: 0.3974 - val_acc: 0.8225\n",
      "Epoch 25/100\n",
      "8000/8000 [==============================] - 0s 8us/step - loss: 0.4044 - acc: 0.8191 - val_loss: 0.3970 - val_acc: 0.8200\n",
      "Epoch 26/100\n",
      "8000/8000 [==============================] - 0s 8us/step - loss: 0.4031 - acc: 0.8206 - val_loss: 0.3957 - val_acc: 0.8205\n",
      "Epoch 27/100\n",
      "8000/8000 [==============================] - 0s 9us/step - loss: 0.4016 - acc: 0.8200 - val_loss: 0.3949 - val_acc: 0.8205\n",
      "Epoch 28/100\n",
      "8000/8000 [==============================] - 0s 9us/step - loss: 0.4004 - acc: 0.8212 - val_loss: 0.3941 - val_acc: 0.8215\n",
      "Epoch 29/100\n",
      "8000/8000 [==============================] - 0s 8us/step - loss: 0.3993 - acc: 0.8214 - val_loss: 0.3935 - val_acc: 0.8235\n",
      "Epoch 30/100\n",
      "8000/8000 [==============================] - 0s 9us/step - loss: 0.3979 - acc: 0.8221 - val_loss: 0.3922 - val_acc: 0.8225\n",
      "Epoch 31/100\n",
      "8000/8000 [==============================] - 0s 8us/step - loss: 0.3966 - acc: 0.8216 - val_loss: 0.3918 - val_acc: 0.8235\n",
      "Epoch 32/100\n",
      "8000/8000 [==============================] - 0s 8us/step - loss: 0.3954 - acc: 0.8217 - val_loss: 0.3904 - val_acc: 0.8235\n",
      "Epoch 33/100\n",
      "8000/8000 [==============================] - 0s 8us/step - loss: 0.3942 - acc: 0.8231 - val_loss: 0.3893 - val_acc: 0.8280\n",
      "Epoch 34/100\n",
      "8000/8000 [==============================] - 0s 8us/step - loss: 0.3931 - acc: 0.8286 - val_loss: 0.3884 - val_acc: 0.8305\n",
      "Epoch 35/100\n",
      "8000/8000 [==============================] - 0s 8us/step - loss: 0.3921 - acc: 0.8285 - val_loss: 0.3875 - val_acc: 0.8320\n",
      "Epoch 36/100\n",
      "8000/8000 [==============================] - 0s 8us/step - loss: 0.3914 - acc: 0.8299 - val_loss: 0.3867 - val_acc: 0.8335\n",
      "Epoch 37/100\n",
      "8000/8000 [==============================] - 0s 8us/step - loss: 0.3903 - acc: 0.8291 - val_loss: 0.3858 - val_acc: 0.8340\n",
      "Epoch 38/100\n",
      "8000/8000 [==============================] - 0s 9us/step - loss: 0.3896 - acc: 0.8303 - val_loss: 0.3853 - val_acc: 0.8375\n",
      "Epoch 39/100\n",
      "8000/8000 [==============================] - 0s 9us/step - loss: 0.3886 - acc: 0.8306 - val_loss: 0.3849 - val_acc: 0.8375\n",
      "Epoch 40/100\n",
      "8000/8000 [==============================] - 0s 8us/step - loss: 0.3877 - acc: 0.8309 - val_loss: 0.3837 - val_acc: 0.8350\n",
      "Epoch 41/100\n",
      "8000/8000 [==============================] - 0s 8us/step - loss: 0.3872 - acc: 0.8317 - val_loss: 0.3831 - val_acc: 0.8385\n",
      "Epoch 42/100\n",
      "8000/8000 [==============================] - 0s 8us/step - loss: 0.3863 - acc: 0.8342 - val_loss: 0.3828 - val_acc: 0.8385\n",
      "Epoch 43/100\n",
      "8000/8000 [==============================] - 0s 8us/step - loss: 0.3855 - acc: 0.8341 - val_loss: 0.3824 - val_acc: 0.8400\n",
      "Epoch 44/100\n",
      "8000/8000 [==============================] - 0s 8us/step - loss: 0.3848 - acc: 0.8350 - val_loss: 0.3813 - val_acc: 0.8385\n",
      "Epoch 45/100\n",
      "8000/8000 [==============================] - 0s 8us/step - loss: 0.3840 - acc: 0.8351 - val_loss: 0.3813 - val_acc: 0.8390\n",
      "Epoch 46/100\n",
      "8000/8000 [==============================] - 0s 8us/step - loss: 0.3833 - acc: 0.8364 - val_loss: 0.3804 - val_acc: 0.8390\n",
      "Epoch 47/100\n",
      "8000/8000 [==============================] - 0s 8us/step - loss: 0.3826 - acc: 0.8372 - val_loss: 0.3796 - val_acc: 0.8400\n",
      "Epoch 48/100\n",
      "8000/8000 [==============================] - 0s 8us/step - loss: 0.3820 - acc: 0.8371 - val_loss: 0.3792 - val_acc: 0.8380\n",
      "Epoch 49/100\n",
      "8000/8000 [==============================] - 0s 10us/step - loss: 0.3813 - acc: 0.8382 - val_loss: 0.3789 - val_acc: 0.8410\n",
      "Epoch 50/100\n",
      "8000/8000 [==============================] - 0s 9us/step - loss: 0.3808 - acc: 0.8385 - val_loss: 0.3780 - val_acc: 0.8405\n",
      "Epoch 51/100\n",
      "8000/8000 [==============================] - 0s 9us/step - loss: 0.3801 - acc: 0.8378 - val_loss: 0.3774 - val_acc: 0.8415\n",
      "Epoch 52/100\n",
      "8000/8000 [==============================] - 0s 8us/step - loss: 0.3791 - acc: 0.8398 - val_loss: 0.3765 - val_acc: 0.8410\n",
      "Epoch 53/100\n",
      "8000/8000 [==============================] - 0s 8us/step - loss: 0.3783 - acc: 0.8414 - val_loss: 0.3763 - val_acc: 0.8405\n",
      "Epoch 54/100\n",
      "8000/8000 [==============================] - 0s 8us/step - loss: 0.3778 - acc: 0.8415 - val_loss: 0.3762 - val_acc: 0.8400\n",
      "Epoch 55/100\n",
      "8000/8000 [==============================] - 0s 8us/step - loss: 0.3769 - acc: 0.8417 - val_loss: 0.3748 - val_acc: 0.8420\n",
      "Epoch 56/100\n",
      "8000/8000 [==============================] - 0s 9us/step - loss: 0.3763 - acc: 0.8431 - val_loss: 0.3741 - val_acc: 0.8405\n",
      "Epoch 57/100\n",
      "8000/8000 [==============================] - 0s 8us/step - loss: 0.3753 - acc: 0.8430 - val_loss: 0.3735 - val_acc: 0.8395\n",
      "Epoch 58/100\n",
      "8000/8000 [==============================] - 0s 9us/step - loss: 0.3748 - acc: 0.8434 - val_loss: 0.3733 - val_acc: 0.8400\n",
      "Epoch 59/100\n",
      "8000/8000 [==============================] - 0s 9us/step - loss: 0.3738 - acc: 0.8426 - val_loss: 0.3725 - val_acc: 0.8385\n",
      "Epoch 60/100\n",
      "8000/8000 [==============================] - 0s 9us/step - loss: 0.3733 - acc: 0.8449 - val_loss: 0.3720 - val_acc: 0.8415\n"
     ]
    },
    {
     "name": "stdout",
     "output_type": "stream",
     "text": [
      "Epoch 61/100\n",
      "8000/8000 [==============================] - 0s 9us/step - loss: 0.3724 - acc: 0.8445 - val_loss: 0.3716 - val_acc: 0.8405\n",
      "Epoch 62/100\n",
      "8000/8000 [==============================] - 0s 8us/step - loss: 0.3720 - acc: 0.8445 - val_loss: 0.3708 - val_acc: 0.8420\n",
      "Epoch 63/100\n",
      "8000/8000 [==============================] - 0s 8us/step - loss: 0.3712 - acc: 0.8460 - val_loss: 0.3705 - val_acc: 0.8415\n",
      "Epoch 64/100\n",
      "8000/8000 [==============================] - 0s 8us/step - loss: 0.3708 - acc: 0.8457 - val_loss: 0.3695 - val_acc: 0.8425\n",
      "Epoch 65/100\n",
      "8000/8000 [==============================] - 0s 8us/step - loss: 0.3697 - acc: 0.8451 - val_loss: 0.3693 - val_acc: 0.8425\n",
      "Epoch 66/100\n",
      "8000/8000 [==============================] - 0s 9us/step - loss: 0.3690 - acc: 0.8467 - val_loss: 0.3686 - val_acc: 0.8405\n",
      "Epoch 67/100\n",
      "8000/8000 [==============================] - 0s 10us/step - loss: 0.3685 - acc: 0.8459 - val_loss: 0.3673 - val_acc: 0.8415\n",
      "Epoch 68/100\n",
      "8000/8000 [==============================] - 0s 8us/step - loss: 0.3679 - acc: 0.8467 - val_loss: 0.3670 - val_acc: 0.8425\n",
      "Epoch 69/100\n",
      "8000/8000 [==============================] - 0s 8us/step - loss: 0.3672 - acc: 0.8469 - val_loss: 0.3662 - val_acc: 0.8410\n",
      "Epoch 70/100\n",
      "8000/8000 [==============================] - 0s 8us/step - loss: 0.3667 - acc: 0.8469 - val_loss: 0.3659 - val_acc: 0.8400\n",
      "Epoch 71/100\n",
      "8000/8000 [==============================] - 0s 8us/step - loss: 0.3666 - acc: 0.8456 - val_loss: 0.3650 - val_acc: 0.8410\n",
      "Epoch 72/100\n",
      "8000/8000 [==============================] - 0s 8us/step - loss: 0.3659 - acc: 0.8472 - val_loss: 0.3654 - val_acc: 0.8430\n",
      "Epoch 73/100\n",
      "8000/8000 [==============================] - 0s 8us/step - loss: 0.3654 - acc: 0.8482 - val_loss: 0.3644 - val_acc: 0.8435\n",
      "Epoch 74/100\n",
      "8000/8000 [==============================] - 0s 10us/step - loss: 0.3650 - acc: 0.8476 - val_loss: 0.3647 - val_acc: 0.8445\n",
      "Epoch 75/100\n",
      "8000/8000 [==============================] - 0s 9us/step - loss: 0.3646 - acc: 0.8485 - val_loss: 0.3636 - val_acc: 0.8430\n",
      "Epoch 76/100\n",
      "8000/8000 [==============================] - 0s 10us/step - loss: 0.3643 - acc: 0.8487 - val_loss: 0.3633 - val_acc: 0.8445\n",
      "Epoch 77/100\n",
      "8000/8000 [==============================] - 0s 8us/step - loss: 0.3640 - acc: 0.8490 - val_loss: 0.3633 - val_acc: 0.8440\n",
      "Epoch 78/100\n",
      "8000/8000 [==============================] - 0s 8us/step - loss: 0.3636 - acc: 0.8501 - val_loss: 0.3629 - val_acc: 0.8450\n",
      "Epoch 79/100\n",
      "8000/8000 [==============================] - 0s 8us/step - loss: 0.3634 - acc: 0.8492 - val_loss: 0.3624 - val_acc: 0.8455\n",
      "Epoch 80/100\n",
      "8000/8000 [==============================] - 0s 8us/step - loss: 0.3631 - acc: 0.8494 - val_loss: 0.3628 - val_acc: 0.8470\n",
      "Epoch 81/100\n",
      "8000/8000 [==============================] - 0s 9us/step - loss: 0.3626 - acc: 0.8500 - val_loss: 0.3619 - val_acc: 0.8450\n",
      "Epoch 82/100\n",
      "8000/8000 [==============================] - 0s 9us/step - loss: 0.3626 - acc: 0.8504 - val_loss: 0.3612 - val_acc: 0.8465\n",
      "Epoch 83/100\n",
      "8000/8000 [==============================] - 0s 10us/step - loss: 0.3623 - acc: 0.8510 - val_loss: 0.3615 - val_acc: 0.8450\n",
      "Epoch 84/100\n",
      "8000/8000 [==============================] - ETA: 0s - loss: 0.3597 - acc: 0.851 - 0s 9us/step - loss: 0.3621 - acc: 0.8499 - val_loss: 0.3611 - val_acc: 0.8460\n",
      "Epoch 85/100\n",
      "8000/8000 [==============================] - 0s 8us/step - loss: 0.3615 - acc: 0.8505 - val_loss: 0.3615 - val_acc: 0.8460\n",
      "Epoch 86/100\n",
      "8000/8000 [==============================] - 0s 8us/step - loss: 0.3615 - acc: 0.8509 - val_loss: 0.3605 - val_acc: 0.8475\n",
      "Epoch 87/100\n",
      "8000/8000 [==============================] - 0s 8us/step - loss: 0.3611 - acc: 0.8501 - val_loss: 0.3606 - val_acc: 0.8475\n",
      "Epoch 88/100\n",
      "8000/8000 [==============================] - 0s 7us/step - loss: 0.3608 - acc: 0.8494 - val_loss: 0.3603 - val_acc: 0.8490\n",
      "Epoch 89/100\n",
      "8000/8000 [==============================] - 0s 9us/step - loss: 0.3606 - acc: 0.8512 - val_loss: 0.3602 - val_acc: 0.8485\n",
      "Epoch 90/100\n",
      "8000/8000 [==============================] - 0s 9us/step - loss: 0.3602 - acc: 0.8498 - val_loss: 0.3592 - val_acc: 0.8490\n",
      "Epoch 91/100\n",
      "8000/8000 [==============================] - 0s 9us/step - loss: 0.3600 - acc: 0.8505 - val_loss: 0.3597 - val_acc: 0.8485\n",
      "Epoch 92/100\n",
      "8000/8000 [==============================] - 0s 11us/step - loss: 0.3600 - acc: 0.8513 - val_loss: 0.3597 - val_acc: 0.8490\n",
      "Epoch 93/100\n",
      "8000/8000 [==============================] - 0s 8us/step - loss: 0.3598 - acc: 0.8506 - val_loss: 0.3589 - val_acc: 0.8485\n",
      "Epoch 94/100\n",
      "8000/8000 [==============================] - 0s 8us/step - loss: 0.3592 - acc: 0.8501 - val_loss: 0.3587 - val_acc: 0.8480\n",
      "Epoch 95/100\n",
      "8000/8000 [==============================] - 0s 8us/step - loss: 0.3591 - acc: 0.8510 - val_loss: 0.3590 - val_acc: 0.8495\n",
      "Epoch 96/100\n",
      "8000/8000 [==============================] - 0s 9us/step - loss: 0.3589 - acc: 0.8516 - val_loss: 0.3585 - val_acc: 0.8485\n",
      "Epoch 97/100\n",
      "8000/8000 [==============================] - 0s 8us/step - loss: 0.3586 - acc: 0.8509 - val_loss: 0.3580 - val_acc: 0.8490\n",
      "Epoch 98/100\n",
      "8000/8000 [==============================] - 0s 9us/step - loss: 0.3582 - acc: 0.8506 - val_loss: 0.3589 - val_acc: 0.8500\n",
      "Epoch 99/100\n",
      "8000/8000 [==============================] - 0s 10us/step - loss: 0.3585 - acc: 0.8511 - val_loss: 0.3580 - val_acc: 0.8490\n",
      "Epoch 100/100\n",
      "8000/8000 [==============================] - 0s 10us/step - loss: 0.3580 - acc: 0.8510 - val_loss: 0.3580 - val_acc: 0.8480\n"
     ]
    },
    {
     "data": {
      "text/plain": [
       "<keras.callbacks.History at 0x15cadba8>"
      ]
     },
     "execution_count": 178,
     "metadata": {},
     "output_type": "execute_result"
    }
   ],
   "source": [
    "model = keras.Sequential()\n",
    "model.add(Dense(n_hidden_1, activation='relu', input_shape = (n_input,)))\n",
    "model.add(Dense(n_hidden_2, activation='relu'))\n",
    "model.add(Dense(n_classes, activation='sigmoid'))\n",
    "model.compile(optimizer = 'adam', loss = 'binary_crossentropy', metrics = ['accuracy'])\n",
    "model.fit(X_train, y_train, batch_size = batch_size, epochs = training_epochs,validation_data=(X_test, y_test))"
   ]
  },
  {
   "cell_type": "code",
   "execution_count": 179,
   "metadata": {},
   "outputs": [],
   "source": [
    "from AdamW import AdamW"
   ]
  },
  {
   "cell_type": "code",
   "execution_count": 181,
   "metadata": {},
   "outputs": [],
   "source": [
    "adamw = AdamW(lr=0.001, beta_1=0.9, beta_2=0.999, epsilon=None, decay=0., weight_decay=0.025, batch_size=1, samples_per_epoch=1, epochs=1)"
   ]
  },
  {
   "cell_type": "code",
   "execution_count": null,
   "metadata": {},
   "outputs": [],
   "source": [
    "model = keras.Sequential()\n",
    "model.add(Dense(n_hidden_1, activation='relu', input_shape = (n_input,)))\n",
    "model.add(Dense(n_hidden_2, activation='relu'))\n",
    "model.add(Dense(n_classes, activation='sigmoid'))\n",
    "model.compile(optimizer = adamw, loss = 'binary_crossentropy', metrics = ['accuracy'])\n",
    "model.fit(X_train, y_train, batch_size = batch_size, epochs = training_epochs,validation_data=(X_test, y_test))"
   ]
  },
  {
   "cell_type": "markdown",
   "metadata": {},
   "source": [
    "## 模型評估"
   ]
  },
  {
   "cell_type": "code",
   "execution_count": 184,
   "metadata": {},
   "outputs": [],
   "source": [
    "from keras.wrappers.scikit_learn import KerasClassifier\n",
    "from sklearn.model_selection import cross_val_score\n",
    "from keras.models import Sequential\n",
    "from keras.layers import Dense\n",
    "\n",
    "def build_classifier():\n",
    "    classifier = Sequential()\n",
    "    classifier.add(Dense(units = 6, kernel_initializer = 'uniform', activation = 'relu', input_dim = 11))\n",
    "    classifier.add(Dense(units = 1, kernel_initializer = 'uniform', activation = 'sigmoid'))\n",
    "    classifier.compile(optimizer = 'sgd', loss = 'binary_crossentropy', metrics = ['accuracy'])\n",
    "    return classifier\n",
    "\n",
    "classifier = KerasClassifier(build_fn  = build_classifier, batch_size = 100, epochs = 15, verbose= 1)"
   ]
  },
  {
   "cell_type": "code",
   "execution_count": null,
   "metadata": {},
   "outputs": [],
   "source": [
    "accuracies = cross_val_score(estimator = classifier, X = X_train, y = y_train, cv = 10)"
   ]
  },
  {
   "cell_type": "code",
   "execution_count": 188,
   "metadata": {},
   "outputs": [
    {
     "data": {
      "text/plain": [
       "0.7945000015199184"
      ]
     },
     "execution_count": 188,
     "metadata": {},
     "output_type": "execute_result"
    }
   ],
   "source": [
    "accuracies.mean()"
   ]
  },
  {
   "cell_type": "code",
   "execution_count": 189,
   "metadata": {},
   "outputs": [
    {
     "data": {
      "text/plain": [
       "0.015783695858088514"
      ]
     },
     "execution_count": 189,
     "metadata": {},
     "output_type": "execute_result"
    }
   ],
   "source": [
    "accuracies.std()"
   ]
  },
  {
   "cell_type": "code",
   "execution_count": 190,
   "metadata": {},
   "outputs": [],
   "source": [
    "from keras.wrappers.scikit_learn import KerasClassifier\n",
    "from sklearn.model_selection import cross_val_score\n",
    "from keras.models import Sequential\n",
    "from keras.layers import Dense\n",
    "\n",
    "def build_classifier2():\n",
    "    classifier = Sequential()\n",
    "    classifier.add(Dense(units = 6, kernel_initializer = 'uniform', activation = 'relu', input_dim = 11))\n",
    "    classifier.add(Dense(units = 6, kernel_initializer = 'uniform', activation = 'relu'))\n",
    "    classifier.add(Dense(units = 1, kernel_initializer = 'uniform', activation = 'sigmoid'))\n",
    "    classifier.compile(optimizer = 'adam', loss = 'binary_crossentropy', metrics = ['accuracy'])\n",
    "    return classifier\n",
    "\n",
    "classifier = KerasClassifier(build_fn  = build_classifier2, batch_size = 100, epochs = 15, verbose= 0)"
   ]
  },
  {
   "cell_type": "code",
   "execution_count": 191,
   "metadata": {},
   "outputs": [],
   "source": [
    "accuracies = cross_val_score(estimator = classifier, X = X_train, y = y_train, cv = 10)"
   ]
  },
  {
   "cell_type": "code",
   "execution_count": 193,
   "metadata": {},
   "outputs": [
    {
     "data": {
      "text/plain": [
       "array([0.82875   , 0.82124999, 0.80124999, 0.79125001, 0.79125001,\n",
       "       0.82875001, 0.79624999, 0.76874999, 0.79375   , 0.80375   ])"
      ]
     },
     "execution_count": 193,
     "metadata": {},
     "output_type": "execute_result"
    }
   ],
   "source": [
    "accuracies"
   ]
  },
  {
   "cell_type": "code",
   "execution_count": 195,
   "metadata": {},
   "outputs": [
    {
     "data": {
      "text/plain": [
       "0.8024999991059303"
      ]
     },
     "execution_count": 195,
     "metadata": {},
     "output_type": "execute_result"
    }
   ],
   "source": [
    "accuracies.mean()"
   ]
  },
  {
   "cell_type": "code",
   "execution_count": 196,
   "metadata": {},
   "outputs": [
    {
     "data": {
      "text/plain": [
       "0.01800173696690713"
      ]
     },
     "execution_count": 196,
     "metadata": {},
     "output_type": "execute_result"
    }
   ],
   "source": [
    "accuracies.std()"
   ]
  },
  {
   "cell_type": "markdown",
   "metadata": {},
   "source": [
    "### Dropout"
   ]
  },
  {
   "cell_type": "code",
   "execution_count": 200,
   "metadata": {},
   "outputs": [],
   "source": [
    "from keras.wrappers.scikit_learn import KerasClassifier\n",
    "from sklearn.model_selection import cross_val_score\n",
    "from keras.models import Sequential\n",
    "from keras.layers import Dense\n",
    "from keras.layers import Dropout\n",
    "def build_classifier3():\n",
    "    classifier = Sequential()\n",
    "    classifier.add(Dense(units = 6, kernel_initializer = 'uniform', activation = 'relu', input_dim = 11))\n",
    "    classifier.add(Dropout(rate=0.1))\n",
    "    classifier.add(Dense(units = 6, kernel_initializer = 'uniform', activation = 'relu'))\n",
    "    classifier.add(Dropout(rate=0.1))\n",
    "    classifier.add(Dense(units = 1, kernel_initializer = 'uniform', activation = 'sigmoid'))\n",
    "    classifier.compile(optimizer = 'adam', loss = 'binary_crossentropy', metrics = ['accuracy'])\n",
    "    return classifier\n",
    "\n",
    "classifier = KerasClassifier(build_fn  = build_classifier2, batch_size = 100, epochs = 15, verbose= 0)"
   ]
  },
  {
   "cell_type": "code",
   "execution_count": 201,
   "metadata": {},
   "outputs": [],
   "source": [
    "classifier = KerasClassifier(build_fn  = build_classifier3, batch_size = 100, epochs = 15, verbose= 0)"
   ]
  },
  {
   "cell_type": "code",
   "execution_count": 202,
   "metadata": {},
   "outputs": [],
   "source": [
    "accuracies = cross_val_score(estimator = classifier, X = X_train, y = y_train, cv = 10)"
   ]
  },
  {
   "cell_type": "code",
   "execution_count": 204,
   "metadata": {},
   "outputs": [
    {
     "data": {
      "text/plain": [
       "0.7945000015199184"
      ]
     },
     "execution_count": 204,
     "metadata": {},
     "output_type": "execute_result"
    }
   ],
   "source": [
    "accuracies.mean()"
   ]
  },
  {
   "cell_type": "code",
   "execution_count": 205,
   "metadata": {},
   "outputs": [
    {
     "data": {
      "text/plain": [
       "0.015783695858088514"
      ]
     },
     "execution_count": 205,
     "metadata": {},
     "output_type": "execute_result"
    }
   ],
   "source": [
    "accuracies.std()"
   ]
  },
  {
   "cell_type": "markdown",
   "metadata": {},
   "source": [
    "### Grid Search"
   ]
  },
  {
   "cell_type": "code",
   "execution_count": null,
   "metadata": {},
   "outputs": [],
   "source": [
    "from sklearn.model_selection import GridSearchCV\n",
    "\n",
    "classifier = KerasClassifier(build_fn = build_classifier3, epochs = 10)\n",
    "parameters = {'batch_size': [25, 32]}\n",
    "\n",
    "grid_search = GridSearchCV(estimator = classifier,\n",
    "                           param_grid = parameters,\n",
    "                           scoring = 'accuracy',\n",
    "                           cv = 3)\n",
    "\n",
    "grid_search = grid_search.fit(X_train, y_train)\n",
    "best_parameters = grid_search.best_params_\n",
    "best_accuracy = grid_search.best_score_"
   ]
  },
  {
   "cell_type": "code",
   "execution_count": 209,
   "metadata": {},
   "outputs": [
    {
     "data": {
      "text/plain": [
       "{'batch_size': 32}"
      ]
     },
     "execution_count": 209,
     "metadata": {},
     "output_type": "execute_result"
    }
   ],
   "source": [
    "best_parameters"
   ]
  },
  {
   "cell_type": "code",
   "execution_count": 210,
   "metadata": {},
   "outputs": [
    {
     "data": {
      "text/plain": [
       "0.803375"
      ]
     },
     "execution_count": 210,
     "metadata": {},
     "output_type": "execute_result"
    }
   ],
   "source": [
    "best_accuracy"
   ]
  },
  {
   "cell_type": "markdown",
   "metadata": {},
   "source": [
    "### 比較優化器"
   ]
  },
  {
   "cell_type": "code",
   "execution_count": 211,
   "metadata": {},
   "outputs": [],
   "source": [
    "from keras.wrappers.scikit_learn import KerasClassifier\n",
    "from sklearn.model_selection import cross_val_score\n",
    "from keras.models import Sequential\n",
    "from keras.layers import Dense\n",
    "\n",
    "def train_model(optimizer):\n",
    "    classifier = Sequential()\n",
    "    classifier.add(Dense(units = 6, kernel_initializer = 'uniform', activation = 'relu', input_dim = 11))\n",
    "    classifier.add(Dropout(rate=0.1))\n",
    "    classifier.add(Dense(units = 6, kernel_initializer = 'uniform', activation = 'relu'))\n",
    "    classifier.add(Dropout(rate=0.1))\n",
    "    classifier.add(Dense(units = 1, kernel_initializer = 'uniform', activation = 'sigmoid'))\n",
    "    classifier.compile(optimizer = optimizer, loss = 'binary_crossentropy', metrics = ['accuracy'])\n",
    "    \n",
    "    history = classifier.fit(X_train, y_train,\n",
    "                    batch_size=100,\n",
    "                    epochs=100,\n",
    "                    verbose=0,\n",
    "                    validation_data=(X_test, y_test))\n",
    "    return history"
   ]
  },
  {
   "cell_type": "code",
   "execution_count": 212,
   "metadata": {},
   "outputs": [],
   "source": [
    "sgd_model = train_model('sgd')"
   ]
  },
  {
   "cell_type": "code",
   "execution_count": 213,
   "metadata": {},
   "outputs": [],
   "source": [
    "rmsprop_model = train_model('RMSprop')"
   ]
  },
  {
   "cell_type": "code",
   "execution_count": 215,
   "metadata": {},
   "outputs": [],
   "source": [
    "adagrad_model = train_model('Adagrad')"
   ]
  },
  {
   "cell_type": "code",
   "execution_count": 221,
   "metadata": {},
   "outputs": [],
   "source": [
    "adadelta_model = train_model('Adadelta')"
   ]
  },
  {
   "cell_type": "code",
   "execution_count": 214,
   "metadata": {},
   "outputs": [],
   "source": [
    "adam_model = train_model('Adam')"
   ]
  },
  {
   "cell_type": "code",
   "execution_count": 222,
   "metadata": {},
   "outputs": [
    {
     "name": "stdout",
     "output_type": "stream",
     "text": [
      "Populating the interactive namespace from numpy and matplotlib\n"
     ]
    },
    {
     "data": {
      "image/png": "[encoded data removed]",
      "text/plain": [
       "<Figure size 640x480 with 1 Axes>"
      ]
     },
     "metadata": {},
     "output_type": "display_data"
    }
   ],
   "source": [
    "% pylab inline\n",
    "import matplotlib.pyplot  as plt\n",
    "plt.figure(num=None, figsize=(8, 6), dpi=80, facecolor='w', edgecolor='k')\n",
    "plt.plot(sgd_model.epoch, sgd_model.history['acc'], label='SGD')\n",
    "plt.plot(rmsprop_model.epoch, rmsprop_model.history['acc'], label='RMSProp')\n",
    "plt.plot(adagrad_model.epoch, adagrad_model.history['acc'], label='AdaGrad')\n",
    "plt.plot(adadelta_model.epoch, adadelta_model.history['acc'], label='AdaDelta')\n",
    "plt.plot(adam_model.epoch, adam_model.history['acc'], label='Adam')\n",
    "plt.legend()\n",
    "plt.show()"
   ]
  },
  {
   "cell_type": "markdown",
   "metadata": {},
   "source": [
    "## 比較神經網路與一般機器學習模型"
   ]
  },
  {
   "cell_type": "code",
   "execution_count": 223,
   "metadata": {},
   "outputs": [],
   "source": [
    "import pandas\n",
    "dataset = pandas.read_csv('https://raw.githubusercontent.com/ywchiu/tibamedl/master/Data/Churn_Modelling.csv')"
   ]
  },
  {
   "cell_type": "code",
   "execution_count": 224,
   "metadata": {},
   "outputs": [],
   "source": [
    "X = dataset.iloc[:,3:-1]"
   ]
  },
  {
   "cell_type": "code",
   "execution_count": 225,
   "metadata": {},
   "outputs": [],
   "source": [
    "y = dataset['Exited']"
   ]
  },
  {
   "cell_type": "code",
   "execution_count": 226,
   "metadata": {},
   "outputs": [],
   "source": [
    "geo = pd.get_dummies(dataset['Geography'])\n",
    "X = pd.concat([X,geo], axis = 1)\n",
    "del X['Spain']\n",
    "del X['Geography']"
   ]
  },
  {
   "cell_type": "code",
   "execution_count": 228,
   "metadata": {},
   "outputs": [],
   "source": [
    "X['Gender'] = X['Gender'].map(lambda e: 1 if e =='Male' else 0 )"
   ]
  },
  {
   "cell_type": "code",
   "execution_count": 229,
   "metadata": {},
   "outputs": [],
   "source": [
    "from sklearn.preprocessing import StandardScaler\n",
    "sc = StandardScaler()\n",
    "X_train = sc.fit_transform(X_train)\n",
    "X_test = sc.transform(X_test)"
   ]
  },
  {
   "cell_type": "code",
   "execution_count": 230,
   "metadata": {},
   "outputs": [],
   "source": [
    "n_hidden_1 = 6 \n",
    "n_hidden_2 = 6 \n",
    "n_input    = 11\n",
    "n_classes  = 1 \n",
    "\n",
    "training_epochs = 100\n",
    "batch_size = 100"
   ]
  },
  {
   "cell_type": "code",
   "execution_count": 231,
   "metadata": {},
   "outputs": [
    {
     "data": {
      "text/plain": [
       "<keras.callbacks.History at 0x63c58cf8>"
      ]
     },
     "execution_count": 231,
     "metadata": {},
     "output_type": "execute_result"
    }
   ],
   "source": [
    "model = keras.Sequential()\n",
    "model.add(Dense(n_hidden_1, activation='relu', input_shape = (n_input,)))\n",
    "model.add(Dense(n_hidden_2, activation='relu'))\n",
    "model.add(Dense(n_classes, activation='sigmoid'))\n",
    "model.compile(optimizer = 'adam', loss = 'binary_crossentropy', metrics = ['accuracy'])\n",
    "model.fit(X_train, y_train, batch_size = batch_size, epochs = training_epochs,validation_data=(X_test, y_test), verbose = 0)"
   ]
  },
  {
   "cell_type": "code",
   "execution_count": 232,
   "metadata": {},
   "outputs": [
    {
     "data": {
      "text/plain": [
       "array([[0.04348586],\n",
       "       [0.02161319],\n",
       "       [0.16199286],\n",
       "       ...,\n",
       "       [0.68814665],\n",
       "       [0.13837947],\n",
       "       [0.29584947]], dtype=float32)"
      ]
     },
     "execution_count": 232,
     "metadata": {},
     "output_type": "execute_result"
    }
   ],
   "source": [
    "model.predict(X_test) "
   ]
  },
  {
   "cell_type": "code",
   "execution_count": 247,
   "metadata": {},
   "outputs": [],
   "source": [
    "predicted = (model.predict(X_test) > 0.4).flatten().astype(int)"
   ]
  },
  {
   "cell_type": "code",
   "execution_count": 248,
   "metadata": {},
   "outputs": [
    {
     "data": {
      "text/plain": [
       "array([[1494,  113],\n",
       "       [ 178,  215]], dtype=int64)"
      ]
     },
     "execution_count": 248,
     "metadata": {},
     "output_type": "execute_result"
    }
   ],
   "source": [
    "from sklearn.metrics import confusion_matrix\n",
    "confusion_matrix(y_test, predicted)"
   ]
  },
  {
   "cell_type": "code",
   "execution_count": 246,
   "metadata": {},
   "outputs": [
    {
     "data": {
      "text/plain": [
       "-3366000"
      ]
     },
     "execution_count": 246,
     "metadata": {},
     "output_type": "execute_result"
    }
   ],
   "source": [
    "#0.7\n",
    "-20000 * (15 + 114 ) -2000 * (279 + 114)"
   ]
  },
  {
   "cell_type": "code",
   "execution_count": 249,
   "metadata": {},
   "outputs": [
    {
     "data": {
      "text/plain": [
       "-7346000"
      ]
     },
     "execution_count": 249,
     "metadata": {},
     "output_type": "execute_result"
    }
   ],
   "source": [
    "#0.4\n",
    "-20000 * (113 + 215 ) -2000 * (215 + 178)"
   ]
  },
  {
   "cell_type": "code",
   "execution_count": 250,
   "metadata": {},
   "outputs": [],
   "source": [
    "predicted = (model.predict(X_test) > 0.5).flatten().astype(int)"
   ]
  },
  {
   "cell_type": "code",
   "execution_count": 295,
   "metadata": {},
   "outputs": [
    {
     "data": {
      "text/plain": [
       "array([[1605,    2],\n",
       "       [ 357,   36]], dtype=int64)"
      ]
     },
     "execution_count": 295,
     "metadata": {},
     "output_type": "execute_result"
    }
   ],
   "source": [
    "from sklearn.metrics import confusion_matrix\n",
    "confusion_matrix(y_test, predicted)"
   ]
  },
  {
   "cell_type": "code",
   "execution_count": 296,
   "metadata": {},
   "outputs": [
    {
     "data": {
      "text/plain": [
       "array([[1605,    2],\n",
       "       [ 357,   36]], dtype=int64)"
      ]
     },
     "execution_count": 296,
     "metadata": {},
     "output_type": "execute_result"
    }
   ],
   "source": [
    "m = confusion_matrix(y_test, predicted)\n",
    "m"
   ]
  },
  {
   "cell_type": "code",
   "execution_count": 300,
   "metadata": {},
   "outputs": [],
   "source": [
    "TP = m[0][0]\n",
    "FP = m[0][1]\n",
    "FN = m[1][0]\n",
    "TN = m[1][1]"
   ]
  },
  {
   "cell_type": "code",
   "execution_count": null,
   "metadata": {},
   "outputs": [],
   "source": [
    "TP = 1548\n",
    "FP = 59\n",
    "FN = 210\n",
    "TN = 183\n",
    "FPR = 59 / (59+183)\n",
    "TPR = 1548 / (1548 +210)"
   ]
  },
  {
   "cell_type": "code",
   "execution_count": 280,
   "metadata": {},
   "outputs": [],
   "source": [
    "y_pred = model.predict(X_test)"
   ]
  },
  {
   "cell_type": "code",
   "execution_count": 281,
   "metadata": {},
   "outputs": [],
   "source": [
    "from sklearn.metrics import roc_curve\n",
    "fpr_ary, tpr_ary, thresholds = roc_curve(y_test, y_pred)"
   ]
  },
  {
   "cell_type": "code",
   "execution_count": 284,
   "metadata": {},
   "outputs": [],
   "source": [
    "#tpr_ary"
   ]
  },
  {
   "cell_type": "code",
   "execution_count": 283,
   "metadata": {},
   "outputs": [
    {
     "name": "stdout",
     "output_type": "stream",
     "text": [
      "Populating the interactive namespace from numpy and matplotlib\n"
     ]
    },
    {
     "data": {
      "image/png": "[encoded data removed]",
      "text/plain": [
       "<Figure size 432x288 with 1 Axes>"
      ]
     },
     "metadata": {},
     "output_type": "display_data"
    }
   ],
   "source": [
    "%pylab inline\n",
    "import matplotlib.pyplot as plt\n",
    "plt.plot(fpr_ary, tpr_ary, label='ROC curve')\n",
    "plt.plot([0, 1], [0, 1], 'k--')\n",
    "plt.xlim([0.0, 1.0])\n",
    "plt.ylim([0.0, 1.0])\n",
    "plt.xlabel('False Positive Rate')\n",
    "plt.ylabel('True Positive Rate')\n",
    "plt.title('Receiver operating characteristic example')\n",
    "plt.legend(loc=\"lower right\")\n",
    "plt.show()"
   ]
  },
  {
   "cell_type": "code",
   "execution_count": 285,
   "metadata": {},
   "outputs": [
    {
     "data": {
      "text/plain": [
       "0.850821232172857"
      ]
     },
     "execution_count": 285,
     "metadata": {},
     "output_type": "execute_result"
    }
   ],
   "source": [
    "from sklearn.metrics import auc\n",
    "auc(fpr_ary, tpr_ary)"
   ]
  },
  {
   "cell_type": "code",
   "execution_count": null,
   "metadata": {},
   "outputs": [],
   "source": [
    "from sklearn.ensemble import GradientBoostingClassifier"
   ]
  },
  {
   "cell_type": "code",
   "execution_count": 301,
   "metadata": {},
   "outputs": [
    {
     "data": {
      "text/plain": [
       "GradientBoostingClassifier(criterion='friedman_mse', init=None,\n",
       "              learning_rate=0.1, loss='deviance', max_depth=3,\n",
       "              max_features=None, max_leaf_nodes=None,\n",
       "              min_impurity_decrease=0.0, min_impurity_split=None,\n",
       "              min_samples_leaf=1, min_samples_split=2,\n",
       "              min_weight_fraction_leaf=0.0, n_estimators=100,\n",
       "              presort='auto', random_state=None, subsample=1.0, verbose=0,\n",
       "              warm_start=False)"
      ]
     },
     "execution_count": 301,
     "metadata": {},
     "output_type": "execute_result"
    }
   ],
   "source": [
    "from sklearn.tree import DecisionTreeClassifier\n",
    "from sklearn.svm import SVC\n",
    "from sklearn.linear_model import LogisticRegression\n",
    "from sklearn.ensemble import RandomForestClassifier\n",
    "from sklearn.ensemble import GradientBoostingClassifier\n",
    "\n",
    "clf1 = DecisionTreeClassifier()\n",
    "clf1.fit(X_train, y_train)\n",
    "\n",
    "clf2 = SVC(probability = True)\n",
    "clf2.fit(X_train, y_train)\n",
    "\n",
    "clf3 = LogisticRegression()\n",
    "clf3.fit(X_train, y_train)\n",
    "\n",
    "clf4 = RandomForestClassifier(n_estimators=100)\n",
    "clf4.fit(X_train, y_train)\n",
    "\n",
    "clf5 = GradientBoostingClassifier()\n",
    "clf5.fit(X_train, y_train)"
   ]
  },
  {
   "cell_type": "code",
   "execution_count": 294,
   "metadata": {},
   "outputs": [
    {
     "data": {
      "image/png": "[encoded data removed]",
      "text/plain": [
       "<Figure size 1440x720 with 1 Axes>"
      ]
     },
     "metadata": {},
     "output_type": "display_data"
    }
   ],
   "source": [
    "plt.figure(figsize= [20,10])\n",
    "for clf, title in zip([model,clf1,clf2,clf3, clf4,clf5], \\\n",
    "                      ['ANN','Decision Tree', 'SVM', 'LogisticRegression', 'RandomForest', 'GradientBoosting']):\n",
    "    if title != 'ANN':\n",
    "        probas_ = clf.fit(X_train, y_train).predict_proba(X_test)\n",
    "        fpr, tpr, thresholds = roc_curve(y_test, probas_[:, 1])\n",
    "    else:\n",
    "        y_pred = clf.predict(X_test)\n",
    "        fpr, tpr, thresholds = roc_curve(y_test, y_pred)\n",
    "    plt.plot(fpr, tpr, label='%s - AUC:%.2f'%(title, auc(fpr, tpr)) )\n",
    "    \n",
    "    \n",
    "plt.plot([0, 1], [0, 1], 'k--')\n",
    "plt.xlim([0.0, 1.0])\n",
    "plt.ylim([0.0, 1.0])\n",
    "plt.xlabel('False Positive Rate', fontsize = 20)\n",
    "plt.ylabel('True Positive Rate', fontsize = 20)\n",
    "plt.title('Receiver operating characteristic example', fontsize = 20)\n",
    "plt.legend(loc=\"lower right\", fontsize = 20)\n",
    "plt.show()"
   ]
  },
  {
   "cell_type": "code",
   "execution_count": 309,
   "metadata": {},
   "outputs": [],
   "source": [
    "clf1 = DecisionTreeClassifier()\n",
    "clf1.fit(X_train, y_train)\n",
    "probas_ = clf1.fit(X_train, y_train).predict_proba(X_test)"
   ]
  },
  {
   "cell_type": "code",
   "execution_count": 312,
   "metadata": {},
   "outputs": [
    {
     "data": {
      "text/plain": [
       "0.6655289913245327"
      ]
     },
     "execution_count": 312,
     "metadata": {},
     "output_type": "execute_result"
    }
   ],
   "source": [
    "fpr, tpr, threshold = roc_curve(y_test, probas_[:, 1])\n",
    "auc(fpr, tpr)"
   ]
  },
  {
   "cell_type": "code",
   "execution_count": 314,
   "metadata": {},
   "outputs": [
    {
     "data": {
      "text/plain": [
       "0.7788618813049144"
      ]
     },
     "execution_count": 314,
     "metadata": {},
     "output_type": "execute_result"
    }
   ],
   "source": [
    "probas_ = clf3.fit(X_train, y_train).predict_proba(X_test)\n",
    "fpr, tpr, threshold = roc_curve(y_test, probas_[:, 1])\n",
    "auc(fpr, tpr)"
   ]
  },
  {
   "cell_type": "markdown",
   "metadata": {},
   "source": [
    "### ZIP"
   ]
  },
  {
   "cell_type": "code",
   "execution_count": 288,
   "metadata": {},
   "outputs": [
    {
     "name": "stdout",
     "output_type": "stream",
     "text": [
      "1 5\n",
      "2 6\n",
      "3 7\n"
     ]
    }
   ],
   "source": [
    "a = [1,2,3]\n",
    "b = [5,6,7]\n",
    "for i,j in zip(a,b):\n",
    "    print(i,j)"
   ]
  },
  {
   "cell_type": "markdown",
   "metadata": {},
   "source": [
    "## 房價預測模型"
   ]
  },
  {
   "cell_type": "code",
   "execution_count": 320,
   "metadata": {},
   "outputs": [
    {
     "data": {
      "text/plain": [
       "[{'type': '2',\n",
       "  'houseid': 5629292,\n",
       "  'kind': 9,\n",
       "  'kind_name': '住宅',\n",
       "  'shape_name': '電梯大樓',\n",
       "  'region_name': '台北市',\n",
       "  'section_name': '大安區',\n",
       "  'title': '謙華捷運豪宅★東森房屋黃致敦',\n",
       "  'has_carport': 0,\n",
       "  'room': '4房2廳2衛',\n",
       "  'floor': '10F/15F',\n",
       "  'photoNum': 4,\n",
       "  'mainarea': 48.01,\n",
       "  'carttype': '',\n",
       "  'cartmodel': '',\n",
       "  'is_video': 0,\n",
       "  'photo_url': 'https://hp1.591.com.tw/house/active/2015/09/13/144212511342651803_208x156.crop.jpg',\n",
       "  'refreshtime': '53分鐘內',\n",
       "  'nick_name': '仲介黃先生',\n",
       "  'isnew': 0,\n",
       "  'posttime': 1541121187,\n",
       "  'area': 105,\n",
       "  'houseage': 6,\n",
       "  'showhouseage': '6年',\n",
       "  'address': '信義路四段',\n",
       "  'browsenum': 73,\n",
       "  'unit_price': '139.05萬/坪',\n",
       "  'unitprice': '139.05',\n",
       "  'price': 14600,\n",
       "  'showprice': '14,600',\n",
       "  'is_oversea': '0',\n",
       "  'is_carport': '0',\n",
       "  'is_down_price': 0,\n",
       "  'is_combine': 0,\n",
       "  'isvip': 1,\n",
       "  'is_hurry_price': 0,\n",
       "  'community_link': '/newCommunity-index.html?cid=52503',\n",
       "  'community_name': '謙華',\n",
       "  'tag': [],\n",
       "  'saletype': 0,\n",
       "  'delivery': '',\n",
       "  'fci_pai': ''},\n",
       " {'type': '2',\n",
       "  'houseid': 5488705,\n",
       "  'kind': 9,\n",
       "  'kind_name': '住宅',\n",
       "  'shape_name': '電梯大樓',\n",
       "  'region_name': '台北市',\n",
       "  'section_name': '大安區',\n",
       "  'title': '空總靜巷電梯車位頂加',\n",
       "  'has_carport': 0,\n",
       "  'room': '2房2廳2衛',\n",
       "  'floor': '7F/7F',\n",
       "  'photoNum': 6,\n",
       "  'mainarea': 29.21,\n",
       "  'carttype': '',\n",
       "  'cartmodel': '',\n",
       "  'is_video': 0,\n",
       "  'photo_url': 'https://hp2.591.com.tw/house/active/2018/09/20/153741122824465104_208x156.crop.jpg',\n",
       "  'refreshtime': '58分鐘內',\n",
       "  'nick_name': '仲介陳先生',\n",
       "  'isnew': 0,\n",
       "  'posttime': 1537416597,\n",
       "  'area': 41.38,\n",
       "  'houseage': 38,\n",
       "  'showhouseage': '38年',\n",
       "  'address': '仁愛路三段123巷',\n",
       "  'browsenum': 442,\n",
       "  'unit_price': '109.96萬/坪',\n",
       "  'unitprice': '109.96',\n",
       "  'price': 4550,\n",
       "  'showprice': '4,550',\n",
       "  'is_oversea': '0',\n",
       "  'is_carport': '0',\n",
       "  'is_down_price': 0,\n",
       "  'is_combine': 0,\n",
       "  'isvip': 1,\n",
       "  'is_hurry_price': 0,\n",
       "  'community_link': '',\n",
       "  'community_name': '仁愛鼎家',\n",
       "  'tag': ['有陽台', '低公設'],\n",
       "  'saletype': 0,\n",
       "  'delivery': '',\n",
       "  'fci_pai': ''},\n",
       " {'type': '2',\n",
       "  'houseid': 5508024,\n",
       "  'kind': 9,\n",
       "  'kind_name': '住宅',\n",
       "  'shape_name': '電梯大樓',\n",
       "  'region_name': '台北市',\n",
       "  'section_name': '大安區',\n",
       "  'title': '附中明亮電梯兩房',\n",
       "  'has_carport': 0,\n",
       "  'room': '2房2廳1衛',\n",
       "  'floor': '8F/14F',\n",
       "  'photoNum': 15,\n",
       "  'mainarea': 23.89,\n",
       "  'carttype': '',\n",
       "  'cartmodel': '',\n",
       "  'is_video': 0,\n",
       "  'photo_url': 'https://hp2.591.com.tw/house/active/2018/07/26/153259665184493008_208x156.crop.jpg',\n",
       "  'refreshtime': '2小時內',\n",
       "  'nick_name': '仲介王小敬紅',\n",
       "  'isnew': 0,\n",
       "  'posttime': 1538006751,\n",
       "  'area': 31.37,\n",
       "  'houseage': 40,\n",
       "  'showhouseage': '40年',\n",
       "  'address': '復興南路一段253巷',\n",
       "  'browsenum': 251,\n",
       "  'unit_price': '95.25萬/坪',\n",
       "  'unitprice': '95.25',\n",
       "  'price': 2988,\n",
       "  'showprice': '2,988',\n",
       "  'is_oversea': '0',\n",
       "  'is_carport': '0',\n",
       "  'is_down_price': 0,\n",
       "  'is_combine': 0,\n",
       "  'isvip': 1,\n",
       "  'is_hurry_price': 0,\n",
       "  'community_link': '/newCommunity-index.html?cid=26553',\n",
       "  'community_name': '中南大樓',\n",
       "  'tag': [],\n",
       "  'saletype': 0,\n",
       "  'delivery': '',\n",
       "  'fci_pai': ''},\n",
       " {'type': '2',\n",
       "  'houseid': 5511352,\n",
       "  'kind': 9,\n",
       "  'kind_name': '住宅',\n",
       "  'shape_name': '電梯大樓',\n",
       "  'region_name': '台北市',\n",
       "  'section_name': '大安區',\n",
       "  'title': '敦南遠企生活圈稀有景觀樓中樓',\n",
       "  'has_carport': 0,\n",
       "  'room': '5房3廳2衛',\n",
       "  'floor': '9F/9F',\n",
       "  'photoNum': 8,\n",
       "  'mainarea': 0,\n",
       "  'carttype': '',\n",
       "  'cartmodel': '',\n",
       "  'is_video': 0,\n",
       "  'photo_url': 'https://hp2.591.com.tw/house/active/2018/06/26/153001931343721001_208x156.crop.jpg',\n",
       "  'refreshtime': '2小時內',\n",
       "  'nick_name': '屋主賴先生',\n",
       "  'isnew': 0,\n",
       "  'posttime': 1538093116,\n",
       "  'area': 51.88,\n",
       "  'houseage': 15,\n",
       "  'showhouseage': '15年',\n",
       "  'address': '樂業街',\n",
       "  'browsenum': 671,\n",
       "  'unit_price': '106.01萬/坪',\n",
       "  'unitprice': '106.01',\n",
       "  'price': 5500,\n",
       "  'showprice': '5,500',\n",
       "  'is_oversea': '0',\n",
       "  'is_carport': '0',\n",
       "  'is_down_price': 0,\n",
       "  'is_combine': 0,\n",
       "  'isvip': 1,\n",
       "  'is_hurry_price': 0,\n",
       "  'community_link': '',\n",
       "  'community_name': '',\n",
       "  'tag': [],\n",
       "  'saletype': 0,\n",
       "  'delivery': '',\n",
       "  'fci_pai': ''},\n",
       " {'type': '2',\n",
       "  'houseid': 5511901,\n",
       "  'kind': 9,\n",
       "  'kind_name': '住宅',\n",
       "  'shape_name': '公寓',\n",
       "  'region_name': '台北市',\n",
       "  'section_name': '大安區',\n",
       "  'title': '-專約-遠企商圈-樂利六張捷運美寓',\n",
       "  'has_carport': 0,\n",
       "  'room': '3房2廳1衛',\n",
       "  'floor': '5F/5F',\n",
       "  'photoNum': 15,\n",
       "  'mainarea': 25.55,\n",
       "  'carttype': '',\n",
       "  'cartmodel': '',\n",
       "  'is_video': 0,\n",
       "  'photo_url': 'https://hp1.591.com.tw/house/active/2018/07/28/153276709237052706_208x156.crop.jpg',\n",
       "  'refreshtime': '2小時內',\n",
       "  'nick_name': '仲介林明良',\n",
       "  'isnew': 0,\n",
       "  'posttime': 1538107435,\n",
       "  'area': 28.12,\n",
       "  'houseage': 41,\n",
       "  'showhouseage': '41年',\n",
       "  'address': '通化街',\n",
       "  'browsenum': 520,\n",
       "  'unit_price': '65.79萬/坪',\n",
       "  'unitprice': '65.79',\n",
       "  'price': 1850,\n",
       "  'showprice': '1,850',\n",
       "  'is_oversea': '0',\n",
       "  'is_carport': '0',\n",
       "  'is_down_price': 0,\n",
       "  'is_combine': 0,\n",
       "  'isvip': 1,\n",
       "  'is_hurry_price': 0,\n",
       "  'community_link': '',\n",
       "  'community_name': '',\n",
       "  'tag': ['有陽台'],\n",
       "  'saletype': 0,\n",
       "  'delivery': '',\n",
       "  'fci_pai': ''},\n",
       " {'type': '2',\n",
       "  'houseid': 5501945,\n",
       "  'kind': 9,\n",
       "  'kind_name': '住宅',\n",
       "  'shape_name': '電梯大樓',\n",
       "  'region_name': '台北市',\n",
       "  'section_name': '大安區',\n",
       "  'title': 'G8瑞安名宅惟瓦地~低單價~住商中山捷運',\n",
       "  'has_carport': 1,\n",
       "  'room': '4房3廳3衛',\n",
       "  'floor': '2F/13F',\n",
       "  'photoNum': 16,\n",
       "  'mainarea': 61.17,\n",
       "  'carttype': '',\n",
       "  'cartmodel': '',\n",
       "  'is_video': 0,\n",
       "  'photo_url': 'https://hp2.591.com.tw/house/active/2018/01/17/151617213684718204_208x156.crop.jpg',\n",
       "  'refreshtime': '2小時內',\n",
       "  'nick_name': '仲介何先生',\n",
       "  'isnew': 0,\n",
       "  'posttime': 1537847848,\n",
       "  'area': 151.98,\n",
       "  'houseage': 9,\n",
       "  'showhouseage': '9年',\n",
       "  'address': '瑞安街81巷',\n",
       "  'browsenum': 394,\n",
       "  'unit_price': '126.01萬/坪',\n",
       "  'unitprice': '126.01',\n",
       "  'price': 15588,\n",
       "  'showprice': '15,588',\n",
       "  'is_oversea': '0',\n",
       "  'is_carport': '0',\n",
       "  'is_down_price': 0,\n",
       "  'is_combine': 0,\n",
       "  'isvip': 1,\n",
       "  'is_hurry_price': 0,\n",
       "  'community_link': '',\n",
       "  'community_name': '惟瓦地',\n",
       "  'tag': ['含車位', '有陽台'],\n",
       "  'saletype': 0,\n",
       "  'delivery': '',\n",
       "  'fci_pai': ''},\n",
       " {'type': '2',\n",
       "  'houseid': 5516654,\n",
       "  'kind': 9,\n",
       "  'kind_name': '住宅',\n",
       "  'shape_name': '電梯大樓',\n",
       "  'region_name': '台北市',\n",
       "  'section_name': '大安區',\n",
       "  'title': '安心找我最好談信義安和站安和遠企華廈四房',\n",
       "  'has_carport': 0,\n",
       "  'room': '4房2廳3衛',\n",
       "  'floor': '3F/7F',\n",
       "  'photoNum': 15,\n",
       "  'mainarea': 36.93,\n",
       "  'carttype': '',\n",
       "  'cartmodel': '',\n",
       "  'is_video': 0,\n",
       "  'photo_url': 'https://hp2.591.com.tw/house/active/2018/09/29/153819406273582606_208x156.crop.jpg',\n",
       "  'refreshtime': '2小時內',\n",
       "  'nick_name': '仲介薄先生',\n",
       "  'isnew': 0,\n",
       "  'posttime': 1538194536,\n",
       "  'area': 50.43,\n",
       "  'houseage': 38,\n",
       "  'showhouseage': '38年',\n",
       "  'address': '安和路二段171巷',\n",
       "  'browsenum': 775,\n",
       "  'unit_price': '78.92萬/坪',\n",
       "  'unitprice': '78.92',\n",
       "  'price': 3980,\n",
       "  'showprice': '3,980',\n",
       "  'is_oversea': '0',\n",
       "  'is_carport': '0',\n",
       "  'is_down_price': 0,\n",
       "  'is_combine': 0,\n",
       "  'isvip': 1,\n",
       "  'is_hurry_price': 0,\n",
       "  'community_link': '',\n",
       "  'community_name': '安和名園',\n",
       "  'tag': ['有陽台', '低公設'],\n",
       "  'saletype': 0,\n",
       "  'delivery': '',\n",
       "  'fci_pai': ''},\n",
       " {'type': '2',\n",
       "  'houseid': 5631231,\n",
       "  'kind': 9,\n",
       "  'kind_name': '住宅',\n",
       "  'shape_name': '電梯大樓',\n",
       "  'region_name': '台北市',\n",
       "  'section_name': '大安區',\n",
       "  'title': '捷運大安站附中學區，屋況佳，買房第一首選',\n",
       "  'has_carport': 1,\n",
       "  'room': '3房2廳2衛',\n",
       "  'floor': '13F/14F',\n",
       "  'photoNum': 0,\n",
       "  'mainarea': 0,\n",
       "  'carttype': '',\n",
       "  'cartmodel': '',\n",
       "  'is_video': 0,\n",
       "  'photo_url': 'https://www.591.com.tw/images/index/house/newVersion/noImgBigNew.png',\n",
       "  'refreshtime': '2小時內',\n",
       "  'nick_name': '代理人陳小姐',\n",
       "  'isnew': 0,\n",
       "  'posttime': 1541145519,\n",
       "  'area': 60,\n",
       "  'houseage': 13,\n",
       "  'showhouseage': '13年',\n",
       "  'address': '復興南路一段',\n",
       "  'browsenum': 107,\n",
       "  'unit_price': '128萬/坪',\n",
       "  'unitprice': '128',\n",
       "  'price': 7680,\n",
       "  'showprice': '7,680',\n",
       "  'is_oversea': '0',\n",
       "  'is_carport': '0',\n",
       "  'is_down_price': 0,\n",
       "  'is_combine': 0,\n",
       "  'isvip': 1,\n",
       "  'is_hurry_price': 0,\n",
       "  'community_link': '/newCommunity-index.html?cid=48250',\n",
       "  'community_name': '巔峰',\n",
       "  'tag': ['明星學區', '含車位', '有陽台'],\n",
       "  'saletype': 0,\n",
       "  'delivery': '',\n",
       "  'fci_pai': ''},\n",
       " {'type': '2',\n",
       "  'houseid': 5367477,\n",
       "  'kind': 9,\n",
       "  'kind_name': '住宅',\n",
       "  'shape_name': '公寓',\n",
       "  'region_name': '台北市',\n",
       "  'section_name': '大安區',\n",
       "  'title': '面嘉興公園高投報收租房',\n",
       "  'has_carport': 0,\n",
       "  'room': '3房3衛',\n",
       "  'floor': '2F/5F',\n",
       "  'photoNum': 14,\n",
       "  'mainarea': 20.54,\n",
       "  'carttype': '',\n",
       "  'cartmodel': '',\n",
       "  'is_video': 0,\n",
       "  'photo_url': 'https://hp2.591.com.tw/house/active/2018/08/13/153413046545028207_208x156.crop.jpg',\n",
       "  'refreshtime': '2小時內',\n",
       "  'nick_name': '屋主黃先生',\n",
       "  'isnew': 0,\n",
       "  'posttime': 1534132519,\n",
       "  'area': 27.75,\n",
       "  'houseage': 40,\n",
       "  'showhouseage': '40年',\n",
       "  'address': '樂業街101巷',\n",
       "  'browsenum': 6567,\n",
       "  'unit_price': '38.92萬/坪',\n",
       "  'unitprice': '38.92',\n",
       "  'price': 1080,\n",
       "  'showprice': '1,080',\n",
       "  'is_oversea': '0',\n",
       "  'is_carport': '0',\n",
       "  'is_down_price': 0,\n",
       "  'is_combine': 0,\n",
       "  'isvip': 1,\n",
       "  'is_hurry_price': 0,\n",
       "  'community_link': '',\n",
       "  'community_name': '',\n",
       "  'tag': [],\n",
       "  'saletype': 0,\n",
       "  'delivery': '',\n",
       "  'fci_pai': ''},\n",
       " {'type': '2',\n",
       "  'houseid': 5541291,\n",
       "  'kind': 9,\n",
       "  'kind_name': '住宅',\n",
       "  'shape_name': '電梯大樓',\n",
       "  'region_name': '台北市',\n",
       "  'section_name': '大安區',\n",
       "  'title': '捷運國父紀念館大巨蛋★東森仁愛黃致敦',\n",
       "  'has_carport': 0,\n",
       "  'room': '2房3廳2衛',\n",
       "  'floor': '5F/12F',\n",
       "  'photoNum': 15,\n",
       "  'mainarea': 35.47,\n",
       "  'carttype': '',\n",
       "  'cartmodel': '',\n",
       "  'is_video': 0,\n",
       "  'photo_url': 'https://hp2.591.com.tw/house/active/2012/07/26/134329433964494103_208x156.crop.jpg',\n",
       "  'refreshtime': '2小時內',\n",
       "  'nick_name': '仲介黃先生',\n",
       "  'isnew': 0,\n",
       "  'posttime': 1538902528,\n",
       "  'area': 44.01,\n",
       "  'houseage': 40,\n",
       "  'showhouseage': '40年',\n",
       "  'address': '忠孝東路四段',\n",
       "  'browsenum': 279,\n",
       "  'unit_price': '113.34萬/坪',\n",
       "  'unitprice': '113.34',\n",
       "  'price': 4988,\n",
       "  'showprice': '4,988',\n",
       "  'is_oversea': '0',\n",
       "  'is_carport': '0',\n",
       "  'is_down_price': 0,\n",
       "  'is_combine': 0,\n",
       "  'isvip': 1,\n",
       "  'is_hurry_price': 0,\n",
       "  'community_link': '/newCommunity-index.html?cid=55224',\n",
       "  'community_name': '光復大樓',\n",
       "  'tag': ['有陽台', '低公設'],\n",
       "  'saletype': 0,\n",
       "  'delivery': '',\n",
       "  'fci_pai': ''},\n",
       " {'type': '2',\n",
       "  'houseid': 5549836,\n",
       "  'kind': 9,\n",
       "  'kind_name': '住宅',\n",
       "  'shape_name': '電梯大樓',\n",
       "  'region_name': '台北市',\n",
       "  'section_name': '大安區',\n",
       "  'title': '東區美妝方正四房...中信陳偉夫',\n",
       "  'has_carport': 0,\n",
       "  'room': '4房2廳2衛',\n",
       "  'floor': '2F/7F',\n",
       "  'photoNum': 7,\n",
       "  'mainarea': 38.33,\n",
       "  'carttype': '',\n",
       "  'cartmodel': '',\n",
       "  'is_video': 0,\n",
       "  'photo_url': 'https://hp2.591.com.tw/house/active/2018/10/09/153905679791065204_208x156.crop.jpg',\n",
       "  'refreshtime': '2小時內',\n",
       "  'nick_name': '仲介陳偉夫',\n",
       "  'isnew': 0,\n",
       "  'posttime': 1539056895,\n",
       "  'area': 50.18,\n",
       "  'houseage': 36,\n",
       "  'showhouseage': '36年',\n",
       "  'address': '復興南路一段107巷',\n",
       "  'browsenum': 213,\n",
       "  'unit_price': '93.03萬/坪',\n",
       "  'unitprice': '93.03',\n",
       "  'price': 4668,\n",
       "  'showprice': '4,668',\n",
       "  'is_oversea': '0',\n",
       "  'is_carport': '0',\n",
       "  'is_down_price': 0,\n",
       "  'is_combine': 0,\n",
       "  'isvip': 1,\n",
       "  'is_hurry_price': 0,\n",
       "  'community_link': '',\n",
       "  'community_name': '香檳華廈',\n",
       "  'tag': ['有陽台', '低公設'],\n",
       "  'saletype': 0,\n",
       "  'delivery': '',\n",
       "  'fci_pai': ''},\n",
       " {'type': '2',\n",
       "  'houseid': 5622226,\n",
       "  'kind': 9,\n",
       "  'kind_name': '住宅',\n",
       "  'shape_name': '電梯大樓',\n",
       "  'region_name': '台北市',\n",
       "  'section_name': '大安區',\n",
       "  'title': '科技大樓站溫馨2房頂佳',\n",
       "  'has_carport': 0,\n",
       "  'room': '3房1廳1衛',\n",
       "  'floor': '7F/7F',\n",
       "  'photoNum': 15,\n",
       "  'mainarea': 0,\n",
       "  'carttype': '',\n",
       "  'cartmodel': '',\n",
       "  'is_video': 0,\n",
       "  'photo_url': 'https://hp2.591.com.tw/house/active/2017/12/17/151349227751950409_208x156.crop.jpg',\n",
       "  'refreshtime': '2小時內',\n",
       "  'nick_name': '屋主宋先生',\n",
       "  'isnew': 0,\n",
       "  'posttime': 1540942689,\n",
       "  'area': 20.83,\n",
       "  'houseage': 39,\n",
       "  'showhouseage': '39年',\n",
       "  'address': '復興南路二段160巷',\n",
       "  'browsenum': 303,\n",
       "  'unit_price': '112.82萬/坪',\n",
       "  'unitprice': '112.82',\n",
       "  'price': 2350,\n",
       "  'showprice': '2,350',\n",
       "  'is_oversea': '0',\n",
       "  'is_carport': '0',\n",
       "  'is_down_price': 0,\n",
       "  'is_combine': 0,\n",
       "  'isvip': 1,\n",
       "  'is_hurry_price': 0,\n",
       "  'community_link': '',\n",
       "  'community_name': '',\n",
       "  'tag': [],\n",
       "  'saletype': 0,\n",
       "  'delivery': '',\n",
       "  'fci_pai': ''},\n",
       " {'type': '2',\n",
       "  'houseid': 5654176,\n",
       "  'kind': 9,\n",
       "  'kind_name': '住宅',\n",
       "  'shape_name': '公寓',\n",
       "  'region_name': '台北市',\n",
       "  'section_name': '大安區',\n",
       "  'title': '專任委託附小庭院樓上樓',\n",
       "  'has_carport': 0,\n",
       "  'room': '5房2廳2衛',\n",
       "  'floor': '1F/4F',\n",
       "  'photoNum': 5,\n",
       "  'mainarea': 45.11,\n",
       "  'carttype': '',\n",
       "  'cartmodel': '',\n",
       "  'is_video': 0,\n",
       "  'photo_url': 'https://hp2.591.com.tw/house/active/2018/11/09/154173578331337306_208x156.crop.jpg',\n",
       "  'refreshtime': '2小時內',\n",
       "  'nick_name': '仲介黃先生',\n",
       "  'isnew': 0,\n",
       "  'posttime': 1541734854,\n",
       "  'area': 52.45,\n",
       "  'houseage': 43,\n",
       "  'showhouseage': '43年',\n",
       "  'address': '和平東路二段96巷',\n",
       "  'browsenum': 51,\n",
       "  'unit_price': '95.33萬/坪',\n",
       "  'unitprice': '95.33',\n",
       "  'price': 5000,\n",
       "  'showprice': '5,000',\n",
       "  'is_oversea': '0',\n",
       "  'is_carport': '0',\n",
       "  'is_down_price': 0,\n",
       "  'is_combine': 0,\n",
       "  'isvip': 1,\n",
       "  'is_hurry_price': 0,\n",
       "  'community_link': '',\n",
       "  'community_name': '',\n",
       "  'tag': ['明星學區'],\n",
       "  'saletype': 0,\n",
       "  'delivery': '',\n",
       "  'fci_pai': ''},\n",
       " {'type': '2',\n",
       "  'houseid': 5535716,\n",
       "  'kind': 9,\n",
       "  'kind_name': '住宅',\n",
       "  'shape_name': '電梯大樓',\n",
       "  'region_name': '台北市',\n",
       "  'section_name': '大安區',\n",
       "  'title': '大安青田御品★13002',\n",
       "  'has_carport': 0,\n",
       "  'room': '3房2廳2衛',\n",
       "  'floor': '7F/12F',\n",
       "  'photoNum': 16,\n",
       "  'mainarea': 29.82,\n",
       "  'carttype': '',\n",
       "  'cartmodel': '',\n",
       "  'is_video': 0,\n",
       "  'photo_url': 'https://hp1.591.com.tw/house/active/2018/10/05/153870702057426307_208x156.crop.jpg',\n",
       "  'refreshtime': '2小時內',\n",
       "  'nick_name': '仲介張先生',\n",
       "  'isnew': 0,\n",
       "  'posttime': 1538706959,\n",
       "  'area': 39.67,\n",
       "  'houseage': 34,\n",
       "  'showhouseage': '34年',\n",
       "  'address': '和平東路一段',\n",
       "  'browsenum': 349,\n",
       "  'unit_price': '100.33萬/坪',\n",
       "  'unitprice': '100.33',\n",
       "  'price': 3980,\n",
       "  'showprice': '3,980',\n",
       "  'is_oversea': '0',\n",
       "  'is_carport': '0',\n",
       "  'is_down_price': 0,\n",
       "  'is_combine': 0,\n",
       "  'isvip': 1,\n",
       "  'is_hurry_price': 0,\n",
       "  'community_link': '',\n",
       "  'community_name': '青田福邸',\n",
       "  'tag': ['明星學區', '有陽台', '低公設'],\n",
       "  'saletype': 0,\n",
       "  'delivery': '',\n",
       "  'fci_pai': ''},\n",
       " {'type': '2',\n",
       "  'houseid': 5645047,\n",
       "  'kind': 9,\n",
       "  'kind_name': '住宅',\n",
       "  'shape_name': '電梯大樓',\n",
       "  'region_name': '台北市',\n",
       "  'section_name': '大安區',\n",
       "  'title': '出價談！仁愛學區4房華廈★急售12812',\n",
       "  'has_carport': 0,\n",
       "  'room': '4房2廳2衛',\n",
       "  'floor': '6F/7F',\n",
       "  'photoNum': 16,\n",
       "  'mainarea': 26.43,\n",
       "  'carttype': '',\n",
       "  'cartmodel': '',\n",
       "  'is_video': 0,\n",
       "  'photo_url': 'https://hp1.591.com.tw/house/active/2018/05/04/152542055822148900_208x156.crop.jpg',\n",
       "  'refreshtime': '2小時內',\n",
       "  'nick_name': '仲介羅小姐',\n",
       "  'isnew': 0,\n",
       "  'posttime': 1541496747,\n",
       "  'area': 38.73,\n",
       "  'houseage': 38,\n",
       "  'showhouseage': '38年',\n",
       "  'address': '延吉街',\n",
       "  'browsenum': 68,\n",
       "  'unit_price': '92.64萬/坪',\n",
       "  'unitprice': '92.64',\n",
       "  'price': 3588,\n",
       "  'showprice': '3,588',\n",
       "  'is_oversea': '0',\n",
       "  'is_carport': '0',\n",
       "  'is_down_price': 0,\n",
       "  'is_combine': 0,\n",
       "  'isvip': 1,\n",
       "  'is_hurry_price': 0,\n",
       "  'community_link': '',\n",
       "  'community_name': '仁愛學區4房華廈',\n",
       "  'tag': ['有陽台', '低公設'],\n",
       "  'saletype': 0,\n",
       "  'delivery': '',\n",
       "  'fci_pai': ''},\n",
       " {'type': '2',\n",
       "  'houseid': 5592957,\n",
       "  'kind': 9,\n",
       "  'kind_name': '住宅',\n",
       "  'shape_name': '電梯大樓',\n",
       "  'region_name': '台北市',\n",
       "  'section_name': '大安區',\n",
       "  'title': '國北教大實驗小學科技大樓大安森林公園',\n",
       "  'has_carport': 0,\n",
       "  'room': '2房2廳2衛',\n",
       "  'floor': '10F/12F',\n",
       "  'photoNum': 15,\n",
       "  'mainarea': 0,\n",
       "  'carttype': '',\n",
       "  'cartmodel': '',\n",
       "  'is_video': 0,\n",
       "  'photo_url': 'https://hp2.591.com.tw/house/active/2018/10/21/154013671513393209_208x156.crop.jpg',\n",
       "  'refreshtime': '2小時內',\n",
       "  'nick_name': '屋主林先生',\n",
       "  'isnew': 0,\n",
       "  'posttime': 1540135382,\n",
       "  'area': 27.59,\n",
       "  'houseage': 33,\n",
       "  'showhouseage': '33年',\n",
       "  'address': '和平東路二段',\n",
       "  'browsenum': 557,\n",
       "  'unit_price': '93.8萬/坪',\n",
       "  'unitprice': '93.8',\n",
       "  'price': 2588,\n",
       "  'showprice': '2,588',\n",
       "  'is_oversea': '0',\n",
       "  'is_carport': '0',\n",
       "  'is_down_price': 0,\n",
       "  'is_combine': 0,\n",
       "  'isvip': 1,\n",
       "  'is_hurry_price': 0,\n",
       "  'community_link': '',\n",
       "  'community_name': '東翰大樓',\n",
       "  'tag': [],\n",
       "  'saletype': 0,\n",
       "  'delivery': '',\n",
       "  'fci_pai': ''},\n",
       " {'type': '2',\n",
       "  'houseid': 5636202,\n",
       "  'kind': 9,\n",
       "  'kind_name': '住宅',\n",
       "  'shape_name': '電梯大樓',\n",
       "  'region_name': '台北市',\n",
       "  'section_name': '大安區',\n",
       "  'title': 'SOGO捷運漂亮裝潢屋二房',\n",
       "  'has_carport': 0,\n",
       "  'room': '2房2廳1衛',\n",
       "  'floor': '4F/12F',\n",
       "  'photoNum': 14,\n",
       "  'mainarea': 12.51,\n",
       "  'carttype': '',\n",
       "  'cartmodel': '',\n",
       "  'is_video': 0,\n",
       "  'photo_url': 'https://hp2.591.com.tw/house/active/2018/07/23/153233140603253306_208x156.crop.jpg',\n",
       "  'refreshtime': '2小時內',\n",
       "  'nick_name': '仲介陳小姐',\n",
       "  'isnew': 0,\n",
       "  'posttime': 1541263652,\n",
       "  'area': 17.5,\n",
       "  'houseage': 48,\n",
       "  'showhouseage': '48年',\n",
       "  'address': '忠孝東路四段',\n",
       "  'browsenum': 107,\n",
       "  'unit_price': '112.46萬/坪',\n",
       "  'unitprice': '112.46',\n",
       "  'price': 1968,\n",
       "  'showprice': '1,968',\n",
       "  'is_oversea': '0',\n",
       "  'is_carport': '0',\n",
       "  'is_down_price': 0,\n",
       "  'is_combine': 0,\n",
       "  'isvip': 1,\n",
       "  'is_hurry_price': 0,\n",
       "  'community_link': '',\n",
       "  'community_name': '香檳大廈',\n",
       "  'tag': [],\n",
       "  'saletype': 0,\n",
       "  'delivery': '',\n",
       "  'fci_pai': ''},\n",
       " {'type': '2',\n",
       "  'houseid': 5633427,\n",
       "  'kind': 9,\n",
       "  'kind_name': '住宅',\n",
       "  'shape_name': '電梯大樓',\n",
       "  'region_name': '台北市',\n",
       "  'section_name': '大安區',\n",
       "  'title': '忠孝敦化捷運國父紀念館捷運站★東森仁愛黃',\n",
       "  'has_carport': 0,\n",
       "  'room': '4房2廳2衛',\n",
       "  'floor': '6F/7F',\n",
       "  'photoNum': 4,\n",
       "  'mainarea': 26.43,\n",
       "  'carttype': '',\n",
       "  'cartmodel': '',\n",
       "  'is_video': 0,\n",
       "  'photo_url': 'https://hp2.591.com.tw/house/active/2018/11/03/154121062964627600_208x156.crop.jpg',\n",
       "  'refreshtime': '2小時內',\n",
       "  'nick_name': '仲介黃先生',\n",
       "  'isnew': 0,\n",
       "  'posttime': 1541211065,\n",
       "  'area': 38.73,\n",
       "  'houseage': 38,\n",
       "  'showhouseage': '38年',\n",
       "  'address': '延吉街',\n",
       "  'browsenum': 87,\n",
       "  'unit_price': '92.64萬/坪',\n",
       "  'unitprice': '92.64',\n",
       "  'price': 3588,\n",
       "  'showprice': '3,588',\n",
       "  'is_oversea': '0',\n",
       "  'is_carport': '0',\n",
       "  'is_down_price': 0,\n",
       "  'is_combine': 0,\n",
       "  'isvip': 1,\n",
       "  'is_hurry_price': 0,\n",
       "  'community_link': '',\n",
       "  'community_name': '仁愛電梯4房',\n",
       "  'tag': ['有陽台', '低公設'],\n",
       "  'saletype': 0,\n",
       "  'delivery': '',\n",
       "  'fci_pai': ''},\n",
       " {'type': '2',\n",
       "  'houseid': 5642353,\n",
       "  'kind': 9,\n",
       "  'kind_name': '住宅',\n",
       "  'shape_name': '電梯大樓',\n",
       "  'region_name': '台北市',\n",
       "  'section_name': '大安區',\n",
       "  'title': '泰順街龍安國小金華國中★東森仁愛黃致敦',\n",
       "  'has_carport': 0,\n",
       "  'room': '3房2廳2衛',\n",
       "  'floor': '2F/7F',\n",
       "  'photoNum': 4,\n",
       "  'mainarea': 27.7,\n",
       "  'carttype': '',\n",
       "  'cartmodel': '',\n",
       "  'is_video': 0,\n",
       "  'photo_url': 'https://hp1.591.com.tw/house/active/2018/11/06/154146744107676301_208x156.crop.jpg',\n",
       "  'refreshtime': '2小時內',\n",
       "  'nick_name': '仲介黃先生',\n",
       "  'isnew': 0,\n",
       "  'posttime': 1541466043,\n",
       "  'area': 40.54,\n",
       "  'houseage': 34,\n",
       "  'showhouseage': '34年',\n",
       "  'address': '泰順街38巷',\n",
       "  'browsenum': 38,\n",
       "  'unit_price': '83.03萬/坪',\n",
       "  'unitprice': '83.03',\n",
       "  'price': 3366,\n",
       "  'showprice': '3,366',\n",
       "  'is_oversea': '0',\n",
       "  'is_carport': '0',\n",
       "  'is_down_price': 0,\n",
       "  'is_combine': 0,\n",
       "  'isvip': 1,\n",
       "  'is_hurry_price': 0,\n",
       "  'community_link': '',\n",
       "  'community_name': '泰順街美廈',\n",
       "  'tag': ['有陽台', '低公設'],\n",
       "  'saletype': 0,\n",
       "  'delivery': '',\n",
       "  'fci_pai': ''},\n",
       " {'type': '2',\n",
       "  'houseid': 5597183,\n",
       "  'kind': 9,\n",
       "  'kind_name': '住宅',\n",
       "  'shape_name': '電梯大樓',\n",
       "  'region_name': '台北市',\n",
       "  'section_name': '大安區',\n",
       "  'title': '大安森林公園旁新生國小金華國中學區大樓',\n",
       "  'has_carport': 0,\n",
       "  'room': '4房2廳3衛',\n",
       "  'floor': '9F/12F',\n",
       "  'photoNum': 1,\n",
       "  'mainarea': 38.31,\n",
       "  'carttype': '',\n",
       "  'cartmodel': '',\n",
       "  'is_video': 0,\n",
       "  'photo_url': 'https://hp1.591.com.tw/house/active/2018/10/23/154026560471815805_208x156.crop.jpg',\n",
       "  'refreshtime': '2小時內',\n",
       "  'nick_name': '仲介劉先生',\n",
       "  'isnew': 0,\n",
       "  'posttime': 1540264841,\n",
       "  'area': 41.48,\n",
       "  'houseage': 42,\n",
       "  'showhouseage': '42年',\n",
       "  'address': '新生南路二段',\n",
       "  'browsenum': 182,\n",
       "  'unit_price': '110.61萬/坪',\n",
       "  'unitprice': '110.61',\n",
       "  'price': 4588,\n",
       "  'showprice': '4,588',\n",
       "  'is_oversea': '0',\n",
       "  'is_carport': '0',\n",
       "  'is_down_price': 0,\n",
       "  'is_combine': 0,\n",
       "  'isvip': 1,\n",
       "  'is_hurry_price': 0,\n",
       "  'community_link': '',\n",
       "  'community_name': '新生大廈',\n",
       "  'tag': ['明星學區', '有陽台'],\n",
       "  'saletype': 0,\n",
       "  'delivery': '',\n",
       "  'fci_pai': ''},\n",
       " {'type': '2',\n",
       "  'houseid': 5587036,\n",
       "  'kind': 9,\n",
       "  'kind_name': '住宅',\n",
       "  'shape_name': '電梯大樓',\n",
       "  'region_name': '台北市',\n",
       "  'section_name': '大安區',\n",
       "  'title': '大安區名邸~和平大苑~鳥瞰師大校園~',\n",
       "  'has_carport': 1,\n",
       "  'room': '5房2廳5衛',\n",
       "  'floor': '10F/38F',\n",
       "  'photoNum': 16,\n",
       "  'mainarea': 89.53,\n",
       "  'carttype': '',\n",
       "  'cartmodel': '',\n",
       "  'is_video': 0,\n",
       "  'photo_url': 'https://hp1.591.com.tw/house/active/2018/07/05/153078209058234206_208x156.crop.jpg',\n",
       "  'refreshtime': '2小時內',\n",
       "  'nick_name': '仲介陳小姐',\n",
       "  'isnew': 0,\n",
       "  'posttime': 1539942140,\n",
       "  'area': 189.68,\n",
       "  'houseage': 3,\n",
       "  'showhouseage': '3年',\n",
       "  'address': '和平東路一段',\n",
       "  'browsenum': 214,\n",
       "  'unit_price': '172.99萬/坪',\n",
       "  'unitprice': '172.99',\n",
       "  'price': 28500,\n",
       "  'showprice': '28,500',\n",
       "  'is_oversea': '0',\n",
       "  'is_carport': '0',\n",
       "  'is_down_price': 0,\n",
       "  'is_combine': 0,\n",
       "  'isvip': 1,\n",
       "  'is_hurry_price': 0,\n",
       "  'community_link': '',\n",
       "  'community_name': '和平大苑',\n",
       "  'tag': [],\n",
       "  'saletype': 0,\n",
       "  'delivery': '',\n",
       "  'fci_pai': ''},\n",
       " {'type': '2',\n",
       "  'houseid': 5619517,\n",
       "  'kind': 9,\n",
       "  'kind_name': '住宅',\n",
       "  'shape_name': '電梯大樓',\n",
       "  'region_name': '台北市',\n",
       "  'section_name': '大安區',\n",
       "  'title': '高質感社區24小時物業管理',\n",
       "  'has_carport': 1,\n",
       "  'room': '2房1廳2衛',\n",
       "  'floor': '12F/12F',\n",
       "  'photoNum': 6,\n",
       "  'mainarea': 12.88,\n",
       "  'carttype': '',\n",
       "  'cartmodel': '',\n",
       "  'is_video': 0,\n",
       "  'photo_url': 'https://hp2.591.com.tw/house/active/2018/10/30/154087104594607005_208x156.crop.jpg',\n",
       "  'refreshtime': '3小時內',\n",
       "  'nick_name': '屋主劉小姐',\n",
       "  'isnew': 0,\n",
       "  'posttime': 1540954885,\n",
       "  'area': 35.48,\n",
       "  'houseage': 14,\n",
       "  'showhouseage': '14年',\n",
       "  'address': '和平東路三段',\n",
       "  'browsenum': 271,\n",
       "  'unit_price': '103.88萬/坪',\n",
       "  'unitprice': '103.88',\n",
       "  'price': 2360,\n",
       "  'showprice': '2,360',\n",
       "  'is_oversea': '0',\n",
       "  'is_carport': '0',\n",
       "  'is_down_price': 0,\n",
       "  'is_combine': 0,\n",
       "  'isvip': 1,\n",
       "  'is_hurry_price': 0,\n",
       "  'community_link': '/newCommunity-index.html?cid=9022',\n",
       "  'community_name': '遠企之戀',\n",
       "  'tag': ['含車位'],\n",
       "  'saletype': 0,\n",
       "  'delivery': '',\n",
       "  'fci_pai': ''},\n",
       " {'type': '2',\n",
       "  'houseid': 5641340,\n",
       "  'kind': 9,\n",
       "  'kind_name': '住宅',\n",
       "  'shape_name': '電梯大樓',\n",
       "  'region_name': '台北市',\n",
       "  'section_name': '大安區',\n",
       "  'title': '信義安和捷運漂亮新裝潢庭院1樓+車位',\n",
       "  'has_carport': 0,\n",
       "  'room': '3房2廳3衛',\n",
       "  'floor': '1F/7F',\n",
       "  'photoNum': 16,\n",
       "  'mainarea': 29.52,\n",
       "  'carttype': '',\n",
       "  'cartmodel': '',\n",
       "  'is_video': 0,\n",
       "  'photo_url': 'https://hp2.591.com.tw/house/active/2018/11/05/154141172799535709_208x156.crop.jpg',\n",
       "  'refreshtime': '3小時內',\n",
       "  'nick_name': '仲介朱先生',\n",
       "  'isnew': 0,\n",
       "  'posttime': 1541411787,\n",
       "  'area': 38.31,\n",
       "  'houseage': 41,\n",
       "  'showhouseage': '41年',\n",
       "  'address': '信義路四段265巷',\n",
       "  'browsenum': 72,\n",
       "  'unit_price': '114.02萬/坪',\n",
       "  'unitprice': '114.02',\n",
       "  'price': 4368,\n",
       "  'showprice': '4,368',\n",
       "  'is_oversea': '0',\n",
       "  'is_carport': '0',\n",
       "  'is_down_price': 0,\n",
       "  'is_combine': 0,\n",
       "  'isvip': 1,\n",
       "  'is_hurry_price': 0,\n",
       "  'community_link': '',\n",
       "  'community_name': '庭院1樓★13057',\n",
       "  'tag': ['明星學區', '有陽台', '低公設'],\n",
       "  'saletype': 0,\n",
       "  'delivery': '',\n",
       "  'fci_pai': ''},\n",
       " {'type': '2',\n",
       "  'houseid': 5385370,\n",
       "  'kind': 9,\n",
       "  'kind_name': '住宅',\n",
       "  'shape_name': '電梯大樓',\n",
       "  'region_name': '台北市',\n",
       "  'section_name': '大安區',\n",
       "  'title': '近遠企商圈/六張犂捷運站電梯用置產屋',\n",
       "  'has_carport': 0,\n",
       "  'room': '5房5廳5衛',\n",
       "  'floor': '2F/7F',\n",
       "  'photoNum': 11,\n",
       "  'mainarea': 45.28,\n",
       "  'carttype': '',\n",
       "  'cartmodel': '',\n",
       "  'is_video': 0,\n",
       "  'photo_url': 'https://hp2.591.com.tw/house/active/2018/08/18/153457591269787906_208x156.crop.jpg',\n",
       "  'refreshtime': '3小時內',\n",
       "  'nick_name': '仲介郭小姐',\n",
       "  'isnew': 0,\n",
       "  'posttime': 1534575358,\n",
       "  'area': 57.6,\n",
       "  'houseage': 38,\n",
       "  'showhouseage': '38年',\n",
       "  'address': '通化街',\n",
       "  'browsenum': 524,\n",
       "  'unit_price': '82.47萬/坪',\n",
       "  'unitprice': '82.47',\n",
       "  'price': 4750,\n",
       "  'showprice': '4,750',\n",
       "  'is_oversea': '0',\n",
       "  'is_carport': '0',\n",
       "  'is_down_price': 0,\n",
       "  'is_combine': 0,\n",
       "  'isvip': 1,\n",
       "  'is_hurry_price': 0,\n",
       "  'community_link': '',\n",
       "  'community_name': '',\n",
       "  'tag': ['有陽台'],\n",
       "  'saletype': 0,\n",
       "  'delivery': '',\n",
       "  'fci_pai': ''},\n",
       " {'type': '2',\n",
       "  'houseid': 5560092,\n",
       "  'kind': 9,\n",
       "  'kind_name': '住宅',\n",
       "  'shape_name': '公寓',\n",
       "  'region_name': '台北市',\n",
       "  'section_name': '大安區',\n",
       "  'title': '古亭公寓.收訂',\n",
       "  'has_carport': 0,\n",
       "  'room': '3房2廳2衛',\n",
       "  'floor': '5F/5F',\n",
       "  'photoNum': 13,\n",
       "  'mainarea': 33.04,\n",
       "  'carttype': '',\n",
       "  'cartmodel': '',\n",
       "  'is_video': 0,\n",
       "  'photo_url': 'https://hp2.591.com.tw/house/active/2018/10/12/153931195266147508_208x156.crop.jpg',\n",
       "  'refreshtime': '3小時內',\n",
       "  'nick_name': '仲介呂小姐',\n",
       "  'isnew': 0,\n",
       "  'posttime': 1539312504,\n",
       "  'area': 37.62,\n",
       "  'houseage': 39,\n",
       "  'showhouseage': '39年',\n",
       "  'address': '泰順街50巷',\n",
       "  'browsenum': 279,\n",
       "  'unit_price': '71.45萬/坪',\n",
       "  'unitprice': '71.45',\n",
       "  'price': 2688,\n",
       "  'showprice': '2,688',\n",
       "  'is_oversea': '0',\n",
       "  'is_carport': '0',\n",
       "  'is_down_price': 0,\n",
       "  'is_combine': 0,\n",
       "  'isvip': 1,\n",
       "  'is_hurry_price': 0,\n",
       "  'community_link': '',\n",
       "  'community_name': '台電大樓公寓',\n",
       "  'tag': ['有陽台'],\n",
       "  'saletype': 0,\n",
       "  'delivery': '',\n",
       "  'fci_pai': ''},\n",
       " {'type': '2',\n",
       "  'houseid': 5585703,\n",
       "  'kind': 9,\n",
       "  'kind_name': '住宅',\n",
       "  'shape_name': '電梯大樓',\n",
       "  'region_name': '台北市',\n",
       "  'section_name': '大安區',\n",
       "  'title': '大安森林公園-綠蔭大四房美廈',\n",
       "  'has_carport': 0,\n",
       "  'room': '4房2廳2衛',\n",
       "  'floor': '6F/7F',\n",
       "  'photoNum': 13,\n",
       "  'mainarea': 40.82,\n",
       "  'carttype': '',\n",
       "  'cartmodel': '',\n",
       "  'is_video': 0,\n",
       "  'photo_url': 'https://hp1.591.com.tw/house/active/2018/10/19/153992878478886608_208x156.crop.jpg',\n",
       "  'refreshtime': '3小時內',\n",
       "  'nick_name': '代理人陳小姐',\n",
       "  'isnew': 0,\n",
       "  'posttime': 1539931708,\n",
       "  'area': 56.5,\n",
       "  'houseage': 35,\n",
       "  'showhouseage': '35年',\n",
       "  'address': '新生南路一段97巷',\n",
       "  'browsenum': 263,\n",
       "  'unit_price': '82.83萬/坪',\n",
       "  'unitprice': '82.83',\n",
       "  'price': 4680,\n",
       "  'showprice': '4,680',\n",
       "  'is_oversea': '0',\n",
       "  'is_carport': '0',\n",
       "  'is_down_price': 0,\n",
       "  'is_combine': 0,\n",
       "  'isvip': 1,\n",
       "  'is_hurry_price': 0,\n",
       "  'community_link': '/newCommunity-index.html?cid=6775',\n",
       "  'community_name': '海關社區',\n",
       "  'tag': ['明星學區', '有陽台', '低公設'],\n",
       "  'saletype': 0,\n",
       "  'delivery': '',\n",
       "  'fci_pai': ''},\n",
       " {'type': '2',\n",
       "  'houseid': 5623249,\n",
       "  'kind': 9,\n",
       "  'kind_name': '住宅',\n",
       "  'shape_name': '電梯大樓',\n",
       "  'region_name': '台北市',\n",
       "  'section_name': '大安區',\n",
       "  'title': '🔥大安獨棟豪邸~附小龍門~中信余廷楠',\n",
       "  'has_carport': 1,\n",
       "  'room': '4房2廳2衛',\n",
       "  'floor': '3F/7F',\n",
       "  'photoNum': 10,\n",
       "  'mainarea': 44.26,\n",
       "  'carttype': '',\n",
       "  'cartmodel': '',\n",
       "  'is_video': 0,\n",
       "  'photo_url': 'https://hp1.591.com.tw/house/active/2018/10/31/154096192627303309_208x156.crop.jpg',\n",
       "  'refreshtime': '3小時內',\n",
       "  'nick_name': '仲介余先生',\n",
       "  'isnew': 0,\n",
       "  'posttime': 1540960711,\n",
       "  'area': 100.82,\n",
       "  'houseage': 8,\n",
       "  'showhouseage': '8年',\n",
       "  'address': '和平東路二段96巷',\n",
       "  'browsenum': 245,\n",
       "  'unit_price': '94.03萬/坪',\n",
       "  'unitprice': '94.03',\n",
       "  'price': 8400,\n",
       "  'showprice': '8,400',\n",
       "  'is_oversea': '0',\n",
       "  'is_carport': '0',\n",
       "  'original_price': 8800,\n",
       "  'is_down_price': 1,\n",
       "  'down_price_percent': 4.55,\n",
       "  'is_combine': 0,\n",
       "  'isvip': 1,\n",
       "  'is_hurry_price': 1,\n",
       "  'community_link': '',\n",
       "  'community_name': '佶園',\n",
       "  'tag': ['含車位', '有陽台'],\n",
       "  'saletype': 0,\n",
       "  'delivery': '',\n",
       "  'fci_pai': ''},\n",
       " {'type': '2',\n",
       "  'houseid': 5516857,\n",
       "  'kind': 9,\n",
       "  'kind_name': '住宅',\n",
       "  'shape_name': '電梯大樓',\n",
       "  'region_name': '台北市',\n",
       "  'section_name': '大安區',\n",
       "  'title': '專約.璞園信義傳世豪邸.稀有後棟中高樓層',\n",
       "  'has_carport': 1,\n",
       "  'room': '3房2廳2衛',\n",
       "  'floor': '7F/20F',\n",
       "  'photoNum': 14,\n",
       "  'mainarea': 35.5,\n",
       "  'carttype': '',\n",
       "  'cartmodel': '',\n",
       "  'is_video': 0,\n",
       "  'photo_url': 'https://hp2.591.com.tw/house/active/2018/09/29/153819881895313502_208x156.crop.jpg',\n",
       "  'refreshtime': '3小時內',\n",
       "  'nick_name': '仲介歐先生',\n",
       "  'isnew': 0,\n",
       "  'posttime': 1538199122,\n",
       "  'area': 62.41,\n",
       "  'houseage': 0,\n",
       "  'showhouseage': '3個月',\n",
       "  'address': '信義路二段',\n",
       "  'browsenum': 394,\n",
       "  'unit_price': '152.22萬/坪',\n",
       "  'unitprice': '152.22',\n",
       "  'price': 9500,\n",
       "  'showprice': '9,500',\n",
       "  'is_oversea': '0',\n",
       "  'is_carport': '0',\n",
       "  'is_down_price': 0,\n",
       "  'is_combine': 0,\n",
       "  'isvip': 1,\n",
       "  'is_hurry_price': 0,\n",
       "  'community_link': '',\n",
       "  'community_name': '璞園信義',\n",
       "  'tag': ['含車位', '有陽台', '製震宅'],\n",
       "  'saletype': 0,\n",
       "  'delivery': '',\n",
       "  'fci_pai': ''},\n",
       " {'type': '2',\n",
       "  'houseid': 5545230,\n",
       "  'kind': 9,\n",
       "  'kind_name': '住宅',\n",
       "  'shape_name': '電梯大樓',\n",
       "  'region_name': '台北市',\n",
       "  'section_name': '大安區',\n",
       "  'title': '大安富中一樓享近10坪庭院',\n",
       "  'has_carport': 0,\n",
       "  'room': '1房1廳1衛',\n",
       "  'floor': '1F/7F',\n",
       "  'photoNum': 8,\n",
       "  'mainarea': 0,\n",
       "  'carttype': '',\n",
       "  'cartmodel': '',\n",
       "  'is_video': 0,\n",
       "  'photo_url': 'https://hp1.591.com.tw/house/active/2018/10/08/153896602798267909_208x156.crop.jpg',\n",
       "  'refreshtime': '3小時內',\n",
       "  'nick_name': '屋主李太太',\n",
       "  'isnew': 0,\n",
       "  'posttime': 1538966034,\n",
       "  'area': 19.88,\n",
       "  'houseage': 1,\n",
       "  'showhouseage': '1年',\n",
       "  'address': '信義路三段',\n",
       "  'browsenum': 644,\n",
       "  'unit_price': '170.02萬/坪',\n",
       "  'unitprice': '170.02',\n",
       "  'price': 3380,\n",
       "  'showprice': '3,380',\n",
       "  'is_oversea': '0',\n",
       "  'is_carport': '0',\n",
       "  'is_down_price': 0,\n",
       "  'is_combine': 0,\n",
       "  'isvip': 1,\n",
       "  'is_hurry_price': 0,\n",
       "  'community_link': '/newCommunity-index.html?cid=110742',\n",
       "  'community_name': '大安富中',\n",
       "  'tag': [],\n",
       "  'saletype': 0,\n",
       "  'delivery': '',\n",
       "  'fci_pai': ''},\n",
       " {'type': '2',\n",
       "  'houseid': 5456878,\n",
       "  'kind': 9,\n",
       "  'kind_name': '住宅',\n",
       "  'shape_name': '公寓',\n",
       "  'region_name': '台北市',\n",
       "  'section_name': '大安區',\n",
       "  'title': 'SOGO百貨捷運公寓美3房',\n",
       "  'has_carport': 0,\n",
       "  'room': '3房2廳2衛',\n",
       "  'floor': '3F/4F',\n",
       "  'photoNum': 13,\n",
       "  'mainarea': 34.78,\n",
       "  'carttype': '',\n",
       "  'cartmodel': '',\n",
       "  'is_video': 0,\n",
       "  'photo_url': 'https://hp1.591.com.tw/house/active/2018/03/23/152180203822320401_208x156.crop.jpg',\n",
       "  'refreshtime': '3小時內',\n",
       "  'nick_name': '仲介黃小姐',\n",
       "  'isnew': 0,\n",
       "  'posttime': 1536891815,\n",
       "  'area': 36.9,\n",
       "  'houseage': 52,\n",
       "  'showhouseage': '52年',\n",
       "  'address': '大安路一段31巷',\n",
       "  'browsenum': 411,\n",
       "  'unit_price': '88.89萬/坪',\n",
       "  'unitprice': '88.89',\n",
       "  'price': 3280,\n",
       "  'showprice': '3,280',\n",
       "  'is_oversea': '0',\n",
       "  'is_carport': '0',\n",
       "  'is_down_price': 0,\n",
       "  'is_combine': 0,\n",
       "  'isvip': 1,\n",
       "  'is_hurry_price': 0,\n",
       "  'community_link': '',\n",
       "  'community_name': '',\n",
       "  'tag': ['有陽台'],\n",
       "  'saletype': 0,\n",
       "  'delivery': '',\n",
       "  'fci_pai': ''}]"
      ]
     },
     "execution_count": 320,
     "metadata": {},
     "output_type": "execute_result"
    }
   ],
   "source": [
    "import requests\n",
    "headers = {\n",
    "   'User-Agent': 'Mozilla/5.0 (Windows NT 6.1; Win64; x64) AppleWebKit/537.36 (KHTML, like Gecko) Chrome/70.0.3538.77 Safari/537.36' \n",
    "}\n",
    "res = requests.get('https://sale.591.com.tw/home/search/list?type=2&&shType=list&section=5&regionid=1&kind=9&firstRow=30&totalRows=1799&timestamp=1541840636605', headers = headers)\n",
    "#res.json()['data']['house_list']"
   ]
  },
  {
   "cell_type": "code",
   "execution_count": 321,
   "metadata": {},
   "outputs": [],
   "source": [
    "houseurl = 'https://sale.591.com.tw/home/search/list?type=2&&shType=list&section=5&regionid=1&kind=9&firstRow={}&totalRows=1799'\n",
    "housedf = []\n",
    "for i in range(0, int(1799 / 30)+ 1):\n",
    "    res = requests.get(houseurl.format(i * 30), headers = headers)\n",
    "    df = pd.DataFrame(res.json()['data']['house_list'])\n",
    "    housedf.append(df)"
   ]
  },
  {
   "cell_type": "code",
   "execution_count": 365,
   "metadata": {},
   "outputs": [
    {
     "name": "stderr",
     "output_type": "stream",
     "text": [
      "C:\\ProgramData\\Anaconda3_2\\lib\\site-packages\\ipykernel_launcher.py:1: FutureWarning: Sorting because non-concatenation axis is not aligned. A future version\n",
      "of pandas will change to not sort by default.\n",
      "\n",
      "To accept the future behavior, pass 'sort=True'.\n",
      "\n",
      "To retain the current behavior and silence the warning, pass sort=False\n",
      "\n",
      "  \"\"\"Entry point for launching an IPython kernel.\n"
     ]
    }
   ],
   "source": [
    "df = pandas.concat(housedf)"
   ]
  },
  {
   "cell_type": "code",
   "execution_count": 366,
   "metadata": {},
   "outputs": [],
   "source": [
    "df = df[['area', 'price','room','floor','houseage']]"
   ]
  },
  {
   "cell_type": "code",
   "execution_count": 367,
   "metadata": {},
   "outputs": [],
   "source": [
    "df[['bedroom', 'livingroom', 'bathroom']] = df['room'].str.extract('(\\d+)房(\\d+)廳(\\d+)衛')"
   ]
  },
  {
   "cell_type": "code",
   "execution_count": 368,
   "metadata": {},
   "outputs": [],
   "source": [
    "df[['current_floor', 'total_floor']] = df['floor'].str.extract('(\\d+)F/(\\d+)F') "
   ]
  },
  {
   "cell_type": "code",
   "execution_count": 369,
   "metadata": {},
   "outputs": [],
   "source": [
    "df.dropna(inplace=True)"
   ]
  },
  {
   "cell_type": "code",
   "execution_count": 370,
   "metadata": {},
   "outputs": [],
   "source": [
    "del df['room']\n",
    "del df['floor']"
   ]
  },
  {
   "cell_type": "code",
   "execution_count": 371,
   "metadata": {},
   "outputs": [],
   "source": [
    "y = df['price']"
   ]
  },
  {
   "cell_type": "code",
   "execution_count": 372,
   "metadata": {},
   "outputs": [],
   "source": [
    "X = df\n",
    "del X['price']"
   ]
  },
  {
   "cell_type": "markdown",
   "metadata": {},
   "source": [
    "### Linear Regression"
   ]
  },
  {
   "cell_type": "code",
   "execution_count": 373,
   "metadata": {},
   "outputs": [
    {
     "data": {
      "text/plain": [
       "LinearRegression(copy_X=True, fit_intercept=True, n_jobs=1, normalize=False)"
      ]
     },
     "execution_count": 373,
     "metadata": {},
     "output_type": "execute_result"
    }
   ],
   "source": [
    "from sklearn.linear_model import LinearRegression\n",
    "clf= LinearRegression()\n",
    "clf.fit(X,y)"
   ]
  },
  {
   "cell_type": "code",
   "execution_count": 374,
   "metadata": {},
   "outputs": [
    {
     "data": {
      "text/plain": [
       "array([4078.15118469, 1326.57813585, 6595.67337126, ..., 6301.7763337 ,\n",
       "       5346.07513478, 3086.82893758])"
      ]
     },
     "execution_count": 374,
     "metadata": {},
     "output_type": "execute_result"
    }
   ],
   "source": [
    "clf.predict(X)"
   ]
  },
  {
   "cell_type": "markdown",
   "metadata": {},
   "source": [
    "### ANN"
   ]
  },
  {
   "cell_type": "code",
   "execution_count": 375,
   "metadata": {},
   "outputs": [],
   "source": [
    "n_input = 7\n",
    "n_hidden_1 = 4\n",
    "n_classes = 1"
   ]
  },
  {
   "cell_type": "code",
   "execution_count": 376,
   "metadata": {},
   "outputs": [],
   "source": [
    "model = keras.Sequential()\n",
    "model.add(Dense(n_hidden_1, activation='relu', input_shape=(n_input,)))\n",
    "model.add(Dense(n_classes))"
   ]
  },
  {
   "cell_type": "code",
   "execution_count": 377,
   "metadata": {},
   "outputs": [],
   "source": [
    "model.compile(loss='mean_squared_error',\n",
    "              optimizer='adam')"
   ]
  },
  {
   "cell_type": "code",
   "execution_count": 382,
   "metadata": {},
   "outputs": [],
   "source": [
    "history = model.fit(X, y,\n",
    "                    batch_size=30,\n",
    "                    epochs=1000,\n",
    "                    verbose=0)"
   ]
  },
  {
   "cell_type": "code",
   "execution_count": 383,
   "metadata": {},
   "outputs": [
    {
     "data": {
      "text/plain": [
       "array([[3781.2742 ],\n",
       "       [1010.91925],\n",
       "       [6558.9185 ],\n",
       "       ...,\n",
       "       [6755.6636 ],\n",
       "       [5446.3994 ],\n",
       "       [3351.558  ]], dtype=float32)"
      ]
     },
     "execution_count": 383,
     "metadata": {},
     "output_type": "execute_result"
    }
   ],
   "source": [
    "model.predict(X)"
   ]
  },
  {
   "cell_type": "code",
   "execution_count": 384,
   "metadata": {},
   "outputs": [
    {
     "data": {
      "text/plain": [
       "array([4078.15118469, 1326.57813585, 6595.67337126, ..., 6301.7763337 ,\n",
       "       5346.07513478, 3086.82893758])"
      ]
     },
     "execution_count": 384,
     "metadata": {},
     "output_type": "execute_result"
    }
   ],
   "source": [
    "clf.predict(X)"
   ]
  },
  {
   "cell_type": "code",
   "execution_count": 386,
   "metadata": {},
   "outputs": [
    {
     "data": {
      "text/plain": [
       "1969923.9326141786"
      ]
     },
     "execution_count": 386,
     "metadata": {},
     "output_type": "execute_result"
    }
   ],
   "source": [
    "from sklearn.metrics import mean_squared_error\n",
    "mean_squared_error(y, clf.predict(X))"
   ]
  },
  {
   "cell_type": "code",
   "execution_count": 387,
   "metadata": {},
   "outputs": [
    {
     "data": {
      "text/plain": [
       "2062809.6772975076"
      ]
     },
     "execution_count": 387,
     "metadata": {},
     "output_type": "execute_result"
    }
   ],
   "source": [
    "mean_squared_error(y, model.predict(X))"
   ]
  }
 ],
 "metadata": {
  "kernelspec": {
   "display_name": "Python 3",
   "language": "python",
   "name": "python3"
  },
  "language_info": {
   "codemirror_mode": {
    "name": "ipython",
    "version": 3
   },
   "file_extension": ".py",
   "mimetype": "text/x-python",
   "name": "python",
   "nbconvert_exporter": "python",
   "pygments_lexer": "ipython3",
   "version": "3.6.5"
  }
 },
 "nbformat": 4,
 "nbformat_minor": 2
}
