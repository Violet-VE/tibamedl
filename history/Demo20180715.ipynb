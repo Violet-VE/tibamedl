{
 "cells": [
  {
   "cell_type": "markdown",
   "metadata": {},
   "source": [
    "## 安裝TensorFlow"
   ]
  },
  {
   "cell_type": "code",
   "execution_count": 1,
   "metadata": {},
   "outputs": [
    {
     "name": "stdout",
     "output_type": "stream",
     "text": [
      "Collecting tensorflow\n",
      "  Downloading https://files.pythonhosted.org/packages/e7/88/417f18ca7eed5ba9bebd51650d04a4af929f96c10a10fbb3302196f8d098/tensorflow-1.9.0-cp36-cp36m-win_amd64.whl (37.1MB)\n",
      "Collecting termcolor>=1.1.0 (from tensorflow)\n",
      "  Downloading https://files.pythonhosted.org/packages/8a/48/a76be51647d0eb9f10e2a4511bf3ffb8cc1e6b14e9e4fab46173aa79f981/termcolor-1.1.0.tar.gz\n",
      "Requirement already satisfied: numpy>=1.13.3 in c:\\programdata\\anaconda3\\lib\\site-packages (from tensorflow) (1.14.3)\n",
      "Requirement already satisfied: setuptools<=39.1.0 in c:\\programdata\\anaconda3\\lib\\site-packages (from tensorflow) (39.1.0)\n",
      "Requirement already satisfied: six>=1.10.0 in c:\\programdata\\anaconda3\\lib\\site-packages (from tensorflow) (1.11.0)\n",
      "Requirement already satisfied: wheel>=0.26 in c:\\programdata\\anaconda3\\lib\\site-packages (from tensorflow) (0.31.1)\n",
      "Collecting tensorboard<1.10.0,>=1.9.0 (from tensorflow)\n",
      "  Downloading https://files.pythonhosted.org/packages/9e/1f/3da43860db614e294a034e42d4be5c8f7f0d2c75dc1c428c541116d8cdab/tensorboard-1.9.0-py3-none-any.whl (3.3MB)\n",
      "Collecting astor>=0.6.0 (from tensorflow)\n",
      "  Downloading https://files.pythonhosted.org/packages/35/6b/11530768cac581a12952a2aad00e1526b89d242d0b9f59534ef6e6a1752f/astor-0.7.1-py2.py3-none-any.whl\n",
      "Collecting gast>=0.2.0 (from tensorflow)\n",
      "  Downloading https://files.pythonhosted.org/packages/5c/78/ff794fcae2ce8aa6323e789d1f8b3b7765f601e7702726f430e814822b96/gast-0.2.0.tar.gz\n",
      "Collecting absl-py>=0.1.6 (from tensorflow)\n",
      "  Downloading https://files.pythonhosted.org/packages/57/8d/6664518f9b6ced0aa41cf50b989740909261d4c212557400c48e5cda0804/absl-py-0.2.2.tar.gz (82kB)\n",
      "Collecting grpcio>=1.8.6 (from tensorflow)\n",
      "  Downloading https://files.pythonhosted.org/packages/d5/c6/15728549704f9c03db7179b7f99303b91b7703e18a50f5e7b47e59b289ea/grpcio-1.13.0-cp36-cp36m-win_amd64.whl (1.4MB)\n",
      "Collecting protobuf>=3.4.0 (from tensorflow)\n",
      "  Downloading https://files.pythonhosted.org/packages/75/7a/0dba607e50b97f6a89fa3f96e23bf56922fa59d748238b30507bfe361bbc/protobuf-3.6.0-cp36-cp36m-win_amd64.whl (1.1MB)\n",
      "Collecting markdown>=2.6.8 (from tensorboard<1.10.0,>=1.9.0->tensorflow)\n",
      "  Downloading https://files.pythonhosted.org/packages/6d/7d/488b90f470b96531a3f5788cf12a93332f543dbab13c423a5e7ce96a0493/Markdown-2.6.11-py2.py3-none-any.whl (78kB)\n",
      "Requirement already satisfied: werkzeug>=0.11.10 in c:\\programdata\\anaconda3\\lib\\site-packages (from tensorboard<1.10.0,>=1.9.0->tensorflow) (0.14.1)\n",
      "Building wheels for collected packages: termcolor, gast, absl-py\n",
      "  Running setup.py bdist_wheel for termcolor: started\n",
      "  Running setup.py bdist_wheel for termcolor: finished with status 'done'\n",
      "  Stored in directory: C:\\Users\\USER\\AppData\\Local\\pip\\Cache\\wheels\\7c\\06\\54\\bc84598ba1daf8f970247f550b175aaaee85f68b4b0c5ab2c6\n",
      "  Running setup.py bdist_wheel for gast: started\n",
      "  Running setup.py bdist_wheel for gast: finished with status 'done'\n",
      "  Stored in directory: C:\\Users\\USER\\AppData\\Local\\pip\\Cache\\wheels\\9a\\1f\\0e\\3cde98113222b853e98fc0a8e9924480a3e25f1b4008cedb4f\n",
      "  Running setup.py bdist_wheel for absl-py: started\n",
      "  Running setup.py bdist_wheel for absl-py: finished with status 'done'\n",
      "  Stored in directory: C:\\Users\\USER\\AppData\\Local\\pip\\Cache\\wheels\\a0\\f8\\e9\\1933dbb3447ea6ef57062fd5461cb118deb8c2ed074e8344bf\n",
      "Successfully built termcolor gast absl-py\n",
      "Installing collected packages: termcolor, markdown, protobuf, tensorboard, astor, gast, absl-py, grpcio, tensorflow\n",
      "Successfully installed absl-py-0.2.2 astor-0.7.1 gast-0.2.0 grpcio-1.13.0 markdown-2.6.11 protobuf-3.6.0 tensorboard-1.9.0 tensorflow-1.9.0 termcolor-1.1.0\n"
     ]
    },
    {
     "name": "stderr",
     "output_type": "stream",
     "text": [
      "distributed 1.21.8 requires msgpack, which is not installed.\n"
     ]
    }
   ],
   "source": [
    "! pip install tensorflow"
   ]
  },
  {
   "cell_type": "code",
   "execution_count": 2,
   "metadata": {},
   "outputs": [
    {
     "name": "stderr",
     "output_type": "stream",
     "text": [
      "C:\\ProgramData\\Anaconda3\\lib\\site-packages\\h5py\\__init__.py:36: FutureWarning: Conversion of the second argument of issubdtype from `float` to `np.floating` is deprecated. In future, it will be treated as `np.float64 == np.dtype(float).type`.\n",
      "  from ._conv import register_converters as _register_converters\n"
     ]
    }
   ],
   "source": [
    "import tensorflow as tf"
   ]
  },
  {
   "cell_type": "markdown",
   "metadata": {},
   "source": [
    "## 常數 (Constant)"
   ]
  },
  {
   "cell_type": "code",
   "execution_count": 3,
   "metadata": {},
   "outputs": [
    {
     "data": {
      "text/plain": [
       "<tf.Tensor 'Const:0' shape=() dtype=string>"
      ]
     },
     "execution_count": 3,
     "metadata": {},
     "output_type": "execute_result"
    }
   ],
   "source": [
    "hello = tf.constant('Hello World')\n",
    "hello"
   ]
  },
  {
   "cell_type": "code",
   "execution_count": 4,
   "metadata": {},
   "outputs": [
    {
     "data": {
      "text/plain": [
       "tensorflow.python.framework.ops.Tensor"
      ]
     },
     "execution_count": 4,
     "metadata": {},
     "output_type": "execute_result"
    }
   ],
   "source": [
    "type(hello)"
   ]
  },
  {
   "cell_type": "markdown",
   "metadata": {},
   "source": [
    "## 會話 (Session)"
   ]
  },
  {
   "cell_type": "code",
   "execution_count": 6,
   "metadata": {},
   "outputs": [
    {
     "data": {
      "text/plain": [
       "<tensorflow.python.client.session.Session at 0xc486438>"
      ]
     },
     "execution_count": 6,
     "metadata": {},
     "output_type": "execute_result"
    }
   ],
   "source": [
    "s = tf.Session()\n",
    "s"
   ]
  },
  {
   "cell_type": "code",
   "execution_count": 7,
   "metadata": {},
   "outputs": [
    {
     "data": {
      "text/plain": [
       "tensorflow.python.client.session.Session"
      ]
     },
     "execution_count": 7,
     "metadata": {},
     "output_type": "execute_result"
    }
   ],
   "source": [
    "type(s)"
   ]
  },
  {
   "cell_type": "code",
   "execution_count": 8,
   "metadata": {},
   "outputs": [
    {
     "data": {
      "text/plain": [
       "b'Hello World'"
      ]
     },
     "execution_count": 8,
     "metadata": {},
     "output_type": "execute_result"
    }
   ],
   "source": [
    "s.run(hello)"
   ]
  },
  {
   "cell_type": "code",
   "execution_count": 9,
   "metadata": {},
   "outputs": [],
   "source": [
    "a = s.run(hello)"
   ]
  },
  {
   "cell_type": "code",
   "execution_count": 11,
   "metadata": {},
   "outputs": [
    {
     "data": {
      "text/plain": [
       "b'Hello World'"
      ]
     },
     "execution_count": 11,
     "metadata": {},
     "output_type": "execute_result"
    }
   ],
   "source": [
    "a"
   ]
  },
  {
   "cell_type": "code",
   "execution_count": 10,
   "metadata": {},
   "outputs": [
    {
     "data": {
      "text/plain": [
       "bytes"
      ]
     },
     "execution_count": 10,
     "metadata": {},
     "output_type": "execute_result"
    }
   ],
   "source": [
    "type(a)"
   ]
  },
  {
   "cell_type": "markdown",
   "metadata": {},
   "source": [
    "## Tensorflow Basic"
   ]
  },
  {
   "cell_type": "markdown",
   "metadata": {},
   "source": [
    "### 常數"
   ]
  },
  {
   "cell_type": "code",
   "execution_count": 12,
   "metadata": {},
   "outputs": [],
   "source": [
    "x  = tf.constant(100)"
   ]
  },
  {
   "cell_type": "code",
   "execution_count": 16,
   "metadata": {},
   "outputs": [
    {
     "data": {
      "text/plain": [
       "<tf.Tensor 'Const_1:0' shape=() dtype=int32>"
      ]
     },
     "execution_count": 16,
     "metadata": {},
     "output_type": "execute_result"
    }
   ],
   "source": [
    "x"
   ]
  },
  {
   "cell_type": "code",
   "execution_count": 13,
   "metadata": {},
   "outputs": [
    {
     "data": {
      "text/plain": [
       "tensorflow.python.framework.ops.Tensor"
      ]
     },
     "execution_count": 13,
     "metadata": {},
     "output_type": "execute_result"
    }
   ],
   "source": [
    "type(x)"
   ]
  },
  {
   "cell_type": "markdown",
   "metadata": {},
   "source": [
    "### 會話 (Session)"
   ]
  },
  {
   "cell_type": "code",
   "execution_count": 14,
   "metadata": {},
   "outputs": [
    {
     "data": {
      "text/plain": [
       "100"
      ]
     },
     "execution_count": 14,
     "metadata": {},
     "output_type": "execute_result"
    }
   ],
   "source": [
    "sess = tf.Session()\n",
    "sess.run(x)"
   ]
  },
  {
   "cell_type": "code",
   "execution_count": 15,
   "metadata": {},
   "outputs": [
    {
     "data": {
      "text/plain": [
       "tensorflow.python.client.session.Session"
      ]
     },
     "execution_count": 15,
     "metadata": {},
     "output_type": "execute_result"
    }
   ],
   "source": [
    "type(sess)"
   ]
  },
  {
   "cell_type": "code",
   "execution_count": 17,
   "metadata": {},
   "outputs": [],
   "source": [
    "y = sess.run(x)"
   ]
  },
  {
   "cell_type": "code",
   "execution_count": 18,
   "metadata": {},
   "outputs": [
    {
     "data": {
      "text/plain": [
       "100"
      ]
     },
     "execution_count": 18,
     "metadata": {},
     "output_type": "execute_result"
    }
   ],
   "source": [
    "y"
   ]
  },
  {
   "cell_type": "code",
   "execution_count": 19,
   "metadata": {},
   "outputs": [
    {
     "data": {
      "text/plain": [
       "numpy.int32"
      ]
     },
     "execution_count": 19,
     "metadata": {},
     "output_type": "execute_result"
    }
   ],
   "source": [
    "type(y)"
   ]
  },
  {
   "cell_type": "code",
   "execution_count": 24,
   "metadata": {},
   "outputs": [],
   "source": [
    "sess.close()"
   ]
  },
  {
   "cell_type": "markdown",
   "metadata": {},
   "source": [
    "### Operation (操作)"
   ]
  },
  {
   "cell_type": "code",
   "execution_count": 20,
   "metadata": {},
   "outputs": [],
   "source": [
    "x = tf.constant(2)\n",
    "y = tf.constant(3)"
   ]
  },
  {
   "cell_type": "code",
   "execution_count": 21,
   "metadata": {},
   "outputs": [
    {
     "data": {
      "text/plain": [
       "<tf.Tensor 'Const_2:0' shape=() dtype=int32>"
      ]
     },
     "execution_count": 21,
     "metadata": {},
     "output_type": "execute_result"
    }
   ],
   "source": [
    "x"
   ]
  },
  {
   "cell_type": "code",
   "execution_count": 22,
   "metadata": {},
   "outputs": [
    {
     "data": {
      "text/plain": [
       "<tf.Tensor 'Const_3:0' shape=() dtype=int32>"
      ]
     },
     "execution_count": 22,
     "metadata": {},
     "output_type": "execute_result"
    }
   ],
   "source": [
    "y"
   ]
  },
  {
   "cell_type": "code",
   "execution_count": 23,
   "metadata": {},
   "outputs": [
    {
     "data": {
      "text/plain": [
       "<tf.Tensor 'add:0' shape=() dtype=int32>"
      ]
     },
     "execution_count": 23,
     "metadata": {},
     "output_type": "execute_result"
    }
   ],
   "source": [
    "x + y"
   ]
  },
  {
   "cell_type": "code",
   "execution_count": 28,
   "metadata": {},
   "outputs": [
    {
     "name": "stdout",
     "output_type": "stream",
     "text": [
      "5\n",
      "-1\n",
      "6\n",
      "0.6666666666666666\n"
     ]
    }
   ],
   "source": [
    "with tf.Session() as sess:\n",
    "    print(sess.run(x + y))\n",
    "    print(sess.run(x - y))\n",
    "    print(sess.run(x * y))\n",
    "    print(sess.run(x / y))"
   ]
  },
  {
   "cell_type": "markdown",
   "metadata": {},
   "source": [
    "### Placeholder "
   ]
  },
  {
   "cell_type": "code",
   "execution_count": 29,
   "metadata": {},
   "outputs": [],
   "source": [
    "x = tf.placeholder(tf.int32)\n",
    "y = tf.placeholder(tf.int32)"
   ]
  },
  {
   "cell_type": "code",
   "execution_count": 30,
   "metadata": {},
   "outputs": [
    {
     "data": {
      "text/plain": [
       "<tf.Tensor 'Placeholder:0' shape=<unknown> dtype=int32>"
      ]
     },
     "execution_count": 30,
     "metadata": {},
     "output_type": "execute_result"
    }
   ],
   "source": [
    "x"
   ]
  },
  {
   "cell_type": "code",
   "execution_count": 31,
   "metadata": {},
   "outputs": [
    {
     "data": {
      "text/plain": [
       "tensorflow.python.framework.ops.Tensor"
      ]
     },
     "execution_count": 31,
     "metadata": {},
     "output_type": "execute_result"
    }
   ],
   "source": [
    "type(x)"
   ]
  },
  {
   "cell_type": "markdown",
   "metadata": {},
   "source": [
    "### 定義操作 "
   ]
  },
  {
   "cell_type": "code",
   "execution_count": 37,
   "metadata": {},
   "outputs": [],
   "source": [
    "add = tf.add(x,y)\n",
    "sub = tf.subtract(x,y)\n",
    "mul = tf.multiply(x,y)\n",
    "div = tf.divide(x,y)"
   ]
  },
  {
   "cell_type": "code",
   "execution_count": 38,
   "metadata": {},
   "outputs": [
    {
     "name": "stdout",
     "output_type": "stream",
     "text": [
      "50\n",
      "-10\n",
      "600\n",
      "0.6666666666666666\n"
     ]
    }
   ],
   "source": [
    "with tf.Session() as sess:\n",
    "    print(sess.run(add, feed_dict={x:20, y:30}))\n",
    "    print(sess.run(sub, feed_dict={x:20, y:30}))\n",
    "    print(sess.run(mul, feed_dict={x:20, y:30}))\n",
    "    print(sess.run(div, feed_dict={x:20, y:30}))"
   ]
  },
  {
   "cell_type": "code",
   "execution_count": 39,
   "metadata": {},
   "outputs": [],
   "source": [
    "with tf.Session() as sess:\n",
    "    x = sess.run(add, feed_dict={x:20, y:30})"
   ]
  },
  {
   "cell_type": "code",
   "execution_count": 40,
   "metadata": {},
   "outputs": [
    {
     "data": {
      "text/plain": [
       "50"
      ]
     },
     "execution_count": 40,
     "metadata": {},
     "output_type": "execute_result"
    }
   ],
   "source": [
    "x"
   ]
  },
  {
   "cell_type": "code",
   "execution_count": 41,
   "metadata": {},
   "outputs": [
    {
     "data": {
      "text/plain": [
       "numpy.int32"
      ]
     },
     "execution_count": 41,
     "metadata": {},
     "output_type": "execute_result"
    }
   ],
   "source": [
    "type(x)"
   ]
  },
  {
   "cell_type": "markdown",
   "metadata": {},
   "source": [
    "### 矩陣操作"
   ]
  },
  {
   "cell_type": "code",
   "execution_count": 44,
   "metadata": {},
   "outputs": [],
   "source": [
    "import numpy as np\n",
    "a = np.array([[5.0,5.0]])\n",
    "b = np.array([[2.0],[2.0]])"
   ]
  },
  {
   "cell_type": "code",
   "execution_count": 45,
   "metadata": {},
   "outputs": [
    {
     "data": {
      "text/plain": [
       "array([[5., 5.]])"
      ]
     },
     "execution_count": 45,
     "metadata": {},
     "output_type": "execute_result"
    }
   ],
   "source": [
    "a"
   ]
  },
  {
   "cell_type": "code",
   "execution_count": 47,
   "metadata": {},
   "outputs": [
    {
     "data": {
      "text/plain": [
       "(1, 2)"
      ]
     },
     "execution_count": 47,
     "metadata": {},
     "output_type": "execute_result"
    }
   ],
   "source": [
    "a.shape"
   ]
  },
  {
   "cell_type": "code",
   "execution_count": 46,
   "metadata": {},
   "outputs": [
    {
     "data": {
      "text/plain": [
       "array([[2.],\n",
       "       [2.]])"
      ]
     },
     "execution_count": 46,
     "metadata": {},
     "output_type": "execute_result"
    }
   ],
   "source": [
    "b"
   ]
  },
  {
   "cell_type": "code",
   "execution_count": 48,
   "metadata": {},
   "outputs": [
    {
     "data": {
      "text/plain": [
       "(2, 1)"
      ]
     },
     "execution_count": 48,
     "metadata": {},
     "output_type": "execute_result"
    }
   ],
   "source": [
    "b.shape"
   ]
  },
  {
   "cell_type": "code",
   "execution_count": 50,
   "metadata": {},
   "outputs": [],
   "source": [
    "mat1 = tf.constant(a)\n",
    "mat2 = tf.constant(b)"
   ]
  },
  {
   "cell_type": "code",
   "execution_count": 51,
   "metadata": {},
   "outputs": [],
   "source": [
    "matrix_multi = tf.matmul(mat1,mat2)"
   ]
  },
  {
   "cell_type": "code",
   "execution_count": 52,
   "metadata": {},
   "outputs": [],
   "source": [
    "with tf.Session() as sess:\n",
    "    x = sess.run(matrix_multi)"
   ]
  },
  {
   "cell_type": "code",
   "execution_count": 53,
   "metadata": {},
   "outputs": [
    {
     "data": {
      "text/plain": [
       "array([[20.]])"
      ]
     },
     "execution_count": 53,
     "metadata": {},
     "output_type": "execute_result"
    }
   ],
   "source": [
    "x"
   ]
  },
  {
   "cell_type": "markdown",
   "metadata": {},
   "source": [
    "## 使用TensorFlow 辨識手寫數字"
   ]
  },
  {
   "cell_type": "code",
   "execution_count": 191,
   "metadata": {
    "scrolled": true
   },
   "outputs": [
    {
     "name": "stdout",
     "output_type": "stream",
     "text": [
      "Extracting C:\\Users\\USER\\train-images-idx3-ubyte.gz\n",
      "Extracting C:\\Users\\USER\\train-labels-idx1-ubyte.gz\n",
      "Extracting C:\\Users\\USER\\t10k-images-idx3-ubyte.gz\n",
      "Extracting C:\\Users\\USER\\t10k-labels-idx1-ubyte.gz\n"
     ]
    }
   ],
   "source": [
    "import tensorflow as tf\n",
    "\n",
    "from tensorflow.examples.tutorials.mnist import input_data\n",
    "mnist = input_data.read_data_sets(\"C:\\\\Users\\\\USER\", one_hot=True)"
   ]
  },
  {
   "cell_type": "code",
   "execution_count": 59,
   "metadata": {},
   "outputs": [],
   "source": [
    "#mnist"
   ]
  },
  {
   "cell_type": "code",
   "execution_count": 60,
   "metadata": {},
   "outputs": [],
   "source": [
    "#dir(mnist)"
   ]
  },
  {
   "cell_type": "code",
   "execution_count": 61,
   "metadata": {},
   "outputs": [],
   "source": [
    "#dir(mnist.train)"
   ]
  },
  {
   "cell_type": "code",
   "execution_count": 64,
   "metadata": {},
   "outputs": [
    {
     "data": {
      "text/plain": [
       "(55000, 784)"
      ]
     },
     "execution_count": 64,
     "metadata": {},
     "output_type": "execute_result"
    }
   ],
   "source": [
    "mnist.train.images.shape"
   ]
  },
  {
   "cell_type": "code",
   "execution_count": 65,
   "metadata": {},
   "outputs": [
    {
     "data": {
      "text/plain": [
       "784"
      ]
     },
     "execution_count": 65,
     "metadata": {},
     "output_type": "execute_result"
    }
   ],
   "source": [
    "28 * 28 "
   ]
  },
  {
   "cell_type": "code",
   "execution_count": 67,
   "metadata": {},
   "outputs": [
    {
     "data": {
      "text/plain": [
       "(784,)"
      ]
     },
     "execution_count": 67,
     "metadata": {},
     "output_type": "execute_result"
    }
   ],
   "source": [
    "mnist.train.images[0].shape"
   ]
  },
  {
   "cell_type": "code",
   "execution_count": 69,
   "metadata": {},
   "outputs": [
    {
     "data": {
      "text/plain": [
       "array([[1, 2, 3],\n",
       "       [4, 5, 6]])"
      ]
     },
     "execution_count": 69,
     "metadata": {},
     "output_type": "execute_result"
    }
   ],
   "source": [
    "import numpy as np\n",
    "a = np.array([1,2,3,4,5,6])\n",
    "a.reshape((2,3))"
   ]
  },
  {
   "cell_type": "code",
   "execution_count": 70,
   "metadata": {},
   "outputs": [],
   "source": [
    "sample_image = mnist.train.images[0].reshape((28,28))"
   ]
  },
  {
   "cell_type": "code",
   "execution_count": 72,
   "metadata": {},
   "outputs": [
    {
     "name": "stdout",
     "output_type": "stream",
     "text": [
      "Populating the interactive namespace from numpy and matplotlib\n"
     ]
    },
    {
     "data": {
      "text/plain": [
       "<matplotlib.image.AxesImage at 0x12b5b5f8>"
      ]
     },
     "execution_count": 72,
     "metadata": {},
     "output_type": "execute_result"
    },
    {
     "data": {
      "image/png": "[encoded data removed]",
      "text/plain": [
       "<Figure size 432x288 with 1 Axes>"
      ]
     },
     "metadata": {},
     "output_type": "display_data"
    }
   ],
   "source": [
    "% pylab inline\n",
    "import matplotlib.pyplot as plt\n",
    "plt.imshow(sample_image)"
   ]
  },
  {
   "cell_type": "code",
   "execution_count": 73,
   "metadata": {},
   "outputs": [
    {
     "data": {
      "text/plain": [
       "array([0., 0., 0., 0., 0., 0., 0., 1., 0., 0.])"
      ]
     },
     "execution_count": 73,
     "metadata": {},
     "output_type": "execute_result"
    }
   ],
   "source": [
    " mnist.train.labels[0]"
   ]
  },
  {
   "cell_type": "code",
   "execution_count": 74,
   "metadata": {},
   "outputs": [],
   "source": [
    "sample_image2 = mnist.train.images[2].reshape((28,28))"
   ]
  },
  {
   "cell_type": "code",
   "execution_count": 75,
   "metadata": {},
   "outputs": [
    {
     "data": {
      "text/plain": [
       "<matplotlib.image.AxesImage at 0x12be3da0>"
      ]
     },
     "execution_count": 75,
     "metadata": {},
     "output_type": "execute_result"
    },
    {
     "data": {
      "image/png": "[encoded data removed]",
      "text/plain": [
       "<Figure size 432x288 with 1 Axes>"
      ]
     },
     "metadata": {},
     "output_type": "display_data"
    }
   ],
   "source": [
    "\n",
    "plt.imshow(sample_image2)"
   ]
  },
  {
   "cell_type": "code",
   "execution_count": 76,
   "metadata": {},
   "outputs": [
    {
     "data": {
      "text/plain": [
       "array([0., 0., 0., 0., 1., 0., 0., 0., 0., 0.])"
      ]
     },
     "execution_count": 76,
     "metadata": {},
     "output_type": "execute_result"
    }
   ],
   "source": [
    "mnist.train.labels[2]"
   ]
  },
  {
   "cell_type": "markdown",
   "metadata": {},
   "source": [
    "### 設定網路參數"
   ]
  },
  {
   "cell_type": "code",
   "execution_count": 77,
   "metadata": {},
   "outputs": [],
   "source": [
    "learning_rate   = 0.001\n",
    "training_epochs = 15\n",
    "batch_size      = 100"
   ]
  },
  {
   "cell_type": "code",
   "execution_count": 78,
   "metadata": {},
   "outputs": [],
   "source": [
    "n_hidden_1 = 256 \n",
    "n_hidden_2 = 256 \n",
    "n_input    = 784 \n",
    "n_classes  = 10 \n",
    "n_samples  = mnist.train.num_examples"
   ]
  },
  {
   "cell_type": "code",
   "execution_count": 79,
   "metadata": {},
   "outputs": [
    {
     "data": {
      "text/plain": [
       "55000"
      ]
     },
     "execution_count": 79,
     "metadata": {},
     "output_type": "execute_result"
    }
   ],
   "source": [
    "n_samples"
   ]
  },
  {
   "cell_type": "markdown",
   "metadata": {},
   "source": [
    "### Placeholders"
   ]
  },
  {
   "cell_type": "code",
   "execution_count": 80,
   "metadata": {},
   "outputs": [],
   "source": [
    "x = tf.placeholder(\"float\", [None, n_input])\n",
    "y = tf.placeholder(\"float\", [None, n_classes])"
   ]
  },
  {
   "cell_type": "markdown",
   "metadata": {},
   "source": [
    "### 建構多層神經網路"
   ]
  },
  {
   "cell_type": "code",
   "execution_count": 81,
   "metadata": {},
   "outputs": [],
   "source": [
    "def multilayer_perceptron(x, weights, biases):  \n",
    "    # First Hidden layer with RELU activation\n",
    "    layer_1 = tf.add(tf.matmul(x, weights['h1']), biases['b1'])\n",
    "    layer_1 = tf.nn.relu(layer_1)\n",
    "    \n",
    "    # Second Hidden layer with RELU activation\n",
    "    layer_2 = tf.add(tf.matmul(layer_1, weights['h2']), biases['b2'])\n",
    "    layer_2 = tf.nn.relu(layer_2)\n",
    "    \n",
    "    # Last Output layer\n",
    "    out_layer = tf.matmul(layer_2, weights['out']) + biases['out']\n",
    "    return out_layer"
   ]
  },
  {
   "cell_type": "markdown",
   "metadata": {},
   "source": [
    "### 設定權重(weight)與偏椅(bias)"
   ]
  },
  {
   "cell_type": "code",
   "execution_count": 82,
   "metadata": {},
   "outputs": [],
   "source": [
    "weights = {\n",
    "    'h1': tf.Variable(tf.random_normal([n_input, n_hidden_1])),\n",
    "    'h2': tf.Variable(tf.random_normal([n_hidden_1, n_hidden_2])),\n",
    "    'out': tf.Variable(tf.random_normal([n_hidden_2, n_classes]))\n",
    "}"
   ]
  },
  {
   "cell_type": "code",
   "execution_count": 83,
   "metadata": {},
   "outputs": [],
   "source": [
    "biases = {\n",
    "    'b1': tf.Variable(tf.random_normal([n_hidden_1])),\n",
    "    'b2': tf.Variable(tf.random_normal([n_hidden_2])),\n",
    "    'out': tf.Variable(tf.random_normal([n_classes]))\n",
    "}"
   ]
  },
  {
   "cell_type": "markdown",
   "metadata": {},
   "source": [
    "### 建立模型"
   ]
  },
  {
   "cell_type": "code",
   "execution_count": 84,
   "metadata": {},
   "outputs": [],
   "source": [
    "pred = multilayer_perceptron(x, weights, biases)"
   ]
  },
  {
   "cell_type": "markdown",
   "metadata": {},
   "source": [
    "### 設定代價函數"
   ]
  },
  {
   "cell_type": "code",
   "execution_count": 86,
   "metadata": {},
   "outputs": [],
   "source": [
    "cost = tf.reduce_mean(tf.nn.softmax_cross_entropy_with_logits_v2(logits=pred, labels=y))\n",
    "optimizer = tf.train.GradientDescentOptimizer(learning_rate=learning_rate).minimize(cost)"
   ]
  },
  {
   "cell_type": "markdown",
   "metadata": {},
   "source": [
    "### 初始化變量"
   ]
  },
  {
   "cell_type": "code",
   "execution_count": 87,
   "metadata": {},
   "outputs": [],
   "source": [
    "init = tf.global_variables_initializer()"
   ]
  },
  {
   "cell_type": "markdown",
   "metadata": {},
   "source": [
    "### 訓練模型"
   ]
  },
  {
   "cell_type": "code",
   "execution_count": 91,
   "metadata": {},
   "outputs": [],
   "source": [
    "Xsamp,ysamp = mnist.train.next_batch(100)"
   ]
  },
  {
   "cell_type": "code",
   "execution_count": 92,
   "metadata": {},
   "outputs": [
    {
     "data": {
      "text/plain": [
       "(100, 784)"
      ]
     },
     "execution_count": 92,
     "metadata": {},
     "output_type": "execute_result"
    }
   ],
   "source": [
    "Xsamp.shape"
   ]
  },
  {
   "cell_type": "code",
   "execution_count": 93,
   "metadata": {},
   "outputs": [
    {
     "data": {
      "text/plain": [
       "(100, 10)"
      ]
     },
     "execution_count": 93,
     "metadata": {},
     "output_type": "execute_result"
    }
   ],
   "source": [
    "ysamp.shape"
   ]
  },
  {
   "cell_type": "code",
   "execution_count": 94,
   "metadata": {},
   "outputs": [],
   "source": [
    "Xsamp,ysamp = mnist.train.next_batch(1)"
   ]
  },
  {
   "cell_type": "code",
   "execution_count": 98,
   "metadata": {},
   "outputs": [
    {
     "data": {
      "text/plain": [
       "<matplotlib.image.AxesImage at 0x132c00b8>"
      ]
     },
     "execution_count": 98,
     "metadata": {},
     "output_type": "execute_result"
    },
    {
     "data": {
      "image/png": "[encoded data removed]",
      "text/plain": [
       "<Figure size 432x288 with 1 Axes>"
      ]
     },
     "metadata": {},
     "output_type": "display_data"
    }
   ],
   "source": [
    "sample_image = Xsamp.reshape((28,28))\n",
    "plt.imshow(sample_image)"
   ]
  },
  {
   "cell_type": "code",
   "execution_count": 100,
   "metadata": {},
   "outputs": [
    {
     "data": {
      "text/plain": [
       "array([[0., 0., 0., 0., 1., 0., 0., 0., 0., 0.]])"
      ]
     },
     "execution_count": 100,
     "metadata": {},
     "output_type": "execute_result"
    }
   ],
   "source": [
    "ysamp"
   ]
  },
  {
   "cell_type": "code",
   "execution_count": 101,
   "metadata": {},
   "outputs": [
    {
     "name": "stdout",
     "output_type": "stream",
     "text": [
      "Epoch: 1 cost=161.84878193941978\n",
      "Epoch: 2 cost=59.435852362892824\n",
      "Epoch: 3 cost=43.95904717011887\n",
      "Epoch: 4 cost=35.73470472725953\n",
      "Epoch: 5 cost=30.44856498284773\n",
      "Epoch: 6 cost=26.547559214071775\n",
      "Epoch: 7 cost=23.732803134918207\n",
      "Epoch: 8 cost=21.218029746792535\n",
      "Epoch: 9 cost=19.327719931168986\n",
      "Epoch: 10 cost=17.80927664355798\n",
      "Epoch: 11 cost=16.41341840787368\n",
      "Epoch: 12 cost=15.251756375486192\n",
      "Epoch: 13 cost=14.237391577200468\n",
      "Epoch: 14 cost=13.272840973192991\n",
      "Epoch: 15 cost=12.535252796174436\n",
      "Training Completed in 15 Epochs\n"
     ]
    }
   ],
   "source": [
    "# Start the session\n",
    "with tf.Session() as sess:\n",
    "    \n",
    "    # Intialize all the variables\n",
    "    sess.run(init)\n",
    "\n",
    "    for epoch in range(training_epochs):\n",
    "\n",
    "        # Initial the cost = 0.0\n",
    "        avg_cost = 0.0\n",
    "\n",
    "        total_batch = int(n_samples/batch_size)\n",
    "\n",
    "        for i in range(total_batch):\n",
    "\n",
    "            batch_x, batch_y = mnist.train.next_batch(batch_size)\n",
    "            _, c = sess.run([optimizer, cost], feed_dict={x: batch_x, y: batch_y})\n",
    "\n",
    "            # Compute average loss\n",
    "            avg_cost += c / total_batch\n",
    "\n",
    "        print(\"Epoch: {} cost={}\".format(epoch+1,avg_cost))\n",
    "\n",
    "print(\"Training Completed in {} Epochs\".format(training_epochs))"
   ]
  },
  {
   "cell_type": "markdown",
   "metadata": {},
   "source": [
    "### 評估模型"
   ]
  },
  {
   "cell_type": "code",
   "execution_count": 102,
   "metadata": {},
   "outputs": [
    {
     "data": {
      "text/plain": [
       "<tf.Tensor 'Placeholder_3:0' shape=(?, 10) dtype=float32>"
      ]
     },
     "execution_count": 102,
     "metadata": {},
     "output_type": "execute_result"
    }
   ],
   "source": [
    "y"
   ]
  },
  {
   "cell_type": "code",
   "execution_count": 103,
   "metadata": {},
   "outputs": [
    {
     "data": {
      "text/plain": [
       "<tf.Tensor 'add_9:0' shape=(?, 10) dtype=float32>"
      ]
     },
     "execution_count": 103,
     "metadata": {},
     "output_type": "execute_result"
    }
   ],
   "source": [
    "pred"
   ]
  },
  {
   "cell_type": "code",
   "execution_count": 104,
   "metadata": {},
   "outputs": [],
   "source": [
    "correct_predictions = tf.equal(tf.argmax(pred, 1), tf.argmax(y, 1))"
   ]
  },
  {
   "cell_type": "code",
   "execution_count": 107,
   "metadata": {},
   "outputs": [
    {
     "data": {
      "text/plain": [
       "<tf.Tensor 'Equal:0' shape=(?,) dtype=bool>"
      ]
     },
     "execution_count": 107,
     "metadata": {},
     "output_type": "execute_result"
    }
   ],
   "source": [
    "correct_predictions"
   ]
  },
  {
   "cell_type": "code",
   "execution_count": 109,
   "metadata": {},
   "outputs": [],
   "source": [
    "correct_predictions = tf.cast(correct_predictions, \"float\")"
   ]
  },
  {
   "cell_type": "code",
   "execution_count": 110,
   "metadata": {},
   "outputs": [],
   "source": [
    "accuracy = tf.reduce_mean(correct_predictions)"
   ]
  },
  {
   "cell_type": "code",
   "execution_count": 111,
   "metadata": {},
   "outputs": [
    {
     "data": {
      "text/plain": [
       "tensorflow.python.framework.ops.Tensor"
      ]
     },
     "execution_count": 111,
     "metadata": {},
     "output_type": "execute_result"
    }
   ],
   "source": [
    "type(accuracy)"
   ]
  },
  {
   "cell_type": "code",
   "execution_count": 116,
   "metadata": {},
   "outputs": [
    {
     "name": "stdout",
     "output_type": "stream",
     "text": [
      "Epoch: 1 cost=162.76337475169805\n",
      "Epoch: 2 cost=57.91313876585531\n",
      "Epoch: 3 cost=42.51949708765203\n",
      "Epoch: 4 cost=34.34520354964514\n",
      "Epoch: 5 cost=29.01875871051444\n",
      "Epoch: 6 cost=25.24199668450789\n",
      "Epoch: 7 cost=22.52503339247268\n",
      "Epoch: 8 cost=20.186488670219088\n",
      "Epoch: 9 cost=18.260783553556955\n",
      "Epoch: 10 cost=16.823822630546317\n",
      "Epoch: 11 cost=15.52216133637861\n",
      "Epoch: 12 cost=14.431081318259249\n",
      "Epoch: 13 cost=13.48172477050261\n",
      "Epoch: 14 cost=12.669358488402588\n",
      "Epoch: 15 cost=11.944924016483137\n",
      "0.9094\n",
      "Training Completed in 15 Epochs\n"
     ]
    }
   ],
   "source": [
    "# Start the session\n",
    "with tf.Session() as sess:\n",
    "    \n",
    "    # Intialize all the variables\n",
    "    sess.run(init)\n",
    "\n",
    "    for epoch in range(training_epochs):\n",
    "\n",
    "        # Initial the cost = 0.0\n",
    "        avg_cost = 0.0\n",
    "\n",
    "        total_batch = int(n_samples/batch_size)\n",
    "\n",
    "        for i in range(total_batch):\n",
    "\n",
    "            batch_x, batch_y = mnist.train.next_batch(batch_size)\n",
    "            _, c = sess.run([optimizer, cost], feed_dict={x: batch_x, y: batch_y})\n",
    "\n",
    "            # Compute average loss\n",
    "            avg_cost += c / total_batch\n",
    "\n",
    "        print(\"Epoch: {} cost={}\".format(epoch+1,avg_cost))\n",
    "    print(accuracy.eval({x: mnist.test.images, y: mnist.test.labels}))\n",
    "\n",
    "print(\"Training Completed in {} Epochs\".format(training_epochs))"
   ]
  },
  {
   "cell_type": "markdown",
   "metadata": {},
   "source": [
    "## TensorBoard\n",
    "- tensorboard --logdir test"
   ]
  },
  {
   "cell_type": "code",
   "execution_count": 117,
   "metadata": {},
   "outputs": [],
   "source": [
    "with tf.name_scope('inputs'):\n",
    "    x = tf.placeholder(\"float\", [None, n_input],   name= 'input_x')\n",
    "    y = tf.placeholder(\"float\", [None, n_classes], name= 'input_y')"
   ]
  },
  {
   "cell_type": "code",
   "execution_count": 118,
   "metadata": {},
   "outputs": [],
   "source": [
    "with tf.name_scope('input_reshape'):\n",
    "    image_input = tf.reshape(x,[-1,28,28,1])\n",
    "    tf.summary.image('input', image_input, 10)"
   ]
  },
  {
   "cell_type": "code",
   "execution_count": 119,
   "metadata": {},
   "outputs": [],
   "source": [
    "def add_layer(x, input_tensors, output_tensors, layer_name, activation_function = None):  \n",
    "    with tf.name_scope('Layer'):\n",
    "        with tf.name_scope('Weights'):\n",
    "            weight = tf.Variable(tf.random_normal([input_tensors, output_tensors]), name = 'w')\n",
    "            tf.summary.histogram(name = layer_name + '/Weights', values = weight)\n",
    "        with tf.name_scope('Bias'):\n",
    "            bias = tf.Variable(tf.random_normal([output_tensors]), name= 'b')\n",
    "            tf.summary.histogram(name = layer_name + '/Bias', values = bias)\n",
    "        with tf.name_scope('Wx_plus_b'):\n",
    "            formula = tf.add(tf.matmul(x, weight), bias)\n",
    "        if activation_function is None:\n",
    "            outputs = formula\n",
    "        else:\n",
    "            outputs = activation_function(formula)\n",
    "        tf.summary.histogram(name = layer_name + '/Outputs', values = outputs)\n",
    "        return outputs"
   ]
  },
  {
   "cell_type": "code",
   "execution_count": 120,
   "metadata": {},
   "outputs": [],
   "source": [
    "layer1 = add_layer(x, input_tensors = n_input, output_tensors = n_hidden_1, layer_name='layer1',activation_function = tf.nn.relu)\n",
    "layer2 = add_layer(layer1, input_tensors = n_hidden_1, output_tensors = n_hidden_2, layer_name='layer2',activation_function = tf.nn.relu)\n",
    "out_layer = add_layer(layer2, input_tensors = n_hidden_2, output_tensors = n_classes, layer_name='out_layer',activation_function = None)"
   ]
  },
  {
   "cell_type": "code",
   "execution_count": 121,
   "metadata": {},
   "outputs": [],
   "source": [
    "with tf.name_scope('cost'):\n",
    "    cost = tf.reduce_mean(tf.nn.softmax_cross_entropy_with_logits(logits=out_layer, labels=y))\n",
    "    tf.summary.scalar('loss', cost)\n",
    "    \n",
    "with tf.name_scope('optimizer'):\n",
    "    optimizer = tf.train.GradientDescentOptimizer(learning_rate=learning_rate).minimize(cost)\n",
    "    \n",
    "with tf.name_scope('Accuracy'):\n",
    "    acc = tf.equal(tf.argmax(out_layer, 1), tf.argmax(y, 1))\n",
    "    acc = tf.reduce_mean(tf.cast(acc, tf.float32))\n",
    "    tf.summary.scalar(\"accuracy\", acc)"
   ]
  },
  {
   "cell_type": "code",
   "execution_count": 122,
   "metadata": {},
   "outputs": [],
   "source": [
    "init = tf.global_variables_initializer()"
   ]
  },
  {
   "cell_type": "code",
   "execution_count": 123,
   "metadata": {},
   "outputs": [
    {
     "name": "stdout",
     "output_type": "stream",
     "text": [
      "Epoch: 1 cost=158.95090235276646\n",
      "Epoch: 2 cost=58.5943519869718\n",
      "Epoch: 3 cost=43.212227145108265\n",
      "Epoch: 4 cost=35.0236564844305\n",
      "Epoch: 5 cost=29.502816226699142\n",
      "Epoch: 6 cost=25.77310774239625\n",
      "Epoch: 7 cost=22.818086974620783\n",
      "Epoch: 8 cost=20.531594061697596\n",
      "Epoch: 9 cost=18.61348502267492\n",
      "Epoch: 10 cost=17.063324065208427\n",
      "Epoch: 11 cost=15.763942256190573\n",
      "Epoch: 12 cost=14.624597302458511\n",
      "Epoch: 13 cost=13.591291717801955\n",
      "Epoch: 14 cost=12.683902030803933\n",
      "Epoch: 15 cost=11.987006630626592\n",
      "Training Completed in 15 Epochs\n"
     ]
    }
   ],
   "source": [
    "merged = tf.summary.merge_all()\n",
    "\n",
    "with tf.Session() as sess:\n",
    "    sess.run(init)\n",
    "\n",
    "    ## Merge Summary\n",
    "    \n",
    "    writer = tf.summary.FileWriter(\"tensorboard/\", graph = sess.graph)\n",
    "\n",
    "    for epoch in range(training_epochs):\n",
    "        avg_cost = 0.0\n",
    "        total_batch = int(n_samples/batch_size)\n",
    "        for i in range(total_batch):\n",
    "            batch_x, batch_y = mnist.train.next_batch(batch_size)\n",
    "            _, c, result = sess.run([optimizer, cost, merged], feed_dict={x: batch_x, y: batch_y})\n",
    "            avg_cost += c / total_batch\n",
    "            ## Adding summary of each step\n",
    "            writer.add_summary(result,  epoch * total_batch + i)\n",
    "\n",
    "        print(\"Epoch: {} cost={}\".format(epoch+1,avg_cost))\n",
    "\n",
    "    print(\"Training Completed in {} Epochs\".format(training_epochs))"
   ]
  },
  {
   "cell_type": "markdown",
   "metadata": {},
   "source": [
    "## 安裝Keras"
   ]
  },
  {
   "cell_type": "code",
   "execution_count": 125,
   "metadata": {},
   "outputs": [
    {
     "name": "stdout",
     "output_type": "stream",
     "text": [
      "Collecting keras\n",
      "  Downloading https://files.pythonhosted.org/packages/68/12/4cabc5c01451eb3b413d19ea151f36e33026fc0efb932bf51bcaf54acbf5/Keras-2.2.0-py2.py3-none-any.whl (300kB)\n",
      "Requirement already satisfied: numpy>=1.9.1 in c:\\programdata\\anaconda3\\lib\\site-packages (from keras) (1.14.3)\n",
      "Requirement already satisfied: scipy>=0.14 in c:\\programdata\\anaconda3\\lib\\site-packages (from keras) (1.1.0)\n",
      "Collecting keras-applications==1.0.2 (from keras)\n",
      "  Downloading https://files.pythonhosted.org/packages/e2/60/c557075e586e968d7a9c314aa38c236b37cb3ee6b37e8d57152b1a5e0b47/Keras_Applications-1.0.2-py2.py3-none-any.whl (43kB)\n",
      "Requirement already satisfied: h5py in c:\\programdata\\anaconda3\\lib\\site-packages (from keras) (2.7.1)\n",
      "Requirement already satisfied: six>=1.9.0 in c:\\programdata\\anaconda3\\lib\\site-packages (from keras) (1.11.0)\n",
      "Requirement already satisfied: pyyaml in c:\\programdata\\anaconda3\\lib\\site-packages (from keras) (3.12)\n",
      "Collecting keras-preprocessing==1.0.1 (from keras)\n",
      "  Downloading https://files.pythonhosted.org/packages/f8/33/275506afe1d96b221f66f95adba94d1b73f6b6087cfb6132a5655b6fe338/Keras_Preprocessing-1.0.1-py2.py3-none-any.whl\n",
      "Installing collected packages: keras-applications, keras-preprocessing, keras\n",
      "Successfully installed keras-2.2.0 keras-applications-1.0.2 keras-preprocessing-1.0.1\n"
     ]
    },
    {
     "name": "stderr",
     "output_type": "stream",
     "text": [
      "distributed 1.21.8 requires msgpack, which is not installed.\n"
     ]
    }
   ],
   "source": [
    "! pip install keras"
   ]
  },
  {
   "cell_type": "markdown",
   "metadata": {},
   "source": [
    "## 使用Keras 辨識手寫數字"
   ]
  },
  {
   "cell_type": "code",
   "execution_count": 126,
   "metadata": {},
   "outputs": [
    {
     "name": "stderr",
     "output_type": "stream",
     "text": [
      "Using TensorFlow backend.\n"
     ]
    }
   ],
   "source": [
    "import keras"
   ]
  },
  {
   "cell_type": "code",
   "execution_count": 128,
   "metadata": {},
   "outputs": [],
   "source": [
    "from keras.datasets import mnist\n",
    "from keras.models import Sequential\n",
    "from keras.optimizers import SGD\n",
    "from keras.layers import Activation, Dense"
   ]
  },
  {
   "cell_type": "code",
   "execution_count": 148,
   "metadata": {},
   "outputs": [],
   "source": [
    "(x_train, y_train), (x_test, y_test) = mnist.load_data()"
   ]
  },
  {
   "cell_type": "code",
   "execution_count": 149,
   "metadata": {},
   "outputs": [
    {
     "data": {
      "text/plain": [
       "(60000, 28, 28)"
      ]
     },
     "execution_count": 149,
     "metadata": {},
     "output_type": "execute_result"
    }
   ],
   "source": [
    "x_train.shape"
   ]
  },
  {
   "cell_type": "code",
   "execution_count": 150,
   "metadata": {},
   "outputs": [
    {
     "data": {
      "text/plain": [
       "array([5, 0, 4, ..., 5, 6, 8], dtype=uint8)"
      ]
     },
     "execution_count": 150,
     "metadata": {},
     "output_type": "execute_result"
    }
   ],
   "source": [
    "y_train"
   ]
  },
  {
   "cell_type": "code",
   "execution_count": 151,
   "metadata": {},
   "outputs": [
    {
     "data": {
      "text/plain": [
       "(10000, 28, 28)"
      ]
     },
     "execution_count": 151,
     "metadata": {},
     "output_type": "execute_result"
    }
   ],
   "source": [
    "x_test.shape"
   ]
  },
  {
   "cell_type": "code",
   "execution_count": 152,
   "metadata": {},
   "outputs": [
    {
     "data": {
      "text/plain": [
       "array([7, 2, 1, ..., 4, 5, 6], dtype=uint8)"
      ]
     },
     "execution_count": 152,
     "metadata": {},
     "output_type": "execute_result"
    }
   ],
   "source": [
    "y_test"
   ]
  },
  {
   "cell_type": "code",
   "execution_count": 154,
   "metadata": {},
   "outputs": [
    {
     "data": {
      "text/plain": [
       "<matplotlib.image.AxesImage at 0x114b59e8>"
      ]
     },
     "execution_count": 154,
     "metadata": {},
     "output_type": "execute_result"
    },
    {
     "data": {
      "image/png": "[encoded data removed]",
      "text/plain": [
       "<Figure size 432x288 with 1 Axes>"
      ]
     },
     "metadata": {},
     "output_type": "display_data"
    }
   ],
   "source": [
    "plt.imshow(x_train[0])"
   ]
  },
  {
   "cell_type": "code",
   "execution_count": 155,
   "metadata": {},
   "outputs": [],
   "source": [
    "x_train = x_train.reshape(60000, 784)\n",
    "x_test  = x_test.reshape(10000, 784)"
   ]
  },
  {
   "cell_type": "code",
   "execution_count": 156,
   "metadata": {},
   "outputs": [
    {
     "data": {
      "text/plain": [
       "0"
      ]
     },
     "execution_count": 156,
     "metadata": {},
     "output_type": "execute_result"
    }
   ],
   "source": [
    "np.max(x_train[0])\n",
    "np.min(x_train[0])"
   ]
  },
  {
   "cell_type": "code",
   "execution_count": 157,
   "metadata": {},
   "outputs": [],
   "source": [
    "x_train = x_train.astype('float32')\n",
    "x_test  = x_test.astype('float32')\n",
    "x_train /= 255\n",
    "x_test  /= 255"
   ]
  },
  {
   "cell_type": "code",
   "execution_count": 158,
   "metadata": {},
   "outputs": [
    {
     "data": {
      "text/plain": [
       "0.0"
      ]
     },
     "execution_count": 158,
     "metadata": {},
     "output_type": "execute_result"
    }
   ],
   "source": [
    "np.max(x_train[0])\n",
    "np.min(x_train[0])"
   ]
  },
  {
   "cell_type": "code",
   "execution_count": 159,
   "metadata": {},
   "outputs": [
    {
     "data": {
      "text/plain": [
       "array([[0., 0., 0., ..., 0., 0., 0.],\n",
       "       [0., 0., 0., ..., 0., 0., 0.],\n",
       "       [0., 0., 0., ..., 0., 0., 0.],\n",
       "       ...,\n",
       "       [0., 0., 0., ..., 0., 0., 0.],\n",
       "       [0., 0., 0., ..., 0., 0., 0.],\n",
       "       [0., 0., 0., ..., 0., 0., 0.]], dtype=float32)"
      ]
     },
     "execution_count": 159,
     "metadata": {},
     "output_type": "execute_result"
    }
   ],
   "source": [
    "x_train"
   ]
  },
  {
   "cell_type": "code",
   "execution_count": 160,
   "metadata": {},
   "outputs": [
    {
     "data": {
      "text/plain": [
       "array([5, 0, 4, ..., 5, 6, 8], dtype=uint8)"
      ]
     },
     "execution_count": 160,
     "metadata": {},
     "output_type": "execute_result"
    }
   ],
   "source": [
    "y_train"
   ]
  },
  {
   "cell_type": "code",
   "execution_count": 161,
   "metadata": {},
   "outputs": [],
   "source": [
    "n_classes  = 10 \n",
    "y_train = keras.utils.to_categorical(y_train, n_classes)\n",
    "y_test  = keras.utils.to_categorical(y_test, n_classes)"
   ]
  },
  {
   "cell_type": "code",
   "execution_count": 163,
   "metadata": {},
   "outputs": [
    {
     "data": {
      "text/plain": [
       "array([0., 0., 0., 0., 0., 1., 0., 0., 0., 0.], dtype=float32)"
      ]
     },
     "execution_count": 163,
     "metadata": {},
     "output_type": "execute_result"
    }
   ],
   "source": [
    "y_train[0]"
   ]
  },
  {
   "cell_type": "markdown",
   "metadata": {},
   "source": [
    "### 設定網路參數"
   ]
  },
  {
   "cell_type": "code",
   "execution_count": 165,
   "metadata": {},
   "outputs": [],
   "source": [
    "n_hidden_1 = 256 \n",
    "n_hidden_2 = 256 \n",
    "n_input    = 784 \n",
    "n_classes  = 10 \n",
    "\n",
    "training_epochs = 15\n",
    "batch_size = 100"
   ]
  },
  {
   "cell_type": "markdown",
   "metadata": {},
   "source": [
    "### 建構神經網路"
   ]
  },
  {
   "cell_type": "code",
   "execution_count": 166,
   "metadata": {},
   "outputs": [],
   "source": [
    "model = keras.Sequential()\n",
    "model.add(Dense(n_hidden_1, activation='relu', input_shape=(n_input,)))\n",
    "model.add(Dense(n_hidden_2, activation='relu'))\n",
    "model.add(Dense(n_classes, activation='softmax'))"
   ]
  },
  {
   "cell_type": "code",
   "execution_count": 167,
   "metadata": {},
   "outputs": [],
   "source": [
    "model.compile(loss='categorical_crossentropy',\n",
    "              optimizer='sgd',\n",
    "              metrics=['accuracy'])"
   ]
  },
  {
   "cell_type": "code",
   "execution_count": null,
   "metadata": {},
   "outputs": [],
   "source": [
    "## Dense = activation_function(X * Weight + Bias)"
   ]
  },
  {
   "cell_type": "markdown",
   "metadata": {},
   "source": [
    "### 訓練神經網路"
   ]
  },
  {
   "cell_type": "code",
   "execution_count": 168,
   "metadata": {},
   "outputs": [
    {
     "name": "stdout",
     "output_type": "stream",
     "text": [
      "Train on 60000 samples, validate on 10000 samples\n",
      "Epoch 1/15\n",
      "60000/60000 [==============================] - 2s 34us/step - loss: 1.0719 - acc: 0.7464 - val_loss: 0.4859 - val_acc: 0.8787\n",
      "Epoch 2/15\n",
      "60000/60000 [==============================] - 2s 32us/step - loss: 0.4263 - acc: 0.8860 - val_loss: 0.3538 - val_acc: 0.9043\n",
      "Epoch 3/15\n",
      "60000/60000 [==============================] - 2s 32us/step - loss: 0.3470 - acc: 0.9028 - val_loss: 0.3064 - val_acc: 0.9158\n",
      "Epoch 4/15\n",
      "60000/60000 [==============================] - ETA: 0s - loss: 0.3097 - acc: 0.911 - 2s 32us/step - loss: 0.3093 - acc: 0.9119 - val_loss: 0.2820 - val_acc: 0.9223\n",
      "Epoch 5/15\n",
      "60000/60000 [==============================] - 2s 30us/step - loss: 0.2841 - acc: 0.9199 - val_loss: 0.2623 - val_acc: 0.9250\n",
      "Epoch 6/15\n",
      "60000/60000 [==============================] - 2s 30us/step - loss: 0.2642 - acc: 0.9251 - val_loss: 0.2460 - val_acc: 0.9306\n",
      "Epoch 7/15\n",
      "60000/60000 [==============================] - 2s 30us/step - loss: 0.2478 - acc: 0.9293 - val_loss: 0.2324 - val_acc: 0.9345\n",
      "Epoch 8/15\n",
      "60000/60000 [==============================] - 2s 31us/step - loss: 0.2335 - acc: 0.9335 - val_loss: 0.2207 - val_acc: 0.9372\n",
      "Epoch 9/15\n",
      "60000/60000 [==============================] - 2s 31us/step - loss: 0.2209 - acc: 0.9371 - val_loss: 0.2157 - val_acc: 0.9390\n",
      "Epoch 10/15\n",
      "60000/60000 [==============================] - 2s 31us/step - loss: 0.2096 - acc: 0.9403 - val_loss: 0.1993 - val_acc: 0.9418\n",
      "Epoch 11/15\n",
      "60000/60000 [==============================] - 2s 31us/step - loss: 0.1999 - acc: 0.9434 - val_loss: 0.1905 - val_acc: 0.9453\n",
      "Epoch 12/15\n",
      "60000/60000 [==============================] - 2s 32us/step - loss: 0.1905 - acc: 0.9461 - val_loss: 0.1824 - val_acc: 0.9478\n",
      "Epoch 13/15\n",
      "60000/60000 [==============================] - 2s 32us/step - loss: 0.1819 - acc: 0.9485 - val_loss: 0.1763 - val_acc: 0.9491\n",
      "Epoch 14/15\n",
      "60000/60000 [==============================] - 2s 32us/step - loss: 0.1744 - acc: 0.9507 - val_loss: 0.1697 - val_acc: 0.9514\n",
      "Epoch 15/15\n",
      "60000/60000 [==============================] - 2s 33us/step - loss: 0.1672 - acc: 0.9525 - val_loss: 0.1635 - val_acc: 0.9534\n"
     ]
    }
   ],
   "source": [
    "history = model.fit(x_train, y_train,\n",
    "                    batch_size=batch_size,\n",
    "                    epochs=training_epochs,\n",
    "                    verbose=1,\n",
    "                    validation_data=(x_test, y_test))"
   ]
  },
  {
   "cell_type": "code",
   "execution_count": 171,
   "metadata": {},
   "outputs": [],
   "source": [
    "predicted = np.argmax(model.predict(x_test), 1)"
   ]
  },
  {
   "cell_type": "code",
   "execution_count": 174,
   "metadata": {},
   "outputs": [],
   "source": [
    "y = np.argmax(y_test, 1)"
   ]
  },
  {
   "cell_type": "code",
   "execution_count": 175,
   "metadata": {},
   "outputs": [
    {
     "data": {
      "text/plain": [
       "0.9534"
      ]
     },
     "execution_count": 175,
     "metadata": {},
     "output_type": "execute_result"
    }
   ],
   "source": [
    "from sklearn.metrics import confusion_matrix, accuracy_score\n",
    "accuracy_score(y, predicted)"
   ]
  },
  {
   "cell_type": "code",
   "execution_count": 176,
   "metadata": {},
   "outputs": [
    {
     "data": {
      "text/plain": [
       "array([[ 970,    0,    1,    1,    0,    3,    3,    1,    1,    0],\n",
       "       [   0, 1116,    2,    2,    0,    1,    3,    2,    9,    0],\n",
       "       [   6,    3,  985,    7,    5,    2,    5,    9,    9,    1],\n",
       "       [   1,    1,    8,  962,    0,   14,    1,    9,   10,    4],\n",
       "       [   1,    2,    4,    0,  938,    0,    9,    2,    3,   23],\n",
       "       [   9,    1,    0,   21,    4,  832,   10,    1,    8,    6],\n",
       "       [  11,    3,    3,    0,    7,    9,  920,    1,    4,    0],\n",
       "       [   1,    8,   20,    6,    3,    1,    0,  971,    1,   17],\n",
       "       [   6,    4,    3,   18,    7,    9,   11,   10,  902,    4],\n",
       "       [   9,    8,    1,   12,   24,    5,    1,    8,    3,  938]],\n",
       "      dtype=int64)"
      ]
     },
     "execution_count": 176,
     "metadata": {},
     "output_type": "execute_result"
    }
   ],
   "source": [
    "confusion_matrix(y, predicted)"
   ]
  },
  {
   "cell_type": "markdown",
   "metadata": {},
   "source": [
    "## 使用者流失分析"
   ]
  },
  {
   "cell_type": "markdown",
   "metadata": {},
   "source": [
    "### Method 1"
   ]
  },
  {
   "cell_type": "code",
   "execution_count": 1,
   "metadata": {},
   "outputs": [],
   "source": [
    "import pandas as pd\n",
    "dataset = pd.read_csv('https://raw.githubusercontent.com/ywchiu/tibamedl/master/Data/Churn_Modelling.csv')"
   ]
  },
  {
   "cell_type": "code",
   "execution_count": 2,
   "metadata": {},
   "outputs": [
    {
     "data": {
      "text/html": [
       "<div>\n",
       "<style scoped>\n",
       "    .dataframe tbody tr th:only-of-type {\n",
       "        vertical-align: middle;\n",
       "    }\n",
       "\n",
       "    .dataframe tbody tr th {\n",
       "        vertical-align: top;\n",
       "    }\n",
       "\n",
       "    .dataframe thead th {\n",
       "        text-align: right;\n",
       "    }\n",
       "</style>\n",
       "<table border=\"1\" class=\"dataframe\">\n",
       "  <thead>\n",
       "    <tr style=\"text-align: right;\">\n",
       "      <th></th>\n",
       "      <th>RowNumber</th>\n",
       "      <th>CustomerId</th>\n",
       "      <th>Surname</th>\n",
       "      <th>CreditScore</th>\n",
       "      <th>Geography</th>\n",
       "      <th>Gender</th>\n",
       "      <th>Age</th>\n",
       "      <th>Tenure</th>\n",
       "      <th>Balance</th>\n",
       "      <th>NumOfProducts</th>\n",
       "      <th>HasCrCard</th>\n",
       "      <th>IsActiveMember</th>\n",
       "      <th>EstimatedSalary</th>\n",
       "      <th>Exited</th>\n",
       "    </tr>\n",
       "  </thead>\n",
       "  <tbody>\n",
       "    <tr>\n",
       "      <th>0</th>\n",
       "      <td>1</td>\n",
       "      <td>15634602</td>\n",
       "      <td>Hargrave</td>\n",
       "      <td>619</td>\n",
       "      <td>France</td>\n",
       "      <td>Female</td>\n",
       "      <td>42</td>\n",
       "      <td>2</td>\n",
       "      <td>0.00</td>\n",
       "      <td>1</td>\n",
       "      <td>1</td>\n",
       "      <td>1</td>\n",
       "      <td>101348.88</td>\n",
       "      <td>1</td>\n",
       "    </tr>\n",
       "    <tr>\n",
       "      <th>1</th>\n",
       "      <td>2</td>\n",
       "      <td>15647311</td>\n",
       "      <td>Hill</td>\n",
       "      <td>608</td>\n",
       "      <td>Spain</td>\n",
       "      <td>Female</td>\n",
       "      <td>41</td>\n",
       "      <td>1</td>\n",
       "      <td>83807.86</td>\n",
       "      <td>1</td>\n",
       "      <td>0</td>\n",
       "      <td>1</td>\n",
       "      <td>112542.58</td>\n",
       "      <td>0</td>\n",
       "    </tr>\n",
       "    <tr>\n",
       "      <th>2</th>\n",
       "      <td>3</td>\n",
       "      <td>15619304</td>\n",
       "      <td>Onio</td>\n",
       "      <td>502</td>\n",
       "      <td>France</td>\n",
       "      <td>Female</td>\n",
       "      <td>42</td>\n",
       "      <td>8</td>\n",
       "      <td>159660.80</td>\n",
       "      <td>3</td>\n",
       "      <td>1</td>\n",
       "      <td>0</td>\n",
       "      <td>113931.57</td>\n",
       "      <td>1</td>\n",
       "    </tr>\n",
       "    <tr>\n",
       "      <th>3</th>\n",
       "      <td>4</td>\n",
       "      <td>15701354</td>\n",
       "      <td>Boni</td>\n",
       "      <td>699</td>\n",
       "      <td>France</td>\n",
       "      <td>Female</td>\n",
       "      <td>39</td>\n",
       "      <td>1</td>\n",
       "      <td>0.00</td>\n",
       "      <td>2</td>\n",
       "      <td>0</td>\n",
       "      <td>0</td>\n",
       "      <td>93826.63</td>\n",
       "      <td>0</td>\n",
       "    </tr>\n",
       "    <tr>\n",
       "      <th>4</th>\n",
       "      <td>5</td>\n",
       "      <td>15737888</td>\n",
       "      <td>Mitchell</td>\n",
       "      <td>850</td>\n",
       "      <td>Spain</td>\n",
       "      <td>Female</td>\n",
       "      <td>43</td>\n",
       "      <td>2</td>\n",
       "      <td>125510.82</td>\n",
       "      <td>1</td>\n",
       "      <td>1</td>\n",
       "      <td>1</td>\n",
       "      <td>79084.10</td>\n",
       "      <td>0</td>\n",
       "    </tr>\n",
       "  </tbody>\n",
       "</table>\n",
       "</div>"
      ],
      "text/plain": [
       "   RowNumber  CustomerId   Surname  CreditScore Geography  Gender  Age  \\\n",
       "0          1    15634602  Hargrave          619    France  Female   42   \n",
       "1          2    15647311      Hill          608     Spain  Female   41   \n",
       "2          3    15619304      Onio          502    France  Female   42   \n",
       "3          4    15701354      Boni          699    France  Female   39   \n",
       "4          5    15737888  Mitchell          850     Spain  Female   43   \n",
       "\n",
       "   Tenure    Balance  NumOfProducts  HasCrCard  IsActiveMember  \\\n",
       "0       2       0.00              1          1               1   \n",
       "1       1   83807.86              1          0               1   \n",
       "2       8  159660.80              3          1               0   \n",
       "3       1       0.00              2          0               0   \n",
       "4       2  125510.82              1          1               1   \n",
       "\n",
       "   EstimatedSalary  Exited  \n",
       "0        101348.88       1  \n",
       "1        112542.58       0  \n",
       "2        113931.57       1  \n",
       "3         93826.63       0  \n",
       "4         79084.10       0  "
      ]
     },
     "execution_count": 2,
     "metadata": {},
     "output_type": "execute_result"
    }
   ],
   "source": [
    "dataset.head()"
   ]
  },
  {
   "cell_type": "code",
   "execution_count": 3,
   "metadata": {},
   "outputs": [],
   "source": [
    "X = dataset.iloc[:, 3:13]"
   ]
  },
  {
   "cell_type": "code",
   "execution_count": 4,
   "metadata": {},
   "outputs": [
    {
     "data": {
      "text/html": [
       "<div>\n",
       "<style scoped>\n",
       "    .dataframe tbody tr th:only-of-type {\n",
       "        vertical-align: middle;\n",
       "    }\n",
       "\n",
       "    .dataframe tbody tr th {\n",
       "        vertical-align: top;\n",
       "    }\n",
       "\n",
       "    .dataframe thead th {\n",
       "        text-align: right;\n",
       "    }\n",
       "</style>\n",
       "<table border=\"1\" class=\"dataframe\">\n",
       "  <thead>\n",
       "    <tr style=\"text-align: right;\">\n",
       "      <th></th>\n",
       "      <th>CreditScore</th>\n",
       "      <th>Geography</th>\n",
       "      <th>Gender</th>\n",
       "      <th>Age</th>\n",
       "      <th>Tenure</th>\n",
       "      <th>Balance</th>\n",
       "      <th>NumOfProducts</th>\n",
       "      <th>HasCrCard</th>\n",
       "      <th>IsActiveMember</th>\n",
       "      <th>EstimatedSalary</th>\n",
       "    </tr>\n",
       "  </thead>\n",
       "  <tbody>\n",
       "    <tr>\n",
       "      <th>0</th>\n",
       "      <td>619</td>\n",
       "      <td>France</td>\n",
       "      <td>Female</td>\n",
       "      <td>42</td>\n",
       "      <td>2</td>\n",
       "      <td>0.00</td>\n",
       "      <td>1</td>\n",
       "      <td>1</td>\n",
       "      <td>1</td>\n",
       "      <td>101348.88</td>\n",
       "    </tr>\n",
       "    <tr>\n",
       "      <th>1</th>\n",
       "      <td>608</td>\n",
       "      <td>Spain</td>\n",
       "      <td>Female</td>\n",
       "      <td>41</td>\n",
       "      <td>1</td>\n",
       "      <td>83807.86</td>\n",
       "      <td>1</td>\n",
       "      <td>0</td>\n",
       "      <td>1</td>\n",
       "      <td>112542.58</td>\n",
       "    </tr>\n",
       "    <tr>\n",
       "      <th>2</th>\n",
       "      <td>502</td>\n",
       "      <td>France</td>\n",
       "      <td>Female</td>\n",
       "      <td>42</td>\n",
       "      <td>8</td>\n",
       "      <td>159660.80</td>\n",
       "      <td>3</td>\n",
       "      <td>1</td>\n",
       "      <td>0</td>\n",
       "      <td>113931.57</td>\n",
       "    </tr>\n",
       "    <tr>\n",
       "      <th>3</th>\n",
       "      <td>699</td>\n",
       "      <td>France</td>\n",
       "      <td>Female</td>\n",
       "      <td>39</td>\n",
       "      <td>1</td>\n",
       "      <td>0.00</td>\n",
       "      <td>2</td>\n",
       "      <td>0</td>\n",
       "      <td>0</td>\n",
       "      <td>93826.63</td>\n",
       "    </tr>\n",
       "    <tr>\n",
       "      <th>4</th>\n",
       "      <td>850</td>\n",
       "      <td>Spain</td>\n",
       "      <td>Female</td>\n",
       "      <td>43</td>\n",
       "      <td>2</td>\n",
       "      <td>125510.82</td>\n",
       "      <td>1</td>\n",
       "      <td>1</td>\n",
       "      <td>1</td>\n",
       "      <td>79084.10</td>\n",
       "    </tr>\n",
       "  </tbody>\n",
       "</table>\n",
       "</div>"
      ],
      "text/plain": [
       "   CreditScore Geography  Gender  Age  Tenure    Balance  NumOfProducts  \\\n",
       "0          619    France  Female   42       2       0.00              1   \n",
       "1          608     Spain  Female   41       1   83807.86              1   \n",
       "2          502    France  Female   42       8  159660.80              3   \n",
       "3          699    France  Female   39       1       0.00              2   \n",
       "4          850     Spain  Female   43       2  125510.82              1   \n",
       "\n",
       "   HasCrCard  IsActiveMember  EstimatedSalary  \n",
       "0          1               1        101348.88  \n",
       "1          0               1        112542.58  \n",
       "2          1               0        113931.57  \n",
       "3          0               0         93826.63  \n",
       "4          1               1         79084.10  "
      ]
     },
     "execution_count": 4,
     "metadata": {},
     "output_type": "execute_result"
    }
   ],
   "source": [
    "X.head()"
   ]
  },
  {
   "cell_type": "code",
   "execution_count": 5,
   "metadata": {},
   "outputs": [
    {
     "data": {
      "text/plain": [
       "France     5014\n",
       "Germany    2509\n",
       "Spain      2477\n",
       "Name: Geography, dtype: int64"
      ]
     },
     "execution_count": 5,
     "metadata": {},
     "output_type": "execute_result"
    }
   ],
   "source": [
    "X['Geography'].value_counts()"
   ]
  },
  {
   "cell_type": "code",
   "execution_count": 6,
   "metadata": {},
   "outputs": [],
   "source": [
    "y = dataset.iloc[:, 13]"
   ]
  },
  {
   "cell_type": "code",
   "execution_count": 7,
   "metadata": {},
   "outputs": [
    {
     "data": {
      "text/plain": [
       "0    1\n",
       "1    0\n",
       "2    1\n",
       "3    0\n",
       "4    0\n",
       "Name: Exited, dtype: int64"
      ]
     },
     "execution_count": 7,
     "metadata": {},
     "output_type": "execute_result"
    }
   ],
   "source": [
    "y.head()"
   ]
  },
  {
   "cell_type": "code",
   "execution_count": 8,
   "metadata": {},
   "outputs": [],
   "source": [
    "X = dataset.iloc[:, 3:13].values\n",
    "y = dataset.iloc[:, 13].values"
   ]
  },
  {
   "cell_type": "code",
   "execution_count": 9,
   "metadata": {},
   "outputs": [
    {
     "data": {
      "text/plain": [
       "array([[619, 'France', 'Female', ..., 1, 1, 101348.88],\n",
       "       [608, 'Spain', 'Female', ..., 0, 1, 112542.58],\n",
       "       [502, 'France', 'Female', ..., 1, 0, 113931.57],\n",
       "       ...,\n",
       "       [709, 'France', 'Female', ..., 0, 1, 42085.58],\n",
       "       [772, 'Germany', 'Male', ..., 1, 0, 92888.52],\n",
       "       [792, 'France', 'Female', ..., 1, 0, 38190.78]], dtype=object)"
      ]
     },
     "execution_count": 9,
     "metadata": {},
     "output_type": "execute_result"
    }
   ],
   "source": [
    "X"
   ]
  },
  {
   "cell_type": "code",
   "execution_count": 10,
   "metadata": {},
   "outputs": [
    {
     "data": {
      "text/plain": [
       "array([1, 0, 1, ..., 1, 1, 0], dtype=int64)"
      ]
     },
     "execution_count": 10,
     "metadata": {},
     "output_type": "execute_result"
    }
   ],
   "source": [
    "y"
   ]
  },
  {
   "cell_type": "code",
   "execution_count": 11,
   "metadata": {},
   "outputs": [],
   "source": [
    "from sklearn.preprocessing import LabelEncoder, OneHotEncoder\n",
    "labelencoder_X_1 = LabelEncoder()\n",
    "X[:, 1] = labelencoder_X_1.fit_transform(X[:, 1])"
   ]
  },
  {
   "cell_type": "code",
   "execution_count": 12,
   "metadata": {},
   "outputs": [
    {
     "data": {
      "text/plain": [
       "array([[619, 0, 'Female', ..., 1, 1, 101348.88],\n",
       "       [608, 2, 'Female', ..., 0, 1, 112542.58],\n",
       "       [502, 0, 'Female', ..., 1, 0, 113931.57],\n",
       "       ...,\n",
       "       [709, 0, 'Female', ..., 0, 1, 42085.58],\n",
       "       [772, 1, 'Male', ..., 1, 0, 92888.52],\n",
       "       [792, 0, 'Female', ..., 1, 0, 38190.78]], dtype=object)"
      ]
     },
     "execution_count": 12,
     "metadata": {},
     "output_type": "execute_result"
    }
   ],
   "source": [
    "X"
   ]
  },
  {
   "cell_type": "code",
   "execution_count": 13,
   "metadata": {},
   "outputs": [],
   "source": [
    "from sklearn.preprocessing import LabelEncoder, OneHotEncoder\n",
    "labelencoder_X_2 = LabelEncoder()\n",
    "X[:, 2] = labelencoder_X_2.fit_transform(X[:, 2])"
   ]
  },
  {
   "cell_type": "code",
   "execution_count": 14,
   "metadata": {},
   "outputs": [
    {
     "data": {
      "text/plain": [
       "array([[619, 0, 0, ..., 1, 1, 101348.88],\n",
       "       [608, 2, 0, ..., 0, 1, 112542.58],\n",
       "       [502, 0, 0, ..., 1, 0, 113931.57],\n",
       "       ...,\n",
       "       [709, 0, 0, ..., 0, 1, 42085.58],\n",
       "       [772, 1, 1, ..., 1, 0, 92888.52],\n",
       "       [792, 0, 0, ..., 1, 0, 38190.78]], dtype=object)"
      ]
     },
     "execution_count": 14,
     "metadata": {},
     "output_type": "execute_result"
    }
   ],
   "source": [
    "X"
   ]
  },
  {
   "cell_type": "code",
   "execution_count": 15,
   "metadata": {},
   "outputs": [],
   "source": [
    "onehotencoder = OneHotEncoder(categorical_features = [1])\n",
    "X = onehotencoder.fit_transform(X)"
   ]
  },
  {
   "cell_type": "code",
   "execution_count": 16,
   "metadata": {},
   "outputs": [
    {
     "data": {
      "text/plain": [
       "array([1.0000000e+00, 0.0000000e+00, 0.0000000e+00, 6.1900000e+02,\n",
       "       0.0000000e+00, 4.2000000e+01, 2.0000000e+00, 0.0000000e+00,\n",
       "       1.0000000e+00, 1.0000000e+00, 1.0000000e+00, 1.0134888e+05])"
      ]
     },
     "execution_count": 16,
     "metadata": {},
     "output_type": "execute_result"
    }
   ],
   "source": [
    "X.toarray()[0]"
   ]
  },
  {
   "cell_type": "code",
   "execution_count": 17,
   "metadata": {},
   "outputs": [],
   "source": [
    "X = X.toarray()[:, 1:]"
   ]
  },
  {
   "cell_type": "code",
   "execution_count": 18,
   "metadata": {},
   "outputs": [
    {
     "data": {
      "text/plain": [
       "array([[0.0000000e+00, 0.0000000e+00, 6.1900000e+02, ..., 1.0000000e+00,\n",
       "        1.0000000e+00, 1.0134888e+05],\n",
       "       [0.0000000e+00, 1.0000000e+00, 6.0800000e+02, ..., 0.0000000e+00,\n",
       "        1.0000000e+00, 1.1254258e+05],\n",
       "       [0.0000000e+00, 0.0000000e+00, 5.0200000e+02, ..., 1.0000000e+00,\n",
       "        0.0000000e+00, 1.1393157e+05],\n",
       "       ...,\n",
       "       [0.0000000e+00, 0.0000000e+00, 7.0900000e+02, ..., 0.0000000e+00,\n",
       "        1.0000000e+00, 4.2085580e+04],\n",
       "       [1.0000000e+00, 0.0000000e+00, 7.7200000e+02, ..., 1.0000000e+00,\n",
       "        0.0000000e+00, 9.2888520e+04],\n",
       "       [0.0000000e+00, 0.0000000e+00, 7.9200000e+02, ..., 1.0000000e+00,\n",
       "        0.0000000e+00, 3.8190780e+04]])"
      ]
     },
     "execution_count": 18,
     "metadata": {},
     "output_type": "execute_result"
    }
   ],
   "source": [
    "X"
   ]
  },
  {
   "cell_type": "markdown",
   "metadata": {},
   "source": [
    "### Method 2"
   ]
  },
  {
   "cell_type": "code",
   "execution_count": 243,
   "metadata": {},
   "outputs": [],
   "source": [
    "import pandas as pd\n",
    "dataset = pd.read_csv('https://raw.githubusercontent.com/ywchiu/tibamedl/master/Data/Churn_Modelling.csv')"
   ]
  },
  {
   "cell_type": "code",
   "execution_count": 244,
   "metadata": {},
   "outputs": [],
   "source": [
    "X = dataset.iloc[:, 3:13]\n",
    "y = dataset.iloc[:, 13]"
   ]
  },
  {
   "cell_type": "code",
   "execution_count": 253,
   "metadata": {},
   "outputs": [],
   "source": [
    "X = pd.concat([pd.get_dummies(X['Geography']), X], axis = 1)"
   ]
  },
  {
   "cell_type": "code",
   "execution_count": 255,
   "metadata": {},
   "outputs": [],
   "source": [
    "del X['Geography']"
   ]
  },
  {
   "cell_type": "code",
   "execution_count": 257,
   "metadata": {},
   "outputs": [],
   "source": [
    "del X['France']"
   ]
  },
  {
   "cell_type": "code",
   "execution_count": 260,
   "metadata": {},
   "outputs": [],
   "source": [
    "X['Gender'] = X['Gender'].map(lambda e: 1 if e== 'Male' else 0 )"
   ]
  },
  {
   "cell_type": "code",
   "execution_count": 265,
   "metadata": {},
   "outputs": [
    {
     "data": {
      "text/plain": [
       "(10000, 11)"
      ]
     },
     "execution_count": 265,
     "metadata": {},
     "output_type": "execute_result"
    }
   ],
   "source": [
    "X.values.shape"
   ]
  },
  {
   "cell_type": "code",
   "execution_count": 266,
   "metadata": {},
   "outputs": [
    {
     "data": {
      "text/plain": [
       "array([1, 0, 1, ..., 1, 1, 0], dtype=int64)"
      ]
     },
     "execution_count": 266,
     "metadata": {},
     "output_type": "execute_result"
    }
   ],
   "source": [
    "y.values"
   ]
  },
  {
   "cell_type": "code",
   "execution_count": 267,
   "metadata": {},
   "outputs": [],
   "source": [
    "X = X.values\n",
    "y = y.values"
   ]
  },
  {
   "cell_type": "code",
   "execution_count": 19,
   "metadata": {},
   "outputs": [],
   "source": [
    "from sklearn.model_selection import train_test_split\n",
    "X_train, X_test, y_train, y_test = train_test_split(X, y, test_size = 0.2, random_state = 0)\n"
   ]
  },
  {
   "cell_type": "code",
   "execution_count": 20,
   "metadata": {},
   "outputs": [
    {
     "data": {
      "text/plain": [
       "(8000, 11)"
      ]
     },
     "execution_count": 20,
     "metadata": {},
     "output_type": "execute_result"
    }
   ],
   "source": [
    "X_train.shape"
   ]
  },
  {
   "cell_type": "code",
   "execution_count": 21,
   "metadata": {},
   "outputs": [
    {
     "data": {
      "text/plain": [
       "(2000, 11)"
      ]
     },
     "execution_count": 21,
     "metadata": {},
     "output_type": "execute_result"
    }
   ],
   "source": [
    "X_test.shape"
   ]
  },
  {
   "cell_type": "code",
   "execution_count": 22,
   "metadata": {},
   "outputs": [
    {
     "data": {
      "text/plain": [
       "(8000,)"
      ]
     },
     "execution_count": 22,
     "metadata": {},
     "output_type": "execute_result"
    }
   ],
   "source": [
    "y_train.shape"
   ]
  },
  {
   "cell_type": "code",
   "execution_count": 23,
   "metadata": {},
   "outputs": [
    {
     "data": {
      "text/plain": [
       "(2000,)"
      ]
     },
     "execution_count": 23,
     "metadata": {},
     "output_type": "execute_result"
    }
   ],
   "source": [
    "y_test.shape"
   ]
  },
  {
   "cell_type": "code",
   "execution_count": 24,
   "metadata": {},
   "outputs": [],
   "source": [
    "from sklearn.preprocessing import StandardScaler\n",
    "sc = StandardScaler()\n",
    "X_train = sc.fit_transform(X_train)\n",
    "X_test  = sc.transform(X_test)\n"
   ]
  },
  {
   "cell_type": "code",
   "execution_count": 25,
   "metadata": {},
   "outputs": [],
   "source": [
    "#X_train\n",
    "#X_test"
   ]
  },
  {
   "cell_type": "code",
   "execution_count": 27,
   "metadata": {},
   "outputs": [
    {
     "name": "stderr",
     "output_type": "stream",
     "text": [
      "C:\\ProgramData\\Anaconda3\\lib\\site-packages\\h5py\\__init__.py:36: FutureWarning: Conversion of the second argument of issubdtype from `float` to `np.floating` is deprecated. In future, it will be treated as `np.float64 == np.dtype(float).type`.\n",
      "  from ._conv import register_converters as _register_converters\n",
      "Using TensorFlow backend.\n"
     ]
    },
    {
     "name": "stdout",
     "output_type": "stream",
     "text": [
      "Epoch 1/100\n",
      "8000/8000 [==============================] - 1s 69us/step - loss: 0.5576 - acc: 0.7949\n",
      "Epoch 2/100\n",
      "8000/8000 [==============================] - 0s 53us/step - loss: 0.5081 - acc: 0.7960\n",
      "Epoch 3/100\n",
      "8000/8000 [==============================] - 0s 54us/step - loss: 0.5061 - acc: 0.7960\n",
      "Epoch 4/100\n",
      "8000/8000 [==============================] - 0s 54us/step - loss: 0.5059 - acc: 0.7960\n",
      "Epoch 5/100\n",
      "8000/8000 [==============================] - 0s 52us/step - loss: 0.5059 - acc: 0.7960\n",
      "Epoch 6/100\n",
      "8000/8000 [==============================] - 0s 54us/step - loss: 0.5059 - acc: 0.7960\n",
      "Epoch 7/100\n",
      "8000/8000 [==============================] - 0s 54us/step - loss: 0.5059 - acc: 0.7960\n",
      "Epoch 8/100\n",
      "8000/8000 [==============================] - 0s 54us/step - loss: 0.5059 - acc: 0.7960\n",
      "Epoch 9/100\n",
      "8000/8000 [==============================] - 0s 56us/step - loss: 0.5058 - acc: 0.7960\n",
      "Epoch 10/100\n",
      "8000/8000 [==============================] - 0s 55us/step - loss: 0.5057 - acc: 0.7960\n",
      "Epoch 11/100\n",
      "8000/8000 [==============================] - 0s 55us/step - loss: 0.5056 - acc: 0.7960\n",
      "Epoch 12/100\n",
      "8000/8000 [==============================] - 0s 55us/step - loss: 0.5055 - acc: 0.7960\n",
      "Epoch 13/100\n",
      "8000/8000 [==============================] - 0s 56us/step - loss: 0.5052 - acc: 0.7960\n",
      "Epoch 14/100\n",
      "8000/8000 [==============================] - 0s 54us/step - loss: 0.5047 - acc: 0.7960\n",
      "Epoch 15/100\n",
      "8000/8000 [==============================] - 0s 55us/step - loss: 0.5038 - acc: 0.7960\n",
      "Epoch 16/100\n",
      "8000/8000 [==============================] - 0s 55us/step - loss: 0.5019 - acc: 0.7960\n",
      "Epoch 17/100\n",
      "8000/8000 [==============================] - 0s 54us/step - loss: 0.4976 - acc: 0.7960\n",
      "Epoch 18/100\n",
      "8000/8000 [==============================] - 0s 54us/step - loss: 0.4854 - acc: 0.7960\n",
      "Epoch 19/100\n",
      "8000/8000 [==============================] - 0s 55us/step - loss: 0.4587 - acc: 0.7960\n",
      "Epoch 20/100\n",
      "8000/8000 [==============================] - 0s 55us/step - loss: 0.4361 - acc: 0.8072\n",
      "Epoch 21/100\n",
      "8000/8000 [==============================] - 0s 54us/step - loss: 0.4253 - acc: 0.8102\n",
      "Epoch 22/100\n",
      "8000/8000 [==============================] - 0s 54us/step - loss: 0.4156 - acc: 0.8147\n",
      "Epoch 23/100\n",
      "8000/8000 [==============================] - 0s 55us/step - loss: 0.4050 - acc: 0.8201\n",
      "Epoch 24/100\n",
      "8000/8000 [==============================] - 0s 55us/step - loss: 0.3953 - acc: 0.8266\n",
      "Epoch 25/100\n",
      "8000/8000 [==============================] - 0s 55us/step - loss: 0.3866 - acc: 0.8311\n",
      "Epoch 26/100\n",
      "8000/8000 [==============================] - 0s 54us/step - loss: 0.3794 - acc: 0.8355\n",
      "Epoch 27/100\n",
      "8000/8000 [==============================] - 0s 54us/step - loss: 0.3737 - acc: 0.8390\n",
      "Epoch 28/100\n",
      "8000/8000 [==============================] - 0s 55us/step - loss: 0.3702 - acc: 0.8414\n",
      "Epoch 29/100\n",
      "8000/8000 [==============================] - 0s 55us/step - loss: 0.3682 - acc: 0.8435\n",
      "Epoch 30/100\n",
      "8000/8000 [==============================] - 0s 54us/step - loss: 0.3667 - acc: 0.8440\n",
      "Epoch 31/100\n",
      "8000/8000 [==============================] - 0s 54us/step - loss: 0.3664 - acc: 0.8435\n",
      "Epoch 32/100\n",
      "8000/8000 [==============================] - 0s 54us/step - loss: 0.3659 - acc: 0.8457\n",
      "Epoch 33/100\n",
      "8000/8000 [==============================] - 0s 53us/step - loss: 0.3651 - acc: 0.8449\n",
      "Epoch 34/100\n",
      "8000/8000 [==============================] - 0s 53us/step - loss: 0.3642 - acc: 0.8437\n",
      "Epoch 35/100\n",
      "8000/8000 [==============================] - 0s 53us/step - loss: 0.3642 - acc: 0.8454\n",
      "Epoch 36/100\n",
      "8000/8000 [==============================] - 0s 54us/step - loss: 0.3631 - acc: 0.8449\n",
      "Epoch 37/100\n",
      "8000/8000 [==============================] - 0s 53us/step - loss: 0.3627 - acc: 0.8446\n",
      "Epoch 38/100\n",
      "8000/8000 [==============================] - 0s 53us/step - loss: 0.3624 - acc: 0.8452\n",
      "Epoch 39/100\n",
      "8000/8000 [==============================] - 0s 53us/step - loss: 0.3610 - acc: 0.8467\n",
      "Epoch 40/100\n",
      "8000/8000 [==============================] - 0s 52us/step - loss: 0.3599 - acc: 0.8459\n",
      "Epoch 41/100\n",
      "8000/8000 [==============================] - 0s 54us/step - loss: 0.3597 - acc: 0.8487\n",
      "Epoch 42/100\n",
      "8000/8000 [==============================] - 0s 53us/step - loss: 0.3579 - acc: 0.8471\n",
      "Epoch 43/100\n",
      "8000/8000 [==============================] - 0s 54us/step - loss: 0.3569 - acc: 0.8479\n",
      "Epoch 44/100\n",
      "8000/8000 [==============================] - 0s 54us/step - loss: 0.3559 - acc: 0.8507\n",
      "Epoch 45/100\n",
      "8000/8000 [==============================] - 0s 54us/step - loss: 0.3543 - acc: 0.8516\n",
      "Epoch 46/100\n",
      "8000/8000 [==============================] - 0s 53us/step - loss: 0.3535 - acc: 0.8537\n",
      "Epoch 47/100\n",
      "8000/8000 [==============================] - 0s 54us/step - loss: 0.3527 - acc: 0.8549\n",
      "Epoch 48/100\n",
      "8000/8000 [==============================] - 0s 54us/step - loss: 0.3517 - acc: 0.8535\n",
      "Epoch 49/100\n",
      "8000/8000 [==============================] - 0s 54us/step - loss: 0.3505 - acc: 0.8560\n",
      "Epoch 50/100\n",
      "8000/8000 [==============================] - 0s 54us/step - loss: 0.3492 - acc: 0.8537\n",
      "Epoch 51/100\n",
      "8000/8000 [==============================] - 0s 53us/step - loss: 0.3487 - acc: 0.8585\n",
      "Epoch 52/100\n",
      "8000/8000 [==============================] - 0s 54us/step - loss: 0.3487 - acc: 0.8551\n",
      "Epoch 53/100\n",
      "8000/8000 [==============================] - 0s 53us/step - loss: 0.3477 - acc: 0.8569\n",
      "Epoch 54/100\n",
      "8000/8000 [==============================] - 0s 54us/step - loss: 0.3473 - acc: 0.8556\n",
      "Epoch 55/100\n",
      "8000/8000 [==============================] - 0s 54us/step - loss: 0.3472 - acc: 0.8574\n",
      "Epoch 56/100\n",
      "8000/8000 [==============================] - 0s 53us/step - loss: 0.3464 - acc: 0.8561\n",
      "Epoch 57/100\n",
      "8000/8000 [==============================] - 0s 55us/step - loss: 0.3461 - acc: 0.8565\n",
      "Epoch 58/100\n",
      "8000/8000 [==============================] - 0s 55us/step - loss: 0.3453 - acc: 0.8587\n",
      "Epoch 59/100\n",
      "8000/8000 [==============================] - 0s 56us/step - loss: 0.3446 - acc: 0.8589\n",
      "Epoch 60/100\n",
      "8000/8000 [==============================] - 0s 56us/step - loss: 0.3442 - acc: 0.8574\n",
      "Epoch 61/100\n",
      "8000/8000 [==============================] - 0s 54us/step - loss: 0.3445 - acc: 0.8572\n",
      "Epoch 62/100\n",
      "8000/8000 [==============================] - 0s 54us/step - loss: 0.3432 - acc: 0.8567\n",
      "Epoch 63/100\n",
      "8000/8000 [==============================] - 0s 53us/step - loss: 0.3432 - acc: 0.8592\n",
      "Epoch 64/100\n",
      "8000/8000 [==============================] - 0s 56us/step - loss: 0.3432 - acc: 0.8569\n",
      "Epoch 65/100\n",
      "8000/8000 [==============================] - 0s 54us/step - loss: 0.3425 - acc: 0.8602\n",
      "Epoch 66/100\n",
      "8000/8000 [==============================] - 0s 55us/step - loss: 0.3426 - acc: 0.8599\n",
      "Epoch 67/100\n",
      "8000/8000 [==============================] - 0s 54us/step - loss: 0.3429 - acc: 0.8564\n",
      "Epoch 68/100\n",
      "8000/8000 [==============================] - 0s 54us/step - loss: 0.3423 - acc: 0.8590\n",
      "Epoch 69/100\n",
      "8000/8000 [==============================] - 0s 56us/step - loss: 0.3421 - acc: 0.8582\n",
      "Epoch 70/100\n",
      "8000/8000 [==============================] - 0s 56us/step - loss: 0.3414 - acc: 0.8600\n",
      "Epoch 71/100\n",
      "8000/8000 [==============================] - 0s 59us/step - loss: 0.3409 - acc: 0.8589\n",
      "Epoch 72/100\n",
      "8000/8000 [==============================] - 0s 56us/step - loss: 0.3404 - acc: 0.8579\n",
      "Epoch 73/100\n",
      "8000/8000 [==============================] - 0s 56us/step - loss: 0.3410 - acc: 0.8587\n",
      "Epoch 74/100\n",
      "8000/8000 [==============================] - 0s 56us/step - loss: 0.3403 - acc: 0.8609\n",
      "Epoch 75/100\n",
      "8000/8000 [==============================] - 0s 54us/step - loss: 0.3400 - acc: 0.8610\n",
      "Epoch 76/100\n",
      "8000/8000 [==============================] - 0s 55us/step - loss: 0.3402 - acc: 0.8590\n",
      "Epoch 77/100\n",
      "8000/8000 [==============================] - 0s 55us/step - loss: 0.3400 - acc: 0.8595\n",
      "Epoch 78/100\n",
      "8000/8000 [==============================] - 0s 55us/step - loss: 0.3398 - acc: 0.8601\n",
      "Epoch 79/100\n",
      "8000/8000 [==============================] - 0s 56us/step - loss: 0.3402 - acc: 0.8587\n",
      "Epoch 80/100\n",
      "8000/8000 [==============================] - 0s 55us/step - loss: 0.3386 - acc: 0.8594\n",
      "Epoch 81/100\n",
      "8000/8000 [==============================] - 0s 54us/step - loss: 0.3394 - acc: 0.8612\n",
      "Epoch 82/100\n",
      "8000/8000 [==============================] - 0s 54us/step - loss: 0.3383 - acc: 0.8621\n",
      "Epoch 83/100\n"
     ]
    },
    {
     "name": "stdout",
     "output_type": "stream",
     "text": [
      "8000/8000 [==============================] - 0s 52us/step - loss: 0.3396 - acc: 0.8589\n",
      "Epoch 84/100\n",
      "8000/8000 [==============================] - 0s 54us/step - loss: 0.3385 - acc: 0.8597\n",
      "Epoch 85/100\n",
      "8000/8000 [==============================] - 0s 55us/step - loss: 0.3382 - acc: 0.8629\n",
      "Epoch 86/100\n",
      "8000/8000 [==============================] - 0s 54us/step - loss: 0.3379 - acc: 0.8597\n",
      "Epoch 87/100\n",
      "8000/8000 [==============================] - 0s 54us/step - loss: 0.3386 - acc: 0.8594\n",
      "Epoch 88/100\n",
      "8000/8000 [==============================] - 0s 54us/step - loss: 0.3381 - acc: 0.8612\n",
      "Epoch 89/100\n",
      "8000/8000 [==============================] - 0s 55us/step - loss: 0.3378 - acc: 0.8641\n",
      "Epoch 90/100\n",
      "8000/8000 [==============================] - 0s 55us/step - loss: 0.3376 - acc: 0.8619\n",
      "Epoch 91/100\n",
      "8000/8000 [==============================] - 0s 57us/step - loss: 0.3373 - acc: 0.8634\n",
      "Epoch 92/100\n",
      "8000/8000 [==============================] - 0s 56us/step - loss: 0.3377 - acc: 0.8621\n",
      "Epoch 93/100\n",
      "8000/8000 [==============================] - 0s 54us/step - loss: 0.3370 - acc: 0.8610\n",
      "Epoch 94/100\n",
      "8000/8000 [==============================] - 0s 56us/step - loss: 0.3366 - acc: 0.8610\n",
      "Epoch 95/100\n",
      "8000/8000 [==============================] - ETA: 0s - loss: 0.3366 - acc: 0.863 - 0s 56us/step - loss: 0.3377 - acc: 0.8620\n",
      "Epoch 96/100\n",
      "8000/8000 [==============================] - 0s 57us/step - loss: 0.3382 - acc: 0.8609\n",
      "Epoch 97/100\n",
      "8000/8000 [==============================] - 0s 56us/step - loss: 0.3378 - acc: 0.8591\n",
      "Epoch 98/100\n",
      "8000/8000 [==============================] - 0s 57us/step - loss: 0.3368 - acc: 0.8616\n",
      "Epoch 99/100\n",
      "8000/8000 [==============================] - 0s 54us/step - loss: 0.3366 - acc: 0.8606\n",
      "Epoch 100/100\n",
      "8000/8000 [==============================] - 0s 57us/step - loss: 0.3367 - acc: 0.8627\n"
     ]
    },
    {
     "data": {
      "text/plain": [
       "<keras.callbacks.History at 0xee247f0>"
      ]
     },
     "execution_count": 27,
     "metadata": {},
     "output_type": "execute_result"
    }
   ],
   "source": [
    "# Importing the Keras libraries and packages\n",
    "import keras\n",
    "from keras.models import Sequential\n",
    "from keras.layers import Dense\n",
    "\n",
    "# Initializing the ANN\n",
    "classifier = Sequential()\n",
    "classifier.add(Dense(units = 6, kernel_initializer = 'uniform', activation = 'relu', input_dim = 11))\n",
    "classifier.add(Dense(units = 6, kernel_initializer = 'uniform', activation = 'relu'))\n",
    "classifier.add(Dense(units = 1, kernel_initializer = 'uniform', activation = 'sigmoid'))\n",
    "classifier.compile(optimizer = 'sgd', loss = 'binary_crossentropy', metrics = ['accuracy'])\n",
    "classifier.fit(X_train, y_train, batch_size = 10, epochs = 100)\n"
   ]
  },
  {
   "cell_type": "code",
   "execution_count": 280,
   "metadata": {},
   "outputs": [],
   "source": [
    "y_pred = classifier.predict(X_test)"
   ]
  },
  {
   "cell_type": "code",
   "execution_count": 281,
   "metadata": {},
   "outputs": [],
   "source": [
    "y_pred = (y_pred > 0.5)\n"
   ]
  },
  {
   "cell_type": "code",
   "execution_count": 282,
   "metadata": {},
   "outputs": [
    {
     "data": {
      "text/plain": [
       "array([[False],\n",
       "       [False],\n",
       "       [False],\n",
       "       ...,\n",
       "       [False],\n",
       "       [False],\n",
       "       [False]])"
      ]
     },
     "execution_count": 282,
     "metadata": {},
     "output_type": "execute_result"
    }
   ],
   "source": [
    "y_pred"
   ]
  },
  {
   "cell_type": "code",
   "execution_count": 284,
   "metadata": {},
   "outputs": [
    {
     "data": {
      "text/plain": [
       "0.859"
      ]
     },
     "execution_count": 284,
     "metadata": {},
     "output_type": "execute_result"
    }
   ],
   "source": [
    "from sklearn.metrics import confusion_matrix, accuracy_score\n",
    "accuracy_score(y_test, y_pred)"
   ]
  },
  {
   "cell_type": "code",
   "execution_count": 285,
   "metadata": {},
   "outputs": [
    {
     "data": {
      "text/plain": [
       "array([[1522,   73],\n",
       "       [ 209,  196]], dtype=int64)"
      ]
     },
     "execution_count": 285,
     "metadata": {},
     "output_type": "execute_result"
    }
   ],
   "source": [
    "cm = confusion_matrix(y_test, y_pred)\n",
    "cm"
   ]
  },
  {
   "cell_type": "markdown",
   "metadata": {},
   "source": [
    "## 調整Optimizer"
   ]
  },
  {
   "cell_type": "code",
   "execution_count": 286,
   "metadata": {
    "collapsed": true
   },
   "outputs": [
    {
     "name": "stdout",
     "output_type": "stream",
     "text": [
      "Epoch 1/100\n",
      "8000/8000 [==============================] - 1s 99us/step - loss: 0.4893 - acc: 0.7950\n",
      "Epoch 2/100\n",
      "8000/8000 [==============================] - 0s 60us/step - loss: 0.4199 - acc: 0.7960\n",
      "Epoch 3/100\n",
      "8000/8000 [==============================] - 0s 62us/step - loss: 0.4102 - acc: 0.7960\n",
      "Epoch 4/100\n",
      "8000/8000 [==============================] - 1s 66us/step - loss: 0.4006 - acc: 0.8262\n",
      "Epoch 5/100\n",
      "8000/8000 [==============================] - 1s 66us/step - loss: 0.3922 - acc: 0.8287\n",
      "Epoch 6/100\n",
      "8000/8000 [==============================] - 1s 69us/step - loss: 0.3852 - acc: 0.8294\n",
      "Epoch 7/100\n",
      "8000/8000 [==============================] - 1s 68us/step - loss: 0.3795 - acc: 0.8361\n",
      "Epoch 8/100\n",
      "8000/8000 [==============================] - 1s 67us/step - loss: 0.3746 - acc: 0.8447\n",
      "Epoch 9/100\n",
      "8000/8000 [==============================] - 1s 71us/step - loss: 0.3710 - acc: 0.8494\n",
      "Epoch 10/100\n",
      "8000/8000 [==============================] - 1s 66us/step - loss: 0.3676 - acc: 0.8495\n",
      "Epoch 11/100\n",
      "8000/8000 [==============================] - 1s 63us/step - loss: 0.3656 - acc: 0.8522\n",
      "Epoch 12/100\n",
      "8000/8000 [==============================] - 1s 64us/step - loss: 0.3616 - acc: 0.8537\n",
      "Epoch 13/100\n",
      "8000/8000 [==============================] - 1s 64us/step - loss: 0.3613 - acc: 0.8526\n",
      "Epoch 14/100\n",
      "8000/8000 [==============================] - 1s 63us/step - loss: 0.3605 - acc: 0.8532\n",
      "Epoch 15/100\n",
      "8000/8000 [==============================] - 1s 63us/step - loss: 0.3595 - acc: 0.8529\n",
      "Epoch 16/100\n",
      "8000/8000 [==============================] - 1s 64us/step - loss: 0.3584 - acc: 0.8540\n",
      "Epoch 17/100\n",
      "8000/8000 [==============================] - 0s 62us/step - loss: 0.3572 - acc: 0.8544\n",
      "Epoch 18/100\n",
      "8000/8000 [==============================] - 1s 63us/step - loss: 0.3558 - acc: 0.8554\n",
      "Epoch 19/100\n",
      "8000/8000 [==============================] - 0s 62us/step - loss: 0.3562 - acc: 0.8547\n",
      "Epoch 20/100\n",
      "8000/8000 [==============================] - 0s 61us/step - loss: 0.3559 - acc: 0.8564\n",
      "Epoch 21/100\n",
      "8000/8000 [==============================] - 0s 62us/step - loss: 0.3546 - acc: 0.8572\n",
      "Epoch 22/100\n",
      "8000/8000 [==============================] - 0s 62us/step - loss: 0.3543 - acc: 0.8552\n",
      "Epoch 23/100\n",
      "8000/8000 [==============================] - 0s 61us/step - loss: 0.3533 - acc: 0.8564\n",
      "Epoch 24/100\n",
      "8000/8000 [==============================] - 1s 66us/step - loss: 0.3539 - acc: 0.8569\n",
      "Epoch 25/100\n",
      "8000/8000 [==============================] - 1s 64us/step - loss: 0.3525 - acc: 0.8594\n",
      "Epoch 26/100\n",
      "8000/8000 [==============================] - 1s 63us/step - loss: 0.3527 - acc: 0.8565\n",
      "Epoch 27/100\n",
      "8000/8000 [==============================] - 1s 64us/step - loss: 0.3527 - acc: 0.8576\n",
      "Epoch 28/100\n",
      "8000/8000 [==============================] - 1s 64us/step - loss: 0.3513 - acc: 0.8567\n",
      "Epoch 29/100\n",
      "8000/8000 [==============================] - 1s 64us/step - loss: 0.3523 - acc: 0.8562\n",
      "Epoch 30/100\n",
      "8000/8000 [==============================] - 1s 63us/step - loss: 0.3522 - acc: 0.8581\n",
      "Epoch 31/100\n",
      "8000/8000 [==============================] - 1s 63us/step - loss: 0.3516 - acc: 0.8586\n",
      "Epoch 32/100\n",
      "8000/8000 [==============================] - 1s 63us/step - loss: 0.3513 - acc: 0.8589\n",
      "Epoch 33/100\n",
      "8000/8000 [==============================] - 1s 64us/step - loss: 0.3504 - acc: 0.8580\n",
      "Epoch 34/100\n",
      "8000/8000 [==============================] - 1s 63us/step - loss: 0.3503 - acc: 0.8581\n",
      "Epoch 35/100\n",
      "8000/8000 [==============================] - 1s 64us/step - loss: 0.3504 - acc: 0.8569\n",
      "Epoch 36/100\n",
      "8000/8000 [==============================] - 1s 63us/step - loss: 0.3503 - acc: 0.8566\n",
      "Epoch 37/100\n",
      "8000/8000 [==============================] - 0s 62us/step - loss: 0.3504 - acc: 0.8582\n",
      "Epoch 38/100\n",
      "8000/8000 [==============================] - 1s 63us/step - loss: 0.3498 - acc: 0.8589\n",
      "Epoch 39/100\n",
      "8000/8000 [==============================] - 1s 63us/step - loss: 0.3494 - acc: 0.8564\n",
      "Epoch 40/100\n",
      "8000/8000 [==============================] - 0s 62us/step - loss: 0.3486 - acc: 0.8590\n",
      "Epoch 41/100\n",
      "8000/8000 [==============================] - 0s 62us/step - loss: 0.3488 - acc: 0.8587\n",
      "Epoch 42/100\n",
      "8000/8000 [==============================] - 0s 61us/step - loss: 0.3486 - acc: 0.8577\n",
      "Epoch 43/100\n",
      "8000/8000 [==============================] - 1s 64us/step - loss: 0.3476 - acc: 0.8594\n",
      "Epoch 44/100\n",
      "8000/8000 [==============================] - 1s 64us/step - loss: 0.3469 - acc: 0.8570\n",
      "Epoch 45/100\n",
      "8000/8000 [==============================] - 1s 64us/step - loss: 0.3474 - acc: 0.8580\n",
      "Epoch 46/100\n",
      "8000/8000 [==============================] - 0s 62us/step - loss: 0.3466 - acc: 0.8574\n",
      "Epoch 47/100\n",
      "8000/8000 [==============================] - 0s 62us/step - loss: 0.3464 - acc: 0.8579\n",
      "Epoch 48/100\n",
      "8000/8000 [==============================] - 0s 62us/step - loss: 0.3465 - acc: 0.8566\n",
      "Epoch 49/100\n",
      "8000/8000 [==============================] - 0s 62us/step - loss: 0.3454 - acc: 0.8586\n",
      "Epoch 50/100\n",
      "8000/8000 [==============================] - 0s 62us/step - loss: 0.3451 - acc: 0.8596\n",
      "Epoch 51/100\n",
      "8000/8000 [==============================] - 1s 65us/step - loss: 0.3453 - acc: 0.8575\n",
      "Epoch 52/100\n",
      "8000/8000 [==============================] - 1s 63us/step - loss: 0.3450 - acc: 0.8607\n",
      "Epoch 53/100\n",
      "8000/8000 [==============================] - 1s 64us/step - loss: 0.3440 - acc: 0.8592\n",
      "Epoch 54/100\n",
      "8000/8000 [==============================] - 1s 63us/step - loss: 0.3443 - acc: 0.8586\n",
      "Epoch 55/100\n",
      "8000/8000 [==============================] - 1s 64us/step - loss: 0.3428 - acc: 0.8602\n",
      "Epoch 56/100\n",
      "8000/8000 [==============================] - 1s 63us/step - loss: 0.3441 - acc: 0.8580\n",
      "Epoch 57/100\n",
      "8000/8000 [==============================] - 1s 63us/step - loss: 0.3436 - acc: 0.8590\n",
      "Epoch 58/100\n",
      "8000/8000 [==============================] - 0s 61us/step - loss: 0.3425 - acc: 0.8606\n",
      "Epoch 59/100\n",
      "8000/8000 [==============================] - 0s 62us/step - loss: 0.3425 - acc: 0.8602\n",
      "Epoch 60/100\n",
      "8000/8000 [==============================] - 0s 62us/step - loss: 0.3428 - acc: 0.8582\n",
      "Epoch 61/100\n",
      "8000/8000 [==============================] - 0s 61us/step - loss: 0.3424 - acc: 0.8585\n",
      "Epoch 62/100\n",
      "8000/8000 [==============================] - 0s 59us/step - loss: 0.3422 - acc: 0.8600\n",
      "Epoch 63/100\n",
      "8000/8000 [==============================] - 0s 60us/step - loss: 0.3425 - acc: 0.8587\n",
      "Epoch 64/100\n",
      "8000/8000 [==============================] - 0s 60us/step - loss: 0.3424 - acc: 0.8600\n",
      "Epoch 65/100\n",
      "8000/8000 [==============================] - 0s 60us/step - loss: 0.3423 - acc: 0.8604\n",
      "Epoch 66/100\n",
      "8000/8000 [==============================] - 0s 59us/step - loss: 0.3413 - acc: 0.8586\n",
      "Epoch 67/100\n",
      "8000/8000 [==============================] - 0s 61us/step - loss: 0.3402 - acc: 0.8610\n",
      "Epoch 68/100\n",
      "8000/8000 [==============================] - 0s 61us/step - loss: 0.3412 - acc: 0.8595\n",
      "Epoch 69/100\n",
      "8000/8000 [==============================] - 0s 62us/step - loss: 0.3405 - acc: 0.8615\n",
      "Epoch 70/100\n",
      "8000/8000 [==============================] - 0s 60us/step - loss: 0.3413 - acc: 0.8594\n",
      "Epoch 71/100\n",
      "8000/8000 [==============================] - 0s 60us/step - loss: 0.3403 - acc: 0.8594\n",
      "Epoch 72/100\n",
      "8000/8000 [==============================] - 0s 61us/step - loss: 0.3402 - acc: 0.8605\n",
      "Epoch 73/100\n",
      "8000/8000 [==============================] - 0s 62us/step - loss: 0.3396 - acc: 0.8596\n",
      "Epoch 74/100\n",
      "8000/8000 [==============================] - 0s 61us/step - loss: 0.3391 - acc: 0.8604\n",
      "Epoch 75/100\n",
      "8000/8000 [==============================] - 0s 62us/step - loss: 0.3395 - acc: 0.8590\n",
      "Epoch 76/100\n",
      "8000/8000 [==============================] - 0s 61us/step - loss: 0.3390 - acc: 0.8622\n",
      "Epoch 77/100\n",
      "8000/8000 [==============================] - 0s 61us/step - loss: 0.3389 - acc: 0.8606\n",
      "Epoch 78/100\n",
      "8000/8000 [==============================] - 0s 62us/step - loss: 0.3394 - acc: 0.8629\n",
      "Epoch 79/100\n",
      "8000/8000 [==============================] - 0s 62us/step - loss: 0.3391 - acc: 0.8579\n",
      "Epoch 80/100\n",
      "8000/8000 [==============================] - 0s 62us/step - loss: 0.3396 - acc: 0.8599\n",
      "Epoch 81/100\n",
      "8000/8000 [==============================] - 0s 62us/step - loss: 0.3379 - acc: 0.8605\n",
      "Epoch 82/100\n",
      "8000/8000 [==============================] - 0s 62us/step - loss: 0.3388 - acc: 0.8602\n",
      "Epoch 83/100\n"
     ]
    },
    {
     "name": "stdout",
     "output_type": "stream",
     "text": [
      "8000/8000 [==============================] - 1s 63us/step - loss: 0.3388 - acc: 0.8600\n",
      "Epoch 84/100\n",
      "8000/8000 [==============================] - 0s 62us/step - loss: 0.3381 - acc: 0.8626\n",
      "Epoch 85/100\n",
      "8000/8000 [==============================] - 0s 61us/step - loss: 0.3391 - acc: 0.8596\n",
      "Epoch 86/100\n",
      "8000/8000 [==============================] - 0s 61us/step - loss: 0.3380 - acc: 0.8619\n",
      "Epoch 87/100\n",
      "8000/8000 [==============================] - 0s 61us/step - loss: 0.3381 - acc: 0.8617\n",
      "Epoch 88/100\n",
      "8000/8000 [==============================] - 0s 62us/step - loss: 0.3382 - acc: 0.8609\n",
      "Epoch 89/100\n",
      "8000/8000 [==============================] - 0s 61us/step - loss: 0.3376 - acc: 0.8607\n",
      "Epoch 90/100\n",
      "8000/8000 [==============================] - 0s 61us/step - loss: 0.3380 - acc: 0.8601\n",
      "Epoch 91/100\n",
      "8000/8000 [==============================] - 0s 60us/step - loss: 0.3374 - acc: 0.8600\n",
      "Epoch 92/100\n",
      "8000/8000 [==============================] - 0s 60us/step - loss: 0.3368 - acc: 0.8585\n",
      "Epoch 93/100\n",
      "8000/8000 [==============================] - 0s 61us/step - loss: 0.3379 - acc: 0.8567\n",
      "Epoch 94/100\n",
      "8000/8000 [==============================] - 0s 60us/step - loss: 0.3377 - acc: 0.8571\n",
      "Epoch 95/100\n",
      "8000/8000 [==============================] - 0s 61us/step - loss: 0.3362 - acc: 0.8592\n",
      "Epoch 96/100\n",
      "8000/8000 [==============================] - 0s 60us/step - loss: 0.3375 - acc: 0.8581\n",
      "Epoch 97/100\n",
      "8000/8000 [==============================] - 0s 60us/step - loss: 0.3376 - acc: 0.8602\n",
      "Epoch 98/100\n",
      "8000/8000 [==============================] - 0s 60us/step - loss: 0.3379 - acc: 0.8591\n",
      "Epoch 99/100\n",
      "8000/8000 [==============================] - 0s 61us/step - loss: 0.3372 - acc: 0.8615\n",
      "Epoch 100/100\n",
      "8000/8000 [==============================] - 0s 58us/step - loss: 0.3366 - acc: 0.8619\n"
     ]
    },
    {
     "data": {
      "text/plain": [
       "<keras.callbacks.History at 0x15da2f60>"
      ]
     },
     "execution_count": 286,
     "metadata": {},
     "output_type": "execute_result"
    }
   ],
   "source": [
    "# Importing the Keras libraries and packages\n",
    "import keras\n",
    "from keras.models import Sequential\n",
    "from keras.layers import Dense\n",
    "\n",
    "# Initializing the ANN\n",
    "classifier = Sequential()\n",
    "classifier.add(Dense(units = 6, kernel_initializer = 'uniform', activation = 'relu', input_dim = 11))\n",
    "classifier.add(Dense(units = 6, kernel_initializer = 'uniform', activation = 'relu'))\n",
    "classifier.add(Dense(units = 1, kernel_initializer = 'uniform', activation = 'sigmoid'))\n",
    "classifier.compile(optimizer = 'adam', loss = 'binary_crossentropy', metrics = ['accuracy'])\n",
    "classifier.fit(X_train, y_train, batch_size = 10, epochs = 100)\n"
   ]
  },
  {
   "cell_type": "code",
   "execution_count": 29,
   "metadata": {
    "collapsed": true
   },
   "outputs": [
    {
     "name": "stdout",
     "output_type": "stream",
     "text": [
      "Epoch 1/15\n",
      "7200/7200 [==============================] - 1s 81us/step - loss: 0.5607 - acc: 0.7953\n",
      "Epoch 2/15\n",
      "7200/7200 [==============================] - 0s 54us/step - loss: 0.5069 - acc: 0.7971\n",
      "Epoch 3/15\n",
      "7200/7200 [==============================] - 0s 55us/step - loss: 0.5009 - acc: 0.7971\n",
      "Epoch 4/15\n",
      "7200/7200 [==============================] - 0s 54us/step - loss: 0.4921 - acc: 0.7971\n",
      "Epoch 5/15\n",
      "7200/7200 [==============================] - 0s 59us/step - loss: 0.4737 - acc: 0.7971\n",
      "Epoch 6/15\n",
      "7200/7200 [==============================] - 0s 55us/step - loss: 0.4483 - acc: 0.7971\n",
      "Epoch 7/15\n",
      "7200/7200 [==============================] - 0s 55us/step - loss: 0.4299 - acc: 0.8028\n",
      "Epoch 8/15\n",
      "7200/7200 [==============================] - 0s 53us/step - loss: 0.4223 - acc: 0.8146\n",
      "Epoch 9/15\n",
      "7200/7200 [==============================] - 0s 55us/step - loss: 0.4191 - acc: 0.8186\n",
      "Epoch 10/15\n",
      "7200/7200 [==============================] - 0s 54us/step - loss: 0.4161 - acc: 0.8215\n",
      "Epoch 11/15\n",
      "7200/7200 [==============================] - 0s 54us/step - loss: 0.4138 - acc: 0.8244\n",
      "Epoch 12/15\n",
      "7200/7200 [==============================] - 0s 54us/step - loss: 0.4113 - acc: 0.8254\n",
      "Epoch 13/15\n",
      "7200/7200 [==============================] - 0s 54us/step - loss: 0.4078 - acc: 0.8272\n",
      "Epoch 14/15\n",
      "7200/7200 [==============================] - 0s 55us/step - loss: 0.4045 - acc: 0.8286\n",
      "Epoch 15/15\n",
      "7200/7200 [==============================] - 0s 55us/step - loss: 0.4018 - acc: 0.8275\n",
      "800/800 [==============================] - 0s 101us/step\n",
      "Epoch 1/15\n",
      "7200/7200 [==============================] - 1s 92us/step - loss: 0.5596 - acc: 0.7967\n",
      "Epoch 2/15\n",
      "7200/7200 [==============================] - 0s 56us/step - loss: 0.5011 - acc: 0.7967\n",
      "Epoch 3/15\n",
      "7200/7200 [==============================] - 0s 55us/step - loss: 0.4854 - acc: 0.7967\n",
      "Epoch 4/15\n",
      "7200/7200 [==============================] - 0s 56us/step - loss: 0.4672 - acc: 0.7967\n",
      "Epoch 5/15\n",
      "7200/7200 [==============================] - 0s 56us/step - loss: 0.4517 - acc: 0.7967\n",
      "Epoch 6/15\n",
      "7200/7200 [==============================] - 0s 58us/step - loss: 0.4410 - acc: 0.7967\n",
      "Epoch 7/15\n",
      "7200/7200 [==============================] - 0s 58us/step - loss: 0.4343 - acc: 0.7967\n",
      "Epoch 8/15\n",
      "7200/7200 [==============================] - 0s 56us/step - loss: 0.4299 - acc: 0.7967\n",
      "Epoch 9/15\n",
      "7200/7200 [==============================] - 0s 54us/step - loss: 0.4264 - acc: 0.7967\n",
      "Epoch 10/15\n",
      "7200/7200 [==============================] - 0s 57us/step - loss: 0.4225 - acc: 0.8024\n",
      "Epoch 11/15\n",
      "7200/7200 [==============================] - 0s 58us/step - loss: 0.4184 - acc: 0.8172\n",
      "Epoch 12/15\n",
      "7200/7200 [==============================] - 0s 56us/step - loss: 0.4137 - acc: 0.8265\n",
      "Epoch 13/15\n",
      "7200/7200 [==============================] - 0s 58us/step - loss: 0.4092 - acc: 0.8265\n",
      "Epoch 14/15\n",
      "7200/7200 [==============================] - 0s 55us/step - loss: 0.4045 - acc: 0.8269\n",
      "Epoch 15/15\n",
      "7200/7200 [==============================] - 0s 54us/step - loss: 0.4000 - acc: 0.8265\n",
      "800/800 [==============================] - 0s 119us/step\n",
      "Epoch 1/15\n",
      "7200/7200 [==============================] - 1s 96us/step - loss: 0.5629 - acc: 0.7947\n",
      "Epoch 2/15\n",
      "7200/7200 [==============================] - 0s 57us/step - loss: 0.5084 - acc: 0.7956\n",
      "Epoch 3/15\n",
      "7200/7200 [==============================] - 0s 57us/step - loss: 0.5009 - acc: 0.7956\n",
      "Epoch 4/15\n",
      "7200/7200 [==============================] - 0s 58us/step - loss: 0.4889 - acc: 0.7956\n",
      "Epoch 5/15\n",
      "7200/7200 [==============================] - 0s 57us/step - loss: 0.4664 - acc: 0.7956\n",
      "Epoch 6/15\n",
      "7200/7200 [==============================] - 0s 56us/step - loss: 0.4410 - acc: 0.7960\n",
      "Epoch 7/15\n",
      "7200/7200 [==============================] - 0s 54us/step - loss: 0.4279 - acc: 0.8078\n",
      "Epoch 8/15\n",
      "7200/7200 [==============================] - 0s 56us/step - loss: 0.4229 - acc: 0.8128\n",
      "Epoch 9/15\n",
      "7200/7200 [==============================] - 0s 55us/step - loss: 0.4198 - acc: 0.8151\n",
      "Epoch 10/15\n",
      "7200/7200 [==============================] - 0s 57us/step - loss: 0.4165 - acc: 0.8200\n",
      "Epoch 11/15\n",
      "7200/7200 [==============================] - 0s 55us/step - loss: 0.4125 - acc: 0.8239\n",
      "Epoch 12/15\n",
      "7200/7200 [==============================] - 0s 56us/step - loss: 0.4085 - acc: 0.8262\n",
      "Epoch 13/15\n",
      "7200/7200 [==============================] - 0s 56us/step - loss: 0.4048 - acc: 0.8299\n",
      "Epoch 14/15\n",
      "7200/7200 [==============================] - 0s 55us/step - loss: 0.4004 - acc: 0.8319\n",
      "Epoch 15/15\n",
      "7200/7200 [==============================] - 0s 56us/step - loss: 0.3961 - acc: 0.8336\n",
      "800/800 [==============================] - 0s 123us/step\n",
      "Epoch 1/15\n",
      "7200/7200 [==============================] - 1s 97us/step - loss: 0.5592 - acc: 0.7975\n",
      "Epoch 2/15\n",
      "7200/7200 [==============================] - 0s 56us/step - loss: 0.5009 - acc: 0.7975\n",
      "Epoch 3/15\n",
      "7200/7200 [==============================] - 0s 57us/step - loss: 0.4868 - acc: 0.7975\n",
      "Epoch 4/15\n",
      "7200/7200 [==============================] - 0s 55us/step - loss: 0.4699 - acc: 0.7975\n",
      "Epoch 5/15\n",
      "7200/7200 [==============================] - 0s 55us/step - loss: 0.4537 - acc: 0.7975\n",
      "Epoch 6/15\n",
      "7200/7200 [==============================] - 0s 55us/step - loss: 0.4422 - acc: 0.7975\n",
      "Epoch 7/15\n",
      "7200/7200 [==============================] - 0s 56us/step - loss: 0.4352 - acc: 0.7975\n",
      "Epoch 8/15\n",
      "7200/7200 [==============================] - 0s 54us/step - loss: 0.4308 - acc: 0.7975\n",
      "Epoch 9/15\n",
      "7200/7200 [==============================] - 0s 57us/step - loss: 0.4281 - acc: 0.7975\n",
      "Epoch 10/15\n",
      "7200/7200 [==============================] - 0s 57us/step - loss: 0.4257 - acc: 0.7975\n",
      "Epoch 11/15\n",
      "7200/7200 [==============================] - 0s 58us/step - loss: 0.4234 - acc: 0.7975\n",
      "Epoch 12/15\n",
      "7200/7200 [==============================] - 0s 56us/step - loss: 0.4212 - acc: 0.7975\n",
      "Epoch 13/15\n",
      "7200/7200 [==============================] - 0s 55us/step - loss: 0.4191 - acc: 0.7975\n",
      "Epoch 14/15\n",
      "7200/7200 [==============================] - 0s 54us/step - loss: 0.4170 - acc: 0.7976\n",
      "Epoch 15/15\n",
      "7200/7200 [==============================] - 0s 55us/step - loss: 0.4150 - acc: 0.8187\n",
      "800/800 [==============================] - 0s 135us/step\n",
      "Epoch 1/15\n",
      "7200/7200 [==============================] - 1s 107us/step - loss: 0.5640 - acc: 0.7919\n",
      "Epoch 2/15\n",
      "7200/7200 [==============================] - 0s 55us/step - loss: 0.5111 - acc: 0.7937\n",
      "Epoch 3/15\n",
      "7200/7200 [==============================] - 0s 55us/step - loss: 0.5061 - acc: 0.7937\n",
      "Epoch 4/15\n",
      "7200/7200 [==============================] - 0s 54us/step - loss: 0.4989 - acc: 0.7937\n",
      "Epoch 5/15\n",
      "7200/7200 [==============================] - 0s 55us/step - loss: 0.4806 - acc: 0.7937\n",
      "Epoch 6/15\n",
      "7200/7200 [==============================] - 0s 55us/step - loss: 0.4523 - acc: 0.7949\n",
      "Epoch 7/15\n",
      "7200/7200 [==============================] - 0s 55us/step - loss: 0.4338 - acc: 0.8056\n",
      "Epoch 8/15\n",
      "7200/7200 [==============================] - 0s 56us/step - loss: 0.4257 - acc: 0.8111\n",
      "Epoch 9/15\n",
      "7200/7200 [==============================] - 0s 56us/step - loss: 0.4199 - acc: 0.8168\n",
      "Epoch 10/15\n",
      "7200/7200 [==============================] - 0s 56us/step - loss: 0.4141 - acc: 0.8206\n",
      "Epoch 11/15\n",
      "7200/7200 [==============================] - 0s 56us/step - loss: 0.4069 - acc: 0.8237\n",
      "Epoch 12/15\n",
      "7200/7200 [==============================] - 0s 55us/step - loss: 0.3983 - acc: 0.8250\n",
      "Epoch 13/15\n",
      "7200/7200 [==============================] - 0s 57us/step - loss: 0.3899 - acc: 0.8339\n",
      "Epoch 14/15\n",
      "7200/7200 [==============================] - 0s 60us/step - loss: 0.3825 - acc: 0.8390\n",
      "Epoch 15/15\n",
      "7200/7200 [==============================] - 0s 57us/step - loss: 0.3759 - acc: 0.8454\n",
      "800/800 [==============================] - 0s 155us/step\n",
      "Epoch 1/15\n",
      "7200/7200 [==============================] - 1s 104us/step - loss: 0.5632 - acc: 0.7944\n",
      "Epoch 2/15\n",
      "7200/7200 [==============================] - 0s 58us/step - loss: 0.5075 - acc: 0.7944\n",
      "Epoch 3/15\n",
      "7200/7200 [==============================] - 0s 58us/step - loss: 0.4946 - acc: 0.7944\n",
      "Epoch 4/15\n",
      "7200/7200 [==============================] - 0s 57us/step - loss: 0.4747 - acc: 0.7944\n",
      "Epoch 5/15\n",
      "7200/7200 [==============================] - 0s 57us/step - loss: 0.4497 - acc: 0.7944\n",
      "Epoch 6/15\n"
     ]
    },
    {
     "name": "stdout",
     "output_type": "stream",
     "text": [
      "7200/7200 [==============================] - 0s 58us/step - loss: 0.4317 - acc: 0.7993\n",
      "Epoch 7/15\n",
      "7200/7200 [==============================] - 0s 58us/step - loss: 0.4241 - acc: 0.8101\n",
      "Epoch 8/15\n",
      "7200/7200 [==============================] - 0s 59us/step - loss: 0.4205 - acc: 0.8154\n",
      "Epoch 9/15\n",
      "7200/7200 [==============================] - 0s 59us/step - loss: 0.4174 - acc: 0.8206\n",
      "Epoch 10/15\n",
      "7200/7200 [==============================] - 0s 60us/step - loss: 0.4147 - acc: 0.8232\n",
      "Epoch 11/15\n",
      "7200/7200 [==============================] - 0s 60us/step - loss: 0.4135 - acc: 0.8243\n",
      "Epoch 12/15\n",
      "7200/7200 [==============================] - 0s 58us/step - loss: 0.4121 - acc: 0.8282\n",
      "Epoch 13/15\n",
      "7200/7200 [==============================] - 0s 60us/step - loss: 0.4111 - acc: 0.8256\n",
      "Epoch 14/15\n",
      "7200/7200 [==============================] - 0s 60us/step - loss: 0.4102 - acc: 0.8279\n",
      "Epoch 15/15\n",
      "7200/7200 [==============================] - 0s 61us/step - loss: 0.4095 - acc: 0.8269\n",
      "800/800 [==============================] - 0s 169us/step\n",
      "Epoch 1/15\n",
      "7200/7200 [==============================] - 1s 112us/step - loss: 0.5607 - acc: 0.7967\n",
      "Epoch 2/15\n",
      "7200/7200 [==============================] - 0s 62us/step - loss: 0.5034 - acc: 0.7969\n",
      "Epoch 3/15\n",
      "7200/7200 [==============================] - 0s 63us/step - loss: 0.4905 - acc: 0.7969\n",
      "Epoch 4/15\n",
      "7200/7200 [==============================] - 0s 61us/step - loss: 0.4718 - acc: 0.7969\n",
      "Epoch 5/15\n",
      "7200/7200 [==============================] - 0s 62us/step - loss: 0.4486 - acc: 0.7969\n",
      "Epoch 6/15\n",
      "7200/7200 [==============================] - 0s 60us/step - loss: 0.4309 - acc: 0.7989\n",
      "Epoch 7/15\n",
      "7200/7200 [==============================] - 0s 58us/step - loss: 0.4221 - acc: 0.8142\n",
      "Epoch 8/15\n",
      "7200/7200 [==============================] - 0s 60us/step - loss: 0.4171 - acc: 0.8221\n",
      "Epoch 9/15\n",
      "7200/7200 [==============================] - 0s 61us/step - loss: 0.4128 - acc: 0.8251\n",
      "Epoch 10/15\n",
      "7200/7200 [==============================] - 0s 59us/step - loss: 0.4086 - acc: 0.8253\n",
      "Epoch 11/15\n",
      "7200/7200 [==============================] - 0s 60us/step - loss: 0.4051 - acc: 0.8275\n",
      "Epoch 12/15\n",
      "7200/7200 [==============================] - 0s 58us/step - loss: 0.4022 - acc: 0.8269\n",
      "Epoch 13/15\n",
      "7200/7200 [==============================] - 0s 58us/step - loss: 0.3995 - acc: 0.8260\n",
      "Epoch 14/15\n",
      "7200/7200 [==============================] - 0s 57us/step - loss: 0.3965 - acc: 0.8275\n",
      "Epoch 15/15\n",
      "7200/7200 [==============================] - 0s 58us/step - loss: 0.3933 - acc: 0.8276\n",
      "800/800 [==============================] - 0s 173us/step\n",
      "Epoch 1/15\n",
      "7200/7200 [==============================] - 1s 111us/step - loss: 0.5608 - acc: 0.7961\n",
      "Epoch 2/15\n",
      "7200/7200 [==============================] - 0s 59us/step - loss: 0.5004 - acc: 0.7962\n",
      "Epoch 3/15\n",
      "7200/7200 [==============================] - 0s 57us/step - loss: 0.4825 - acc: 0.7962\n",
      "Epoch 4/15\n",
      "7200/7200 [==============================] - 0s 55us/step - loss: 0.4638 - acc: 0.7962\n",
      "Epoch 5/15\n",
      "7200/7200 [==============================] - 0s 57us/step - loss: 0.4489 - acc: 0.7962\n",
      "Epoch 6/15\n",
      "7200/7200 [==============================] - 0s 57us/step - loss: 0.4392 - acc: 0.7962\n",
      "Epoch 7/15\n",
      "7200/7200 [==============================] - 0s 57us/step - loss: 0.4333 - acc: 0.7962\n",
      "Epoch 8/15\n",
      "7200/7200 [==============================] - 0s 57us/step - loss: 0.4296 - acc: 0.7962\n",
      "Epoch 9/15\n",
      "7200/7200 [==============================] - 0s 57us/step - loss: 0.4264 - acc: 0.7962\n",
      "Epoch 10/15\n",
      "7200/7200 [==============================] - 0s 56us/step - loss: 0.4233 - acc: 0.7971\n",
      "Epoch 11/15\n",
      "7200/7200 [==============================] - 0s 56us/step - loss: 0.4200 - acc: 0.8082\n",
      "Epoch 12/15\n",
      "7200/7200 [==============================] - 0s 58us/step - loss: 0.4168 - acc: 0.8183\n",
      "Epoch 13/15\n",
      "7200/7200 [==============================] - 0s 58us/step - loss: 0.4137 - acc: 0.8233\n",
      "Epoch 14/15\n",
      "7200/7200 [==============================] - 0s 58us/step - loss: 0.4109 - acc: 0.8257\n",
      "Epoch 15/15\n",
      "7200/7200 [==============================] - 0s 58us/step - loss: 0.4084 - acc: 0.8275\n",
      "800/800 [==============================] - 0s 188us/step\n",
      "Epoch 1/15\n",
      "7200/7200 [==============================] - 1s 116us/step - loss: 0.5619 - acc: 0.7947\n",
      "Epoch 2/15\n",
      "7200/7200 [==============================] - 0s 59us/step - loss: 0.5054 - acc: 0.7957\n",
      "Epoch 3/15\n",
      "7200/7200 [==============================] - 0s 59us/step - loss: 0.4923 - acc: 0.7957\n",
      "Epoch 4/15\n",
      "7200/7200 [==============================] - 0s 59us/step - loss: 0.4751 - acc: 0.7957\n",
      "Epoch 5/15\n",
      "7200/7200 [==============================] - 0s 57us/step - loss: 0.4569 - acc: 0.7957\n",
      "Epoch 6/15\n",
      "7200/7200 [==============================] - 0s 58us/step - loss: 0.4429 - acc: 0.7957\n",
      "Epoch 7/15\n",
      "7200/7200 [==============================] - 0s 58us/step - loss: 0.4339 - acc: 0.7957\n",
      "Epoch 8/15\n",
      "7200/7200 [==============================] - 0s 58us/step - loss: 0.4281 - acc: 0.7957\n",
      "Epoch 9/15\n",
      "7200/7200 [==============================] - 0s 58us/step - loss: 0.4240 - acc: 0.7978\n",
      "Epoch 10/15\n",
      "7200/7200 [==============================] - 0s 58us/step - loss: 0.4211 - acc: 0.8043\n",
      "Epoch 11/15\n",
      "7200/7200 [==============================] - 0s 59us/step - loss: 0.4183 - acc: 0.8164: 0s - loss: 0.4133 - acc: 0.81\n",
      "Epoch 12/15\n",
      "7200/7200 [==============================] - 0s 58us/step - loss: 0.4156 - acc: 0.8196\n",
      "Epoch 13/15\n",
      "7200/7200 [==============================] - 0s 58us/step - loss: 0.4134 - acc: 0.8224\n",
      "Epoch 14/15\n",
      "7200/7200 [==============================] - 0s 60us/step - loss: 0.4111 - acc: 0.8243\n",
      "Epoch 15/15\n",
      "7200/7200 [==============================] - 0s 60us/step - loss: 0.4088 - acc: 0.8279\n",
      "800/800 [==============================] - 0s 196us/step\n",
      "Epoch 1/15\n",
      "7200/7200 [==============================] - 1s 123us/step - loss: 0.5618 - acc: 0.7957\n",
      "Epoch 2/15\n",
      "7200/7200 [==============================] - 0s 59us/step - loss: 0.5082 - acc: 0.7961\n",
      "Epoch 3/15\n",
      "7200/7200 [==============================] - 0s 60us/step - loss: 0.5014 - acc: 0.7961\n",
      "Epoch 4/15\n",
      "7200/7200 [==============================] - 0s 59us/step - loss: 0.4916 - acc: 0.7961\n",
      "Epoch 5/15\n",
      "7200/7200 [==============================] - 0s 60us/step - loss: 0.4756 - acc: 0.7961\n",
      "Epoch 6/15\n",
      "7200/7200 [==============================] - 0s 60us/step - loss: 0.4576 - acc: 0.7961\n",
      "Epoch 7/15\n",
      "7200/7200 [==============================] - 0s 60us/step - loss: 0.4425 - acc: 0.7961\n",
      "Epoch 8/15\n",
      "7200/7200 [==============================] - 0s 60us/step - loss: 0.4314 - acc: 0.7962\n",
      "Epoch 9/15\n",
      "7200/7200 [==============================] - 0s 60us/step - loss: 0.4241 - acc: 0.8049\n",
      "Epoch 10/15\n",
      "7200/7200 [==============================] - 0s 60us/step - loss: 0.4184 - acc: 0.8174\n",
      "Epoch 11/15\n",
      "7200/7200 [==============================] - 0s 60us/step - loss: 0.4132 - acc: 0.8251\n",
      "Epoch 12/15\n",
      "7200/7200 [==============================] - 0s 59us/step - loss: 0.4081 - acc: 0.8268\n",
      "Epoch 13/15\n",
      "7200/7200 [==============================] - 0s 60us/step - loss: 0.4038 - acc: 0.8261\n",
      "Epoch 14/15\n",
      "7200/7200 [==============================] - 0s 60us/step - loss: 0.3998 - acc: 0.8253\n",
      "Epoch 15/15\n",
      "7200/7200 [==============================] - 0s 60us/step - loss: 0.3957 - acc: 0.8267\n",
      "800/800 [==============================] - 0s 220us/step\n"
     ]
    }
   ],
   "source": [
    "from keras.wrappers.scikit_learn import KerasClassifier\n",
    "from sklearn.model_selection import cross_val_score\n",
    "from keras.models import Sequential\n",
    "from keras.layers import Dense\n",
    "\n",
    "def build_classifier():\n",
    "    classifier = Sequential()\n",
    "    classifier.add(Dense(units = 6, kernel_initializer = 'uniform', activation = 'relu', input_dim = 11))\n",
    "    classifier.add(Dense(units = 1, kernel_initializer = 'uniform', activation = 'sigmoid'))\n",
    "    classifier.compile(optimizer = 'sgd', loss = 'binary_crossentropy', metrics = ['accuracy'])\n",
    "    return classifier\n",
    "\n",
    "classifier = KerasClassifier(build_fn  = build_classifier, batch_size = 10, epochs = 15, verbose= 1)\n",
    "accuracies = cross_val_score(estimator = classifier, X = X_train, y = y_train, cv = 10)\n",
    "mean = accuracies.mean()\n",
    "variance = accuracies.std()\n"
   ]
  },
  {
   "cell_type": "code",
   "execution_count": 30,
   "metadata": {},
   "outputs": [
    {
     "data": {
      "text/plain": [
       "array([0.81874999, 0.81875   , 0.83624999, 0.8125    , 0.86625   ,\n",
       "       0.835     , 0.82749999, 0.8125    , 0.8125    , 0.8375    ])"
      ]
     },
     "execution_count": 30,
     "metadata": {},
     "output_type": "execute_result"
    }
   ],
   "source": [
    "accuracies"
   ]
  },
  {
   "cell_type": "code",
   "execution_count": 31,
   "metadata": {},
   "outputs": [
    {
     "data": {
      "text/plain": [
       "0.8277499958500265"
      ]
     },
     "execution_count": 31,
     "metadata": {},
     "output_type": "execute_result"
    }
   ],
   "source": [
    "mean"
   ]
  },
  {
   "cell_type": "code",
   "execution_count": 32,
   "metadata": {},
   "outputs": [
    {
     "data": {
      "text/plain": [
       "0.01600585796933409"
      ]
     },
     "execution_count": 32,
     "metadata": {},
     "output_type": "execute_result"
    }
   ],
   "source": [
    "variance"
   ]
  },
  {
   "cell_type": "markdown",
   "metadata": {},
   "source": [
    "### Dropout"
   ]
  },
  {
   "cell_type": "code",
   "execution_count": 33,
   "metadata": {},
   "outputs": [],
   "source": [
    "from keras.layers import Dropout"
   ]
  },
  {
   "cell_type": "code",
   "execution_count": null,
   "metadata": {},
   "outputs": [],
   "source": [
    "classifier.add(Dropout(rate=0.1))"
   ]
  },
  {
   "cell_type": "code",
   "execution_count": 34,
   "metadata": {
    "collapsed": true
   },
   "outputs": [
    {
     "name": "stdout",
     "output_type": "stream",
     "text": [
      "Epoch 1/15\n",
      "7200/7200 [==============================] - 1s 140us/step - loss: 0.5616 - acc: 0.7969\n",
      "Epoch 2/15\n",
      "7200/7200 [==============================] - 1s 71us/step - loss: 0.5083 - acc: 0.7971\n",
      "Epoch 3/15\n",
      "7200/7200 [==============================] - 1s 71us/step - loss: 0.5048 - acc: 0.7971\n",
      "Epoch 4/15\n",
      "7200/7200 [==============================] - 1s 71us/step - loss: 0.5045 - acc: 0.7971\n",
      "Epoch 5/15\n",
      "7200/7200 [==============================] - 1s 71us/step - loss: 0.5044 - acc: 0.7971\n",
      "Epoch 6/15\n",
      "7200/7200 [==============================] - 0s 68us/step - loss: 0.5044 - acc: 0.7971\n",
      "Epoch 7/15\n",
      "7200/7200 [==============================] - 0s 67us/step - loss: 0.5044 - acc: 0.7971\n",
      "Epoch 8/15\n",
      "7200/7200 [==============================] - 1s 71us/step - loss: 0.5044 - acc: 0.7971\n",
      "Epoch 9/15\n",
      "7200/7200 [==============================] - 0s 68us/step - loss: 0.5044 - acc: 0.7971\n",
      "Epoch 10/15\n",
      "7200/7200 [==============================] - 0s 66us/step - loss: 0.5044 - acc: 0.7971\n",
      "Epoch 11/15\n",
      "7200/7200 [==============================] - 0s 67us/step - loss: 0.5043 - acc: 0.7971\n",
      "Epoch 12/15\n",
      "7200/7200 [==============================] - 0s 69us/step - loss: 0.5043 - acc: 0.7971\n",
      "Epoch 13/15\n",
      "7200/7200 [==============================] - 0s 69us/step - loss: 0.5042 - acc: 0.7971\n",
      "Epoch 14/15\n",
      "7200/7200 [==============================] - 0s 67us/step - loss: 0.5040 - acc: 0.7971\n",
      "Epoch 15/15\n",
      "7200/7200 [==============================] - 0s 68us/step - loss: 0.5038 - acc: 0.7971\n",
      "800/800 [==============================] - 0s 309us/step\n",
      "Epoch 1/15\n",
      "7200/7200 [==============================] - 1s 149us/step - loss: 0.5613 - acc: 0.7962\n",
      "Epoch 2/15\n",
      "7200/7200 [==============================] - 0s 69us/step - loss: 0.5084 - acc: 0.7967\n",
      "Epoch 3/15\n",
      "7200/7200 [==============================] - 1s 71us/step - loss: 0.5054 - acc: 0.7967\n",
      "Epoch 4/15\n",
      "7200/7200 [==============================] - 0s 69us/step - loss: 0.5050 - acc: 0.7967\n",
      "Epoch 5/15\n",
      "7200/7200 [==============================] - 1s 72us/step - loss: 0.5050 - acc: 0.7967\n",
      "Epoch 6/15\n",
      "7200/7200 [==============================] - 1s 70us/step - loss: 0.5050 - acc: 0.7967\n",
      "Epoch 7/15\n",
      "7200/7200 [==============================] - 1s 73us/step - loss: 0.5050 - acc: 0.7967\n",
      "Epoch 8/15\n",
      "7200/7200 [==============================] - 1s 72us/step - loss: 0.5050 - acc: 0.7967\n",
      "Epoch 9/15\n",
      "7200/7200 [==============================] - 1s 72us/step - loss: 0.5049 - acc: 0.7967\n",
      "Epoch 10/15\n",
      "7200/7200 [==============================] - 1s 72us/step - loss: 0.5049 - acc: 0.7967\n",
      "Epoch 11/15\n",
      "7200/7200 [==============================] - 1s 72us/step - loss: 0.5048 - acc: 0.7967\n",
      "Epoch 12/15\n",
      "7200/7200 [==============================] - 1s 71us/step - loss: 0.5048 - acc: 0.7967\n",
      "Epoch 13/15\n",
      "7200/7200 [==============================] - 1s 72us/step - loss: 0.5046 - acc: 0.7967\n",
      "Epoch 14/15\n",
      "7200/7200 [==============================] - 1s 71us/step - loss: 0.5045 - acc: 0.7967\n",
      "Epoch 15/15\n",
      "7200/7200 [==============================] - 1s 70us/step - loss: 0.5042 - acc: 0.7967\n",
      "800/800 [==============================] - 0s 261us/step\n",
      "Epoch 1/15\n",
      "7200/7200 [==============================] - 1s 147us/step - loss: 0.5638 - acc: 0.7953\n",
      "Epoch 2/15\n",
      "7200/7200 [==============================] - 0s 69us/step - loss: 0.5101 - acc: 0.7956\n",
      "Epoch 3/15\n",
      "7200/7200 [==============================] - 1s 71us/step - loss: 0.5068 - acc: 0.7956\n",
      "Epoch 4/15\n",
      "7200/7200 [==============================] - 1s 70us/step - loss: 0.5066 - acc: 0.7956\n",
      "Epoch 5/15\n",
      "7200/7200 [==============================] - 0s 69us/step - loss: 0.5066 - acc: 0.7956\n",
      "Epoch 6/15\n",
      "7200/7200 [==============================] - 0s 69us/step - loss: 0.5066 - acc: 0.7956\n",
      "Epoch 7/15\n",
      "7200/7200 [==============================] - 0s 69us/step - loss: 0.5066 - acc: 0.7956\n",
      "Epoch 8/15\n",
      "7200/7200 [==============================] - 0s 68us/step - loss: 0.5066 - acc: 0.7956\n",
      "Epoch 9/15\n",
      "7200/7200 [==============================] - 1s 72us/step - loss: 0.5066 - acc: 0.7956\n",
      "Epoch 10/15\n",
      "7200/7200 [==============================] - 1s 70us/step - loss: 0.5065 - acc: 0.7956\n",
      "Epoch 11/15\n",
      "7200/7200 [==============================] - 0s 69us/step - loss: 0.5065 - acc: 0.7956\n",
      "Epoch 12/15\n",
      "7200/7200 [==============================] - 1s 71us/step - loss: 0.5065 - acc: 0.7956\n",
      "Epoch 13/15\n",
      "7200/7200 [==============================] - 1s 71us/step - loss: 0.5065 - acc: 0.7956\n",
      "Epoch 14/15\n",
      "7200/7200 [==============================] - 1s 72us/step - loss: 0.5065 - acc: 0.7956\n",
      "Epoch 15/15\n",
      "7200/7200 [==============================] - 1s 72us/step - loss: 0.5064 - acc: 0.7956\n",
      "800/800 [==============================] - 0s 296us/step\n",
      "Epoch 1/15\n",
      "7200/7200 [==============================] - 1s 159us/step - loss: 0.5621 - acc: 0.7968\n",
      "Epoch 2/15\n",
      "7200/7200 [==============================] - 1s 73us/step - loss: 0.5076 - acc: 0.7975\n",
      "Epoch 3/15\n",
      "7200/7200 [==============================] - 1s 75us/step - loss: 0.5042 - acc: 0.7975\n",
      "Epoch 4/15\n",
      "7200/7200 [==============================] - 1s 72us/step - loss: 0.5039 - acc: 0.7975\n",
      "Epoch 5/15\n",
      "7200/7200 [==============================] - 1s 73us/step - loss: 0.5038 - acc: 0.7975\n",
      "Epoch 6/15\n",
      "7200/7200 [==============================] - 1s 71us/step - loss: 0.5038 - acc: 0.7975\n",
      "Epoch 7/15\n",
      "7200/7200 [==============================] - 1s 71us/step - loss: 0.5038 - acc: 0.7975\n",
      "Epoch 8/15\n",
      "7200/7200 [==============================] - 1s 71us/step - loss: 0.5038 - acc: 0.7975\n",
      "Epoch 9/15\n",
      "7200/7200 [==============================] - 1s 71us/step - loss: 0.5038 - acc: 0.7975\n",
      "Epoch 10/15\n",
      "7200/7200 [==============================] - 1s 73us/step - loss: 0.5037 - acc: 0.7975\n",
      "Epoch 11/15\n",
      "7200/7200 [==============================] - 1s 73us/step - loss: 0.5037 - acc: 0.7975\n",
      "Epoch 12/15\n",
      "7200/7200 [==============================] - 1s 73us/step - loss: 0.5036 - acc: 0.7975\n",
      "Epoch 13/15\n",
      "7200/7200 [==============================] - 1s 74us/step - loss: 0.5034 - acc: 0.7975\n",
      "Epoch 14/15\n",
      "7200/7200 [==============================] - 1s 74us/step - loss: 0.5032 - acc: 0.7975\n",
      "Epoch 15/15\n",
      "7200/7200 [==============================] - 1s 75us/step - loss: 0.5028 - acc: 0.7975\n",
      "800/800 [==============================] - 0s 293us/step\n",
      "Epoch 1/15\n",
      "7200/7200 [==============================] - 1s 162us/step - loss: 0.5649 - acc: 0.7936\n",
      "Epoch 2/15\n",
      "7200/7200 [==============================] - 1s 73us/step - loss: 0.5124 - acc: 0.7937\n",
      "Epoch 3/15\n",
      "7200/7200 [==============================] - 1s 74us/step - loss: 0.5093 - acc: 0.7937\n",
      "Epoch 4/15\n",
      "7200/7200 [==============================] - 1s 72us/step - loss: 0.5091 - acc: 0.7937\n",
      "Epoch 5/15\n",
      "7200/7200 [==============================] - 1s 73us/step - loss: 0.5090 - acc: 0.7937\n",
      "Epoch 6/15\n",
      "7200/7200 [==============================] - 1s 73us/step - loss: 0.5090 - acc: 0.7937\n",
      "Epoch 7/15\n",
      "7200/7200 [==============================] - 1s 73us/step - loss: 0.5090 - acc: 0.7937\n",
      "Epoch 8/15\n",
      "7200/7200 [==============================] - 1s 73us/step - loss: 0.5090 - acc: 0.7937\n",
      "Epoch 9/15\n",
      "7200/7200 [==============================] - 1s 72us/step - loss: 0.5089 - acc: 0.7937\n",
      "Epoch 10/15\n",
      "7200/7200 [==============================] - 1s 72us/step - loss: 0.5089 - acc: 0.7937\n",
      "Epoch 11/15\n",
      "7200/7200 [==============================] - 1s 73us/step - loss: 0.5089 - acc: 0.7937\n",
      "Epoch 12/15\n",
      "7200/7200 [==============================] - 1s 72us/step - loss: 0.5088 - acc: 0.7937\n",
      "Epoch 13/15\n",
      "7200/7200 [==============================] - 1s 71us/step - loss: 0.5086 - acc: 0.7937\n",
      "Epoch 14/15\n",
      "7200/7200 [==============================] - 1s 71us/step - loss: 0.5085 - acc: 0.7937\n",
      "Epoch 15/15\n",
      "7200/7200 [==============================] - 1s 71us/step - loss: 0.5082 - acc: 0.7937\n",
      "800/800 [==============================] - 0s 323us/step\n",
      "Epoch 1/15\n",
      "7200/7200 [==============================] - 1s 163us/step - loss: 0.5647 - acc: 0.7944\n",
      "Epoch 2/15\n",
      "7200/7200 [==============================] - 1s 72us/step - loss: 0.5116 - acc: 0.7944\n",
      "Epoch 3/15\n",
      "7200/7200 [==============================] - 1s 73us/step - loss: 0.5084 - acc: 0.7944\n",
      "Epoch 4/15\n",
      "7200/7200 [==============================] - 1s 72us/step - loss: 0.5081 - acc: 0.7944\n",
      "Epoch 5/15\n",
      "7200/7200 [==============================] - 1s 72us/step - loss: 0.5081 - acc: 0.7944\n",
      "Epoch 6/15\n"
     ]
    },
    {
     "name": "stdout",
     "output_type": "stream",
     "text": [
      "7200/7200 [==============================] - 1s 73us/step - loss: 0.5081 - acc: 0.7944\n",
      "Epoch 7/15\n",
      "7200/7200 [==============================] - 1s 75us/step - loss: 0.5081 - acc: 0.7944\n",
      "Epoch 8/15\n",
      "7200/7200 [==============================] - 1s 75us/step - loss: 0.5081 - acc: 0.7944\n",
      "Epoch 9/15\n",
      "7200/7200 [==============================] - 1s 77us/step - loss: 0.5080 - acc: 0.7944\n",
      "Epoch 10/15\n",
      "7200/7200 [==============================] - 1s 76us/step - loss: 0.5081 - acc: 0.7944\n",
      "Epoch 11/15\n",
      "7200/7200 [==============================] - 1s 74us/step - loss: 0.5081 - acc: 0.7944\n",
      "Epoch 12/15\n",
      "7200/7200 [==============================] - 1s 74us/step - loss: 0.5080 - acc: 0.7944\n",
      "Epoch 13/15\n",
      "7200/7200 [==============================] - 1s 74us/step - loss: 0.5081 - acc: 0.7944\n",
      "Epoch 14/15\n",
      "7200/7200 [==============================] - 1s 73us/step - loss: 0.5080 - acc: 0.7944\n",
      "Epoch 15/15\n",
      "7200/7200 [==============================] - 1s 71us/step - loss: 0.5080 - acc: 0.7944\n",
      "800/800 [==============================] - 0s 320us/step\n",
      "Epoch 1/15\n",
      "7200/7200 [==============================] - 1s 169us/step - loss: 0.5623 - acc: 0.7964\n",
      "Epoch 2/15\n",
      "7200/7200 [==============================] - 1s 73us/step - loss: 0.5082 - acc: 0.7969\n",
      "Epoch 3/15\n",
      "7200/7200 [==============================] - 1s 74us/step - loss: 0.5050 - acc: 0.7969\n",
      "Epoch 4/15\n",
      "7200/7200 [==============================] - 1s 73us/step - loss: 0.5047 - acc: 0.7969\n",
      "Epoch 5/15\n",
      "7200/7200 [==============================] - 1s 77us/step - loss: 0.5046 - acc: 0.7969\n",
      "Epoch 6/15\n",
      "7200/7200 [==============================] - 1s 74us/step - loss: 0.5046 - acc: 0.7969\n",
      "Epoch 7/15\n",
      "7200/7200 [==============================] - 1s 77us/step - loss: 0.5046 - acc: 0.7969\n",
      "Epoch 8/15\n",
      "7200/7200 [==============================] - 1s 73us/step - loss: 0.5046 - acc: 0.7969\n",
      "Epoch 9/15\n",
      "7200/7200 [==============================] - 1s 75us/step - loss: 0.5045 - acc: 0.7969\n",
      "Epoch 10/15\n",
      "7200/7200 [==============================] - 1s 74us/step - loss: 0.5045 - acc: 0.7969\n",
      "Epoch 11/15\n",
      "7200/7200 [==============================] - 1s 74us/step - loss: 0.5044 - acc: 0.7969\n",
      "Epoch 12/15\n",
      "7200/7200 [==============================] - 1s 74us/step - loss: 0.5043 - acc: 0.7969\n",
      "Epoch 13/15\n",
      "7200/7200 [==============================] - 1s 73us/step - loss: 0.5042 - acc: 0.7969\n",
      "Epoch 14/15\n",
      "7200/7200 [==============================] - 1s 75us/step - loss: 0.5040 - acc: 0.7969\n",
      "Epoch 15/15\n",
      "7200/7200 [==============================] - 1s 74us/step - loss: 0.5036 - acc: 0.7969\n",
      "800/800 [==============================] - 0s 353us/step\n",
      "Epoch 1/15\n",
      "7200/7200 [==============================] - 1s 178us/step - loss: 0.5622 - acc: 0.7956\n",
      "Epoch 2/15\n",
      "7200/7200 [==============================] - 1s 75us/step - loss: 0.5090 - acc: 0.7962\n",
      "Epoch 3/15\n",
      "7200/7200 [==============================] - 1s 74us/step - loss: 0.5059 - acc: 0.7962\n",
      "Epoch 4/15\n",
      "7200/7200 [==============================] - 1s 73us/step - loss: 0.5056 - acc: 0.7962\n",
      "Epoch 5/15\n",
      "7200/7200 [==============================] - 1s 75us/step - loss: 0.5056 - acc: 0.7962\n",
      "Epoch 6/15\n",
      "7200/7200 [==============================] - 1s 72us/step - loss: 0.5056 - acc: 0.7962\n",
      "Epoch 7/15\n",
      "7200/7200 [==============================] - 1s 72us/step - loss: 0.5056 - acc: 0.7962\n",
      "Epoch 8/15\n",
      "7200/7200 [==============================] - 1s 71us/step - loss: 0.5056 - acc: 0.7962\n",
      "Epoch 9/15\n",
      "7200/7200 [==============================] - 1s 71us/step - loss: 0.5056 - acc: 0.7962\n",
      "Epoch 10/15\n",
      "7200/7200 [==============================] - 1s 72us/step - loss: 0.5056 - acc: 0.7962\n",
      "Epoch 11/15\n",
      "7200/7200 [==============================] - 1s 72us/step - loss: 0.5056 - acc: 0.7962\n",
      "Epoch 12/15\n",
      "7200/7200 [==============================] - 1s 71us/step - loss: 0.5056 - acc: 0.7962\n",
      "Epoch 13/15\n",
      "7200/7200 [==============================] - 1s 71us/step - loss: 0.5056 - acc: 0.7962\n",
      "Epoch 14/15\n",
      "7200/7200 [==============================] - 1s 70us/step - loss: 0.5056 - acc: 0.7962\n",
      "Epoch 15/15\n",
      "7200/7200 [==============================] - 1s 71us/step - loss: 0.5055 - acc: 0.7962\n",
      "800/800 [==============================] - 0s 350us/step\n",
      "Epoch 1/15\n",
      "7200/7200 [==============================] - 1s 174us/step - loss: 0.5622 - acc: 0.7946\n",
      "Epoch 2/15\n",
      "7200/7200 [==============================] - 1s 72us/step - loss: 0.5092 - acc: 0.7957\n",
      "Epoch 3/15\n",
      "7200/7200 [==============================] - 1s 72us/step - loss: 0.5066 - acc: 0.7957\n",
      "Epoch 4/15\n",
      "7200/7200 [==============================] - 1s 71us/step - loss: 0.5064 - acc: 0.7957\n",
      "Epoch 5/15\n",
      "7200/7200 [==============================] - 1s 72us/step - loss: 0.5064 - acc: 0.7957\n",
      "Epoch 6/15\n",
      "7200/7200 [==============================] - 1s 72us/step - loss: 0.5064 - acc: 0.7957\n",
      "Epoch 7/15\n",
      "7200/7200 [==============================] - 1s 72us/step - loss: 0.5064 - acc: 0.7957\n",
      "Epoch 8/15\n",
      "7200/7200 [==============================] - 1s 72us/step - loss: 0.5064 - acc: 0.7957\n",
      "Epoch 9/15\n",
      "7200/7200 [==============================] - 1s 72us/step - loss: 0.5064 - acc: 0.7957\n",
      "Epoch 10/15\n",
      "7200/7200 [==============================] - 1s 71us/step - loss: 0.5064 - acc: 0.7957\n",
      "Epoch 11/15\n",
      "7200/7200 [==============================] - 1s 72us/step - loss: 0.5064 - acc: 0.7957\n",
      "Epoch 12/15\n",
      "7200/7200 [==============================] - 1s 72us/step - loss: 0.5064 - acc: 0.7957\n",
      "Epoch 13/15\n",
      "7200/7200 [==============================] - 1s 71us/step - loss: 0.5063 - acc: 0.7957\n",
      "Epoch 14/15\n",
      "7200/7200 [==============================] - 1s 72us/step - loss: 0.5063 - acc: 0.7957\n",
      "Epoch 15/15\n",
      "7200/7200 [==============================] - 1s 72us/step - loss: 0.5063 - acc: 0.7957\n",
      "800/800 [==============================] - 0s 385us/step\n",
      "Epoch 1/15\n",
      "7200/7200 [==============================] - 1s 190us/step - loss: 0.5624 - acc: 0.7961\n",
      "Epoch 2/15\n",
      "7200/7200 [==============================] - 1s 76us/step - loss: 0.5091 - acc: 0.7961\n",
      "Epoch 3/15\n",
      "7200/7200 [==============================] - 1s 75us/step - loss: 0.5061 - acc: 0.7961\n",
      "Epoch 4/15\n",
      "7200/7200 [==============================] - 1s 77us/step - loss: 0.5058 - acc: 0.7961\n",
      "Epoch 5/15\n",
      "7200/7200 [==============================] - 1s 76us/step - loss: 0.5058 - acc: 0.7961\n",
      "Epoch 6/15\n",
      "7200/7200 [==============================] - 1s 75us/step - loss: 0.5058 - acc: 0.7961\n",
      "Epoch 7/15\n",
      "7200/7200 [==============================] - 1s 73us/step - loss: 0.5058 - acc: 0.7961\n",
      "Epoch 8/15\n",
      "7200/7200 [==============================] - 1s 73us/step - loss: 0.5058 - acc: 0.7961\n",
      "Epoch 9/15\n",
      "7200/7200 [==============================] - 1s 72us/step - loss: 0.5058 - acc: 0.7961\n",
      "Epoch 10/15\n",
      "7200/7200 [==============================] - 1s 73us/step - loss: 0.5058 - acc: 0.7961\n",
      "Epoch 11/15\n",
      "7200/7200 [==============================] - 1s 74us/step - loss: 0.5058 - acc: 0.7961\n",
      "Epoch 12/15\n",
      "7200/7200 [==============================] - 1s 74us/step - loss: 0.5058 - acc: 0.7961\n",
      "Epoch 13/15\n",
      "7200/7200 [==============================] - 1s 73us/step - loss: 0.5057 - acc: 0.7961\n",
      "Epoch 14/15\n",
      "7200/7200 [==============================] - 1s 73us/step - loss: 0.5057 - acc: 0.7961\n",
      "Epoch 15/15\n",
      "7200/7200 [==============================] - 1s 73us/step - loss: 0.5057 - acc: 0.7961\n",
      "800/800 [==============================] - 0s 396us/step\n"
     ]
    }
   ],
   "source": [
    "from keras.wrappers.scikit_learn import KerasClassifier\n",
    "from sklearn.model_selection import cross_val_score\n",
    "from keras.models import Sequential\n",
    "from keras.layers import Dense\n",
    "\n",
    "def build_classifier():\n",
    "    classifier = Sequential()\n",
    "    classifier.add(Dense(units = 6, kernel_initializer = 'uniform', activation = 'relu', input_dim = 11))\n",
    "    classifier.add(Dropout(rate=0.1))\n",
    "    classifier.add(Dense(units = 6, kernel_initializer = 'uniform', activation = 'relu'))\n",
    "    classifier.add(Dropout(rate=0.1))\n",
    "    classifier.add(Dense(units = 1, kernel_initializer = 'uniform', activation = 'sigmoid'))\n",
    "    classifier.compile(optimizer = 'sgd', loss = 'binary_crossentropy', metrics = ['accuracy'])\n",
    "    return classifier\n",
    "\n",
    "classifier = KerasClassifier(build_fn  = build_classifier, batch_size = 10, epochs = 15, verbose= 1)\n",
    "accuracies = cross_val_score(estimator = classifier, X = X_train, y = y_train, cv = 10)\n",
    "mean = accuracies.mean()\n",
    "variance = accuracies.std()\n"
   ]
  },
  {
   "cell_type": "code",
   "execution_count": 35,
   "metadata": {},
   "outputs": [
    {
     "data": {
      "text/plain": [
       "0.7959999969601632"
      ]
     },
     "execution_count": 35,
     "metadata": {},
     "output_type": "execute_result"
    }
   ],
   "source": [
    "mean"
   ]
  },
  {
   "cell_type": "code",
   "execution_count": 36,
   "metadata": {},
   "outputs": [
    {
     "data": {
      "text/plain": [
       "0.010105690620981692"
      ]
     },
     "execution_count": 36,
     "metadata": {},
     "output_type": "execute_result"
    }
   ],
   "source": [
    "variance"
   ]
  },
  {
   "cell_type": "markdown",
   "metadata": {},
   "source": [
    "### 比較優化器"
   ]
  },
  {
   "cell_type": "code",
   "execution_count": 40,
   "metadata": {},
   "outputs": [],
   "source": [
    "from keras.wrappers.scikit_learn import KerasClassifier\n",
    "from sklearn.model_selection import cross_val_score\n",
    "from keras.models import Sequential\n",
    "from keras.layers import Dense\n",
    "\n",
    "def train_model(optimizer):\n",
    "    classifier = Sequential()\n",
    "    classifier.add(Dense(units = 6, kernel_initializer = 'uniform', activation = 'relu', input_dim = 11))\n",
    "    classifier.add(Dropout(rate=0.1))\n",
    "    classifier.add(Dense(units = 6, kernel_initializer = 'uniform', activation = 'relu'))\n",
    "    classifier.add(Dropout(rate=0.1))\n",
    "    classifier.add(Dense(units = 1, kernel_initializer = 'uniform', activation = 'sigmoid'))\n",
    "    classifier.compile(optimizer = optimizer, loss = 'binary_crossentropy', metrics = ['accuracy'])\n",
    "    \n",
    "    history = classifier.fit(X_train, y_train,\n",
    "                    batch_size=100,\n",
    "                    epochs=100,\n",
    "                    verbose=0,\n",
    "                    validation_data=(X_test, y_test))\n",
    "    return history"
   ]
  },
  {
   "cell_type": "code",
   "execution_count": 41,
   "metadata": {},
   "outputs": [],
   "source": [
    "sgd_model = train_model('sgd')"
   ]
  },
  {
   "cell_type": "code",
   "execution_count": 42,
   "metadata": {},
   "outputs": [],
   "source": [
    "rmsprop_model = train_model('RMSprop')"
   ]
  },
  {
   "cell_type": "code",
   "execution_count": 43,
   "metadata": {},
   "outputs": [],
   "source": [
    "adagrad_model = train_model('Adagrad')"
   ]
  },
  {
   "cell_type": "code",
   "execution_count": 44,
   "metadata": {},
   "outputs": [],
   "source": [
    "adadelta_model = train_model('Adadelta')"
   ]
  },
  {
   "cell_type": "code",
   "execution_count": 45,
   "metadata": {},
   "outputs": [],
   "source": [
    "adam_model = train_model('Adam')"
   ]
  },
  {
   "cell_type": "code",
   "execution_count": 49,
   "metadata": {},
   "outputs": [
    {
     "name": "stdout",
     "output_type": "stream",
     "text": [
      "Populating the interactive namespace from numpy and matplotlib\n"
     ]
    },
    {
     "name": "stderr",
     "output_type": "stream",
     "text": [
      "C:\\ProgramData\\Anaconda3\\lib\\site-packages\\IPython\\core\\magics\\pylab.py:160: UserWarning: pylab import has clobbered these variables: ['mean']\n",
      "`%matplotlib` prevents importing * from pylab and numpy\n",
      "  \"\\n`%matplotlib` prevents importing * from pylab and numpy\"\n"
     ]
    },
    {
     "data": {
      "image/png": "[encoded data removed]",
      "text/plain": [
       "<Figure size 640x480 with 1 Axes>"
      ]
     },
     "metadata": {},
     "output_type": "display_data"
    }
   ],
   "source": [
    "% pylab inline\n",
    "import matplotlib.pyplot  as plt\n",
    "plt.figure(num=None, figsize=(8, 6), dpi=80, facecolor='w', edgecolor='k')\n",
    "plt.plot(sgd_model.epoch, sgd_model.history['acc'], label='SGD')\n",
    "plt.plot(rmsprop_model.epoch, rmsprop_model.history['acc'], label='RMSProp')\n",
    "plt.plot(adagrad_model.epoch, adagrad_model.history['acc'], label='AdaGrad')\n",
    "plt.plot(adadelta_model.epoch, adadelta_model.history['acc'], label='AdaDelta')\n",
    "plt.plot(adam_model.epoch, adam_model.history['acc'], label='Adam')\n",
    "plt.legend()\n",
    "plt.show()"
   ]
  },
  {
   "cell_type": "markdown",
   "metadata": {},
   "source": [
    "### Grid Search"
   ]
  },
  {
   "cell_type": "code",
   "execution_count": null,
   "metadata": {},
   "outputs": [],
   "source": [
    "from sklearn.model_selection import GridSearchCV\n",
    "\n",
    "classifier = KerasClassifier(build_fn = build_classifier)\n",
    "parameters = {'batch_size': [25, 32],\n",
    "              'epochs': [100, 500],\n",
    "              'optimizer': ['adam', 'rmsprop']}\n",
    "grid_search = GridSearchCV(estimator = classifier,\n",
    "                           param_grid = parameters,\n",
    "                           scoring = 'accuracy',\n",
    "                           cv = 10)\n",
    "grid_search = grid_search.fit(X_train, y_train)\n",
    "best_parameters = grid_search.best_params_\n",
    "best_accuracy = grid_search.best_score_"
   ]
  },
  {
   "cell_type": "markdown",
   "metadata": {},
   "source": [
    "## 比較深度學習模型與機器學習模型"
   ]
  },
  {
   "cell_type": "code",
   "execution_count": 50,
   "metadata": {},
   "outputs": [],
   "source": [
    "# Importing the Keras libraries and packages\n",
    "import keras\n",
    "from keras.models import Sequential\n",
    "from keras.layers import Dense\n",
    "\n",
    "# Initializing the ANN\n",
    "classifier = Sequential()\n",
    "classifier.add(Dense(units = 6, kernel_initializer = 'uniform', activation = 'relu', input_dim = 11))\n",
    "classifier.add(Dropout(rate=0.1))\n",
    "classifier.add(Dense(units = 6, kernel_initializer = 'uniform', activation = 'relu'))\n",
    "classifier.add(Dropout(rate=0.1))\n",
    "classifier.add(Dense(units = 1, kernel_initializer = 'uniform', activation = 'sigmoid'))\n",
    "classifier.compile(optimizer = 'adam', loss = 'binary_crossentropy', metrics = ['accuracy'])\n",
    "history = classifier.fit(X_train, y_train,\n",
    "                    batch_size=100,\n",
    "                    epochs=100,\n",
    "                    verbose=0,\n",
    "                    validation_data=(X_test, y_test))"
   ]
  },
  {
   "cell_type": "code",
   "execution_count": 79,
   "metadata": {},
   "outputs": [],
   "source": [
    "predicted = classifier.predict(X_test) > 0.5"
   ]
  },
  {
   "cell_type": "code",
   "execution_count": 80,
   "metadata": {},
   "outputs": [
    {
     "data": {
      "text/plain": [
       "0.8415"
      ]
     },
     "execution_count": 80,
     "metadata": {},
     "output_type": "execute_result"
    }
   ],
   "source": [
    "from sklearn.metrics import accuracy_score, confusion_matrix\n",
    "accuracy_score(y_test, predicted)"
   ]
  },
  {
   "cell_type": "code",
   "execution_count": 81,
   "metadata": {},
   "outputs": [
    {
     "data": {
      "text/plain": [
       "array([[1548,   47],\n",
       "       [ 270,  135]], dtype=int64)"
      ]
     },
     "execution_count": 81,
     "metadata": {},
     "output_type": "execute_result"
    }
   ],
   "source": [
    "confusion_matrix(y_test, predicted)"
   ]
  },
  {
   "cell_type": "markdown",
   "metadata": {},
   "source": [
    "### ROC Curve (Reciever Operating Characteristic)"
   ]
  },
  {
   "cell_type": "code",
   "execution_count": 82,
   "metadata": {},
   "outputs": [],
   "source": [
    "predicted = classifier.predict(X_test) > 0.1\n",
    "cm = confusion_matrix(y_test, predicted)\n",
    "TP = cm[0,0] #True Positive 你有病，醫生說你有病\n",
    "FN = cm[1,0] #False Negative 你有病，醫生說你沒病\n",
    "FP = cm[0,1] #False Positive 你沒病，醫生說你有病\n",
    "TN = cm[1,1] #True Negative 你沒病，醫生說你沒病\n",
    "TP, FN, FP, TN\n",
    "\n",
    "TPR = TP / (TP+ FN) \n",
    "FPR = FP / (FP+ TN)"
   ]
  },
  {
   "cell_type": "code",
   "execution_count": 86,
   "metadata": {},
   "outputs": [],
   "source": [
    "y_pred = classifier.predict(X_test)"
   ]
  },
  {
   "cell_type": "code",
   "execution_count": 88,
   "metadata": {},
   "outputs": [
    {
     "data": {
      "text/plain": [
       "array([[0.23096308],\n",
       "       [0.28676078],\n",
       "       [0.164292  ],\n",
       "       ...,\n",
       "       [0.18217151],\n",
       "       [0.13759182],\n",
       "       [0.144577  ]], dtype=float32)"
      ]
     },
     "execution_count": 88,
     "metadata": {},
     "output_type": "execute_result"
    }
   ],
   "source": [
    "y_pred"
   ]
  },
  {
   "cell_type": "code",
   "execution_count": 89,
   "metadata": {},
   "outputs": [],
   "source": [
    "from sklearn.metrics import roc_curve\n",
    "fpr_ary, tpr_ary, thresholds = roc_curve(y_test, y_pred)"
   ]
  },
  {
   "cell_type": "code",
   "execution_count": 90,
   "metadata": {},
   "outputs": [
    {
     "name": "stdout",
     "output_type": "stream",
     "text": [
      "Populating the interactive namespace from numpy and matplotlib\n"
     ]
    },
    {
     "data": {
      "image/png": "[encoded data removed]",
      "text/plain": [
       "<Figure size 432x288 with 1 Axes>"
      ]
     },
     "metadata": {},
     "output_type": "display_data"
    }
   ],
   "source": [
    "%pylab inline\n",
    "import matplotlib.pyplot as plt\n",
    "plt.plot(fpr_ary, tpr_ary, label='ROC curve')\n",
    "plt.plot([0, 1], [0, 1], 'k--')\n",
    "plt.xlim([0.0, 1.0])\n",
    "plt.ylim([0.0, 1.0])\n",
    "plt.xlabel('False Positive Rate')\n",
    "plt.ylabel('True Positive Rate')\n",
    "plt.title('Receiver operating characteristic example')\n",
    "plt.legend(loc=\"lower right\")\n",
    "plt.show()"
   ]
  },
  {
   "cell_type": "code",
   "execution_count": 92,
   "metadata": {},
   "outputs": [
    {
     "data": {
      "text/plain": [
       "RandomForestClassifier(bootstrap=True, class_weight=None, criterion='gini',\n",
       "            max_depth=None, max_features='auto', max_leaf_nodes=None,\n",
       "            min_impurity_decrease=0.0, min_impurity_split=None,\n",
       "            min_samples_leaf=1, min_samples_split=2,\n",
       "            min_weight_fraction_leaf=0.0, n_estimators=10, n_jobs=1,\n",
       "            oob_score=False, random_state=None, verbose=0,\n",
       "            warm_start=False)"
      ]
     },
     "execution_count": 92,
     "metadata": {},
     "output_type": "execute_result"
    }
   ],
   "source": [
    "from sklearn.tree import DecisionTreeClassifier\n",
    "from sklearn.svm import SVC\n",
    "from sklearn.linear_model import LogisticRegression\n",
    "from sklearn.ensemble import RandomForestClassifier\n",
    "\n",
    "clf1 = DecisionTreeClassifier()\n",
    "clf1.fit(X_train, y_train)\n",
    "\n",
    "clf2 = SVC(probability = True)\n",
    "clf2.fit(X_train, y_train)\n",
    "\n",
    "clf3 = LogisticRegression()\n",
    "clf3.fit(X_train, y_train)\n",
    "\n",
    "clf4 = RandomForestClassifier()\n",
    "clf4.fit(X_train, y_train)"
   ]
  },
  {
   "cell_type": "code",
   "execution_count": 93,
   "metadata": {},
   "outputs": [
    {
     "data": {
      "image/png": "[encoded data removed]",
      "text/plain": [
       "<Figure size 1440x720 with 1 Axes>"
      ]
     },
     "metadata": {},
     "output_type": "display_data"
    }
   ],
   "source": [
    "from sklearn.metrics import auc\n",
    "from sklearn.metrics import roc_curve\n",
    "import matplotlib.pyplot as plt\n",
    "\n",
    "plt.figure(figsize= [20,10])\n",
    "for clf, title in zip([classifier,clf1,clf2,clf3, clf4], ['ANN','Decision Tree', 'SVM', 'LogisticRegression', 'RandomForest']):\n",
    "    if title != 'ANN':\n",
    "        probas_ = clf.fit(X_train, y_train).predict_proba(X_test)\n",
    "        fpr, tpr, thresholds = roc_curve(y_test, probas_[:, 1])\n",
    "    else:\n",
    "        y_pred = clf.predict(X_test)\n",
    "        fpr, tpr, thresholds = roc_curve(y_test, y_pred)\n",
    "    plt.plot(fpr, tpr, label='%s - AUC:%.2f'%(title, auc(fpr, tpr)) )\n",
    "    \n",
    "plt.plot([0, 1], [0, 1], 'k--')\n",
    "plt.xlim([0.0, 1.0])\n",
    "plt.ylim([0.0, 1.0])\n",
    "plt.xlabel('False Positive Rate', fontsize = 20)\n",
    "plt.ylabel('True Positive Rate', fontsize = 20)\n",
    "plt.title('Receiver operating characteristic example', fontsize = 20)\n",
    "plt.legend(loc=\"lower right\", fontsize = 20)\n",
    "plt.show()"
   ]
  }
 ],
 "metadata": {
  "kernelspec": {
   "display_name": "Python 3",
   "language": "python",
   "name": "python3"
  },
  "language_info": {
   "codemirror_mode": {
    "name": "ipython",
    "version": 3
   },
   "file_extension": ".py",
   "mimetype": "text/x-python",
   "name": "python",
   "nbconvert_exporter": "python",
   "pygments_lexer": "ipython3",
   "version": "3.6.5"
  }
 },
 "nbformat": 4,
 "nbformat_minor": 2
}
