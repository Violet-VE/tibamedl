{
 "cells": [
  {
   "cell_type": "markdown",
   "metadata": {},
   "source": [
    "## 使用 CNN 做人臉識別"
   ]
  },
  {
   "cell_type": "markdown",
   "metadata": {},
   "source": [
    "### 撰寫網路爬蟲取得圖片資料"
   ]
  },
  {
   "cell_type": "code",
   "execution_count": 2,
   "metadata": {},
   "outputs": [
    {
     "data": {
      "text/plain": [
       "<Response [200]>"
      ]
     },
     "execution_count": 2,
     "metadata": {},
     "output_type": "execute_result"
    }
   ],
   "source": [
    "import requests\n",
    "res = requests.get('https://www.chinatimes.com/realtimenews/20190115005089-260404')\n",
    "res"
   ]
  },
  {
   "cell_type": "code",
   "execution_count": 4,
   "metadata": {},
   "outputs": [],
   "source": [
    "#res.text"
   ]
  },
  {
   "cell_type": "code",
   "execution_count": 5,
   "metadata": {},
   "outputs": [
    {
     "data": {
      "text/plain": [
       "<Response [200]>"
      ]
     },
     "execution_count": 5,
     "metadata": {},
     "output_type": "execute_result"
    }
   ],
   "source": [
    "url = 'https://pgw.udn.com.tw/gw/photo.php?u=https://uc.udn.com.tw/photo/2018/11/25/1/5581159.jpg&x=0&y=0&sw=0&sh=0&sl=W&fw=1050&exp=3600'\n",
    "res = requests.get(url)\n",
    "res"
   ]
  },
  {
   "cell_type": "code",
   "execution_count": 6,
   "metadata": {},
   "outputs": [],
   "source": [
    "with open('chiling.jpg', 'wb') as f:\n",
    "    f.write(res.content)"
   ]
  },
  {
   "cell_type": "code",
   "execution_count": 9,
   "metadata": {},
   "outputs": [
    {
     "name": "stderr",
     "output_type": "stream",
     "text": [
      "C:\\ProgramData\\Anaconda3\\lib\\site-packages\\bs4\\__init__.py:181: UserWarning: No parser was explicitly specified, so I'm using the best available HTML parser for this system (\"lxml\"). This usually isn't a problem, but if you run this code on another system, or in a different virtual environment, it may use a different parser and behave differently.\n",
      "\n",
      "The code that caused this warning is on line 193 of the file C:\\ProgramData\\Anaconda3\\lib\\runpy.py. To get rid of this warning, change code that looks like this:\n",
      "\n",
      " BeautifulSoup(YOUR_MARKUP})\n",
      "\n",
      "to this:\n",
      "\n",
      " BeautifulSoup(YOUR_MARKUP, \"lxml\")\n",
      "\n",
      "  markup_type=markup_type))\n"
     ]
    }
   ],
   "source": [
    "import requests\n",
    "from bs4 import BeautifulSoup\n",
    "res  = requests.get('https://www.google.com/search?ei=1ZaVXJDSBa6Rr7wP9p-xuA8&yv=3&tbm=isch&q=%E6%9E%97%E5%BF%97%E7%8E%B2&vet=10ahUKEwjQkJTmmJfhAhWuyIsBHfZPDPcQuT0IogEoAQ.1ZaVXJDSBa6Rr7wP9p-xuA8.i&ved=0ahUKEwjQkJTmmJfhAhWuyIsBHfZPDPcQuT0IogEoAQ&ijn=1&start=100&asearch=ichunk&async=_id:rg_s,_pms:s,_fmt:pc')\n",
    "soup = BeautifulSoup(res.text, 'lxml')\n",
    "#soup.select('img')"
   ]
  },
  {
   "cell_type": "code",
   "execution_count": 12,
   "metadata": {},
   "outputs": [
    {
     "name": "stdout",
     "output_type": "stream",
     "text": [
      "https://encrypted-tbn0.gstatic.com/images?q=tbn:ANd9GcQPbJ_ik29N84a9-Ha_UKReNSSIboFuPujREebJ4e7f668fXjCY\n",
      "https://encrypted-tbn0.gstatic.com/images?q=tbn:ANd9GcSWX7JEFgJOk75lOUGoWr9oz2rh2M6BuHQza7OovSzXrLgSzxGa\n",
      "https://encrypted-tbn0.gstatic.com/images?q=tbn:ANd9GcQS47h49XG_9GSxj2IHd77hkZj8v5UbrsLYHk-fS-AvhvO5cef-\n",
      "https://encrypted-tbn0.gstatic.com/images?q=tbn:ANd9GcROIEbru-fmUtv6vSrVjisnKAMwFgOFFH2Fw8mtesDUmOPBVHAUqg\n",
      "https://encrypted-tbn0.gstatic.com/images?q=tbn:ANd9GcRRC4LcQpj42AiY1Yx9HRTjPzTKeeX8zhqpf8_QJGE5_bG9-fkT\n",
      "https://encrypted-tbn0.gstatic.com/images?q=tbn:ANd9GcTMyID85fMSI8twZk3cqpcXUDrXHBUNEw_lvLanQiimJzGI7Xkc\n",
      "https://encrypted-tbn0.gstatic.com/images?q=tbn:ANd9GcQYA6ItyGNwPhn0uBPQjQ1jOUswuoCAj3DERWA1PHdvvLjlKQy-\n",
      "https://encrypted-tbn0.gstatic.com/images?q=tbn:ANd9GcSFMPMfrtbyVdrIgSgc93VU20cpyAS1n11MDjgJUbOSoYFQDHUXtw\n",
      "https://encrypted-tbn0.gstatic.com/images?q=tbn:ANd9GcSJXeewCJPWh-54SOFr_tzSnDIY43Otfe0vwUem90YYjLVe92Tf\n",
      "https://encrypted-tbn0.gstatic.com/images?q=tbn:ANd9GcSlBu5gciZwo7SAJXva3i0UeewBbo92UlvMc4SHw1xyS5Ytu-Y8pQ\n",
      "https://encrypted-tbn0.gstatic.com/images?q=tbn:ANd9GcSQZ8uZK_BTed98ALDv7OtcogR4vlb42tkOCO2TvLVS4pkERhdBtA\n",
      "https://encrypted-tbn0.gstatic.com/images?q=tbn:ANd9GcTMxIyki11wmV4dAvGBHk9Yv2AaFcKT_tfF_BjD3LlvmGuC0ujk\n",
      "https://encrypted-tbn0.gstatic.com/images?q=tbn:ANd9GcQixbaTgMBT_6bZfiGIK-nlmM3JyT9lqmBWpd7Vo5YYCaWWowlL_g\n",
      "https://encrypted-tbn0.gstatic.com/images?q=tbn:ANd9GcTKdShydZ10oGNycb9ope4pLNchFyQoQgLClo1K62LZaomkG6MO\n",
      "https://encrypted-tbn0.gstatic.com/images?q=tbn:ANd9GcSQtnIiG3KbaxkxAboOpPS0a3ag_B-86ojkU4nhF0HA9qEJIESx\n",
      "https://encrypted-tbn0.gstatic.com/images?q=tbn:ANd9GcQilS5_8DfiVoeYE8CmoV4NnwyDlM6jG1KpNM0ALIqz68PmyKKmoA\n",
      "https://encrypted-tbn0.gstatic.com/images?q=tbn:ANd9GcTqF_y-IPDd4bY_xNBQJXikAnDq-cPXCBif0MdGifSp_BkWHdE0pw\n",
      "https://encrypted-tbn0.gstatic.com/images?q=tbn:ANd9GcQ9S2pYJBKZQa7rK3jGF3GX8NU78ljV6ThYv0pRedOt6aGML4s0\n",
      "https://encrypted-tbn0.gstatic.com/images?q=tbn:ANd9GcSrDftPOgRRiyWGPTiA-5YJY-Gg2eyfzahIdHYznZRUdFpnzrz1\n",
      "https://encrypted-tbn0.gstatic.com/images?q=tbn:ANd9GcSU9ABJAI_ZYTd4Tcf7Px5sAW35-0qaVJPnpzgyqJXN7WGdWexI\n",
      "None\n",
      "None\n",
      "None\n",
      "None\n",
      "None\n",
      "None\n",
      "None\n",
      "None\n",
      "None\n",
      "None\n",
      "None\n",
      "None\n",
      "None\n",
      "None\n",
      "None\n",
      "None\n",
      "None\n",
      "None\n",
      "None\n",
      "None\n",
      "None\n",
      "None\n",
      "None\n",
      "None\n",
      "None\n",
      "None\n",
      "None\n",
      "None\n",
      "None\n",
      "None\n",
      "None\n",
      "None\n",
      "None\n",
      "None\n",
      "None\n",
      "None\n",
      "None\n",
      "None\n",
      "None\n",
      "None\n",
      "None\n",
      "None\n",
      "None\n",
      "None\n",
      "None\n",
      "None\n",
      "None\n",
      "None\n",
      "None\n",
      "None\n",
      "None\n",
      "None\n",
      "None\n",
      "None\n",
      "None\n",
      "None\n",
      "None\n",
      "None\n",
      "None\n",
      "None\n",
      "None\n",
      "None\n",
      "None\n",
      "None\n",
      "None\n",
      "None\n",
      "None\n",
      "None\n",
      "None\n",
      "None\n",
      "None\n",
      "None\n",
      "None\n",
      "None\n",
      "None\n",
      "None\n",
      "None\n",
      "None\n",
      "None\n",
      "None\n"
     ]
    }
   ],
   "source": [
    "for rec in soup.select('img'):\n",
    "    print(rec.get('src'))"
   ]
  },
  {
   "cell_type": "code",
   "execution_count": 13,
   "metadata": {},
   "outputs": [],
   "source": [
    "url = 'https://encrypted-tbn0.gstatic.com/images?q=tbn:ANd9GcQPbJ_ik29N84a9-Ha_UKReNSSIboFuPujREebJ4e7f668fXjCY'\n",
    "res = requests.get(url)\n",
    "with open('1.jpg', 'wb') as f:\n",
    "    f.write(res.content)"
   ]
  },
  {
   "cell_type": "code",
   "execution_count": 14,
   "metadata": {},
   "outputs": [],
   "source": [
    "url = 'https://encrypted-tbn0.gstatic.com/images?q=tbn:ANd9GcQPbJ_ik29N84a9-Ha_UKReNSSIboFuPujREebJ4e7f668fXjCY'\n",
    "res = requests.get(url)\n",
    "fname = url.split('tbn:')[1]\n",
    "with open('{}.jpg'.format(fname), 'wb') as f:\n",
    "    f.write(res.content)"
   ]
  },
  {
   "cell_type": "code",
   "execution_count": 22,
   "metadata": {},
   "outputs": [],
   "source": [
    "import requests\n",
    "from bs4 import BeautifulSoup\n",
    "url  = 'https://www.google.com/search?ei=1ZaVXJDSBa6Rr7wP9p-xuA8&yv=3&tbm=isch&q={}&vet=10ahUKEwjQkJTmmJfhAhWuyIsBHfZPDPcQuT0IogEoAQ.1ZaVXJDSBa6Rr7wP9p-xuA8.i&ved=0ahUKEwjQkJTmmJfhAhWuyIsBHfZPDPcQuT0IogEoAQ&ijn=1&start={}&asearch=ichunk&async=_id:rg_s,_pms:s,_fmt:pc'\n",
    "idolname = '金城武'\n",
    "startpos = 0\n",
    "res  = requests.get(url.format(idolname, startpos))\n",
    "soup = BeautifulSoup(res.text, 'lxml')\n",
    "for rec in soup.select('img'):\n",
    "    #print(rec)\n",
    "    if rec.get('src'):\n",
    "        imgurl = rec.get('src')\n",
    "    elif rec.get('data-src'):\n",
    "        imgurl = rec.get('data-src')\n",
    "    res   = requests.get(imgurl)\n",
    "    fname = imgurl.split('tbn:')[1]\n",
    "    with open('{}.jpg'.format(fname), 'wb') as f:\n",
    "        f.write(res.content)"
   ]
  },
  {
   "cell_type": "code",
   "execution_count": 24,
   "metadata": {},
   "outputs": [],
   "source": [
    "import requests\n",
    "from bs4 import BeautifulSoup\n",
    "import os\n",
    "\n",
    "def getIdolPicture(idolname, pages, dest):\n",
    "    # Create new destination directory\n",
    "    if not os.path.exists(dest):\n",
    "        os.mkdir(dest)\n",
    "    url  = 'https://www.google.com/search?ei=1ZaVXJDSBa6Rr7wP9p-xuA8&yv=3&tbm=isch&q={}&vet=10ahUKEwjQkJTmmJfhAhWuyIsBHfZPDPcQuT0IogEoAQ.1ZaVXJDSBa6Rr7wP9p-xuA8.i&ved=0ahUKEwjQkJTmmJfhAhWuyIsBHfZPDPcQuT0IogEoAQ&ijn=1&start={}&asearch=ichunk&async=_id:rg_s,_pms:s,_fmt:pc'\n",
    "    # change page\n",
    "    for i in range(pages):\n",
    "        startpos = i * 100\n",
    "        # get page info\n",
    "        res  = requests.get(url.format(idolname, startpos))\n",
    "        soup = BeautifulSoup(res.text, 'lxml')\n",
    "        # get picture\n",
    "        for rec in soup.select('img'):\n",
    "            #print(rec)\n",
    "            if rec.get('src'):\n",
    "                imgurl = rec.get('src')\n",
    "            elif rec.get('data-src'):\n",
    "                imgurl = rec.get('data-src')\n",
    "            res   = requests.get(imgurl)\n",
    "            fname = imgurl.split('tbn:')[1]\n",
    "            with open('{}/{}.jpg'.format(dest,fname), 'wb') as f:\n",
    "                f.write(res.content)"
   ]
  },
  {
   "cell_type": "code",
   "execution_count": 27,
   "metadata": {},
   "outputs": [],
   "source": [
    "getIdolPicture('林志玲', 3, 'chiling')"
   ]
  },
  {
   "cell_type": "code",
   "execution_count": 28,
   "metadata": {},
   "outputs": [],
   "source": [
    "getIdolPicture('周子瑜', 3, 'tzuyu')"
   ]
  },
  {
   "cell_type": "code",
   "execution_count": 29,
   "metadata": {},
   "outputs": [],
   "source": [
    "getIdolPicture('徐若瑄', 3, 'vivian')"
   ]
  },
  {
   "cell_type": "code",
   "execution_count": null,
   "metadata": {},
   "outputs": [],
   "source": []
  }
 ],
 "metadata": {
  "kernelspec": {
   "display_name": "Python 3",
   "language": "python",
   "name": "python3"
  },
  "language_info": {
   "codemirror_mode": {
    "name": "ipython",
    "version": 3
   },
   "file_extension": ".py",
   "mimetype": "text/x-python",
   "name": "python",
   "nbconvert_exporter": "python",
   "pygments_lexer": "ipython3",
   "version": "3.6.5"
  }
 },
 "nbformat": 4,
 "nbformat_minor": 2
}
