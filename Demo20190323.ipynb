{
 "cells": [
  {
   "cell_type": "markdown",
   "metadata": {},
   "source": [
    "## 使用 CNN 做人臉識別"
   ]
  },
  {
   "cell_type": "markdown",
   "metadata": {},
   "source": [
    "### 撰寫網路爬蟲取得圖片資料"
   ]
  },
  {
   "cell_type": "code",
   "execution_count": 2,
   "metadata": {},
   "outputs": [
    {
     "data": {
      "text/plain": [
       "<Response [200]>"
      ]
     },
     "execution_count": 2,
     "metadata": {},
     "output_type": "execute_result"
    }
   ],
   "source": [
    "import requests\n",
    "res = requests.get('https://www.chinatimes.com/realtimenews/20190115005089-260404')\n",
    "res"
   ]
  },
  {
   "cell_type": "code",
   "execution_count": 4,
   "metadata": {},
   "outputs": [],
   "source": [
    "#res.text"
   ]
  },
  {
   "cell_type": "code",
   "execution_count": 5,
   "metadata": {},
   "outputs": [
    {
     "data": {
      "text/plain": [
       "<Response [200]>"
      ]
     },
     "execution_count": 5,
     "metadata": {},
     "output_type": "execute_result"
    }
   ],
   "source": [
    "url = 'https://pgw.udn.com.tw/gw/photo.php?u=https://uc.udn.com.tw/photo/2018/11/25/1/5581159.jpg&x=0&y=0&sw=0&sh=0&sl=W&fw=1050&exp=3600'\n",
    "res = requests.get(url)\n",
    "res"
   ]
  },
  {
   "cell_type": "code",
   "execution_count": 6,
   "metadata": {},
   "outputs": [],
   "source": [
    "with open('chiling.jpg', 'wb') as f:\n",
    "    f.write(res.content)"
   ]
  },
  {
   "cell_type": "code",
   "execution_count": 9,
   "metadata": {},
   "outputs": [
    {
     "name": "stderr",
     "output_type": "stream",
     "text": [
      "C:\\ProgramData\\Anaconda3\\lib\\site-packages\\bs4\\__init__.py:181: UserWarning: No parser was explicitly specified, so I'm using the best available HTML parser for this system (\"lxml\"). This usually isn't a problem, but if you run this code on another system, or in a different virtual environment, it may use a different parser and behave differently.\n",
      "\n",
      "The code that caused this warning is on line 193 of the file C:\\ProgramData\\Anaconda3\\lib\\runpy.py. To get rid of this warning, change code that looks like this:\n",
      "\n",
      " BeautifulSoup(YOUR_MARKUP})\n",
      "\n",
      "to this:\n",
      "\n",
      " BeautifulSoup(YOUR_MARKUP, \"lxml\")\n",
      "\n",
      "  markup_type=markup_type))\n"
     ]
    }
   ],
   "source": [
    "import requests\n",
    "from bs4 import BeautifulSoup\n",
    "res  = requests.get('https://www.google.com/search?ei=1ZaVXJDSBa6Rr7wP9p-xuA8&yv=3&tbm=isch&q=%E6%9E%97%E5%BF%97%E7%8E%B2&vet=10ahUKEwjQkJTmmJfhAhWuyIsBHfZPDPcQuT0IogEoAQ.1ZaVXJDSBa6Rr7wP9p-xuA8.i&ved=0ahUKEwjQkJTmmJfhAhWuyIsBHfZPDPcQuT0IogEoAQ&ijn=1&start=100&asearch=ichunk&async=_id:rg_s,_pms:s,_fmt:pc')\n",
    "soup = BeautifulSoup(res.text, 'lxml')\n",
    "#soup.select('img')"
   ]
  },
  {
   "cell_type": "code",
   "execution_count": 12,
   "metadata": {},
   "outputs": [
    {
     "name": "stdout",
     "output_type": "stream",
     "text": [
      "https://encrypted-tbn0.gstatic.com/images?q=tbn:ANd9GcQPbJ_ik29N84a9-Ha_UKReNSSIboFuPujREebJ4e7f668fXjCY\n",
      "https://encrypted-tbn0.gstatic.com/images?q=tbn:ANd9GcSWX7JEFgJOk75lOUGoWr9oz2rh2M6BuHQza7OovSzXrLgSzxGa\n",
      "https://encrypted-tbn0.gstatic.com/images?q=tbn:ANd9GcQS47h49XG_9GSxj2IHd77hkZj8v5UbrsLYHk-fS-AvhvO5cef-\n",
      "https://encrypted-tbn0.gstatic.com/images?q=tbn:ANd9GcROIEbru-fmUtv6vSrVjisnKAMwFgOFFH2Fw8mtesDUmOPBVHAUqg\n",
      "https://encrypted-tbn0.gstatic.com/images?q=tbn:ANd9GcRRC4LcQpj42AiY1Yx9HRTjPzTKeeX8zhqpf8_QJGE5_bG9-fkT\n",
      "https://encrypted-tbn0.gstatic.com/images?q=tbn:ANd9GcTMyID85fMSI8twZk3cqpcXUDrXHBUNEw_lvLanQiimJzGI7Xkc\n",
      "https://encrypted-tbn0.gstatic.com/images?q=tbn:ANd9GcQYA6ItyGNwPhn0uBPQjQ1jOUswuoCAj3DERWA1PHdvvLjlKQy-\n",
      "https://encrypted-tbn0.gstatic.com/images?q=tbn:ANd9GcSFMPMfrtbyVdrIgSgc93VU20cpyAS1n11MDjgJUbOSoYFQDHUXtw\n",
      "https://encrypted-tbn0.gstatic.com/images?q=tbn:ANd9GcSJXeewCJPWh-54SOFr_tzSnDIY43Otfe0vwUem90YYjLVe92Tf\n",
      "https://encrypted-tbn0.gstatic.com/images?q=tbn:ANd9GcSlBu5gciZwo7SAJXva3i0UeewBbo92UlvMc4SHw1xyS5Ytu-Y8pQ\n",
      "https://encrypted-tbn0.gstatic.com/images?q=tbn:ANd9GcSQZ8uZK_BTed98ALDv7OtcogR4vlb42tkOCO2TvLVS4pkERhdBtA\n",
      "https://encrypted-tbn0.gstatic.com/images?q=tbn:ANd9GcTMxIyki11wmV4dAvGBHk9Yv2AaFcKT_tfF_BjD3LlvmGuC0ujk\n",
      "https://encrypted-tbn0.gstatic.com/images?q=tbn:ANd9GcQixbaTgMBT_6bZfiGIK-nlmM3JyT9lqmBWpd7Vo5YYCaWWowlL_g\n",
      "https://encrypted-tbn0.gstatic.com/images?q=tbn:ANd9GcTKdShydZ10oGNycb9ope4pLNchFyQoQgLClo1K62LZaomkG6MO\n",
      "https://encrypted-tbn0.gstatic.com/images?q=tbn:ANd9GcSQtnIiG3KbaxkxAboOpPS0a3ag_B-86ojkU4nhF0HA9qEJIESx\n",
      "https://encrypted-tbn0.gstatic.com/images?q=tbn:ANd9GcQilS5_8DfiVoeYE8CmoV4NnwyDlM6jG1KpNM0ALIqz68PmyKKmoA\n",
      "https://encrypted-tbn0.gstatic.com/images?q=tbn:ANd9GcTqF_y-IPDd4bY_xNBQJXikAnDq-cPXCBif0MdGifSp_BkWHdE0pw\n",
      "https://encrypted-tbn0.gstatic.com/images?q=tbn:ANd9GcQ9S2pYJBKZQa7rK3jGF3GX8NU78ljV6ThYv0pRedOt6aGML4s0\n",
      "https://encrypted-tbn0.gstatic.com/images?q=tbn:ANd9GcSrDftPOgRRiyWGPTiA-5YJY-Gg2eyfzahIdHYznZRUdFpnzrz1\n",
      "https://encrypted-tbn0.gstatic.com/images?q=tbn:ANd9GcSU9ABJAI_ZYTd4Tcf7Px5sAW35-0qaVJPnpzgyqJXN7WGdWexI\n",
      "None\n",
      "None\n",
      "None\n",
      "None\n",
      "None\n",
      "None\n",
      "None\n",
      "None\n",
      "None\n",
      "None\n",
      "None\n",
      "None\n",
      "None\n",
      "None\n",
      "None\n",
      "None\n",
      "None\n",
      "None\n",
      "None\n",
      "None\n",
      "None\n",
      "None\n",
      "None\n",
      "None\n",
      "None\n",
      "None\n",
      "None\n",
      "None\n",
      "None\n",
      "None\n",
      "None\n",
      "None\n",
      "None\n",
      "None\n",
      "None\n",
      "None\n",
      "None\n",
      "None\n",
      "None\n",
      "None\n",
      "None\n",
      "None\n",
      "None\n",
      "None\n",
      "None\n",
      "None\n",
      "None\n",
      "None\n",
      "None\n",
      "None\n",
      "None\n",
      "None\n",
      "None\n",
      "None\n",
      "None\n",
      "None\n",
      "None\n",
      "None\n",
      "None\n",
      "None\n",
      "None\n",
      "None\n",
      "None\n",
      "None\n",
      "None\n",
      "None\n",
      "None\n",
      "None\n",
      "None\n",
      "None\n",
      "None\n",
      "None\n",
      "None\n",
      "None\n",
      "None\n",
      "None\n",
      "None\n",
      "None\n",
      "None\n",
      "None\n"
     ]
    }
   ],
   "source": [
    "for rec in soup.select('img'):\n",
    "    print(rec.get('src'))"
   ]
  },
  {
   "cell_type": "code",
   "execution_count": 13,
   "metadata": {},
   "outputs": [],
   "source": [
    "url = 'https://encrypted-tbn0.gstatic.com/images?q=tbn:ANd9GcQPbJ_ik29N84a9-Ha_UKReNSSIboFuPujREebJ4e7f668fXjCY'\n",
    "res = requests.get(url)\n",
    "with open('1.jpg', 'wb') as f:\n",
    "    f.write(res.content)"
   ]
  },
  {
   "cell_type": "code",
   "execution_count": 14,
   "metadata": {},
   "outputs": [],
   "source": [
    "url = 'https://encrypted-tbn0.gstatic.com/images?q=tbn:ANd9GcQPbJ_ik29N84a9-Ha_UKReNSSIboFuPujREebJ4e7f668fXjCY'\n",
    "res = requests.get(url)\n",
    "fname = url.split('tbn:')[1]\n",
    "with open('{}.jpg'.format(fname), 'wb') as f:\n",
    "    f.write(res.content)"
   ]
  },
  {
   "cell_type": "code",
   "execution_count": 22,
   "metadata": {},
   "outputs": [],
   "source": [
    "import requests\n",
    "from bs4 import BeautifulSoup\n",
    "url  = 'https://www.google.com/search?ei=1ZaVXJDSBa6Rr7wP9p-xuA8&yv=3&tbm=isch&q={}&vet=10ahUKEwjQkJTmmJfhAhWuyIsBHfZPDPcQuT0IogEoAQ.1ZaVXJDSBa6Rr7wP9p-xuA8.i&ved=0ahUKEwjQkJTmmJfhAhWuyIsBHfZPDPcQuT0IogEoAQ&ijn=1&start={}&asearch=ichunk&async=_id:rg_s,_pms:s,_fmt:pc'\n",
    "idolname = '金城武'\n",
    "startpos = 0\n",
    "res  = requests.get(url.format(idolname, startpos))\n",
    "soup = BeautifulSoup(res.text, 'lxml')\n",
    "for rec in soup.select('img'):\n",
    "    #print(rec)\n",
    "    if rec.get('src'):\n",
    "        imgurl = rec.get('src')\n",
    "    elif rec.get('data-src'):\n",
    "        imgurl = rec.get('data-src')\n",
    "    res   = requests.get(imgurl)\n",
    "    fname = imgurl.split('tbn:')[1]\n",
    "    with open('{}.jpg'.format(fname), 'wb') as f:\n",
    "        f.write(res.content)"
   ]
  },
  {
   "cell_type": "code",
   "execution_count": 24,
   "metadata": {},
   "outputs": [],
   "source": [
    "import requests\n",
    "from bs4 import BeautifulSoup\n",
    "import os\n",
    "\n",
    "def getIdolPicture(idolname, pages, dest):\n",
    "    # Create new destination directory\n",
    "    if not os.path.exists(dest):\n",
    "        os.mkdir(dest)\n",
    "    url  = 'https://www.google.com/search?ei=1ZaVXJDSBa6Rr7wP9p-xuA8&yv=3&tbm=isch&q={}&vet=10ahUKEwjQkJTmmJfhAhWuyIsBHfZPDPcQuT0IogEoAQ.1ZaVXJDSBa6Rr7wP9p-xuA8.i&ved=0ahUKEwjQkJTmmJfhAhWuyIsBHfZPDPcQuT0IogEoAQ&ijn=1&start={}&asearch=ichunk&async=_id:rg_s,_pms:s,_fmt:pc'\n",
    "    # change page\n",
    "    for i in range(pages):\n",
    "        startpos = i * 100\n",
    "        # get page info\n",
    "        res  = requests.get(url.format(idolname, startpos))\n",
    "        soup = BeautifulSoup(res.text, 'lxml')\n",
    "        # get picture\n",
    "        for rec in soup.select('img'):\n",
    "            #print(rec)\n",
    "            if rec.get('src'):\n",
    "                imgurl = rec.get('src')\n",
    "            elif rec.get('data-src'):\n",
    "                imgurl = rec.get('data-src')\n",
    "            res   = requests.get(imgurl)\n",
    "            fname = imgurl.split('tbn:')[1]\n",
    "            with open('{}/{}.jpg'.format(dest,fname), 'wb') as f:\n",
    "                f.write(res.content)"
   ]
  },
  {
   "cell_type": "code",
   "execution_count": 27,
   "metadata": {},
   "outputs": [],
   "source": [
    "getIdolPicture('林志玲', 3, 'chiling')"
   ]
  },
  {
   "cell_type": "code",
   "execution_count": 28,
   "metadata": {},
   "outputs": [],
   "source": [
    "getIdolPicture('周子瑜', 3, 'tzuyu')"
   ]
  },
  {
   "cell_type": "code",
   "execution_count": 29,
   "metadata": {},
   "outputs": [],
   "source": [
    "getIdolPicture('徐若瑄', 3, 'vivian')"
   ]
  },
  {
   "cell_type": "markdown",
   "metadata": {},
   "source": [
    "###  使用Opencv 截取人臉\n",
    "- https://download.lfd.uci.edu/pythonlibs/u2hcgva4/opencv_python-3.4.5-cp36-cp36m-win_amd64.whl\n",
    "- ! pip install opencv_python-3.4.5-cp36-cp36m-win_amd64.whl"
   ]
  },
  {
   "cell_type": "markdown",
   "metadata": {},
   "source": [
    "### Haar cascade\n",
    "- https://raw.githubusercontent.com/opencv/opencv/master/data/haarcascades/haarcascade_frontalface_default.xml"
   ]
  },
  {
   "cell_type": "code",
   "execution_count": 53,
   "metadata": {},
   "outputs": [
    {
     "data": {
      "image/png": "[encoded data removed]",
      "text/plain": [
       "<PIL.JpegImagePlugin.JpegImageFile image mode=RGB size=220x225 at 0x91B1A90>"
      ]
     },
     "execution_count": 53,
     "metadata": {},
     "output_type": "execute_result"
    }
   ],
   "source": [
    "from PIL import Image\n",
    "im = Image.open('chiling/ANd9GcQ0cZH9Ij5j_hbrIAxSEJiWgsTdBBuJsLwcvkN4ZshFmTj34pX51w.jpg')\n",
    "im"
   ]
  },
  {
   "cell_type": "code",
   "execution_count": 32,
   "metadata": {},
   "outputs": [
    {
     "data": {
      "text/plain": [
       "(225, 220, 3)"
      ]
     },
     "execution_count": 32,
     "metadata": {},
     "output_type": "execute_result"
    }
   ],
   "source": [
    "import cv2 as cv\n",
    "face_cascade = cv.CascadeClassifier('haarcascade_frontalface_default.xml')\n",
    "img = cv.imread('chiling/ANd9GcQ0cZH9Ij5j_hbrIAxSEJiWgsTdBBuJsLwcvkN4ZshFmTj34pX51w.jpg')\n",
    "img.shape"
   ]
  },
  {
   "cell_type": "code",
   "execution_count": 36,
   "metadata": {},
   "outputs": [],
   "source": [
    "?face_cascade.detectMultiScale"
   ]
  },
  {
   "cell_type": "code",
   "execution_count": 46,
   "metadata": {},
   "outputs": [],
   "source": [
    "faces = face_cascade.detectMultiScale(img, 1.1, 1)"
   ]
  },
  {
   "cell_type": "code",
   "execution_count": 47,
   "metadata": {},
   "outputs": [
    {
     "data": {
      "text/plain": [
       "array([[80, 30, 55, 55]], dtype=int32)"
      ]
     },
     "execution_count": 47,
     "metadata": {},
     "output_type": "execute_result"
    }
   ],
   "source": [
    "faces"
   ]
  },
  {
   "cell_type": "code",
   "execution_count": 49,
   "metadata": {},
   "outputs": [],
   "source": [
    "x,y,w,h = faces[0]"
   ]
  },
  {
   "cell_type": "code",
   "execution_count": 50,
   "metadata": {},
   "outputs": [],
   "source": [
    "box = (x, y, x+w, y+h)"
   ]
  },
  {
   "cell_type": "code",
   "execution_count": 54,
   "metadata": {},
   "outputs": [],
   "source": [
    "crpim = im.crop(box).resize((64,64))"
   ]
  },
  {
   "cell_type": "code",
   "execution_count": 56,
   "metadata": {},
   "outputs": [
    {
     "data": {
      "image/png": "[encoded data removed]",
      "text/plain": [
       "<PIL.Image.Image image mode=RGB size=64x64 at 0x91B1978>"
      ]
     },
     "execution_count": 56,
     "metadata": {},
     "output_type": "execute_result"
    }
   ],
   "source": [
    "crpim"
   ]
  },
  {
   "cell_type": "code",
   "execution_count": 57,
   "metadata": {},
   "outputs": [
    {
     "data": {
      "text/plain": [
       "(168, 300, 3)"
      ]
     },
     "execution_count": 57,
     "metadata": {},
     "output_type": "execute_result"
    }
   ],
   "source": [
    "import cv2 as cv\n",
    "face_cascade = cv.CascadeClassifier('haarcascade_frontalface_default.xml')\n",
    "img = cv.imread('chiling/ANd9GcRCmpPlP3fPUKlA10tc7UEwjF8rdnsXOpb12rJZitnCVx6sbjSt.jpg')\n",
    "img.shape"
   ]
  },
  {
   "cell_type": "code",
   "execution_count": 58,
   "metadata": {},
   "outputs": [],
   "source": [
    "faces = face_cascade.detectMultiScale(img, 1.1, 1)"
   ]
  },
  {
   "cell_type": "code",
   "execution_count": 59,
   "metadata": {},
   "outputs": [
    {
     "data": {
      "text/plain": [
       "array([[12, 16, 52, 52],\n",
       "       [71, 29, 78, 78]], dtype=int32)"
      ]
     },
     "execution_count": 59,
     "metadata": {},
     "output_type": "execute_result"
    }
   ],
   "source": [
    "faces"
   ]
  },
  {
   "cell_type": "code",
   "execution_count": 60,
   "metadata": {},
   "outputs": [
    {
     "data": {
      "text/plain": [
       "2"
      ]
     },
     "execution_count": 60,
     "metadata": {},
     "output_type": "execute_result"
    }
   ],
   "source": [
    "len(faces)"
   ]
  },
  {
   "cell_type": "code",
   "execution_count": 64,
   "metadata": {},
   "outputs": [],
   "source": [
    "src  = 'chiling/'\n",
    "dest = 'chiling_face/'\n",
    "if not os.path.exists(dest):\n",
    "    os.mkdir(dest)\n",
    "face_cascade = cv.CascadeClassifier('haarcascade_frontalface_default.xml')\n",
    "\n",
    "for filename in os.listdir(src):\n",
    "    #print(src + filename)\n",
    "    img = cv.imread(src + filename)\n",
    "    faces = face_cascade.detectMultiScale(img, 1.1, 1)\n",
    "    if len(faces) == 1:\n",
    "        im      = Image.open(src + filename)\n",
    "        x,y,w,h = faces[0]\n",
    "        box     = (x, y, x+w, y+h)\n",
    "        crpim   = im.crop(box).resize((64,64))\n",
    "        crpim.save(dest + filename)"
   ]
  },
  {
   "cell_type": "code",
   "execution_count": 65,
   "metadata": {},
   "outputs": [],
   "source": [
    "face_cascade = cv.CascadeClassifier('haarcascade_frontalface_default.xml')\n",
    "\n",
    "def cropIdolFace(src, dest):\n",
    "    if not os.path.exists(dest):\n",
    "        os.mkdir(dest)\n",
    "    for filename in os.listdir(src):\n",
    "        img = cv.imread(src + filename)\n",
    "        faces = face_cascade.detectMultiScale(img, 1.1, 1)\n",
    "        if len(faces) == 1:\n",
    "            im      = Image.open(src + filename)\n",
    "            x,y,w,h = faces[0]\n",
    "            box     = (x, y, x+w, y+h)\n",
    "            crpim   = im.crop(box).resize((64,64))\n",
    "            crpim.save(dest + filename)"
   ]
  },
  {
   "cell_type": "code",
   "execution_count": null,
   "metadata": {},
   "outputs": [],
   "source": [
    "cropIdolFace('chiling/', 'chiling_face/')"
   ]
  },
  {
   "cell_type": "code",
   "execution_count": 66,
   "metadata": {},
   "outputs": [],
   "source": [
    "cropIdolFace('tzuyu/', 'tzuyu_face/')"
   ]
  },
  {
   "cell_type": "code",
   "execution_count": 67,
   "metadata": {},
   "outputs": [],
   "source": [
    "cropIdolFace('vivian/', 'vivian_face/')"
   ]
  },
  {
   "cell_type": "markdown",
   "metadata": {},
   "source": [
    "### 建構卷積神經網路(CNN)"
   ]
  },
  {
   "cell_type": "code",
   "execution_count": 75,
   "metadata": {},
   "outputs": [
    {
     "name": "stdout",
     "output_type": "stream",
     "text": [
      "WARNING:tensorflow:From C:\\ProgramData\\Anaconda3\\lib\\site-packages\\keras\\backend\\tensorflow_backend.py:3445: calling dropout (from tensorflow.python.ops.nn_ops) with keep_prob is deprecated and will be removed in a future version.\n",
      "Instructions for updating:\n",
      "Please use `rate` instead of `keep_prob`. Rate should be set to `rate = 1 - keep_prob`.\n"
     ]
    }
   ],
   "source": [
    "from keras.models import Sequential \n",
    "from keras.layers import Conv2D\n",
    "from keras.layers import Dropout\n",
    "from keras.layers import MaxPooling2D \n",
    "from keras.layers import Flatten\n",
    "from keras.layers import Dense\n",
    "\n",
    "# Initialising the CNN\n",
    "classifier = Sequential()\n",
    "\n",
    "# Convolution\n",
    "classifier.add(Conv2D(32, (3, 3), input_shape = (64, 64,\n",
    "3), activation = 'relu',padding = 'same'))\n",
    "# Max Pooling\n",
    "classifier.add(MaxPooling2D(pool_size = (2, 2)))\n",
    "# Convolution\n",
    "classifier.add(Conv2D(32, (3, 3), activation = 'relu',padding = 'same'))\n",
    "# Max Pooling\n",
    "classifier.add(MaxPooling2D(pool_size = (2, 2)))\n",
    "# Flattening\n",
    "classifier.add(Flatten())\n",
    "\n",
    "# Fully Connected\n",
    "classifier.add(Dense(units = 128, activation = 'relu')) \n",
    "classifier.add(Dropout(rate=0.1)) \n",
    "classifier.add(Dense(units = 128, activation = 'relu')) \n",
    "classifier.add(Dropout(rate=0.1)) \n",
    "classifier.add(Dense(units = 3, activation = 'softmax'))\n",
    "\n",
    "classifier.compile(optimizer = 'adam', \n",
    "                        loss ='categorical_crossentropy', \n",
    "                     metrics = ['accuracy'])"
   ]
  },
  {
   "cell_type": "code",
   "execution_count": 76,
   "metadata": {},
   "outputs": [
    {
     "name": "stdout",
     "output_type": "stream",
     "text": [
      "_________________________________________________________________\n",
      "Layer (type)                 Output Shape              Param #   \n",
      "=================================================================\n",
      "conv2d_7 (Conv2D)            (None, 64, 64, 32)        896       \n",
      "_________________________________________________________________\n",
      "max_pooling2d_7 (MaxPooling2 (None, 32, 32, 32)        0         \n",
      "_________________________________________________________________\n",
      "conv2d_8 (Conv2D)            (None, 32, 32, 32)        9248      \n",
      "_________________________________________________________________\n",
      "max_pooling2d_8 (MaxPooling2 (None, 16, 16, 32)        0         \n",
      "_________________________________________________________________\n",
      "flatten_4 (Flatten)          (None, 8192)              0         \n",
      "_________________________________________________________________\n",
      "dense_10 (Dense)             (None, 128)               1048704   \n",
      "_________________________________________________________________\n",
      "dropout_1 (Dropout)          (None, 128)               0         \n",
      "_________________________________________________________________\n",
      "dense_11 (Dense)             (None, 128)               16512     \n",
      "_________________________________________________________________\n",
      "dropout_2 (Dropout)          (None, 128)               0         \n",
      "_________________________________________________________________\n",
      "dense_12 (Dense)             (None, 3)                 387       \n",
      "=================================================================\n",
      "Total params: 1,075,747\n",
      "Trainable params: 1,075,747\n",
      "Non-trainable params: 0\n",
      "_________________________________________________________________\n"
     ]
    }
   ],
   "source": [
    "classifier.summary()"
   ]
  },
  {
   "cell_type": "markdown",
   "metadata": {},
   "source": [
    "### 圖像增廣技術"
   ]
  },
  {
   "cell_type": "code",
   "execution_count": 77,
   "metadata": {},
   "outputs": [],
   "source": [
    "from keras.preprocessing.image import ImageDataGenerator\n",
    "\n",
    "train_datagen = ImageDataGenerator(rescale = 1./255,\n",
    "                                   shear_range = 0.2,     #x坐标保持不变，而对应的y坐标按比例发生平移\n",
    "                                   zoom_range = 0.2,      #可以让图片在长或宽的方向进行放大\n",
    "                                   horizontal_flip = True #水平翻转操作\n",
    "                                  )"
   ]
  },
  {
   "cell_type": "code",
   "execution_count": 78,
   "metadata": {},
   "outputs": [],
   "source": [
    "test_datagen = ImageDataGenerator(rescale = 1./255)"
   ]
  },
  {
   "cell_type": "markdown",
   "metadata": {},
   "source": [
    "### 將資料分為訓練與測試資料集"
   ]
  },
  {
   "cell_type": "code",
   "execution_count": 86,
   "metadata": {},
   "outputs": [],
   "source": [
    "import os\n",
    "if not os.path.exists('train/'):\n",
    "    os.mkdir('train/')\n",
    "if not os.path.exists('test/'):\n",
    "    os.mkdir('test/')"
   ]
  },
  {
   "cell_type": "code",
   "execution_count": 80,
   "metadata": {},
   "outputs": [],
   "source": [
    "import os\n",
    "len(list(os.listdir('chiling_face/')))\n",
    "dataset = list(os.listdir('chiling_face/'))\n",
    "\n",
    "from sklearn.model_selection import train_test_split\n",
    "train_data, test_data = train_test_split(dataset, test_size= 0.2, random_state = 42)"
   ]
  },
  {
   "cell_type": "code",
   "execution_count": 82,
   "metadata": {},
   "outputs": [
    {
     "data": {
      "text/plain": [
       "109"
      ]
     },
     "execution_count": 82,
     "metadata": {},
     "output_type": "execute_result"
    }
   ],
   "source": [
    "len(train_data)"
   ]
  },
  {
   "cell_type": "code",
   "execution_count": 83,
   "metadata": {},
   "outputs": [
    {
     "data": {
      "text/plain": [
       "28"
      ]
     },
     "execution_count": 83,
     "metadata": {},
     "output_type": "execute_result"
    }
   ],
   "source": [
    "len(test_data)"
   ]
  },
  {
   "cell_type": "code",
   "execution_count": 87,
   "metadata": {},
   "outputs": [],
   "source": [
    "if not os.path.exists('train/chiling_face/'):\n",
    "    os.mkdir('train/chiling_face/')\n",
    "if not os.path.exists('test/chiling_face/'):\n",
    "    os.mkdir('test/chiling_face/')\n",
    "    \n",
    "for f in train_data:\n",
    "    os.rename('chiling_face/' + f, 'train/chiling_face/' + f)\n",
    "for f in test_data:\n",
    "    os.rename('chiling_face/' + f, 'test/chiling_face/' + f)"
   ]
  },
  {
   "cell_type": "code",
   "execution_count": 88,
   "metadata": {},
   "outputs": [],
   "source": [
    "import os\n",
    "from sklearn.model_selection import train_test_split\n",
    "\n",
    "def splitDataset(dirs):\n",
    "    dataset = list(os.listdir(dirs))\n",
    "    train_data, test_data = train_test_split(dataset, test_size= 0.2, random_state = 42)\n",
    "    \n",
    "    if not os.path.exists('train/'+dirs):\n",
    "        os.mkdir('train/'+dirs)\n",
    "    if not os.path.exists('test/'+dirs):\n",
    "        os.mkdir('test/'+dirs)\n",
    "\n",
    "    for f in train_data:\n",
    "        os.rename(dirs + f, 'train/'+ dirs + f)\n",
    "    for f in test_data:\n",
    "        os.rename(dirs + f, 'test/' + dirs +f)"
   ]
  },
  {
   "cell_type": "code",
   "execution_count": 89,
   "metadata": {},
   "outputs": [],
   "source": [
    "splitDataset('chiling_face/')"
   ]
  },
  {
   "cell_type": "code",
   "execution_count": 90,
   "metadata": {},
   "outputs": [],
   "source": [
    "splitDataset('tzuyu_face/')"
   ]
  },
  {
   "cell_type": "code",
   "execution_count": 91,
   "metadata": {},
   "outputs": [],
   "source": [
    "splitDataset('vivian_face/')"
   ]
  },
  {
   "cell_type": "code",
   "execution_count": 92,
   "metadata": {},
   "outputs": [
    {
     "name": "stdout",
     "output_type": "stream",
     "text": [
      "Found 355 images belonging to 3 classes.\n"
     ]
    }
   ],
   "source": [
    "training_set = train_datagen.flow_from_directory(\n",
    "    'train/', target_size = (64, 64),\n",
    "     batch_size = 30,\n",
    "     class_mode = 'categorical')"
   ]
  },
  {
   "cell_type": "code",
   "execution_count": 93,
   "metadata": {},
   "outputs": [
    {
     "name": "stdout",
     "output_type": "stream",
     "text": [
      "Found 91 images belonging to 3 classes.\n"
     ]
    }
   ],
   "source": [
    "test_set = test_datagen.flow_from_directory(\n",
    "    'test/', target_size = (64, 64),\n",
    "    batch_size = 30, \n",
    "    class_mode = 'categorical')"
   ]
  },
  {
   "cell_type": "markdown",
   "metadata": {},
   "source": [
    "### 訓練神經網路"
   ]
  },
  {
   "cell_type": "code",
   "execution_count": 102,
   "metadata": {},
   "outputs": [
    {
     "name": "stderr",
     "output_type": "stream",
     "text": [
      "C:\\ProgramData\\Anaconda3\\lib\\site-packages\\ipykernel_launcher.py:6: UserWarning: The semantics of the Keras 2 argument `steps_per_epoch` is not the same as the Keras 1 argument `samples_per_epoch`. `steps_per_epoch` is the number of batches to draw from the generator at each epoch. Basically steps_per_epoch = samples_per_epoch/batch_size. Similarly `nb_val_samples`->`validation_steps` and `val_samples`->`steps` arguments have changed. Update your method calls accordingly.\n",
      "  \n",
      "C:\\ProgramData\\Anaconda3\\lib\\site-packages\\ipykernel_launcher.py:6: UserWarning: Update your `fit_generator` call to the Keras 2 API: `fit_generator(<keras_pre..., steps_per_epoch=30, verbose=1, validation_data=<keras_pre..., epochs=10, validation_steps=30)`\n",
      "  \n"
     ]
    },
    {
     "name": "stdout",
     "output_type": "stream",
     "text": [
      "Epoch 1/10\n",
      "30/30 [==============================] - 6s 185ms/step - loss: 0.0208 - acc: 0.9889 - val_loss: 2.2769 - val_acc: 0.7515\n",
      "Epoch 2/10\n",
      "30/30 [==============================] - 5s 169ms/step - loss: 0.0208 - acc: 0.9933 - val_loss: 2.1997 - val_acc: 0.7245\n",
      "Epoch 3/10\n",
      "30/30 [==============================] - 5s 156ms/step - loss: 0.0163 - acc: 0.9931 - val_loss: 2.1510 - val_acc: 0.7560\n",
      "Epoch 4/10\n",
      "30/30 [==============================] - 5s 158ms/step - loss: 0.0269 - acc: 0.9911 - val_loss: 2.2657 - val_acc: 0.7245\n",
      "Epoch 5/10\n",
      "30/30 [==============================] - 5s 161ms/step - loss: 0.0208 - acc: 0.9911 - val_loss: 2.0672 - val_acc: 0.7590\n",
      "Epoch 6/10\n",
      "30/30 [==============================] - 5s 158ms/step - loss: 0.0362 - acc: 0.9889 - val_loss: 2.1461 - val_acc: 0.7030\n",
      "Epoch 7/10\n",
      "30/30 [==============================] - 5s 168ms/step - loss: 0.0333 - acc: 0.9878 - val_loss: 1.9148 - val_acc: 0.7605\n",
      "Epoch 8/10\n",
      "30/30 [==============================] - 5s 171ms/step - loss: 0.0289 - acc: 0.9889 - val_loss: 2.3818 - val_acc: 0.7418\n",
      "Epoch 9/10\n",
      "30/30 [==============================] - 5s 164ms/step - loss: 0.0363 - acc: 0.9864 - val_loss: 2.2910 - val_acc: 0.6961\n",
      "Epoch 10/10\n",
      "30/30 [==============================] - 6s 188ms/step - loss: 0.0133 - acc: 0.9978 - val_loss: 1.8325 - val_acc: 0.7690\n"
     ]
    }
   ],
   "source": [
    "history = classifier.fit_generator(training_set,\n",
    "                         nb_epoch=10,\n",
    "                         nb_val_samples=30,\n",
    "                         steps_per_epoch = 30,\n",
    "                         verbose = 1,\n",
    "                         validation_data = test_set)"
   ]
  },
  {
   "cell_type": "markdown",
   "metadata": {},
   "source": [
    "### 使用模型分類圖片"
   ]
  },
  {
   "cell_type": "code",
   "execution_count": 145,
   "metadata": {},
   "outputs": [
    {
     "data": {
      "text/plain": [
       "(768, 1366, 3)"
      ]
     },
     "execution_count": 145,
     "metadata": {},
     "output_type": "execute_result"
    }
   ],
   "source": [
    "import cv2 as cv\n",
    "face_cascade = cv.CascadeClassifier('haarcascade_frontalface_default.xml')\n",
    "img = cv.imread('predict.jpg')\n",
    "img.shape"
   ]
  },
  {
   "cell_type": "code",
   "execution_count": 146,
   "metadata": {},
   "outputs": [],
   "source": [
    "faces = face_cascade.detectMultiScale(img, 1.5, 1)"
   ]
  },
  {
   "cell_type": "code",
   "execution_count": 147,
   "metadata": {},
   "outputs": [
    {
     "data": {
      "text/plain": [
       "array([[632, 303, 273, 273],\n",
       "       [444, 148,  81,  81]], dtype=int32)"
      ]
     },
     "execution_count": 147,
     "metadata": {},
     "output_type": "execute_result"
    }
   ],
   "source": [
    "faces"
   ]
  },
  {
   "cell_type": "code",
   "execution_count": 148,
   "metadata": {},
   "outputs": [],
   "source": [
    "im = Image.open('predict.jpg')\n",
    "x,y,w,h = faces[0]\n",
    "box     = (x, y, x+w, y+h)\n",
    "crpim   = im.crop(box).resize((64,64))\n",
    "crpim.save('predict_face.jpg')"
   ]
  },
  {
   "cell_type": "code",
   "execution_count": 149,
   "metadata": {},
   "outputs": [
    {
     "data": {
      "image/png": "[encoded data removed]",
      "text/plain": [
       "<PIL.Image.Image image mode=RGB size=64x64 at 0x1817A358>"
      ]
     },
     "execution_count": 149,
     "metadata": {},
     "output_type": "execute_result"
    }
   ],
   "source": [
    "crpim"
   ]
  },
  {
   "cell_type": "code",
   "execution_count": 150,
   "metadata": {},
   "outputs": [
    {
     "data": {
      "text/plain": [
       "(64, 64, 3)"
      ]
     },
     "execution_count": 150,
     "metadata": {},
     "output_type": "execute_result"
    }
   ],
   "source": [
    "import numpy as np\n",
    "from keras.preprocessing import image\n",
    "test_image = image.load_img('predict_face.jpg', target_size= (64,64))\n",
    "test_image = image.img_to_array(test_image)\n",
    "test_image.shape"
   ]
  },
  {
   "cell_type": "code",
   "execution_count": 151,
   "metadata": {},
   "outputs": [
    {
     "data": {
      "text/plain": [
       "(1, 64, 64, 3)"
      ]
     },
     "execution_count": 151,
     "metadata": {},
     "output_type": "execute_result"
    }
   ],
   "source": [
    "test_image = np.expand_dims(test_image, axis = 0)\n",
    "test_image.shape"
   ]
  },
  {
   "cell_type": "code",
   "execution_count": 152,
   "metadata": {},
   "outputs": [
    {
     "data": {
      "text/plain": [
       "array([0], dtype=int64)"
      ]
     },
     "execution_count": 152,
     "metadata": {},
     "output_type": "execute_result"
    }
   ],
   "source": [
    "classifier.predict_classes(test_image)"
   ]
  },
  {
   "cell_type": "code",
   "execution_count": 153,
   "metadata": {},
   "outputs": [
    {
     "data": {
      "text/plain": [
       "{'chiling_face': 0, 'tzuyu_face': 1, 'vivian_face': 2}"
      ]
     },
     "execution_count": 153,
     "metadata": {},
     "output_type": "execute_result"
    }
   ],
   "source": [
    "training_set.class_indices"
   ]
  },
  {
   "cell_type": "markdown",
   "metadata": {},
   "source": [
    "### Rename"
   ]
  },
  {
   "cell_type": "code",
   "execution_count": 154,
   "metadata": {},
   "outputs": [],
   "source": [
    "import os\n",
    "os.rename('1.jpg','1_test.jpg')"
   ]
  },
  {
   "cell_type": "code",
   "execution_count": 155,
   "metadata": {},
   "outputs": [],
   "source": [
    "os.mkdir('tmp')"
   ]
  },
  {
   "cell_type": "code",
   "execution_count": 157,
   "metadata": {},
   "outputs": [
    {
     "ename": "FileNotFoundError",
     "evalue": "[WinError 2] 系統找不到指定的檔案。: '1_test.jpg' -> 'tmp/1_test.jpg'",
     "output_type": "error",
     "traceback": [
      "\u001b[1;31m---------------------------------------------------------------------------\u001b[0m",
      "\u001b[1;31mFileNotFoundError\u001b[0m                         Traceback (most recent call last)",
      "\u001b[1;32m<ipython-input-157-3536d1906a04>\u001b[0m in \u001b[0;36m<module>\u001b[1;34m()\u001b[0m\n\u001b[1;32m----> 1\u001b[1;33m \u001b[0mos\u001b[0m\u001b[1;33m.\u001b[0m\u001b[0mrename\u001b[0m\u001b[1;33m(\u001b[0m\u001b[1;34m'1_test.jpg'\u001b[0m\u001b[1;33m,\u001b[0m \u001b[1;34m'tmp/1_test.jpg'\u001b[0m\u001b[1;33m)\u001b[0m\u001b[1;33m\u001b[0m\u001b[0m\n\u001b[0m",
      "\u001b[1;31mFileNotFoundError\u001b[0m: [WinError 2] 系統找不到指定的檔案。: '1_test.jpg' -> 'tmp/1_test.jpg'"
     ]
    }
   ],
   "source": [
    "os.rename('1_test.jpg', 'tmp/1_test.jpg')"
   ]
  },
  {
   "cell_type": "code",
   "execution_count": 158,
   "metadata": {},
   "outputs": [
    {
     "data": {
      "text/plain": [
       "'1_test.jpg'"
      ]
     },
     "execution_count": 158,
     "metadata": {},
     "output_type": "execute_result"
    }
   ],
   "source": [
    "import shutil\n",
    "shutil.copy('tmp/1_test.jpg','1_test.jpg')"
   ]
  },
  {
   "cell_type": "markdown",
   "metadata": {},
   "source": [
    "## 語音辨識\n",
    "- https://github.com/ywchiu/tibamedl/blob/master/CNN/Speech%20Recognition%20With%20Keras.ipyn"
   ]
  },
  {
   "cell_type": "markdown",
   "metadata": {},
   "source": [
    "### 安裝librosa"
   ]
  },
  {
   "cell_type": "code",
   "execution_count": 159,
   "metadata": {},
   "outputs": [
    {
     "name": "stdout",
     "output_type": "stream",
     "text": [
      "Collecting librosa\n",
      "  Downloading https://files.pythonhosted.org/packages/e9/7e/7a0f66f79a70a0a4c163ecf30429f6c1644c88654f135a9eee0bda457626/librosa-0.6.3.tar.gz (1.6MB)\n",
      "Collecting audioread>=2.0.0 (from librosa)\n",
      "  Downloading https://files.pythonhosted.org/packages/f0/41/8cd160c6b2046b997d571a744a7f398f39e954a62dd747b2aae1ad7f07d4/audioread-2.1.6.tar.gz\n",
      "Requirement already satisfied: numpy>=1.8.0 in c:\\programdata\\anaconda3\\lib\\site-packages (from librosa) (1.16.2)\n",
      "Requirement already satisfied: scipy>=1.0.0 in c:\\programdata\\anaconda3\\lib\\site-packages (from librosa) (1.1.0)\n",
      "Requirement already satisfied: scikit-learn!=0.19.0,>=0.14.0 in c:\\programdata\\anaconda3\\lib\\site-packages (from librosa) (0.19.1)\n",
      "Collecting joblib>=0.12 (from librosa)\n",
      "  Downloading https://files.pythonhosted.org/packages/cd/c1/50a758e8247561e58cb87305b1e90b171b8c767b15b12a1734001f41d356/joblib-0.13.2-py2.py3-none-any.whl (278kB)\n",
      "Requirement already satisfied: decorator>=3.0.0 in c:\\programdata\\anaconda3\\lib\\site-packages (from librosa) (4.3.0)\n",
      "Requirement already satisfied: six>=1.3 in c:\\programdata\\anaconda3\\lib\\site-packages (from librosa) (1.11.0)\n",
      "Collecting resampy>=0.2.0 (from librosa)\n",
      "  Downloading https://files.pythonhosted.org/packages/14/b6/66a06d85474190b50aee1a6c09cdc95bb405ac47338b27e9b21409da1760/resampy-0.2.1.tar.gz (322kB)\n",
      "Requirement already satisfied: numba>=0.38.0 in c:\\programdata\\anaconda3\\lib\\site-packages (from librosa) (0.38.0)\n",
      "Requirement already satisfied: llvmlite>=0.23.0dev0 in c:\\programdata\\anaconda3\\lib\\site-packages (from numba>=0.38.0->librosa) (0.23.1)\n",
      "Building wheels for collected packages: librosa, audioread, resampy\n",
      "  Running setup.py bdist_wheel for librosa: started\n",
      "  Running setup.py bdist_wheel for librosa: finished with status 'done'\n",
      "  Stored in directory: C:\\Users\\user\\AppData\\Local\\pip\\Cache\\wheels\\ce\\49\\68\\87ba660f30e3977f0778e39ee2e944629cd37c2a0ce41f9ff1\n",
      "  Running setup.py bdist_wheel for audioread: started\n",
      "  Running setup.py bdist_wheel for audioread: finished with status 'done'\n",
      "  Stored in directory: C:\\Users\\user\\AppData\\Local\\pip\\Cache\\wheels\\53\\02\\90\\7b5c4081b7470c550ab605f600bad237dde12a6b8999b11f50\n",
      "  Running setup.py bdist_wheel for resampy: started\n",
      "  Running setup.py bdist_wheel for resampy: finished with status 'done'\n",
      "  Stored in directory: C:\\Users\\user\\AppData\\Local\\pip\\Cache\\wheels\\ff\\4f\\ed\\2e6c676c23efe5394bb40ade50662e90eb46e29b48324c5f9b\n",
      "Successfully built librosa audioread resampy\n",
      "Installing collected packages: audioread, joblib, resampy, librosa\n",
      "Successfully installed audioread-2.1.6 joblib-0.13.2 librosa-0.6.3 resampy-0.2.1\n"
     ]
    },
    {
     "name": "stderr",
     "output_type": "stream",
     "text": [
      "distributed 1.21.8 requires msgpack, which is not installed.\n",
      "tensorflow 1.13.1 has requirement tensorboard<1.14.0,>=1.13.0, but you'll have tensorboard 1.12.2 which is incompatible.\n",
      "You are using pip version 10.0.1, however version 19.0.3 is available.\n",
      "You should consider upgrading via the 'python -m pip install --upgrade pip' command.\n"
     ]
    }
   ],
   "source": [
    "! pip install librosa"
   ]
  },
  {
   "cell_type": "code",
   "execution_count": 161,
   "metadata": {},
   "outputs": [
    {
     "name": "stdout",
     "output_type": "stream",
     "text": [
      "Collecting tqdm\n",
      "  Downloading https://files.pythonhosted.org/packages/6c/4b/c38b5144cf167c4f52288517436ccafefe9dc01b8d1c190e18a6b154cd4a/tqdm-4.31.1-py2.py3-none-any.whl (48kB)\n",
      "Installing collected packages: tqdm\n",
      "Successfully installed tqdm-4.31.1\n"
     ]
    },
    {
     "name": "stderr",
     "output_type": "stream",
     "text": [
      "distributed 1.21.8 requires msgpack, which is not installed.\n",
      "tensorflow 1.13.1 has requirement tensorboard<1.14.0,>=1.13.0, but you'll have tensorboard 1.12.2 which is incompatible.\n",
      "You are using pip version 10.0.1, however version 19.0.3 is available.\n",
      "You should consider upgrading via the 'python -m pip install --upgrade pip' command.\n"
     ]
    }
   ],
   "source": [
    "! pip install tqdm"
   ]
  },
  {
   "cell_type": "code",
   "execution_count": 162,
   "metadata": {},
   "outputs": [],
   "source": [
    "import librosa\n",
    "import os\n",
    "from sklearn.model_selection import train_test_split\n",
    "from keras.utils import to_categorical\n",
    "import numpy as np\n",
    "from tqdm import tqdm"
   ]
  },
  {
   "cell_type": "code",
   "execution_count": 164,
   "metadata": {},
   "outputs": [],
   "source": [
    "def get_labels(path='data'):\n",
    "    labels = os.listdir(path)\n",
    "    label_indices = np.arange(0, len(labels))\n",
    "    return labels, label_indices, to_categorical(label_indices)"
   ]
  },
  {
   "cell_type": "code",
   "execution_count": 165,
   "metadata": {},
   "outputs": [],
   "source": [
    "wave, sr = librosa.load('data/cat/00b01445_nohash_0.wav', mono=True, sr=None)"
   ]
  },
  {
   "cell_type": "code",
   "execution_count": 167,
   "metadata": {},
   "outputs": [
    {
     "data": {
      "text/plain": [
       "(16000,)"
      ]
     },
     "execution_count": 167,
     "metadata": {},
     "output_type": "execute_result"
    }
   ],
   "source": [
    "wave.shape"
   ]
  },
  {
   "cell_type": "code",
   "execution_count": 168,
   "metadata": {},
   "outputs": [],
   "source": [
    "mfcc = librosa.feature.mfcc(wave, sr=16000)"
   ]
  },
  {
   "cell_type": "code",
   "execution_count": 170,
   "metadata": {},
   "outputs": [
    {
     "data": {
      "text/plain": [
       "(20, 32)"
      ]
     },
     "execution_count": 170,
     "metadata": {},
     "output_type": "execute_result"
    }
   ],
   "source": [
    "mfcc.shape"
   ]
  },
  {
   "cell_type": "code",
   "execution_count": 171,
   "metadata": {},
   "outputs": [],
   "source": [
    "def wav2mfcc(file_path, max_len=11):\n",
    "    wave, sr = librosa.load(file_path, mono=True, sr=None)\n",
    "    wave = wave[::3]\n",
    "    mfcc = librosa.feature.mfcc(wave, sr=16000)\n",
    "\n",
    "    # If maximum length exceeds mfcc lengths then pad the remaining ones\n",
    "    if (max_len > mfcc.shape[1]):\n",
    "        pad_width = max_len - mfcc.shape[1]\n",
    "        mfcc = np.pad(mfcc, pad_width=((0, 0), (0, pad_width)), mode='constant')\n",
    "\n",
    "    # Else cutoff the remaining parts\n",
    "    else:\n",
    "        mfcc = mfcc[:, :max_len]\n",
    "    \n",
    "    return mfcc"
   ]
  },
  {
   "cell_type": "code",
   "execution_count": 173,
   "metadata": {},
   "outputs": [],
   "source": [
    "def save_data_to_array(path='data', max_len=11):\n",
    "    labels, _, _ = get_labels(path)\n",
    "\n",
    "    for label in labels:\n",
    "        # Init mfcc vectors\n",
    "        mfcc_vectors = []\n",
    "\n",
    "        wavfiles = [path + label + '/' + wavfile for wavfile in os.listdir(path + '/' + label)]\n",
    "        for wavfile in tqdm(wavfiles, \"Saving vectors of label - '{}'\".format(label)):\n",
    "            mfcc = wav2mfcc(wavfile, max_len=max_len)\n",
    "            mfcc_vectors.append(mfcc)\n",
    "        np.save(label + '.npy', mfcc_vectors)"
   ]
  },
  {
   "cell_type": "markdown",
   "metadata": {},
   "source": [
    "### 準備訓練與測試資料集"
   ]
  },
  {
   "cell_type": "code",
   "execution_count": 194,
   "metadata": {},
   "outputs": [],
   "source": [
    "def get_train_test(split_ratio=0.6, random_state=42):\n",
    "    # Get available labels\n",
    "    labels, indices, _ = get_labels(DATA_PATH)\n",
    "    print(labels)\n",
    "    # Getting first arrays\n",
    "    X = np.load(DATA_PATH + labels[0]   )\n",
    "    y = np.zeros(X.shape[0])\n",
    "\n",
    "    # Append all of the dataset into one single array, same goes for y\n",
    "    for i, label in enumerate(labels[1:]):\n",
    "        x = np.load(DATA_PATH + label )\n",
    "        X = np.vstack((X, x))\n",
    "        y = np.append(y, np.full(x.shape[0], fill_value= (i + 1)))\n",
    "\n",
    "    assert X.shape[0] == len(y)\n",
    "\n",
    "    return train_test_split(X, y, test_size= (1 - split_ratio), random_state=random_state, shuffle=True)"
   ]
  },
  {
   "cell_type": "code",
   "execution_count": 195,
   "metadata": {},
   "outputs": [],
   "source": [
    "def prepare_dataset(path='data'):\n",
    "    labels, _, _ = get_labels(path)\n",
    "    data = {}\n",
    "    for label in labels:\n",
    "        data[label] = {}\n",
    "        data[label]['path'] = [path  + label + '/' + wavfile for wavfile in os.listdir(path + '/' + label)]\n",
    "\n",
    "        vectors = []\n",
    "\n",
    "        for wavfile in data[label]['path']:\n",
    "            wave, sr = librosa.load(wavfile, mono=True, sr=None)\n",
    "            # Downsampling\n",
    "            wave = wave[::3]\n",
    "            mfcc = librosa.feature.mfcc(wave, sr=16000)\n",
    "            vectors.append(mfcc)\n",
    "\n",
    "        data[label]['mfcc'] = vectors\n",
    "\n",
    "    return data"
   ]
  },
  {
   "cell_type": "code",
   "execution_count": 196,
   "metadata": {},
   "outputs": [],
   "source": [
    "def load_dataset(path='data'):\n",
    "    data = prepare_dataset(path)\n",
    "\n",
    "    dataset = []\n",
    "\n",
    "    for key in data:\n",
    "        for mfcc in data[key]['mfcc']:\n",
    "            dataset.append((key, mfcc))\n",
    "\n",
    "    return dataset[:100]"
   ]
  },
  {
   "cell_type": "code",
   "execution_count": 202,
   "metadata": {},
   "outputs": [
    {
     "name": "stdout",
     "output_type": "stream",
     "text": [
      "['bed.npy', 'cat.npy', 'happy.npy']\n"
     ]
    }
   ],
   "source": [
    "import keras\n",
    "from keras.models import Sequential\n",
    "from keras.layers import Dense, Dropout, Flatten, Conv2D, MaxPooling2D\n",
    "from keras.utils import to_categorical\n",
    "\n",
    "DATA_PATH = \"./data/\"\n",
    "# Second dimension of the feature is dim2\n",
    "feature_dim_2 = 11\n",
    "\n",
    "# Save data to array file first\n",
    "# save_data_to_array(max_len=feature_dim_2)\n",
    "\n",
    "# # Loading train set and test set\n",
    "X_train, X_test, y_train, y_test = get_train_test()"
   ]
  },
  {
   "cell_type": "code",
   "execution_count": 203,
   "metadata": {},
   "outputs": [
    {
     "data": {
      "text/plain": [
       "(3112, 20, 11)"
      ]
     },
     "execution_count": 203,
     "metadata": {},
     "output_type": "execute_result"
    }
   ],
   "source": [
    "X_train.shape"
   ]
  },
  {
   "cell_type": "code",
   "execution_count": 204,
   "metadata": {},
   "outputs": [],
   "source": [
    "# # Feature dimension\n",
    "feature_dim_1 = 20\n",
    "channel = 1\n",
    "epochs = 10\n",
    "batch_size = 100\n",
    "num_classes = 3\n",
    "\n",
    "# Reshaping to perform 2D convolution\n",
    "X_train = X_train.reshape(X_train.shape[0], feature_dim_1, feature_dim_2, channel)\n",
    "X_test = X_test.reshape(X_test.shape[0], feature_dim_1, feature_dim_2, channel)\n",
    "\n",
    "y_train_hot = to_categorical(y_train)\n",
    "y_test_hot = to_categorical(y_test)"
   ]
  },
  {
   "cell_type": "code",
   "execution_count": 206,
   "metadata": {},
   "outputs": [
    {
     "data": {
      "text/plain": [
       "(3112, 20, 11, 1)"
      ]
     },
     "execution_count": 206,
     "metadata": {},
     "output_type": "execute_result"
    }
   ],
   "source": [
    "X_train.shape"
   ]
  },
  {
   "cell_type": "code",
   "execution_count": 208,
   "metadata": {},
   "outputs": [
    {
     "data": {
      "text/plain": [
       "(3112, 3)"
      ]
     },
     "execution_count": 208,
     "metadata": {},
     "output_type": "execute_result"
    }
   ],
   "source": [
    "y_train_hot.shape"
   ]
  },
  {
   "cell_type": "code",
   "execution_count": 209,
   "metadata": {},
   "outputs": [],
   "source": [
    "model = Sequential()\n",
    "# convolution\n",
    "model.add(Conv2D(32, kernel_size=(2, 2), activation='relu', input_shape=(feature_dim_1, feature_dim_2, channel)))\n",
    "model.add(Conv2D(48, kernel_size=(2, 2), activation='relu'))\n",
    "model.add(Conv2D(120, kernel_size=(2, 2), activation='relu'))\n",
    "\n",
    "# mat pooling\n",
    "model.add(MaxPooling2D(pool_size=(2, 2)))\n",
    "model.add(Dropout(0.25))\n",
    "\n",
    "# flattening\n",
    "model.add(Flatten())\n",
    "\n",
    "# fully connected\n",
    "model.add(Dense(128, activation='relu'))\n",
    "model.add(Dropout(0.25))\n",
    "model.add(Dense(64, activation='relu'))\n",
    "model.add(Dropout(0.4))\n",
    "model.add(Dense(num_classes, activation='softmax'))"
   ]
  },
  {
   "cell_type": "code",
   "execution_count": 210,
   "metadata": {},
   "outputs": [],
   "source": [
    "model.compile(loss='categorical_crossentropy',\n",
    "            optimizer='adam',\n",
    "            metrics=['accuracy'])"
   ]
  },
  {
   "cell_type": "code",
   "execution_count": 211,
   "metadata": {},
   "outputs": [
    {
     "name": "stdout",
     "output_type": "stream",
     "text": [
      "Train on 3112 samples, validate on 2076 samples\n",
      "Epoch 1/10\n",
      "3112/3112 [==============================] - ETA: 15s - loss: 6.1586 - acc: 0.34 - ETA: 8s - loss: 4.6280 - acc: 0.3400 - ETA: 6s - loss: 4.0750 - acc: 0.343 - ETA: 5s - loss: 3.6948 - acc: 0.342 - ETA: 4s - loss: 3.4185 - acc: 0.350 - ETA: 3s - loss: 3.2105 - acc: 0.351 - ETA: 3s - loss: 2.9652 - acc: 0.358 - ETA: 3s - loss: 2.7868 - acc: 0.356 - ETA: 2s - loss: 2.6646 - acc: 0.350 - ETA: 2s - loss: 2.5398 - acc: 0.350 - ETA: 2s - loss: 2.4260 - acc: 0.350 - ETA: 2s - loss: 2.3417 - acc: 0.350 - ETA: 2s - loss: 2.2612 - acc: 0.353 - ETA: 1s - loss: 2.1839 - acc: 0.355 - ETA: 1s - loss: 2.1210 - acc: 0.354 - ETA: 1s - loss: 2.0678 - acc: 0.356 - ETA: 1s - loss: 2.0163 - acc: 0.362 - ETA: 1s - loss: 1.9714 - acc: 0.362 - ETA: 1s - loss: 1.9296 - acc: 0.361 - ETA: 1s - loss: 1.8855 - acc: 0.365 - ETA: 1s - loss: 1.8462 - acc: 0.368 - ETA: 0s - loss: 1.8122 - acc: 0.371 - ETA: 0s - loss: 1.7785 - acc: 0.373 - ETA: 0s - loss: 1.7480 - acc: 0.378 - ETA: 0s - loss: 1.7181 - acc: 0.383 - ETA: 0s - loss: 1.6918 - acc: 0.387 - ETA: 0s - loss: 1.6684 - acc: 0.390 - ETA: 0s - loss: 1.6465 - acc: 0.392 - ETA: 0s - loss: 1.6252 - acc: 0.393 - ETA: 0s - loss: 1.6049 - acc: 0.395 - ETA: 0s - loss: 1.5860 - acc: 0.398 - 4s 1ms/step - loss: 1.5838 - acc: 0.3985 - val_loss: 0.9270 - val_acc: 0.7115\n",
      "Epoch 2/10\n",
      "3112/3112 [==============================] - ETA: 3s - loss: 0.9189 - acc: 0.580 - ETA: 2s - loss: 0.9488 - acc: 0.555 - ETA: 2s - loss: 0.9147 - acc: 0.580 - ETA: 2s - loss: 0.8990 - acc: 0.592 - ETA: 2s - loss: 0.9050 - acc: 0.588 - ETA: 2s - loss: 0.8969 - acc: 0.593 - ETA: 2s - loss: 0.8954 - acc: 0.594 - ETA: 2s - loss: 0.8978 - acc: 0.587 - ETA: 1s - loss: 0.9006 - acc: 0.584 - ETA: 1s - loss: 0.9035 - acc: 0.578 - ETA: 1s - loss: 0.8955 - acc: 0.577 - ETA: 1s - loss: 0.8815 - acc: 0.584 - ETA: 1s - loss: 0.8689 - acc: 0.593 - ETA: 1s - loss: 0.8647 - acc: 0.598 - ETA: 1s - loss: 0.8512 - acc: 0.605 - ETA: 1s - loss: 0.8482 - acc: 0.605 - ETA: 1s - loss: 0.8382 - acc: 0.612 - ETA: 1s - loss: 0.8388 - acc: 0.618 - ETA: 1s - loss: 0.8344 - acc: 0.623 - ETA: 0s - loss: 0.8338 - acc: 0.624 - ETA: 0s - loss: 0.8267 - acc: 0.629 - ETA: 0s - loss: 0.8225 - acc: 0.631 - ETA: 0s - loss: 0.8148 - acc: 0.637 - ETA: 0s - loss: 0.8101 - acc: 0.642 - ETA: 0s - loss: 0.8022 - acc: 0.646 - ETA: 0s - loss: 0.7950 - acc: 0.649 - ETA: 0s - loss: 0.7875 - acc: 0.655 - ETA: 0s - loss: 0.7835 - acc: 0.656 - ETA: 0s - loss: 0.7783 - acc: 0.659 - ETA: 0s - loss: 0.7706 - acc: 0.663 - ETA: 0s - loss: 0.7643 - acc: 0.665 - 3s 1ms/step - loss: 0.7628 - acc: 0.6665 - val_loss: 0.4709 - val_acc: 0.8242\n",
      "Epoch 3/10\n",
      "3112/3112 [==============================] - ETA: 2s - loss: 0.4418 - acc: 0.860 - ETA: 2s - loss: 0.5164 - acc: 0.805 - ETA: 2s - loss: 0.5780 - acc: 0.773 - ETA: 2s - loss: 0.5760 - acc: 0.772 - ETA: 2s - loss: 0.5855 - acc: 0.766 - ETA: 2s - loss: 0.5679 - acc: 0.780 - ETA: 2s - loss: 0.5599 - acc: 0.784 - ETA: 2s - loss: 0.5661 - acc: 0.790 - ETA: 2s - loss: 0.5904 - acc: 0.787 - ETA: 2s - loss: 0.5974 - acc: 0.788 - ETA: 1s - loss: 0.5963 - acc: 0.789 - ETA: 1s - loss: 0.5956 - acc: 0.786 - ETA: 1s - loss: 0.5908 - acc: 0.784 - ETA: 1s - loss: 0.5946 - acc: 0.777 - ETA: 1s - loss: 0.5897 - acc: 0.780 - ETA: 1s - loss: 0.5848 - acc: 0.781 - ETA: 1s - loss: 0.5882 - acc: 0.778 - ETA: 1s - loss: 0.5874 - acc: 0.778 - ETA: 1s - loss: 0.5866 - acc: 0.778 - ETA: 1s - loss: 0.5853 - acc: 0.778 - ETA: 0s - loss: 0.5827 - acc: 0.779 - ETA: 0s - loss: 0.5767 - acc: 0.782 - ETA: 0s - loss: 0.5779 - acc: 0.782 - ETA: 0s - loss: 0.5724 - acc: 0.783 - ETA: 0s - loss: 0.5690 - acc: 0.785 - ETA: 0s - loss: 0.5644 - acc: 0.785 - ETA: 0s - loss: 0.5670 - acc: 0.783 - ETA: 0s - loss: 0.5687 - acc: 0.783 - ETA: 0s - loss: 0.5661 - acc: 0.783 - ETA: 0s - loss: 0.5628 - acc: 0.785 - ETA: 0s - loss: 0.5568 - acc: 0.787 - 3s 1ms/step - loss: 0.5561 - acc: 0.7882 - val_loss: 0.3902 - val_acc: 0.8589\n",
      "Epoch 4/10\n",
      "3112/3112 [==============================] - ETA: 2s - loss: 0.4955 - acc: 0.840 - ETA: 2s - loss: 0.4350 - acc: 0.855 - ETA: 2s - loss: 0.4703 - acc: 0.853 - ETA: 2s - loss: 0.4453 - acc: 0.857 - ETA: 2s - loss: 0.4270 - acc: 0.862 - ETA: 2s - loss: 0.4136 - acc: 0.863 - ETA: 1s - loss: 0.4206 - acc: 0.857 - ETA: 1s - loss: 0.4177 - acc: 0.855 - ETA: 1s - loss: 0.4233 - acc: 0.853 - ETA: 1s - loss: 0.4280 - acc: 0.855 - ETA: 1s - loss: 0.4386 - acc: 0.856 - ETA: 1s - loss: 0.4486 - acc: 0.852 - ETA: 1s - loss: 0.4466 - acc: 0.850 - ETA: 1s - loss: 0.4479 - acc: 0.850 - ETA: 1s - loss: 0.4421 - acc: 0.851 - ETA: 1s - loss: 0.4412 - acc: 0.851 - ETA: 1s - loss: 0.4385 - acc: 0.850 - ETA: 1s - loss: 0.4388 - acc: 0.849 - ETA: 1s - loss: 0.4377 - acc: 0.848 - ETA: 0s - loss: 0.4370 - acc: 0.849 - ETA: 0s - loss: 0.4372 - acc: 0.846 - ETA: 0s - loss: 0.4321 - acc: 0.849 - ETA: 0s - loss: 0.4363 - acc: 0.845 - ETA: 0s - loss: 0.4370 - acc: 0.845 - ETA: 0s - loss: 0.4378 - acc: 0.843 - ETA: 0s - loss: 0.4384 - acc: 0.841 - ETA: 0s - loss: 0.4391 - acc: 0.840 - ETA: 0s - loss: 0.4421 - acc: 0.839 - ETA: 0s - loss: 0.4435 - acc: 0.838 - ETA: 0s - loss: 0.4400 - acc: 0.839 - ETA: 0s - loss: 0.4395 - acc: 0.839 - 3s 957us/step - loss: 0.4395 - acc: 0.8397 - val_loss: 0.3073 - val_acc: 0.9013\n",
      "Epoch 5/10\n",
      "3112/3112 [==============================] - ETA: 2s - loss: 0.3373 - acc: 0.890 - ETA: 2s - loss: 0.3084 - acc: 0.915 - ETA: 2s - loss: 0.3018 - acc: 0.923 - ETA: 2s - loss: 0.2776 - acc: 0.927 - ETA: 2s - loss: 0.2918 - acc: 0.916 - ETA: 2s - loss: 0.3064 - acc: 0.903 - ETA: 1s - loss: 0.3145 - acc: 0.900 - ETA: 1s - loss: 0.3394 - acc: 0.891 - ETA: 1s - loss: 0.3583 - acc: 0.882 - ETA: 1s - loss: 0.3453 - acc: 0.887 - ETA: 1s - loss: 0.3425 - acc: 0.888 - ETA: 1s - loss: 0.3388 - acc: 0.890 - ETA: 1s - loss: 0.3395 - acc: 0.886 - ETA: 1s - loss: 0.3342 - acc: 0.888 - ETA: 1s - loss: 0.3376 - acc: 0.886 - ETA: 1s - loss: 0.3351 - acc: 0.887 - ETA: 1s - loss: 0.3377 - acc: 0.882 - ETA: 1s - loss: 0.3375 - acc: 0.883 - ETA: 1s - loss: 0.3383 - acc: 0.884 - ETA: 0s - loss: 0.3403 - acc: 0.883 - ETA: 0s - loss: 0.3467 - acc: 0.879 - ETA: 0s - loss: 0.3428 - acc: 0.880 - ETA: 0s - loss: 0.3519 - acc: 0.878 - ETA: 0s - loss: 0.3502 - acc: 0.878 - ETA: 0s - loss: 0.3505 - acc: 0.877 - ETA: 0s - loss: 0.3478 - acc: 0.878 - ETA: 0s - loss: 0.3516 - acc: 0.877 - ETA: 0s - loss: 0.3516 - acc: 0.877 - ETA: 0s - loss: 0.3461 - acc: 0.880 - ETA: 0s - loss: 0.3443 - acc: 0.880 - ETA: 0s - loss: 0.3434 - acc: 0.881 - 3s 970us/step - loss: 0.3438 - acc: 0.8814 - val_loss: 0.3019 - val_acc: 0.9032\n",
      "Epoch 6/10\n",
      "3112/3112 [==============================] - ETA: 2s - loss: 0.3410 - acc: 0.860 - ETA: 2s - loss: 0.3601 - acc: 0.845 - ETA: 2s - loss: 0.3471 - acc: 0.860 - ETA: 2s - loss: 0.3140 - acc: 0.875 - ETA: 2s - loss: 0.3035 - acc: 0.878 - ETA: 2s - loss: 0.3237 - acc: 0.871 - ETA: 2s - loss: 0.3209 - acc: 0.877 - ETA: 1s - loss: 0.3305 - acc: 0.875 - ETA: 1s - loss: 0.3223 - acc: 0.882 - ETA: 1s - loss: 0.3148 - acc: 0.885 - ETA: 1s - loss: 0.3028 - acc: 0.891 - ETA: 1s - loss: 0.3109 - acc: 0.888 - ETA: 1s - loss: 0.3098 - acc: 0.888 - ETA: 1s - loss: 0.3041 - acc: 0.890 - ETA: 1s - loss: 0.3022 - acc: 0.891 - ETA: 1s - loss: 0.2959 - acc: 0.893 - ETA: 1s - loss: 0.2939 - acc: 0.894 - ETA: 1s - loss: 0.2941 - acc: 0.895 - ETA: 1s - loss: 0.2912 - acc: 0.895 - ETA: 0s - loss: 0.2944 - acc: 0.895 - ETA: 0s - loss: 0.2945 - acc: 0.896 - ETA: 0s - loss: 0.3001 - acc: 0.893 - ETA: 0s - loss: 0.3023 - acc: 0.891 - ETA: 0s - loss: 0.3048 - acc: 0.890 - ETA: 0s - loss: 0.3057 - acc: 0.890 - ETA: 0s - loss: 0.3059 - acc: 0.890 - ETA: 0s - loss: 0.3060 - acc: 0.891 - ETA: 0s - loss: 0.3037 - acc: 0.892 - ETA: 0s - loss: 0.3013 - acc: 0.894 - ETA: 0s - loss: 0.2977 - acc: 0.895 - ETA: 0s - loss: 0.2993 - acc: 0.895 - 3s 979us/step - loss: 0.2986 - acc: 0.8956 - val_loss: 0.2491 - val_acc: 0.9123\n",
      "Epoch 7/10\n"
     ]
    },
    {
     "name": "stdout",
     "output_type": "stream",
     "text": [
      "3112/3112 [==============================] - ETA: 2s - loss: 0.2606 - acc: 0.890 - ETA: 2s - loss: 0.2044 - acc: 0.920 - ETA: 2s - loss: 0.2087 - acc: 0.923 - ETA: 2s - loss: 0.2348 - acc: 0.917 - ETA: 2s - loss: 0.2363 - acc: 0.910 - ETA: 2s - loss: 0.2359 - acc: 0.905 - ETA: 2s - loss: 0.2408 - acc: 0.910 - ETA: 2s - loss: 0.2593 - acc: 0.906 - ETA: 1s - loss: 0.2462 - acc: 0.912 - ETA: 1s - loss: 0.2638 - acc: 0.906 - ETA: 1s - loss: 0.2693 - acc: 0.902 - ETA: 1s - loss: 0.2667 - acc: 0.905 - ETA: 1s - loss: 0.2694 - acc: 0.903 - ETA: 1s - loss: 0.2745 - acc: 0.902 - ETA: 1s - loss: 0.2723 - acc: 0.902 - ETA: 1s - loss: 0.2725 - acc: 0.902 - ETA: 1s - loss: 0.2712 - acc: 0.901 - ETA: 1s - loss: 0.2694 - acc: 0.903 - ETA: 1s - loss: 0.2714 - acc: 0.903 - ETA: 0s - loss: 0.2716 - acc: 0.904 - ETA: 0s - loss: 0.2661 - acc: 0.907 - ETA: 0s - loss: 0.2680 - acc: 0.908 - ETA: 0s - loss: 0.2677 - acc: 0.908 - ETA: 0s - loss: 0.2695 - acc: 0.905 - ETA: 0s - loss: 0.2703 - acc: 0.906 - ETA: 0s - loss: 0.2673 - acc: 0.907 - ETA: 0s - loss: 0.2617 - acc: 0.909 - ETA: 0s - loss: 0.2608 - acc: 0.909 - ETA: 0s - loss: 0.2591 - acc: 0.909 - ETA: 0s - loss: 0.2612 - acc: 0.909 - ETA: 0s - loss: 0.2604 - acc: 0.909 - 3s 955us/step - loss: 0.2603 - acc: 0.9091 - val_loss: 0.2541 - val_acc: 0.9051\n",
      "Epoch 8/10\n",
      "3112/3112 [==============================] - ETA: 2s - loss: 0.2301 - acc: 0.920 - ETA: 2s - loss: 0.2716 - acc: 0.895 - ETA: 2s - loss: 0.2620 - acc: 0.906 - ETA: 2s - loss: 0.2574 - acc: 0.905 - ETA: 2s - loss: 0.2750 - acc: 0.890 - ETA: 2s - loss: 0.2824 - acc: 0.895 - ETA: 2s - loss: 0.2698 - acc: 0.900 - ETA: 2s - loss: 0.2649 - acc: 0.901 - ETA: 1s - loss: 0.2627 - acc: 0.902 - ETA: 1s - loss: 0.2698 - acc: 0.900 - ETA: 1s - loss: 0.2801 - acc: 0.896 - ETA: 1s - loss: 0.2757 - acc: 0.896 - ETA: 1s - loss: 0.2721 - acc: 0.897 - ETA: 1s - loss: 0.2656 - acc: 0.902 - ETA: 1s - loss: 0.2640 - acc: 0.902 - ETA: 1s - loss: 0.2700 - acc: 0.900 - ETA: 1s - loss: 0.2750 - acc: 0.900 - ETA: 1s - loss: 0.2707 - acc: 0.901 - ETA: 1s - loss: 0.2652 - acc: 0.903 - ETA: 0s - loss: 0.2687 - acc: 0.902 - ETA: 0s - loss: 0.2637 - acc: 0.904 - ETA: 0s - loss: 0.2610 - acc: 0.905 - ETA: 0s - loss: 0.2540 - acc: 0.908 - ETA: 0s - loss: 0.2553 - acc: 0.907 - ETA: 0s - loss: 0.2555 - acc: 0.906 - ETA: 0s - loss: 0.2569 - acc: 0.906 - ETA: 0s - loss: 0.2534 - acc: 0.907 - ETA: 0s - loss: 0.2501 - acc: 0.908 - ETA: 0s - loss: 0.2457 - acc: 0.910 - ETA: 0s - loss: 0.2432 - acc: 0.912 - ETA: 0s - loss: 0.2439 - acc: 0.911 - 3s 1ms/step - loss: 0.2435 - acc: 0.9116 - val_loss: 0.2016 - val_acc: 0.9268\n",
      "Epoch 9/10\n",
      "3112/3112 [==============================] - ETA: 2s - loss: 0.1684 - acc: 0.940 - ETA: 2s - loss: 0.1575 - acc: 0.950 - ETA: 2s - loss: 0.1680 - acc: 0.953 - ETA: 2s - loss: 0.1981 - acc: 0.940 - ETA: 2s - loss: 0.2017 - acc: 0.938 - ETA: 1s - loss: 0.1868 - acc: 0.943 - ETA: 1s - loss: 0.1802 - acc: 0.942 - ETA: 1s - loss: 0.1701 - acc: 0.946 - ETA: 1s - loss: 0.1835 - acc: 0.940 - ETA: 1s - loss: 0.1928 - acc: 0.939 - ETA: 1s - loss: 0.1954 - acc: 0.939 - ETA: 1s - loss: 0.2035 - acc: 0.934 - ETA: 1s - loss: 0.2025 - acc: 0.934 - ETA: 1s - loss: 0.2029 - acc: 0.932 - ETA: 1s - loss: 0.2002 - acc: 0.934 - ETA: 1s - loss: 0.1975 - acc: 0.935 - ETA: 1s - loss: 0.1930 - acc: 0.936 - ETA: 1s - loss: 0.1923 - acc: 0.935 - ETA: 0s - loss: 0.1921 - acc: 0.934 - ETA: 0s - loss: 0.1927 - acc: 0.934 - ETA: 0s - loss: 0.2009 - acc: 0.930 - ETA: 0s - loss: 0.1986 - acc: 0.930 - ETA: 0s - loss: 0.1961 - acc: 0.930 - ETA: 0s - loss: 0.1981 - acc: 0.929 - ETA: 0s - loss: 0.1960 - acc: 0.930 - ETA: 0s - loss: 0.1930 - acc: 0.932 - ETA: 0s - loss: 0.1945 - acc: 0.932 - ETA: 0s - loss: 0.1930 - acc: 0.931 - ETA: 0s - loss: 0.1914 - acc: 0.933 - ETA: 0s - loss: 0.1905 - acc: 0.933 - ETA: 0s - loss: 0.1860 - acc: 0.935 - 3s 948us/step - loss: 0.1862 - acc: 0.9351 - val_loss: 0.2046 - val_acc: 0.9249\n",
      "Epoch 10/10\n",
      "3112/3112 [==============================] - ETA: 2s - loss: 0.2479 - acc: 0.920 - ETA: 2s - loss: 0.1739 - acc: 0.950 - ETA: 2s - loss: 0.1838 - acc: 0.946 - ETA: 2s - loss: 0.1953 - acc: 0.932 - ETA: 2s - loss: 0.1840 - acc: 0.938 - ETA: 2s - loss: 0.1821 - acc: 0.938 - ETA: 2s - loss: 0.1726 - acc: 0.944 - ETA: 1s - loss: 0.1775 - acc: 0.941 - ETA: 1s - loss: 0.1808 - acc: 0.941 - ETA: 1s - loss: 0.1809 - acc: 0.941 - ETA: 1s - loss: 0.1766 - acc: 0.943 - ETA: 1s - loss: 0.1801 - acc: 0.943 - ETA: 1s - loss: 0.1807 - acc: 0.943 - ETA: 1s - loss: 0.1792 - acc: 0.942 - ETA: 1s - loss: 0.1773 - acc: 0.942 - ETA: 1s - loss: 0.1781 - acc: 0.941 - ETA: 1s - loss: 0.1756 - acc: 0.941 - ETA: 1s - loss: 0.1726 - acc: 0.941 - ETA: 1s - loss: 0.1717 - acc: 0.940 - ETA: 0s - loss: 0.1693 - acc: 0.941 - ETA: 0s - loss: 0.1674 - acc: 0.941 - ETA: 0s - loss: 0.1648 - acc: 0.943 - ETA: 0s - loss: 0.1657 - acc: 0.942 - ETA: 0s - loss: 0.1678 - acc: 0.942 - ETA: 0s - loss: 0.1669 - acc: 0.943 - ETA: 0s - loss: 0.1659 - acc: 0.943 - ETA: 0s - loss: 0.1647 - acc: 0.943 - ETA: 0s - loss: 0.1634 - acc: 0.943 - ETA: 0s - loss: 0.1652 - acc: 0.943 - ETA: 0s - loss: 0.1643 - acc: 0.942 - ETA: 0s - loss: 0.1626 - acc: 0.943 - 3s 978us/step - loss: 0.1631 - acc: 0.9431 - val_loss: 0.1927 - val_acc: 0.9321\n"
     ]
    },
    {
     "data": {
      "text/plain": [
       "<keras.callbacks.History at 0x1ca105c0>"
      ]
     },
     "execution_count": 211,
     "metadata": {},
     "output_type": "execute_result"
    }
   ],
   "source": [
    "model.fit(X_train, y_train_hot, \n",
    "          batch_size=batch_size, \n",
    "          epochs=epochs, \n",
    "          verbose=1, \n",
    "          validation_data=(X_test, y_test_hot))"
   ]
  },
  {
   "cell_type": "code",
   "execution_count": 212,
   "metadata": {},
   "outputs": [],
   "source": [
    "# Predicts one sample\n",
    "def predict(filepath, model):\n",
    "    sample = wav2mfcc(filepath)\n",
    "    sample_reshaped = sample.reshape(1, feature_dim_1, feature_dim_2, channel)\n",
    "    return get_labels()[0][\n",
    "            np.argmax(model.predict(sample_reshaped))\n",
    "    ]"
   ]
  },
  {
   "cell_type": "code",
   "execution_count": 213,
   "metadata": {},
   "outputs": [
    {
     "data": {
      "text/plain": [
       "'happy.npy'"
      ]
     },
     "execution_count": 213,
     "metadata": {},
     "output_type": "execute_result"
    }
   ],
   "source": [
    "predict('0ab3b47d_nohash_0.wav', model)"
   ]
  },
  {
   "cell_type": "markdown",
   "metadata": {},
   "source": [
    "## 使用遞歸神經網路預測股票"
   ]
  },
  {
   "cell_type": "markdown",
   "metadata": {},
   "source": [
    "### 使用Pandas DataReader\n",
    "- ! pip install pandas-datareader"
   ]
  },
  {
   "cell_type": "code",
   "execution_count": 214,
   "metadata": {},
   "outputs": [
    {
     "name": "stdout",
     "output_type": "stream",
     "text": [
      "Collecting pandas-datareader\n",
      "  Downloading https://files.pythonhosted.org/packages/cc/5c/ea5b6dcfd0f55c5fb1e37fb45335ec01cceca199b8a79339137f5ed269e0/pandas_datareader-0.7.0-py2.py3-none-any.whl (111kB)\n",
      "Requirement already satisfied: lxml in c:\\programdata\\anaconda3\\lib\\site-packages (from pandas-datareader) (4.2.1)\n",
      "Requirement already satisfied: requests>=2.3.0 in c:\\programdata\\anaconda3\\lib\\site-packages (from pandas-datareader) (2.18.4)\n",
      "Requirement already satisfied: pandas>=0.19.2 in c:\\programdata\\anaconda3\\lib\\site-packages (from pandas-datareader) (0.23.0)\n",
      "Requirement already satisfied: wrapt in c:\\programdata\\anaconda3\\lib\\site-packages (from pandas-datareader) (1.10.11)\n",
      "Requirement already satisfied: chardet<3.1.0,>=3.0.2 in c:\\programdata\\anaconda3\\lib\\site-packages (from requests>=2.3.0->pandas-datareader) (3.0.4)\n",
      "Requirement already satisfied: idna<2.7,>=2.5 in c:\\programdata\\anaconda3\\lib\\site-packages (from requests>=2.3.0->pandas-datareader) (2.6)\n",
      "Requirement already satisfied: urllib3<1.23,>=1.21.1 in c:\\programdata\\anaconda3\\lib\\site-packages (from requests>=2.3.0->pandas-datareader) (1.22)\n",
      "Requirement already satisfied: certifi>=2017.4.17 in c:\\programdata\\anaconda3\\lib\\site-packages (from requests>=2.3.0->pandas-datareader) (2018.4.16)\n",
      "Requirement already satisfied: python-dateutil>=2.5.0 in c:\\programdata\\anaconda3\\lib\\site-packages (from pandas>=0.19.2->pandas-datareader) (2.7.3)\n",
      "Requirement already satisfied: pytz>=2011k in c:\\programdata\\anaconda3\\lib\\site-packages (from pandas>=0.19.2->pandas-datareader) (2018.4)\n",
      "Requirement already satisfied: numpy>=1.9.0 in c:\\programdata\\anaconda3\\lib\\site-packages (from pandas>=0.19.2->pandas-datareader) (1.16.2)\n",
      "Requirement already satisfied: six>=1.5 in c:\\programdata\\anaconda3\\lib\\site-packages (from python-dateutil>=2.5.0->pandas>=0.19.2->pandas-datareader) (1.11.0)\n",
      "Installing collected packages: pandas-datareader\n",
      "Successfully installed pandas-datareader-0.7.0\n"
     ]
    },
    {
     "name": "stderr",
     "output_type": "stream",
     "text": [
      "distributed 1.21.8 requires msgpack, which is not installed.\n",
      "tensorflow 1.13.1 has requirement tensorboard<1.14.0,>=1.13.0, but you'll have tensorboard 1.12.2 which is incompatible.\n",
      "You are using pip version 10.0.1, however version 19.0.3 is available.\n",
      "You should consider upgrading via the 'python -m pip install --upgrade pip' command.\n"
     ]
    }
   ],
   "source": [
    "! pip install pandas-datareader"
   ]
  },
  {
   "cell_type": "code",
   "execution_count": 1,
   "metadata": {},
   "outputs": [],
   "source": [
    "import pandas_datareader\n",
    "dataset = pandas_datareader.get_data_yahoo('2330.TW')"
   ]
  },
  {
   "cell_type": "code",
   "execution_count": 2,
   "metadata": {},
   "outputs": [
    {
     "data": {
      "text/html": [
       "<div>\n",
       "<style scoped>\n",
       "    .dataframe tbody tr th:only-of-type {\n",
       "        vertical-align: middle;\n",
       "    }\n",
       "\n",
       "    .dataframe tbody tr th {\n",
       "        vertical-align: top;\n",
       "    }\n",
       "\n",
       "    .dataframe thead th {\n",
       "        text-align: right;\n",
       "    }\n",
       "</style>\n",
       "<table border=\"1\" class=\"dataframe\">\n",
       "  <thead>\n",
       "    <tr style=\"text-align: right;\">\n",
       "      <th></th>\n",
       "      <th>High</th>\n",
       "      <th>Low</th>\n",
       "      <th>Open</th>\n",
       "      <th>Close</th>\n",
       "      <th>Volume</th>\n",
       "      <th>Adj Close</th>\n",
       "    </tr>\n",
       "    <tr>\n",
       "      <th>Date</th>\n",
       "      <th></th>\n",
       "      <th></th>\n",
       "      <th></th>\n",
       "      <th></th>\n",
       "      <th></th>\n",
       "      <th></th>\n",
       "    </tr>\n",
       "  </thead>\n",
       "  <tbody>\n",
       "    <tr>\n",
       "      <th>2019-03-18</th>\n",
       "      <td>241.0</td>\n",
       "      <td>239.0</td>\n",
       "      <td>239.5</td>\n",
       "      <td>241.0</td>\n",
       "      <td>26856532.0</td>\n",
       "      <td>241.0</td>\n",
       "    </tr>\n",
       "    <tr>\n",
       "      <th>2019-03-19</th>\n",
       "      <td>240.5</td>\n",
       "      <td>238.0</td>\n",
       "      <td>239.0</td>\n",
       "      <td>240.5</td>\n",
       "      <td>14479009.0</td>\n",
       "      <td>240.5</td>\n",
       "    </tr>\n",
       "    <tr>\n",
       "      <th>2019-03-20</th>\n",
       "      <td>242.0</td>\n",
       "      <td>239.5</td>\n",
       "      <td>242.0</td>\n",
       "      <td>242.0</td>\n",
       "      <td>22975971.0</td>\n",
       "      <td>242.0</td>\n",
       "    </tr>\n",
       "    <tr>\n",
       "      <th>2019-03-21</th>\n",
       "      <td>245.5</td>\n",
       "      <td>241.0</td>\n",
       "      <td>242.5</td>\n",
       "      <td>245.5</td>\n",
       "      <td>26179502.0</td>\n",
       "      <td>245.5</td>\n",
       "    </tr>\n",
       "    <tr>\n",
       "      <th>2019-03-22</th>\n",
       "      <td>248.5</td>\n",
       "      <td>244.5</td>\n",
       "      <td>248.0</td>\n",
       "      <td>248.5</td>\n",
       "      <td>22931467.0</td>\n",
       "      <td>248.5</td>\n",
       "    </tr>\n",
       "  </tbody>\n",
       "</table>\n",
       "</div>"
      ],
      "text/plain": [
       "             High    Low   Open  Close      Volume  Adj Close\n",
       "Date                                                         \n",
       "2019-03-18  241.0  239.0  239.5  241.0  26856532.0      241.0\n",
       "2019-03-19  240.5  238.0  239.0  240.5  14479009.0      240.5\n",
       "2019-03-20  242.0  239.5  242.0  242.0  22975971.0      242.0\n",
       "2019-03-21  245.5  241.0  242.5  245.5  26179502.0      245.5\n",
       "2019-03-22  248.5  244.5  248.0  248.5  22931467.0      248.5"
      ]
     },
     "execution_count": 2,
     "metadata": {},
     "output_type": "execute_result"
    }
   ],
   "source": [
    "dataset.tail()"
   ]
  },
  {
   "cell_type": "code",
   "execution_count": 3,
   "metadata": {},
   "outputs": [
    {
     "name": "stdout",
     "output_type": "stream",
     "text": [
      "Populating the interactive namespace from numpy and matplotlib\n"
     ]
    },
    {
     "data": {
      "text/plain": [
       "<matplotlib.axes._subplots.AxesSubplot at 0x10105828>"
      ]
     },
     "execution_count": 3,
     "metadata": {},
     "output_type": "execute_result"
    },
    {
     "data": {
      "image/png": "[encoded data removed]",
      "text/plain": [
       "<Figure size 432x288 with 1 Axes>"
      ]
     },
     "metadata": {},
     "output_type": "display_data"
    }
   ],
   "source": [
    "%pylab inline\n",
    "dataset['Close'].plot(kind = 'line')"
   ]
  },
  {
   "cell_type": "code",
   "execution_count": 4,
   "metadata": {},
   "outputs": [
    {
     "data": {
      "text/plain": [
       "2263"
      ]
     },
     "execution_count": 4,
     "metadata": {},
     "output_type": "execute_result"
    }
   ],
   "source": [
    "dataset['Close'].count()"
   ]
  },
  {
   "cell_type": "code",
   "execution_count": 5,
   "metadata": {},
   "outputs": [
    {
     "data": {
      "text/plain": [
       "1810.4"
      ]
     },
     "execution_count": 5,
     "metadata": {},
     "output_type": "execute_result"
    }
   ],
   "source": [
    "2263 * 0.8"
   ]
  },
  {
   "cell_type": "code",
   "execution_count": 6,
   "metadata": {},
   "outputs": [],
   "source": [
    "trainset = dataset.iloc[0:1800,3:4]"
   ]
  },
  {
   "cell_type": "code",
   "execution_count": 7,
   "metadata": {},
   "outputs": [],
   "source": [
    "testset  = dataset.iloc[1800:,3:4]"
   ]
  },
  {
   "cell_type": "code",
   "execution_count": 8,
   "metadata": {},
   "outputs": [
    {
     "data": {
      "text/plain": [
       "1800"
      ]
     },
     "execution_count": 8,
     "metadata": {},
     "output_type": "execute_result"
    }
   ],
   "source": [
    "len(trainset)"
   ]
  },
  {
   "cell_type": "code",
   "execution_count": 9,
   "metadata": {},
   "outputs": [
    {
     "data": {
      "text/plain": [
       "463"
      ]
     },
     "execution_count": 9,
     "metadata": {},
     "output_type": "execute_result"
    }
   ],
   "source": [
    "len(testset)"
   ]
  },
  {
   "cell_type": "code",
   "execution_count": 10,
   "metadata": {},
   "outputs": [
    {
     "data": {
      "text/plain": [
       "(1800, 1)"
      ]
     },
     "execution_count": 10,
     "metadata": {},
     "output_type": "execute_result"
    }
   ],
   "source": [
    "trainset.shape"
   ]
  },
  {
   "cell_type": "code",
   "execution_count": 11,
   "metadata": {},
   "outputs": [],
   "source": [
    "from sklearn.preprocessing import MinMaxScaler\n",
    "sc = MinMaxScaler(feature_range = (0, 1))\n",
    "training_set_scaled = sc.fit_transform(trainset)"
   ]
  },
  {
   "cell_type": "code",
   "execution_count": 12,
   "metadata": {},
   "outputs": [
    {
     "data": {
      "text/plain": [
       "array([[0.05587809],\n",
       "       [0.05297532],\n",
       "       [0.05587809],\n",
       "       ...,\n",
       "       [0.97097242],\n",
       "       [0.98548621],\n",
       "       [0.99637155]])"
      ]
     },
     "execution_count": 12,
     "metadata": {},
     "output_type": "execute_result"
    }
   ],
   "source": [
    "training_set_scaled"
   ]
  },
  {
   "cell_type": "code",
   "execution_count": 13,
   "metadata": {},
   "outputs": [],
   "source": [
    "import numpy as np\n",
    "X_train = []\n",
    "y_train = []\n",
    "for i in range(60, 1800):\n",
    "    X_train.append(training_set_scaled[i-60:i, 0])\n",
    "    y_train.append(training_set_scaled[i,0])\n",
    "X_train, y_train = np.array(X_train), np.array(y_train)"
   ]
  },
  {
   "cell_type": "code",
   "execution_count": 14,
   "metadata": {},
   "outputs": [
    {
     "data": {
      "text/plain": [
       "(1740, 60)"
      ]
     },
     "execution_count": 14,
     "metadata": {},
     "output_type": "execute_result"
    }
   ],
   "source": [
    "X_train.shape"
   ]
  },
  {
   "cell_type": "code",
   "execution_count": 15,
   "metadata": {},
   "outputs": [
    {
     "data": {
      "text/plain": [
       "(1740,)"
      ]
     },
     "execution_count": 15,
     "metadata": {},
     "output_type": "execute_result"
    }
   ],
   "source": [
    "y_train.shape"
   ]
  },
  {
   "cell_type": "code",
   "execution_count": 16,
   "metadata": {},
   "outputs": [],
   "source": [
    "X_train = np.reshape(X_train, (X_train.shape[0], X_train.shape[1], 1))"
   ]
  },
  {
   "cell_type": "code",
   "execution_count": 17,
   "metadata": {},
   "outputs": [
    {
     "data": {
      "text/plain": [
       "(1740, 60, 1)"
      ]
     },
     "execution_count": 17,
     "metadata": {},
     "output_type": "execute_result"
    }
   ],
   "source": [
    "X_train.shape"
   ]
  },
  {
   "cell_type": "code",
   "execution_count": 18,
   "metadata": {},
   "outputs": [
    {
     "name": "stderr",
     "output_type": "stream",
     "text": [
      "C:\\ProgramData\\Anaconda3\\lib\\site-packages\\h5py\\__init__.py:36: FutureWarning: Conversion of the second argument of issubdtype from `float` to `np.floating` is deprecated. In future, it will be treated as `np.float64 == np.dtype(float).type`.\n",
      "  from ._conv import register_converters as _register_converters\n",
      "Using TensorFlow backend.\n"
     ]
    },
    {
     "name": "stdout",
     "output_type": "stream",
     "text": [
      "WARNING:tensorflow:From C:\\ProgramData\\Anaconda3\\lib\\site-packages\\tensorflow\\python\\framework\\op_def_library.py:263: colocate_with (from tensorflow.python.framework.ops) is deprecated and will be removed in a future version.\n",
      "Instructions for updating:\n",
      "Colocations handled automatically by placer.\n",
      "WARNING:tensorflow:From C:\\ProgramData\\Anaconda3\\lib\\site-packages\\keras\\backend\\tensorflow_backend.py:3445: calling dropout (from tensorflow.python.ops.nn_ops) with keep_prob is deprecated and will be removed in a future version.\n",
      "Instructions for updating:\n",
      "Please use `rate` instead of `keep_prob`. Rate should be set to `rate = 1 - keep_prob`.\n"
     ]
    }
   ],
   "source": [
    "# Importing the Keras libraries and packages\n",
    "from keras.models import Sequential \n",
    "from keras.layers import Dense\n",
    "from keras.layers import LSTM\n",
    "from keras.layers import Dropout\n",
    "\n",
    "# Initialising the RNN\n",
    "regressor = Sequential()\n",
    "\n",
    "regressor.add(LSTM(units = 50, return_sequences = True, input_shape = (X_train.shape[1], 1)))\n",
    "regressor.add(Dropout(0.2))\n",
    "\n",
    "regressor.add(LSTM(units = 50, return_sequences = True)) \n",
    "regressor.add(Dropout(0.2))\n",
    "\n",
    "regressor.add(LSTM(units = 50, return_sequences = True)) \n",
    "regressor.add(Dropout(0.2))\n",
    "\n",
    "regressor.add(LSTM(units = 50))\n",
    "regressor.add(Dropout(0.2))\n",
    "\n",
    "regressor.add(Dense(units = 1))"
   ]
  },
  {
   "cell_type": "code",
   "execution_count": null,
   "metadata": {},
   "outputs": [
    {
     "name": "stdout",
     "output_type": "stream",
     "text": [
      "WARNING:tensorflow:From C:\\ProgramData\\Anaconda3\\lib\\site-packages\\tensorflow\\python\\ops\\math_ops.py:3066: to_int32 (from tensorflow.python.ops.math_ops) is deprecated and will be removed in a future version.\n",
      "Instructions for updating:\n",
      "Use tf.cast instead.\n",
      "Epoch 1/100\n",
      "1740/1740 [==============================] - 6s 4ms/step - loss: 0.0374\n",
      "Epoch 2/100\n",
      "1740/1740 [==============================] - 4s 2ms/step - loss: 0.0038\n",
      "Epoch 3/100\n",
      "1740/1740 [==============================] - 4s 2ms/step - loss: 0.0031\n",
      "Epoch 4/100\n",
      "1740/1740 [==============================] - 4s 2ms/step - loss: 0.0031\n",
      "Epoch 5/100\n",
      "1740/1740 [==============================] - 4s 2ms/step - loss: 0.0027\n",
      "Epoch 6/100\n",
      "1740/1740 [==============================] - 4s 2ms/step - loss: 0.0027\n",
      "Epoch 7/100\n",
      "1740/1740 [==============================] - 4s 2ms/step - loss: 0.0026\n",
      "Epoch 8/100\n",
      "1740/1740 [==============================] - 4s 2ms/step - loss: 0.0028\n",
      "Epoch 9/100\n",
      "1740/1740 [==============================] - 4s 2ms/step - loss: 0.0023\n",
      "Epoch 10/100\n",
      "1056/1740 [=================>............] - ETA: 1s - loss: 0.0030"
     ]
    }
   ],
   "source": [
    "# Compiling the RNN\n",
    "regressor.compile(optimizer = 'adam', loss = 'mean_squared_error')\n",
    "\n",
    "# Fitting the RNN to the Training set\n",
    "regressor.fit(X_train, y_train, epochs = 100, batch_size = 32)"
   ]
  },
  {
   "cell_type": "code",
   "execution_count": null,
   "metadata": {},
   "outputs": [],
   "source": []
  }
 ],
 "metadata": {
  "kernelspec": {
   "display_name": "Python 3",
   "language": "python",
   "name": "python3"
  },
  "language_info": {
   "codemirror_mode": {
    "name": "ipython",
    "version": 3
   },
   "file_extension": ".py",
   "mimetype": "text/x-python",
   "name": "python",
   "nbconvert_exporter": "python",
   "pygments_lexer": "ipython3",
   "version": "3.6.5"
  }
 },
 "nbformat": 4,
 "nbformat_minor": 2
}
